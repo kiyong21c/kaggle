{
  "cells": [
    {
      "cell_type": "markdown",
      "metadata": {
        "id": "view-in-github",
        "colab_type": "text"
      },
      "source": [
        "<a href=\"https://colab.research.google.com/github/kiyong21c/kaggle/blob/main/20220613_cat-in-dat_improve.ipynb\" target=\"_parent\"><img src=\"https://colab.research.google.com/assets/colab-badge.svg\" alt=\"Open In Colab\"/></a>"
      ]
    },
    {
      "cell_type": "code",
      "source": [
        "from google.colab import drive\n",
        "drive.mount('/content/drive')"
      ],
      "metadata": {
        "id": "wjp4yn4Z3ne8",
        "outputId": "caab586f-5e3a-4843-bcb7-3e78fb1d7316",
        "colab": {
          "base_uri": "https://localhost:8080/"
        }
      },
      "execution_count": 1,
      "outputs": [
        {
          "output_type": "stream",
          "name": "stdout",
          "text": [
            "Mounted at /content/drive\n"
          ]
        }
      ]
    },
    {
      "cell_type": "markdown",
      "source": [
        "# 성능 개선\n",
        " - 피처 엔지니어링 : 피처 맞춤 인코딩, 피처 스케일링\n",
        " - 하이퍼 파라미터 최적화 : 그리드 서치"
      ],
      "metadata": {
        "id": "bdj-orwLkvU3"
      }
    },
    {
      "cell_type": "markdown",
      "source": [
        " - 1. 인코딩을 피처 특성에 맞게 적용해야 함\n",
        " \n",
        "  > 이진 피처와 순서형 피처 ord_1, ord_2는 수작업 인코딩\n",
        "\n",
        "  > 순서형 피처 ord_3, ord_4, ord_5는 ordinal 인코딩\n",
        "\n",
        "  > 명목형 피처와 날짜 피처는 원-핫 인코딩"
      ],
      "metadata": {
        "id": "XrwrAyAN1-5_"
      }
    },
    {
      "cell_type": "markdown",
      "source": [
        " - 2. 피처 스케일링 적용(피처 간 값의 범위를 일치)\n",
        " \n",
        "  > 순서형 피처에만 피처 스케일링 적용\n",
        "\n",
        "  > 이진 피처, 명목형 피처, 날짜 피처는 인코딩 후 이미 최솟값:0, 최댓값:1로 범위가 일치하기 때문에 스케일링 필요 없음"
      ],
      "metadata": {
        "id": "ebtpz-Bd2Rn0"
      }
    },
    {
      "cell_type": "markdown",
      "source": [
        " - 3. 하이퍼파리미터 최적화"
      ],
      "metadata": {
        "id": "Jdx-z41E21uM"
      }
    },
    {
      "cell_type": "code",
      "source": [
        "import pandas as pd\n",
        "\n",
        "data_path = '/content/drive/MyDrive/Colab Notebooks/kaggle/input/cat-in-the-dat/'\n",
        "\n",
        "train = pd.read_csv(data_path + 'train.csv', index_col='id')\n",
        "test = pd.read_csv(data_path + 'test.csv', index_col='id')\n",
        "submission = pd.read_csv(data_path + 'sample_submission.csv', index_col='id')"
      ],
      "metadata": {
        "id": "cCVS4-wmkeZX"
      },
      "execution_count": 2,
      "outputs": []
    },
    {
      "cell_type": "markdown",
      "source": [
        "## 피처 엔지니어링 1 : 피처 맞춤 인코딩\n",
        " - 모든 피처를 일괄적으로 원-핫 인코딩 하는것 보다 피처 특성에 맞게 인코딩하면 성능 개선"
      ],
      "metadata": {
        "id": "s9hLZB1o3yVB"
      }
    },
    {
      "cell_type": "markdown",
      "source": [
        "#### 데이터 합치기"
      ],
      "metadata": {
        "id": "FNnbpVJ7Mz0a"
      }
    },
    {
      "cell_type": "code",
      "source": [
        "all_data = pd.concat([train, test])\n",
        "all_data = all_data.drop('target', axis=1) # 타깃값 제거"
      ],
      "metadata": {
        "id": "b2BT2A2J3tuw"
      },
      "execution_count": 3,
      "outputs": []
    },
    {
      "cell_type": "markdown",
      "source": [
        "#### 이진 피처 인코딩\n",
        " - bin_0, bin_1, bin_2 피처는 이미 0, 1로 구성\n",
        " - bin_3, bin_4 피처는 T, F, Y, N 으로 구성 : 각각 1, 0으로 변경"
      ],
      "metadata": {
        "id": "cvhnT0-uZvGy"
      }
    },
    {
      "cell_type": "code",
      "source": [
        "# Series 객체에 map() 함수를 호출하면, Series의 모든 원소에 적용해 결과 반환\n",
        "all_data['bin_3'] = all_data['bin_3'].map({'F':0, 'T':1})\n",
        "all_data['bin_4'] = all_data['bin_4'].map({'N':0, 'Y':1})"
      ],
      "metadata": {
        "id": "eBOGAJ-9Zxdx"
      },
      "execution_count": 4,
      "outputs": []
    },
    {
      "cell_type": "markdown",
      "source": [
        "#### 순서형 피처 인코딩"
      ],
      "metadata": {
        "id": "AwP15MnFavPh"
      }
    },
    {
      "cell_type": "code",
      "source": [
        "ord_features = ['ord_0','ord_1','ord_2','ord_3','ord_4','ord_5']\n",
        "\n",
        "for i, feature in enumerate(ord_features):\n",
        "    print(f'{feature} 고윳값 : {all_data[feature].unique()}')"
      ],
      "metadata": {
        "id": "jKbzvwRfanx8",
        "outputId": "0db3f18d-6726-48fe-f9bc-a995dbf7fb32",
        "colab": {
          "base_uri": "https://localhost:8080/"
        }
      },
      "execution_count": 5,
      "outputs": [
        {
          "output_type": "stream",
          "name": "stdout",
          "text": [
            "ord_0 고윳값 : [2 1 3]\n",
            "ord_1 고윳값 : ['Grandmaster' 'Expert' 'Novice' 'Contributor' 'Master']\n",
            "ord_2 고윳값 : ['Cold' 'Hot' 'Lava Hot' 'Boiling Hot' 'Freezing' 'Warm']\n",
            "ord_3 고윳값 : ['h' 'a' 'i' 'j' 'g' 'e' 'd' 'b' 'k' 'f' 'l' 'n' 'o' 'c' 'm']\n",
            "ord_4 고윳값 : ['D' 'A' 'R' 'E' 'P' 'K' 'V' 'Q' 'Z' 'L' 'F' 'T' 'U' 'S' 'Y' 'B' 'H' 'J'\n",
            " 'N' 'G' 'W' 'I' 'O' 'C' 'X' 'M']\n",
            "ord_5 고윳값 : ['kr' 'bF' 'Jc' 'kW' 'qP' 'PZ' 'wy' 'Ed' 'qo' 'CZ' 'qX' 'su' 'dP' 'aP'\n",
            " 'MV' 'oC' 'RL' 'fh' 'gJ' 'Hj' 'TR' 'CL' 'Sc' 'eQ' 'kC' 'qK' 'dh' 'gM'\n",
            " 'Jf' 'fO' 'Eg' 'KZ' 'Vx' 'Fo' 'sV' 'eb' 'YC' 'RG' 'Ye' 'qA' 'lL' 'Qh'\n",
            " 'Bd' 'be' 'hT' 'lF' 'nX' 'kK' 'av' 'uS' 'Jt' 'PA' 'Er' 'Qb' 'od' 'ut'\n",
            " 'Dx' 'Xi' 'on' 'Dc' 'sD' 'rZ' 'Uu' 'sn' 'yc' 'Gb' 'Kq' 'dQ' 'hp' 'kL'\n",
            " 'je' 'CU' 'Fd' 'PQ' 'Bn' 'ex' 'hh' 'ac' 'rp' 'dE' 'oG' 'oK' 'cp' 'mm'\n",
            " 'vK' 'ek' 'dO' 'XI' 'CM' 'Vf' 'aO' 'qv' 'jp' 'Zq' 'Qo' 'DN' 'TZ' 'ke'\n",
            " 'cG' 'tP' 'ud' 'tv' 'aM' 'xy' 'lx' 'To' 'uy' 'ZS' 'vy' 'ZR' 'AP' 'GJ'\n",
            " 'Wv' 'ri' 'qw' 'Xh' 'FI' 'nh' 'KR' 'dB' 'BE' 'Bb' 'mc' 'MC' 'tM' 'NV'\n",
            " 'ih' 'IK' 'Ob' 'RP' 'dN' 'us' 'dZ' 'yN' 'Nf' 'QM' 'jV' 'sY' 'wu' 'SB'\n",
            " 'UO' 'Mx' 'JX' 'Ry' 'Uk' 'uJ' 'LE' 'ps' 'kE' 'MO' 'kw' 'yY' 'zU' 'bJ'\n",
            " 'Kf' 'ck' 'mb' 'Os' 'Ps' 'Ml' 'Ai' 'Wc' 'GD' 'll' 'aF' 'iT' 'cA' 'WE'\n",
            " 'Gx' 'Nk' 'OR' 'Rm' 'BA' 'eG' 'cW' 'jS' 'DH' 'hL' 'Mf' 'Yb' 'Aj' 'oH'\n",
            " 'Zc' 'qJ' 'eg' 'xP' 'vq' 'Id' 'pa' 'ux' 'kU' 'Cl']\n"
          ]
        }
      ]
    },
    {
      "cell_type": "markdown",
      "source": [
        " - ord_0 피처는 이미 숫자 : 인코딩 필요X\n",
        " - ord_1, ord_2 : 숫자를 정해서 인코딩\n",
        " - ord_3 ~ ord_5 : 알파벳 순서로 인코딩"
      ],
      "metadata": {
        "id": "SlWBIckBfBcm"
      }
    },
    {
      "cell_type": "code",
      "source": [
        "ord1dict = {'Novice':0, 'Contributor':1, 'Expert':2, 'Master':3, 'Grandmaster':4}\n",
        "ord2dict = {'Freezing':0, 'Cold':1, 'Warm':2, 'Hot':3, 'Boiling Hot':4, 'Lava Hot':5}\n",
        "\n",
        "all_data['ord_1'] = all_data['ord_1'].map(ord1dict)\n",
        "all_data['ord_2'] = all_data['ord_2'].map(ord2dict)\n",
        "\n",
        "ord_features = ['ord_0','ord_1','ord_2','ord_3','ord_4','ord_5']\n",
        "\n",
        "for i, feature in enumerate(ord_features):\n",
        "    print(f'{feature} 고윳값 : {all_data[feature].unique()}')"
      ],
      "metadata": {
        "id": "1Ojbf3cEbPu-",
        "outputId": "59458518-ebd2-498c-8adb-93234c92a0b2",
        "colab": {
          "base_uri": "https://localhost:8080/"
        }
      },
      "execution_count": 6,
      "outputs": [
        {
          "output_type": "stream",
          "name": "stdout",
          "text": [
            "ord_0 고윳값 : [2 1 3]\n",
            "ord_1 고윳값 : [4 2 0 1 3]\n",
            "ord_2 고윳값 : [1 3 5 4 0 2]\n",
            "ord_3 고윳값 : ['h' 'a' 'i' 'j' 'g' 'e' 'd' 'b' 'k' 'f' 'l' 'n' 'o' 'c' 'm']\n",
            "ord_4 고윳값 : ['D' 'A' 'R' 'E' 'P' 'K' 'V' 'Q' 'Z' 'L' 'F' 'T' 'U' 'S' 'Y' 'B' 'H' 'J'\n",
            " 'N' 'G' 'W' 'I' 'O' 'C' 'X' 'M']\n",
            "ord_5 고윳값 : ['kr' 'bF' 'Jc' 'kW' 'qP' 'PZ' 'wy' 'Ed' 'qo' 'CZ' 'qX' 'su' 'dP' 'aP'\n",
            " 'MV' 'oC' 'RL' 'fh' 'gJ' 'Hj' 'TR' 'CL' 'Sc' 'eQ' 'kC' 'qK' 'dh' 'gM'\n",
            " 'Jf' 'fO' 'Eg' 'KZ' 'Vx' 'Fo' 'sV' 'eb' 'YC' 'RG' 'Ye' 'qA' 'lL' 'Qh'\n",
            " 'Bd' 'be' 'hT' 'lF' 'nX' 'kK' 'av' 'uS' 'Jt' 'PA' 'Er' 'Qb' 'od' 'ut'\n",
            " 'Dx' 'Xi' 'on' 'Dc' 'sD' 'rZ' 'Uu' 'sn' 'yc' 'Gb' 'Kq' 'dQ' 'hp' 'kL'\n",
            " 'je' 'CU' 'Fd' 'PQ' 'Bn' 'ex' 'hh' 'ac' 'rp' 'dE' 'oG' 'oK' 'cp' 'mm'\n",
            " 'vK' 'ek' 'dO' 'XI' 'CM' 'Vf' 'aO' 'qv' 'jp' 'Zq' 'Qo' 'DN' 'TZ' 'ke'\n",
            " 'cG' 'tP' 'ud' 'tv' 'aM' 'xy' 'lx' 'To' 'uy' 'ZS' 'vy' 'ZR' 'AP' 'GJ'\n",
            " 'Wv' 'ri' 'qw' 'Xh' 'FI' 'nh' 'KR' 'dB' 'BE' 'Bb' 'mc' 'MC' 'tM' 'NV'\n",
            " 'ih' 'IK' 'Ob' 'RP' 'dN' 'us' 'dZ' 'yN' 'Nf' 'QM' 'jV' 'sY' 'wu' 'SB'\n",
            " 'UO' 'Mx' 'JX' 'Ry' 'Uk' 'uJ' 'LE' 'ps' 'kE' 'MO' 'kw' 'yY' 'zU' 'bJ'\n",
            " 'Kf' 'ck' 'mb' 'Os' 'Ps' 'Ml' 'Ai' 'Wc' 'GD' 'll' 'aF' 'iT' 'cA' 'WE'\n",
            " 'Gx' 'Nk' 'OR' 'Rm' 'BA' 'eG' 'cW' 'jS' 'DH' 'hL' 'Mf' 'Yb' 'Aj' 'oH'\n",
            " 'Zc' 'qJ' 'eg' 'xP' 'vq' 'Id' 'pa' 'ux' 'kU' 'Cl']\n"
          ]
        }
      ]
    },
    {
      "cell_type": "markdown",
      "source": [
        " - ord_3, ord_4, ord_5 : 알파펫 순서대로 인코딩\n",
        " - 사이킷런의 OrdinalEncoder 사용\n",
        " - 알파벳순서대로 map() 적용해도 되지만 고윳값 개수가 많아 번거롭다"
      ],
      "metadata": {
        "id": "5qRUw7QOXeZL"
      }
    },
    {
      "cell_type": "code",
      "source": [
        "from sklearn.preprocessing import OrdinalEncoder\n",
        "\n",
        "ord_345 = ['ord_3', 'ord_4', 'ord_5']\n",
        "\n",
        "ord_encoder = OrdinalEncoder() # 인코더 객체 생성\n",
        "\n",
        "all_data[ord_345] = ord_encoder.fit_transform(all_data[ord_345]) # 인코딩 적용\n",
        "\n",
        "for i, feature in enumerate(ord_features):\n",
        "    print(f'{feature} 고윳값 : {all_data[feature].unique()}')"
      ],
      "metadata": {
        "id": "nD8-R1nPXZ-E",
        "outputId": "4d01ff6c-4204-47ca-ca36-21199adf10a3",
        "colab": {
          "base_uri": "https://localhost:8080/"
        }
      },
      "execution_count": 7,
      "outputs": [
        {
          "output_type": "stream",
          "name": "stdout",
          "text": [
            "ord_0 고윳값 : [2 1 3]\n",
            "ord_1 고윳값 : [4 2 0 1 3]\n",
            "ord_2 고윳값 : [1 3 5 4 0 2]\n",
            "ord_3 고윳값 : [ 7.  0.  8.  9.  6.  4.  3.  1. 10.  5. 11. 13. 14.  2. 12.]\n",
            "ord_4 고윳값 : [ 3.  0. 17.  4. 15. 10. 21. 16. 25. 11.  5. 19. 20. 18. 24.  1.  7.  9.\n",
            " 13.  6. 22.  8. 14.  2. 23. 12.]\n",
            "ord_5 고윳값 : [136.  93.  31. 134. 158.  53. 185.  17. 160.  11. 159. 170. 105.  90.\n",
            "  41. 147.  60. 116. 117.  27.  66.   8.  65. 110. 129. 157. 108. 118.\n",
            "  32. 115.  18.  35.  73.  22. 167. 111.  80.  59.  82. 155. 139.  57.\n",
            "   6.  95. 120. 138. 145. 131.  92. 175.  33.  51.  19.  56. 151. 178.\n",
            "  16.  79. 152.  15. 166. 163.  71. 169. 190.  25.  37. 106. 122. 132.\n",
            " 127.  10.  21.  52.   7. 114. 121.  91. 165. 102. 148. 150. 100. 144.\n",
            " 181. 113. 104.  77.   9.  72.  89. 161. 128.  86.  58.  14.  67. 135.\n",
            "  97. 172. 176. 173.  88. 187. 141.  68. 180.  84. 183.  83.   0.  24.\n",
            "  76. 164. 162.  78.  20. 146.  34. 101.   4.   5. 143.  39. 171.  45.\n",
            " 124.  28.  49.  61. 103. 177. 107. 188.  46.  55. 126. 168. 184.  64.\n",
            "  69.  44.  30.  63.  70. 174.  38. 154. 130.  40. 137. 189. 191.  94.\n",
            "  36.  99. 142.  50.  54.  43.   1.  75.  23. 140.  87. 123.  96.  74.\n",
            "  26.  47.  48.  62.   3. 109.  98. 125.  13. 119.  42.  81.   2. 149.\n",
            "  85. 156. 112. 186. 182.  29. 153. 179. 133.  12.]\n"
          ]
        }
      ]
    },
    {
      "cell_type": "markdown",
      "source": [
        " - 인코딩이 완료됨\n",
        " - 어떤순서로 인코딩 했는지 알고 싶다면 : ord_encoder.categories_"
      ],
      "metadata": {
        "id": "h-jS-4NuYgET"
      }
    },
    {
      "cell_type": "code",
      "source": [
        "ord_encoder.categories_"
      ],
      "metadata": {
        "id": "XdPXxaAGYdQb",
        "outputId": "575962a5-f594-405c-d3a5-d0d3cd524d3d",
        "colab": {
          "base_uri": "https://localhost:8080/"
        }
      },
      "execution_count": 8,
      "outputs": [
        {
          "output_type": "execute_result",
          "data": {
            "text/plain": [
              "[array(['a', 'b', 'c', 'd', 'e', 'f', 'g', 'h', 'i', 'j', 'k', 'l', 'm',\n",
              "        'n', 'o'], dtype=object),\n",
              " array(['A', 'B', 'C', 'D', 'E', 'F', 'G', 'H', 'I', 'J', 'K', 'L', 'M',\n",
              "        'N', 'O', 'P', 'Q', 'R', 'S', 'T', 'U', 'V', 'W', 'X', 'Y', 'Z'],\n",
              "       dtype=object),\n",
              " array(['AP', 'Ai', 'Aj', 'BA', 'BE', 'Bb', 'Bd', 'Bn', 'CL', 'CM', 'CU',\n",
              "        'CZ', 'Cl', 'DH', 'DN', 'Dc', 'Dx', 'Ed', 'Eg', 'Er', 'FI', 'Fd',\n",
              "        'Fo', 'GD', 'GJ', 'Gb', 'Gx', 'Hj', 'IK', 'Id', 'JX', 'Jc', 'Jf',\n",
              "        'Jt', 'KR', 'KZ', 'Kf', 'Kq', 'LE', 'MC', 'MO', 'MV', 'Mf', 'Ml',\n",
              "        'Mx', 'NV', 'Nf', 'Nk', 'OR', 'Ob', 'Os', 'PA', 'PQ', 'PZ', 'Ps',\n",
              "        'QM', 'Qb', 'Qh', 'Qo', 'RG', 'RL', 'RP', 'Rm', 'Ry', 'SB', 'Sc',\n",
              "        'TR', 'TZ', 'To', 'UO', 'Uk', 'Uu', 'Vf', 'Vx', 'WE', 'Wc', 'Wv',\n",
              "        'XI', 'Xh', 'Xi', 'YC', 'Yb', 'Ye', 'ZR', 'ZS', 'Zc', 'Zq', 'aF',\n",
              "        'aM', 'aO', 'aP', 'ac', 'av', 'bF', 'bJ', 'be', 'cA', 'cG', 'cW',\n",
              "        'ck', 'cp', 'dB', 'dE', 'dN', 'dO', 'dP', 'dQ', 'dZ', 'dh', 'eG',\n",
              "        'eQ', 'eb', 'eg', 'ek', 'ex', 'fO', 'fh', 'gJ', 'gM', 'hL', 'hT',\n",
              "        'hh', 'hp', 'iT', 'ih', 'jS', 'jV', 'je', 'jp', 'kC', 'kE', 'kK',\n",
              "        'kL', 'kU', 'kW', 'ke', 'kr', 'kw', 'lF', 'lL', 'll', 'lx', 'mb',\n",
              "        'mc', 'mm', 'nX', 'nh', 'oC', 'oG', 'oH', 'oK', 'od', 'on', 'pa',\n",
              "        'ps', 'qA', 'qJ', 'qK', 'qP', 'qX', 'qo', 'qv', 'qw', 'rZ', 'ri',\n",
              "        'rp', 'sD', 'sV', 'sY', 'sn', 'su', 'tM', 'tP', 'tv', 'uJ', 'uS',\n",
              "        'ud', 'us', 'ut', 'ux', 'uy', 'vK', 'vq', 'vy', 'wu', 'wy', 'xP',\n",
              "        'xy', 'yN', 'yY', 'yc', 'zU'], dtype=object)]"
            ]
          },
          "metadata": {},
          "execution_count": 8
        }
      ]
    },
    {
      "cell_type": "markdown",
      "source": [
        "#### 명목형 피처 인코딩\n",
        " - 순서 무시해도 되므로 원-핫 인코딩 적용"
      ],
      "metadata": {
        "id": "9fzW3oGWblE4"
      }
    },
    {
      "cell_type": "code",
      "source": [
        "# List Comprehension : 지능형 리스트\n",
        "nom_features = ['nom_' + str(i) for i in range(10)]\n",
        "print(nom_features)"
      ],
      "metadata": {
        "id": "MXvjc780Zaqw",
        "outputId": "fc9d639c-dee3-439a-9ebc-97ed8b8f779b",
        "colab": {
          "base_uri": "https://localhost:8080/"
        }
      },
      "execution_count": 9,
      "outputs": [
        {
          "output_type": "stream",
          "name": "stdout",
          "text": [
            "['nom_0', 'nom_1', 'nom_2', 'nom_3', 'nom_4', 'nom_5', 'nom_6', 'nom_7', 'nom_8', 'nom_9']\n"
          ]
        }
      ]
    },
    {
      "cell_type": "markdown",
      "source": [
        " - 원-핫 인코딩하면 열 개수가 늘어나서 all_data에 곧바로 인코딩할 수 없다\n",
        " - 희소 행렬을 CSR 형식으로 반환한다\n",
        "  > 원-핫 인코딩을 적용하면, 대부분 값이 0으로 채워진 '희소 행렬'을 만든다\n",
        "\n",
        "  > 메모리 낭비, 행렬의 크기가 늘어나 연산시간 증가\n",
        "\n",
        "  > 개선을 위해 COO, CSR 형식을 자동으로 사용"
      ],
      "metadata": {
        "id": "8mfFgyVtcK3A"
      }
    },
    {
      "cell_type": "code",
      "source": [
        "all_data[nom_features].shape"
      ],
      "metadata": {
        "id": "IdJoJzqvb9zL",
        "outputId": "b390a192-2549-47e0-db0c-c17513d40f66",
        "colab": {
          "base_uri": "https://localhost:8080/"
        }
      },
      "execution_count": 10,
      "outputs": [
        {
          "output_type": "execute_result",
          "data": {
            "text/plain": [
              "(500000, 10)"
            ]
          },
          "metadata": {},
          "execution_count": 10
        }
      ]
    },
    {
      "cell_type": "code",
      "source": [
        "all_data[nom_features].head()"
      ],
      "metadata": {
        "id": "BrwN8-HTc7DA",
        "outputId": "63f7ab2c-1b9c-4cdc-b966-ade52d33921b",
        "colab": {
          "base_uri": "https://localhost:8080/",
          "height": 299
        }
      },
      "execution_count": 11,
      "outputs": [
        {
          "output_type": "execute_result",
          "data": {
            "text/plain": [
              "    nom_0      nom_1    nom_2    nom_3     nom_4      nom_5      nom_6  \\\n",
              "id                                                                       \n",
              "0   Green   Triangle    Snake  Finland   Bassoon  50f116bcf  3ac1b8814   \n",
              "1   Green  Trapezoid  Hamster   Russia     Piano  b3b4d25d0  fbcb50fc1   \n",
              "2    Blue  Trapezoid     Lion   Russia  Theremin  3263bdce5  0922e3cb8   \n",
              "3     Red  Trapezoid    Snake   Canada      Oboe  f12246592  50d7ad46a   \n",
              "4     Red  Trapezoid     Lion   Canada      Oboe  5b0f5acd5  1fe17a1fd   \n",
              "\n",
              "        nom_7      nom_8      nom_9  \n",
              "id                                   \n",
              "0   68f6ad3e9  c389000ab  2f4cb3d51  \n",
              "1   3b6dd5612  4cd920251  f83c56c21  \n",
              "2   a6a36f527  de9c9f684  ae6800dd0  \n",
              "3   ec69236eb  4ade6ab69  8270f0d71  \n",
              "4   04ddac2be  cb43ab175  b164b72a7  "
            ],
            "text/html": [
              "\n",
              "  <div id=\"df-a71295e3-681f-42eb-bf8c-4ba8cdf04d19\">\n",
              "    <div class=\"colab-df-container\">\n",
              "      <div>\n",
              "<style scoped>\n",
              "    .dataframe tbody tr th:only-of-type {\n",
              "        vertical-align: middle;\n",
              "    }\n",
              "\n",
              "    .dataframe tbody tr th {\n",
              "        vertical-align: top;\n",
              "    }\n",
              "\n",
              "    .dataframe thead th {\n",
              "        text-align: right;\n",
              "    }\n",
              "</style>\n",
              "<table border=\"1\" class=\"dataframe\">\n",
              "  <thead>\n",
              "    <tr style=\"text-align: right;\">\n",
              "      <th></th>\n",
              "      <th>nom_0</th>\n",
              "      <th>nom_1</th>\n",
              "      <th>nom_2</th>\n",
              "      <th>nom_3</th>\n",
              "      <th>nom_4</th>\n",
              "      <th>nom_5</th>\n",
              "      <th>nom_6</th>\n",
              "      <th>nom_7</th>\n",
              "      <th>nom_8</th>\n",
              "      <th>nom_9</th>\n",
              "    </tr>\n",
              "    <tr>\n",
              "      <th>id</th>\n",
              "      <th></th>\n",
              "      <th></th>\n",
              "      <th></th>\n",
              "      <th></th>\n",
              "      <th></th>\n",
              "      <th></th>\n",
              "      <th></th>\n",
              "      <th></th>\n",
              "      <th></th>\n",
              "      <th></th>\n",
              "    </tr>\n",
              "  </thead>\n",
              "  <tbody>\n",
              "    <tr>\n",
              "      <th>0</th>\n",
              "      <td>Green</td>\n",
              "      <td>Triangle</td>\n",
              "      <td>Snake</td>\n",
              "      <td>Finland</td>\n",
              "      <td>Bassoon</td>\n",
              "      <td>50f116bcf</td>\n",
              "      <td>3ac1b8814</td>\n",
              "      <td>68f6ad3e9</td>\n",
              "      <td>c389000ab</td>\n",
              "      <td>2f4cb3d51</td>\n",
              "    </tr>\n",
              "    <tr>\n",
              "      <th>1</th>\n",
              "      <td>Green</td>\n",
              "      <td>Trapezoid</td>\n",
              "      <td>Hamster</td>\n",
              "      <td>Russia</td>\n",
              "      <td>Piano</td>\n",
              "      <td>b3b4d25d0</td>\n",
              "      <td>fbcb50fc1</td>\n",
              "      <td>3b6dd5612</td>\n",
              "      <td>4cd920251</td>\n",
              "      <td>f83c56c21</td>\n",
              "    </tr>\n",
              "    <tr>\n",
              "      <th>2</th>\n",
              "      <td>Blue</td>\n",
              "      <td>Trapezoid</td>\n",
              "      <td>Lion</td>\n",
              "      <td>Russia</td>\n",
              "      <td>Theremin</td>\n",
              "      <td>3263bdce5</td>\n",
              "      <td>0922e3cb8</td>\n",
              "      <td>a6a36f527</td>\n",
              "      <td>de9c9f684</td>\n",
              "      <td>ae6800dd0</td>\n",
              "    </tr>\n",
              "    <tr>\n",
              "      <th>3</th>\n",
              "      <td>Red</td>\n",
              "      <td>Trapezoid</td>\n",
              "      <td>Snake</td>\n",
              "      <td>Canada</td>\n",
              "      <td>Oboe</td>\n",
              "      <td>f12246592</td>\n",
              "      <td>50d7ad46a</td>\n",
              "      <td>ec69236eb</td>\n",
              "      <td>4ade6ab69</td>\n",
              "      <td>8270f0d71</td>\n",
              "    </tr>\n",
              "    <tr>\n",
              "      <th>4</th>\n",
              "      <td>Red</td>\n",
              "      <td>Trapezoid</td>\n",
              "      <td>Lion</td>\n",
              "      <td>Canada</td>\n",
              "      <td>Oboe</td>\n",
              "      <td>5b0f5acd5</td>\n",
              "      <td>1fe17a1fd</td>\n",
              "      <td>04ddac2be</td>\n",
              "      <td>cb43ab175</td>\n",
              "      <td>b164b72a7</td>\n",
              "    </tr>\n",
              "  </tbody>\n",
              "</table>\n",
              "</div>\n",
              "      <button class=\"colab-df-convert\" onclick=\"convertToInteractive('df-a71295e3-681f-42eb-bf8c-4ba8cdf04d19')\"\n",
              "              title=\"Convert this dataframe to an interactive table.\"\n",
              "              style=\"display:none;\">\n",
              "        \n",
              "  <svg xmlns=\"http://www.w3.org/2000/svg\" height=\"24px\"viewBox=\"0 0 24 24\"\n",
              "       width=\"24px\">\n",
              "    <path d=\"M0 0h24v24H0V0z\" fill=\"none\"/>\n",
              "    <path d=\"M18.56 5.44l.94 2.06.94-2.06 2.06-.94-2.06-.94-.94-2.06-.94 2.06-2.06.94zm-11 1L8.5 8.5l.94-2.06 2.06-.94-2.06-.94L8.5 2.5l-.94 2.06-2.06.94zm10 10l.94 2.06.94-2.06 2.06-.94-2.06-.94-.94-2.06-.94 2.06-2.06.94z\"/><path d=\"M17.41 7.96l-1.37-1.37c-.4-.4-.92-.59-1.43-.59-.52 0-1.04.2-1.43.59L10.3 9.45l-7.72 7.72c-.78.78-.78 2.05 0 2.83L4 21.41c.39.39.9.59 1.41.59.51 0 1.02-.2 1.41-.59l7.78-7.78 2.81-2.81c.8-.78.8-2.07 0-2.86zM5.41 20L4 18.59l7.72-7.72 1.47 1.35L5.41 20z\"/>\n",
              "  </svg>\n",
              "      </button>\n",
              "      \n",
              "  <style>\n",
              "    .colab-df-container {\n",
              "      display:flex;\n",
              "      flex-wrap:wrap;\n",
              "      gap: 12px;\n",
              "    }\n",
              "\n",
              "    .colab-df-convert {\n",
              "      background-color: #E8F0FE;\n",
              "      border: none;\n",
              "      border-radius: 50%;\n",
              "      cursor: pointer;\n",
              "      display: none;\n",
              "      fill: #1967D2;\n",
              "      height: 32px;\n",
              "      padding: 0 0 0 0;\n",
              "      width: 32px;\n",
              "    }\n",
              "\n",
              "    .colab-df-convert:hover {\n",
              "      background-color: #E2EBFA;\n",
              "      box-shadow: 0px 1px 2px rgba(60, 64, 67, 0.3), 0px 1px 3px 1px rgba(60, 64, 67, 0.15);\n",
              "      fill: #174EA6;\n",
              "    }\n",
              "\n",
              "    [theme=dark] .colab-df-convert {\n",
              "      background-color: #3B4455;\n",
              "      fill: #D2E3FC;\n",
              "    }\n",
              "\n",
              "    [theme=dark] .colab-df-convert:hover {\n",
              "      background-color: #434B5C;\n",
              "      box-shadow: 0px 1px 3px 1px rgba(0, 0, 0, 0.15);\n",
              "      filter: drop-shadow(0px 1px 2px rgba(0, 0, 0, 0.3));\n",
              "      fill: #FFFFFF;\n",
              "    }\n",
              "  </style>\n",
              "\n",
              "      <script>\n",
              "        const buttonEl =\n",
              "          document.querySelector('#df-a71295e3-681f-42eb-bf8c-4ba8cdf04d19 button.colab-df-convert');\n",
              "        buttonEl.style.display =\n",
              "          google.colab.kernel.accessAllowed ? 'block' : 'none';\n",
              "\n",
              "        async function convertToInteractive(key) {\n",
              "          const element = document.querySelector('#df-a71295e3-681f-42eb-bf8c-4ba8cdf04d19');\n",
              "          const dataTable =\n",
              "            await google.colab.kernel.invokeFunction('convertToInteractive',\n",
              "                                                     [key], {});\n",
              "          if (!dataTable) return;\n",
              "\n",
              "          const docLinkHtml = 'Like what you see? Visit the ' +\n",
              "            '<a target=\"_blank\" href=https://colab.research.google.com/notebooks/data_table.ipynb>data table notebook</a>'\n",
              "            + ' to learn more about interactive tables.';\n",
              "          element.innerHTML = '';\n",
              "          dataTable['output_type'] = 'display_data';\n",
              "          await google.colab.output.renderOutput(dataTable, element);\n",
              "          const docLink = document.createElement('div');\n",
              "          docLink.innerHTML = docLinkHtml;\n",
              "          element.appendChild(docLink);\n",
              "        }\n",
              "      </script>\n",
              "    </div>\n",
              "  </div>\n",
              "  "
            ]
          },
          "metadata": {},
          "execution_count": 11
        }
      ]
    },
    {
      "cell_type": "code",
      "source": [
        "from sklearn.preprocessing import OneHotEncoder\n",
        "\n",
        "onehot_encoder = OneHotEncoder() # 인코더 객체 생성\n",
        "\n",
        "encoded_nom_matrix = onehot_encoder.fit_transform(all_data[nom_features])\n",
        "\n",
        "encoded_nom_matrix"
      ],
      "metadata": {
        "id": "Au1oC_BvdEFW",
        "outputId": "70e3af62-6b5d-4970-f32b-cef1ea341978",
        "colab": {
          "base_uri": "https://localhost:8080/"
        }
      },
      "execution_count": 12,
      "outputs": [
        {
          "output_type": "execute_result",
          "data": {
            "text/plain": [
              "<500000x16276 sparse matrix of type '<class 'numpy.float64'>'\n",
              "\twith 5000000 stored elements in Compressed Sparse Row format>"
            ]
          },
          "metadata": {},
          "execution_count": 12
        }
      ]
    },
    {
      "cell_type": "markdown",
      "source": [
        " - 행500000x열16276(CSR형식) 인 이유\n",
        "  > 'nom_0'피처의 Green, Blue, Red 세가지를 원-핫 인코딩 하기위해 3개의 새로운 열이 필요\n",
        "\n",
        "  > 나머지 명목형 피처들도 unique한 개수만큼 새로운 열이 필요"
      ],
      "metadata": {
        "id": "ehLrQ1ESfRIO"
      }
    },
    {
      "cell_type": "code",
      "source": [
        "all_data = all_data.drop(nom_features, axis=1) # 기존 명목형 피처 삭제, 추후에 encoded_num_matrix를 all_data에 붙일예정"
      ],
      "metadata": {
        "id": "v6_5Oe9Ke60_"
      },
      "execution_count": 13,
      "outputs": []
    },
    {
      "cell_type": "markdown",
      "source": [
        "#### 날짜 피처 인코딩\n",
        " - 원-핫 인코딩 적용"
      ],
      "metadata": {
        "id": "rNQplsWmiahm"
      }
    },
    {
      "cell_type": "code",
      "source": [
        "date_features = ['day','month'] # 날짜 피처\n",
        "\n",
        "encoded_date_matrix = onehot_encoder.fit_transform(all_data[date_features]) # 인코딩 적용\n",
        "\n",
        "all_data = all_data.drop(date_features, axis=1) # 기존 날짜형 피처 삭제\n",
        "\n",
        "encoded_date_matrix"
      ],
      "metadata": {
        "id": "p1OSDOQtiXzn",
        "outputId": "ccd3d5c7-b47a-41f4-f0f7-6975919055fb",
        "colab": {
          "base_uri": "https://localhost:8080/"
        }
      },
      "execution_count": 14,
      "outputs": [
        {
          "output_type": "execute_result",
          "data": {
            "text/plain": [
              "<500000x19 sparse matrix of type '<class 'numpy.float64'>'\n",
              "\twith 1000000 stored elements in Compressed Sparse Row format>"
            ]
          },
          "metadata": {},
          "execution_count": 14
        }
      ]
    },
    {
      "cell_type": "markdown",
      "source": [
        " - 원-핫 인코딩된 행렬 크기는(500,000 x 19)\n",
        "  > day 피처 고윳값은 7개, month 피처 고윳값은 12개"
      ],
      "metadata": {
        "id": "7JXgBs-gi8iv"
      }
    },
    {
      "cell_type": "markdown",
      "source": [
        "## 피처 엔지니어링 2 : 피처 스케일링\n",
        " - 서로 다른 피처들의 값의 범위가 일치하도록 조정\n",
        " - 수치형 피처들의 유효 값 범위가 서로 다르면 훈련이 제대로 안됨\n",
        " - 이진/명목형/날짜 피처를 모두 0, 1로 인코딩함\n",
        " - 순서형 피처는 여러개의 값을 가지므로 0~1사이가 되도록 스케일링"
      ],
      "metadata": {
        "id": "rRTZdFp2jLcd"
      }
    },
    {
      "cell_type": "markdown",
      "source": [
        "#### 순서형 피처 스케일링\n",
        " - 다른 피처들과 범위를 맞추기 위해 min-max 정규화 적용 → 피처값의 범위를 0~1로 조정함"
      ],
      "metadata": {
        "id": "QDW9SX_wkpqe"
      }
    },
    {
      "cell_type": "code",
      "source": [
        "from sklearn.preprocessing import MinMaxScaler\n",
        "\n",
        "ord_features = ['ord_' + str(i) for i in range(6)] # 순서형 피처\n",
        "\n",
        "# min-max 정규화\n",
        "all_data[ord_features] = MinMaxScaler().fit_transform(all_data[ord_features])"
      ],
      "metadata": {
        "id": "fsmN_sIGi6-e"
      },
      "execution_count": 15,
      "outputs": []
    },
    {
      "cell_type": "code",
      "source": [
        "for i, feature in enumerate(ord_features):\n",
        "    print(f'{feature} 고윳값 : {all_data[feature].unique()}')"
      ],
      "metadata": {
        "id": "g13ECsWdliLU",
        "outputId": "0ec84f44-1506-4830-fd22-9c232f6f73b2",
        "colab": {
          "base_uri": "https://localhost:8080/"
        }
      },
      "execution_count": 16,
      "outputs": [
        {
          "output_type": "stream",
          "name": "stdout",
          "text": [
            "ord_0 고윳값 : [0.5 0.  1. ]\n",
            "ord_1 고윳값 : [1.   0.5  0.   0.25 0.75]\n",
            "ord_2 고윳값 : [0.2 0.6 1.  0.8 0.  0.4]\n",
            "ord_3 고윳값 : [0.5        0.         0.57142857 0.64285714 0.42857143 0.28571429\n",
            " 0.21428571 0.07142857 0.71428571 0.35714286 0.78571429 0.92857143\n",
            " 1.         0.14285714 0.85714286]\n",
            "ord_4 고윳값 : [0.12 0.   0.68 0.16 0.6  0.4  0.84 0.64 1.   0.44 0.2  0.76 0.8  0.72\n",
            " 0.96 0.04 0.28 0.36 0.52 0.24 0.88 0.32 0.56 0.08 0.92 0.48]\n",
            "ord_5 고윳값 : [0.71204188 0.48691099 0.16230366 0.70157068 0.82722513 0.27748691\n",
            " 0.96858639 0.08900524 0.83769634 0.05759162 0.83246073 0.89005236\n",
            " 0.54973822 0.47120419 0.21465969 0.76963351 0.31413613 0.60732984\n",
            " 0.61256545 0.14136126 0.34554974 0.04188482 0.34031414 0.57591623\n",
            " 0.67539267 0.82198953 0.56544503 0.61780105 0.16753927 0.60209424\n",
            " 0.09424084 0.18324607 0.38219895 0.11518325 0.87434555 0.58115183\n",
            " 0.41884817 0.30890052 0.42931937 0.81151832 0.72774869 0.29842932\n",
            " 0.03141361 0.4973822  0.62827225 0.72251309 0.7591623  0.68586387\n",
            " 0.48167539 0.91623037 0.17277487 0.26701571 0.09947644 0.29319372\n",
            " 0.79057592 0.93193717 0.08376963 0.41361257 0.79581152 0.07853403\n",
            " 0.86910995 0.85340314 0.37172775 0.88481675 0.9947644  0.13089005\n",
            " 0.19371728 0.55497382 0.63874346 0.69109948 0.66492147 0.05235602\n",
            " 0.10994764 0.27225131 0.03664921 0.59685864 0.63350785 0.47643979\n",
            " 0.86387435 0.53403141 0.77486911 0.78534031 0.52356021 0.7539267\n",
            " 0.94764398 0.59162304 0.54450262 0.40314136 0.04712042 0.37696335\n",
            " 0.46596859 0.84293194 0.67015707 0.45026178 0.30366492 0.07329843\n",
            " 0.35078534 0.70680628 0.5078534  0.90052356 0.92146597 0.90575916\n",
            " 0.46073298 0.97905759 0.7382199  0.35602094 0.94240838 0.43979058\n",
            " 0.95811518 0.43455497 0.         0.12565445 0.39790576 0.85863874\n",
            " 0.84816754 0.40837696 0.10471204 0.76439791 0.17801047 0.52879581\n",
            " 0.02094241 0.02617801 0.7486911  0.20418848 0.89528796 0.23560209\n",
            " 0.64921466 0.14659686 0.2565445  0.31937173 0.53926702 0.92670157\n",
            " 0.56020942 0.98429319 0.2408377  0.28795812 0.65968586 0.87958115\n",
            " 0.96335079 0.33507853 0.36125654 0.23036649 0.15706806 0.32984293\n",
            " 0.36649215 0.91099476 0.19895288 0.80628272 0.68062827 0.20942408\n",
            " 0.71727749 0.9895288  1.         0.4921466  0.18848168 0.51832461\n",
            " 0.7434555  0.2617801  0.28272251 0.22513089 0.0052356  0.39267016\n",
            " 0.12041885 0.73298429 0.45549738 0.64397906 0.5026178  0.38743455\n",
            " 0.13612565 0.2460733  0.2513089  0.32460733 0.01570681 0.57068063\n",
            " 0.51308901 0.65445026 0.06806283 0.62303665 0.21989529 0.42408377\n",
            " 0.0104712  0.78010471 0.44502618 0.81675393 0.58638743 0.97382199\n",
            " 0.95287958 0.15183246 0.80104712 0.93717277 0.69633508 0.06282723]\n"
          ]
        }
      ]
    },
    {
      "cell_type": "markdown",
      "source": [
        " - ord_0 고윳값 : [2 1 3] → [0.5 0. 1]"
      ],
      "metadata": {
        "id": "XDHx4oHSlv5o"
      }
    },
    {
      "cell_type": "markdown",
      "source": [
        "#### 인코딩 및 스케일링된 피처 합치기\n",
        " - 아래의 세가지 피처 합치기\n",
        "  > all_data : 인코딩된 이진 피처와 순서형 피처(Dataframe 형식)\n",
        "\n",
        "  > encoded_nom_matrix : 인코딩된 명목형 피처(CSR 행렬)\n",
        "\n",
        "  > encoded_date_matrix : 인코딩된 날짜형 피처(CSR 행렬)"
      ],
      "metadata": {
        "id": "cYdKnclLmHBi"
      }
    },
    {
      "cell_type": "markdown",
      "source": [
        " - DataFrame 형식 → CSR 형식 변환\n",
        " - 사이파이 제공 csr_matrix()"
      ],
      "metadata": {
        "id": "V28flTzRoo87"
      }
    },
    {
      "cell_type": "code",
      "source": [
        "from scipy import sparse\n",
        "\n",
        "all_data_sprs = sparse.hstack([sparse.csr_matrix(all_data),\n",
        "                               encoded_nom_matrix,\n",
        "                               encoded_date_matrix],\n",
        "                              format='csr') # 합친 결과를 CSR형식으로 반환(기본값은 COO형식)"
      ],
      "metadata": {
        "id": "a9h5i8prlnip"
      },
      "execution_count": 17,
      "outputs": []
    },
    {
      "cell_type": "code",
      "source": [
        "all_data_sprs"
      ],
      "metadata": {
        "id": "N10JlxuwrVp2",
        "outputId": "b390e2fc-0e0a-4bd3-b168-5f26a4944b11",
        "colab": {
          "base_uri": "https://localhost:8080/"
        }
      },
      "execution_count": 18,
      "outputs": [
        {
          "output_type": "execute_result",
          "data": {
            "text/plain": [
              "<500000x16306 sparse matrix of type '<class 'numpy.float64'>'\n",
              "\twith 9163718 stored elements in Compressed Sparse Row format>"
            ]
          },
          "metadata": {},
          "execution_count": 18
        }
      ]
    },
    {
      "cell_type": "markdown",
      "source": [
        " - 500,000행, 16,306열로 구성\n",
        " - 이정도 크기를 DataFrame으로 처리하면 메모리 낭비 및 훈련 속도 저하\n",
        " - 따라서 DataFrame으로 변환하지 않고, CSR 형식으로 그대로 사용"
      ],
      "metadata": {
        "id": "FDdi6sSHraNJ"
      }
    },
    {
      "cell_type": "markdown",
      "source": [
        "#### 데이터 나누기\n",
        " - 마지막으로 훈련데이터와 테스트데이터 나눔"
      ],
      "metadata": {
        "id": "zlxKFp4LrnD2"
      }
    },
    {
      "cell_type": "code",
      "source": [
        "num_train = len(train) # 훈련 데이터 개수(DataFrame의 row개수)\n",
        "\n",
        "X_train = all_data_sprs[:num_train]\n",
        "X_test = all_data_sprs[num_train:]\n",
        "\n",
        "y = train['target']"
      ],
      "metadata": {
        "id": "noVFZL-IrYkL"
      },
      "execution_count": 19,
      "outputs": []
    },
    {
      "cell_type": "code",
      "source": [
        "from sklearn.model_selection import train_test_split\n",
        "\n",
        "# 훈련데이터에서 검증데이터 분리\n",
        "X_train, X_valid, y_train, y_valid = train_test_split(X_train, y,\n",
        "                                                      test_size=0.1,\n",
        "                                                      stratify=y, # 타깃값이 같은비율로 들어가게 나눔\n",
        "                                                      random_state=10)"
      ],
      "metadata": {
        "id": "KJfLVAY6vKmp"
      },
      "execution_count": 20,
      "outputs": []
    },
    {
      "cell_type": "code",
      "source": [
        "X_train.shape, X_valid.shape"
      ],
      "metadata": {
        "id": "zm12OfiNvz9t",
        "outputId": "db93f339-ef86-454d-ec18-2d8bbe1fc022",
        "colab": {
          "base_uri": "https://localhost:8080/"
        }
      },
      "execution_count": 21,
      "outputs": [
        {
          "output_type": "execute_result",
          "data": {
            "text/plain": [
              "((270000, 16306), (30000, 16306))"
            ]
          },
          "metadata": {},
          "execution_count": 21
        }
      ]
    },
    {
      "cell_type": "markdown",
      "source": [
        "### 하이퍼파라미터 최적화\n",
        " - 그리드 서치 활용 : C, max_iter\n",
        " - C : 규제 강도 조절 파라미터, 작을수록 규제 강도 세짐\n",
        " - 평가지표 : ROC AUC"
      ],
      "metadata": {
        "id": "V4UIsCQKv91G"
      }
    },
    {
      "cell_type": "code",
      "source": [
        "# 셀 실행 후 소요 시간 출력\n",
        "# %%time \n",
        "\n",
        "from sklearn.model_selection import GridSearchCV\n",
        "from sklearn.linear_model import LogisticRegression\n",
        "\n",
        "# 로지스틱 회귀 모델 생성\n",
        "logistic_model = LogisticRegression()\n",
        "\n",
        "# 하이퍼 파라미터 값 목록\n",
        "lr_params = {'C':[0.1,0.125], 'max_iter':[800,900],\n",
        "             'solver':['liblinear'], 'random_state':[42]}\n",
        "\n",
        "# 그리드 서치 객체 생성\n",
        "gridsearch_logistic_model = GridSearchCV(estimator=logistic_model,\n",
        "                                         param_grid=lr_params,\n",
        "                                         scoring='roc_auc', # 평가지표\n",
        "                                         cv=5) # 교차검증까지 수행함 (5-fold)\n",
        "\n",
        "# 그리드서치 수행\n",
        "gridsearch_logistic_model.fit(X_train, y_train)\n",
        "\n",
        "# 최적의 하이퍼파라미터 확인\n",
        "print(gridsearch_logistic_model.best_params_)"
      ],
      "metadata": {
        "id": "nOYP0c6ov6jn",
        "outputId": "e3101678-b3cd-4f34-fff9-241483d9a87a",
        "colab": {
          "base_uri": "https://localhost:8080/"
        }
      },
      "execution_count": 33,
      "outputs": [
        {
          "output_type": "stream",
          "name": "stdout",
          "text": [
            "{'C': 0.125, 'max_iter': 800, 'random_state': 42, 'solver': 'liblinear'}\n"
          ]
        }
      ]
    },
    {
      "cell_type": "markdown",
      "source": [
        " - 1.로지스틱 회귀 모델 생성\n",
        " - 2.그리드서치 모델 생성(로지스틱 회귀 모델 주입)\n",
        " - 3.그리드서치 훈련 수행\n",
        " - 4.**최적 하이퍼파라미터로 훈련된 그리드서치 모델로 갱신**\n",
        "  > 모델.best_estimator_ 로 최적 하이퍼파라미터로 훈련 가능\n",
        "  \n",
        "  > 모델.best_estimator_ 하지 않아도 자동으로 갱신됨\n",
        "\n",
        "\n",
        " - 코드는 병렬로 실행되며, CPU 시간은 개별 코어의 수행시간을 모두 합친값\n",
        " - 최적 하이퍼파라미터 → C:0.125, max_iter:800\n",
        " - 최적 하이퍼파라미터로 훈련된 모델로 갱신됨"
      ],
      "metadata": {
        "id": "o6Q4MuYE10cH"
      }
    },
    {
      "cell_type": "markdown",
      "source": [
        "### 모델 성능 검증\n",
        " - 검증데이터로 모델 성능 검증"
      ],
      "metadata": {
        "id": "km3b8H8uMv4j"
      }
    },
    {
      "cell_type": "code",
      "source": [
        "# 먼저 검증데이터로 타깃 예측값 구하기\n",
        "y_valid_preds = gridsearch_logistic_model.predict_proba(X_valid)[:, 1] # 검증데이터의 타깃값:1 일 확률"
      ],
      "metadata": {
        "id": "jTSNA7NVz1B8"
      },
      "execution_count": 31,
      "outputs": []
    },
    {
      "cell_type": "code",
      "source": [
        "# 검증데이터 ROC AUC\n",
        "from sklearn.metrics import roc_auc_score\n",
        "\n",
        "roc_auc = roc_auc_score(y_valid, y_valid_preds)\n",
        "\n",
        "print(f'{roc_auc:.4f}')"
      ],
      "metadata": {
        "id": "qZLmZmD9OmM9",
        "outputId": "f61cc3de-3fdf-479b-ce72-f1178ccfb975",
        "colab": {
          "base_uri": "https://localhost:8080/"
        }
      },
      "execution_count": 32,
      "outputs": [
        {
          "output_type": "stream",
          "name": "stdout",
          "text": [
            "0.8045\n"
          ]
        }
      ]
    },
    {
      "cell_type": "markdown",
      "source": [
        " - 베이스라인 모델보다 0.008만큼 향상됨"
      ],
      "metadata": {
        "id": "iH-8IosfPONk"
      }
    },
    {
      "cell_type": "markdown",
      "source": [
        "### 예측 및 결과 제출"
      ],
      "metadata": {
        "id": "LUY6B5VpPWTf"
      }
    },
    {
      "cell_type": "code",
      "source": [
        "# 타깃값 1일 확률 예측\n",
        "y_preds = gridsearch_logistic_model.best_estimator_.predict_proba(X_test)[:, 1]\n",
        "# .best_estimator_ : 사용하지 않아도 훈련시에 판단된 최적의 하이퍼파라미터가 자동적용됨\n",
        "\n",
        "# 제출 파일 생성\n",
        "submission['target'] = y_preds\n",
        "submission.to_csv('/content/drive/MyDrive/Colab Notebooks/kaggle/input/cat-in-the-dat/submission.csv')"
      ],
      "metadata": {
        "id": "8ubXZTCPPLAF"
      },
      "execution_count": 38,
      "outputs": []
    },
    {
      "cell_type": "markdown",
      "source": [
        " - 앞서 모델 훈련 시 전체 훈련 데이터 100% 중 검증 데이터 10%를 떼어두고 90%만으로 훈련했다\n",
        " - 적은 데이터 이용시 10%도 상당히 아까운 데이터\n",
        " - 훈련데이터 100%로 다시 모델링 하면 약간 점수가 상승한다 "
      ],
      "metadata": {
        "id": "pZ7FsrTAT1wx"
      }
    },
    {
      "cell_type": "markdown",
      "source": [
        "# 모델 성능개선의 일반적인 흐름\n",
        " - 위에서는 하나의 모델(로지스틱 회귀)을 사용 했지만,\n",
        " - 일반적으로는 여러 가지 방법으로 모델링\n",
        " - 그 중 가장 높은 성능의 모델 선정\n",
        " - 선정된 모델을 검증 데이터까지 포함한 전체 훈련데이터로 다시 훈련"
      ],
      "metadata": {
        "id": "2qmPVUYpUYgN"
      }
    },
    {
      "cell_type": "code",
      "source": [
        ""
      ],
      "metadata": {
        "id": "BCaIio1lUOkX"
      },
      "execution_count": null,
      "outputs": []
    }
  ],
  "metadata": {
    "colab": {
      "collapsed_sections": [],
      "name": "Colaboratory에 오신 것을 환영합니다",
      "provenance": [],
      "include_colab_link": true
    },
    "kernelspec": {
      "display_name": "Python 3",
      "name": "python3"
    },
    "accelerator": "GPU"
  },
  "nbformat": 4,
  "nbformat_minor": 0
}