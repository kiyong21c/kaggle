{
  "cells": [
    {
      "cell_type": "markdown",
      "metadata": {
        "id": "view-in-github",
        "colab_type": "text"
      },
      "source": [
        "<a href=\"https://colab.research.google.com/github/kiyong21c/kaggle/blob/main/20220616_porto-seguro-safe-driver-prediction-improve.ipynb\" target=\"_parent\"><img src=\"https://colab.research.google.com/assets/colab-badge.svg\" alt=\"Open In Colab\"/></a>"
      ]
    },
    {
      "cell_type": "code",
      "source": [
        "# from google.colab import drive\n",
        "# drive.mount('/content/drive')"
      ],
      "metadata": {
        "id": "g8C4TYr9sKTr"
      },
      "execution_count": 3,
      "outputs": []
    },
    {
      "cell_type": "markdown",
      "source": [
        "# 안전운전자 예측\n",
        " - 실제 보험사에서 제공한 고객 데이터 활용하여 운전자가 보험을 청구할 확률 예측\n",
        " - 문제유형 : 이진분류\n",
        " - 평가지표 : 정규화된 지니계수\n",
        " - 사용모델 : LightGBM, XGBoost의 앙상블"
      ],
      "metadata": {
        "id": "mXn6wsujp20_"
      }
    },
    {
      "cell_type": "markdown",
      "source": [
        "## 성능 개선 1 : LightGBM 모델\n",
        " - 피처 엔지니어링, 하이퍼파라미터 최적화"
      ],
      "metadata": {
        "id": "KH1j2mWbx_U3"
      }
    },
    {
      "cell_type": "code",
      "source": [
        "import pandas as pd\n",
        "\n",
        "data_path = '/content/drive/MyDrive/Colab Notebooks/kaggle/input/porto-seguro-safe-driver-prediction/'\n",
        "\n",
        "train = pd.read_csv(data_path + 'train.csv', index_col='id')\n",
        "test = pd.read_csv(data_path + 'test.csv', index_col='id')\n",
        "submission = pd.read_csv(data_path + 'sample_submission.csv', index_col='id')"
      ],
      "metadata": {
        "id": "1rbYA4RUx-Lf"
      },
      "execution_count": 4,
      "outputs": []
    },
    {
      "cell_type": "markdown",
      "source": [
        "### 피처 엔지니어링"
      ],
      "metadata": {
        "id": "FMnc3brXjVvt"
      }
    },
    {
      "cell_type": "markdown",
      "source": [
        "#### 데이터 합치기"
      ],
      "metadata": {
        "id": "Jre3M85HjXSI"
      }
    },
    {
      "cell_type": "code",
      "source": [
        "all_data = pd.concat([train, test], ignore_index=True)\n",
        "all_data = all_data.drop('target', axis=1)\n",
        "\n",
        "all_features = all_data.columns"
      ],
      "metadata": {
        "id": "G0mM9BWnjUXk"
      },
      "execution_count": 5,
      "outputs": []
    },
    {
      "cell_type": "markdown",
      "source": [
        "#### 명목형 피처 원-핫 인코딩"
      ],
      "metadata": {
        "id": "gtviBgVn-ltk"
      }
    },
    {
      "cell_type": "code",
      "source": [
        "from sklearn.preprocessing import OneHotEncoder\n",
        "\n",
        "# 명목형 피처\n",
        "cat_features = [feature for feature in all_features if 'cat' in feature]\n",
        "\n",
        "# 원-핫 인코딩 적용\n",
        "onehot_encoder = OneHotEncoder()\n",
        "encoded_cat_matrix = onehot_encoder.fit_transform(all_data[cat_features])"
      ],
      "metadata": {
        "id": "kRryQvYK-k97"
      },
      "execution_count": 6,
      "outputs": []
    },
    {
      "cell_type": "markdown",
      "source": [
        "#### 파생 피처 추가\n",
        " - 기존 : 필요 없는 피처 제거\n",
        " - 성능 향상을 위한 추가적인 방법 몇가지\n",
        " - 1. 한 데이터가 가진 결측값 개수를 파생 피처로"
      ],
      "metadata": {
        "id": "0ZSDQazo_8Z4"
      }
    },
    {
      "cell_type": "code",
      "source": [
        "# 데이터 하나당(한사람당) 결측값 개수를 파생 피처로 추가\n",
        "all_data['num_missing'] = (all_data==-1).sum(axis=1) # axis=0 : 컬럼 단위로, axis=1 : 행 단위로"
      ],
      "metadata": {
        "id": "ZhduMJ1b_58t"
      },
      "execution_count": 7,
      "outputs": []
    },
    {
      "cell_type": "code",
      "source": [
        "# 명목형 피처, calc 분류의 피처를 제외한 피처\n",
        "remaining_features = [feature for feature in all_features\n",
        "                      if ('cat' not in feature and 'calc' not in feature)]\n",
        "\n",
        "# num_missing을 remaining_features에 추가\n",
        "remaining_features.append('num_missing')"
      ],
      "metadata": {
        "id": "s7DsayqmAUmO"
      },
      "execution_count": 8,
      "outputs": []
    },
    {
      "cell_type": "code",
      "source": [
        "remaining_features"
      ],
      "metadata": {
        "id": "7guj-ZIiBohB",
        "outputId": "40c12bd0-cd0e-49fe-a739-251b74db2d51",
        "colab": {
          "base_uri": "https://localhost:8080/"
        }
      },
      "execution_count": 9,
      "outputs": [
        {
          "output_type": "execute_result",
          "data": {
            "text/plain": [
              "['ps_ind_01',\n",
              " 'ps_ind_03',\n",
              " 'ps_ind_06_bin',\n",
              " 'ps_ind_07_bin',\n",
              " 'ps_ind_08_bin',\n",
              " 'ps_ind_09_bin',\n",
              " 'ps_ind_10_bin',\n",
              " 'ps_ind_11_bin',\n",
              " 'ps_ind_12_bin',\n",
              " 'ps_ind_13_bin',\n",
              " 'ps_ind_14',\n",
              " 'ps_ind_15',\n",
              " 'ps_ind_16_bin',\n",
              " 'ps_ind_17_bin',\n",
              " 'ps_ind_18_bin',\n",
              " 'ps_reg_01',\n",
              " 'ps_reg_02',\n",
              " 'ps_reg_03',\n",
              " 'ps_car_11',\n",
              " 'ps_car_12',\n",
              " 'ps_car_13',\n",
              " 'ps_car_14',\n",
              " 'ps_car_15',\n",
              " 'num_missing']"
            ]
          },
          "metadata": {},
          "execution_count": 9
        }
      ]
    },
    {
      "cell_type": "markdown",
      "source": [
        " - 2. 모든 ind피처 값을 연결해 새로운 피처로 만들자\n",
        " \n",
        "  > ps_ind_01, ps_ind_02_cat, ps_ind_03의 값이 각각 2, 2, 5라면 모든값을 연결해 2_2_5로 만든다\n",
        "\n",
        "  > ind피처가 총 18개 이므로 18개 값 연결\n",
        "\n",
        "  > 새로운 피처명 'mix_ind' : 임시"
      ],
      "metadata": {
        "id": "Aw80niysWCcZ"
      }
    },
    {
      "cell_type": "code",
      "source": [
        "# 전체 피처 중에 분류가 ind인 피처 \n",
        "ind_features = [feature for feature in all_features if 'ind' in feature]\n",
        "\n",
        "is_first_feature = True     # 반복문 바깥에서 True 지정 후 반복문내에서 False 변경: 이러한 포맷은 반복문에서 특정상황을 한번 초기화 한 후 반복하려 할때 주로 사용\n",
        "for ind_feature in ind_features:\n",
        "    if is_first_feature:\n",
        "        all_data['mix_ind'] = all_data[ind_feature].astype(str) + '_' # 1.특정상황 한번 초기화\n",
        "        is_first_feature = False                                      # 2. False로 변경\n",
        "    else:\n",
        "        all_data['mix_ind'] += all_data[ind_feature].astype(str) + '_'# 3. else: 즉, False이므로 반복 수행"
      ],
      "metadata": {
        "id": "sX6JYYaNV_9C"
      },
      "execution_count": 10,
      "outputs": []
    },
    {
      "cell_type": "code",
      "source": [
        "all_data['mix_ind']"
      ],
      "metadata": {
        "id": "v-yrWuAj9q7X",
        "outputId": "145a1d70-6e0b-4fd9-89af-a38a6d543189",
        "colab": {
          "base_uri": "https://localhost:8080/"
        }
      },
      "execution_count": 11,
      "outputs": [
        {
          "output_type": "execute_result",
          "data": {
            "text/plain": [
              "0          2_2_5_1_0_0_1_0_0_0_0_0_0_0_11_0_1_0_\n",
              "1           1_1_7_0_0_0_0_1_0_0_0_0_0_0_3_0_0_1_\n",
              "2          5_4_9_1_0_0_0_1_0_0_0_0_0_0_12_1_0_0_\n",
              "3           0_1_2_0_0_1_0_0_0_0_0_0_0_0_8_1_0_0_\n",
              "4           0_2_0_1_0_1_0_0_0_0_0_0_0_0_9_1_0_0_\n",
              "                           ...                  \n",
              "1488023     0_1_6_0_0_0_1_0_0_0_0_0_0_0_2_0_0_1_\n",
              "1488024    5_3_5_1_0_0_0_1_0_0_0_0_0_0_11_1_0_0_\n",
              "1488025     0_1_5_0_0_1_0_0_0_0_0_0_0_0_5_0_0_1_\n",
              "1488026    6_1_5_1_0_0_0_0_1_0_0_0_0_0_13_1_0_0_\n",
              "1488027    7_1_4_1_0_0_0_0_1_0_0_0_0_0_12_1_0_0_\n",
              "Name: mix_ind, Length: 1488028, dtype: object"
            ]
          },
          "metadata": {},
          "execution_count": 11
        }
      ]
    },
    {
      "cell_type": "markdown",
      "source": [
        " - 3. 명목형 피처의 고윳값별 개수를 새로운 피처로 추가\n",
        " \n",
        "  > 고윳값 : -1, 1, 2, 3, 4 \n",
        "\n",
        "  > 각 고윳값의 개수 : 523, 1079327, 309747, 70172, 28259\n",
        "\n",
        "  > 새로운 피처에는 값이 -1이면 523으로 바꿔넣음"
      ],
      "metadata": {
        "id": "Ry7Pr56Q_eQ_"
      }
    },
    {
      "cell_type": "code",
      "source": [
        "# 'ps_ind_02_cat' 피처를 예로들어 보자\n",
        "all_data['ps_ind_02_cat'].value_counts() # 각 고윳값이 몇개인지 Series로 나타냄"
      ],
      "metadata": {
        "id": "peUl9K3H_ZvX",
        "outputId": "40c1db8d-5e54-4710-dab6-81f23445456b",
        "colab": {
          "base_uri": "https://localhost:8080/"
        }
      },
      "execution_count": 12,
      "outputs": [
        {
          "output_type": "execute_result",
          "data": {
            "text/plain": [
              " 1    1079327\n",
              " 2     309747\n",
              " 3      70172\n",
              " 4      28259\n",
              "-1        523\n",
              "Name: ps_ind_02_cat, dtype: int64"
            ]
          },
          "metadata": {},
          "execution_count": 12
        }
      ]
    },
    {
      "cell_type": "code",
      "source": [
        "all_data['ps_ind_02_cat'].value_counts().to_dict() # 인덱스와 데이터를 딕셔너리 타입으로 바꿔줌"
      ],
      "metadata": {
        "id": "L09ooyiq_99P",
        "outputId": "a798b17a-e3d0-4589-ba4b-5b840a879ce0",
        "colab": {
          "base_uri": "https://localhost:8080/"
        }
      },
      "execution_count": 13,
      "outputs": [
        {
          "output_type": "execute_result",
          "data": {
            "text/plain": [
              "{-1: 523, 1: 1079327, 2: 309747, 3: 70172, 4: 28259}"
            ]
          },
          "metadata": {},
          "execution_count": 13
        }
      ]
    },
    {
      "cell_type": "markdown",
      "source": [
        " - 이전에 추가한 mix_ind 피처도 명목형 피처\n",
        " - 인코딩전의 cat_features 피처도 명목형 피처"
      ],
      "metadata": {
        "id": "PzQXBC0uAY8W"
      }
    },
    {
      "cell_type": "code",
      "source": [
        "cat_count_features = []\n",
        "for feature in cat_features+['mix_ind']:\n",
        "    val_counts_dict = all_data[feature].value_counts().to_dict()\n",
        "    all_data[f'{feature}_count'] = all_data[feature].apply(lambda x: val_counts_dict[x]) # apply앞의 Series의 값을 딕셔너리의 Key로 받음 \n",
        "    \n",
        "    # cat_count_features 새로운 피처명 리스트 추가\n",
        "    cat_count_features.append(f'{feature}_count')"
      ],
      "metadata": {
        "id": "KCYNKb1hAMcn"
      },
      "execution_count": 14,
      "outputs": []
    },
    {
      "cell_type": "code",
      "source": [
        "cat_count_features"
      ],
      "metadata": {
        "id": "L2NzsFxKHNkV",
        "outputId": "1df0aad4-838a-4f45-db34-2e58ec6503ce",
        "colab": {
          "base_uri": "https://localhost:8080/"
        }
      },
      "execution_count": 15,
      "outputs": [
        {
          "output_type": "execute_result",
          "data": {
            "text/plain": [
              "['ps_ind_02_cat_count',\n",
              " 'ps_ind_04_cat_count',\n",
              " 'ps_ind_05_cat_count',\n",
              " 'ps_car_01_cat_count',\n",
              " 'ps_car_02_cat_count',\n",
              " 'ps_car_03_cat_count',\n",
              " 'ps_car_04_cat_count',\n",
              " 'ps_car_05_cat_count',\n",
              " 'ps_car_06_cat_count',\n",
              " 'ps_car_07_cat_count',\n",
              " 'ps_car_08_cat_count',\n",
              " 'ps_car_09_cat_count',\n",
              " 'ps_car_10_cat_count',\n",
              " 'ps_car_11_cat_count',\n",
              " 'mix_ind_count']"
            ]
          },
          "metadata": {},
          "execution_count": 15
        }
      ]
    },
    {
      "cell_type": "markdown",
      "source": [
        "##### 참고\n",
        " - Series에 apply() 함수적용시 lambda를 사용하는 방법\n",
        " - Series가 Dictionary 일때 헷갈리지 않게 정리해보자"
      ],
      "metadata": {
        "id": "gHngdwFXHtJw"
      }
    },
    {
      "cell_type": "code",
      "source": [
        "val_counts_dict = all_data['ps_ind_02_cat'].value_counts().to_dict()\n",
        "all_data['ps_ind_02_cat'].apply(lambda x: val_counts_dict[x]) # Series.apply(lambda x: return dict[x]) : \n",
        "# lambda x의 의미 → x를 파라미터로 받는 함수\n",
        "# lambda x: 의 의미 → :x를 파라미터로 받는 함수이며, \":\"이후를 return 하는 함수(return이 생략되어 있음)\n",
        "# x를 파라미터로 받아서 dict[x]에 집어넣는다.\n",
        "# Series.apply(func(x))에서 x는 \"Series의 값\""
      ],
      "metadata": {
        "id": "rj2oXfQZA7I4",
        "outputId": "475a2a57-500c-4df3-eaf5-87e839c3bb6c",
        "colab": {
          "base_uri": "https://localhost:8080/"
        }
      },
      "execution_count": 16,
      "outputs": [
        {
          "output_type": "execute_result",
          "data": {
            "text/plain": [
              "0           309747\n",
              "1          1079327\n",
              "2            28259\n",
              "3          1079327\n",
              "4           309747\n",
              "            ...   \n",
              "1488023    1079327\n",
              "1488024      70172\n",
              "1488025    1079327\n",
              "1488026    1079327\n",
              "1488027    1079327\n",
              "Name: ps_ind_02_cat, Length: 1488028, dtype: int64"
            ]
          },
          "metadata": {},
          "execution_count": 16
        }
      ]
    },
    {
      "cell_type": "code",
      "source": [
        "all_data['ps_ind_02_cat']"
      ],
      "metadata": {
        "id": "QGForR7UE7tR",
        "outputId": "6e778e51-c408-49c8-84eb-1a6908e9243f",
        "colab": {
          "base_uri": "https://localhost:8080/"
        }
      },
      "execution_count": 17,
      "outputs": [
        {
          "output_type": "execute_result",
          "data": {
            "text/plain": [
              "0          2\n",
              "1          1\n",
              "2          4\n",
              "3          1\n",
              "4          2\n",
              "          ..\n",
              "1488023    1\n",
              "1488024    3\n",
              "1488025    1\n",
              "1488026    1\n",
              "1488027    1\n",
              "Name: ps_ind_02_cat, Length: 1488028, dtype: int64"
            ]
          },
          "metadata": {},
          "execution_count": 17
        }
      ]
    },
    {
      "cell_type": "markdown",
      "source": [
        "#### 필요 없는 피처 제거\n",
        " - 지금 까지 만든 피처\n",
        "\n",
        "  > encoded_cat_matrix : 원-핫 인코딩된 명목형 피처\n",
        "\n",
        "  > remaining_features : 명목형 피처와 calc 분류의 피처를 제외한 피처들(+num_missing)\n",
        "\n",
        "  > cat_count_features : mix_ind를 포함한 명목형 피처의 고윳값별 개수 파생 피처"
      ],
      "metadata": {
        "id": "lz-v_SRiIDUV"
      }
    },
    {
      "cell_type": "markdown",
      "source": [
        "![FE.PNG](data:image/png;base64,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)"
      ],
      "metadata": {
        "id": "BkWV2mgdIc4f"
      }
    },
    {
      "cell_type": "code",
      "source": [
        "from scipy import sparse\n",
        "\n",
        "# 탐색적 데이터 분석을 통해 필요 없다고 판단된 피처\n",
        "drop_features = {'ps_ind_14','ps_ind_10_bin','ps_ind_11_bin',\n",
        "                 'ps_ind_12_bin','ps_ind_13_bin','ps_car_14'}\n",
        "\n",
        "# remaining_features, cat_count_features에서 drop_features를 제거한 데이터\n",
        "all_data_remaining = all_data[remaining_features+cat_count_features].drop(drop_features, axis=1)\n",
        "\n",
        "# 원-핫 인코딩된 명목형 피처 데이터와 합치기\n",
        "all_data_sprs = sparse.hstack([sparse.csr_matrix(all_data_remaining), # DataFrame → CSR\n",
        "                               encoded_cat_matrix], # 원-핫 인코딩하면서 CSR됨\n",
        "                              format='csr')"
      ],
      "metadata": {
        "id": "S-yuZT8KFEsC"
      },
      "execution_count": 18,
      "outputs": []
    },
    {
      "cell_type": "markdown",
      "source": [
        "#### 데이터 나누기"
      ],
      "metadata": {
        "id": "AThkbnYMu6bC"
      }
    },
    {
      "cell_type": "code",
      "source": [
        "num_train = len(train) # 훈련 데이터 개수\n",
        "\n",
        "# 훈련데이터와 테스트데이터 나누기\n",
        "X = all_data_sprs[:num_train]\n",
        "X_test = all_data_sprs[num_train:]\n",
        "\n",
        "y = train['target'].values"
      ],
      "metadata": {
        "id": "XqblPRftu5ca"
      },
      "execution_count": 19,
      "outputs": []
    },
    {
      "cell_type": "markdown",
      "source": [
        "### 하이퍼파라미터 최적화\n",
        " - 베이지안 최적화 기법 활용 : 그리드 서치보다 빠르고 효율적, 코드가 직관적"
      ],
      "metadata": {
        "id": "b8csgRCpvO-r"
      }
    },
    {
      "cell_type": "markdown",
      "source": [
        "#### 데이터셋 준비"
      ],
      "metadata": {
        "id": "lqB_Aw90vW21"
      }
    },
    {
      "cell_type": "code",
      "source": [
        "import lightgbm as lgb\n",
        "from sklearn.model_selection import train_test_split\n",
        "\n",
        "# 8:2 비율 훈련/데이터 분리 (베이지안 최적화 수행용)\n",
        "X_train, X_valid, y_train, y_valid = train_test_split(X, y,\n",
        "                                                     test_size=0.2,\n",
        "                                                     random_state=0)\n",
        "\n",
        "# 베이지안 최적화 전용 데이터셋\n",
        "bayes_dtrain = lgb.Dataset(X_train, y_train)\n",
        "bayes_dvalid = lgb.Dataset(X_valid, y_valid)"
      ],
      "metadata": {
        "id": "5CJQmUYXuwIa"
      },
      "execution_count": 20,
      "outputs": []
    },
    {
      "cell_type": "markdown",
      "source": [
        "#### 하이퍼파라미터 범위 설정\n",
        " - 처음부터 설정하는 것은 어렵다\n",
        " - 1. 하이퍼 파라미터 범위를 점점 좁히기\n",
        "\n",
        "  > 0-1 범위에서 0.5를 최적의 하이퍼파라미터로 찾았다면, 다시 0.4-0.6 에서 다시 수행\n",
        "\n",
        " - 2. 상위권 캐글러가 설정한 파라미터 참고"
      ],
      "metadata": {
        "id": "FVEfE5mTw-Hi"
      }
    },
    {
      "cell_type": "code",
      "source": [
        "# 베이지안 최적화를 위한 하이퍼파라미터 범위\n",
        "param_bounds = {'num_leaves':(30,40),\n",
        "                'lambda_l1':(0.7,0.9),\n",
        "                'lambda_l2':(0.9,1),\n",
        "                'feature_fraction':(0.6, 0.7),\n",
        "                'bagging_fraction':(0.6, 0.9),\n",
        "                'min_child_samples':(6,10),\n",
        "                'min_child_weight':(10,40)}\n",
        "\n",
        "# 값이 고정된 하이퍼파라미터\n",
        "fixed_params = {'objective':'binary',\n",
        "                'learning_rate':0.005,          # 학습률은 보통 0.01~0.001\n",
        "                'bagging_freq':1,\n",
        "                'force_row_wise':True,          # 경고 문구를 없애기 위함\n",
        "                'random_state':1991}            # 다시 수행해도 동일한 값을 위해"
      ],
      "metadata": {
        "id": "WjFD0m7uw1Py"
      },
      "execution_count": 21,
      "outputs": []
    },
    {
      "cell_type": "markdown",
      "source": [
        "##### 평가지표 계산 함수 : 정규화된 지니계수\n"
      ],
      "metadata": {
        "id": "pdt4-l793f2U"
      }
    },
    {
      "cell_type": "code",
      "source": [
        "# 실제 타깃값(y_true)와 예측 확률값(y_pred) 입력받아 정규화 지니계수 반환\n",
        "import numpy as np\n",
        "\n",
        "def eval_gini(y_true, y_pred):\n",
        "    assert y_true.shape == y_pred.shape # assert : True가 아니면 오류 발생\n",
        "\n",
        "    n_samples = y_true.shape[0] # 데이터 개수\n",
        "    L_mid = np.linspace(1/n_samples, 1, n_samples) # 대각선 값\n",
        "\n",
        "    # 1) 예측값에 대한 지니계수\n",
        "    pred_order = y_true[y_pred.argsort()] # y_pred.argsort() : y_pred배열 오름차순 인덱스값 배열\n",
        "    # 즉, y_pred 크기순으로 y_true 정렬\n",
        "    L_pred = np.cumsum(pred_order) / np.sum(pred_order) # 로렌츠 곡선\n",
        "    G_pred = np.sum(L_mid - L_pred) # 예측값에 대한 지니계수\n",
        "\n",
        "    # 2) 예측이 완벽할 때 지니계수\n",
        "    true_order = y_true[y_true.argsort()] # y_true 크기순으로 y_true 값 정렬\n",
        "    L_true = np.cumsum(true_order) / np.sum(true_order) # 로렌츠 곡선\n",
        "    G_true = np.sum(L_mid - L_true) # 예측이 완벽할 때 지니계수\n",
        "\n",
        "    # 정규화된 지니계수\n",
        "    return G_pred / G_true"
      ],
      "metadata": {
        "id": "F7YdM1753x14"
      },
      "execution_count": 22,
      "outputs": []
    },
    {
      "cell_type": "code",
      "source": [
        "# LightGBM용 gini() 함수\n",
        "def gini(preds, dtrain):\n",
        "    labels = dtrain.get_label()\n",
        "    return 'gini', eval_gini(labels, preds), True\n",
        "    # 평가지표이름, 평가점수, 평가점수가 높을수록 좋은지여부?\n",
        "    # 이후 lightGBM의 훈련시 feval 파라미터로 들어가는 함수로써 3가지 값을 요구함"
      ],
      "metadata": {
        "id": "LEimtX2x37LR"
      },
      "execution_count": 23,
      "outputs": []
    },
    {
      "cell_type": "markdown",
      "source": [
        "#### (베이지안 최적화용) 평가지표 계산함수 작성\n",
        " - param_bounds를 순회하며 최적의 하이퍼파라미터 값을 적용해 모델을 훈련 → 훈련된 모델로 성능을 평가하기위한 평가지표 필요\n",
        "\n",
        " - eval_function()은 베이지안 최적화를 수행하기 위한 평가지표(지니계수) 계산함수\n",
        "  > 이 함수로 지니계수를 계산해 최적 하이퍼파라미터 찾는다\n",
        "\n",
        "  > 최적화하려는 LightGBM모델의 하이퍼파라미터 7개를 인수로 받고 지니계수 반화"
      ],
      "metadata": {
        "id": "ICftL88jyWq3"
      }
    },
    {
      "cell_type": "code",
      "source": [
        "def eval_function(num_leaves, lambda_l1, lambda_l2, feature_fraction,\n",
        "                  bagging_fraction, min_child_samples, min_child_weight): # 베이지안 최적화를 위해 확인해볼 하이퍼 파라미터들\n",
        "\n",
        "    # 베이지안 최적화를 수행할 하이퍼파라미터\n",
        "    params = {'num_leaves' : int(round(num_leaves)),    # num_leaves, min_child_samples는 정수여야 함\n",
        "              'lambda_l1' : lambda_l1,\n",
        "              'lambda_l2' : lambda_l2,\n",
        "              'feature_fraction' : feature_fraction,\n",
        "              'bagging_fraction' : bagging_fraction,\n",
        "              'min_child_samples' : int(round(min_child_samples)),\n",
        "              'min_child_weight' : min_child_weight,\n",
        "              'feature_pre_filter' : False}\n",
        "\n",
        "    # 고정된 하이퍼파라미터도 추가\n",
        "    params.update(fixed_params) # 딕셔너리에 합칠시 update()\n",
        "\n",
        "    print('하이퍼파라미터:', params)\n",
        "\n",
        "\n",
        "    # LightGBM 모델 훈련\n",
        "    lgb_model = lgb.train(params=params,\n",
        "                          train_set=bayes_dtrain,\n",
        "                          num_boost_round=2500,\n",
        "                          valid_sets=bayes_dvalid,\n",
        "                          feval=gini,\n",
        "                          early_stopping_rounds=300,\n",
        "                          verbose_eval=False)\n",
        "    \n",
        "    # 검증 데이터로 예측 수행\n",
        "    preds = lgb_model.predict(X_valid)\n",
        "\n",
        "    # 지니계수 계산\n",
        "    gini_score = eval_gini(y_valid, preds)\n",
        "    print(f'지니계수 : {gini_score}\\n')\n",
        "\n",
        "    return gini_score\n"
      ],
      "metadata": {
        "id": "teOVH3toyWSZ"
      },
      "execution_count": 24,
      "outputs": []
    },
    {
      "cell_type": "markdown",
      "source": [
        "#### 최적화 수행\n",
        " - 1.하이퍼파라미터 범위 설정 : param_bounds\n",
        " - 2.평가지표 계산 함수 : eval_function()\n",
        " - 3.베이지안 최적화 객체 생성(파라미터 : param_bounds, eval_function)"
      ],
      "metadata": {
        "id": "pm1TH-KmcBWf"
      }
    },
    {
      "cell_type": "markdown",
      "source": [
        "##### 베이지안 최적화 관련 모듈 설치"
      ],
      "metadata": {
        "id": "IjoqZqs6gb33"
      }
    },
    {
      "cell_type": "code",
      "source": [
        "pip install bayesian-optimization"
      ],
      "metadata": {
        "id": "EALFxXYkgYBR",
        "outputId": "c9058cdf-6efd-41bf-91a9-cd00229d8fc3",
        "colab": {
          "base_uri": "https://localhost:8080/"
        }
      },
      "execution_count": 25,
      "outputs": [
        {
          "output_type": "stream",
          "name": "stdout",
          "text": [
            "Looking in indexes: https://pypi.org/simple, https://us-python.pkg.dev/colab-wheels/public/simple/\n",
            "Collecting bayesian-optimization\n",
            "  Downloading bayesian-optimization-1.2.0.tar.gz (14 kB)\n",
            "Requirement already satisfied: numpy>=1.9.0 in /usr/local/lib/python3.7/dist-packages (from bayesian-optimization) (1.21.6)\n",
            "Requirement already satisfied: scipy>=0.14.0 in /usr/local/lib/python3.7/dist-packages (from bayesian-optimization) (1.4.1)\n",
            "Requirement already satisfied: scikit-learn>=0.18.0 in /usr/local/lib/python3.7/dist-packages (from bayesian-optimization) (1.0.2)\n",
            "Requirement already satisfied: joblib>=0.11 in /usr/local/lib/python3.7/dist-packages (from scikit-learn>=0.18.0->bayesian-optimization) (1.1.0)\n",
            "Requirement already satisfied: threadpoolctl>=2.0.0 in /usr/local/lib/python3.7/dist-packages (from scikit-learn>=0.18.0->bayesian-optimization) (3.1.0)\n",
            "Building wheels for collected packages: bayesian-optimization\n",
            "  Building wheel for bayesian-optimization (setup.py) ... \u001b[?25l\u001b[?25hdone\n",
            "  Created wheel for bayesian-optimization: filename=bayesian_optimization-1.2.0-py3-none-any.whl size=11685 sha256=722f58e02836d04717b93c2b5afab7f6e6ccb153fc8869be0a8f682a6980e035\n",
            "  Stored in directory: /root/.cache/pip/wheels/fd/9b/71/f127d694e02eb40bcf18c7ae9613b88a6be4470f57a8528c5b\n",
            "Successfully built bayesian-optimization\n",
            "Installing collected packages: bayesian-optimization\n",
            "Successfully installed bayesian-optimization-1.2.0\n"
          ]
        }
      ]
    },
    {
      "cell_type": "code",
      "source": [
        "from bayes_opt import BayesianOptimization\n",
        "\n",
        "# 베이지안 최적화 객체 생성\n",
        "optimizer = BayesianOptimization(f=eval_function,       # 평가지표 계산 함수\n",
        "                                 pbounds=param_bounds,  # 하이퍼파라미터 범위\n",
        "                                 random_state=0)"
      ],
      "metadata": {
        "id": "Nlg8oj4r4FjU"
      },
      "execution_count": 26,
      "outputs": []
    },
    {
      "cell_type": "code",
      "source": [
        "optimizer.maximize(init_points=3, n_iter=6) # init_points : 무작위로 하이퍼파라미터 탐색하는 횟수, n_iter : 베이지안 최적화 반복횟수\n",
        "# 베이지안 최적화는 init_points와 n_iter를 더한 값만큼 반복, 총9회 반복"
      ],
      "metadata": {
        "colab": {
          "base_uri": "https://localhost:8080/"
        },
        "id": "r3264QH9gJWK",
        "outputId": "981a866b-6f9c-4f52-c717-9fe82aec7bbb"
      },
      "execution_count": 27,
      "outputs": [
        {
          "output_type": "stream",
          "name": "stdout",
          "text": [
            "|   iter    |  target   | baggin... | featur... | lambda_l1 | lambda_l2 | min_ch... | min_ch... | num_le... |\n",
            "-------------------------------------------------------------------------------------------------------------\n",
            "하이퍼파라미터: {'num_leaves': 34, 'lambda_l1': 0.8205526752143287, 'lambda_l2': 0.9544883182996897, 'feature_fraction': 0.6715189366372419, 'bagging_fraction': 0.7646440511781974, 'min_child_samples': 8, 'min_child_weight': 29.376823391999682, 'feature_pre_filter': False, 'objective': 'binary', 'learning_rate': 0.005, 'bagging_freq': 1, 'force_row_wise': True, 'random_state': 1991}\n",
            "지니계수 : 0.2846778857441302\n",
            "\n",
            "| \u001b[0m 1       \u001b[0m | \u001b[0m 0.2847  \u001b[0m | \u001b[0m 0.7646  \u001b[0m | \u001b[0m 0.6715  \u001b[0m | \u001b[0m 0.8206  \u001b[0m | \u001b[0m 0.9545  \u001b[0m | \u001b[0m 7.695   \u001b[0m | \u001b[0m 29.38   \u001b[0m | \u001b[0m 34.38   \u001b[0m |\n",
            "하이퍼파라미터: {'num_leaves': 39, 'lambda_l1': 0.7766883037651555, 'lambda_l2': 0.9791725038082665, 'feature_fraction': 0.6963662760501029, 'bagging_fraction': 0.867531900234624, 'min_child_samples': 8, 'min_child_weight': 27.04133683281797, 'feature_pre_filter': False, 'objective': 'binary', 'learning_rate': 0.005, 'bagging_freq': 1, 'force_row_wise': True, 'random_state': 1991}\n",
            "지니계수 : 0.2837707744530632\n",
            "\n",
            "| \u001b[0m 2       \u001b[0m | \u001b[0m 0.2838  \u001b[0m | \u001b[0m 0.8675  \u001b[0m | \u001b[0m 0.6964  \u001b[0m | \u001b[0m 0.7767  \u001b[0m | \u001b[0m 0.9792  \u001b[0m | \u001b[0m 8.116   \u001b[0m | \u001b[0m 27.04   \u001b[0m | \u001b[0m 39.26   \u001b[0m |\n",
            "하이퍼파라미터: {'num_leaves': 40, 'lambda_l1': 0.7040436794880651, 'lambda_l2': 0.9832619845547939, 'feature_fraction': 0.608712929970154, 'bagging_fraction': 0.6213108174593661, 'min_child_samples': 9, 'min_child_weight': 36.10036444740457, 'feature_pre_filter': False, 'objective': 'binary', 'learning_rate': 0.005, 'bagging_freq': 1, 'force_row_wise': True, 'random_state': 1991}\n",
            "지니계수 : 0.2856516718359553\n",
            "\n",
            "| \u001b[95m 3       \u001b[0m | \u001b[95m 0.2857  \u001b[0m | \u001b[95m 0.6213  \u001b[0m | \u001b[95m 0.6087  \u001b[0m | \u001b[95m 0.704   \u001b[0m | \u001b[95m 0.9833  \u001b[0m | \u001b[95m 9.113   \u001b[0m | \u001b[95m 36.1    \u001b[0m | \u001b[95m 39.79   \u001b[0m |\n",
            "하이퍼파라미터: {'num_leaves': 39, 'lambda_l1': 0.894923427182547, 'lambda_l2': 0.9583601786148422, 'feature_fraction': 0.660961016236578, 'bagging_fraction': 0.7187091963023217, 'min_child_samples': 8, 'min_child_weight': 37.23501356017725, 'feature_pre_filter': False, 'objective': 'binary', 'learning_rate': 0.005, 'bagging_freq': 1, 'force_row_wise': True, 'random_state': 1991}\n",
            "지니계수 : 0.2857258515448462\n",
            "\n",
            "| \u001b[95m 4       \u001b[0m | \u001b[95m 0.2857  \u001b[0m | \u001b[95m 0.7187  \u001b[0m | \u001b[95m 0.661   \u001b[0m | \u001b[95m 0.8949  \u001b[0m | \u001b[95m 0.9584  \u001b[0m | \u001b[95m 8.032   \u001b[0m | \u001b[95m 37.24   \u001b[0m | \u001b[95m 38.95   \u001b[0m |\n",
            "하이퍼파라미터: {'num_leaves': 32, 'lambda_l1': 0.7, 'lambda_l2': 0.9, 'feature_fraction': 0.6, 'bagging_fraction': 0.6, 'min_child_samples': 10, 'min_child_weight': 40.0, 'feature_pre_filter': False, 'objective': 'binary', 'learning_rate': 0.005, 'bagging_freq': 1, 'force_row_wise': True, 'random_state': 1991}\n",
            "지니계수 : 0.2852150244734812\n",
            "\n",
            "| \u001b[0m 5       \u001b[0m | \u001b[0m 0.2852  \u001b[0m | \u001b[0m 0.6     \u001b[0m | \u001b[0m 0.6     \u001b[0m | \u001b[0m 0.7     \u001b[0m | \u001b[0m 0.9     \u001b[0m | \u001b[0m 10.0    \u001b[0m | \u001b[0m 40.0    \u001b[0m | \u001b[0m 31.68   \u001b[0m |\n",
            "하이퍼파라미터: {'num_leaves': 30, 'lambda_l1': 0.8238942380232972, 'lambda_l2': 0.9238819205808911, 'feature_fraction': 0.6336621508258571, 'bagging_fraction': 0.8360161123978654, 'min_child_samples': 10, 'min_child_weight': 10.07325174263459, 'feature_pre_filter': False, 'objective': 'binary', 'learning_rate': 0.005, 'bagging_freq': 1, 'force_row_wise': True, 'random_state': 1991}\n",
            "지니계수 : 0.28358097225324685\n",
            "\n",
            "| \u001b[0m 6       \u001b[0m | \u001b[0m 0.2836  \u001b[0m | \u001b[0m 0.836   \u001b[0m | \u001b[0m 0.6337  \u001b[0m | \u001b[0m 0.8239  \u001b[0m | \u001b[0m 0.9239  \u001b[0m | \u001b[0m 9.622   \u001b[0m | \u001b[0m 10.07   \u001b[0m | \u001b[0m 30.07   \u001b[0m |\n",
            "하이퍼파라미터: {'num_leaves': 40, 'lambda_l1': 0.7, 'lambda_l2': 1.0, 'feature_fraction': 0.7, 'bagging_fraction': 0.9, 'min_child_samples': 10, 'min_child_weight': 40.0, 'feature_pre_filter': False, 'objective': 'binary', 'learning_rate': 0.005, 'bagging_freq': 1, 'force_row_wise': True, 'random_state': 1991}\n",
            "지니계수 : 0.28416844158148385\n",
            "\n",
            "| \u001b[0m 7       \u001b[0m | \u001b[0m 0.2842  \u001b[0m | \u001b[0m 0.9     \u001b[0m | \u001b[0m 0.7     \u001b[0m | \u001b[0m 0.7     \u001b[0m | \u001b[0m 1.0     \u001b[0m | \u001b[0m 10.0    \u001b[0m | \u001b[0m 40.0    \u001b[0m | \u001b[0m 40.0    \u001b[0m |\n",
            "하이퍼파라미터: {'num_leaves': 38, 'lambda_l1': 0.7022181633556216, 'lambda_l2': 0.9093673458298128, 'feature_fraction': 0.6229349682584451, 'bagging_fraction': 0.617193899018855, 'min_child_samples': 8, 'min_child_weight': 35.24386669357726, 'feature_pre_filter': False, 'objective': 'binary', 'learning_rate': 0.005, 'bagging_freq': 1, 'force_row_wise': True, 'random_state': 1991}\n",
            "지니계수 : 0.285728366659533\n",
            "\n",
            "| \u001b[95m 8       \u001b[0m | \u001b[95m 0.2857  \u001b[0m | \u001b[95m 0.6172  \u001b[0m | \u001b[95m 0.6229  \u001b[0m | \u001b[95m 0.7022  \u001b[0m | \u001b[95m 0.9094  \u001b[0m | \u001b[95m 7.936   \u001b[0m | \u001b[95m 35.24   \u001b[0m | \u001b[95m 37.53   \u001b[0m |\n",
            "하이퍼파라미터: {'num_leaves': 40, 'lambda_l1': 0.9, 'lambda_l2': 0.9159110552679353, 'feature_fraction': 0.6, 'bagging_fraction': 0.6, 'min_child_samples': 6, 'min_child_weight': 35.14591174568853, 'feature_pre_filter': False, 'objective': 'binary', 'learning_rate': 0.005, 'bagging_freq': 1, 'force_row_wise': True, 'random_state': 1991}\n",
            "지니계수 : 0.2860104800381049\n",
            "\n",
            "| \u001b[95m 9       \u001b[0m | \u001b[95m 0.286   \u001b[0m | \u001b[95m 0.6     \u001b[0m | \u001b[95m 0.6     \u001b[0m | \u001b[95m 0.9     \u001b[0m | \u001b[95m 0.9159  \u001b[0m | \u001b[95m 6.0     \u001b[0m | \u001b[95m 35.15   \u001b[0m | \u001b[95m 40.0    \u001b[0m |\n",
            "=============================================================================================================\n"
          ]
        }
      ]
    },
    {
      "cell_type": "code",
      "source": [
        "optimizer.max # dict"
      ],
      "metadata": {
        "colab": {
          "base_uri": "https://localhost:8080/"
        },
        "id": "nULqZ1t_heu0",
        "outputId": "7c2addff-da49-45d2-8f4e-2ca5ff859bd5"
      },
      "execution_count": 28,
      "outputs": [
        {
          "output_type": "execute_result",
          "data": {
            "text/plain": [
              "{'params': {'bagging_fraction': 0.6,\n",
              "  'feature_fraction': 0.6,\n",
              "  'lambda_l1': 0.9,\n",
              "  'lambda_l2': 0.9159110552679353,\n",
              "  'min_child_samples': 6.0,\n",
              "  'min_child_weight': 35.14591174568853,\n",
              "  'num_leaves': 40.0},\n",
              " 'target': 0.2860104800381049}"
            ]
          },
          "metadata": {},
          "execution_count": 28
        }
      ]
    },
    {
      "cell_type": "code",
      "source": [
        "optimizer.max.keys() # dict의 key들"
      ],
      "metadata": {
        "colab": {
          "base_uri": "https://localhost:8080/"
        },
        "id": "KM7fJgu2pPNW",
        "outputId": "45e6a16a-772f-44c7-de85-7c9801668f14"
      },
      "execution_count": 29,
      "outputs": [
        {
          "output_type": "execute_result",
          "data": {
            "text/plain": [
              "dict_keys(['target', 'params'])"
            ]
          },
          "metadata": {},
          "execution_count": 29
        }
      ]
    },
    {
      "cell_type": "code",
      "source": [
        "optimizer.max['params'] # 지니계수가 최대가 되는, 즉 최적 하이퍼파라미터"
      ],
      "metadata": {
        "colab": {
          "base_uri": "https://localhost:8080/"
        },
        "id": "QnDzdoTuvNqq",
        "outputId": "009f6afd-2ebf-4952-d2e1-9fe2c1d68756"
      },
      "execution_count": 30,
      "outputs": [
        {
          "output_type": "execute_result",
          "data": {
            "text/plain": [
              "{'bagging_fraction': 0.6,\n",
              " 'feature_fraction': 0.6,\n",
              " 'lambda_l1': 0.9,\n",
              " 'lambda_l2': 0.9159110552679353,\n",
              " 'min_child_samples': 6.0,\n",
              " 'min_child_weight': 35.14591174568853,\n",
              " 'num_leaves': 40.0}"
            ]
          },
          "metadata": {},
          "execution_count": 30
        }
      ]
    },
    {
      "cell_type": "code",
      "source": [
        "max_params = optimizer.max['params']"
      ],
      "metadata": {
        "id": "slibdysCvVPc"
      },
      "execution_count": 31,
      "outputs": []
    },
    {
      "cell_type": "markdown",
      "source": [
        " - num_leaves, min_child_samples는 원래 정수형 하이퍼파라미터이므로 정수형으로 변환"
      ],
      "metadata": {
        "id": "vH3bfVv7viS7"
      }
    },
    {
      "cell_type": "code",
      "source": [
        "max_params.update({'num_leaves': int(round(max_params['num_leaves'])),  # 딕셔너리.update({딕셔너리}) : 딕셔너리 변경/추가\n",
        "                   'min_child_samples': int(round(max_params['min_child_samples']))})"
      ],
      "metadata": {
        "id": "SV1s7BJqvh0Y"
      },
      "execution_count": 32,
      "outputs": []
    },
    {
      "cell_type": "code",
      "source": [
        "max_params"
      ],
      "metadata": {
        "id": "Z4_DHzt7428o",
        "outputId": "f0c89be9-45dd-40a9-a20f-ae66b7651505",
        "colab": {
          "base_uri": "https://localhost:8080/"
        }
      },
      "execution_count": 33,
      "outputs": [
        {
          "output_type": "execute_result",
          "data": {
            "text/plain": [
              "{'bagging_fraction': 0.6,\n",
              " 'feature_fraction': 0.6,\n",
              " 'lambda_l1': 0.9,\n",
              " 'lambda_l2': 0.9159110552679353,\n",
              " 'min_child_samples': 6,\n",
              " 'min_child_weight': 35.14591174568853,\n",
              " 'num_leaves': 40}"
            ]
          },
          "metadata": {},
          "execution_count": 33
        }
      ]
    },
    {
      "cell_type": "markdown",
      "source": [
        " - 고정된 하이퍼파라미터들(fixed_params) 추가"
      ],
      "metadata": {
        "id": "QKHb62Yk5OvR"
      }
    },
    {
      "cell_type": "code",
      "source": [
        "max_params.update(fixed_params)"
      ],
      "metadata": {
        "id": "3hP_eMhU45yu"
      },
      "execution_count": 34,
      "outputs": []
    },
    {
      "cell_type": "code",
      "source": [
        "max_params"
      ],
      "metadata": {
        "id": "HjE4nhd85Tu_",
        "outputId": "f7f2527a-0048-4fb3-be81-058f9caab482",
        "colab": {
          "base_uri": "https://localhost:8080/"
        }
      },
      "execution_count": 36,
      "outputs": [
        {
          "output_type": "execute_result",
          "data": {
            "text/plain": [
              "{'bagging_fraction': 0.6,\n",
              " 'bagging_freq': 1,\n",
              " 'feature_fraction': 0.6,\n",
              " 'force_row_wise': True,\n",
              " 'lambda_l1': 0.9,\n",
              " 'lambda_l2': 0.9159110552679353,\n",
              " 'learning_rate': 0.005,\n",
              " 'min_child_samples': 6,\n",
              " 'min_child_weight': 35.14591174568853,\n",
              " 'num_leaves': 40,\n",
              " 'objective': 'binary',\n",
              " 'random_state': 1991}"
            ]
          },
          "metadata": {},
          "execution_count": 36
        }
      ]
    },
    {
      "cell_type": "markdown",
      "source": [
        " - 베이지안 최적화를 적용해 구한 최적 하이퍼파라미터"
      ],
      "metadata": {
        "id": "eg7dOQ1P8Fpo"
      }
    },
    {
      "cell_type": "markdown",
      "source": [
        "### 모델 훈련 및 성능 검증\n",
        " - 그리드 서치와는 달리 베이지안 최적화는 최적 하이퍼파라미터 값들로 훈련된 모델을 제공 하지 않는다\n",
        " - 따라서 베이지안 최적화로 찾은 하이퍼파라미터 활용해 LightGBM 모델을 다시 훈련"
      ],
      "metadata": {
        "id": "A9UM_k1164wk"
      }
    },
    {
      "cell_type": "code",
      "source": [
        "from sklearn.model_selection import StratifiedKFold\n",
        "\n",
        "# 층화 K 폴드 교차검증기 생성\n",
        "folds = StratifiedKFold(n_splits=5, shuffle=True, random_state=1991)\n",
        "\n",
        "# OOF 방식으로 훈련된 모델로 검증 데이터 타깃값을 예측한 확률을 담을 1차원 배열\n",
        "oof_val_preds = np.zeros(X.shape[0])\n",
        "# OOF 방식으로 훈련된 모델로 테스트 데이터 타깃값을 예측한 확률을 담을 1차원 배열\n",
        "oof_test_preds = np.zeros(X_test.shape[0])\n",
        "\n",
        "# OOF 방식으로 모델 훈련, 검증, 예측\n",
        "for idx, (train_idx, valid_idx) in enumerate(folds.split(X, y)):\n",
        "    # 각 폴드를 구분하는 문구 출력\n",
        "    print('#'*40, f'{idx+1} 폴드 / {folds.n_splits}', '#'*40)\n",
        "    # 훈련용 데이터, 검증용 데이터 설정\n",
        "    X_train, y_train = X[train_idx], y[train_idx]   # OOF 방식으로 4/5등분한 테스트 데이터세트\n",
        "    X_valid, y_valid = X[valid_idx], y[valid_idx]   # OOF 방식으로 1/5등분한 검증용 데이터세트\n",
        "\n",
        "    # LightGBM 전용 데이터세트 생성\n",
        "    dtrain = lgb.Dataset(X_train, y_train) # LightGBM 전용 훈련 데이터 세트\n",
        "    dvalid = lgb.Dataset(X_valid, y_valid) # LightGBM 전용 검증 데이터 세트\n",
        "\n",
        "\n",
        "    # 각 fold에서 훈련데이터를 통해 LightGBM모델 훈련 : OOF 방식에서 주로 쓰이는 부스팅 모델(LightGBM)\n",
        "    lgb_model = lgb.train(params=max_params,\n",
        "                          train_set=dtrain,\n",
        "                          num_boost_round=2500,\n",
        "                          valid_sets=dvalid,\n",
        "                          feval=gini,                  # 검증용 평가지표\n",
        "                          # gini(preds, dtrain) : gini()는 eval_gini(dtrain.get_label(), preds)을 return함\n",
        "                          early_stopping_rounds=300,   # 조기종료 조건\n",
        "                          verbose_eval=100)            # 100번째마다 점수 출력\n",
        "    \n",
        "    # 테스트 데이터를 활용해 OOF 예측(훈련된 LightGBM으로 테스트데이터 예측)\n",
        "    oof_test_preds += lgb_model.predict(X_test)/folds.n_splits # 5번 더해지니까 더할때 마다 5를 나눠줘서 더함\n",
        "    # 모델 성능 평가를 위한 검증 데이터 타깃값 예측\n",
        "    oof_val_preds[valid_idx] += lgb_model.predict(X_valid) # oof_val_preds배열의 해당자리에 값이 차도록 함\n",
        "\n",
        "    # 검증 데이터 예측 확률에 대한 정규화 지니계수 : 모델 성능평가를 정규화 지니계수의 크기로 판단\n",
        "    gini_score = eval_gini(y_valid, oof_val_preds[valid_idx]) # eval_gini(실제값, 예측값)\n",
        "    print(f'{idx+1} 폴드, 지니계수 : {gini_score}\\n')\n"
      ],
      "metadata": {
        "id": "ZfbO8sRK7NTo",
        "outputId": "75c00027-7138-4189-93d1-5fd52f0bdea6",
        "colab": {
          "base_uri": "https://localhost:8080/"
        }
      },
      "execution_count": null,
      "outputs": [
        {
          "output_type": "stream",
          "name": "stdout",
          "text": [
            "######################################## 1 폴드 / 5 ########################################\n",
            "Training until validation scores don't improve for 300 rounds.\n",
            "[100]\tvalid_0's binary_logloss: 0.154268\tvalid_0's gini: 0.269399\n",
            "[200]\tvalid_0's binary_logloss: 0.153181\tvalid_0's gini: 0.275843\n",
            "[300]\tvalid_0's binary_logloss: 0.152576\tvalid_0's gini: 0.280498\n",
            "[400]\tvalid_0's binary_logloss: 0.152218\tvalid_0's gini: 0.28355\n",
            "[500]\tvalid_0's binary_logloss: 0.151979\tvalid_0's gini: 0.286622\n",
            "[600]\tvalid_0's binary_logloss: 0.151816\tvalid_0's gini: 0.289257\n",
            "[700]\tvalid_0's binary_logloss: 0.151701\tvalid_0's gini: 0.291343\n",
            "[800]\tvalid_0's binary_logloss: 0.151617\tvalid_0's gini: 0.292899\n",
            "[900]\tvalid_0's binary_logloss: 0.151549\tvalid_0's gini: 0.294374\n",
            "[1000]\tvalid_0's binary_logloss: 0.151498\tvalid_0's gini: 0.295459\n",
            "[1100]\tvalid_0's binary_logloss: 0.151457\tvalid_0's gini: 0.296364\n",
            "[1200]\tvalid_0's binary_logloss: 0.151423\tvalid_0's gini: 0.29724\n",
            "[1300]\tvalid_0's binary_logloss: 0.1514\tvalid_0's gini: 0.297733\n",
            "[1400]\tvalid_0's binary_logloss: 0.151387\tvalid_0's gini: 0.298047\n",
            "[1500]\tvalid_0's binary_logloss: 0.151373\tvalid_0's gini: 0.298277\n",
            "[1600]\tvalid_0's binary_logloss: 0.151359\tvalid_0's gini: 0.29857\n",
            "[1700]\tvalid_0's binary_logloss: 0.151349\tvalid_0's gini: 0.298753\n",
            "[1800]\tvalid_0's binary_logloss: 0.151344\tvalid_0's gini: 0.298831\n",
            "[1900]\tvalid_0's binary_logloss: 0.151344\tvalid_0's gini: 0.298829\n",
            "[2000]\tvalid_0's binary_logloss: 0.151347\tvalid_0's gini: 0.298758\n",
            "[2100]\tvalid_0's binary_logloss: 0.151351\tvalid_0's gini: 0.298737\n",
            "Early stopping, best iteration is:\n",
            "[1836]\tvalid_0's binary_logloss: 0.151339\tvalid_0's gini: 0.298925\n",
            "1 폴드, 지니계수 : 0.2989250430081813\n",
            "\n",
            "######################################## 2 폴드 / 5 ########################################\n",
            "Training until validation scores don't improve for 300 rounds.\n",
            "[100]\tvalid_0's binary_logloss: 0.154358\tvalid_0's gini: 0.25882\n",
            "[200]\tvalid_0's binary_logloss: 0.153358\tvalid_0's gini: 0.26435\n",
            "[300]\tvalid_0's binary_logloss: 0.15281\tvalid_0's gini: 0.268368\n",
            "[400]\tvalid_0's binary_logloss: 0.152494\tvalid_0's gini: 0.271296\n",
            "[500]\tvalid_0's binary_logloss: 0.152297\tvalid_0's gini: 0.273881\n",
            "[600]\tvalid_0's binary_logloss: 0.15216\tvalid_0's gini: 0.276173\n",
            "[700]\tvalid_0's binary_logloss: 0.152065\tvalid_0's gini: 0.277939\n",
            "[800]\tvalid_0's binary_logloss: 0.15199\tvalid_0's gini: 0.279707\n",
            "[900]\tvalid_0's binary_logloss: 0.151941\tvalid_0's gini: 0.280785\n",
            "[1000]\tvalid_0's binary_logloss: 0.151897\tvalid_0's gini: 0.281787\n",
            "[1100]\tvalid_0's binary_logloss: 0.151857\tvalid_0's gini: 0.28285\n",
            "[1200]\tvalid_0's binary_logloss: 0.151827\tvalid_0's gini: 0.283572\n",
            "[1300]\tvalid_0's binary_logloss: 0.151806\tvalid_0's gini: 0.284154\n",
            "[1400]\tvalid_0's binary_logloss: 0.151795\tvalid_0's gini: 0.284478\n",
            "[1500]\tvalid_0's binary_logloss: 0.151782\tvalid_0's gini: 0.284889\n",
            "[1600]\tvalid_0's binary_logloss: 0.151774\tvalid_0's gini: 0.285168\n",
            "[1700]\tvalid_0's binary_logloss: 0.151772\tvalid_0's gini: 0.285179\n",
            "[1800]\tvalid_0's binary_logloss: 0.15177\tvalid_0's gini: 0.28525\n",
            "[1900]\tvalid_0's binary_logloss: 0.151768\tvalid_0's gini: 0.285344\n",
            "[2000]\tvalid_0's binary_logloss: 0.151762\tvalid_0's gini: 0.285538\n",
            "[2100]\tvalid_0's binary_logloss: 0.151762\tvalid_0's gini: 0.28565\n",
            "[2200]\tvalid_0's binary_logloss: 0.151761\tvalid_0's gini: 0.285649\n",
            "[2300]\tvalid_0's binary_logloss: 0.151769\tvalid_0's gini: 0.285566\n",
            "Early stopping, best iteration is:\n",
            "[2055]\tvalid_0's binary_logloss: 0.151757\tvalid_0's gini: 0.285716\n",
            "2 폴드, 지니계수 : 0.2857157937923233\n",
            "\n",
            "######################################## 3 폴드 / 5 ########################################\n",
            "Training until validation scores don't improve for 300 rounds.\n",
            "[100]\tvalid_0's binary_logloss: 0.154252\tvalid_0's gini: 0.263719\n",
            "[200]\tvalid_0's binary_logloss: 0.153184\tvalid_0's gini: 0.267914\n",
            "[300]\tvalid_0's binary_logloss: 0.1526\tvalid_0's gini: 0.271712\n",
            "[400]\tvalid_0's binary_logloss: 0.152258\tvalid_0's gini: 0.274562\n",
            "[500]\tvalid_0's binary_logloss: 0.15203\tvalid_0's gini: 0.277268\n",
            "[600]\tvalid_0's binary_logloss: 0.151875\tvalid_0's gini: 0.279541\n",
            "[700]\tvalid_0's binary_logloss: 0.151776\tvalid_0's gini: 0.281019\n",
            "[800]\tvalid_0's binary_logloss: 0.151704\tvalid_0's gini: 0.282276\n",
            "[900]\tvalid_0's binary_logloss: 0.151656\tvalid_0's gini: 0.283177\n",
            "[1000]\tvalid_0's binary_logloss: 0.15163\tvalid_0's gini: 0.283729\n",
            "[1100]\tvalid_0's binary_logloss: 0.151609\tvalid_0's gini: 0.284139\n",
            "[1200]\tvalid_0's binary_logloss: 0.151593\tvalid_0's gini: 0.284543\n",
            "[1300]\tvalid_0's binary_logloss: 0.151591\tvalid_0's gini: 0.284508\n",
            "[1400]\tvalid_0's binary_logloss: 0.151587\tvalid_0's gini: 0.284527\n",
            "[1500]\tvalid_0's binary_logloss: 0.151586\tvalid_0's gini: 0.284442\n",
            "Early stopping, best iteration is:\n",
            "[1242]\tvalid_0's binary_logloss: 0.151586\tvalid_0's gini: 0.284708\n",
            "3 폴드, 지니계수 : 0.2847084075235308\n",
            "\n",
            "######################################## 4 폴드 / 5 ########################################\n",
            "Training until validation scores don't improve for 300 rounds.\n",
            "[100]\tvalid_0's binary_logloss: 0.154336\tvalid_0's gini: 0.257346\n",
            "[200]\tvalid_0's binary_logloss: 0.153308\tvalid_0's gini: 0.262867\n",
            "[300]\tvalid_0's binary_logloss: 0.152763\tvalid_0's gini: 0.266131\n",
            "[400]\tvalid_0's binary_logloss: 0.152446\tvalid_0's gini: 0.268817\n",
            "[500]\tvalid_0's binary_logloss: 0.152247\tvalid_0's gini: 0.271233\n",
            "[600]\tvalid_0's binary_logloss: 0.152128\tvalid_0's gini: 0.272851\n",
            "[700]\tvalid_0's binary_logloss: 0.152038\tvalid_0's gini: 0.274512\n",
            "[800]\tvalid_0's binary_logloss: 0.151976\tvalid_0's gini: 0.275772\n",
            "[900]\tvalid_0's binary_logloss: 0.151934\tvalid_0's gini: 0.276735\n",
            "[1000]\tvalid_0's binary_logloss: 0.15191\tvalid_0's gini: 0.277255\n",
            "[1100]\tvalid_0's binary_logloss: 0.151877\tvalid_0's gini: 0.278131\n"
          ]
        }
      ]
    },
    {
      "cell_type": "markdown",
      "source": [
        " - 1폴드 기준으로 최고 지니계수 0.298925\n",
        " - OOF 검증 데이터 지니계수\n",
        "    > OOF방식으로, 검증데이터 전체(전체 훈련데이터)의 예측값과, 실제 검증값으로 eval_gini(y, oof_val_preds)\n",
        "\n",
        " - feval = gini(dtrain으로 훈련된 모델의 predict(X_valid), dvalid)"
      ],
      "metadata": {
        "id": "H_TkSY6RFJjE"
      }
    },
    {
      "cell_type": "code",
      "source": [
        "print('OOF 검증 데이터 지니계수 :', eval_gini(y, oof_val_preds))"
      ],
      "metadata": {
        "id": "zS2i7WqiGami",
        "outputId": "0c146f69-a472-4152-e852-e55354e9f84d",
        "colab": {
          "base_uri": "https://localhost:8080/",
          "height": 170
        }
      },
      "execution_count": 1,
      "outputs": [
        {
          "output_type": "error",
          "ename": "NameError",
          "evalue": "ignored",
          "traceback": [
            "\u001b[0;31m---------------------------------------------------------------------------\u001b[0m",
            "\u001b[0;31mNameError\u001b[0m                                 Traceback (most recent call last)",
            "\u001b[0;32m<ipython-input-1-56d27f9bfa1c>\u001b[0m in \u001b[0;36m<module>\u001b[0;34m()\u001b[0m\n\u001b[0;32m----> 1\u001b[0;31m \u001b[0mprint\u001b[0m\u001b[0;34m(\u001b[0m\u001b[0;34m'OOF 검증 데이터 지니계수 :'\u001b[0m\u001b[0;34m,\u001b[0m \u001b[0meval_gini\u001b[0m\u001b[0;34m(\u001b[0m\u001b[0my\u001b[0m\u001b[0;34m,\u001b[0m \u001b[0moof_val_preds\u001b[0m\u001b[0;34m)\u001b[0m\u001b[0;34m)\u001b[0m\u001b[0;34m\u001b[0m\u001b[0;34m\u001b[0m\u001b[0m\n\u001b[0m",
            "\u001b[0;31mNameError\u001b[0m: name 'eval_gini' is not defined"
          ]
        }
      ]
    },
    {
      "cell_type": "code",
      "source": [
        "submission['target'] = oof_test_preds\n",
        "submission.to_csv('submission.csv')"
      ],
      "metadata": {
        "id": "V9rDJZi89aOY",
        "outputId": "1e67c8cc-0824-4814-dc27-d5196ec50460",
        "colab": {
          "base_uri": "https://localhost:8080/"
        }
      },
      "execution_count": 45,
      "outputs": [
        {
          "output_type": "execute_result",
          "data": {
            "text/plain": [
              "(892816, 217)"
            ]
          },
          "metadata": {},
          "execution_count": 45
        }
      ]
    }
  ],
  "metadata": {
    "colab": {
      "collapsed_sections": [],
      "name": "Colaboratory에 오신 것을 환영합니다",
      "provenance": [],
      "include_colab_link": true
    },
    "kernelspec": {
      "display_name": "Python 3",
      "name": "python3"
    },
    "accelerator": "GPU",
    "gpuClass": "standard"
  },
  "nbformat": 4,
  "nbformat_minor": 0
}