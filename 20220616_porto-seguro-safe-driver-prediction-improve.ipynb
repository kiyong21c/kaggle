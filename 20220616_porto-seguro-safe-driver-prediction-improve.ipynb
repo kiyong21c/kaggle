{
  "cells": [
    {
      "cell_type": "markdown",
      "metadata": {
        "id": "view-in-github",
        "colab_type": "text"
      },
      "source": [
        "<a href=\"https://colab.research.google.com/github/kiyong21c/kaggle/blob/main/20220616_porto-seguro-safe-driver-prediction-improve.ipynb\" target=\"_parent\"><img src=\"https://colab.research.google.com/assets/colab-badge.svg\" alt=\"Open In Colab\"/></a>"
      ]
    },
    {
      "cell_type": "code",
      "source": [
        "from google.colab import drive\n",
        "drive.mount('/content/drive')"
      ],
      "metadata": {
        "id": "g8C4TYr9sKTr",
        "outputId": "0ff445f2-2bec-4c7f-c51e-54fc8fe787e4",
        "colab": {
          "base_uri": "https://localhost:8080/"
        }
      },
      "execution_count": 40,
      "outputs": [
        {
          "output_type": "stream",
          "name": "stdout",
          "text": [
            "Drive already mounted at /content/drive; to attempt to forcibly remount, call drive.mount(\"/content/drive\", force_remount=True).\n"
          ]
        }
      ]
    },
    {
      "cell_type": "markdown",
      "source": [
        "# 안전운전자 예측\n",
        " - 실제 보험사에서 제공한 고객 데이터 활용하여 운전자가 보험을 청구할 확률 예측\n",
        " - 문제유형 : 이진분류\n",
        " - 평가지표 : 정규화된 지니계수\n",
        " - 사용모델 : LightGBM, XGBoost의 앙상블"
      ],
      "metadata": {
        "id": "mXn6wsujp20_"
      }
    },
    {
      "cell_type": "markdown",
      "source": [
        "## 성능 개선 1 : LightGBM 모델\n",
        " - 피처 엔지니어링, 하이퍼파라미터 최적화"
      ],
      "metadata": {
        "id": "KH1j2mWbx_U3"
      }
    },
    {
      "cell_type": "code",
      "source": [
        "import pandas as pd\n",
        "\n",
        "data_path = '/content/drive/MyDrive/Colab Notebooks/kaggle/input/porto-seguro-safe-driver-prediction/'\n",
        "\n",
        "train = pd.read_csv(data_path + 'train.csv', index_col='id')\n",
        "test = pd.read_csv(data_path + 'test.csv', index_col='id')\n",
        "submission = pd.read_csv(data_path + 'sample_submission.csv', index_col='id')"
      ],
      "metadata": {
        "id": "1rbYA4RUx-Lf"
      },
      "execution_count": 67,
      "outputs": []
    },
    {
      "cell_type": "markdown",
      "source": [
        "### 피처 엔지니어링"
      ],
      "metadata": {
        "id": "FMnc3brXjVvt"
      }
    },
    {
      "cell_type": "markdown",
      "source": [
        "#### 데이터 합치기"
      ],
      "metadata": {
        "id": "Jre3M85HjXSI"
      }
    },
    {
      "cell_type": "code",
      "source": [
        ""
      ],
      "metadata": {
        "id": "G0mM9BWnjUXk"
      },
      "execution_count": null,
      "outputs": []
    }
  ],
  "metadata": {
    "colab": {
      "collapsed_sections": [],
      "name": "Colaboratory에 오신 것을 환영합니다",
      "provenance": [],
      "include_colab_link": true
    },
    "kernelspec": {
      "display_name": "Python 3",
      "name": "python3"
    }
  },
  "nbformat": 4,
  "nbformat_minor": 0
}