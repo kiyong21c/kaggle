{
 "cells": [
  {
   "cell_type": "code",
   "execution_count": 1,
   "id": "56c82b1f",
   "metadata": {
    "_cell_guid": "b1076dfc-b9ad-4769-8c92-a6c4dae69d19",
    "_uuid": "8f2839f25d086af736a60e9eeb907d3b93b6e0e5",
    "execution": {
     "iopub.execute_input": "2022-05-28T04:52:55.924751Z",
     "iopub.status.busy": "2022-05-28T04:52:55.924216Z",
     "iopub.status.idle": "2022-05-28T04:52:55.938122Z",
     "shell.execute_reply": "2022-05-28T04:52:55.937150Z"
    },
    "papermill": {
     "duration": 0.025392,
     "end_time": "2022-05-28T04:52:55.943099",
     "exception": false,
     "start_time": "2022-05-28T04:52:55.917707",
     "status": "completed"
    },
    "tags": []
   },
   "outputs": [
    {
     "name": "stdout",
     "output_type": "stream",
     "text": [
      "/kaggle/input/titanic/train.csv\n",
      "/kaggle/input/titanic/test.csv\n",
      "/kaggle/input/titanic/gender_submission.csv\n"
     ]
    }
   ],
   "source": [
    "# This Python 3 environment comes with many helpful analytics libraries installed\n",
    "# It is defined by the kaggle/python Docker image: https://github.com/kaggle/docker-python\n",
    "# For example, here's several helpful packages to load\n",
    "\n",
    "import numpy as np # linear algebra\n",
    "import pandas as pd # data processing, CSV file I/O (e.g. pd.read_csv)\n",
    "\n",
    "# Input data files are available in the read-only \"../input/\" directory\n",
    "# For example, running this (by clicking run or pressing Shift+Enter) will list all files under the input directory\n",
    "\n",
    "import os\n",
    "for dirname, _, filenames in os.walk('/kaggle/input'):\n",
    "    for filename in filenames:\n",
    "        print(os.path.join(dirname, filename))\n",
    "\n",
    "# You can write up to 20GB to the current directory (/kaggle/working/) that gets preserved as output when you create a version using \"Save & Run All\" \n",
    "# You can also write temporary files to /kaggle/temp/, but they won't be saved outside of the current session"
   ]
  },
  {
   "cell_type": "code",
   "execution_count": 2,
   "id": "4b89d03a",
   "metadata": {
    "execution": {
     "iopub.execute_input": "2022-05-28T04:52:55.952556Z",
     "iopub.status.busy": "2022-05-28T04:52:55.951609Z",
     "iopub.status.idle": "2022-05-28T04:52:55.957912Z",
     "shell.execute_reply": "2022-05-28T04:52:55.956615Z"
    },
    "papermill": {
     "duration": 0.013436,
     "end_time": "2022-05-28T04:52:55.960264",
     "exception": false,
     "start_time": "2022-05-28T04:52:55.946828",
     "status": "completed"
    },
    "tags": []
   },
   "outputs": [
    {
     "name": "stdout",
     "output_type": "stream",
     "text": [
      "3.7.12 | packaged by conda-forge | (default, Oct 26 2021, 06:08:53) \n",
      "[GCC 9.4.0]\n"
     ]
    }
   ],
   "source": [
    "import sys\n",
    "print(sys.version) # 파이썬 버전 확인"
   ]
  },
  {
   "cell_type": "code",
   "execution_count": 3,
   "id": "92923c9c",
   "metadata": {
    "execution": {
     "iopub.execute_input": "2022-05-28T04:52:55.969157Z",
     "iopub.status.busy": "2022-05-28T04:52:55.968697Z",
     "iopub.status.idle": "2022-05-28T04:52:58.575598Z",
     "shell.execute_reply": "2022-05-28T04:52:58.574089Z"
    },
    "papermill": {
     "duration": 2.614133,
     "end_time": "2022-05-28T04:52:58.578020",
     "exception": false,
     "start_time": "2022-05-28T04:52:55.963887",
     "status": "completed"
    },
    "tags": []
   },
   "outputs": [
    {
     "data": {
      "text/html": [
       "<style type='text/css'>\n",
       ".datatable table.frame { margin-bottom: 0; }\n",
       ".datatable table.frame thead { border-bottom: none; }\n",
       ".datatable table.frame tr.coltypes td {  color: #FFFFFF;  line-height: 6px;  padding: 0 0.5em;}\n",
       ".datatable .bool    { background: #DDDD99; }\n",
       ".datatable .object  { background: #565656; }\n",
       ".datatable .int     { background: #5D9E5D; }\n",
       ".datatable .float   { background: #4040CC; }\n",
       ".datatable .str     { background: #CC4040; }\n",
       ".datatable .time    { background: #40CC40; }\n",
       ".datatable .row_index {  background: var(--jp-border-color3);  border-right: 1px solid var(--jp-border-color0);  color: var(--jp-ui-font-color3);  font-size: 9px;}\n",
       ".datatable .frame tbody td { text-align: left; }\n",
       ".datatable .frame tr.coltypes .row_index {  background: var(--jp-border-color0);}\n",
       ".datatable th:nth-child(2) { padding-left: 12px; }\n",
       ".datatable .hellipsis {  color: var(--jp-cell-editor-border-color);}\n",
       ".datatable .vellipsis {  background: var(--jp-layout-color0);  color: var(--jp-cell-editor-border-color);}\n",
       ".datatable .na {  color: var(--jp-cell-editor-border-color);  font-size: 80%;}\n",
       ".datatable .sp {  opacity: 0.25;}\n",
       ".datatable .footer { font-size: 9px; }\n",
       ".datatable .frame_dimensions {  background: var(--jp-border-color3);  border-top: 1px solid var(--jp-border-color0);  color: var(--jp-ui-font-color3);  display: inline-block;  opacity: 0.6;  padding: 1px 10px 1px 5px;}\n",
       "</style>\n"
      ],
      "text/plain": [
       "<IPython.core.display.HTML object>"
      ]
     },
     "metadata": {},
     "output_type": "display_data"
    },
    {
     "name": "stdout",
     "output_type": "stream",
     "text": [
      "numpy: 1.21.6\n",
      "pandas: 1.3.5\n",
      "seaborn: 0.11.2\n",
      "matplotlib: 3.5.2\n",
      "sklearn: 1.0.2\n",
      "scipy: 1.7.3\n",
      "missingno: 0.4.2\n",
      "lightgbm: 3.3.2\n",
      "xgboost: 1.6.1\n"
     ]
    }
   ],
   "source": [
    "# 머신러닝 경진대회 : 6~9장에서 사용 되는 라이브러리\n",
    "import numpy, pandas, seaborn, matplotlib, sklearn, scipy, missingno, lightgbm, xgboost\n",
    "print('numpy:', numpy.__version__)\n",
    "print('pandas:', pandas.__version__)\n",
    "print('seaborn:', seaborn.__version__)\n",
    "print('matplotlib:', matplotlib.__version__)\n",
    "print('sklearn:', sklearn.__version__)\n",
    "print('scipy:', scipy.__version__)\n",
    "print('missingno:', missingno.__version__)\n",
    "print('lightgbm:', lightgbm.__version__)\n",
    "print('xgboost:', xgboost.__version__)\n"
   ]
  },
  {
   "cell_type": "code",
   "execution_count": 4,
   "id": "55f77a97",
   "metadata": {
    "execution": {
     "iopub.execute_input": "2022-05-28T04:52:58.588728Z",
     "iopub.status.busy": "2022-05-28T04:52:58.587949Z",
     "iopub.status.idle": "2022-05-28T04:53:07.906240Z",
     "shell.execute_reply": "2022-05-28T04:53:07.904896Z"
    },
    "papermill": {
     "duration": 9.32607,
     "end_time": "2022-05-28T04:53:07.908476",
     "exception": false,
     "start_time": "2022-05-28T04:52:58.582406",
     "status": "completed"
    },
    "tags": []
   },
   "outputs": [
    {
     "name": "stdout",
     "output_type": "stream",
     "text": [
      "numpy: 1.21.6\n",
      "pandas: 1.3.5\n",
      "matplotlib: 3.5.2\n",
      "sklearn: 1.0.2\n",
      "torch: 1.11.0+cpu\n",
      "torchvision: 0.12.0+cpu\n",
      "cv2: 4.5.4\n",
      "albumentations: 1.1.0\n",
      "transformers: 4.18.0\n"
     ]
    }
   ],
   "source": [
    "# 딥러닝 경진대회 : 11~13장에서 사용 되는 라이브러리\n",
    "import numpy, pandas, matplotlib, sklearn, torch, torchvision, cv2, albumentations, transformers\n",
    "print('numpy:', numpy.__version__)\n",
    "print('pandas:', pandas.__version__)\n",
    "print('matplotlib:', matplotlib.__version__)\n",
    "print('sklearn:', sklearn.__version__)\n",
    "print('torch:', torch.__version__)\n",
    "print('torchvision:', torchvision.__version__)\n",
    "print('cv2:', cv2.__version__)\n",
    "print('albumentations:', albumentations.__version__)\n",
    "print('transformers:', transformers.__version__)"
   ]
  },
  {
   "cell_type": "markdown",
   "id": "be616f59",
   "metadata": {
    "papermill": {
     "duration": 0.003645,
     "end_time": "2022-05-28T04:53:07.916191",
     "exception": false,
     "start_time": "2022-05-28T04:53:07.912546",
     "status": "completed"
    },
    "tags": []
   },
   "source": [
    "제출파일 생성 절차 익히기\n",
    " - 훈련과 예측을 따로 하지 않고 샘플 파일인 gender_submission.csv 내용 그대로를 제출 파일로 생성"
   ]
  },
  {
   "cell_type": "code",
   "execution_count": 5,
   "id": "2e905a9f",
   "metadata": {
    "execution": {
     "iopub.execute_input": "2022-05-28T04:53:07.926265Z",
     "iopub.status.busy": "2022-05-28T04:53:07.925496Z",
     "iopub.status.idle": "2022-05-28T04:53:07.955881Z",
     "shell.execute_reply": "2022-05-28T04:53:07.954748Z"
    },
    "papermill": {
     "duration": 0.038,
     "end_time": "2022-05-28T04:53:07.958021",
     "exception": false,
     "start_time": "2022-05-28T04:53:07.920021",
     "status": "completed"
    },
    "tags": []
   },
   "outputs": [
    {
     "data": {
      "text/html": [
       "<div>\n",
       "<style scoped>\n",
       "    .dataframe tbody tr th:only-of-type {\n",
       "        vertical-align: middle;\n",
       "    }\n",
       "\n",
       "    .dataframe tbody tr th {\n",
       "        vertical-align: top;\n",
       "    }\n",
       "\n",
       "    .dataframe thead th {\n",
       "        text-align: right;\n",
       "    }\n",
       "</style>\n",
       "<table border=\"1\" class=\"dataframe\">\n",
       "  <thead>\n",
       "    <tr style=\"text-align: right;\">\n",
       "      <th></th>\n",
       "      <th>PassengerId</th>\n",
       "      <th>Survived</th>\n",
       "    </tr>\n",
       "  </thead>\n",
       "  <tbody>\n",
       "    <tr>\n",
       "      <th>0</th>\n",
       "      <td>892</td>\n",
       "      <td>0</td>\n",
       "    </tr>\n",
       "    <tr>\n",
       "      <th>1</th>\n",
       "      <td>893</td>\n",
       "      <td>1</td>\n",
       "    </tr>\n",
       "    <tr>\n",
       "      <th>2</th>\n",
       "      <td>894</td>\n",
       "      <td>0</td>\n",
       "    </tr>\n",
       "    <tr>\n",
       "      <th>3</th>\n",
       "      <td>895</td>\n",
       "      <td>0</td>\n",
       "    </tr>\n",
       "    <tr>\n",
       "      <th>4</th>\n",
       "      <td>896</td>\n",
       "      <td>1</td>\n",
       "    </tr>\n",
       "    <tr>\n",
       "      <th>...</th>\n",
       "      <td>...</td>\n",
       "      <td>...</td>\n",
       "    </tr>\n",
       "    <tr>\n",
       "      <th>413</th>\n",
       "      <td>1305</td>\n",
       "      <td>0</td>\n",
       "    </tr>\n",
       "    <tr>\n",
       "      <th>414</th>\n",
       "      <td>1306</td>\n",
       "      <td>1</td>\n",
       "    </tr>\n",
       "    <tr>\n",
       "      <th>415</th>\n",
       "      <td>1307</td>\n",
       "      <td>0</td>\n",
       "    </tr>\n",
       "    <tr>\n",
       "      <th>416</th>\n",
       "      <td>1308</td>\n",
       "      <td>0</td>\n",
       "    </tr>\n",
       "    <tr>\n",
       "      <th>417</th>\n",
       "      <td>1309</td>\n",
       "      <td>0</td>\n",
       "    </tr>\n",
       "  </tbody>\n",
       "</table>\n",
       "<p>418 rows × 2 columns</p>\n",
       "</div>"
      ],
      "text/plain": [
       "     PassengerId  Survived\n",
       "0            892         0\n",
       "1            893         1\n",
       "2            894         0\n",
       "3            895         0\n",
       "4            896         1\n",
       "..           ...       ...\n",
       "413         1305         0\n",
       "414         1306         1\n",
       "415         1307         0\n",
       "416         1308         0\n",
       "417         1309         0\n",
       "\n",
       "[418 rows x 2 columns]"
      ]
     },
     "execution_count": 5,
     "metadata": {},
     "output_type": "execute_result"
    }
   ],
   "source": [
    "import pandas as pd\n",
    "submission = pd.read_csv('/kaggle/input/titanic/gender_submission.csv')\n",
    "submission"
   ]
  },
  {
   "cell_type": "markdown",
   "id": "4f4f3b2f",
   "metadata": {
    "papermill": {
     "duration": 0.00462,
     "end_time": "2022-05-28T04:53:07.967013",
     "exception": false,
     "start_time": "2022-05-28T04:53:07.962393",
     "status": "completed"
    },
    "tags": []
   },
   "source": [
    " - 제출용 샘플 파일은 임의로 남자승객은 0:사망, 여자승객은 1:생존으로 표기되어 있음"
   ]
  },
  {
   "cell_type": "code",
   "execution_count": 6,
   "id": "cab538e7",
   "metadata": {
    "execution": {
     "iopub.execute_input": "2022-05-28T04:53:07.977182Z",
     "iopub.status.busy": "2022-05-28T04:53:07.976727Z",
     "iopub.status.idle": "2022-05-28T04:53:07.986719Z",
     "shell.execute_reply": "2022-05-28T04:53:07.985504Z"
    },
    "papermill": {
     "duration": 0.018341,
     "end_time": "2022-05-28T04:53:07.989531",
     "exception": false,
     "start_time": "2022-05-28T04:53:07.971190",
     "status": "completed"
    },
    "tags": []
   },
   "outputs": [],
   "source": [
    "submission.to_csv('submission.csv', index=False) # 데이터 프레임의 인덱스 제외한 채 csv 파일저장\n",
    "# 별도의 폴더경로 지정 없이 csv 저장시 Output/kaggle/working 디렉토리에 파일이 저장됨"
   ]
  },
  {
   "cell_type": "markdown",
   "id": "6ba08eb7",
   "metadata": {
    "papermill": {
     "duration": 0.004003,
     "end_time": "2022-05-28T04:53:07.998092",
     "exception": false,
     "start_time": "2022-05-28T04:53:07.994089",
     "status": "completed"
    },
    "tags": []
   },
   "source": [
    "커밋하기\n",
    " - 생성된 submission.csv 파일을 제출하려면 commit 부터 해야함\n",
    " - Save Version → 커밋한 횟수\n",
    "\n",
    "서밋하기\n",
    " - Save Version의 숫자클릭 → Go to Viewer → Data 탭 → Submit\n",
    " \n",
    "점수확인\n",
    " - view My Submissions\n",
    "\n",
    "등수확인\n",
    " - Jump to your leaderboard position"
   ]
  }
 ],
 "metadata": {
  "kernelspec": {
   "display_name": "Python 3",
   "language": "python",
   "name": "python3"
  },
  "language_info": {
   "codemirror_mode": {
    "name": "ipython",
    "version": 3
   },
   "file_extension": ".py",
   "mimetype": "text/x-python",
   "name": "python",
   "nbconvert_exporter": "python",
   "pygments_lexer": "ipython3",
   "version": "3.7.12"
  },
  "papermill": {
   "default_parameters": {},
   "duration": 25.865872,
   "end_time": "2022-05-28T04:53:10.866579",
   "environment_variables": {},
   "exception": null,
   "input_path": "__notebook__.ipynb",
   "output_path": "__notebook__.ipynb",
   "parameters": {},
   "start_time": "2022-05-28T04:52:45.000707",
   "version": "2.3.4"
  }
 },
 "nbformat": 4,
 "nbformat_minor": 5
}
