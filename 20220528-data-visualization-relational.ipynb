{
 "cells": [
  {
   "cell_type": "markdown",
   "id": "5f632a18",
   "metadata": {
    "papermill": {
     "duration": 0.017393,
     "end_time": "2022-05-28T06:44:58.767990",
     "exception": false,
     "start_time": "2022-05-28T06:44:58.750597",
     "status": "completed"
    },
    "tags": []
   },
   "source": [
    "## 4.5 데이터 관계 시각화"
   ]
  },
  {
   "cell_type": "code",
   "execution_count": 1,
   "id": "c5106999",
   "metadata": {
    "execution": {
     "iopub.execute_input": "2022-05-28T06:44:58.807299Z",
     "iopub.status.busy": "2022-05-28T06:44:58.805613Z",
     "iopub.status.idle": "2022-05-28T06:45:00.978169Z",
     "shell.execute_reply": "2022-05-28T06:45:00.977290Z",
     "shell.execute_reply.started": "2022-05-28T06:23:12.387788Z"
    },
    "papermill": {
     "duration": 2.194529,
     "end_time": "2022-05-28T06:45:00.978371",
     "exception": false,
     "start_time": "2022-05-28T06:44:58.783842",
     "status": "completed"
    },
    "tags": []
   },
   "outputs": [],
   "source": [
    "import seaborn as sns\n",
    "\n",
    "flights = sns.load_dataset('flights') # 비행기 탐승자 수 데이터 불러오기"
   ]
  },
  {
   "cell_type": "code",
   "execution_count": 2,
   "id": "4e372f84",
   "metadata": {
    "execution": {
     "iopub.execute_input": "2022-05-28T06:45:01.017614Z",
     "iopub.status.busy": "2022-05-28T06:45:01.016520Z",
     "iopub.status.idle": "2022-05-28T06:45:01.038867Z",
     "shell.execute_reply": "2022-05-28T06:45:01.039458Z",
     "shell.execute_reply.started": "2022-05-28T06:26:50.676719Z"
    },
    "papermill": {
     "duration": 0.043442,
     "end_time": "2022-05-28T06:45:01.039684",
     "exception": false,
     "start_time": "2022-05-28T06:45:00.996242",
     "status": "completed"
    },
    "tags": []
   },
   "outputs": [
    {
     "data": {
      "text/html": [
       "<div>\n",
       "<style scoped>\n",
       "    .dataframe tbody tr th:only-of-type {\n",
       "        vertical-align: middle;\n",
       "    }\n",
       "\n",
       "    .dataframe tbody tr th {\n",
       "        vertical-align: top;\n",
       "    }\n",
       "\n",
       "    .dataframe thead th {\n",
       "        text-align: right;\n",
       "    }\n",
       "</style>\n",
       "<table border=\"1\" class=\"dataframe\">\n",
       "  <thead>\n",
       "    <tr style=\"text-align: right;\">\n",
       "      <th></th>\n",
       "      <th>year</th>\n",
       "      <th>month</th>\n",
       "      <th>passengers</th>\n",
       "    </tr>\n",
       "  </thead>\n",
       "  <tbody>\n",
       "    <tr>\n",
       "      <th>0</th>\n",
       "      <td>1949</td>\n",
       "      <td>Jan</td>\n",
       "      <td>112</td>\n",
       "    </tr>\n",
       "    <tr>\n",
       "      <th>1</th>\n",
       "      <td>1949</td>\n",
       "      <td>Feb</td>\n",
       "      <td>118</td>\n",
       "    </tr>\n",
       "    <tr>\n",
       "      <th>2</th>\n",
       "      <td>1949</td>\n",
       "      <td>Mar</td>\n",
       "      <td>132</td>\n",
       "    </tr>\n",
       "    <tr>\n",
       "      <th>3</th>\n",
       "      <td>1949</td>\n",
       "      <td>Apr</td>\n",
       "      <td>129</td>\n",
       "    </tr>\n",
       "    <tr>\n",
       "      <th>4</th>\n",
       "      <td>1949</td>\n",
       "      <td>May</td>\n",
       "      <td>121</td>\n",
       "    </tr>\n",
       "  </tbody>\n",
       "</table>\n",
       "</div>"
      ],
      "text/plain": [
       "   year month  passengers\n",
       "0  1949   Jan         112\n",
       "1  1949   Feb         118\n",
       "2  1949   Mar         132\n",
       "3  1949   Apr         129\n",
       "4  1949   May         121"
      ]
     },
     "execution_count": 2,
     "metadata": {},
     "output_type": "execute_result"
    }
   ],
   "source": [
    "flights.head()"
   ]
  },
  {
   "cell_type": "markdown",
   "id": "b5ea56c4",
   "metadata": {
    "papermill": {
     "duration": 0.015141,
     "end_time": "2022-05-28T06:45:01.071504",
     "exception": false,
     "start_time": "2022-05-28T06:45:01.056363",
     "status": "completed"
    },
    "tags": []
   },
   "source": [
    " - 범주형 데이터 : year, month\n",
    " - 수치형 데이터 : passengers"
   ]
  },
  {
   "cell_type": "markdown",
   "id": "d48929dd",
   "metadata": {
    "papermill": {
     "duration": 0.015244,
     "end_time": "2022-05-28T06:45:01.102296",
     "exception": false,
     "start_time": "2022-05-28T06:45:01.087052",
     "status": "completed"
    },
    "tags": []
   },
   "source": [
    "### 4.5.1 히트맵(heatmap)\n",
    " - 비교해야 할 데이터가 많을 때 주로 사용\n",
    " - 필요에 따라 pivot() 함수를 활용하여 구조 변경"
   ]
  },
  {
   "cell_type": "code",
   "execution_count": 3,
   "id": "e31cafd0",
   "metadata": {
    "execution": {
     "iopub.execute_input": "2022-05-28T06:45:01.138383Z",
     "iopub.status.busy": "2022-05-28T06:45:01.137251Z",
     "iopub.status.idle": "2022-05-28T06:45:01.162531Z",
     "shell.execute_reply": "2022-05-28T06:45:01.163239Z",
     "shell.execute_reply.started": "2022-05-28T06:29:42.969587Z"
    },
    "papermill": {
     "duration": 0.045371,
     "end_time": "2022-05-28T06:45:01.163443",
     "exception": false,
     "start_time": "2022-05-28T06:45:01.118072",
     "status": "completed"
    },
    "tags": []
   },
   "outputs": [
    {
     "data": {
      "text/html": [
       "<div>\n",
       "<style scoped>\n",
       "    .dataframe tbody tr th:only-of-type {\n",
       "        vertical-align: middle;\n",
       "    }\n",
       "\n",
       "    .dataframe tbody tr th {\n",
       "        vertical-align: top;\n",
       "    }\n",
       "\n",
       "    .dataframe thead th {\n",
       "        text-align: right;\n",
       "    }\n",
       "</style>\n",
       "<table border=\"1\" class=\"dataframe\">\n",
       "  <thead>\n",
       "    <tr style=\"text-align: right;\">\n",
       "      <th>year</th>\n",
       "      <th>1949</th>\n",
       "      <th>1950</th>\n",
       "      <th>1951</th>\n",
       "      <th>1952</th>\n",
       "      <th>1953</th>\n",
       "      <th>1954</th>\n",
       "      <th>1955</th>\n",
       "      <th>1956</th>\n",
       "      <th>1957</th>\n",
       "      <th>1958</th>\n",
       "      <th>1959</th>\n",
       "      <th>1960</th>\n",
       "    </tr>\n",
       "    <tr>\n",
       "      <th>month</th>\n",
       "      <th></th>\n",
       "      <th></th>\n",
       "      <th></th>\n",
       "      <th></th>\n",
       "      <th></th>\n",
       "      <th></th>\n",
       "      <th></th>\n",
       "      <th></th>\n",
       "      <th></th>\n",
       "      <th></th>\n",
       "      <th></th>\n",
       "      <th></th>\n",
       "    </tr>\n",
       "  </thead>\n",
       "  <tbody>\n",
       "    <tr>\n",
       "      <th>Jan</th>\n",
       "      <td>112</td>\n",
       "      <td>115</td>\n",
       "      <td>145</td>\n",
       "      <td>171</td>\n",
       "      <td>196</td>\n",
       "      <td>204</td>\n",
       "      <td>242</td>\n",
       "      <td>284</td>\n",
       "      <td>315</td>\n",
       "      <td>340</td>\n",
       "      <td>360</td>\n",
       "      <td>417</td>\n",
       "    </tr>\n",
       "    <tr>\n",
       "      <th>Feb</th>\n",
       "      <td>118</td>\n",
       "      <td>126</td>\n",
       "      <td>150</td>\n",
       "      <td>180</td>\n",
       "      <td>196</td>\n",
       "      <td>188</td>\n",
       "      <td>233</td>\n",
       "      <td>277</td>\n",
       "      <td>301</td>\n",
       "      <td>318</td>\n",
       "      <td>342</td>\n",
       "      <td>391</td>\n",
       "    </tr>\n",
       "    <tr>\n",
       "      <th>Mar</th>\n",
       "      <td>132</td>\n",
       "      <td>141</td>\n",
       "      <td>178</td>\n",
       "      <td>193</td>\n",
       "      <td>236</td>\n",
       "      <td>235</td>\n",
       "      <td>267</td>\n",
       "      <td>317</td>\n",
       "      <td>356</td>\n",
       "      <td>362</td>\n",
       "      <td>406</td>\n",
       "      <td>419</td>\n",
       "    </tr>\n",
       "    <tr>\n",
       "      <th>Apr</th>\n",
       "      <td>129</td>\n",
       "      <td>135</td>\n",
       "      <td>163</td>\n",
       "      <td>181</td>\n",
       "      <td>235</td>\n",
       "      <td>227</td>\n",
       "      <td>269</td>\n",
       "      <td>313</td>\n",
       "      <td>348</td>\n",
       "      <td>348</td>\n",
       "      <td>396</td>\n",
       "      <td>461</td>\n",
       "    </tr>\n",
       "    <tr>\n",
       "      <th>May</th>\n",
       "      <td>121</td>\n",
       "      <td>125</td>\n",
       "      <td>172</td>\n",
       "      <td>183</td>\n",
       "      <td>229</td>\n",
       "      <td>234</td>\n",
       "      <td>270</td>\n",
       "      <td>318</td>\n",
       "      <td>355</td>\n",
       "      <td>363</td>\n",
       "      <td>420</td>\n",
       "      <td>472</td>\n",
       "    </tr>\n",
       "    <tr>\n",
       "      <th>Jun</th>\n",
       "      <td>135</td>\n",
       "      <td>149</td>\n",
       "      <td>178</td>\n",
       "      <td>218</td>\n",
       "      <td>243</td>\n",
       "      <td>264</td>\n",
       "      <td>315</td>\n",
       "      <td>374</td>\n",
       "      <td>422</td>\n",
       "      <td>435</td>\n",
       "      <td>472</td>\n",
       "      <td>535</td>\n",
       "    </tr>\n",
       "    <tr>\n",
       "      <th>Jul</th>\n",
       "      <td>148</td>\n",
       "      <td>170</td>\n",
       "      <td>199</td>\n",
       "      <td>230</td>\n",
       "      <td>264</td>\n",
       "      <td>302</td>\n",
       "      <td>364</td>\n",
       "      <td>413</td>\n",
       "      <td>465</td>\n",
       "      <td>491</td>\n",
       "      <td>548</td>\n",
       "      <td>622</td>\n",
       "    </tr>\n",
       "    <tr>\n",
       "      <th>Aug</th>\n",
       "      <td>148</td>\n",
       "      <td>170</td>\n",
       "      <td>199</td>\n",
       "      <td>242</td>\n",
       "      <td>272</td>\n",
       "      <td>293</td>\n",
       "      <td>347</td>\n",
       "      <td>405</td>\n",
       "      <td>467</td>\n",
       "      <td>505</td>\n",
       "      <td>559</td>\n",
       "      <td>606</td>\n",
       "    </tr>\n",
       "    <tr>\n",
       "      <th>Sep</th>\n",
       "      <td>136</td>\n",
       "      <td>158</td>\n",
       "      <td>184</td>\n",
       "      <td>209</td>\n",
       "      <td>237</td>\n",
       "      <td>259</td>\n",
       "      <td>312</td>\n",
       "      <td>355</td>\n",
       "      <td>404</td>\n",
       "      <td>404</td>\n",
       "      <td>463</td>\n",
       "      <td>508</td>\n",
       "    </tr>\n",
       "    <tr>\n",
       "      <th>Oct</th>\n",
       "      <td>119</td>\n",
       "      <td>133</td>\n",
       "      <td>162</td>\n",
       "      <td>191</td>\n",
       "      <td>211</td>\n",
       "      <td>229</td>\n",
       "      <td>274</td>\n",
       "      <td>306</td>\n",
       "      <td>347</td>\n",
       "      <td>359</td>\n",
       "      <td>407</td>\n",
       "      <td>461</td>\n",
       "    </tr>\n",
       "    <tr>\n",
       "      <th>Nov</th>\n",
       "      <td>104</td>\n",
       "      <td>114</td>\n",
       "      <td>146</td>\n",
       "      <td>172</td>\n",
       "      <td>180</td>\n",
       "      <td>203</td>\n",
       "      <td>237</td>\n",
       "      <td>271</td>\n",
       "      <td>305</td>\n",
       "      <td>310</td>\n",
       "      <td>362</td>\n",
       "      <td>390</td>\n",
       "    </tr>\n",
       "    <tr>\n",
       "      <th>Dec</th>\n",
       "      <td>118</td>\n",
       "      <td>140</td>\n",
       "      <td>166</td>\n",
       "      <td>194</td>\n",
       "      <td>201</td>\n",
       "      <td>229</td>\n",
       "      <td>278</td>\n",
       "      <td>306</td>\n",
       "      <td>336</td>\n",
       "      <td>337</td>\n",
       "      <td>405</td>\n",
       "      <td>432</td>\n",
       "    </tr>\n",
       "  </tbody>\n",
       "</table>\n",
       "</div>"
      ],
      "text/plain": [
       "year   1949  1950  1951  1952  1953  1954  1955  1956  1957  1958  1959  1960\n",
       "month                                                                        \n",
       "Jan     112   115   145   171   196   204   242   284   315   340   360   417\n",
       "Feb     118   126   150   180   196   188   233   277   301   318   342   391\n",
       "Mar     132   141   178   193   236   235   267   317   356   362   406   419\n",
       "Apr     129   135   163   181   235   227   269   313   348   348   396   461\n",
       "May     121   125   172   183   229   234   270   318   355   363   420   472\n",
       "Jun     135   149   178   218   243   264   315   374   422   435   472   535\n",
       "Jul     148   170   199   230   264   302   364   413   465   491   548   622\n",
       "Aug     148   170   199   242   272   293   347   405   467   505   559   606\n",
       "Sep     136   158   184   209   237   259   312   355   404   404   463   508\n",
       "Oct     119   133   162   191   211   229   274   306   347   359   407   461\n",
       "Nov     104   114   146   172   180   203   237   271   305   310   362   390\n",
       "Dec     118   140   166   194   201   229   278   306   336   337   405   432"
      ]
     },
     "execution_count": 3,
     "metadata": {},
     "output_type": "execute_result"
    }
   ],
   "source": [
    "flights_pivot = flights.pivot(index='month', \n",
    "                              columns='year', \n",
    "                              values='passengers')\n",
    "\n",
    "flights_pivot"
   ]
  },
  {
   "cell_type": "markdown",
   "id": "b726a3e6",
   "metadata": {
    "papermill": {
     "duration": 0.016395,
     "end_time": "2022-05-28T06:45:01.195886",
     "exception": false,
     "start_time": "2022-05-28T06:45:01.179491",
     "status": "completed"
    },
    "tags": []
   },
   "source": [
    " - 숫자로만 나열되어 추이를 파악하기 어려움 → 히트맵 그래프 이용"
   ]
  },
  {
   "cell_type": "code",
   "execution_count": 4,
   "id": "4f001bb0",
   "metadata": {
    "execution": {
     "iopub.execute_input": "2022-05-28T06:45:01.231965Z",
     "iopub.status.busy": "2022-05-28T06:45:01.231240Z",
     "iopub.status.idle": "2022-05-28T06:45:01.720723Z",
     "shell.execute_reply": "2022-05-28T06:45:01.721215Z",
     "shell.execute_reply.started": "2022-05-28T06:31:04.963327Z"
    },
    "papermill": {
     "duration": 0.509544,
     "end_time": "2022-05-28T06:45:01.721387",
     "exception": false,
     "start_time": "2022-05-28T06:45:01.211843",
     "status": "completed"
    },
    "tags": []
   },
   "outputs": [
    {
     "data": {
      "image/png": "[encoded data removed]",
      "text/plain": [
       "<Figure size 432x288 with 2 Axes>"
      ]
     },
     "metadata": {
      "needs_background": "light"
     },
     "output_type": "display_data"
    }
   ],
   "source": [
    "sns.heatmap(data=flights_pivot);"
   ]
  },
  {
   "cell_type": "markdown",
   "id": "eaab310c",
   "metadata": {
    "papermill": {
     "duration": 0.016507,
     "end_time": "2022-05-28T06:45:01.754636",
     "exception": false,
     "start_time": "2022-05-28T06:45:01.738129",
     "status": "completed"
    },
    "tags": []
   },
   "source": [
    " - 표 보다 히트맵이 의미 파악이 용이함"
   ]
  },
  {
   "cell_type": "markdown",
   "id": "8f33ebe3",
   "metadata": {
    "papermill": {
     "duration": 0.017066,
     "end_time": "2022-05-28T06:45:01.788455",
     "exception": false,
     "start_time": "2022-05-28T06:45:01.771389",
     "status": "completed"
    },
    "tags": []
   },
   "source": [
    "### 4.5.2 라인플롯(lineplot)\n",
    " - x파라미터에 전달한 값에 따라 y파라미터에 전달한 값의 평균 및 95%신뢰구간(기본값) 표현"
   ]
  },
  {
   "cell_type": "code",
   "execution_count": 5,
   "id": "1e1e3460",
   "metadata": {
    "execution": {
     "iopub.execute_input": "2022-05-28T06:45:01.864687Z",
     "iopub.status.busy": "2022-05-28T06:45:01.850440Z",
     "iopub.status.idle": "2022-05-28T06:45:02.417738Z",
     "shell.execute_reply": "2022-05-28T06:45:02.417095Z",
     "shell.execute_reply.started": "2022-05-28T06:35:28.729203Z"
    },
    "papermill": {
     "duration": 0.61266,
     "end_time": "2022-05-28T06:45:02.417893",
     "exception": false,
     "start_time": "2022-05-28T06:45:01.805233",
     "status": "completed"
    },
    "tags": []
   },
   "outputs": [
    {
     "data": {
      "image/png": "[encoded data removed]",
      "text/plain": [
       "<Figure size 432x288 with 1 Axes>"
      ]
     },
     "metadata": {
      "needs_background": "light"
     },
     "output_type": "display_data"
    }
   ],
   "source": [
    "sns.lineplot(x='year', y='passengers', data=flights);"
   ]
  },
  {
   "cell_type": "markdown",
   "id": "bb41b153",
   "metadata": {
    "papermill": {
     "duration": 0.017269,
     "end_time": "2022-05-28T06:45:02.453003",
     "exception": false,
     "start_time": "2022-05-28T06:45:02.435734",
     "status": "completed"
    },
    "tags": []
   },
   "source": [
    "### 4.5.3 산점도(scatterplot)"
   ]
  },
  {
   "cell_type": "code",
   "execution_count": 6,
   "id": "c5d7dd00",
   "metadata": {
    "execution": {
     "iopub.execute_input": "2022-05-28T06:45:02.491852Z",
     "iopub.status.busy": "2022-05-28T06:45:02.491155Z",
     "iopub.status.idle": "2022-05-28T06:45:03.463941Z",
     "shell.execute_reply": "2022-05-28T06:45:03.463214Z",
     "shell.execute_reply.started": "2022-05-28T06:35:50.128550Z"
    },
    "papermill": {
     "duration": 0.993341,
     "end_time": "2022-05-28T06:45:03.464114",
     "exception": false,
     "start_time": "2022-05-28T06:45:02.470773",
     "status": "completed"
    },
    "tags": []
   },
   "outputs": [],
   "source": [
    "tips = sns.load_dataset('tips') # 팁 데이터 불러오기"
   ]
  },
  {
   "cell_type": "code",
   "execution_count": 7,
   "id": "96de2608",
   "metadata": {
    "execution": {
     "iopub.execute_input": "2022-05-28T06:45:03.516259Z",
     "iopub.status.busy": "2022-05-28T06:45:03.515247Z",
     "iopub.status.idle": "2022-05-28T06:45:03.518922Z",
     "shell.execute_reply": "2022-05-28T06:45:03.519418Z",
     "shell.execute_reply.started": "2022-05-28T06:35:54.103570Z"
    },
    "papermill": {
     "duration": 0.036773,
     "end_time": "2022-05-28T06:45:03.519587",
     "exception": false,
     "start_time": "2022-05-28T06:45:03.482814",
     "status": "completed"
    },
    "tags": []
   },
   "outputs": [
    {
     "data": {
      "text/html": [
       "<div>\n",
       "<style scoped>\n",
       "    .dataframe tbody tr th:only-of-type {\n",
       "        vertical-align: middle;\n",
       "    }\n",
       "\n",
       "    .dataframe tbody tr th {\n",
       "        vertical-align: top;\n",
       "    }\n",
       "\n",
       "    .dataframe thead th {\n",
       "        text-align: right;\n",
       "    }\n",
       "</style>\n",
       "<table border=\"1\" class=\"dataframe\">\n",
       "  <thead>\n",
       "    <tr style=\"text-align: right;\">\n",
       "      <th></th>\n",
       "      <th>total_bill</th>\n",
       "      <th>tip</th>\n",
       "      <th>sex</th>\n",
       "      <th>smoker</th>\n",
       "      <th>day</th>\n",
       "      <th>time</th>\n",
       "      <th>size</th>\n",
       "    </tr>\n",
       "  </thead>\n",
       "  <tbody>\n",
       "    <tr>\n",
       "      <th>0</th>\n",
       "      <td>16.99</td>\n",
       "      <td>1.01</td>\n",
       "      <td>Female</td>\n",
       "      <td>No</td>\n",
       "      <td>Sun</td>\n",
       "      <td>Dinner</td>\n",
       "      <td>2</td>\n",
       "    </tr>\n",
       "    <tr>\n",
       "      <th>1</th>\n",
       "      <td>10.34</td>\n",
       "      <td>1.66</td>\n",
       "      <td>Male</td>\n",
       "      <td>No</td>\n",
       "      <td>Sun</td>\n",
       "      <td>Dinner</td>\n",
       "      <td>3</td>\n",
       "    </tr>\n",
       "    <tr>\n",
       "      <th>2</th>\n",
       "      <td>21.01</td>\n",
       "      <td>3.50</td>\n",
       "      <td>Male</td>\n",
       "      <td>No</td>\n",
       "      <td>Sun</td>\n",
       "      <td>Dinner</td>\n",
       "      <td>3</td>\n",
       "    </tr>\n",
       "    <tr>\n",
       "      <th>3</th>\n",
       "      <td>23.68</td>\n",
       "      <td>3.31</td>\n",
       "      <td>Male</td>\n",
       "      <td>No</td>\n",
       "      <td>Sun</td>\n",
       "      <td>Dinner</td>\n",
       "      <td>2</td>\n",
       "    </tr>\n",
       "    <tr>\n",
       "      <th>4</th>\n",
       "      <td>24.59</td>\n",
       "      <td>3.61</td>\n",
       "      <td>Female</td>\n",
       "      <td>No</td>\n",
       "      <td>Sun</td>\n",
       "      <td>Dinner</td>\n",
       "      <td>4</td>\n",
       "    </tr>\n",
       "  </tbody>\n",
       "</table>\n",
       "</div>"
      ],
      "text/plain": [
       "   total_bill   tip     sex smoker  day    time  size\n",
       "0       16.99  1.01  Female     No  Sun  Dinner     2\n",
       "1       10.34  1.66    Male     No  Sun  Dinner     3\n",
       "2       21.01  3.50    Male     No  Sun  Dinner     3\n",
       "3       23.68  3.31    Male     No  Sun  Dinner     2\n",
       "4       24.59  3.61  Female     No  Sun  Dinner     4"
      ]
     },
     "execution_count": 7,
     "metadata": {},
     "output_type": "execute_result"
    }
   ],
   "source": [
    "tips.head()"
   ]
  },
  {
   "cell_type": "code",
   "execution_count": 8,
   "id": "05525947",
   "metadata": {
    "execution": {
     "iopub.execute_input": "2022-05-28T06:45:03.569559Z",
     "iopub.status.busy": "2022-05-28T06:45:03.559390Z",
     "iopub.status.idle": "2022-05-28T06:45:03.787303Z",
     "shell.execute_reply": "2022-05-28T06:45:03.786720Z",
     "shell.execute_reply.started": "2022-05-28T06:36:03.713340Z"
    },
    "papermill": {
     "duration": 0.249174,
     "end_time": "2022-05-28T06:45:03.787442",
     "exception": false,
     "start_time": "2022-05-28T06:45:03.538268",
     "status": "completed"
    },
    "tags": []
   },
   "outputs": [
    {
     "data": {
      "image/png": "[encoded data removed]",
      "text/plain": [
       "<Figure size 432x288 with 1 Axes>"
      ]
     },
     "metadata": {
      "needs_background": "light"
     },
     "output_type": "display_data"
    }
   ],
   "source": [
    "sns.scatterplot(x='total_bill', y='tip', data=tips);"
   ]
  },
  {
   "cell_type": "code",
   "execution_count": 9,
   "id": "719c0551",
   "metadata": {
    "execution": {
     "iopub.execute_input": "2022-05-28T06:45:03.831736Z",
     "iopub.status.busy": "2022-05-28T06:45:03.830761Z",
     "iopub.status.idle": "2022-05-28T06:45:04.140404Z",
     "shell.execute_reply": "2022-05-28T06:45:04.139453Z",
     "shell.execute_reply.started": "2022-05-28T06:36:18.739475Z"
    },
    "papermill": {
     "duration": 0.333592,
     "end_time": "2022-05-28T06:45:04.140556",
     "exception": false,
     "start_time": "2022-05-28T06:45:03.806964",
     "status": "completed"
    },
    "tags": []
   },
   "outputs": [
    {
     "data": {
      "image/png": "[encoded data removed]",
      "text/plain": [
       "<Figure size 432x288 with 1 Axes>"
      ]
     },
     "metadata": {
      "needs_background": "light"
     },
     "output_type": "display_data"
    }
   ],
   "source": [
    "sns.scatterplot(x='total_bill', y='tip', hue='time', data=tips);"
   ]
  },
  {
   "cell_type": "markdown",
   "id": "9220c038",
   "metadata": {
    "papermill": {
     "duration": 0.019673,
     "end_time": "2022-05-28T06:45:04.180251",
     "exception": false,
     "start_time": "2022-05-28T06:45:04.160578",
     "status": "completed"
    },
    "tags": []
   },
   "source": [
    " - 시간(점심/저녁)별 추이는 비슷해 보임"
   ]
  },
  {
   "cell_type": "markdown",
   "id": "526edd00",
   "metadata": {
    "papermill": {
     "duration": 0.019606,
     "end_time": "2022-05-28T06:45:04.220038",
     "exception": false,
     "start_time": "2022-05-28T06:45:04.200432",
     "status": "completed"
    },
    "tags": []
   },
   "source": [
    "### 4.5.4 회귀선을 포함한 산점도 그래프(regplot)"
   ]
  },
  {
   "cell_type": "code",
   "execution_count": 10,
   "id": "fbe5326b",
   "metadata": {
    "execution": {
     "iopub.execute_input": "2022-05-28T06:45:04.285537Z",
     "iopub.status.busy": "2022-05-28T06:45:04.284424Z",
     "iopub.status.idle": "2022-05-28T06:45:04.601702Z",
     "shell.execute_reply": "2022-05-28T06:45:04.602229Z",
     "shell.execute_reply.started": "2022-05-28T06:37:12.083675Z"
    },
    "papermill": {
     "duration": 0.362557,
     "end_time": "2022-05-28T06:45:04.602415",
     "exception": false,
     "start_time": "2022-05-28T06:45:04.239858",
     "status": "completed"
    },
    "tags": []
   },
   "outputs": [
    {
     "data": {
      "image/png": "[encoded data removed]",
      "text/plain": [
       "<Figure size 432x288 with 1 Axes>"
      ]
     },
     "metadata": {
      "needs_background": "light"
     },
     "output_type": "display_data"
    }
   ],
   "source": [
    "sns.regplot(x='total_bill', y='tip', data=tips);"
   ]
  },
  {
   "cell_type": "code",
   "execution_count": 11,
   "id": "dcc15e6c",
   "metadata": {
    "execution": {
     "iopub.execute_input": "2022-05-28T06:45:04.648754Z",
     "iopub.status.busy": "2022-05-28T06:45:04.648066Z",
     "iopub.status.idle": "2022-05-28T06:45:04.985341Z",
     "shell.execute_reply": "2022-05-28T06:45:04.986080Z",
     "shell.execute_reply.started": "2022-05-28T06:37:26.454035Z"
    },
    "papermill": {
     "duration": 0.362484,
     "end_time": "2022-05-28T06:45:04.986263",
     "exception": false,
     "start_time": "2022-05-28T06:45:04.623779",
     "status": "completed"
    },
    "tags": []
   },
   "outputs": [
    {
     "data": {
      "image/png": "[encoded data removed]",
      "text/plain": [
       "<Figure size 432x288 with 1 Axes>"
      ]
     },
     "metadata": {
      "needs_background": "light"
     },
     "output_type": "display_data"
    }
   ],
   "source": [
    "sns.regplot(x='total_bill', y='tip', ci=99, data=tips);"
   ]
  },
  {
   "cell_type": "markdown",
   "id": "75216be5",
   "metadata": {
    "papermill": {
     "duration": 0.022093,
     "end_time": "2022-05-28T06:45:05.031108",
     "exception": false,
     "start_time": "2022-05-28T06:45:05.009015",
     "status": "completed"
    },
    "tags": []
   },
   "source": [
    " - ci 파라미터 : 선형회귀선 주변 신뢰구간을 조정"
   ]
  }
 ],
 "metadata": {
  "kernelspec": {
   "display_name": "Python 3",
   "language": "python",
   "name": "python3"
  },
  "language_info": {
   "codemirror_mode": {
    "name": "ipython",
    "version": 3
   },
   "file_extension": ".py",
   "mimetype": "text/x-python",
   "name": "python",
   "nbconvert_exporter": "python",
   "pygments_lexer": "ipython3",
   "version": "3.7.10"
  },
  "papermill": {
   "default_parameters": {},
   "duration": 16.593387,
   "end_time": "2022-05-28T06:45:05.764925",
   "environment_variables": {},
   "exception": null,
   "input_path": "__notebook__.ipynb",
   "output_path": "__notebook__.ipynb",
   "parameters": {},
   "start_time": "2022-05-28T06:44:49.171538",
   "version": "2.3.3"
  }
 },
 "nbformat": 4,
 "nbformat_minor": 5
}
