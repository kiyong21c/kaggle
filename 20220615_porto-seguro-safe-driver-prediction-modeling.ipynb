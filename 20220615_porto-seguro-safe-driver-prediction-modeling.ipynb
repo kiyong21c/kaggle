{
  "cells": [
    {
      "cell_type": "markdown",
      "metadata": {
        "id": "view-in-github",
        "colab_type": "text"
      },
      "source": [
        "<a href=\"https://colab.research.google.com/github/kiyong21c/kaggle/blob/main/20220615_porto-seguro-safe-driver-prediction-modeling.ipynb\" target=\"_parent\"><img src=\"https://colab.research.google.com/assets/colab-badge.svg\" alt=\"Open In Colab\"/></a>"
      ]
    },
    {
      "cell_type": "code",
      "source": [
        "from google.colab import drive\n",
        "drive.mount('/content/drive')"
      ],
      "metadata": {
        "id": "g8C4TYr9sKTr",
        "outputId": "97432be3-dbbb-4e35-8196-3aed67e690bd",
        "colab": {
          "base_uri": "https://localhost:8080/"
        }
      },
      "execution_count": 5,
      "outputs": [
        {
          "output_type": "stream",
          "name": "stdout",
          "text": [
            "Mounted at /content/drive\n"
          ]
        }
      ]
    },
    {
      "cell_type": "markdown",
      "source": [
        "# 안전운전자 예측\n",
        " - 실제 보험사에서 제공한 고객 데이터 활용하여 운전자가 보험을 청구할 확률 예측\n",
        " - 문제유형 : 이진분류\n",
        " - 평가지표 : 정규화된 지니계수\n",
        " - 사용모델 : LightGBM, XGBoost의 앙상블"
      ],
      "metadata": {
        "id": "mXn6wsujp20_"
      }
    },
    {
      "cell_type": "markdown",
      "source": [
        "## 베이스라인 모델\n",
        " - LightGBM : 마이크로소프트 개발, XGBoost와 함께 캐글에서 가장 많이 사용\n",
        " - **파이썬 래퍼 LightGBM** / 사이킷럿 래퍼 LightGBM 두가지가 있음"
      ],
      "metadata": {
        "id": "KH1j2mWbx_U3"
      }
    },
    {
      "cell_type": "code",
      "source": [
        "import pandas as pd\n",
        "\n",
        "data_path = '/content/drive/MyDrive/Colab Notebooks/kaggle/input/porto-seguro-safe-driver-prediction/'\n",
        "\n",
        "train = pd.read_csv(data_path + 'train.csv', index_col='id')\n",
        "test = pd.read_csv(data_path + 'test.csv', index_col='id')\n",
        "submission = pd.read_csv(data_path + 'sample_submission.csv', index_col='id')"
      ],
      "metadata": {
        "id": "1rbYA4RUx-Lf"
      },
      "execution_count": 6,
      "outputs": []
    },
    {
      "cell_type": "markdown",
      "source": [
        "### 피처 엔지니어링"
      ],
      "metadata": {
        "id": "vluQtS7wyfID"
      }
    },
    {
      "cell_type": "markdown",
      "source": [
        "#### 데이터 합치기\n",
        " - 훈련 데이터와 테스트 데이터를 합쳐서 한번에 인코딩을 적용하기 위함\n",
        " - 타깃값에는 인코딩 적용하지 않으므로 제거"
      ],
      "metadata": {
        "id": "vP2yimnCyh9d"
      }
    },
    {
      "cell_type": "code",
      "source": [
        "all_data = pd.concat([train, test], ignore_index=True)\n",
        "all_data = all_data.drop('target', axis=1) # 타깃값 제거"
      ],
      "metadata": {
        "id": "JhH8McRNyebD"
      },
      "execution_count": 7,
      "outputs": []
    },
    {
      "cell_type": "code",
      "source": [
        "all_features = all_data.columns\n",
        "all_features"
      ],
      "metadata": {
        "id": "myJY6ShWy98S",
        "outputId": "963406a7-a837-4da8-c46c-22e4e7336d06",
        "colab": {
          "base_uri": "https://localhost:8080/"
        }
      },
      "execution_count": 8,
      "outputs": [
        {
          "output_type": "execute_result",
          "data": {
            "text/plain": [
              "Index(['ps_ind_01', 'ps_ind_02_cat', 'ps_ind_03', 'ps_ind_04_cat',\n",
              "       'ps_ind_05_cat', 'ps_ind_06_bin', 'ps_ind_07_bin', 'ps_ind_08_bin',\n",
              "       'ps_ind_09_bin', 'ps_ind_10_bin', 'ps_ind_11_bin', 'ps_ind_12_bin',\n",
              "       'ps_ind_13_bin', 'ps_ind_14', 'ps_ind_15', 'ps_ind_16_bin',\n",
              "       'ps_ind_17_bin', 'ps_ind_18_bin', 'ps_reg_01', 'ps_reg_02', 'ps_reg_03',\n",
              "       'ps_car_01_cat', 'ps_car_02_cat', 'ps_car_03_cat', 'ps_car_04_cat',\n",
              "       'ps_car_05_cat', 'ps_car_06_cat', 'ps_car_07_cat', 'ps_car_08_cat',\n",
              "       'ps_car_09_cat', 'ps_car_10_cat', 'ps_car_11_cat', 'ps_car_11',\n",
              "       'ps_car_12', 'ps_car_13', 'ps_car_14', 'ps_car_15', 'ps_calc_01',\n",
              "       'ps_calc_02', 'ps_calc_03', 'ps_calc_04', 'ps_calc_05', 'ps_calc_06',\n",
              "       'ps_calc_07', 'ps_calc_08', 'ps_calc_09', 'ps_calc_10', 'ps_calc_11',\n",
              "       'ps_calc_12', 'ps_calc_13', 'ps_calc_14', 'ps_calc_15_bin',\n",
              "       'ps_calc_16_bin', 'ps_calc_17_bin', 'ps_calc_18_bin', 'ps_calc_19_bin',\n",
              "       'ps_calc_20_bin'],\n",
              "      dtype='object')"
            ]
          },
          "metadata": {},
          "execution_count": 8
        }
      ]
    },
    {
      "cell_type": "code",
      "source": [
        "hasattr(all_features, \"__iter__\")"
      ],
      "metadata": {
        "id": "qlTgeA_KzDuf",
        "outputId": "8db02538-ac5d-42ef-8ecb-6e369d3971c8",
        "colab": {
          "base_uri": "https://localhost:8080/"
        }
      },
      "execution_count": 9,
      "outputs": [
        {
          "output_type": "execute_result",
          "data": {
            "text/plain": [
              "True"
            ]
          },
          "metadata": {},
          "execution_count": 9
        }
      ]
    },
    {
      "cell_type": "markdown",
      "source": [
        "#### 명목형 피처 원-핫 인코딩\n",
        " - 명목형 데이터는 고윳값별 순서가 따로 없다 → 원-핫 인코딩\n",
        " - 피처 이름에 'cat'이 포함된 피처가 명목형 피처"
      ],
      "metadata": {
        "id": "GdK8jybizrGw"
      }
    },
    {
      "cell_type": "code",
      "source": [
        "from sklearn.preprocessing import OneHotEncoder\n",
        "\n",
        "# List Comprehension\n",
        "cat_features = [feature for feature in all_features if 'cat' in feature]\n",
        "\n",
        "onehot_encoder = OneHotEncoder() # 원-핫 인코더 객체 생성\n",
        "\n",
        "encoded_cat_matrix = onehot_encoder.fit_transform(all_data[cat_features]) # 인코딩\n",
        "\n",
        "encoded_cat_matrix"
      ],
      "metadata": {
        "id": "VXBmAbt7zXJn",
        "outputId": "9255d4ea-651a-4038-c10f-f093afaacc33",
        "colab": {
          "base_uri": "https://localhost:8080/"
        }
      },
      "execution_count": 10,
      "outputs": [
        {
          "output_type": "execute_result",
          "data": {
            "text/plain": [
              "<1488028x184 sparse matrix of type '<class 'numpy.float64'>'\n",
              "\twith 20832392 stored elements in Compressed Sparse Row format>"
            ]
          },
          "metadata": {},
          "execution_count": 10
        }
      ]
    },
    {
      "cell_type": "markdown",
      "source": [
        " - 명목형 피처 14열 → 인코딩 후 184열\n",
        " - CSR(Compressed Sparse Row format) 형식"
      ],
      "metadata": {
        "id": "0DQis2xc1A5Y"
      }
    },
    {
      "cell_type": "code",
      "source": [
        "col_sum = 0\n",
        "for i in range(len(cat_features)):\n",
        "    col_sum += all_data[cat_features[i]].nunique()\n",
        "\n",
        "col_sum"
      ],
      "metadata": {
        "id": "yD05XMKU0tfe",
        "outputId": "9c62bff6-8820-4c51-8513-d6dff0b20071",
        "colab": {
          "base_uri": "https://localhost:8080/"
        }
      },
      "execution_count": 11,
      "outputs": [
        {
          "output_type": "execute_result",
          "data": {
            "text/plain": [
              "184"
            ]
          },
          "metadata": {},
          "execution_count": 11
        }
      ]
    },
    {
      "cell_type": "markdown",
      "source": [
        " - 명목형 피처 각각의 고윳값 개수만큼 원-핫 인코딩시 열이 생김"
      ],
      "metadata": {
        "id": "6evNz1m412k4"
      }
    },
    {
      "cell_type": "markdown",
      "source": [
        "#### 필요 없는 피처 제거"
      ],
      "metadata": {
        "id": "3OkulgDC2DwZ"
      }
    },
    {
      "cell_type": "code",
      "source": [
        "# 추가로 제거할 피처\n",
        "drop_features = ['ps_ind_14','ps_ind_10_bin','ps_ind_11_bin',\n",
        "                 'ps_ind_12_bin','ps_ind_13_bin','ps_car_14']\n",
        "# 1) 명목형 피처, 2) calc 분류의 피처, 3)추가로 제거할 피처  1),2),3) 세가지를 제외한 피처만 남긴다\n",
        "remaining_features = [feature for feature in all_features\n",
        "                      if ('cat' not in feature and\n",
        "                          'calc' not in feature and\n",
        "                          feature not in drop_features)]"
      ],
      "metadata": {
        "id": "Dp7tph8W016D"
      },
      "execution_count": 12,
      "outputs": []
    },
    {
      "cell_type": "markdown",
      "source": [
        " - 1.encoded_cat_matrix : 원-핫 인코딩된 CSR 형식\n",
        " - 2.all_data(remaining_features) : DataFrame\n",
        " - 두 데이터를 합침"
      ],
      "metadata": {
        "id": "TWXuihlk7I9E"
      }
    },
    {
      "cell_type": "code",
      "source": [
        "from scipy import sparse\n",
        "\n",
        "all_data_sprs = sparse.hstack([sparse.csr_matrix(all_data[remaining_features]),\n",
        "                               encoded_cat_matrix],\n",
        "                              format='csr') # 기본 형식은 COO"
      ],
      "metadata": {
        "id": "x65pCWNE7hJt"
      },
      "execution_count": 13,
      "outputs": []
    },
    {
      "cell_type": "code",
      "source": [
        "all_data_sprs"
      ],
      "metadata": {
        "id": "ecBFAYhLAFJu",
        "outputId": "cc557517-bd9e-42b3-806c-2b2e03d6264d",
        "colab": {
          "base_uri": "https://localhost:8080/"
        }
      },
      "execution_count": 14,
      "outputs": [
        {
          "output_type": "execute_result",
          "data": {
            "text/plain": [
              "<1488028x201 sparse matrix of type '<class 'numpy.float64'>'\n",
              "\twith 37628974 stored elements in Compressed Sparse Row format>"
            ]
          },
          "metadata": {},
          "execution_count": 14
        }
      ]
    },
    {
      "cell_type": "markdown",
      "source": [
        "#### 데이터 나누기"
      ],
      "metadata": {
        "id": "p5xZNGISASVW"
      }
    },
    {
      "cell_type": "code",
      "source": [
        "num_train = len(train)\n",
        "\n",
        "X = all_data_sprs[:num_train]\n",
        "X_test = all_data_sprs[num_train:]\n",
        "\n",
        "y = train['target'].values # Series → array"
      ],
      "metadata": {
        "id": "TLiFL4iNAHTR"
      },
      "execution_count": 15,
      "outputs": []
    },
    {
      "cell_type": "markdown",
      "source": [
        "### 평가지표 계산 함수 작성\n",
        " - 본 경진대회 평가지표는 정규화된 지니계수\n",
        " - 파이썬/사이킷런에서 제공X, 직접 만들어야 함"
      ],
      "metadata": {
        "id": "EoNy34_kEuR1"
      }
    },
    {
      "cell_type": "markdown",
      "source": [
        "#### 정규화 지니계수\n",
        " - 정규화 : 값의 범위를 0~1 사이로 조정한다는 뜻\n",
        " - 정규화 지니계수는 값이 0에 가까울수록 성능이 나쁘고, 1에 가까울수록 성능이 좋다\n",
        "  > 정규화 지니계수 = 예측 값에 대한 지니계수 / 예측이 완벽할 때의 지니계수"
      ],
      "metadata": {
        "id": "ZcXyD1siFejW"
      }
    },
    {
      "cell_type": "markdown",
      "source": [
        "![Gini_eff.PNG](data:image/png;base64,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)"
      ],
      "metadata": {
        "id": "UqeEdluzF-nS"
      }
    },
    {
      "cell_type": "code",
      "source": [
        "# 실제 타깃값(y_true)와 예측 확률값(y_pred) 입력받아 정규화 지니계수 반환\n",
        "import numpy as np\n",
        "\n",
        "def eval_gini(y_true, y_pred):\n",
        "    assert y_true.shape == y_pred.shape # assert : True가 아니면 오류 발생\n",
        "\n",
        "    n_samples = y_true.shape[0] # 데이터 개수\n",
        "    L_mid = np.linspace(1/n_samples, 1, n_samples) # 대각선 값\n",
        "\n",
        "    # 1) 예측값에 대한 지니계수\n",
        "    pred_order = y_true[y_pred.argsort()] # y_pred.argsort() : y_pred배열 오름차순 인덱스값 배열\n",
        "    # 즉, y_pred 크기순으로 y_true 정렬\n",
        "    L_pred = np.cumsum(pred_order) / nu.sum(pred_order) # 로렌츠 곡선\n",
        "    G_pred = np.sum(L_mid - L_pred) # 예측값에 대한 지니계수\n",
        "\n",
        "    # 2) 예측이 완벽할 때 지니계수\n",
        "    true_order = y_true[y_true.argsort()] # y_true 크기순으로 y_true 값 정렬\n",
        "    L_true = np.cumsum(true_order) / np.sum(true_order) # 로렌츠 곡선\n",
        "    G_true = np.sum(L_mid - L_true) # 예측이 완벽할 때 지니계수\n",
        "\n",
        "    # 정규화된 지니계수\n",
        "    return G_pred / G_true"
      ],
      "metadata": {
        "id": "YTJeETaWEixa"
      },
      "execution_count": 16,
      "outputs": []
    },
    {
      "cell_type": "markdown",
      "source": [
        " - 보통 평가지표 계산 함수는 다른 캐글러가 만들엉 공유해준다"
      ],
      "metadata": {
        "id": "JlGT2BgZoN8-"
      }
    },
    {
      "cell_type": "code",
      "source": [
        "import numpy as np\n",
        "\n",
        "np.linspace(1/10, 1, 10)"
      ],
      "metadata": {
        "id": "MnC5tckWigw8",
        "outputId": "77bb6910-5546-4687-8725-56d8a07aeb6b",
        "colab": {
          "base_uri": "https://localhost:8080/"
        }
      },
      "execution_count": 17,
      "outputs": [
        {
          "output_type": "execute_result",
          "data": {
            "text/plain": [
              "array([0.1, 0.2, 0.3, 0.4, 0.5, 0.6, 0.7, 0.8, 0.9, 1. ])"
            ]
          },
          "metadata": {},
          "execution_count": 17
        }
      ]
    },
    {
      "cell_type": "code",
      "source": [
        "a = np.array([[1, 2, 3], [4, 5, 6]])\n",
        "np.cumsum(a) # 누적합 배열(행, 열 구분 없어짐)"
      ],
      "metadata": {
        "id": "8JGMdr64ikBL",
        "outputId": "3f8dbcd8-d607-42e3-de4d-ba10f6033e0c",
        "colab": {
          "base_uri": "https://localhost:8080/"
        }
      },
      "execution_count": 18,
      "outputs": [
        {
          "output_type": "execute_result",
          "data": {
            "text/plain": [
              "array([ 1,  3,  6, 10, 15, 21])"
            ]
          },
          "metadata": {},
          "execution_count": 18
        }
      ]
    },
    {
      "cell_type": "code",
      "source": [
        "# LightGBM용 gini() 함수\n",
        "def gini(preds, dtrain):\n",
        "    labels = dtrain.get_label()\n",
        "    return 'gini', eval_gini(labels, preds), True\n",
        "    # 평가지표이름, 평가점수, 평가점수가 높을수록 좋은지여부?"
      ],
      "metadata": {
        "id": "46zg9r0AoocC"
      },
      "execution_count": 21,
      "outputs": []
    },
    {
      "cell_type": "markdown",
      "source": [
        "### 모델 훈련 및 성능 검증"
      ],
      "metadata": {
        "id": "Bib_tE1-qRV6"
      }
    },
    {
      "cell_type": "markdown",
      "source": [
        "#### OOF 예측방식(Out of Fold prediction)\n",
        " - 지금까지는 테스트 데이터 전체를 사용해 결과를 예측했으나,\n",
        " - K폴드 교차 검증을 수행하면서 각 폴드마다 테스트 데이터로 예측하는 방식"
      ],
      "metadata": {
        "id": "6iLNAX10qVtG"
      }
    }
  ],
  "metadata": {
    "colab": {
      "collapsed_sections": [],
      "name": "Colaboratory에 오신 것을 환영합니다",
      "provenance": [],
      "include_colab_link": true
    },
    "kernelspec": {
      "display_name": "Python 3",
      "name": "python3"
    }
  },
  "nbformat": 4,
  "nbformat_minor": 0
}