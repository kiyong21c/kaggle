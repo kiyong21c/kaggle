{
  "cells": [
    {
      "cell_type": "markdown",
      "metadata": {
        "id": "view-in-github",
        "colab_type": "text"
      },
      "source": [
        "<a href=\"https://colab.research.google.com/github/kiyong21c/kaggle/blob/main/20220817_XGBoost.ipynb\" target=\"_parent\"><img src=\"https://colab.research.google.com/assets/colab-badge.svg\" alt=\"Open In Colab\"/></a>"
      ]
    },
    {
      "cell_type": "markdown",
      "source": [
        "# XGBoost\n",
        " - 랜덤 포레스트 : 각 트리를 독립적으로 만드는 알고리즘\n",
        " - 부스팅 : 이전 트리로부터 더 나은 트리를 순차적으로 만드는 알고리즘\n",
        " - LightGBM, CatBoost와 함께 가장 널리 활용 됨\n",
        " - 장점 : 예측속도 빠름, 예측력 높음, 변수 종류 많음\n",
        " - 단점 : 해석이 어려움, 하이퍼파라미터 튜닝 어려움"
      ],
      "metadata": {
        "id": "2gdZGVfQwyVt"
      }
    },
    {
      "cell_type": "markdown",
      "source": [
        "# 스피드데이팅 데이터셋을 이용해 커플 성사 여부 예측\n",
        "- 알고리즘 : XGBoost\n",
        "- 문제유형 : 분류\n",
        "- 사용모델 : XGBClassifier\n",
        "- 평가지표 : 정확도, 혼동행렬, 분류 리포트"
      ],
      "metadata": {
        "id": "ok9nLrrjxiHy"
      }
    },
    {
      "cell_type": "code",
      "source": [
        "import pandas as pd\n",
        "import numpy as np\n",
        "import matplotlib.pyplot as plt\n",
        "import seaborn as sns\n",
        "\n",
        "file_url = 'http://media.githubusercontent.com/media/musthave-ML10/data_source/main/dating.csv'\n",
        "data = pd.read_csv(file_url)"
      ],
      "metadata": {
        "id": "gd4AQBI7w984"
      },
      "execution_count": 1,
      "outputs": []
    },
    {
      "cell_type": "code",
      "source": [
        "data.head()"
      ],
      "metadata": {
        "id": "vR_eslgjyUVm",
        "outputId": "1ee26738-b028-4671-90a2-338ee804b83d",
        "colab": {
          "base_uri": "https://localhost:8080/",
          "height": 386
        }
      },
      "execution_count": 2,
      "outputs": [
        {
          "output_type": "execute_result",
          "data": {
            "text/plain": [
              "   has_null  gender   age  age_o                                  race  \\\n",
              "0         0  female  21.0   27.0  Asian/PacificIslander/Asian-American   \n",
              "1         0  female  21.0   22.0  Asian/PacificIslander/Asian-American   \n",
              "2         1  female  21.0   22.0  Asian/PacificIslander/Asian-American   \n",
              "3         0  female  21.0   23.0  Asian/PacificIslander/Asian-American   \n",
              "4         0  female  21.0   24.0  Asian/PacificIslander/Asian-American   \n",
              "\n",
              "                                 race_o  importance_same_race  \\\n",
              "0           European/Caucasian-American                   2.0   \n",
              "1           European/Caucasian-American                   2.0   \n",
              "2  Asian/PacificIslander/Asian-American                   2.0   \n",
              "3           European/Caucasian-American                   2.0   \n",
              "4               Latino/HispanicAmerican                   2.0   \n",
              "\n",
              "   importance_same_religion  pref_o_attractive  pref_o_sincere  ...  \\\n",
              "0                       4.0               35.0            20.0  ...   \n",
              "1                       4.0               60.0             0.0  ...   \n",
              "2                       4.0               19.0            18.0  ...   \n",
              "3                       4.0               30.0             5.0  ...   \n",
              "4                       4.0               30.0            10.0  ...   \n",
              "\n",
              "   funny_partner  ambition_partner  shared_interests_partner  \\\n",
              "0            7.0               6.0                       5.0   \n",
              "1            8.0               5.0                       6.0   \n",
              "2            8.0               5.0                       7.0   \n",
              "3            7.0               6.0                       8.0   \n",
              "4            7.0               6.0                       6.0   \n",
              "\n",
              "   interests_correlate  expected_happy_with_sd_people  \\\n",
              "0                 0.14                            3.0   \n",
              "1                 0.54                            3.0   \n",
              "2                 0.16                            3.0   \n",
              "3                 0.61                            3.0   \n",
              "4                 0.21                            3.0   \n",
              "\n",
              "   expected_num_interested_in_me  like  guess_prob_liked  met  match  \n",
              "0                            2.0   7.0               6.0  0.0      0  \n",
              "1                            2.0   7.0               5.0  1.0      0  \n",
              "2                            2.0   7.0               NaN  1.0      1  \n",
              "3                            2.0   7.0               6.0  0.0      1  \n",
              "4                            2.0   6.0               6.0  0.0      1  \n",
              "\n",
              "[5 rows x 39 columns]"
            ],
            "text/html": [
              "\n",
              "  <div id=\"df-bde8e227-ce80-491a-9b9e-8c0330d551d3\">\n",
              "    <div class=\"colab-df-container\">\n",
              "      <div>\n",
              "<style scoped>\n",
              "    .dataframe tbody tr th:only-of-type {\n",
              "        vertical-align: middle;\n",
              "    }\n",
              "\n",
              "    .dataframe tbody tr th {\n",
              "        vertical-align: top;\n",
              "    }\n",
              "\n",
              "    .dataframe thead th {\n",
              "        text-align: right;\n",
              "    }\n",
              "</style>\n",
              "<table border=\"1\" class=\"dataframe\">\n",
              "  <thead>\n",
              "    <tr style=\"text-align: right;\">\n",
              "      <th></th>\n",
              "      <th>has_null</th>\n",
              "      <th>gender</th>\n",
              "      <th>age</th>\n",
              "      <th>age_o</th>\n",
              "      <th>race</th>\n",
              "      <th>race_o</th>\n",
              "      <th>importance_same_race</th>\n",
              "      <th>importance_same_religion</th>\n",
              "      <th>pref_o_attractive</th>\n",
              "      <th>pref_o_sincere</th>\n",
              "      <th>...</th>\n",
              "      <th>funny_partner</th>\n",
              "      <th>ambition_partner</th>\n",
              "      <th>shared_interests_partner</th>\n",
              "      <th>interests_correlate</th>\n",
              "      <th>expected_happy_with_sd_people</th>\n",
              "      <th>expected_num_interested_in_me</th>\n",
              "      <th>like</th>\n",
              "      <th>guess_prob_liked</th>\n",
              "      <th>met</th>\n",
              "      <th>match</th>\n",
              "    </tr>\n",
              "  </thead>\n",
              "  <tbody>\n",
              "    <tr>\n",
              "      <th>0</th>\n",
              "      <td>0</td>\n",
              "      <td>female</td>\n",
              "      <td>21.0</td>\n",
              "      <td>27.0</td>\n",
              "      <td>Asian/PacificIslander/Asian-American</td>\n",
              "      <td>European/Caucasian-American</td>\n",
              "      <td>2.0</td>\n",
              "      <td>4.0</td>\n",
              "      <td>35.0</td>\n",
              "      <td>20.0</td>\n",
              "      <td>...</td>\n",
              "      <td>7.0</td>\n",
              "      <td>6.0</td>\n",
              "      <td>5.0</td>\n",
              "      <td>0.14</td>\n",
              "      <td>3.0</td>\n",
              "      <td>2.0</td>\n",
              "      <td>7.0</td>\n",
              "      <td>6.0</td>\n",
              "      <td>0.0</td>\n",
              "      <td>0</td>\n",
              "    </tr>\n",
              "    <tr>\n",
              "      <th>1</th>\n",
              "      <td>0</td>\n",
              "      <td>female</td>\n",
              "      <td>21.0</td>\n",
              "      <td>22.0</td>\n",
              "      <td>Asian/PacificIslander/Asian-American</td>\n",
              "      <td>European/Caucasian-American</td>\n",
              "      <td>2.0</td>\n",
              "      <td>4.0</td>\n",
              "      <td>60.0</td>\n",
              "      <td>0.0</td>\n",
              "      <td>...</td>\n",
              "      <td>8.0</td>\n",
              "      <td>5.0</td>\n",
              "      <td>6.0</td>\n",
              "      <td>0.54</td>\n",
              "      <td>3.0</td>\n",
              "      <td>2.0</td>\n",
              "      <td>7.0</td>\n",
              "      <td>5.0</td>\n",
              "      <td>1.0</td>\n",
              "      <td>0</td>\n",
              "    </tr>\n",
              "    <tr>\n",
              "      <th>2</th>\n",
              "      <td>1</td>\n",
              "      <td>female</td>\n",
              "      <td>21.0</td>\n",
              "      <td>22.0</td>\n",
              "      <td>Asian/PacificIslander/Asian-American</td>\n",
              "      <td>Asian/PacificIslander/Asian-American</td>\n",
              "      <td>2.0</td>\n",
              "      <td>4.0</td>\n",
              "      <td>19.0</td>\n",
              "      <td>18.0</td>\n",
              "      <td>...</td>\n",
              "      <td>8.0</td>\n",
              "      <td>5.0</td>\n",
              "      <td>7.0</td>\n",
              "      <td>0.16</td>\n",
              "      <td>3.0</td>\n",
              "      <td>2.0</td>\n",
              "      <td>7.0</td>\n",
              "      <td>NaN</td>\n",
              "      <td>1.0</td>\n",
              "      <td>1</td>\n",
              "    </tr>\n",
              "    <tr>\n",
              "      <th>3</th>\n",
              "      <td>0</td>\n",
              "      <td>female</td>\n",
              "      <td>21.0</td>\n",
              "      <td>23.0</td>\n",
              "      <td>Asian/PacificIslander/Asian-American</td>\n",
              "      <td>European/Caucasian-American</td>\n",
              "      <td>2.0</td>\n",
              "      <td>4.0</td>\n",
              "      <td>30.0</td>\n",
              "      <td>5.0</td>\n",
              "      <td>...</td>\n",
              "      <td>7.0</td>\n",
              "      <td>6.0</td>\n",
              "      <td>8.0</td>\n",
              "      <td>0.61</td>\n",
              "      <td>3.0</td>\n",
              "      <td>2.0</td>\n",
              "      <td>7.0</td>\n",
              "      <td>6.0</td>\n",
              "      <td>0.0</td>\n",
              "      <td>1</td>\n",
              "    </tr>\n",
              "    <tr>\n",
              "      <th>4</th>\n",
              "      <td>0</td>\n",
              "      <td>female</td>\n",
              "      <td>21.0</td>\n",
              "      <td>24.0</td>\n",
              "      <td>Asian/PacificIslander/Asian-American</td>\n",
              "      <td>Latino/HispanicAmerican</td>\n",
              "      <td>2.0</td>\n",
              "      <td>4.0</td>\n",
              "      <td>30.0</td>\n",
              "      <td>10.0</td>\n",
              "      <td>...</td>\n",
              "      <td>7.0</td>\n",
              "      <td>6.0</td>\n",
              "      <td>6.0</td>\n",
              "      <td>0.21</td>\n",
              "      <td>3.0</td>\n",
              "      <td>2.0</td>\n",
              "      <td>6.0</td>\n",
              "      <td>6.0</td>\n",
              "      <td>0.0</td>\n",
              "      <td>1</td>\n",
              "    </tr>\n",
              "  </tbody>\n",
              "</table>\n",
              "<p>5 rows × 39 columns</p>\n",
              "</div>\n",
              "      <button class=\"colab-df-convert\" onclick=\"convertToInteractive('df-bde8e227-ce80-491a-9b9e-8c0330d551d3')\"\n",
              "              title=\"Convert this dataframe to an interactive table.\"\n",
              "              style=\"display:none;\">\n",
              "        \n",
              "  <svg xmlns=\"http://www.w3.org/2000/svg\" height=\"24px\"viewBox=\"0 0 24 24\"\n",
              "       width=\"24px\">\n",
              "    <path d=\"M0 0h24v24H0V0z\" fill=\"none\"/>\n",
              "    <path d=\"M18.56 5.44l.94 2.06.94-2.06 2.06-.94-2.06-.94-.94-2.06-.94 2.06-2.06.94zm-11 1L8.5 8.5l.94-2.06 2.06-.94-2.06-.94L8.5 2.5l-.94 2.06-2.06.94zm10 10l.94 2.06.94-2.06 2.06-.94-2.06-.94-.94-2.06-.94 2.06-2.06.94z\"/><path d=\"M17.41 7.96l-1.37-1.37c-.4-.4-.92-.59-1.43-.59-.52 0-1.04.2-1.43.59L10.3 9.45l-7.72 7.72c-.78.78-.78 2.05 0 2.83L4 21.41c.39.39.9.59 1.41.59.51 0 1.02-.2 1.41-.59l7.78-7.78 2.81-2.81c.8-.78.8-2.07 0-2.86zM5.41 20L4 18.59l7.72-7.72 1.47 1.35L5.41 20z\"/>\n",
              "  </svg>\n",
              "      </button>\n",
              "      \n",
              "  <style>\n",
              "    .colab-df-container {\n",
              "      display:flex;\n",
              "      flex-wrap:wrap;\n",
              "      gap: 12px;\n",
              "    }\n",
              "\n",
              "    .colab-df-convert {\n",
              "      background-color: #E8F0FE;\n",
              "      border: none;\n",
              "      border-radius: 50%;\n",
              "      cursor: pointer;\n",
              "      display: none;\n",
              "      fill: #1967D2;\n",
              "      height: 32px;\n",
              "      padding: 0 0 0 0;\n",
              "      width: 32px;\n",
              "    }\n",
              "\n",
              "    .colab-df-convert:hover {\n",
              "      background-color: #E2EBFA;\n",
              "      box-shadow: 0px 1px 2px rgba(60, 64, 67, 0.3), 0px 1px 3px 1px rgba(60, 64, 67, 0.15);\n",
              "      fill: #174EA6;\n",
              "    }\n",
              "\n",
              "    [theme=dark] .colab-df-convert {\n",
              "      background-color: #3B4455;\n",
              "      fill: #D2E3FC;\n",
              "    }\n",
              "\n",
              "    [theme=dark] .colab-df-convert:hover {\n",
              "      background-color: #434B5C;\n",
              "      box-shadow: 0px 1px 3px 1px rgba(0, 0, 0, 0.15);\n",
              "      filter: drop-shadow(0px 1px 2px rgba(0, 0, 0, 0.3));\n",
              "      fill: #FFFFFF;\n",
              "    }\n",
              "  </style>\n",
              "\n",
              "      <script>\n",
              "        const buttonEl =\n",
              "          document.querySelector('#df-bde8e227-ce80-491a-9b9e-8c0330d551d3 button.colab-df-convert');\n",
              "        buttonEl.style.display =\n",
              "          google.colab.kernel.accessAllowed ? 'block' : 'none';\n",
              "\n",
              "        async function convertToInteractive(key) {\n",
              "          const element = document.querySelector('#df-bde8e227-ce80-491a-9b9e-8c0330d551d3');\n",
              "          const dataTable =\n",
              "            await google.colab.kernel.invokeFunction('convertToInteractive',\n",
              "                                                     [key], {});\n",
              "          if (!dataTable) return;\n",
              "\n",
              "          const docLinkHtml = 'Like what you see? Visit the ' +\n",
              "            '<a target=\"_blank\" href=https://colab.research.google.com/notebooks/data_table.ipynb>data table notebook</a>'\n",
              "            + ' to learn more about interactive tables.';\n",
              "          element.innerHTML = '';\n",
              "          dataTable['output_type'] = 'display_data';\n",
              "          await google.colab.output.renderOutput(dataTable, element);\n",
              "          const docLink = document.createElement('div');\n",
              "          docLink.innerHTML = docLinkHtml;\n",
              "          element.appendChild(docLink);\n",
              "        }\n",
              "      </script>\n",
              "    </div>\n",
              "  </div>\n",
              "  "
            ]
          },
          "metadata": {},
          "execution_count": 2
        }
      ]
    },
    {
      "cell_type": "markdown",
      "source": [
        " - 변수가 39개 이므로 기본 출력 화면에 다담지 못해 중간에 ...으로 표시됨(기본 20개 컬럼만 출력)"
      ],
      "metadata": {
        "id": "gyXptEGUyZJw"
      }
    },
    {
      "cell_type": "code",
      "source": [
        "pd.options.display.max_columns = 40 # 40개 컬럼까지 출력되도록 설정"
      ],
      "metadata": {
        "id": "8QxXRM5hyVUh"
      },
      "execution_count": 3,
      "outputs": []
    },
    {
      "cell_type": "code",
      "source": [
        "data.info()"
      ],
      "metadata": {
        "id": "VYSf0AhIynII",
        "outputId": "04673cfd-13f6-48c8-e5f4-ce96dc3fc5de",
        "colab": {
          "base_uri": "https://localhost:8080/"
        }
      },
      "execution_count": 4,
      "outputs": [
        {
          "output_type": "stream",
          "name": "stdout",
          "text": [
            "<class 'pandas.core.frame.DataFrame'>\n",
            "RangeIndex: 8378 entries, 0 to 8377\n",
            "Data columns (total 39 columns):\n",
            " #   Column                         Non-Null Count  Dtype  \n",
            "---  ------                         --------------  -----  \n",
            " 0   has_null                       8378 non-null   int64  \n",
            " 1   gender                         8378 non-null   object \n",
            " 2   age                            8283 non-null   float64\n",
            " 3   age_o                          8274 non-null   float64\n",
            " 4   race                           8315 non-null   object \n",
            " 5   race_o                         8305 non-null   object \n",
            " 6   importance_same_race           8299 non-null   float64\n",
            " 7   importance_same_religion       8299 non-null   float64\n",
            " 8   pref_o_attractive              8289 non-null   float64\n",
            " 9   pref_o_sincere                 8289 non-null   float64\n",
            " 10  pref_o_intelligence            8289 non-null   float64\n",
            " 11  pref_o_funny                   8280 non-null   float64\n",
            " 12  pref_o_ambitious               8271 non-null   float64\n",
            " 13  pref_o_shared_interests        8249 non-null   float64\n",
            " 14  attractive_o                   8166 non-null   float64\n",
            " 15  sincere_o                      8091 non-null   float64\n",
            " 16  intelligence_o                 8072 non-null   float64\n",
            " 17  funny_o                        8018 non-null   float64\n",
            " 18  ambitous_o                     7656 non-null   float64\n",
            " 19  shared_interests_o             7302 non-null   float64\n",
            " 20  attractive_important           8299 non-null   float64\n",
            " 21  sincere_important              8299 non-null   float64\n",
            " 22  intellicence_important         8299 non-null   float64\n",
            " 23  funny_important                8289 non-null   float64\n",
            " 24  ambtition_important            8279 non-null   float64\n",
            " 25  shared_interests_important     8257 non-null   float64\n",
            " 26  attractive_partner             8176 non-null   float64\n",
            " 27  sincere_partner                8101 non-null   float64\n",
            " 28  intelligence_partner           8082 non-null   float64\n",
            " 29  funny_partner                  8028 non-null   float64\n",
            " 30  ambition_partner               7666 non-null   float64\n",
            " 31  shared_interests_partner       7311 non-null   float64\n",
            " 32  interests_correlate            8220 non-null   float64\n",
            " 33  expected_happy_with_sd_people  8277 non-null   float64\n",
            " 34  expected_num_interested_in_me  1800 non-null   float64\n",
            " 35  like                           8138 non-null   float64\n",
            " 36  guess_prob_liked               8069 non-null   float64\n",
            " 37  met                            8003 non-null   float64\n",
            " 38  match                          8378 non-null   int64  \n",
            "dtypes: float64(34), int64(2), object(3)\n",
            "memory usage: 2.5+ MB\n"
          ]
        }
      ]
    },
    {
      "cell_type": "markdown",
      "source": [
        " - has_null : 무응답 항목이 있는지 여부"
      ],
      "metadata": {
        "id": "TiWVPDWPy03D"
      }
    },
    {
      "cell_type": "code",
      "source": [
        "round(data.describe(), 2)"
      ],
      "metadata": {
        "id": "-pAO-Kxsypya",
        "outputId": "a33ebe44-b092-4337-c6f7-0768c2010c51",
        "colab": {
          "base_uri": "https://localhost:8080/",
          "height": 364
        }
      },
      "execution_count": 5,
      "outputs": [
        {
          "output_type": "execute_result",
          "data": {
            "text/plain": [
              "       has_null      age    age_o  importance_same_race  \\\n",
              "count   8378.00  8283.00  8274.00               8299.00   \n",
              "mean       0.87    26.36    26.36                  3.78   \n",
              "std        0.33     3.57     3.56                  2.85   \n",
              "min        0.00    18.00    18.00                  0.00   \n",
              "25%        1.00    24.00    24.00                  1.00   \n",
              "50%        1.00    26.00    26.00                  3.00   \n",
              "75%        1.00    28.00    28.00                  6.00   \n",
              "max        1.00    55.00    55.00                 10.00   \n",
              "\n",
              "       importance_same_religion  pref_o_attractive  pref_o_sincere  \\\n",
              "count                   8299.00            8289.00         8289.00   \n",
              "mean                       3.65              22.50           17.40   \n",
              "std                        2.81              12.57            7.04   \n",
              "min                        1.00               0.00            0.00   \n",
              "25%                        1.00              15.00           15.00   \n",
              "50%                        3.00              20.00           18.37   \n",
              "75%                        6.00              25.00           20.00   \n",
              "max                       10.00             100.00           60.00   \n",
              "\n",
              "       pref_o_intelligence  pref_o_funny  pref_o_ambitious  \\\n",
              "count              8289.00       8280.00           8271.00   \n",
              "mean                 20.27         17.46             10.69   \n",
              "std                   6.78          6.09              6.13   \n",
              "min                   0.00          0.00              0.00   \n",
              "25%                  17.39         15.00              5.00   \n",
              "50%                  20.00         18.00             10.00   \n",
              "75%                  23.81         20.00             15.00   \n",
              "max                  50.00         50.00             53.00   \n",
              "\n",
              "       pref_o_shared_interests  attractive_o  sincere_o  intelligence_o  \\\n",
              "count                  8249.00       8166.00    8091.00         8072.00   \n",
              "mean                     11.85          6.19       7.18            7.37   \n",
              "std                       6.36          1.95       1.74            1.55   \n",
              "min                       0.00          0.00       0.00            0.00   \n",
              "25%                       9.52          5.00       6.00            6.00   \n",
              "50%                      10.64          6.00       7.00            7.00   \n",
              "75%                      16.00          8.00       8.00            8.00   \n",
              "max                      30.00         10.50      10.00           10.00   \n",
              "\n",
              "       funny_o  ambitous_o  shared_interests_o  attractive_important  \\\n",
              "count  8018.00     7656.00             7302.00               8299.00   \n",
              "mean      6.40        6.78                5.47                 22.51   \n",
              "std       1.95        1.79                2.16                 12.59   \n",
              "min       0.00        0.00                0.00                  0.00   \n",
              "25%       5.00        6.00                4.00                 15.00   \n",
              "50%       7.00        7.00                6.00                 20.00   \n",
              "75%       8.00        8.00                7.00                 25.00   \n",
              "max      11.00       10.00               10.00                100.00   \n",
              "\n",
              "       sincere_important  intellicence_important  funny_important  \\\n",
              "count            8299.00                 8299.00          8289.00   \n",
              "mean               17.40                   20.27            17.46   \n",
              "std                 7.05                    6.78             6.09   \n",
              "min                 0.00                    0.00             0.00   \n",
              "25%                15.00                   17.39            15.00   \n",
              "50%                18.18                   20.00            18.00   \n",
              "75%                20.00                   23.81            20.00   \n",
              "max                60.00                   50.00            50.00   \n",
              "\n",
              "       ambtition_important  shared_interests_important  attractive_partner  \\\n",
              "count              8279.00                     8257.00             8176.00   \n",
              "mean                 10.68                       11.85                6.19   \n",
              "std                   6.12                        6.36                1.95   \n",
              "min                   0.00                        0.00                0.00   \n",
              "25%                   5.00                        9.52                5.00   \n",
              "50%                  10.00                       10.64                6.00   \n",
              "75%                  15.00                       16.00                8.00   \n",
              "max                  53.00                       30.00               10.00   \n",
              "\n",
              "       sincere_partner  intelligence_partner  funny_partner  ambition_partner  \\\n",
              "count          8101.00               8082.00        8028.00           7666.00   \n",
              "mean              7.18                  7.37           6.40              6.78   \n",
              "std               1.74                  1.55           1.95              1.79   \n",
              "min               0.00                  0.00           0.00              0.00   \n",
              "25%               6.00                  6.00           5.00              6.00   \n",
              "50%               7.00                  7.00           7.00              7.00   \n",
              "75%               8.00                  8.00           8.00              8.00   \n",
              "max              10.00                 10.00          10.00             10.00   \n",
              "\n",
              "       shared_interests_partner  interests_correlate  \\\n",
              "count                   7311.00              8220.00   \n",
              "mean                       5.47                 0.20   \n",
              "std                        2.16                 0.30   \n",
              "min                        0.00                -0.83   \n",
              "25%                        4.00                -0.02   \n",
              "50%                        6.00                 0.21   \n",
              "75%                        7.00                 0.43   \n",
              "max                       10.00                 0.91   \n",
              "\n",
              "       expected_happy_with_sd_people  expected_num_interested_in_me     like  \\\n",
              "count                        8277.00                        1800.00  8138.00   \n",
              "mean                            5.53                           5.57     6.13   \n",
              "std                             1.73                           4.76     1.84   \n",
              "min                             1.00                           0.00     0.00   \n",
              "25%                             5.00                           2.00     5.00   \n",
              "50%                             6.00                           4.00     6.00   \n",
              "75%                             7.00                           8.00     7.00   \n",
              "max                            10.00                          20.00    10.00   \n",
              "\n",
              "       guess_prob_liked      met    match  \n",
              "count           8069.00  8003.00  8378.00  \n",
              "mean               5.21     0.05     0.16  \n",
              "std                2.13     0.28     0.37  \n",
              "min                0.00     0.00     0.00  \n",
              "25%                4.00     0.00     0.00  \n",
              "50%                5.00     0.00     0.00  \n",
              "75%                7.00     0.00     0.00  \n",
              "max               10.00     8.00     1.00  "
            ],
            "text/html": [
              "\n",
              "  <div id=\"df-0ac690a4-13a8-4fc0-b2a5-a2d5c348a710\">\n",
              "    <div class=\"colab-df-container\">\n",
              "      <div>\n",
              "<style scoped>\n",
              "    .dataframe tbody tr th:only-of-type {\n",
              "        vertical-align: middle;\n",
              "    }\n",
              "\n",
              "    .dataframe tbody tr th {\n",
              "        vertical-align: top;\n",
              "    }\n",
              "\n",
              "    .dataframe thead th {\n",
              "        text-align: right;\n",
              "    }\n",
              "</style>\n",
              "<table border=\"1\" class=\"dataframe\">\n",
              "  <thead>\n",
              "    <tr style=\"text-align: right;\">\n",
              "      <th></th>\n",
              "      <th>has_null</th>\n",
              "      <th>age</th>\n",
              "      <th>age_o</th>\n",
              "      <th>importance_same_race</th>\n",
              "      <th>importance_same_religion</th>\n",
              "      <th>pref_o_attractive</th>\n",
              "      <th>pref_o_sincere</th>\n",
              "      <th>pref_o_intelligence</th>\n",
              "      <th>pref_o_funny</th>\n",
              "      <th>pref_o_ambitious</th>\n",
              "      <th>pref_o_shared_interests</th>\n",
              "      <th>attractive_o</th>\n",
              "      <th>sincere_o</th>\n",
              "      <th>intelligence_o</th>\n",
              "      <th>funny_o</th>\n",
              "      <th>ambitous_o</th>\n",
              "      <th>shared_interests_o</th>\n",
              "      <th>attractive_important</th>\n",
              "      <th>sincere_important</th>\n",
              "      <th>intellicence_important</th>\n",
              "      <th>funny_important</th>\n",
              "      <th>ambtition_important</th>\n",
              "      <th>shared_interests_important</th>\n",
              "      <th>attractive_partner</th>\n",
              "      <th>sincere_partner</th>\n",
              "      <th>intelligence_partner</th>\n",
              "      <th>funny_partner</th>\n",
              "      <th>ambition_partner</th>\n",
              "      <th>shared_interests_partner</th>\n",
              "      <th>interests_correlate</th>\n",
              "      <th>expected_happy_with_sd_people</th>\n",
              "      <th>expected_num_interested_in_me</th>\n",
              "      <th>like</th>\n",
              "      <th>guess_prob_liked</th>\n",
              "      <th>met</th>\n",
              "      <th>match</th>\n",
              "    </tr>\n",
              "  </thead>\n",
              "  <tbody>\n",
              "    <tr>\n",
              "      <th>count</th>\n",
              "      <td>8378.00</td>\n",
              "      <td>8283.00</td>\n",
              "      <td>8274.00</td>\n",
              "      <td>8299.00</td>\n",
              "      <td>8299.00</td>\n",
              "      <td>8289.00</td>\n",
              "      <td>8289.00</td>\n",
              "      <td>8289.00</td>\n",
              "      <td>8280.00</td>\n",
              "      <td>8271.00</td>\n",
              "      <td>8249.00</td>\n",
              "      <td>8166.00</td>\n",
              "      <td>8091.00</td>\n",
              "      <td>8072.00</td>\n",
              "      <td>8018.00</td>\n",
              "      <td>7656.00</td>\n",
              "      <td>7302.00</td>\n",
              "      <td>8299.00</td>\n",
              "      <td>8299.00</td>\n",
              "      <td>8299.00</td>\n",
              "      <td>8289.00</td>\n",
              "      <td>8279.00</td>\n",
              "      <td>8257.00</td>\n",
              "      <td>8176.00</td>\n",
              "      <td>8101.00</td>\n",
              "      <td>8082.00</td>\n",
              "      <td>8028.00</td>\n",
              "      <td>7666.00</td>\n",
              "      <td>7311.00</td>\n",
              "      <td>8220.00</td>\n",
              "      <td>8277.00</td>\n",
              "      <td>1800.00</td>\n",
              "      <td>8138.00</td>\n",
              "      <td>8069.00</td>\n",
              "      <td>8003.00</td>\n",
              "      <td>8378.00</td>\n",
              "    </tr>\n",
              "    <tr>\n",
              "      <th>mean</th>\n",
              "      <td>0.87</td>\n",
              "      <td>26.36</td>\n",
              "      <td>26.36</td>\n",
              "      <td>3.78</td>\n",
              "      <td>3.65</td>\n",
              "      <td>22.50</td>\n",
              "      <td>17.40</td>\n",
              "      <td>20.27</td>\n",
              "      <td>17.46</td>\n",
              "      <td>10.69</td>\n",
              "      <td>11.85</td>\n",
              "      <td>6.19</td>\n",
              "      <td>7.18</td>\n",
              "      <td>7.37</td>\n",
              "      <td>6.40</td>\n",
              "      <td>6.78</td>\n",
              "      <td>5.47</td>\n",
              "      <td>22.51</td>\n",
              "      <td>17.40</td>\n",
              "      <td>20.27</td>\n",
              "      <td>17.46</td>\n",
              "      <td>10.68</td>\n",
              "      <td>11.85</td>\n",
              "      <td>6.19</td>\n",
              "      <td>7.18</td>\n",
              "      <td>7.37</td>\n",
              "      <td>6.40</td>\n",
              "      <td>6.78</td>\n",
              "      <td>5.47</td>\n",
              "      <td>0.20</td>\n",
              "      <td>5.53</td>\n",
              "      <td>5.57</td>\n",
              "      <td>6.13</td>\n",
              "      <td>5.21</td>\n",
              "      <td>0.05</td>\n",
              "      <td>0.16</td>\n",
              "    </tr>\n",
              "    <tr>\n",
              "      <th>std</th>\n",
              "      <td>0.33</td>\n",
              "      <td>3.57</td>\n",
              "      <td>3.56</td>\n",
              "      <td>2.85</td>\n",
              "      <td>2.81</td>\n",
              "      <td>12.57</td>\n",
              "      <td>7.04</td>\n",
              "      <td>6.78</td>\n",
              "      <td>6.09</td>\n",
              "      <td>6.13</td>\n",
              "      <td>6.36</td>\n",
              "      <td>1.95</td>\n",
              "      <td>1.74</td>\n",
              "      <td>1.55</td>\n",
              "      <td>1.95</td>\n",
              "      <td>1.79</td>\n",
              "      <td>2.16</td>\n",
              "      <td>12.59</td>\n",
              "      <td>7.05</td>\n",
              "      <td>6.78</td>\n",
              "      <td>6.09</td>\n",
              "      <td>6.12</td>\n",
              "      <td>6.36</td>\n",
              "      <td>1.95</td>\n",
              "      <td>1.74</td>\n",
              "      <td>1.55</td>\n",
              "      <td>1.95</td>\n",
              "      <td>1.79</td>\n",
              "      <td>2.16</td>\n",
              "      <td>0.30</td>\n",
              "      <td>1.73</td>\n",
              "      <td>4.76</td>\n",
              "      <td>1.84</td>\n",
              "      <td>2.13</td>\n",
              "      <td>0.28</td>\n",
              "      <td>0.37</td>\n",
              "    </tr>\n",
              "    <tr>\n",
              "      <th>min</th>\n",
              "      <td>0.00</td>\n",
              "      <td>18.00</td>\n",
              "      <td>18.00</td>\n",
              "      <td>0.00</td>\n",
              "      <td>1.00</td>\n",
              "      <td>0.00</td>\n",
              "      <td>0.00</td>\n",
              "      <td>0.00</td>\n",
              "      <td>0.00</td>\n",
              "      <td>0.00</td>\n",
              "      <td>0.00</td>\n",
              "      <td>0.00</td>\n",
              "      <td>0.00</td>\n",
              "      <td>0.00</td>\n",
              "      <td>0.00</td>\n",
              "      <td>0.00</td>\n",
              "      <td>0.00</td>\n",
              "      <td>0.00</td>\n",
              "      <td>0.00</td>\n",
              "      <td>0.00</td>\n",
              "      <td>0.00</td>\n",
              "      <td>0.00</td>\n",
              "      <td>0.00</td>\n",
              "      <td>0.00</td>\n",
              "      <td>0.00</td>\n",
              "      <td>0.00</td>\n",
              "      <td>0.00</td>\n",
              "      <td>0.00</td>\n",
              "      <td>0.00</td>\n",
              "      <td>-0.83</td>\n",
              "      <td>1.00</td>\n",
              "      <td>0.00</td>\n",
              "      <td>0.00</td>\n",
              "      <td>0.00</td>\n",
              "      <td>0.00</td>\n",
              "      <td>0.00</td>\n",
              "    </tr>\n",
              "    <tr>\n",
              "      <th>25%</th>\n",
              "      <td>1.00</td>\n",
              "      <td>24.00</td>\n",
              "      <td>24.00</td>\n",
              "      <td>1.00</td>\n",
              "      <td>1.00</td>\n",
              "      <td>15.00</td>\n",
              "      <td>15.00</td>\n",
              "      <td>17.39</td>\n",
              "      <td>15.00</td>\n",
              "      <td>5.00</td>\n",
              "      <td>9.52</td>\n",
              "      <td>5.00</td>\n",
              "      <td>6.00</td>\n",
              "      <td>6.00</td>\n",
              "      <td>5.00</td>\n",
              "      <td>6.00</td>\n",
              "      <td>4.00</td>\n",
              "      <td>15.00</td>\n",
              "      <td>15.00</td>\n",
              "      <td>17.39</td>\n",
              "      <td>15.00</td>\n",
              "      <td>5.00</td>\n",
              "      <td>9.52</td>\n",
              "      <td>5.00</td>\n",
              "      <td>6.00</td>\n",
              "      <td>6.00</td>\n",
              "      <td>5.00</td>\n",
              "      <td>6.00</td>\n",
              "      <td>4.00</td>\n",
              "      <td>-0.02</td>\n",
              "      <td>5.00</td>\n",
              "      <td>2.00</td>\n",
              "      <td>5.00</td>\n",
              "      <td>4.00</td>\n",
              "      <td>0.00</td>\n",
              "      <td>0.00</td>\n",
              "    </tr>\n",
              "    <tr>\n",
              "      <th>50%</th>\n",
              "      <td>1.00</td>\n",
              "      <td>26.00</td>\n",
              "      <td>26.00</td>\n",
              "      <td>3.00</td>\n",
              "      <td>3.00</td>\n",
              "      <td>20.00</td>\n",
              "      <td>18.37</td>\n",
              "      <td>20.00</td>\n",
              "      <td>18.00</td>\n",
              "      <td>10.00</td>\n",
              "      <td>10.64</td>\n",
              "      <td>6.00</td>\n",
              "      <td>7.00</td>\n",
              "      <td>7.00</td>\n",
              "      <td>7.00</td>\n",
              "      <td>7.00</td>\n",
              "      <td>6.00</td>\n",
              "      <td>20.00</td>\n",
              "      <td>18.18</td>\n",
              "      <td>20.00</td>\n",
              "      <td>18.00</td>\n",
              "      <td>10.00</td>\n",
              "      <td>10.64</td>\n",
              "      <td>6.00</td>\n",
              "      <td>7.00</td>\n",
              "      <td>7.00</td>\n",
              "      <td>7.00</td>\n",
              "      <td>7.00</td>\n",
              "      <td>6.00</td>\n",
              "      <td>0.21</td>\n",
              "      <td>6.00</td>\n",
              "      <td>4.00</td>\n",
              "      <td>6.00</td>\n",
              "      <td>5.00</td>\n",
              "      <td>0.00</td>\n",
              "      <td>0.00</td>\n",
              "    </tr>\n",
              "    <tr>\n",
              "      <th>75%</th>\n",
              "      <td>1.00</td>\n",
              "      <td>28.00</td>\n",
              "      <td>28.00</td>\n",
              "      <td>6.00</td>\n",
              "      <td>6.00</td>\n",
              "      <td>25.00</td>\n",
              "      <td>20.00</td>\n",
              "      <td>23.81</td>\n",
              "      <td>20.00</td>\n",
              "      <td>15.00</td>\n",
              "      <td>16.00</td>\n",
              "      <td>8.00</td>\n",
              "      <td>8.00</td>\n",
              "      <td>8.00</td>\n",
              "      <td>8.00</td>\n",
              "      <td>8.00</td>\n",
              "      <td>7.00</td>\n",
              "      <td>25.00</td>\n",
              "      <td>20.00</td>\n",
              "      <td>23.81</td>\n",
              "      <td>20.00</td>\n",
              "      <td>15.00</td>\n",
              "      <td>16.00</td>\n",
              "      <td>8.00</td>\n",
              "      <td>8.00</td>\n",
              "      <td>8.00</td>\n",
              "      <td>8.00</td>\n",
              "      <td>8.00</td>\n",
              "      <td>7.00</td>\n",
              "      <td>0.43</td>\n",
              "      <td>7.00</td>\n",
              "      <td>8.00</td>\n",
              "      <td>7.00</td>\n",
              "      <td>7.00</td>\n",
              "      <td>0.00</td>\n",
              "      <td>0.00</td>\n",
              "    </tr>\n",
              "    <tr>\n",
              "      <th>max</th>\n",
              "      <td>1.00</td>\n",
              "      <td>55.00</td>\n",
              "      <td>55.00</td>\n",
              "      <td>10.00</td>\n",
              "      <td>10.00</td>\n",
              "      <td>100.00</td>\n",
              "      <td>60.00</td>\n",
              "      <td>50.00</td>\n",
              "      <td>50.00</td>\n",
              "      <td>53.00</td>\n",
              "      <td>30.00</td>\n",
              "      <td>10.50</td>\n",
              "      <td>10.00</td>\n",
              "      <td>10.00</td>\n",
              "      <td>11.00</td>\n",
              "      <td>10.00</td>\n",
              "      <td>10.00</td>\n",
              "      <td>100.00</td>\n",
              "      <td>60.00</td>\n",
              "      <td>50.00</td>\n",
              "      <td>50.00</td>\n",
              "      <td>53.00</td>\n",
              "      <td>30.00</td>\n",
              "      <td>10.00</td>\n",
              "      <td>10.00</td>\n",
              "      <td>10.00</td>\n",
              "      <td>10.00</td>\n",
              "      <td>10.00</td>\n",
              "      <td>10.00</td>\n",
              "      <td>0.91</td>\n",
              "      <td>10.00</td>\n",
              "      <td>20.00</td>\n",
              "      <td>10.00</td>\n",
              "      <td>10.00</td>\n",
              "      <td>8.00</td>\n",
              "      <td>1.00</td>\n",
              "    </tr>\n",
              "  </tbody>\n",
              "</table>\n",
              "</div>\n",
              "      <button class=\"colab-df-convert\" onclick=\"convertToInteractive('df-0ac690a4-13a8-4fc0-b2a5-a2d5c348a710')\"\n",
              "              title=\"Convert this dataframe to an interactive table.\"\n",
              "              style=\"display:none;\">\n",
              "        \n",
              "  <svg xmlns=\"http://www.w3.org/2000/svg\" height=\"24px\"viewBox=\"0 0 24 24\"\n",
              "       width=\"24px\">\n",
              "    <path d=\"M0 0h24v24H0V0z\" fill=\"none\"/>\n",
              "    <path d=\"M18.56 5.44l.94 2.06.94-2.06 2.06-.94-2.06-.94-.94-2.06-.94 2.06-2.06.94zm-11 1L8.5 8.5l.94-2.06 2.06-.94-2.06-.94L8.5 2.5l-.94 2.06-2.06.94zm10 10l.94 2.06.94-2.06 2.06-.94-2.06-.94-.94-2.06-.94 2.06-2.06.94z\"/><path d=\"M17.41 7.96l-1.37-1.37c-.4-.4-.92-.59-1.43-.59-.52 0-1.04.2-1.43.59L10.3 9.45l-7.72 7.72c-.78.78-.78 2.05 0 2.83L4 21.41c.39.39.9.59 1.41.59.51 0 1.02-.2 1.41-.59l7.78-7.78 2.81-2.81c.8-.78.8-2.07 0-2.86zM5.41 20L4 18.59l7.72-7.72 1.47 1.35L5.41 20z\"/>\n",
              "  </svg>\n",
              "      </button>\n",
              "      \n",
              "  <style>\n",
              "    .colab-df-container {\n",
              "      display:flex;\n",
              "      flex-wrap:wrap;\n",
              "      gap: 12px;\n",
              "    }\n",
              "\n",
              "    .colab-df-convert {\n",
              "      background-color: #E8F0FE;\n",
              "      border: none;\n",
              "      border-radius: 50%;\n",
              "      cursor: pointer;\n",
              "      display: none;\n",
              "      fill: #1967D2;\n",
              "      height: 32px;\n",
              "      padding: 0 0 0 0;\n",
              "      width: 32px;\n",
              "    }\n",
              "\n",
              "    .colab-df-convert:hover {\n",
              "      background-color: #E2EBFA;\n",
              "      box-shadow: 0px 1px 2px rgba(60, 64, 67, 0.3), 0px 1px 3px 1px rgba(60, 64, 67, 0.15);\n",
              "      fill: #174EA6;\n",
              "    }\n",
              "\n",
              "    [theme=dark] .colab-df-convert {\n",
              "      background-color: #3B4455;\n",
              "      fill: #D2E3FC;\n",
              "    }\n",
              "\n",
              "    [theme=dark] .colab-df-convert:hover {\n",
              "      background-color: #434B5C;\n",
              "      box-shadow: 0px 1px 3px 1px rgba(0, 0, 0, 0.15);\n",
              "      filter: drop-shadow(0px 1px 2px rgba(0, 0, 0, 0.3));\n",
              "      fill: #FFFFFF;\n",
              "    }\n",
              "  </style>\n",
              "\n",
              "      <script>\n",
              "        const buttonEl =\n",
              "          document.querySelector('#df-0ac690a4-13a8-4fc0-b2a5-a2d5c348a710 button.colab-df-convert');\n",
              "        buttonEl.style.display =\n",
              "          google.colab.kernel.accessAllowed ? 'block' : 'none';\n",
              "\n",
              "        async function convertToInteractive(key) {\n",
              "          const element = document.querySelector('#df-0ac690a4-13a8-4fc0-b2a5-a2d5c348a710');\n",
              "          const dataTable =\n",
              "            await google.colab.kernel.invokeFunction('convertToInteractive',\n",
              "                                                     [key], {});\n",
              "          if (!dataTable) return;\n",
              "\n",
              "          const docLinkHtml = 'Like what you see? Visit the ' +\n",
              "            '<a target=\"_blank\" href=https://colab.research.google.com/notebooks/data_table.ipynb>data table notebook</a>'\n",
              "            + ' to learn more about interactive tables.';\n",
              "          element.innerHTML = '';\n",
              "          dataTable['output_type'] = 'display_data';\n",
              "          await google.colab.output.renderOutput(dataTable, element);\n",
              "          const docLink = document.createElement('div');\n",
              "          docLink.innerHTML = docLinkHtml;\n",
              "          element.appendChild(docLink);\n",
              "        }\n",
              "      </script>\n",
              "    </div>\n",
              "  </div>\n",
              "  "
            ]
          },
          "metadata": {},
          "execution_count": 5
        }
      ]
    },
    {
      "cell_type": "markdown",
      "source": [
        "## 전처리 : 결측치 처리"
      ],
      "metadata": {
        "id": "AE-nUy7PCDyE"
      }
    },
    {
      "cell_type": "code",
      "source": [
        "data.isna().mean()"
      ],
      "metadata": {
        "id": "LSJQ2hApzHCC",
        "outputId": "3659f7e2-8aaf-4d94-8dd0-cebd2f57d8a6",
        "colab": {
          "base_uri": "https://localhost:8080/"
        }
      },
      "execution_count": 6,
      "outputs": [
        {
          "output_type": "execute_result",
          "data": {
            "text/plain": [
              "has_null                         0.000000\n",
              "gender                           0.000000\n",
              "age                              0.011339\n",
              "age_o                            0.012413\n",
              "race                             0.007520\n",
              "race_o                           0.008713\n",
              "importance_same_race             0.009429\n",
              "importance_same_religion         0.009429\n",
              "pref_o_attractive                0.010623\n",
              "pref_o_sincere                   0.010623\n",
              "pref_o_intelligence              0.010623\n",
              "pref_o_funny                     0.011697\n",
              "pref_o_ambitious                 0.012772\n",
              "pref_o_shared_interests          0.015397\n",
              "attractive_o                     0.025304\n",
              "sincere_o                        0.034256\n",
              "intelligence_o                   0.036524\n",
              "funny_o                          0.042970\n",
              "ambitous_o                       0.086178\n",
              "shared_interests_o               0.128432\n",
              "attractive_important             0.009429\n",
              "sincere_important                0.009429\n",
              "intellicence_important           0.009429\n",
              "funny_important                  0.010623\n",
              "ambtition_important              0.011817\n",
              "shared_interests_important       0.014443\n",
              "attractive_partner               0.024111\n",
              "sincere_partner                  0.033063\n",
              "intelligence_partner             0.035331\n",
              "funny_partner                    0.041776\n",
              "ambition_partner                 0.084984\n",
              "shared_interests_partner         0.127357\n",
              "interests_correlate              0.018859\n",
              "expected_happy_with_sd_people    0.012055\n",
              "expected_num_interested_in_me    0.785152\n",
              "like                             0.028646\n",
              "guess_prob_liked                 0.036882\n",
              "met                              0.044760\n",
              "match                            0.000000\n",
              "dtype: float64"
            ]
          },
          "metadata": {},
          "execution_count": 6
        }
      ]
    },
    {
      "cell_type": "markdown",
      "source": [
        " - 거의 모든변수에 결측치 있음(5% ↓)\n",
        " - XGBoost와 같은 트리기반 알고리즘은 결측치 채우기 까다롭지 않다\n",
        " - 데이터에 등장하지 않을 법한 임의의 숫자(-99)를 채워넣음\n",
        "  \n",
        "  > 선형모델에서는 -99 숫자가 아웃라이어로써 작용하겠지만 트리모델에서는 결측치라는 사실 자체가 유의미 하다면 -99를 분류하는 노드가 생겨날 것임\n",
        " - 중요도와 관련된 변수들은 결측치 제거\n",
        " - 평가점수에 관한 변수는 무응답(결측치)를 하나의 응답 종류로 간주하여 사용"
      ],
      "metadata": {
        "id": "0BWnua_rCYXj"
      }
    },
    {
      "cell_type": "code",
      "source": [
        "data.columns"
      ],
      "metadata": {
        "id": "52iTsLxeDX31",
        "outputId": "d6404664-c5ac-4eed-c636-b36c8bde0c26",
        "colab": {
          "base_uri": "https://localhost:8080/"
        }
      },
      "execution_count": 7,
      "outputs": [
        {
          "output_type": "execute_result",
          "data": {
            "text/plain": [
              "Index(['has_null', 'gender', 'age', 'age_o', 'race', 'race_o',\n",
              "       'importance_same_race', 'importance_same_religion', 'pref_o_attractive',\n",
              "       'pref_o_sincere', 'pref_o_intelligence', 'pref_o_funny',\n",
              "       'pref_o_ambitious', 'pref_o_shared_interests', 'attractive_o',\n",
              "       'sincere_o', 'intelligence_o', 'funny_o', 'ambitous_o',\n",
              "       'shared_interests_o', 'attractive_important', 'sincere_important',\n",
              "       'intellicence_important', 'funny_important', 'ambtition_important',\n",
              "       'shared_interests_important', 'attractive_partner', 'sincere_partner',\n",
              "       'intelligence_partner', 'funny_partner', 'ambition_partner',\n",
              "       'shared_interests_partner', 'interests_correlate',\n",
              "       'expected_happy_with_sd_people', 'expected_num_interested_in_me',\n",
              "       'like', 'guess_prob_liked', 'met', 'match'],\n",
              "      dtype='object')"
            ]
          },
          "metadata": {},
          "execution_count": 7
        }
      ]
    },
    {
      "cell_type": "code",
      "source": [
        "data = data.dropna(subset=['pref_o_attractive',\n",
        "       'pref_o_sincere', 'pref_o_intelligence', 'pref_o_funny',\n",
        "       'pref_o_ambitious', 'pref_o_shared_interests','attractive_important','sincere_important',\n",
        "       'intellicence_important', 'funny_important', 'ambtition_important',\n",
        "       'shared_interests_important']) # subset 파라미터 : 해당col의 결측치만 제거(axis=1 설정이 필요 없음) "
      ],
      "metadata": {
        "id": "bqnGu3EjCIA9"
      },
      "execution_count": 8,
      "outputs": []
    },
    {
      "cell_type": "code",
      "source": [
        "data = data.fillna(-99)"
      ],
      "metadata": {
        "id": "9SzN5LLxD59e"
      },
      "execution_count": 9,
      "outputs": []
    },
    {
      "cell_type": "code",
      "source": [
        "data.isna().mean()"
      ],
      "metadata": {
        "id": "VEcSb52xD882",
        "outputId": "fd39ad79-ca9f-4558-e325-d00dcd8d467a",
        "colab": {
          "base_uri": "https://localhost:8080/"
        }
      },
      "execution_count": 10,
      "outputs": [
        {
          "output_type": "execute_result",
          "data": {
            "text/plain": [
              "has_null                         0.0\n",
              "gender                           0.0\n",
              "age                              0.0\n",
              "age_o                            0.0\n",
              "race                             0.0\n",
              "race_o                           0.0\n",
              "importance_same_race             0.0\n",
              "importance_same_religion         0.0\n",
              "pref_o_attractive                0.0\n",
              "pref_o_sincere                   0.0\n",
              "pref_o_intelligence              0.0\n",
              "pref_o_funny                     0.0\n",
              "pref_o_ambitious                 0.0\n",
              "pref_o_shared_interests          0.0\n",
              "attractive_o                     0.0\n",
              "sincere_o                        0.0\n",
              "intelligence_o                   0.0\n",
              "funny_o                          0.0\n",
              "ambitous_o                       0.0\n",
              "shared_interests_o               0.0\n",
              "attractive_important             0.0\n",
              "sincere_important                0.0\n",
              "intellicence_important           0.0\n",
              "funny_important                  0.0\n",
              "ambtition_important              0.0\n",
              "shared_interests_important       0.0\n",
              "attractive_partner               0.0\n",
              "sincere_partner                  0.0\n",
              "intelligence_partner             0.0\n",
              "funny_partner                    0.0\n",
              "ambition_partner                 0.0\n",
              "shared_interests_partner         0.0\n",
              "interests_correlate              0.0\n",
              "expected_happy_with_sd_people    0.0\n",
              "expected_num_interested_in_me    0.0\n",
              "like                             0.0\n",
              "guess_prob_liked                 0.0\n",
              "met                              0.0\n",
              "match                            0.0\n",
              "dtype: float64"
            ]
          },
          "metadata": {},
          "execution_count": 10
        }
      ]
    },
    {
      "cell_type": "markdown",
      "source": [
        " - data에 상대방 나이와 본인 나이가 존재 → 나이 차이 계산\n",
        " - 나이의 결측치(-99)는 '알 수 없음' 의미로 사용\n",
        " - 남자가 나이가 많은지 반대인지도 고려"
      ],
      "metadata": {
        "id": "NOR753hoEbrK"
      }
    },
    {
      "cell_type": "code",
      "source": [
        "# DataFrame에 apply(func, axis=1)를 적용하여 별도의 변수(컬럼)를 만들 예정\n",
        "# 직접만들 func 함수에 여러가지 변수가(컬럼) 사용될 예정이므로 포괄할 수 있는 DataFrame을 파라미터로 받아야 할 것\n",
        "\n",
        "def age_gap(x): # DataFrame을 파라미터로 받을 예정\n",
        "\n",
        "    # if, elif, else 등으로 다중조건을 만들때, 예외적인 상황들을 먼저 정의하자\n",
        "    if x['age'] == -99: # 결측치(알수없음)\n",
        "        return -99\n",
        "    elif x['age_o'] == -99:\n",
        "        return -99\n",
        "\n",
        "    elif x['gender'] == 'female':     # 본인이 여성인 경우\n",
        "        return x['age_o'] - x['age']  # 상대(남자)나이 - 본인(여자)나이 \n",
        "    else:                             # 본인이 남자인 경우\n",
        "        return x['age'] - x['age_o']         # 상대(여자)나이 - 본인(남자)나이"
      ],
      "metadata": {
        "id": "QSCrN-TsD-iG"
      },
      "execution_count": 11,
      "outputs": []
    },
    {
      "cell_type": "code",
      "source": [
        "data['age_gap'] = data.apply(age_gap, axis=1)"
      ],
      "metadata": {
        "id": "gwwWIb6zQRDS"
      },
      "execution_count": 12,
      "outputs": []
    },
    {
      "cell_type": "markdown",
      "source": [
        " - 나이의 차이 자체가 중요한 변수가 될 수도 있으므로 age_gap에 절대값을 취한 변수도 추가"
      ],
      "metadata": {
        "id": "kY06PQOtQFvR"
      }
    },
    {
      "cell_type": "code",
      "source": [
        "data['age_gap_abs'] = abs(data['age_gap'] )"
      ],
      "metadata": {
        "id": "V9rf0NwLQCog"
      },
      "execution_count": 13,
      "outputs": []
    },
    {
      "cell_type": "markdown",
      "source": [
        " - 상대방과 인종이 같으면 1, 다르면 -1, 결측치는 -99\n",
        "\n",
        "  > 1, 0으로 구분하지 않는 이유는 이후 인종 중요도 변수를 곱한값을 새로운 변수로 만들 예정이므로"
      ],
      "metadata": {
        "id": "D3Q8-fNYSIct"
      }
    },
    {
      "cell_type": "code",
      "source": [
        "def same_race(x):\n",
        "    if x['race'] == -99:\n",
        "        return -99\n",
        "    elif x['race_o'] == -99:\n",
        "        return -99\n",
        "    elif x['race'] == x['race_o']:\n",
        "        return 1\n",
        "    else:\n",
        "        return -1"
      ],
      "metadata": {
        "id": "w3JxIZkmSE-X"
      },
      "execution_count": 14,
      "outputs": []
    },
    {
      "cell_type": "code",
      "source": [
        "data['same_race'] = data.apply(same_race, axis=1)"
      ],
      "metadata": {
        "id": "i0wT-5bZSfe5"
      },
      "execution_count": 15,
      "outputs": []
    },
    {
      "cell_type": "markdown",
      "source": [
        " - 인종관련 변수로 importance_same_race도 있음\n",
        "\n",
        "  > 동일 인종여부가 얼마나 중요한지 의미\n",
        " - 새로구한 same_race 변수와 importance_same_race 변수를 곱하여 새변수 생성\n",
        "\n",
        "  > 동일 인종이면 양수, 아니면 음수\n",
        "\n",
        "  > 중요할수록 절대값이 큼"
      ],
      "metadata": {
        "id": "Lp5-jKaMTnfp"
      }
    },
    {
      "cell_type": "code",
      "source": [
        "def same_race_point(x):\n",
        "    if x['same_race'] == -99:\n",
        "        return -99\n",
        "    else:\n",
        "        return x['same_race'] * x['importance_same_race']"
      ],
      "metadata": {
        "id": "-t0n9WoESnC-"
      },
      "execution_count": 16,
      "outputs": []
    },
    {
      "cell_type": "code",
      "source": [
        "data['same_race_point'] = data.apply(same_race_point, axis=1)"
      ],
      "metadata": {
        "id": "2Yp1zTGkUKAJ"
      },
      "execution_count": 17,
      "outputs": []
    },
    {
      "cell_type": "markdown",
      "source": [
        " - attractive, sincere 등에 대한 평가/중요도 변수\n",
        " - 평가점수 X 중요도 계산하여 새로운 변수 생성"
      ],
      "metadata": {
        "id": "PQPJW4eRU7kI"
      }
    },
    {
      "cell_type": "code",
      "source": [
        "def rating(data, importance, score): # 파라미터로 3가지 변수를 받음(DataFrame, 중요도변수리스트, 평가변수리스트)\n",
        "    if data[importance] == -99:\n",
        "        return -99\n",
        "    elif data[score] == -99:\n",
        "        return -99\n",
        "    else:\n",
        "        return data[importance] * data[score]"
      ],
      "metadata": {
        "id": "J516lO3kUOn5"
      },
      "execution_count": 20,
      "outputs": []
    },
    {
      "cell_type": "code",
      "source": [
        "data.columns[8:14] # 상대방의 중요도에 대한 변수 이름 리스트 : pref_o_xxx"
      ],
      "metadata": {
        "id": "E8dUcCu0mrEC",
        "outputId": "656f38f4-3f7d-4016-dfda-30350f149be2",
        "colab": {
          "base_uri": "https://localhost:8080/"
        }
      },
      "execution_count": 21,
      "outputs": [
        {
          "output_type": "execute_result",
          "data": {
            "text/plain": [
              "Index(['pref_o_attractive', 'pref_o_sincere', 'pref_o_intelligence',\n",
              "       'pref_o_funny', 'pref_o_ambitious', 'pref_o_shared_interests'],\n",
              "      dtype='object')"
            ]
          },
          "metadata": {},
          "execution_count": 21
        }
      ]
    },
    {
      "cell_type": "code",
      "source": [
        "partner_imp = data.columns[8:14]      # 상대방의 중요도\n",
        "partner_rate_me = data.columns[14:20] # 본인에 대한 상대방의 평가\n",
        "my_imp = data.columns[20:26]          # 본인의 중요도\n",
        "my_rate_partner = data.columns[26:32] # 상대방에 대한 본인의 평가"
      ],
      "metadata": {
        "id": "bepEND6pm6ac"
      },
      "execution_count": 22,
      "outputs": []
    },
    {
      "cell_type": "markdown",
      "source": [
        " - 계산된 값(평가점수 X 중요도)를 받아줄 새변수의 이름 만들기"
      ],
      "metadata": {
        "id": "u71xywx3n6dC"
      }
    },
    {
      "cell_type": "code",
      "source": [
        "partner_rate_me"
      ],
      "metadata": {
        "id": "TNewYFL1oLr7",
        "outputId": "a58ce5de-3659-497d-807c-eb55581ac906",
        "colab": {
          "base_uri": "https://localhost:8080/"
        }
      },
      "execution_count": 24,
      "outputs": [
        {
          "output_type": "execute_result",
          "data": {
            "text/plain": [
              "Index(['attractive_o', 'sincere_o', 'intelligence_o', 'funny_o', 'ambitous_o',\n",
              "       'shared_interests_o'],\n",
              "      dtype='object')"
            ]
          },
          "metadata": {},
          "execution_count": 24
        }
      ]
    },
    {
      "cell_type": "code",
      "source": [
        "# 상대방 관련 새 변수 이름을 저장하는 리스트\n",
        "new_label_partner = ['attractive_p', 'sincere_p', 'intelligence_p', 'funny_p', 'ambitous_p',\n",
        "       'shared_interests_p']\n",
        "# 본인 관련 새 변수 이름을 저장하는 리스트\n",
        "new_label_me = ['attractive_m', 'sincere_m', 'intelligence_m', 'funny_m', 'ambitous_m',\n",
        "       'shared_interests_m']"
      ],
      "metadata": {
        "id": "tkOOgYuJnw_A"
      },
      "execution_count": 25,
      "outputs": []
    },
    {
      "cell_type": "markdown",
      "source": [
        " - 새 변수 이름 = 중요도 변수 이름 X 평가 변수 이름\n",
        " - 이를 '본인 관련 새 변수' 한번, '상대방 관련 새 변수' 한번 시행"
      ],
      "metadata": {
        "id": "CD0IBsiLomXg"
      }
    },
    {
      "cell_type": "markdown",
      "source": [
        "\n",
        "\n",
        "---\n",
        "\n",
        "for 문 in 뒤에 리스트를 2개 이상 사용하기\n",
        "zip() 함수를 사용하면, for문에 리스트 3개를 동시에 사용할 수 있음\n",
        "\n",
        "\n",
        "```\n",
        "for i,j,k in zip([1,2,3], [4,5,6], [7,8,9]\n",
        "    print(i, j, k)\n",
        "\n",
        "> 1 4 7\n",
        "  2 5 8\n",
        "  3 6 9\n",
        "```\n",
        "\n",
        "\n",
        "---\n",
        "\n",
        "\n",
        "\n"
      ],
      "metadata": {
        "id": "T6mHsuT4pDHg"
      }
    },
    {
      "cell_type": "code",
      "source": [
        "# 상대방 관련 변수를 앞서 만든 rating(DataFrame, 중요도 변수리스트, 평가 변수리스트) 함수를 사용해 중요도 X 평가 계산\n",
        "\n",
        "for i,j,k in zip(new_label_partner, partner_imp, partner_rate_me): # 3개의 리스트 동시에 순회\n",
        "    # data[i] = data.apply(lambda x: rating(x, j, k), axis=1) # apply(func, axis=1) : 다수의 파라미터를 사용하는 func함수의 경우 apply(lambda x: func(x, 변수2, 변수3))\n",
        "    data[i] = data.apply(rating, args=(j,k), axis=1) # apply(func, args=(변수2, 변수3), axis=1) : 다수의 파라미터를 사용하는 func함수의 경우 첫번째 파라미터는 자동으로 DataFrame/Series의 객체"
      ],
      "metadata": {
        "id": "MlT-RJrFpigQ"
      },
      "execution_count": 32,
      "outputs": []
    },
    {
      "cell_type": "code",
      "source": [
        "# 본인 관련 변수를 앞서 만든 rating(DataFrame, 중요도 변수리스트, 평가 변수리스트) 함수를 사용해 중요도 X 평가 계산\n",
        "\n",
        "for i,j,k in zip(new_label_me, my_imp, my_rate_partner): # 3개의 리스트 동시에 순회\n",
        "    # data[i] = data.apply(lambda x: rating(x, j, k), axis=1) # apply(func, axis=1) : 다수의 파라미터를 사용하는 func함수의 경우 apply(lambda x: func(x, 변수2, 변수3))\n",
        "    data[i] = data.apply(rating, args=(j,k), axis=1)"
      ],
      "metadata": {
        "id": "fE9GepmEruir"
      },
      "execution_count": 34,
      "outputs": []
    },
    {
      "cell_type": "markdown",
      "source": [
        " - object 타입 변수들은 문자형태, 숫자 형태가 되도록 더미 변수로 변환 : 'gender','race','race_o' 3가지 변수"
      ],
      "metadata": {
        "id": "8GRgDG4csrCB"
      }
    },
    {
      "cell_type": "code",
      "source": [
        "data = pd.get_dummies(data, columns=['gender','race','race_o'], drop_first=True)"
      ],
      "metadata": {
        "id": "prpbJ_e8sow0"
      },
      "execution_count": 35,
      "outputs": []
    },
    {
      "cell_type": "markdown",
      "source": [
        "## 모델링 및 평가"
      ],
      "metadata": {
        "id": "cvLgGy-RtCEf"
      }
    },
    {
      "cell_type": "code",
      "source": [
        "from sklearn.model_selection import train_test_split\n",
        "X_train, X_test, y_train, y_test = train_test_split(data.drop('match', axis=1),\n",
        "                                                    data['match'],\n",
        "                                                    test_size=0.2,\n",
        "                                                    random_state=100)"
      ],
      "metadata": {
        "id": "CnmWBGn5s7pg"
      },
      "execution_count": 36,
      "outputs": []
    },
    {
      "cell_type": "markdown",
      "source": [
        " - XGBoost 모듈 파이썬 래퍼 vs 사이킷런 래퍼 \n",
        "  \n",
        "  > xgboost의 핵심 라이브러리는 C/C++로 작성되어 초기에는 사이킷런과 호환X(fit, predict, GridSearchCV 사용 불가) → 파이썬에서 구현하기 위해 별도의 API 사용(파이썬 래퍼)\n",
        "\n",
        "  > 파이썬 기반의 머신러닝 이용자가 늘어나며,  xgboost 개발 그룹에서 사이킷런과 호환이 가능하도록 래퍼 클래스를 제공하게 됨(사이킷런 래퍼)"
      ],
      "metadata": {
        "id": "NTe30HoW1VEU"
      }
    },
    {
      "cell_type": "markdown",
      "source": [
        " - 파이썬 래퍼 XGBoost 모듈\n",
        "\n",
        "  > 훈련/검증/테스트 데이터 Dmatrix 형태로 변환 후 사용\n",
        "\n",
        "  > 모델.train(파라미터 설정)\n",
        "\n",
        " - 사이킷런 래퍼 XGBoost 모듈\n",
        "\n",
        "  > 모델 = XGBClassifier(파라미터 설정)\n",
        "\n",
        "  > 모델.fit()"
      ],
      "metadata": {
        "id": "EneLwOYe2B7A"
      }
    },
    {
      "cell_type": "code",
      "source": [
        "# 사이킷런 래퍼 XGBoost 모듈\n",
        "import xgboost as xgb"
      ],
      "metadata": {
        "id": "hvBSYlJutTS7"
      },
      "execution_count": 37,
      "outputs": []
    },
    {
      "cell_type": "code",
      "source": [
        "model = xgb.XGBClassifier(n_estimator = 500, max_depth=5, random_state=100) # 모델 객체 생성"
      ],
      "metadata": {
        "id": "C8mGgIN63O7f"
      },
      "execution_count": 38,
      "outputs": []
    },
    {
      "cell_type": "code",
      "source": [
        "model.fit(X_train, y_train)"
      ],
      "metadata": {
        "id": "toyX3xuM3iv8",
        "outputId": "399e60d1-f502-4e9c-c71b-aebd98c3ea9c",
        "colab": {
          "base_uri": "https://localhost:8080/"
        }
      },
      "execution_count": 40,
      "outputs": [
        {
          "output_type": "execute_result",
          "data": {
            "text/plain": [
              "XGBClassifier(max_depth=5, n_estimator=500, random_state=100)"
            ]
          },
          "metadata": {},
          "execution_count": 40
        }
      ]
    },
    {
      "cell_type": "code",
      "source": [
        "pred = model.predict(X_test) # 예측\n",
        "from sklearn.metrics import accuracy_score, confusion_matrix, classification_report\n",
        "accuracy_score(y_test, pred)"
      ],
      "metadata": {
        "id": "9xgz1bKH3ltp",
        "outputId": "1e60f5e2-fdeb-442c-a575-7331353595c6",
        "colab": {
          "base_uri": "https://localhost:8080/"
        }
      },
      "execution_count": 42,
      "outputs": [
        {
          "output_type": "execute_result",
          "data": {
            "text/plain": [
              "0.8610086100861009"
            ]
          },
          "metadata": {},
          "execution_count": 42
        }
      ]
    },
    {
      "cell_type": "markdown",
      "source": [
        " - 86%의 정확도 이지만...\n",
        " - 종속변수 match의 평균은 0.164 즉, 16%\n",
        " - 모델링 없이 모든 경우를 0(매칭 되지 않음)으로 예측해도 84%는 맞추는 **편향된 데이터**\n",
        " \n",
        "  > 따라서 86%의 결과는 예측 모델이 없는 것보다 아주 조금 나은 수준"
      ],
      "metadata": {
        "id": "hdgvJXvN4BBU"
      }
    },
    {
      "cell_type": "code",
      "source": [
        "print(confusion_matrix(y_test, pred)) # 혼동 행렬 출력"
      ],
      "metadata": {
        "id": "MQBxIEKQ35Rz",
        "outputId": "c5ac7217-c05d-4c4b-9564-590cab2222e0",
        "colab": {
          "base_uri": "https://localhost:8080/"
        }
      },
      "execution_count": 43,
      "outputs": [
        {
          "output_type": "stream",
          "name": "stdout",
          "text": [
            "[[1304   61]\n",
            " [ 165   96]]\n"
          ]
        }
      ]
    },
    {
      "cell_type": "markdown",
      "source": [
        "\n",
        "```\n",
        "[[TP           FP(1종오류)]\n",
        "\n",
        " [ FN(2종오류)         TN]]\n",
        "```\n",
        " - 암진단의 경우 2종오류를 더 중요시\n",
        " - "
      ],
      "metadata": {
        "id": "wy0Lnr0o6far"
      }
    },
    {
      "cell_type": "code",
      "source": [
        ""
      ],
      "metadata": {
        "id": "yeG0y5sO4nU5"
      },
      "execution_count": null,
      "outputs": []
    }
  ],
  "metadata": {
    "colab": {
      "collapsed_sections": [],
      "name": "Colaboratory에 오신 것을 환영합니다",
      "provenance": [],
      "include_colab_link": true
    },
    "kernelspec": {
      "display_name": "Python 3",
      "name": "python3"
    }
  },
  "nbformat": 4,
  "nbformat_minor": 0
}