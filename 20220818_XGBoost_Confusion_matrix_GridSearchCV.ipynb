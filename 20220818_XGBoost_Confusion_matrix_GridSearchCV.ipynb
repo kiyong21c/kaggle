{
  "cells": [
    {
      "cell_type": "markdown",
      "metadata": {
        "id": "view-in-github",
        "colab_type": "text"
      },
      "source": [
        "<a href=\"https://colab.research.google.com/github/kiyong21c/kaggle/blob/main/20220818_XGBoost_Confusion_matrix_GridSearchCV.ipynb\" target=\"_parent\"><img src=\"https://colab.research.google.com/assets/colab-badge.svg\" alt=\"Open In Colab\"/></a>"
      ]
    },
    {
      "cell_type": "markdown",
      "source": [
        "# XGBoost\n",
        " - 랜덤 포레스트 : 각 트리를 독립적으로 만드는 알고리즘\n",
        " - 부스팅 : 이전 트리로부터 더 나은 트리를 순차적으로 만드는 알고리즘\n",
        " - LightGBM, CatBoost와 함께 가장 널리 활용 됨\n",
        " - 장점 : 예측속도 빠름, 예측력 높음, 변수 종류 많음\n",
        " - 단점 : 해석이 어려움, 하이퍼파라미터 튜닝 어려움"
      ],
      "metadata": {
        "id": "2gdZGVfQwyVt"
      }
    },
    {
      "cell_type": "markdown",
      "source": [
        "# 스피드데이팅 데이터셋을 이용해 커플 성사 여부 예측\n",
        "- 알고리즘 : XGBoost\n",
        "- 문제유형 : 분류\n",
        "- 사용모델 : XGBClassifier\n",
        "- 평가지표 : 정확도, 혼동행렬, 분류 리포트"
      ],
      "metadata": {
        "id": "ok9nLrrjxiHy"
      }
    },
    {
      "cell_type": "code",
      "source": [
        "import pandas as pd\n",
        "import numpy as np\n",
        "import matplotlib.pyplot as plt\n",
        "import seaborn as sns\n",
        "\n",
        "file_url = 'http://media.githubusercontent.com/media/musthave-ML10/data_source/main/dating.csv'\n",
        "data = pd.read_csv(file_url)"
      ],
      "metadata": {
        "id": "gd4AQBI7w984"
      },
      "execution_count": 1,
      "outputs": []
    },
    {
      "cell_type": "code",
      "source": [
        "data.head()"
      ],
      "metadata": {
        "id": "vR_eslgjyUVm",
        "outputId": "74f2e0ec-8fb3-4bdf-9428-4057360abe66",
        "colab": {
          "base_uri": "https://localhost:8080/",
          "height": 386
        }
      },
      "execution_count": 2,
      "outputs": [
        {
          "output_type": "execute_result",
          "data": {
            "text/plain": [
              "   has_null  gender   age  age_o                                  race  \\\n",
              "0         0  female  21.0   27.0  Asian/PacificIslander/Asian-American   \n",
              "1         0  female  21.0   22.0  Asian/PacificIslander/Asian-American   \n",
              "2         1  female  21.0   22.0  Asian/PacificIslander/Asian-American   \n",
              "3         0  female  21.0   23.0  Asian/PacificIslander/Asian-American   \n",
              "4         0  female  21.0   24.0  Asian/PacificIslander/Asian-American   \n",
              "\n",
              "                                 race_o  importance_same_race  \\\n",
              "0           European/Caucasian-American                   2.0   \n",
              "1           European/Caucasian-American                   2.0   \n",
              "2  Asian/PacificIslander/Asian-American                   2.0   \n",
              "3           European/Caucasian-American                   2.0   \n",
              "4               Latino/HispanicAmerican                   2.0   \n",
              "\n",
              "   importance_same_religion  pref_o_attractive  pref_o_sincere  ...  \\\n",
              "0                       4.0               35.0            20.0  ...   \n",
              "1                       4.0               60.0             0.0  ...   \n",
              "2                       4.0               19.0            18.0  ...   \n",
              "3                       4.0               30.0             5.0  ...   \n",
              "4                       4.0               30.0            10.0  ...   \n",
              "\n",
              "   funny_partner  ambition_partner  shared_interests_partner  \\\n",
              "0            7.0               6.0                       5.0   \n",
              "1            8.0               5.0                       6.0   \n",
              "2            8.0               5.0                       7.0   \n",
              "3            7.0               6.0                       8.0   \n",
              "4            7.0               6.0                       6.0   \n",
              "\n",
              "   interests_correlate  expected_happy_with_sd_people  \\\n",
              "0                 0.14                            3.0   \n",
              "1                 0.54                            3.0   \n",
              "2                 0.16                            3.0   \n",
              "3                 0.61                            3.0   \n",
              "4                 0.21                            3.0   \n",
              "\n",
              "   expected_num_interested_in_me  like  guess_prob_liked  met  match  \n",
              "0                            2.0   7.0               6.0  0.0      0  \n",
              "1                            2.0   7.0               5.0  1.0      0  \n",
              "2                            2.0   7.0               NaN  1.0      1  \n",
              "3                            2.0   7.0               6.0  0.0      1  \n",
              "4                            2.0   6.0               6.0  0.0      1  \n",
              "\n",
              "[5 rows x 39 columns]"
            ],
            "text/html": [
              "\n",
              "  <div id=\"df-8df3d39c-6150-4fd2-b6ed-d5858df3a4d9\">\n",
              "    <div class=\"colab-df-container\">\n",
              "      <div>\n",
              "<style scoped>\n",
              "    .dataframe tbody tr th:only-of-type {\n",
              "        vertical-align: middle;\n",
              "    }\n",
              "\n",
              "    .dataframe tbody tr th {\n",
              "        vertical-align: top;\n",
              "    }\n",
              "\n",
              "    .dataframe thead th {\n",
              "        text-align: right;\n",
              "    }\n",
              "</style>\n",
              "<table border=\"1\" class=\"dataframe\">\n",
              "  <thead>\n",
              "    <tr style=\"text-align: right;\">\n",
              "      <th></th>\n",
              "      <th>has_null</th>\n",
              "      <th>gender</th>\n",
              "      <th>age</th>\n",
              "      <th>age_o</th>\n",
              "      <th>race</th>\n",
              "      <th>race_o</th>\n",
              "      <th>importance_same_race</th>\n",
              "      <th>importance_same_religion</th>\n",
              "      <th>pref_o_attractive</th>\n",
              "      <th>pref_o_sincere</th>\n",
              "      <th>...</th>\n",
              "      <th>funny_partner</th>\n",
              "      <th>ambition_partner</th>\n",
              "      <th>shared_interests_partner</th>\n",
              "      <th>interests_correlate</th>\n",
              "      <th>expected_happy_with_sd_people</th>\n",
              "      <th>expected_num_interested_in_me</th>\n",
              "      <th>like</th>\n",
              "      <th>guess_prob_liked</th>\n",
              "      <th>met</th>\n",
              "      <th>match</th>\n",
              "    </tr>\n",
              "  </thead>\n",
              "  <tbody>\n",
              "    <tr>\n",
              "      <th>0</th>\n",
              "      <td>0</td>\n",
              "      <td>female</td>\n",
              "      <td>21.0</td>\n",
              "      <td>27.0</td>\n",
              "      <td>Asian/PacificIslander/Asian-American</td>\n",
              "      <td>European/Caucasian-American</td>\n",
              "      <td>2.0</td>\n",
              "      <td>4.0</td>\n",
              "      <td>35.0</td>\n",
              "      <td>20.0</td>\n",
              "      <td>...</td>\n",
              "      <td>7.0</td>\n",
              "      <td>6.0</td>\n",
              "      <td>5.0</td>\n",
              "      <td>0.14</td>\n",
              "      <td>3.0</td>\n",
              "      <td>2.0</td>\n",
              "      <td>7.0</td>\n",
              "      <td>6.0</td>\n",
              "      <td>0.0</td>\n",
              "      <td>0</td>\n",
              "    </tr>\n",
              "    <tr>\n",
              "      <th>1</th>\n",
              "      <td>0</td>\n",
              "      <td>female</td>\n",
              "      <td>21.0</td>\n",
              "      <td>22.0</td>\n",
              "      <td>Asian/PacificIslander/Asian-American</td>\n",
              "      <td>European/Caucasian-American</td>\n",
              "      <td>2.0</td>\n",
              "      <td>4.0</td>\n",
              "      <td>60.0</td>\n",
              "      <td>0.0</td>\n",
              "      <td>...</td>\n",
              "      <td>8.0</td>\n",
              "      <td>5.0</td>\n",
              "      <td>6.0</td>\n",
              "      <td>0.54</td>\n",
              "      <td>3.0</td>\n",
              "      <td>2.0</td>\n",
              "      <td>7.0</td>\n",
              "      <td>5.0</td>\n",
              "      <td>1.0</td>\n",
              "      <td>0</td>\n",
              "    </tr>\n",
              "    <tr>\n",
              "      <th>2</th>\n",
              "      <td>1</td>\n",
              "      <td>female</td>\n",
              "      <td>21.0</td>\n",
              "      <td>22.0</td>\n",
              "      <td>Asian/PacificIslander/Asian-American</td>\n",
              "      <td>Asian/PacificIslander/Asian-American</td>\n",
              "      <td>2.0</td>\n",
              "      <td>4.0</td>\n",
              "      <td>19.0</td>\n",
              "      <td>18.0</td>\n",
              "      <td>...</td>\n",
              "      <td>8.0</td>\n",
              "      <td>5.0</td>\n",
              "      <td>7.0</td>\n",
              "      <td>0.16</td>\n",
              "      <td>3.0</td>\n",
              "      <td>2.0</td>\n",
              "      <td>7.0</td>\n",
              "      <td>NaN</td>\n",
              "      <td>1.0</td>\n",
              "      <td>1</td>\n",
              "    </tr>\n",
              "    <tr>\n",
              "      <th>3</th>\n",
              "      <td>0</td>\n",
              "      <td>female</td>\n",
              "      <td>21.0</td>\n",
              "      <td>23.0</td>\n",
              "      <td>Asian/PacificIslander/Asian-American</td>\n",
              "      <td>European/Caucasian-American</td>\n",
              "      <td>2.0</td>\n",
              "      <td>4.0</td>\n",
              "      <td>30.0</td>\n",
              "      <td>5.0</td>\n",
              "      <td>...</td>\n",
              "      <td>7.0</td>\n",
              "      <td>6.0</td>\n",
              "      <td>8.0</td>\n",
              "      <td>0.61</td>\n",
              "      <td>3.0</td>\n",
              "      <td>2.0</td>\n",
              "      <td>7.0</td>\n",
              "      <td>6.0</td>\n",
              "      <td>0.0</td>\n",
              "      <td>1</td>\n",
              "    </tr>\n",
              "    <tr>\n",
              "      <th>4</th>\n",
              "      <td>0</td>\n",
              "      <td>female</td>\n",
              "      <td>21.0</td>\n",
              "      <td>24.0</td>\n",
              "      <td>Asian/PacificIslander/Asian-American</td>\n",
              "      <td>Latino/HispanicAmerican</td>\n",
              "      <td>2.0</td>\n",
              "      <td>4.0</td>\n",
              "      <td>30.0</td>\n",
              "      <td>10.0</td>\n",
              "      <td>...</td>\n",
              "      <td>7.0</td>\n",
              "      <td>6.0</td>\n",
              "      <td>6.0</td>\n",
              "      <td>0.21</td>\n",
              "      <td>3.0</td>\n",
              "      <td>2.0</td>\n",
              "      <td>6.0</td>\n",
              "      <td>6.0</td>\n",
              "      <td>0.0</td>\n",
              "      <td>1</td>\n",
              "    </tr>\n",
              "  </tbody>\n",
              "</table>\n",
              "<p>5 rows × 39 columns</p>\n",
              "</div>\n",
              "      <button class=\"colab-df-convert\" onclick=\"convertToInteractive('df-8df3d39c-6150-4fd2-b6ed-d5858df3a4d9')\"\n",
              "              title=\"Convert this dataframe to an interactive table.\"\n",
              "              style=\"display:none;\">\n",
              "        \n",
              "  <svg xmlns=\"http://www.w3.org/2000/svg\" height=\"24px\"viewBox=\"0 0 24 24\"\n",
              "       width=\"24px\">\n",
              "    <path d=\"M0 0h24v24H0V0z\" fill=\"none\"/>\n",
              "    <path d=\"M18.56 5.44l.94 2.06.94-2.06 2.06-.94-2.06-.94-.94-2.06-.94 2.06-2.06.94zm-11 1L8.5 8.5l.94-2.06 2.06-.94-2.06-.94L8.5 2.5l-.94 2.06-2.06.94zm10 10l.94 2.06.94-2.06 2.06-.94-2.06-.94-.94-2.06-.94 2.06-2.06.94z\"/><path d=\"M17.41 7.96l-1.37-1.37c-.4-.4-.92-.59-1.43-.59-.52 0-1.04.2-1.43.59L10.3 9.45l-7.72 7.72c-.78.78-.78 2.05 0 2.83L4 21.41c.39.39.9.59 1.41.59.51 0 1.02-.2 1.41-.59l7.78-7.78 2.81-2.81c.8-.78.8-2.07 0-2.86zM5.41 20L4 18.59l7.72-7.72 1.47 1.35L5.41 20z\"/>\n",
              "  </svg>\n",
              "      </button>\n",
              "      \n",
              "  <style>\n",
              "    .colab-df-container {\n",
              "      display:flex;\n",
              "      flex-wrap:wrap;\n",
              "      gap: 12px;\n",
              "    }\n",
              "\n",
              "    .colab-df-convert {\n",
              "      background-color: #E8F0FE;\n",
              "      border: none;\n",
              "      border-radius: 50%;\n",
              "      cursor: pointer;\n",
              "      display: none;\n",
              "      fill: #1967D2;\n",
              "      height: 32px;\n",
              "      padding: 0 0 0 0;\n",
              "      width: 32px;\n",
              "    }\n",
              "\n",
              "    .colab-df-convert:hover {\n",
              "      background-color: #E2EBFA;\n",
              "      box-shadow: 0px 1px 2px rgba(60, 64, 67, 0.3), 0px 1px 3px 1px rgba(60, 64, 67, 0.15);\n",
              "      fill: #174EA6;\n",
              "    }\n",
              "\n",
              "    [theme=dark] .colab-df-convert {\n",
              "      background-color: #3B4455;\n",
              "      fill: #D2E3FC;\n",
              "    }\n",
              "\n",
              "    [theme=dark] .colab-df-convert:hover {\n",
              "      background-color: #434B5C;\n",
              "      box-shadow: 0px 1px 3px 1px rgba(0, 0, 0, 0.15);\n",
              "      filter: drop-shadow(0px 1px 2px rgba(0, 0, 0, 0.3));\n",
              "      fill: #FFFFFF;\n",
              "    }\n",
              "  </style>\n",
              "\n",
              "      <script>\n",
              "        const buttonEl =\n",
              "          document.querySelector('#df-8df3d39c-6150-4fd2-b6ed-d5858df3a4d9 button.colab-df-convert');\n",
              "        buttonEl.style.display =\n",
              "          google.colab.kernel.accessAllowed ? 'block' : 'none';\n",
              "\n",
              "        async function convertToInteractive(key) {\n",
              "          const element = document.querySelector('#df-8df3d39c-6150-4fd2-b6ed-d5858df3a4d9');\n",
              "          const dataTable =\n",
              "            await google.colab.kernel.invokeFunction('convertToInteractive',\n",
              "                                                     [key], {});\n",
              "          if (!dataTable) return;\n",
              "\n",
              "          const docLinkHtml = 'Like what you see? Visit the ' +\n",
              "            '<a target=\"_blank\" href=https://colab.research.google.com/notebooks/data_table.ipynb>data table notebook</a>'\n",
              "            + ' to learn more about interactive tables.';\n",
              "          element.innerHTML = '';\n",
              "          dataTable['output_type'] = 'display_data';\n",
              "          await google.colab.output.renderOutput(dataTable, element);\n",
              "          const docLink = document.createElement('div');\n",
              "          docLink.innerHTML = docLinkHtml;\n",
              "          element.appendChild(docLink);\n",
              "        }\n",
              "      </script>\n",
              "    </div>\n",
              "  </div>\n",
              "  "
            ]
          },
          "metadata": {},
          "execution_count": 2
        }
      ]
    },
    {
      "cell_type": "markdown",
      "source": [
        " - 변수가 39개 이므로 기본 출력 화면에 다담지 못해 중간에 ...으로 표시됨(기본 20개 컬럼만 출력)"
      ],
      "metadata": {
        "id": "gyXptEGUyZJw"
      }
    },
    {
      "cell_type": "code",
      "source": [
        "pd.options.display.max_columns = 40 # 40개 컬럼까지 출력되도록 설정"
      ],
      "metadata": {
        "id": "8QxXRM5hyVUh"
      },
      "execution_count": 3,
      "outputs": []
    },
    {
      "cell_type": "code",
      "source": [
        "data.info()"
      ],
      "metadata": {
        "id": "VYSf0AhIynII",
        "outputId": "fd59e549-bf59-4276-bb3a-684484242680",
        "colab": {
          "base_uri": "https://localhost:8080/"
        }
      },
      "execution_count": 4,
      "outputs": [
        {
          "output_type": "stream",
          "name": "stdout",
          "text": [
            "<class 'pandas.core.frame.DataFrame'>\n",
            "RangeIndex: 8378 entries, 0 to 8377\n",
            "Data columns (total 39 columns):\n",
            " #   Column                         Non-Null Count  Dtype  \n",
            "---  ------                         --------------  -----  \n",
            " 0   has_null                       8378 non-null   int64  \n",
            " 1   gender                         8378 non-null   object \n",
            " 2   age                            8283 non-null   float64\n",
            " 3   age_o                          8274 non-null   float64\n",
            " 4   race                           8315 non-null   object \n",
            " 5   race_o                         8305 non-null   object \n",
            " 6   importance_same_race           8299 non-null   float64\n",
            " 7   importance_same_religion       8299 non-null   float64\n",
            " 8   pref_o_attractive              8289 non-null   float64\n",
            " 9   pref_o_sincere                 8289 non-null   float64\n",
            " 10  pref_o_intelligence            8289 non-null   float64\n",
            " 11  pref_o_funny                   8280 non-null   float64\n",
            " 12  pref_o_ambitious               8271 non-null   float64\n",
            " 13  pref_o_shared_interests        8249 non-null   float64\n",
            " 14  attractive_o                   8166 non-null   float64\n",
            " 15  sincere_o                      8091 non-null   float64\n",
            " 16  intelligence_o                 8072 non-null   float64\n",
            " 17  funny_o                        8018 non-null   float64\n",
            " 18  ambitous_o                     7656 non-null   float64\n",
            " 19  shared_interests_o             7302 non-null   float64\n",
            " 20  attractive_important           8299 non-null   float64\n",
            " 21  sincere_important              8299 non-null   float64\n",
            " 22  intellicence_important         8299 non-null   float64\n",
            " 23  funny_important                8289 non-null   float64\n",
            " 24  ambtition_important            8279 non-null   float64\n",
            " 25  shared_interests_important     8257 non-null   float64\n",
            " 26  attractive_partner             8176 non-null   float64\n",
            " 27  sincere_partner                8101 non-null   float64\n",
            " 28  intelligence_partner           8082 non-null   float64\n",
            " 29  funny_partner                  8028 non-null   float64\n",
            " 30  ambition_partner               7666 non-null   float64\n",
            " 31  shared_interests_partner       7311 non-null   float64\n",
            " 32  interests_correlate            8220 non-null   float64\n",
            " 33  expected_happy_with_sd_people  8277 non-null   float64\n",
            " 34  expected_num_interested_in_me  1800 non-null   float64\n",
            " 35  like                           8138 non-null   float64\n",
            " 36  guess_prob_liked               8069 non-null   float64\n",
            " 37  met                            8003 non-null   float64\n",
            " 38  match                          8378 non-null   int64  \n",
            "dtypes: float64(34), int64(2), object(3)\n",
            "memory usage: 2.5+ MB\n"
          ]
        }
      ]
    },
    {
      "cell_type": "markdown",
      "source": [
        " - has_null : 무응답 항목이 있는지 여부"
      ],
      "metadata": {
        "id": "TiWVPDWPy03D"
      }
    },
    {
      "cell_type": "code",
      "source": [
        "round(data.describe(), 2)"
      ],
      "metadata": {
        "id": "-pAO-Kxsypya",
        "outputId": "16ff7b6e-9007-40e5-e0c5-f2f172f5dec6",
        "colab": {
          "base_uri": "https://localhost:8080/",
          "height": 364
        }
      },
      "execution_count": 5,
      "outputs": [
        {
          "output_type": "execute_result",
          "data": {
            "text/plain": [
              "       has_null      age    age_o  importance_same_race  \\\n",
              "count   8378.00  8283.00  8274.00               8299.00   \n",
              "mean       0.87    26.36    26.36                  3.78   \n",
              "std        0.33     3.57     3.56                  2.85   \n",
              "min        0.00    18.00    18.00                  0.00   \n",
              "25%        1.00    24.00    24.00                  1.00   \n",
              "50%        1.00    26.00    26.00                  3.00   \n",
              "75%        1.00    28.00    28.00                  6.00   \n",
              "max        1.00    55.00    55.00                 10.00   \n",
              "\n",
              "       importance_same_religion  pref_o_attractive  pref_o_sincere  \\\n",
              "count                   8299.00            8289.00         8289.00   \n",
              "mean                       3.65              22.50           17.40   \n",
              "std                        2.81              12.57            7.04   \n",
              "min                        1.00               0.00            0.00   \n",
              "25%                        1.00              15.00           15.00   \n",
              "50%                        3.00              20.00           18.37   \n",
              "75%                        6.00              25.00           20.00   \n",
              "max                       10.00             100.00           60.00   \n",
              "\n",
              "       pref_o_intelligence  pref_o_funny  pref_o_ambitious  \\\n",
              "count              8289.00       8280.00           8271.00   \n",
              "mean                 20.27         17.46             10.69   \n",
              "std                   6.78          6.09              6.13   \n",
              "min                   0.00          0.00              0.00   \n",
              "25%                  17.39         15.00              5.00   \n",
              "50%                  20.00         18.00             10.00   \n",
              "75%                  23.81         20.00             15.00   \n",
              "max                  50.00         50.00             53.00   \n",
              "\n",
              "       pref_o_shared_interests  attractive_o  sincere_o  intelligence_o  \\\n",
              "count                  8249.00       8166.00    8091.00         8072.00   \n",
              "mean                     11.85          6.19       7.18            7.37   \n",
              "std                       6.36          1.95       1.74            1.55   \n",
              "min                       0.00          0.00       0.00            0.00   \n",
              "25%                       9.52          5.00       6.00            6.00   \n",
              "50%                      10.64          6.00       7.00            7.00   \n",
              "75%                      16.00          8.00       8.00            8.00   \n",
              "max                      30.00         10.50      10.00           10.00   \n",
              "\n",
              "       funny_o  ambitous_o  shared_interests_o  attractive_important  \\\n",
              "count  8018.00     7656.00             7302.00               8299.00   \n",
              "mean      6.40        6.78                5.47                 22.51   \n",
              "std       1.95        1.79                2.16                 12.59   \n",
              "min       0.00        0.00                0.00                  0.00   \n",
              "25%       5.00        6.00                4.00                 15.00   \n",
              "50%       7.00        7.00                6.00                 20.00   \n",
              "75%       8.00        8.00                7.00                 25.00   \n",
              "max      11.00       10.00               10.00                100.00   \n",
              "\n",
              "       sincere_important  intellicence_important  funny_important  \\\n",
              "count            8299.00                 8299.00          8289.00   \n",
              "mean               17.40                   20.27            17.46   \n",
              "std                 7.05                    6.78             6.09   \n",
              "min                 0.00                    0.00             0.00   \n",
              "25%                15.00                   17.39            15.00   \n",
              "50%                18.18                   20.00            18.00   \n",
              "75%                20.00                   23.81            20.00   \n",
              "max                60.00                   50.00            50.00   \n",
              "\n",
              "       ambtition_important  shared_interests_important  attractive_partner  \\\n",
              "count              8279.00                     8257.00             8176.00   \n",
              "mean                 10.68                       11.85                6.19   \n",
              "std                   6.12                        6.36                1.95   \n",
              "min                   0.00                        0.00                0.00   \n",
              "25%                   5.00                        9.52                5.00   \n",
              "50%                  10.00                       10.64                6.00   \n",
              "75%                  15.00                       16.00                8.00   \n",
              "max                  53.00                       30.00               10.00   \n",
              "\n",
              "       sincere_partner  intelligence_partner  funny_partner  ambition_partner  \\\n",
              "count          8101.00               8082.00        8028.00           7666.00   \n",
              "mean              7.18                  7.37           6.40              6.78   \n",
              "std               1.74                  1.55           1.95              1.79   \n",
              "min               0.00                  0.00           0.00              0.00   \n",
              "25%               6.00                  6.00           5.00              6.00   \n",
              "50%               7.00                  7.00           7.00              7.00   \n",
              "75%               8.00                  8.00           8.00              8.00   \n",
              "max              10.00                 10.00          10.00             10.00   \n",
              "\n",
              "       shared_interests_partner  interests_correlate  \\\n",
              "count                   7311.00              8220.00   \n",
              "mean                       5.47                 0.20   \n",
              "std                        2.16                 0.30   \n",
              "min                        0.00                -0.83   \n",
              "25%                        4.00                -0.02   \n",
              "50%                        6.00                 0.21   \n",
              "75%                        7.00                 0.43   \n",
              "max                       10.00                 0.91   \n",
              "\n",
              "       expected_happy_with_sd_people  expected_num_interested_in_me     like  \\\n",
              "count                        8277.00                        1800.00  8138.00   \n",
              "mean                            5.53                           5.57     6.13   \n",
              "std                             1.73                           4.76     1.84   \n",
              "min                             1.00                           0.00     0.00   \n",
              "25%                             5.00                           2.00     5.00   \n",
              "50%                             6.00                           4.00     6.00   \n",
              "75%                             7.00                           8.00     7.00   \n",
              "max                            10.00                          20.00    10.00   \n",
              "\n",
              "       guess_prob_liked      met    match  \n",
              "count           8069.00  8003.00  8378.00  \n",
              "mean               5.21     0.05     0.16  \n",
              "std                2.13     0.28     0.37  \n",
              "min                0.00     0.00     0.00  \n",
              "25%                4.00     0.00     0.00  \n",
              "50%                5.00     0.00     0.00  \n",
              "75%                7.00     0.00     0.00  \n",
              "max               10.00     8.00     1.00  "
            ],
            "text/html": [
              "\n",
              "  <div id=\"df-0e9f368a-8c0e-4dfb-ab13-6aaff91cce40\">\n",
              "    <div class=\"colab-df-container\">\n",
              "      <div>\n",
              "<style scoped>\n",
              "    .dataframe tbody tr th:only-of-type {\n",
              "        vertical-align: middle;\n",
              "    }\n",
              "\n",
              "    .dataframe tbody tr th {\n",
              "        vertical-align: top;\n",
              "    }\n",
              "\n",
              "    .dataframe thead th {\n",
              "        text-align: right;\n",
              "    }\n",
              "</style>\n",
              "<table border=\"1\" class=\"dataframe\">\n",
              "  <thead>\n",
              "    <tr style=\"text-align: right;\">\n",
              "      <th></th>\n",
              "      <th>has_null</th>\n",
              "      <th>age</th>\n",
              "      <th>age_o</th>\n",
              "      <th>importance_same_race</th>\n",
              "      <th>importance_same_religion</th>\n",
              "      <th>pref_o_attractive</th>\n",
              "      <th>pref_o_sincere</th>\n",
              "      <th>pref_o_intelligence</th>\n",
              "      <th>pref_o_funny</th>\n",
              "      <th>pref_o_ambitious</th>\n",
              "      <th>pref_o_shared_interests</th>\n",
              "      <th>attractive_o</th>\n",
              "      <th>sincere_o</th>\n",
              "      <th>intelligence_o</th>\n",
              "      <th>funny_o</th>\n",
              "      <th>ambitous_o</th>\n",
              "      <th>shared_interests_o</th>\n",
              "      <th>attractive_important</th>\n",
              "      <th>sincere_important</th>\n",
              "      <th>intellicence_important</th>\n",
              "      <th>funny_important</th>\n",
              "      <th>ambtition_important</th>\n",
              "      <th>shared_interests_important</th>\n",
              "      <th>attractive_partner</th>\n",
              "      <th>sincere_partner</th>\n",
              "      <th>intelligence_partner</th>\n",
              "      <th>funny_partner</th>\n",
              "      <th>ambition_partner</th>\n",
              "      <th>shared_interests_partner</th>\n",
              "      <th>interests_correlate</th>\n",
              "      <th>expected_happy_with_sd_people</th>\n",
              "      <th>expected_num_interested_in_me</th>\n",
              "      <th>like</th>\n",
              "      <th>guess_prob_liked</th>\n",
              "      <th>met</th>\n",
              "      <th>match</th>\n",
              "    </tr>\n",
              "  </thead>\n",
              "  <tbody>\n",
              "    <tr>\n",
              "      <th>count</th>\n",
              "      <td>8378.00</td>\n",
              "      <td>8283.00</td>\n",
              "      <td>8274.00</td>\n",
              "      <td>8299.00</td>\n",
              "      <td>8299.00</td>\n",
              "      <td>8289.00</td>\n",
              "      <td>8289.00</td>\n",
              "      <td>8289.00</td>\n",
              "      <td>8280.00</td>\n",
              "      <td>8271.00</td>\n",
              "      <td>8249.00</td>\n",
              "      <td>8166.00</td>\n",
              "      <td>8091.00</td>\n",
              "      <td>8072.00</td>\n",
              "      <td>8018.00</td>\n",
              "      <td>7656.00</td>\n",
              "      <td>7302.00</td>\n",
              "      <td>8299.00</td>\n",
              "      <td>8299.00</td>\n",
              "      <td>8299.00</td>\n",
              "      <td>8289.00</td>\n",
              "      <td>8279.00</td>\n",
              "      <td>8257.00</td>\n",
              "      <td>8176.00</td>\n",
              "      <td>8101.00</td>\n",
              "      <td>8082.00</td>\n",
              "      <td>8028.00</td>\n",
              "      <td>7666.00</td>\n",
              "      <td>7311.00</td>\n",
              "      <td>8220.00</td>\n",
              "      <td>8277.00</td>\n",
              "      <td>1800.00</td>\n",
              "      <td>8138.00</td>\n",
              "      <td>8069.00</td>\n",
              "      <td>8003.00</td>\n",
              "      <td>8378.00</td>\n",
              "    </tr>\n",
              "    <tr>\n",
              "      <th>mean</th>\n",
              "      <td>0.87</td>\n",
              "      <td>26.36</td>\n",
              "      <td>26.36</td>\n",
              "      <td>3.78</td>\n",
              "      <td>3.65</td>\n",
              "      <td>22.50</td>\n",
              "      <td>17.40</td>\n",
              "      <td>20.27</td>\n",
              "      <td>17.46</td>\n",
              "      <td>10.69</td>\n",
              "      <td>11.85</td>\n",
              "      <td>6.19</td>\n",
              "      <td>7.18</td>\n",
              "      <td>7.37</td>\n",
              "      <td>6.40</td>\n",
              "      <td>6.78</td>\n",
              "      <td>5.47</td>\n",
              "      <td>22.51</td>\n",
              "      <td>17.40</td>\n",
              "      <td>20.27</td>\n",
              "      <td>17.46</td>\n",
              "      <td>10.68</td>\n",
              "      <td>11.85</td>\n",
              "      <td>6.19</td>\n",
              "      <td>7.18</td>\n",
              "      <td>7.37</td>\n",
              "      <td>6.40</td>\n",
              "      <td>6.78</td>\n",
              "      <td>5.47</td>\n",
              "      <td>0.20</td>\n",
              "      <td>5.53</td>\n",
              "      <td>5.57</td>\n",
              "      <td>6.13</td>\n",
              "      <td>5.21</td>\n",
              "      <td>0.05</td>\n",
              "      <td>0.16</td>\n",
              "    </tr>\n",
              "    <tr>\n",
              "      <th>std</th>\n",
              "      <td>0.33</td>\n",
              "      <td>3.57</td>\n",
              "      <td>3.56</td>\n",
              "      <td>2.85</td>\n",
              "      <td>2.81</td>\n",
              "      <td>12.57</td>\n",
              "      <td>7.04</td>\n",
              "      <td>6.78</td>\n",
              "      <td>6.09</td>\n",
              "      <td>6.13</td>\n",
              "      <td>6.36</td>\n",
              "      <td>1.95</td>\n",
              "      <td>1.74</td>\n",
              "      <td>1.55</td>\n",
              "      <td>1.95</td>\n",
              "      <td>1.79</td>\n",
              "      <td>2.16</td>\n",
              "      <td>12.59</td>\n",
              "      <td>7.05</td>\n",
              "      <td>6.78</td>\n",
              "      <td>6.09</td>\n",
              "      <td>6.12</td>\n",
              "      <td>6.36</td>\n",
              "      <td>1.95</td>\n",
              "      <td>1.74</td>\n",
              "      <td>1.55</td>\n",
              "      <td>1.95</td>\n",
              "      <td>1.79</td>\n",
              "      <td>2.16</td>\n",
              "      <td>0.30</td>\n",
              "      <td>1.73</td>\n",
              "      <td>4.76</td>\n",
              "      <td>1.84</td>\n",
              "      <td>2.13</td>\n",
              "      <td>0.28</td>\n",
              "      <td>0.37</td>\n",
              "    </tr>\n",
              "    <tr>\n",
              "      <th>min</th>\n",
              "      <td>0.00</td>\n",
              "      <td>18.00</td>\n",
              "      <td>18.00</td>\n",
              "      <td>0.00</td>\n",
              "      <td>1.00</td>\n",
              "      <td>0.00</td>\n",
              "      <td>0.00</td>\n",
              "      <td>0.00</td>\n",
              "      <td>0.00</td>\n",
              "      <td>0.00</td>\n",
              "      <td>0.00</td>\n",
              "      <td>0.00</td>\n",
              "      <td>0.00</td>\n",
              "      <td>0.00</td>\n",
              "      <td>0.00</td>\n",
              "      <td>0.00</td>\n",
              "      <td>0.00</td>\n",
              "      <td>0.00</td>\n",
              "      <td>0.00</td>\n",
              "      <td>0.00</td>\n",
              "      <td>0.00</td>\n",
              "      <td>0.00</td>\n",
              "      <td>0.00</td>\n",
              "      <td>0.00</td>\n",
              "      <td>0.00</td>\n",
              "      <td>0.00</td>\n",
              "      <td>0.00</td>\n",
              "      <td>0.00</td>\n",
              "      <td>0.00</td>\n",
              "      <td>-0.83</td>\n",
              "      <td>1.00</td>\n",
              "      <td>0.00</td>\n",
              "      <td>0.00</td>\n",
              "      <td>0.00</td>\n",
              "      <td>0.00</td>\n",
              "      <td>0.00</td>\n",
              "    </tr>\n",
              "    <tr>\n",
              "      <th>25%</th>\n",
              "      <td>1.00</td>\n",
              "      <td>24.00</td>\n",
              "      <td>24.00</td>\n",
              "      <td>1.00</td>\n",
              "      <td>1.00</td>\n",
              "      <td>15.00</td>\n",
              "      <td>15.00</td>\n",
              "      <td>17.39</td>\n",
              "      <td>15.00</td>\n",
              "      <td>5.00</td>\n",
              "      <td>9.52</td>\n",
              "      <td>5.00</td>\n",
              "      <td>6.00</td>\n",
              "      <td>6.00</td>\n",
              "      <td>5.00</td>\n",
              "      <td>6.00</td>\n",
              "      <td>4.00</td>\n",
              "      <td>15.00</td>\n",
              "      <td>15.00</td>\n",
              "      <td>17.39</td>\n",
              "      <td>15.00</td>\n",
              "      <td>5.00</td>\n",
              "      <td>9.52</td>\n",
              "      <td>5.00</td>\n",
              "      <td>6.00</td>\n",
              "      <td>6.00</td>\n",
              "      <td>5.00</td>\n",
              "      <td>6.00</td>\n",
              "      <td>4.00</td>\n",
              "      <td>-0.02</td>\n",
              "      <td>5.00</td>\n",
              "      <td>2.00</td>\n",
              "      <td>5.00</td>\n",
              "      <td>4.00</td>\n",
              "      <td>0.00</td>\n",
              "      <td>0.00</td>\n",
              "    </tr>\n",
              "    <tr>\n",
              "      <th>50%</th>\n",
              "      <td>1.00</td>\n",
              "      <td>26.00</td>\n",
              "      <td>26.00</td>\n",
              "      <td>3.00</td>\n",
              "      <td>3.00</td>\n",
              "      <td>20.00</td>\n",
              "      <td>18.37</td>\n",
              "      <td>20.00</td>\n",
              "      <td>18.00</td>\n",
              "      <td>10.00</td>\n",
              "      <td>10.64</td>\n",
              "      <td>6.00</td>\n",
              "      <td>7.00</td>\n",
              "      <td>7.00</td>\n",
              "      <td>7.00</td>\n",
              "      <td>7.00</td>\n",
              "      <td>6.00</td>\n",
              "      <td>20.00</td>\n",
              "      <td>18.18</td>\n",
              "      <td>20.00</td>\n",
              "      <td>18.00</td>\n",
              "      <td>10.00</td>\n",
              "      <td>10.64</td>\n",
              "      <td>6.00</td>\n",
              "      <td>7.00</td>\n",
              "      <td>7.00</td>\n",
              "      <td>7.00</td>\n",
              "      <td>7.00</td>\n",
              "      <td>6.00</td>\n",
              "      <td>0.21</td>\n",
              "      <td>6.00</td>\n",
              "      <td>4.00</td>\n",
              "      <td>6.00</td>\n",
              "      <td>5.00</td>\n",
              "      <td>0.00</td>\n",
              "      <td>0.00</td>\n",
              "    </tr>\n",
              "    <tr>\n",
              "      <th>75%</th>\n",
              "      <td>1.00</td>\n",
              "      <td>28.00</td>\n",
              "      <td>28.00</td>\n",
              "      <td>6.00</td>\n",
              "      <td>6.00</td>\n",
              "      <td>25.00</td>\n",
              "      <td>20.00</td>\n",
              "      <td>23.81</td>\n",
              "      <td>20.00</td>\n",
              "      <td>15.00</td>\n",
              "      <td>16.00</td>\n",
              "      <td>8.00</td>\n",
              "      <td>8.00</td>\n",
              "      <td>8.00</td>\n",
              "      <td>8.00</td>\n",
              "      <td>8.00</td>\n",
              "      <td>7.00</td>\n",
              "      <td>25.00</td>\n",
              "      <td>20.00</td>\n",
              "      <td>23.81</td>\n",
              "      <td>20.00</td>\n",
              "      <td>15.00</td>\n",
              "      <td>16.00</td>\n",
              "      <td>8.00</td>\n",
              "      <td>8.00</td>\n",
              "      <td>8.00</td>\n",
              "      <td>8.00</td>\n",
              "      <td>8.00</td>\n",
              "      <td>7.00</td>\n",
              "      <td>0.43</td>\n",
              "      <td>7.00</td>\n",
              "      <td>8.00</td>\n",
              "      <td>7.00</td>\n",
              "      <td>7.00</td>\n",
              "      <td>0.00</td>\n",
              "      <td>0.00</td>\n",
              "    </tr>\n",
              "    <tr>\n",
              "      <th>max</th>\n",
              "      <td>1.00</td>\n",
              "      <td>55.00</td>\n",
              "      <td>55.00</td>\n",
              "      <td>10.00</td>\n",
              "      <td>10.00</td>\n",
              "      <td>100.00</td>\n",
              "      <td>60.00</td>\n",
              "      <td>50.00</td>\n",
              "      <td>50.00</td>\n",
              "      <td>53.00</td>\n",
              "      <td>30.00</td>\n",
              "      <td>10.50</td>\n",
              "      <td>10.00</td>\n",
              "      <td>10.00</td>\n",
              "      <td>11.00</td>\n",
              "      <td>10.00</td>\n",
              "      <td>10.00</td>\n",
              "      <td>100.00</td>\n",
              "      <td>60.00</td>\n",
              "      <td>50.00</td>\n",
              "      <td>50.00</td>\n",
              "      <td>53.00</td>\n",
              "      <td>30.00</td>\n",
              "      <td>10.00</td>\n",
              "      <td>10.00</td>\n",
              "      <td>10.00</td>\n",
              "      <td>10.00</td>\n",
              "      <td>10.00</td>\n",
              "      <td>10.00</td>\n",
              "      <td>0.91</td>\n",
              "      <td>10.00</td>\n",
              "      <td>20.00</td>\n",
              "      <td>10.00</td>\n",
              "      <td>10.00</td>\n",
              "      <td>8.00</td>\n",
              "      <td>1.00</td>\n",
              "    </tr>\n",
              "  </tbody>\n",
              "</table>\n",
              "</div>\n",
              "      <button class=\"colab-df-convert\" onclick=\"convertToInteractive('df-0e9f368a-8c0e-4dfb-ab13-6aaff91cce40')\"\n",
              "              title=\"Convert this dataframe to an interactive table.\"\n",
              "              style=\"display:none;\">\n",
              "        \n",
              "  <svg xmlns=\"http://www.w3.org/2000/svg\" height=\"24px\"viewBox=\"0 0 24 24\"\n",
              "       width=\"24px\">\n",
              "    <path d=\"M0 0h24v24H0V0z\" fill=\"none\"/>\n",
              "    <path d=\"M18.56 5.44l.94 2.06.94-2.06 2.06-.94-2.06-.94-.94-2.06-.94 2.06-2.06.94zm-11 1L8.5 8.5l.94-2.06 2.06-.94-2.06-.94L8.5 2.5l-.94 2.06-2.06.94zm10 10l.94 2.06.94-2.06 2.06-.94-2.06-.94-.94-2.06-.94 2.06-2.06.94z\"/><path d=\"M17.41 7.96l-1.37-1.37c-.4-.4-.92-.59-1.43-.59-.52 0-1.04.2-1.43.59L10.3 9.45l-7.72 7.72c-.78.78-.78 2.05 0 2.83L4 21.41c.39.39.9.59 1.41.59.51 0 1.02-.2 1.41-.59l7.78-7.78 2.81-2.81c.8-.78.8-2.07 0-2.86zM5.41 20L4 18.59l7.72-7.72 1.47 1.35L5.41 20z\"/>\n",
              "  </svg>\n",
              "      </button>\n",
              "      \n",
              "  <style>\n",
              "    .colab-df-container {\n",
              "      display:flex;\n",
              "      flex-wrap:wrap;\n",
              "      gap: 12px;\n",
              "    }\n",
              "\n",
              "    .colab-df-convert {\n",
              "      background-color: #E8F0FE;\n",
              "      border: none;\n",
              "      border-radius: 50%;\n",
              "      cursor: pointer;\n",
              "      display: none;\n",
              "      fill: #1967D2;\n",
              "      height: 32px;\n",
              "      padding: 0 0 0 0;\n",
              "      width: 32px;\n",
              "    }\n",
              "\n",
              "    .colab-df-convert:hover {\n",
              "      background-color: #E2EBFA;\n",
              "      box-shadow: 0px 1px 2px rgba(60, 64, 67, 0.3), 0px 1px 3px 1px rgba(60, 64, 67, 0.15);\n",
              "      fill: #174EA6;\n",
              "    }\n",
              "\n",
              "    [theme=dark] .colab-df-convert {\n",
              "      background-color: #3B4455;\n",
              "      fill: #D2E3FC;\n",
              "    }\n",
              "\n",
              "    [theme=dark] .colab-df-convert:hover {\n",
              "      background-color: #434B5C;\n",
              "      box-shadow: 0px 1px 3px 1px rgba(0, 0, 0, 0.15);\n",
              "      filter: drop-shadow(0px 1px 2px rgba(0, 0, 0, 0.3));\n",
              "      fill: #FFFFFF;\n",
              "    }\n",
              "  </style>\n",
              "\n",
              "      <script>\n",
              "        const buttonEl =\n",
              "          document.querySelector('#df-0e9f368a-8c0e-4dfb-ab13-6aaff91cce40 button.colab-df-convert');\n",
              "        buttonEl.style.display =\n",
              "          google.colab.kernel.accessAllowed ? 'block' : 'none';\n",
              "\n",
              "        async function convertToInteractive(key) {\n",
              "          const element = document.querySelector('#df-0e9f368a-8c0e-4dfb-ab13-6aaff91cce40');\n",
              "          const dataTable =\n",
              "            await google.colab.kernel.invokeFunction('convertToInteractive',\n",
              "                                                     [key], {});\n",
              "          if (!dataTable) return;\n",
              "\n",
              "          const docLinkHtml = 'Like what you see? Visit the ' +\n",
              "            '<a target=\"_blank\" href=https://colab.research.google.com/notebooks/data_table.ipynb>data table notebook</a>'\n",
              "            + ' to learn more about interactive tables.';\n",
              "          element.innerHTML = '';\n",
              "          dataTable['output_type'] = 'display_data';\n",
              "          await google.colab.output.renderOutput(dataTable, element);\n",
              "          const docLink = document.createElement('div');\n",
              "          docLink.innerHTML = docLinkHtml;\n",
              "          element.appendChild(docLink);\n",
              "        }\n",
              "      </script>\n",
              "    </div>\n",
              "  </div>\n",
              "  "
            ]
          },
          "metadata": {},
          "execution_count": 5
        }
      ]
    },
    {
      "cell_type": "markdown",
      "source": [
        "## 전처리 : 결측치 처리"
      ],
      "metadata": {
        "id": "AE-nUy7PCDyE"
      }
    },
    {
      "cell_type": "code",
      "source": [
        "data.isna().mean()"
      ],
      "metadata": {
        "id": "LSJQ2hApzHCC",
        "outputId": "07f73e05-b3dc-448f-efd0-eea41329a07a",
        "colab": {
          "base_uri": "https://localhost:8080/"
        }
      },
      "execution_count": 6,
      "outputs": [
        {
          "output_type": "execute_result",
          "data": {
            "text/plain": [
              "has_null                         0.000000\n",
              "gender                           0.000000\n",
              "age                              0.011339\n",
              "age_o                            0.012413\n",
              "race                             0.007520\n",
              "race_o                           0.008713\n",
              "importance_same_race             0.009429\n",
              "importance_same_religion         0.009429\n",
              "pref_o_attractive                0.010623\n",
              "pref_o_sincere                   0.010623\n",
              "pref_o_intelligence              0.010623\n",
              "pref_o_funny                     0.011697\n",
              "pref_o_ambitious                 0.012772\n",
              "pref_o_shared_interests          0.015397\n",
              "attractive_o                     0.025304\n",
              "sincere_o                        0.034256\n",
              "intelligence_o                   0.036524\n",
              "funny_o                          0.042970\n",
              "ambitous_o                       0.086178\n",
              "shared_interests_o               0.128432\n",
              "attractive_important             0.009429\n",
              "sincere_important                0.009429\n",
              "intellicence_important           0.009429\n",
              "funny_important                  0.010623\n",
              "ambtition_important              0.011817\n",
              "shared_interests_important       0.014443\n",
              "attractive_partner               0.024111\n",
              "sincere_partner                  0.033063\n",
              "intelligence_partner             0.035331\n",
              "funny_partner                    0.041776\n",
              "ambition_partner                 0.084984\n",
              "shared_interests_partner         0.127357\n",
              "interests_correlate              0.018859\n",
              "expected_happy_with_sd_people    0.012055\n",
              "expected_num_interested_in_me    0.785152\n",
              "like                             0.028646\n",
              "guess_prob_liked                 0.036882\n",
              "met                              0.044760\n",
              "match                            0.000000\n",
              "dtype: float64"
            ]
          },
          "metadata": {},
          "execution_count": 6
        }
      ]
    },
    {
      "cell_type": "markdown",
      "source": [
        " - 거의 모든변수에 결측치 있음(5% ↓)\n",
        " - XGBoost와 같은 트리기반 알고리즘은 결측치 채우기 까다롭지 않다\n",
        " - 데이터에 등장하지 않을 법한 임의의 숫자(-99)를 채워넣음\n",
        "  \n",
        "  > 선형모델에서는 -99 숫자가 아웃라이어로써 작용하겠지만 트리모델에서는 결측치라는 사실 자체가 유의미 하다면 -99를 분류하는 노드가 생겨날 것임\n",
        " - 중요도와 관련된 변수들은 결측치 제거\n",
        " - 평가점수에 관한 변수는 무응답(결측치)를 하나의 응답 종류로 간주하여 사용"
      ],
      "metadata": {
        "id": "0BWnua_rCYXj"
      }
    },
    {
      "cell_type": "code",
      "source": [
        "data.columns"
      ],
      "metadata": {
        "id": "52iTsLxeDX31",
        "outputId": "d4a706b0-0c3c-4c42-c793-441e3062e40e",
        "colab": {
          "base_uri": "https://localhost:8080/"
        }
      },
      "execution_count": 7,
      "outputs": [
        {
          "output_type": "execute_result",
          "data": {
            "text/plain": [
              "Index(['has_null', 'gender', 'age', 'age_o', 'race', 'race_o',\n",
              "       'importance_same_race', 'importance_same_religion', 'pref_o_attractive',\n",
              "       'pref_o_sincere', 'pref_o_intelligence', 'pref_o_funny',\n",
              "       'pref_o_ambitious', 'pref_o_shared_interests', 'attractive_o',\n",
              "       'sincere_o', 'intelligence_o', 'funny_o', 'ambitous_o',\n",
              "       'shared_interests_o', 'attractive_important', 'sincere_important',\n",
              "       'intellicence_important', 'funny_important', 'ambtition_important',\n",
              "       'shared_interests_important', 'attractive_partner', 'sincere_partner',\n",
              "       'intelligence_partner', 'funny_partner', 'ambition_partner',\n",
              "       'shared_interests_partner', 'interests_correlate',\n",
              "       'expected_happy_with_sd_people', 'expected_num_interested_in_me',\n",
              "       'like', 'guess_prob_liked', 'met', 'match'],\n",
              "      dtype='object')"
            ]
          },
          "metadata": {},
          "execution_count": 7
        }
      ]
    },
    {
      "cell_type": "code",
      "source": [
        "data = data.dropna(subset=['pref_o_attractive',\n",
        "       'pref_o_sincere', 'pref_o_intelligence', 'pref_o_funny',\n",
        "       'pref_o_ambitious', 'pref_o_shared_interests','attractive_important','sincere_important',\n",
        "       'intellicence_important', 'funny_important', 'ambtition_important',\n",
        "       'shared_interests_important']) # subset 파라미터 : 해당col의 결측치만 제거(axis=1 설정이 필요 없음) "
      ],
      "metadata": {
        "id": "bqnGu3EjCIA9"
      },
      "execution_count": 8,
      "outputs": []
    },
    {
      "cell_type": "code",
      "source": [
        "data = data.fillna(-99)"
      ],
      "metadata": {
        "id": "9SzN5LLxD59e"
      },
      "execution_count": 9,
      "outputs": []
    },
    {
      "cell_type": "code",
      "source": [
        "data.isna().mean()"
      ],
      "metadata": {
        "id": "VEcSb52xD882",
        "outputId": "56b82f69-e306-4137-e581-7e7ab363cb90",
        "colab": {
          "base_uri": "https://localhost:8080/"
        }
      },
      "execution_count": 10,
      "outputs": [
        {
          "output_type": "execute_result",
          "data": {
            "text/plain": [
              "has_null                         0.0\n",
              "gender                           0.0\n",
              "age                              0.0\n",
              "age_o                            0.0\n",
              "race                             0.0\n",
              "race_o                           0.0\n",
              "importance_same_race             0.0\n",
              "importance_same_religion         0.0\n",
              "pref_o_attractive                0.0\n",
              "pref_o_sincere                   0.0\n",
              "pref_o_intelligence              0.0\n",
              "pref_o_funny                     0.0\n",
              "pref_o_ambitious                 0.0\n",
              "pref_o_shared_interests          0.0\n",
              "attractive_o                     0.0\n",
              "sincere_o                        0.0\n",
              "intelligence_o                   0.0\n",
              "funny_o                          0.0\n",
              "ambitous_o                       0.0\n",
              "shared_interests_o               0.0\n",
              "attractive_important             0.0\n",
              "sincere_important                0.0\n",
              "intellicence_important           0.0\n",
              "funny_important                  0.0\n",
              "ambtition_important              0.0\n",
              "shared_interests_important       0.0\n",
              "attractive_partner               0.0\n",
              "sincere_partner                  0.0\n",
              "intelligence_partner             0.0\n",
              "funny_partner                    0.0\n",
              "ambition_partner                 0.0\n",
              "shared_interests_partner         0.0\n",
              "interests_correlate              0.0\n",
              "expected_happy_with_sd_people    0.0\n",
              "expected_num_interested_in_me    0.0\n",
              "like                             0.0\n",
              "guess_prob_liked                 0.0\n",
              "met                              0.0\n",
              "match                            0.0\n",
              "dtype: float64"
            ]
          },
          "metadata": {},
          "execution_count": 10
        }
      ]
    },
    {
      "cell_type": "markdown",
      "source": [
        " - data에 상대방 나이와 본인 나이가 존재 → 나이 차이 계산\n",
        " - 나이의 결측치(-99)는 '알 수 없음' 의미로 사용\n",
        " - 남자가 나이가 많은지 반대인지도 고려"
      ],
      "metadata": {
        "id": "NOR753hoEbrK"
      }
    },
    {
      "cell_type": "code",
      "source": [
        "# DataFrame에 apply(func, axis=1)를 적용하여 별도의 변수(컬럼)를 만들 예정\n",
        "# 직접만들 func 함수에 여러가지 변수가(컬럼) 사용될 예정이므로 포괄할 수 있는 DataFrame을 파라미터로 받아야 할 것\n",
        "\n",
        "def age_gap(x): # DataFrame을 파라미터로 받을 예정\n",
        "\n",
        "    # if, elif, else 등으로 다중조건을 만들때, 예외적인 상황들을 먼저 정의하자\n",
        "    if x['age'] == -99: # 결측치(알수없음)\n",
        "        return -99\n",
        "    elif x['age_o'] == -99:\n",
        "        return -99\n",
        "\n",
        "    elif x['gender'] == 'female':     # 본인이 여성인 경우\n",
        "        return x['age_o'] - x['age']  # 상대(남자)나이 - 본인(여자)나이 \n",
        "    else:                             # 본인이 남자인 경우\n",
        "        return x['age'] - x['age_o']         # 상대(여자)나이 - 본인(남자)나이"
      ],
      "metadata": {
        "id": "QSCrN-TsD-iG"
      },
      "execution_count": 11,
      "outputs": []
    },
    {
      "cell_type": "code",
      "source": [
        "data['age_gap'] = data.apply(age_gap, axis=1)"
      ],
      "metadata": {
        "id": "gwwWIb6zQRDS"
      },
      "execution_count": 12,
      "outputs": []
    },
    {
      "cell_type": "markdown",
      "source": [
        " - 나이의 차이 자체가 중요한 변수가 될 수도 있으므로 age_gap에 절대값을 취한 변수도 추가"
      ],
      "metadata": {
        "id": "kY06PQOtQFvR"
      }
    },
    {
      "cell_type": "code",
      "source": [
        "data['age_gap_abs'] = abs(data['age_gap'] )"
      ],
      "metadata": {
        "id": "V9rf0NwLQCog"
      },
      "execution_count": 13,
      "outputs": []
    },
    {
      "cell_type": "markdown",
      "source": [
        " - 상대방과 인종이 같으면 1, 다르면 -1, 결측치는 -99\n",
        "\n",
        "  > 1, 0으로 구분하지 않는 이유는 이후 인종 중요도 변수를 곱한값을 새로운 변수로 만들 예정이므로"
      ],
      "metadata": {
        "id": "D3Q8-fNYSIct"
      }
    },
    {
      "cell_type": "code",
      "source": [
        "def same_race(x):\n",
        "    if x['race'] == -99:\n",
        "        return -99\n",
        "    elif x['race_o'] == -99:\n",
        "        return -99\n",
        "    elif x['race'] == x['race_o']:\n",
        "        return 1\n",
        "    else:\n",
        "        return -1"
      ],
      "metadata": {
        "id": "w3JxIZkmSE-X"
      },
      "execution_count": 14,
      "outputs": []
    },
    {
      "cell_type": "code",
      "source": [
        "data['same_race'] = data.apply(same_race, axis=1)"
      ],
      "metadata": {
        "id": "i0wT-5bZSfe5"
      },
      "execution_count": 15,
      "outputs": []
    },
    {
      "cell_type": "markdown",
      "source": [
        " - 인종관련 변수로 importance_same_race도 있음\n",
        "\n",
        "  > 동일 인종여부가 얼마나 중요한지 의미\n",
        " - 새로구한 same_race 변수와 importance_same_race 변수를 곱하여 새변수 생성\n",
        "\n",
        "  > 동일 인종이면 양수, 아니면 음수\n",
        "\n",
        "  > 중요할수록 절대값이 큼"
      ],
      "metadata": {
        "id": "Lp5-jKaMTnfp"
      }
    },
    {
      "cell_type": "code",
      "source": [
        "def same_race_point(x):\n",
        "    if x['same_race'] == -99:\n",
        "        return -99\n",
        "    else:\n",
        "        return x['same_race'] * x['importance_same_race']"
      ],
      "metadata": {
        "id": "-t0n9WoESnC-"
      },
      "execution_count": 16,
      "outputs": []
    },
    {
      "cell_type": "code",
      "source": [
        "data['same_race_point'] = data.apply(same_race_point, axis=1)"
      ],
      "metadata": {
        "id": "2Yp1zTGkUKAJ"
      },
      "execution_count": 17,
      "outputs": []
    },
    {
      "cell_type": "markdown",
      "source": [
        " - attractive, sincere 등에 대한 평가/중요도 변수\n",
        " - 평가점수 X 중요도 계산하여 새로운 변수 생성"
      ],
      "metadata": {
        "id": "PQPJW4eRU7kI"
      }
    },
    {
      "cell_type": "code",
      "source": [
        "def rating(data, importance, score): # 파라미터로 3가지 변수를 받음(DataFrame, 중요도변수리스트, 평가변수리스트)\n",
        "    if data[importance] == -99:\n",
        "        return -99\n",
        "    elif data[score] == -99:\n",
        "        return -99\n",
        "    else:\n",
        "        return data[importance] * data[score]"
      ],
      "metadata": {
        "id": "J516lO3kUOn5"
      },
      "execution_count": 18,
      "outputs": []
    },
    {
      "cell_type": "code",
      "source": [
        "data.columns[8:14] # 상대방의 중요도에 대한 변수 이름 리스트 : pref_o_xxx"
      ],
      "metadata": {
        "id": "E8dUcCu0mrEC",
        "outputId": "08a5cb9b-7f8a-4de1-8267-df25d8b07c08",
        "colab": {
          "base_uri": "https://localhost:8080/"
        }
      },
      "execution_count": 19,
      "outputs": [
        {
          "output_type": "execute_result",
          "data": {
            "text/plain": [
              "Index(['pref_o_attractive', 'pref_o_sincere', 'pref_o_intelligence',\n",
              "       'pref_o_funny', 'pref_o_ambitious', 'pref_o_shared_interests'],\n",
              "      dtype='object')"
            ]
          },
          "metadata": {},
          "execution_count": 19
        }
      ]
    },
    {
      "cell_type": "code",
      "source": [
        "partner_imp = data.columns[8:14]      # 상대방의 중요도\n",
        "partner_rate_me = data.columns[14:20] # 본인에 대한 상대방의 평가\n",
        "my_imp = data.columns[20:26]          # 본인의 중요도\n",
        "my_rate_partner = data.columns[26:32] # 상대방에 대한 본인의 평가"
      ],
      "metadata": {
        "id": "bepEND6pm6ac"
      },
      "execution_count": 20,
      "outputs": []
    },
    {
      "cell_type": "markdown",
      "source": [
        " - 계산된 값(평가점수 X 중요도)를 받아줄 새변수의 이름 만들기"
      ],
      "metadata": {
        "id": "u71xywx3n6dC"
      }
    },
    {
      "cell_type": "code",
      "source": [
        "partner_rate_me"
      ],
      "metadata": {
        "id": "TNewYFL1oLr7",
        "outputId": "07c1f195-2add-46b1-de7f-c6586822f276",
        "colab": {
          "base_uri": "https://localhost:8080/"
        }
      },
      "execution_count": 21,
      "outputs": [
        {
          "output_type": "execute_result",
          "data": {
            "text/plain": [
              "Index(['attractive_o', 'sincere_o', 'intelligence_o', 'funny_o', 'ambitous_o',\n",
              "       'shared_interests_o'],\n",
              "      dtype='object')"
            ]
          },
          "metadata": {},
          "execution_count": 21
        }
      ]
    },
    {
      "cell_type": "code",
      "source": [
        "# 상대방 관련 새 변수 이름을 저장하는 리스트\n",
        "new_label_partner = ['attractive_p', 'sincere_p', 'intelligence_p', 'funny_p', 'ambitous_p',\n",
        "       'shared_interests_p']\n",
        "# 본인 관련 새 변수 이름을 저장하는 리스트\n",
        "new_label_me = ['attractive_m', 'sincere_m', 'intelligence_m', 'funny_m', 'ambitous_m',\n",
        "       'shared_interests_m']"
      ],
      "metadata": {
        "id": "tkOOgYuJnw_A"
      },
      "execution_count": 22,
      "outputs": []
    },
    {
      "cell_type": "markdown",
      "source": [
        " - 새 변수 이름 = 중요도 변수 이름 X 평가 변수 이름\n",
        " - 이를 '본인 관련 새 변수' 한번, '상대방 관련 새 변수' 한번 시행"
      ],
      "metadata": {
        "id": "CD0IBsiLomXg"
      }
    },
    {
      "cell_type": "markdown",
      "source": [
        "\n",
        "\n",
        "---\n",
        "\n",
        "for 문 in 뒤에 리스트를 2개 이상 사용하기\n",
        "zip() 함수를 사용하면, for문에 리스트 3개를 동시에 사용할 수 있음\n",
        "\n",
        "\n",
        "```\n",
        "for i,j,k in zip([1,2,3], [4,5,6], [7,8,9]\n",
        "    print(i, j, k)\n",
        "\n",
        "> 1 4 7\n",
        "  2 5 8\n",
        "  3 6 9\n",
        "```\n",
        "\n",
        "\n",
        "---\n",
        "\n",
        "\n",
        "\n"
      ],
      "metadata": {
        "id": "T6mHsuT4pDHg"
      }
    },
    {
      "cell_type": "code",
      "source": [
        "# 상대방 관련 변수를 앞서 만든 rating(DataFrame, 중요도 변수리스트, 평가 변수리스트) 함수를 사용해 중요도 X 평가 계산\n",
        "\n",
        "for i,j,k in zip(new_label_partner, partner_imp, partner_rate_me): # 3개의 리스트 동시에 순회\n",
        "    # data[i] = data.apply(lambda x: rating(x, j, k), axis=1) # apply(func, axis=1) : 다수의 파라미터를 사용하는 func함수의 경우 apply(lambda x: func(x, 변수2, 변수3))\n",
        "    data[i] = data.apply(rating, args=(j,k), axis=1) # apply(func, args=(변수2, 변수3), axis=1) : 다수의 파라미터를 사용하는 func함수의 경우 첫번째 파라미터는 자동으로 DataFrame/Series의 객체"
      ],
      "metadata": {
        "id": "MlT-RJrFpigQ"
      },
      "execution_count": 23,
      "outputs": []
    },
    {
      "cell_type": "code",
      "source": [
        "# 본인 관련 변수를 앞서 만든 rating(DataFrame, 중요도 변수리스트, 평가 변수리스트) 함수를 사용해 중요도 X 평가 계산\n",
        "\n",
        "for i,j,k in zip(new_label_me, my_imp, my_rate_partner): # 3개의 리스트 동시에 순회\n",
        "    # data[i] = data.apply(lambda x: rating(x, j, k), axis=1) # apply(func, axis=1) : 다수의 파라미터를 사용하는 func함수의 경우 apply(lambda x: func(x, 변수2, 변수3))\n",
        "    data[i] = data.apply(rating, args=(j,k), axis=1)"
      ],
      "metadata": {
        "id": "fE9GepmEruir"
      },
      "execution_count": 24,
      "outputs": []
    },
    {
      "cell_type": "markdown",
      "source": [
        " - object 타입 변수들은 문자형태, 숫자 형태가 되도록 더미 변수로 변환 : 'gender','race','race_o' 3가지 변수"
      ],
      "metadata": {
        "id": "8GRgDG4csrCB"
      }
    },
    {
      "cell_type": "code",
      "source": [
        "data = pd.get_dummies(data, columns=['gender','race','race_o'], drop_first=True)"
      ],
      "metadata": {
        "id": "prpbJ_e8sow0"
      },
      "execution_count": 25,
      "outputs": []
    },
    {
      "cell_type": "markdown",
      "source": [
        "## 모델링 및 평가"
      ],
      "metadata": {
        "id": "cvLgGy-RtCEf"
      }
    },
    {
      "cell_type": "code",
      "source": [
        "from sklearn.model_selection import train_test_split\n",
        "X_train, X_test, y_train, y_test = train_test_split(data.drop('match', axis=1),\n",
        "                                                    data['match'],\n",
        "                                                    test_size=0.2,\n",
        "                                                    random_state=100)"
      ],
      "metadata": {
        "id": "CnmWBGn5s7pg"
      },
      "execution_count": 26,
      "outputs": []
    },
    {
      "cell_type": "markdown",
      "source": [
        " - XGBoost 모듈 파이썬 래퍼 vs 사이킷런 래퍼 \n",
        "  \n",
        "  > xgboost의 핵심 라이브러리는 C/C++로 작성되어 초기에는 사이킷런과 호환X(fit, predict, GridSearchCV 사용 불가) → 파이썬에서 구현하기 위해 별도의 API 사용(파이썬 래퍼)\n",
        "\n",
        "  > 파이썬 기반의 머신러닝 이용자가 늘어나며,  xgboost 개발 그룹에서 사이킷런과 호환이 가능하도록 래퍼 클래스를 제공하게 됨(사이킷런 래퍼)"
      ],
      "metadata": {
        "id": "NTe30HoW1VEU"
      }
    },
    {
      "cell_type": "markdown",
      "source": [
        " - 파이썬 래퍼 XGBoost 모듈\n",
        "\n",
        "  > 훈련/검증/테스트 데이터 Dmatrix 형태로 변환 후 사용\n",
        "\n",
        "  > 모델.train(파라미터 설정)\n",
        "\n",
        " - 사이킷런 래퍼 XGBoost 모듈\n",
        "\n",
        "  > 모델 = XGBClassifier(파라미터 설정)\n",
        "\n",
        "  > 모델.fit()"
      ],
      "metadata": {
        "id": "EneLwOYe2B7A"
      }
    },
    {
      "cell_type": "code",
      "source": [
        "# 사이킷런 래퍼 XGBoost 모듈\n",
        "import xgboost as xgb"
      ],
      "metadata": {
        "id": "hvBSYlJutTS7"
      },
      "execution_count": 27,
      "outputs": []
    },
    {
      "cell_type": "code",
      "source": [
        "model = xgb.XGBClassifier(n_estimator = 500, max_depth=5, random_state=100) # 모델 객체 생성"
      ],
      "metadata": {
        "id": "C8mGgIN63O7f"
      },
      "execution_count": 28,
      "outputs": []
    },
    {
      "cell_type": "code",
      "source": [
        "model.fit(X_train, y_train)"
      ],
      "metadata": {
        "id": "toyX3xuM3iv8",
        "outputId": "02ea689c-80a0-4c71-ed65-db1f4eeb42b0",
        "colab": {
          "base_uri": "https://localhost:8080/"
        }
      },
      "execution_count": 29,
      "outputs": [
        {
          "output_type": "execute_result",
          "data": {
            "text/plain": [
              "XGBClassifier(max_depth=5, n_estimator=500, random_state=100)"
            ]
          },
          "metadata": {},
          "execution_count": 29
        }
      ]
    },
    {
      "cell_type": "code",
      "source": [
        "pred = model.predict(X_test) # 예측\n",
        "from sklearn.metrics import accuracy_score, confusion_matrix, classification_report\n",
        "accuracy_score(y_test, pred)"
      ],
      "metadata": {
        "id": "9xgz1bKH3ltp",
        "outputId": "8488e240-c5fc-4412-eb54-b11681d5ad40",
        "colab": {
          "base_uri": "https://localhost:8080/"
        }
      },
      "execution_count": 30,
      "outputs": [
        {
          "output_type": "execute_result",
          "data": {
            "text/plain": [
              "0.8610086100861009"
            ]
          },
          "metadata": {},
          "execution_count": 30
        }
      ]
    },
    {
      "cell_type": "markdown",
      "source": [
        " - 86%의 정확도 이지만...\n",
        " - 종속변수 match의 평균은 0.164 즉, 16%\n",
        " - 모델링 없이 모든 경우를 0(매칭 되지 않음)으로 예측해도 84%는 맞추는 **편향된 데이터**\n",
        " \n",
        "  > 따라서 86%의 결과는 예측 모델이 없는 것보다 아주 조금 나은 수준"
      ],
      "metadata": {
        "id": "hdgvJXvN4BBU"
      }
    },
    {
      "cell_type": "code",
      "source": [
        "print(confusion_matrix(y_test, pred)) # 혼동 행렬 출력"
      ],
      "metadata": {
        "id": "MQBxIEKQ35Rz",
        "outputId": "1151fe65-62ad-4670-983f-dc6257af1ea3",
        "colab": {
          "base_uri": "https://localhost:8080/"
        }
      },
      "execution_count": 31,
      "outputs": [
        {
          "output_type": "stream",
          "name": "stdout",
          "text": [
            "[[1304   61]\n",
            " [ 165   96]]\n"
          ]
        }
      ]
    },
    {
      "cell_type": "markdown",
      "source": [
        "\n",
        "```     \n",
        "         판정\n",
        "   N:0              P:1\n",
        "[[TN           FP(1종오류)]\n",
        "\n",
        " [ FN(2종오류)         TP]]\n",
        "```\n",
        " - 판정이맞는지틀린지(T/F) + 판정(N:0/P:1)\n",
        " - 암진단의 경우 2종오류를 더 중요시 : 암에 걸렸는데 안걸렸다고 판정하는 오류"
      ],
      "metadata": {
        "id": "wy0Lnr0o6far"
      }
    },
    {
      "cell_type": "markdown",
      "source": [
        " - 사이킷런 classification_report() 함수를 이용하여 평가 수치를 일목요연하게 확인해 보자"
      ],
      "metadata": {
        "id": "w3Y1sWvyGpSt"
      }
    },
    {
      "cell_type": "code",
      "source": [
        "print(classification_report(y_test, pred))"
      ],
      "metadata": {
        "id": "yeG0y5sO4nU5",
        "outputId": "990418a8-070c-43f6-9786-528f21ddc143",
        "colab": {
          "base_uri": "https://localhost:8080/"
        }
      },
      "execution_count": 32,
      "outputs": [
        {
          "output_type": "stream",
          "name": "stdout",
          "text": [
            "              precision    recall  f1-score   support\n",
            "\n",
            "           0       0.89      0.96      0.92      1365\n",
            "           1       0.61      0.37      0.46       261\n",
            "\n",
            "    accuracy                           0.86      1626\n",
            "   macro avg       0.75      0.66      0.69      1626\n",
            "weighted avg       0.84      0.86      0.85      1626\n",
            "\n"
          ]
        }
      ]
    },
    {
      "cell_type": "markdown",
      "source": [
        " - precision : 정밀도\n",
        "\n",
        "  > TP / (TP+FP) → 양성을 양성으로 판단 / 양성으로 판단한 수\n",
        "\n",
        "  > 1종 오류(FP)가 커질수록 정밀도는 하락\n",
        " - recall : 재현율\n",
        "\n",
        "  > TP / (TP+FN) → 양성을 양성으로 판단 / 실제로 양성인 수\n",
        "\n",
        "  > 2종 오류(FN)가 커질수록 재현율은 하락\n",
        " - f1-score : F-1 점수\n",
        "\n",
        "  > 정밀도와 재현율의 조화 평균 : 2 X 정밀도 X 재현율 / (정밀도 + 재현율)\n",
        "\n",
        "  > 정밀도와 재현율이 높을 때 함께 높아지며, 둘의 값이 비슷할수록 높은 값\n",
        " - support : 인덱스에 해당하는 개수\n",
        "\n",
        " \n",
        "\n",
        " - 1종 오류가 중요하면 → 정밀도에 비중\n",
        " - 2종 오류가 중요하면 → 재현율에 비중\n",
        " - 특별히 더 중요한 오류 유형이 없다면 → F1 점수\n",
        " - 목표값이 0,1인 이진분류의 유용한 평가 방법 → AUC"
      ],
      "metadata": {
        "id": "FCR2FtUSHA8H"
      }
    },
    {
      "cell_type": "markdown",
      "source": [
        " ## 하이퍼파라미터 튜닝 : 그리드 서치\n",
        " - 일반적으로 하이퍼파라미터 튜닝으로 큰 성능개선을 끌어낼 수 없다\n",
        " - 가장 큰 영향을 미치는 것은 피처 엔지니어링과 모델 알고리즘 선정\n",
        " - 하이퍼 파라미터 튜닝은 조금이라도 더 나은 모델을 만드는 역할"
      ],
      "metadata": {
        "id": "5F0I2dnWRudh"
      }
    },
    {
      "cell_type": "code",
      "source": [
        "from sklearn.model_selection import GridSearchCV"
      ],
      "metadata": {
        "id": "mtnzTDfJG2CD"
      },
      "execution_count": 33,
      "outputs": []
    },
    {
      "cell_type": "code",
      "source": [
        "parameters = {'learning_rate' : [0.1, 0.3],   # 딕셔너리 형태\n",
        "              'max_depth' : [7, 10],\n",
        "              'subsample' : [0.7, 1],\n",
        "              'n_estimators' : [300, 500]}"
      ],
      "metadata": {
        "id": "ZQfP8GVER5gY"
      },
      "execution_count": 34,
      "outputs": []
    },
    {
      "cell_type": "markdown",
      "source": [
        "- max_depth : 각 트리의 깊이 제한\n",
        "- subsample : 모델을 학습시킬 때 일부 데이터만 사용하여 트리를 만든다 → 오버피팅 방지\n",
        "- n_estimators : 전체 나무의 개수"
      ],
      "metadata": {
        "id": "oThuzR7KSPnh"
      }
    },
    {
      "cell_type": "code",
      "source": [
        "model = xgb.XGBClassifier()"
      ],
      "metadata": {
        "id": "UOSnEBD-SOUH"
      },
      "execution_count": 35,
      "outputs": []
    },
    {
      "cell_type": "code",
      "source": [
        "gs_model = GridSearchCV(model, parameters, n_jobs=-1, scoring='f1', cv=3, verbose=1) # model, parameters는 필수입력 파라미터"
      ],
      "metadata": {
        "id": "QwUgJmIESmJY"
      },
      "execution_count": 36,
      "outputs": []
    },
    {
      "cell_type": "markdown",
      "source": [
        " - scoring 파라미터 : 모델링시 어떤 기준으로 최적의 모델을 평가할지 정의\n",
        " - cv 파라미터 : 교차검증에 사용할 K-폴드 값\n",
        " - parameters에 의해 2 x 2 x 2 x 2 cv(교차검증)에 의해 x 3 → 총 48개의 모델을 만들며 최적의 파라미터를 조합을 찾게 됨\n",
        "\n",
        "  > 학습 완료 후, 가장 좋은 성능을(scoring 파라미터 기준) 보인 하이퍼 파라미터 조합 정보를 보관 및 자동 업데이트 : 모델.best_params_ \n"
      ],
      "metadata": {
        "id": "R2LJpgVaTCdc"
      }
    },
    {
      "cell_type": "code",
      "source": [
        "# gs_model.fit(X_train, y_train)"
      ],
      "metadata": {
        "id": "ISE5fkIaTB8A"
      },
      "execution_count": 37,
      "outputs": []
    },
    {
      "cell_type": "markdown",
      "source": [
        " - 훈련된 모델 저장(재훈련에 많은 시간이 소요되므로)"
      ],
      "metadata": {
        "id": "KdEcKsIhfyRb"
      }
    },
    {
      "cell_type": "code",
      "source": [
        "from google.colab import drive\n",
        "drive.mount('/content/drive')"
      ],
      "metadata": {
        "id": "AT8C-qtSgDf7",
        "outputId": "08ae0810-f41e-4c09-be93-0cd855256247",
        "colab": {
          "base_uri": "https://localhost:8080/"
        }
      },
      "execution_count": 38,
      "outputs": [
        {
          "output_type": "stream",
          "name": "stdout",
          "text": [
            "Mounted at /content/drive\n"
          ]
        }
      ]
    },
    {
      "cell_type": "code",
      "source": [
        "import joblib # \n",
        "\n",
        "# joblib.dump(gs_model, '/content/drive/MyDrive/Colab Notebooks/gs_model.pkl') # 모델 저장하기\n",
        "gs_model = joblib.load('/content/drive/MyDrive/Colab Notebooks/gs_model.pkl') # 모델 불러오기"
      ],
      "metadata": {
        "id": "Rsd9xadPfv1Q"
      },
      "execution_count": 39,
      "outputs": []
    },
    {
      "cell_type": "code",
      "source": [
        "gs_model.best_params_ # best_params_ : 최적의 모델을 만드는 하이퍼파라미터 확인(모델이 자동 업데이트 됨)"
      ],
      "metadata": {
        "id": "v5ogUiZtT9Kt",
        "outputId": "9d6abc37-d297-4a6f-8f31-6a329430b799",
        "colab": {
          "base_uri": "https://localhost:8080/"
        }
      },
      "execution_count": 40,
      "outputs": [
        {
          "output_type": "execute_result",
          "data": {
            "text/plain": [
              "{'learning_rate': 0.3, 'max_depth': 10, 'n_estimators': 500, 'subsample': 0.7}"
            ]
          },
          "metadata": {},
          "execution_count": 40
        }
      ]
    },
    {
      "cell_type": "code",
      "source": [
        "pred = gs_model.predict(X_test)"
      ],
      "metadata": {
        "id": "BFXcLgkoVyFA"
      },
      "execution_count": 41,
      "outputs": []
    },
    {
      "cell_type": "code",
      "source": [
        "accuracy_score(y_test, pred)"
      ],
      "metadata": {
        "id": "l79Bhot0WCPG",
        "outputId": "a410ba2a-61fc-421c-f387-584ce5f8f90a",
        "colab": {
          "base_uri": "https://localhost:8080/"
        }
      },
      "execution_count": 42,
      "outputs": [
        {
          "output_type": "execute_result",
          "data": {
            "text/plain": [
              "0.8690036900369004"
            ]
          },
          "metadata": {},
          "execution_count": 42
        }
      ]
    },
    {
      "cell_type": "code",
      "source": [
        "print(classification_report(y_test, pred))"
      ],
      "metadata": {
        "id": "1Wuc8Z50gqDL",
        "outputId": "067975a0-7425-40bc-d8ef-02cf3fcb97c3",
        "colab": {
          "base_uri": "https://localhost:8080/"
        }
      },
      "execution_count": 43,
      "outputs": [
        {
          "output_type": "stream",
          "name": "stdout",
          "text": [
            "              precision    recall  f1-score   support\n",
            "\n",
            "           0       0.90      0.95      0.92      1365\n",
            "           1       0.63      0.44      0.52       261\n",
            "\n",
            "    accuracy                           0.87      1626\n",
            "   macro avg       0.76      0.70      0.72      1626\n",
            "weighted avg       0.86      0.87      0.86      1626\n",
            "\n"
          ]
        }
      ]
    },
    {
      "cell_type": "markdown",
      "source": [
        "## 중요 변수 확인\n",
        " - 선형/로지스틱 회귀에서는 계수로 변수의 영향력 확인\n",
        " - 결정 트리에서는 노드의 순서로 변수의 영향력 확인\n",
        " - 부스팅 모델은 훨씬 복잡한 알고리즘을 사용하므로 변수의 영향력 파악이 어렵다\n",
        "\n",
        "  > 다행히, XGBoost에 내장된 함수는 변수의 중요도를 계산해준다.\n",
        "\n",
        "  > 그러나, 그리드 서치로 학습된 모델에서는 이기능이 사용이 불가\n",
        "```\n",
        "gs_model.feature_importances_\n",
        "AttributeError: 'GridSearchCV' object has no attribute 'feature_importances_'\n",
        "```\n",
        "  > 그리드 서치에서 찾은 하이퍼 파라미터 조합으로 다시 학습"
      ],
      "metadata": {
        "id": "My4v4tJiPASw"
      }
    },
    {
      "cell_type": "code",
      "source": [
        "model = xgb.XGBClassifier(learning_rate = 0.3, max_depth = 10,\n",
        "                          n_estimators = 500, subsample = 0.7, random_state=100)\n",
        "model.fit(X_train, y_train)"
      ],
      "metadata": {
        "id": "NALggzZEPjc-",
        "outputId": "5450134c-5bb3-4fb1-de89-abe4221eb19a",
        "colab": {
          "base_uri": "https://localhost:8080/"
        }
      },
      "execution_count": 47,
      "outputs": [
        {
          "output_type": "execute_result",
          "data": {
            "text/plain": [
              "XGBClassifier(learning_rate=0.3, max_depth=10, n_estimators=500,\n",
              "              random_state=100, subsample=0.7)"
            ]
          },
          "metadata": {},
          "execution_count": 47
        }
      ]
    },
    {
      "cell_type": "code",
      "source": [
        "model.feature_importances_ # 변수 중요도 확인"
      ],
      "metadata": {
        "id": "sljkMeeTPq-H",
        "outputId": "ec58bc50-2a8e-4da6-d069-cc64b8ca803a",
        "colab": {
          "base_uri": "https://localhost:8080/"
        }
      },
      "execution_count": 48,
      "outputs": [
        {
          "output_type": "execute_result",
          "data": {
            "text/plain": [
              "array([0.01595482, 0.01095524, 0.011701  , 0.01037032, 0.01089286,\n",
              "       0.01152188, 0.01256772, 0.01072765, 0.01019189, 0.01526167,\n",
              "       0.01044605, 0.06577029, 0.01199611, 0.01299684, 0.02525519,\n",
              "       0.01186742, 0.02008077, 0.01514069, 0.01146124, 0.01501033,\n",
              "       0.01025663, 0.01244105, 0.01164575, 0.02776843, 0.01190853,\n",
              "       0.01300337, 0.02279908, 0.01215303, 0.01329786, 0.01069768,\n",
              "       0.01010036, 0.01873242, 0.08140841, 0.02447957, 0.02854684,\n",
              "       0.00999391, 0.01271648, 0.00754977, 0.01172815, 0.01253063,\n",
              "       0.01155259, 0.01318263, 0.01366607, 0.00894206, 0.01087533,\n",
              "       0.01272069, 0.00931892, 0.01168013, 0.01213257, 0.00911224,\n",
              "       0.00983016, 0.00735326, 0.025139  , 0.01081249, 0.02901271,\n",
              "       0.02956723, 0.02661143, 0.01273541, 0.0319619 , 0.01986524],\n",
              "      dtype=float32)"
            ]
          },
          "metadata": {},
          "execution_count": 48
        }
      ]
    },
    {
      "cell_type": "code",
      "source": [
        "feature_imp = pd.DataFrame({'features':X_train.columns,\n",
        "                            'values':model.feature_importances_})"
      ],
      "metadata": {
        "id": "CFW1DGJCUmw8"
      },
      "execution_count": 49,
      "outputs": []
    },
    {
      "cell_type": "code",
      "source": [
        "feature_imp.sort_values(by='values', ascending=False).head()"
      ],
      "metadata": {
        "id": "PWUxua1BU3zY",
        "outputId": "29f4eb27-77ad-4ac3-f85a-a21e63106f3a",
        "colab": {
          "base_uri": "https://localhost:8080/",
          "height": 206
        }
      },
      "execution_count": 53,
      "outputs": [
        {
          "output_type": "execute_result",
          "data": {
            "text/plain": [
              "                          features    values\n",
              "32                            like  0.081408\n",
              "11                    attractive_o  0.065770\n",
              "58  race_o_Latino/HispanicAmerican  0.031962\n",
              "55                      race_Other  0.029567\n",
              "54    race_Latino/HispanicAmerican  0.029013"
            ],
            "text/html": [
              "\n",
              "  <div id=\"df-894eb9bf-2ac3-4ae4-bcf8-9ed6d90a9c40\">\n",
              "    <div class=\"colab-df-container\">\n",
              "      <div>\n",
              "<style scoped>\n",
              "    .dataframe tbody tr th:only-of-type {\n",
              "        vertical-align: middle;\n",
              "    }\n",
              "\n",
              "    .dataframe tbody tr th {\n",
              "        vertical-align: top;\n",
              "    }\n",
              "\n",
              "    .dataframe thead th {\n",
              "        text-align: right;\n",
              "    }\n",
              "</style>\n",
              "<table border=\"1\" class=\"dataframe\">\n",
              "  <thead>\n",
              "    <tr style=\"text-align: right;\">\n",
              "      <th></th>\n",
              "      <th>features</th>\n",
              "      <th>values</th>\n",
              "    </tr>\n",
              "  </thead>\n",
              "  <tbody>\n",
              "    <tr>\n",
              "      <th>32</th>\n",
              "      <td>like</td>\n",
              "      <td>0.081408</td>\n",
              "    </tr>\n",
              "    <tr>\n",
              "      <th>11</th>\n",
              "      <td>attractive_o</td>\n",
              "      <td>0.065770</td>\n",
              "    </tr>\n",
              "    <tr>\n",
              "      <th>58</th>\n",
              "      <td>race_o_Latino/HispanicAmerican</td>\n",
              "      <td>0.031962</td>\n",
              "    </tr>\n",
              "    <tr>\n",
              "      <th>55</th>\n",
              "      <td>race_Other</td>\n",
              "      <td>0.029567</td>\n",
              "    </tr>\n",
              "    <tr>\n",
              "      <th>54</th>\n",
              "      <td>race_Latino/HispanicAmerican</td>\n",
              "      <td>0.029013</td>\n",
              "    </tr>\n",
              "  </tbody>\n",
              "</table>\n",
              "</div>\n",
              "      <button class=\"colab-df-convert\" onclick=\"convertToInteractive('df-894eb9bf-2ac3-4ae4-bcf8-9ed6d90a9c40')\"\n",
              "              title=\"Convert this dataframe to an interactive table.\"\n",
              "              style=\"display:none;\">\n",
              "        \n",
              "  <svg xmlns=\"http://www.w3.org/2000/svg\" height=\"24px\"viewBox=\"0 0 24 24\"\n",
              "       width=\"24px\">\n",
              "    <path d=\"M0 0h24v24H0V0z\" fill=\"none\"/>\n",
              "    <path d=\"M18.56 5.44l.94 2.06.94-2.06 2.06-.94-2.06-.94-.94-2.06-.94 2.06-2.06.94zm-11 1L8.5 8.5l.94-2.06 2.06-.94-2.06-.94L8.5 2.5l-.94 2.06-2.06.94zm10 10l.94 2.06.94-2.06 2.06-.94-2.06-.94-.94-2.06-.94 2.06-2.06.94z\"/><path d=\"M17.41 7.96l-1.37-1.37c-.4-.4-.92-.59-1.43-.59-.52 0-1.04.2-1.43.59L10.3 9.45l-7.72 7.72c-.78.78-.78 2.05 0 2.83L4 21.41c.39.39.9.59 1.41.59.51 0 1.02-.2 1.41-.59l7.78-7.78 2.81-2.81c.8-.78.8-2.07 0-2.86zM5.41 20L4 18.59l7.72-7.72 1.47 1.35L5.41 20z\"/>\n",
              "  </svg>\n",
              "      </button>\n",
              "      \n",
              "  <style>\n",
              "    .colab-df-container {\n",
              "      display:flex;\n",
              "      flex-wrap:wrap;\n",
              "      gap: 12px;\n",
              "    }\n",
              "\n",
              "    .colab-df-convert {\n",
              "      background-color: #E8F0FE;\n",
              "      border: none;\n",
              "      border-radius: 50%;\n",
              "      cursor: pointer;\n",
              "      display: none;\n",
              "      fill: #1967D2;\n",
              "      height: 32px;\n",
              "      padding: 0 0 0 0;\n",
              "      width: 32px;\n",
              "    }\n",
              "\n",
              "    .colab-df-convert:hover {\n",
              "      background-color: #E2EBFA;\n",
              "      box-shadow: 0px 1px 2px rgba(60, 64, 67, 0.3), 0px 1px 3px 1px rgba(60, 64, 67, 0.15);\n",
              "      fill: #174EA6;\n",
              "    }\n",
              "\n",
              "    [theme=dark] .colab-df-convert {\n",
              "      background-color: #3B4455;\n",
              "      fill: #D2E3FC;\n",
              "    }\n",
              "\n",
              "    [theme=dark] .colab-df-convert:hover {\n",
              "      background-color: #434B5C;\n",
              "      box-shadow: 0px 1px 3px 1px rgba(0, 0, 0, 0.15);\n",
              "      filter: drop-shadow(0px 1px 2px rgba(0, 0, 0, 0.3));\n",
              "      fill: #FFFFFF;\n",
              "    }\n",
              "  </style>\n",
              "\n",
              "      <script>\n",
              "        const buttonEl =\n",
              "          document.querySelector('#df-894eb9bf-2ac3-4ae4-bcf8-9ed6d90a9c40 button.colab-df-convert');\n",
              "        buttonEl.style.display =\n",
              "          google.colab.kernel.accessAllowed ? 'block' : 'none';\n",
              "\n",
              "        async function convertToInteractive(key) {\n",
              "          const element = document.querySelector('#df-894eb9bf-2ac3-4ae4-bcf8-9ed6d90a9c40');\n",
              "          const dataTable =\n",
              "            await google.colab.kernel.invokeFunction('convertToInteractive',\n",
              "                                                     [key], {});\n",
              "          if (!dataTable) return;\n",
              "\n",
              "          const docLinkHtml = 'Like what you see? Visit the ' +\n",
              "            '<a target=\"_blank\" href=https://colab.research.google.com/notebooks/data_table.ipynb>data table notebook</a>'\n",
              "            + ' to learn more about interactive tables.';\n",
              "          element.innerHTML = '';\n",
              "          dataTable['output_type'] = 'display_data';\n",
              "          await google.colab.output.renderOutput(dataTable, element);\n",
              "          const docLink = document.createElement('div');\n",
              "          docLink.innerHTML = docLinkHtml;\n",
              "          element.appendChild(docLink);\n",
              "        }\n",
              "      </script>\n",
              "    </div>\n",
              "  </div>\n",
              "  "
            ]
          },
          "metadata": {},
          "execution_count": 53
        }
      ]
    },
    {
      "cell_type": "code",
      "source": [
        "data = feature_imp.sort_values(by='values', ascending=False).head(10) # 내림 차순으로 상위 10개만 data로 설정"
      ],
      "metadata": {
        "id": "3tuUt06VVaHN"
      },
      "execution_count": 58,
      "outputs": []
    },
    {
      "cell_type": "code",
      "source": [
        "plt.figure(figsize=(20, 10))\n",
        "sns.barplot(data=data, x='values', y='features');"
      ],
      "metadata": {
        "id": "CKaKmn3JU5FI",
        "outputId": "d34d52fd-7143-48a5-e1be-c9f3b0c2e201",
        "colab": {
          "base_uri": "https://localhost:8080/",
          "height": 606
        }
      },
      "execution_count": 59,
      "outputs": [
        {
          "output_type": "display_data",
          "data": {
            "text/plain": [
              "<Figure size 1440x720 with 1 Axes>"
            ],
            "image/png": "[encoded data removed]"
          },
          "metadata": {
            "needs_background": "light"
          }
        }
      ]
    },
    {
      "cell_type": "markdown",
      "source": [
        " - 중요하다고 나타난 변수들이 긍정적인 영향인지 부정적인 영향인지까지 보여주지 않으므로 해석에 유의"
      ],
      "metadata": {
        "id": "xusiqCm4V4SW"
      }
    },
    {
      "cell_type": "markdown",
      "source": [
        "## 이해하기 : XGBoost"
      ],
      "metadata": {
        "id": "JJWyC9x1WL_w"
      }
    },
    {
      "cell_type": "markdown",
      "source": [
        "![캡처.PNG](data:image/png;base64,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)"
      ],
      "metadata": {
        "id": "29wnhrtcYFdK"
      }
    },
    {
      "cell_type": "markdown",
      "source": [
        "### 배깅\n",
        " - 배깅은 부트스트랩 훈련셋을 사용하는 트리 모델\n",
        " - 부트스트랩 : 데이터의 일부분을 무작위로 반복 추출하는 방법\n",
        " - 랜덤 포레스트는 배깅에서 한단계 발전한 모델"
      ],
      "metadata": {
        "id": "e_X4fHzEWXO0"
      }
    },
    {
      "cell_type": "markdown",
      "source": [
        "### 부스팅과 에이다부스트\n",
        " - 부스팅은 랜덤 포레스트에서 한 단계 발전한 방법으로 역시 여러 트리를 만드는 모델\n",
        " - 랜덤 포레스트 : 각 트리를 만들 때 이전에 만든 트리와 상관없이 새로운 데이터 부분집합과 변수 부분집합을 이용\n",
        " - 부스팅 : 각 트리를 순차적으로 만들면서 이전 트리의 정보(예측결과)를 이용\n",
        "\n",
        " - 부스팅의 대표 알고리즘인 에이다 부스트 : 단계적으로 트리를 만들 때 이전 단계에서의 분류 결과에 따라 잘못 분류된 데이터에 가중치를 부여, 후속 트리 만들 때 가중치가 높은 데이터를 분류하는데 우선순위를 둠"
      ],
      "metadata": {
        "id": "uJbM0VBmWulB"
      }
    },
    {
      "cell_type": "markdown",
      "source": [
        "### 경사 부스팅과 XGBoost\n",
        " - 경사 부스팅 : 이전 모델의 에러를 기반으로 다음 트리를 만들어 감(XGBoost, LightBGM, Catbooset)\n",
        " - XGBoost : 기존 경사 부스팅에 계산 성능 최적화(병렬화, 분산 컴퓨팅, 캐시최적화 등)와 알고리즘 개선(2차 도함수 활용)\n",
        " "
      ],
      "metadata": {
        "id": "H2y3r6fyYH_3"
      }
    }
  ],
  "metadata": {
    "colab": {
      "collapsed_sections": [],
      "name": "Colaboratory에 오신 것을 환영합니다",
      "provenance": [],
      "include_colab_link": true
    },
    "kernelspec": {
      "display_name": "Python 3",
      "name": "python3"
    }
  },
  "nbformat": 4,
  "nbformat_minor": 0
}