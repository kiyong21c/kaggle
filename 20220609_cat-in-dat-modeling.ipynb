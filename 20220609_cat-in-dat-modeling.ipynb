{
  "cells": [
    {
      "cell_type": "markdown",
      "metadata": {
        "id": "view-in-github",
        "colab_type": "text"
      },
      "source": [
        "<a href=\"https://colab.research.google.com/github/kiyong21c/kaggle/blob/main/20220609_cat-in-dat-modeling.ipynb\" target=\"_parent\"><img src=\"https://colab.research.google.com/assets/colab-badge.svg\" alt=\"Open In Colab\"/></a>"
      ]
    },
    {
      "cell_type": "code",
      "source": [
        "from google.colab import drive\n",
        "drive.mount('/content/drive')"
      ],
      "metadata": {
        "id": "OPkVrkp3J7Zs",
        "outputId": "dc674c0d-aefa-4fc6-df67-614a7cc8dde7",
        "colab": {
          "base_uri": "https://localhost:8080/"
        }
      },
      "execution_count": 153,
      "outputs": [
        {
          "output_type": "stream",
          "name": "stdout",
          "text": [
            "Drive already mounted at /content/drive; to attempt to forcibly remount, call drive.mount(\"/content/drive\", force_remount=True).\n"
          ]
        }
      ]
    },
    {
      "cell_type": "markdown",
      "source": [
        "# 피처 엔지니어링\n",
        " - 머신러닝 모델은 문자 데이터를 인식하지 못함\n",
        " - 문자 → 숫자 : 인코딩\n",
        " "
      ],
      "metadata": {
        "id": "1h1AX9pgJ3dl"
      }
    },
    {
      "cell_type": "markdown",
      "source": [
        "## 데이터 합치기"
      ],
      "metadata": {
        "id": "BpHWoeVGMMpN"
      }
    },
    {
      "cell_type": "code",
      "source": [
        "import pandas as pd\n",
        "\n",
        "data_path = '/content/drive/MyDrive/Colab Notebooks/kaggle/input/cat-in-the-dat/'\n",
        "\n",
        "train = pd.read_csv(data_path + 'train.csv', index_col='id')\n",
        "test = pd.read_csv(data_path + 'test.csv', index_col='id')\n",
        "submission = pd.read_csv(data_path + 'sample_submission.csv', index_col='id')"
      ],
      "metadata": {
        "id": "lTeoQw9PJ07s"
      },
      "execution_count": 154,
      "outputs": []
    },
    {
      "cell_type": "code",
      "source": [
        "all_data = pd.concat([train, test]) # 훈련데이터와 테스트 데이터 합치기\n",
        "all_data = all_data.drop('target', axis=1) # 훈련데이터셋에 있던 타깃값 제거\n",
        "all_data"
      ],
      "metadata": {
        "id": "_K52Ap-cKUUZ",
        "outputId": "4e3b8db1-9e8e-4802-cdea-7966e5e3e474",
        "colab": {
          "base_uri": "https://localhost:8080/",
          "height": 616
        }
      },
      "execution_count": 155,
      "outputs": [
        {
          "output_type": "execute_result",
          "data": {
            "text/plain": [
              "        bin_0  bin_1  bin_2 bin_3 bin_4  nom_0      nom_1    nom_2  \\\n",
              "id                                                                   \n",
              "0           0      0      0     T     Y  Green   Triangle    Snake   \n",
              "1           0      1      0     T     Y  Green  Trapezoid  Hamster   \n",
              "2           0      0      0     F     Y   Blue  Trapezoid     Lion   \n",
              "3           0      1      0     F     Y    Red  Trapezoid    Snake   \n",
              "4           0      0      0     F     N    Red  Trapezoid     Lion   \n",
              "...       ...    ...    ...   ...   ...    ...        ...      ...   \n",
              "499995      0      0      0     F     N  Green     Square     Lion   \n",
              "499996      1      0      0     F     Y  Green  Trapezoid     Lion   \n",
              "499997      0      1      1     T     Y  Green  Trapezoid     Lion   \n",
              "499998      1      0      0     T     Y   Blue       Star  Hamster   \n",
              "499999      0      0      0     T     Y  Green       Star     Lion   \n",
              "\n",
              "             nom_3     nom_4      nom_5      nom_6      nom_7      nom_8  \\\n",
              "id                                                                         \n",
              "0          Finland   Bassoon  50f116bcf  3ac1b8814  68f6ad3e9  c389000ab   \n",
              "1           Russia     Piano  b3b4d25d0  fbcb50fc1  3b6dd5612  4cd920251   \n",
              "2           Russia  Theremin  3263bdce5  0922e3cb8  a6a36f527  de9c9f684   \n",
              "3           Canada      Oboe  f12246592  50d7ad46a  ec69236eb  4ade6ab69   \n",
              "4           Canada      Oboe  5b0f5acd5  1fe17a1fd  04ddac2be  cb43ab175   \n",
              "...            ...       ...        ...        ...        ...        ...   \n",
              "499995      Canada  Theremin  6c90f81cd  a406a5f12  d02a6b0ba  9e4b23160   \n",
              "499996       China     Piano  2d61990e2  520806ce2  d2d8eabdb  cfbd87ed0   \n",
              "499997      Canada      Oboe  488406659  28645754b  22831fffe  1108bcd6c   \n",
              "499998  Costa Rica   Bassoon  f9d17bb93  2eadb68c5  fef807a3e  606ac930b   \n",
              "499999       India     Piano  a5c276589  c135cdf77  a8f53c631  4ea576eb6   \n",
              "\n",
              "            nom_9  ord_0        ord_1        ord_2 ord_3 ord_4 ord_5  day  \\\n",
              "id                                                                          \n",
              "0       2f4cb3d51      2  Grandmaster         Cold     h     D    kr    2   \n",
              "1       f83c56c21      1  Grandmaster          Hot     a     A    bF    7   \n",
              "2       ae6800dd0      1       Expert     Lava Hot     h     R    Jc    7   \n",
              "3       8270f0d71      1  Grandmaster  Boiling Hot     i     D    kW    2   \n",
              "4       b164b72a7      1  Grandmaster     Freezing     a     R    qP    7   \n",
              "...           ...    ...          ...          ...   ...   ...   ...  ...   \n",
              "499995  acc31291f      1       Novice     Lava Hot     j     A    Gb    1   \n",
              "499996  eae3446d0      1  Contributor     Lava Hot     f     S    Ed    2   \n",
              "499997  33dd3cf4b      1       Novice  Boiling Hot     g     V    TR    3   \n",
              "499998  d4cf587dd      2  Grandmaster  Boiling Hot     g     X    Ye    2   \n",
              "499999  2d610f52c      2       Novice     Freezing     l     J    ex    2   \n",
              "\n",
              "        month  \n",
              "id             \n",
              "0           2  \n",
              "1           8  \n",
              "2           2  \n",
              "3           1  \n",
              "4           8  \n",
              "...       ...  \n",
              "499995      3  \n",
              "499996      2  \n",
              "499997      1  \n",
              "499998      1  \n",
              "499999      2  \n",
              "\n",
              "[500000 rows x 23 columns]"
            ],
            "text/html": [
              "\n",
              "  <div id=\"df-57a96e78-9093-422f-8a89-283207b9040e\">\n",
              "    <div class=\"colab-df-container\">\n",
              "      <div>\n",
              "<style scoped>\n",
              "    .dataframe tbody tr th:only-of-type {\n",
              "        vertical-align: middle;\n",
              "    }\n",
              "\n",
              "    .dataframe tbody tr th {\n",
              "        vertical-align: top;\n",
              "    }\n",
              "\n",
              "    .dataframe thead th {\n",
              "        text-align: right;\n",
              "    }\n",
              "</style>\n",
              "<table border=\"1\" class=\"dataframe\">\n",
              "  <thead>\n",
              "    <tr style=\"text-align: right;\">\n",
              "      <th></th>\n",
              "      <th>bin_0</th>\n",
              "      <th>bin_1</th>\n",
              "      <th>bin_2</th>\n",
              "      <th>bin_3</th>\n",
              "      <th>bin_4</th>\n",
              "      <th>nom_0</th>\n",
              "      <th>nom_1</th>\n",
              "      <th>nom_2</th>\n",
              "      <th>nom_3</th>\n",
              "      <th>nom_4</th>\n",
              "      <th>nom_5</th>\n",
              "      <th>nom_6</th>\n",
              "      <th>nom_7</th>\n",
              "      <th>nom_8</th>\n",
              "      <th>nom_9</th>\n",
              "      <th>ord_0</th>\n",
              "      <th>ord_1</th>\n",
              "      <th>ord_2</th>\n",
              "      <th>ord_3</th>\n",
              "      <th>ord_4</th>\n",
              "      <th>ord_5</th>\n",
              "      <th>day</th>\n",
              "      <th>month</th>\n",
              "    </tr>\n",
              "    <tr>\n",
              "      <th>id</th>\n",
              "      <th></th>\n",
              "      <th></th>\n",
              "      <th></th>\n",
              "      <th></th>\n",
              "      <th></th>\n",
              "      <th></th>\n",
              "      <th></th>\n",
              "      <th></th>\n",
              "      <th></th>\n",
              "      <th></th>\n",
              "      <th></th>\n",
              "      <th></th>\n",
              "      <th></th>\n",
              "      <th></th>\n",
              "      <th></th>\n",
              "      <th></th>\n",
              "      <th></th>\n",
              "      <th></th>\n",
              "      <th></th>\n",
              "      <th></th>\n",
              "      <th></th>\n",
              "      <th></th>\n",
              "      <th></th>\n",
              "    </tr>\n",
              "  </thead>\n",
              "  <tbody>\n",
              "    <tr>\n",
              "      <th>0</th>\n",
              "      <td>0</td>\n",
              "      <td>0</td>\n",
              "      <td>0</td>\n",
              "      <td>T</td>\n",
              "      <td>Y</td>\n",
              "      <td>Green</td>\n",
              "      <td>Triangle</td>\n",
              "      <td>Snake</td>\n",
              "      <td>Finland</td>\n",
              "      <td>Bassoon</td>\n",
              "      <td>50f116bcf</td>\n",
              "      <td>3ac1b8814</td>\n",
              "      <td>68f6ad3e9</td>\n",
              "      <td>c389000ab</td>\n",
              "      <td>2f4cb3d51</td>\n",
              "      <td>2</td>\n",
              "      <td>Grandmaster</td>\n",
              "      <td>Cold</td>\n",
              "      <td>h</td>\n",
              "      <td>D</td>\n",
              "      <td>kr</td>\n",
              "      <td>2</td>\n",
              "      <td>2</td>\n",
              "    </tr>\n",
              "    <tr>\n",
              "      <th>1</th>\n",
              "      <td>0</td>\n",
              "      <td>1</td>\n",
              "      <td>0</td>\n",
              "      <td>T</td>\n",
              "      <td>Y</td>\n",
              "      <td>Green</td>\n",
              "      <td>Trapezoid</td>\n",
              "      <td>Hamster</td>\n",
              "      <td>Russia</td>\n",
              "      <td>Piano</td>\n",
              "      <td>b3b4d25d0</td>\n",
              "      <td>fbcb50fc1</td>\n",
              "      <td>3b6dd5612</td>\n",
              "      <td>4cd920251</td>\n",
              "      <td>f83c56c21</td>\n",
              "      <td>1</td>\n",
              "      <td>Grandmaster</td>\n",
              "      <td>Hot</td>\n",
              "      <td>a</td>\n",
              "      <td>A</td>\n",
              "      <td>bF</td>\n",
              "      <td>7</td>\n",
              "      <td>8</td>\n",
              "    </tr>\n",
              "    <tr>\n",
              "      <th>2</th>\n",
              "      <td>0</td>\n",
              "      <td>0</td>\n",
              "      <td>0</td>\n",
              "      <td>F</td>\n",
              "      <td>Y</td>\n",
              "      <td>Blue</td>\n",
              "      <td>Trapezoid</td>\n",
              "      <td>Lion</td>\n",
              "      <td>Russia</td>\n",
              "      <td>Theremin</td>\n",
              "      <td>3263bdce5</td>\n",
              "      <td>0922e3cb8</td>\n",
              "      <td>a6a36f527</td>\n",
              "      <td>de9c9f684</td>\n",
              "      <td>ae6800dd0</td>\n",
              "      <td>1</td>\n",
              "      <td>Expert</td>\n",
              "      <td>Lava Hot</td>\n",
              "      <td>h</td>\n",
              "      <td>R</td>\n",
              "      <td>Jc</td>\n",
              "      <td>7</td>\n",
              "      <td>2</td>\n",
              "    </tr>\n",
              "    <tr>\n",
              "      <th>3</th>\n",
              "      <td>0</td>\n",
              "      <td>1</td>\n",
              "      <td>0</td>\n",
              "      <td>F</td>\n",
              "      <td>Y</td>\n",
              "      <td>Red</td>\n",
              "      <td>Trapezoid</td>\n",
              "      <td>Snake</td>\n",
              "      <td>Canada</td>\n",
              "      <td>Oboe</td>\n",
              "      <td>f12246592</td>\n",
              "      <td>50d7ad46a</td>\n",
              "      <td>ec69236eb</td>\n",
              "      <td>4ade6ab69</td>\n",
              "      <td>8270f0d71</td>\n",
              "      <td>1</td>\n",
              "      <td>Grandmaster</td>\n",
              "      <td>Boiling Hot</td>\n",
              "      <td>i</td>\n",
              "      <td>D</td>\n",
              "      <td>kW</td>\n",
              "      <td>2</td>\n",
              "      <td>1</td>\n",
              "    </tr>\n",
              "    <tr>\n",
              "      <th>4</th>\n",
              "      <td>0</td>\n",
              "      <td>0</td>\n",
              "      <td>0</td>\n",
              "      <td>F</td>\n",
              "      <td>N</td>\n",
              "      <td>Red</td>\n",
              "      <td>Trapezoid</td>\n",
              "      <td>Lion</td>\n",
              "      <td>Canada</td>\n",
              "      <td>Oboe</td>\n",
              "      <td>5b0f5acd5</td>\n",
              "      <td>1fe17a1fd</td>\n",
              "      <td>04ddac2be</td>\n",
              "      <td>cb43ab175</td>\n",
              "      <td>b164b72a7</td>\n",
              "      <td>1</td>\n",
              "      <td>Grandmaster</td>\n",
              "      <td>Freezing</td>\n",
              "      <td>a</td>\n",
              "      <td>R</td>\n",
              "      <td>qP</td>\n",
              "      <td>7</td>\n",
              "      <td>8</td>\n",
              "    </tr>\n",
              "    <tr>\n",
              "      <th>...</th>\n",
              "      <td>...</td>\n",
              "      <td>...</td>\n",
              "      <td>...</td>\n",
              "      <td>...</td>\n",
              "      <td>...</td>\n",
              "      <td>...</td>\n",
              "      <td>...</td>\n",
              "      <td>...</td>\n",
              "      <td>...</td>\n",
              "      <td>...</td>\n",
              "      <td>...</td>\n",
              "      <td>...</td>\n",
              "      <td>...</td>\n",
              "      <td>...</td>\n",
              "      <td>...</td>\n",
              "      <td>...</td>\n",
              "      <td>...</td>\n",
              "      <td>...</td>\n",
              "      <td>...</td>\n",
              "      <td>...</td>\n",
              "      <td>...</td>\n",
              "      <td>...</td>\n",
              "      <td>...</td>\n",
              "    </tr>\n",
              "    <tr>\n",
              "      <th>499995</th>\n",
              "      <td>0</td>\n",
              "      <td>0</td>\n",
              "      <td>0</td>\n",
              "      <td>F</td>\n",
              "      <td>N</td>\n",
              "      <td>Green</td>\n",
              "      <td>Square</td>\n",
              "      <td>Lion</td>\n",
              "      <td>Canada</td>\n",
              "      <td>Theremin</td>\n",
              "      <td>6c90f81cd</td>\n",
              "      <td>a406a5f12</td>\n",
              "      <td>d02a6b0ba</td>\n",
              "      <td>9e4b23160</td>\n",
              "      <td>acc31291f</td>\n",
              "      <td>1</td>\n",
              "      <td>Novice</td>\n",
              "      <td>Lava Hot</td>\n",
              "      <td>j</td>\n",
              "      <td>A</td>\n",
              "      <td>Gb</td>\n",
              "      <td>1</td>\n",
              "      <td>3</td>\n",
              "    </tr>\n",
              "    <tr>\n",
              "      <th>499996</th>\n",
              "      <td>1</td>\n",
              "      <td>0</td>\n",
              "      <td>0</td>\n",
              "      <td>F</td>\n",
              "      <td>Y</td>\n",
              "      <td>Green</td>\n",
              "      <td>Trapezoid</td>\n",
              "      <td>Lion</td>\n",
              "      <td>China</td>\n",
              "      <td>Piano</td>\n",
              "      <td>2d61990e2</td>\n",
              "      <td>520806ce2</td>\n",
              "      <td>d2d8eabdb</td>\n",
              "      <td>cfbd87ed0</td>\n",
              "      <td>eae3446d0</td>\n",
              "      <td>1</td>\n",
              "      <td>Contributor</td>\n",
              "      <td>Lava Hot</td>\n",
              "      <td>f</td>\n",
              "      <td>S</td>\n",
              "      <td>Ed</td>\n",
              "      <td>2</td>\n",
              "      <td>2</td>\n",
              "    </tr>\n",
              "    <tr>\n",
              "      <th>499997</th>\n",
              "      <td>0</td>\n",
              "      <td>1</td>\n",
              "      <td>1</td>\n",
              "      <td>T</td>\n",
              "      <td>Y</td>\n",
              "      <td>Green</td>\n",
              "      <td>Trapezoid</td>\n",
              "      <td>Lion</td>\n",
              "      <td>Canada</td>\n",
              "      <td>Oboe</td>\n",
              "      <td>488406659</td>\n",
              "      <td>28645754b</td>\n",
              "      <td>22831fffe</td>\n",
              "      <td>1108bcd6c</td>\n",
              "      <td>33dd3cf4b</td>\n",
              "      <td>1</td>\n",
              "      <td>Novice</td>\n",
              "      <td>Boiling Hot</td>\n",
              "      <td>g</td>\n",
              "      <td>V</td>\n",
              "      <td>TR</td>\n",
              "      <td>3</td>\n",
              "      <td>1</td>\n",
              "    </tr>\n",
              "    <tr>\n",
              "      <th>499998</th>\n",
              "      <td>1</td>\n",
              "      <td>0</td>\n",
              "      <td>0</td>\n",
              "      <td>T</td>\n",
              "      <td>Y</td>\n",
              "      <td>Blue</td>\n",
              "      <td>Star</td>\n",
              "      <td>Hamster</td>\n",
              "      <td>Costa Rica</td>\n",
              "      <td>Bassoon</td>\n",
              "      <td>f9d17bb93</td>\n",
              "      <td>2eadb68c5</td>\n",
              "      <td>fef807a3e</td>\n",
              "      <td>606ac930b</td>\n",
              "      <td>d4cf587dd</td>\n",
              "      <td>2</td>\n",
              "      <td>Grandmaster</td>\n",
              "      <td>Boiling Hot</td>\n",
              "      <td>g</td>\n",
              "      <td>X</td>\n",
              "      <td>Ye</td>\n",
              "      <td>2</td>\n",
              "      <td>1</td>\n",
              "    </tr>\n",
              "    <tr>\n",
              "      <th>499999</th>\n",
              "      <td>0</td>\n",
              "      <td>0</td>\n",
              "      <td>0</td>\n",
              "      <td>T</td>\n",
              "      <td>Y</td>\n",
              "      <td>Green</td>\n",
              "      <td>Star</td>\n",
              "      <td>Lion</td>\n",
              "      <td>India</td>\n",
              "      <td>Piano</td>\n",
              "      <td>a5c276589</td>\n",
              "      <td>c135cdf77</td>\n",
              "      <td>a8f53c631</td>\n",
              "      <td>4ea576eb6</td>\n",
              "      <td>2d610f52c</td>\n",
              "      <td>2</td>\n",
              "      <td>Novice</td>\n",
              "      <td>Freezing</td>\n",
              "      <td>l</td>\n",
              "      <td>J</td>\n",
              "      <td>ex</td>\n",
              "      <td>2</td>\n",
              "      <td>2</td>\n",
              "    </tr>\n",
              "  </tbody>\n",
              "</table>\n",
              "<p>500000 rows × 23 columns</p>\n",
              "</div>\n",
              "      <button class=\"colab-df-convert\" onclick=\"convertToInteractive('df-57a96e78-9093-422f-8a89-283207b9040e')\"\n",
              "              title=\"Convert this dataframe to an interactive table.\"\n",
              "              style=\"display:none;\">\n",
              "        \n",
              "  <svg xmlns=\"http://www.w3.org/2000/svg\" height=\"24px\"viewBox=\"0 0 24 24\"\n",
              "       width=\"24px\">\n",
              "    <path d=\"M0 0h24v24H0V0z\" fill=\"none\"/>\n",
              "    <path d=\"M18.56 5.44l.94 2.06.94-2.06 2.06-.94-2.06-.94-.94-2.06-.94 2.06-2.06.94zm-11 1L8.5 8.5l.94-2.06 2.06-.94-2.06-.94L8.5 2.5l-.94 2.06-2.06.94zm10 10l.94 2.06.94-2.06 2.06-.94-2.06-.94-.94-2.06-.94 2.06-2.06.94z\"/><path d=\"M17.41 7.96l-1.37-1.37c-.4-.4-.92-.59-1.43-.59-.52 0-1.04.2-1.43.59L10.3 9.45l-7.72 7.72c-.78.78-.78 2.05 0 2.83L4 21.41c.39.39.9.59 1.41.59.51 0 1.02-.2 1.41-.59l7.78-7.78 2.81-2.81c.8-.78.8-2.07 0-2.86zM5.41 20L4 18.59l7.72-7.72 1.47 1.35L5.41 20z\"/>\n",
              "  </svg>\n",
              "      </button>\n",
              "      \n",
              "  <style>\n",
              "    .colab-df-container {\n",
              "      display:flex;\n",
              "      flex-wrap:wrap;\n",
              "      gap: 12px;\n",
              "    }\n",
              "\n",
              "    .colab-df-convert {\n",
              "      background-color: #E8F0FE;\n",
              "      border: none;\n",
              "      border-radius: 50%;\n",
              "      cursor: pointer;\n",
              "      display: none;\n",
              "      fill: #1967D2;\n",
              "      height: 32px;\n",
              "      padding: 0 0 0 0;\n",
              "      width: 32px;\n",
              "    }\n",
              "\n",
              "    .colab-df-convert:hover {\n",
              "      background-color: #E2EBFA;\n",
              "      box-shadow: 0px 1px 2px rgba(60, 64, 67, 0.3), 0px 1px 3px 1px rgba(60, 64, 67, 0.15);\n",
              "      fill: #174EA6;\n",
              "    }\n",
              "\n",
              "    [theme=dark] .colab-df-convert {\n",
              "      background-color: #3B4455;\n",
              "      fill: #D2E3FC;\n",
              "    }\n",
              "\n",
              "    [theme=dark] .colab-df-convert:hover {\n",
              "      background-color: #434B5C;\n",
              "      box-shadow: 0px 1px 3px 1px rgba(0, 0, 0, 0.15);\n",
              "      filter: drop-shadow(0px 1px 2px rgba(0, 0, 0, 0.3));\n",
              "      fill: #FFFFFF;\n",
              "    }\n",
              "  </style>\n",
              "\n",
              "      <script>\n",
              "        const buttonEl =\n",
              "          document.querySelector('#df-57a96e78-9093-422f-8a89-283207b9040e button.colab-df-convert');\n",
              "        buttonEl.style.display =\n",
              "          google.colab.kernel.accessAllowed ? 'block' : 'none';\n",
              "\n",
              "        async function convertToInteractive(key) {\n",
              "          const element = document.querySelector('#df-57a96e78-9093-422f-8a89-283207b9040e');\n",
              "          const dataTable =\n",
              "            await google.colab.kernel.invokeFunction('convertToInteractive',\n",
              "                                                     [key], {});\n",
              "          if (!dataTable) return;\n",
              "\n",
              "          const docLinkHtml = 'Like what you see? Visit the ' +\n",
              "            '<a target=\"_blank\" href=https://colab.research.google.com/notebooks/data_table.ipynb>data table notebook</a>'\n",
              "            + ' to learn more about interactive tables.';\n",
              "          element.innerHTML = '';\n",
              "          dataTable['output_type'] = 'display_data';\n",
              "          await google.colab.output.renderOutput(dataTable, element);\n",
              "          const docLink = document.createElement('div');\n",
              "          docLink.innerHTML = docLinkHtml;\n",
              "          element.appendChild(docLink);\n",
              "        }\n",
              "      </script>\n",
              "    </div>\n",
              "  </div>\n",
              "  "
            ]
          },
          "metadata": {},
          "execution_count": 155
        }
      ]
    },
    {
      "cell_type": "markdown",
      "source": [
        " - **문자로 구성된 피처는 반드시 인코딩**\n",
        " - 하지않으면 모델 훈련 불가\n",
        " - 숫자로 구성된 피처도 성능향상을 위해 인코딩하기도 함\n",
        " - 여기서는 편의상 모든 피처 인코딩"
      ],
      "metadata": {
        "id": "8VN2p3AxKw-i"
      }
    },
    {
      "cell_type": "code",
      "source": [
        "from sklearn.preprocessing import OneHotEncoder\n",
        "\n",
        "encoder = OneHotEncoder() # 원-핫 인코더 생성\n",
        "all_data_encoded = encoder.fit_transform(all_data) # 원-핫 인코딩 적용"
      ],
      "metadata": {
        "id": "SA6sfN1pKpes"
      },
      "execution_count": 156,
      "outputs": []
    },
    {
      "cell_type": "markdown",
      "source": [
        "## 데이터 나누기\n",
        " - 공통으로 인코딩 적용 후 다시 훈련데이터와 테스트 데이터 나누기\n",
        " - 훈련데이터에서 다시 일부를 검증데이터로 나누기"
      ],
      "metadata": {
        "id": "u_qqbniCMPQn"
      }
    },
    {
      "cell_type": "code",
      "source": [
        "num_train = len(train) # 300,000\n",
        "\n",
        "X_train = all_data_encoded[:num_train]\n",
        "X_test = all_data_encoded[num_train:]\n",
        "\n",
        "y = train['target']"
      ],
      "metadata": {
        "id": "Q0hmrQ5uLUFE"
      },
      "execution_count": 172,
      "outputs": []
    },
    {
      "cell_type": "markdown",
      "source": [
        " - 훈련데이터와 검증데이터를 나눌때는 train_test_split() 함수 사용\n",
        " - 타깃값 공정 배분 여부, 훈련/검증 데이터 비율, 데이터 무작위 추출 등을 설정 할 수 있기때문"
      ],
      "metadata": {
        "id": "0frQ8GF1NNY4"
      }
    },
    {
      "cell_type": "code",
      "source": [
        "from sklearn.model_selection import train_test_split\n",
        "\n",
        "X_train, X_valid, y_train, y_valid = train_test_split(X_train, y,\n",
        "                                                      test_size=0.1, # 10%만 검증데이터로 배분\n",
        "                                                      stratify=y, # y 즉, 타깃값이 훈련/검증 데이터 각각에 같은 비율로 포함되게끔 배분\n",
        "                                                      random_state=10)"
      ],
      "metadata": {
        "id": "ERBmFhEzMh7l"
      },
      "execution_count": 173,
      "outputs": []
    },
    {
      "cell_type": "markdown",
      "source": [
        "## 모델 훈련\n",
        " - 로지스틱 회귀 모델 : 분류 모델\n",
        " "
      ],
      "metadata": {
        "id": "IB61YhhwcYpn"
      }
    },
    {
      "cell_type": "code",
      "source": [
        "from sklearn.linear_model import LogisticRegression\n",
        "\n",
        "logistic_model = LogisticRegression(max_iter=1000, random_state=42)\n",
        "history = logistic_model.fit(X_train, y_train)"
      ],
      "metadata": {
        "id": "H6P8MtWKckH6"
      },
      "execution_count": 175,
      "outputs": []
    },
    {
      "cell_type": "markdown",
      "source": [
        "## 모델 성능 검증\n",
        " - predict() : 타깃값 자체(0 또는 1)를 예측\n",
        " - predict_proba() : 타깃값의 확률(0일 확률, 1일 확률)을 예측"
      ],
      "metadata": {
        "id": "nhiZftUmb6sk"
      }
    },
    {
      "cell_type": "code",
      "source": [
        "logistic_model.predict_proba(X_valid) # 첫번째 열은 0, 두번째 열은 1일 확률"
      ],
      "metadata": {
        "id": "x_VLbmjPOQHf",
        "outputId": "65a8d3a9-77c9-4c9d-b305-05039085be28",
        "colab": {
          "base_uri": "https://localhost:8080/"
        }
      },
      "execution_count": 191,
      "outputs": [
        {
          "output_type": "execute_result",
          "data": {
            "text/plain": [
              "array([[0.2327832 , 0.7672168 ],\n",
              "       [0.91405072, 0.08594928],\n",
              "       [0.83025789, 0.16974211],\n",
              "       ...,\n",
              "       [0.24862988, 0.75137012],\n",
              "       [0.49420097, 0.50579903],\n",
              "       [0.9565535 , 0.0434465 ]])"
            ]
          },
          "metadata": {},
          "execution_count": 191
        }
      ]
    },
    {
      "cell_type": "code",
      "source": [
        "logistic_model.predict(X_valid) # 높은 확률의 타깃값을 예측"
      ],
      "metadata": {
        "id": "FDNdF6f5g4L-",
        "outputId": "80562f11-5aca-49d6-9177-82135225e3b0",
        "colab": {
          "base_uri": "https://localhost:8080/"
        }
      },
      "execution_count": 194,
      "outputs": [
        {
          "output_type": "execute_result",
          "data": {
            "text/plain": [
              "array([1, 0, 0, ..., 1, 1, 0])"
            ]
          },
          "metadata": {},
          "execution_count": 194
        }
      ]
    },
    {
      "cell_type": "markdown",
      "source": [
        " - 본 대회에서는 타깃값이 1일 '확률'을 예측해야함\n",
        " - 따라서 predict_proba() 메서드로 예측한 결과의 두번째 열을 타깃 예측값으로 사용"
      ],
      "metadata": {
        "id": "Vimk66GqhUCD"
      }
    },
    {
      "cell_type": "code",
      "source": [
        "y_valid_preds = logistic_model.predict_proba(X_valid)[:, 1]"
      ],
      "metadata": {
        "id": "hdQB49skg6ZS"
      },
      "execution_count": 195,
      "outputs": []
    },
    {
      "cell_type": "markdown",
      "source": [
        " - 타깃 예측값인 y_valid_preds와 실제 타깃값인 y_valid를 이용해 ROC AUC를 구함 : 모델 성능 검증\n",
        " - ROC AUC 점수는 사이킷런 : roc_auc_score() 함수 이용"
      ],
      "metadata": {
        "id": "tloEiAfZiUqZ"
      }
    },
    {
      "cell_type": "code",
      "source": [
        "from sklearn.metrics import roc_auc_score # ROC AUC 점수 계산 함수\n",
        "\n",
        "roc_acu = roc_auc_score(y_valid, y_valid_preds)\n",
        "\n",
        "print(f'검증 데이터 ROC AUC : {roc_acu:.4f}') # 소수점 4자리 까지 표시"
      ],
      "metadata": {
        "id": "AvTY12r-hjW4",
        "outputId": "91a5748a-870e-4701-ca54-382043c6b88b",
        "colab": {
          "base_uri": "https://localhost:8080/"
        }
      },
      "execution_count": 196,
      "outputs": [
        {
          "output_type": "stream",
          "name": "stdout",
          "text": [
            "검증 데이터 ROC AUC : 0.7965\n"
          ]
        }
      ]
    },
    {
      "cell_type": "markdown",
      "source": [
        "## 예측 및 결과 제출\n",
        " - 검증 데이터가 아닌 실제 테스트 데이터 활용해 타깃값 1일 확률 예측"
      ],
      "metadata": {
        "id": "JGtliP-jjSo2"
      }
    },
    {
      "cell_type": "code",
      "source": [
        "y_preds = logistic_model.predict_proba(X_test)[:, 1]"
      ],
      "metadata": {
        "id": "9ZJ5sYMPjQhO"
      },
      "execution_count": 197,
      "outputs": []
    },
    {
      "cell_type": "markdown",
      "source": [
        " - 훈련을 훈련세트의 90%만 썻음..\n",
        " - 검증세트로 10% 떼어 놓음 : 성능에 영향은 없는지?\n"
      ],
      "metadata": {
        "id": "ujiRGDJ-j46Z"
      }
    },
    {
      "cell_type": "code",
      "source": [
        "submission['target'] = y_preds\n",
        "submission.to_csv(data_path + 'submission.csv')"
      ],
      "metadata": {
        "id": "GkHymxYhj360"
      },
      "execution_count": 198,
      "outputs": []
    },
    {
      "cell_type": "markdown",
      "source": [
        " - 프라이빗 점수, 퍼블릭 점수가 낮게 나옴\n",
        " - 다음 절에서 모델 성능을 향상 시켜봄"
      ],
      "metadata": {
        "id": "iDfmfhZLkhca"
      }
    },
    {
      "cell_type": "markdown",
      "source": [
        "# 성능 개선\n",
        " - 피처 엔지니어링 : 피처 맞춤 인코딩, 피처 스케일링\n",
        " - 하이퍼 파라미터 최적화 : 그리드 서치"
      ],
      "metadata": {
        "id": "bdj-orwLkvU3"
      }
    },
    {
      "cell_type": "code",
      "source": [
        ""
      ],
      "metadata": {
        "id": "cCVS4-wmkeZX"
      },
      "execution_count": null,
      "outputs": []
    }
  ],
  "metadata": {
    "colab": {
      "collapsed_sections": [],
      "name": "Colaboratory에 오신 것을 환영합니다",
      "provenance": [],
      "include_colab_link": true
    },
    "kernelspec": {
      "display_name": "Python 3",
      "name": "python3"
    }
  },
  "nbformat": 4,
  "nbformat_minor": 0
}