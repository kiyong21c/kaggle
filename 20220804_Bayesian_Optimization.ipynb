{
  "cells": [
    {
      "cell_type": "markdown",
      "metadata": {
        "id": "view-in-github",
        "colab_type": "text"
      },
      "source": [
        "<a href=\"https://colab.research.google.com/github/kiyong21c/kaggle/blob/main/20220804_Bayesian_Optimization.ipynb\" target=\"_parent\"><img src=\"https://colab.research.google.com/assets/colab-badge.svg\" alt=\"Open In Colab\"/></a>"
      ]
    },
    {
      "cell_type": "markdown",
      "source": [
        "# 베이지안 최적화(BayesianOptimization)"
      ],
      "metadata": {
        "id": "IoowgevVFeeF"
      }
    },
    {
      "cell_type": "markdown",
      "source": [
        "## 1) 하이퍼파라미터 탐색 범위 설정(딕셔너리 형태)"
      ],
      "metadata": {
        "id": "S9JlK5xeFlmN"
      }
    },
    {
      "cell_type": "code",
      "source": [
        "param_bounds = {'x':(-1, 5),\n",
        "                'y':(0, 4)}\n",
        "# 딕셔너리 key : 하이퍼파라미터 이름\n",
        "# 딕셔너리 value : 하이퍼파라미터 범위(튜플 형태), (-1, 5) → -1~5 사이 탐색"
      ],
      "metadata": {
        "id": "c-cN-V5-Fd4F"
      },
      "execution_count": 1,
      "outputs": []
    },
    {
      "cell_type": "markdown",
      "source": [
        "## 2) 평가지표 계산 함수 정의\n",
        " - 베이지안 최적화는 평가지표 계산 함수로 구한 평가점수를 최대화 하는 하이퍼파라미터 탐색\n",
        " - 실제 최적의 하이퍼파라미터는 아닐지라도 최적일 가능성이 높다"
      ],
      "metadata": {
        "id": "lxcg8Z46GJTB"
      }
    },
    {
      "cell_type": "code",
      "source": [
        "# 평가지표 계산 함수\n",
        "def eval_function(x, y):\n",
        "    return -x ** 2 - (y-2) ** 2 + 10"
      ],
      "metadata": {
        "id": "DMR9yb9bGHqx"
      },
      "execution_count": 2,
      "outputs": []
    },
    {
      "cell_type": "markdown",
      "source": [
        "## 3) 베이지안 최적화 객체 생성\n",
        " - 파라미터 f : 최대화하려는 평가지표 계산함수 이름 전달\n",
        " - 파라미터 pbounds : 하이퍼파라미터 탐색 범위 전달"
      ],
      "metadata": {
        "id": "I1-3CQcgGrJs"
      }
    },
    {
      "cell_type": "code",
      "source": [
        "!pip install bayesian-optimization"
      ],
      "metadata": {
        "id": "7sdWR_l5H7g6"
      },
      "execution_count": null,
      "outputs": []
    },
    {
      "cell_type": "code",
      "source": [
        "from bayes_opt import BayesianOptimization\n",
        "\n",
        "# 베이지안 최적화 객체 생성\n",
        "optimizer = BayesianOptimization(f=eval_function, # 평가지표 계산 함수 이름\n",
        "                                 pbounds=param_bounds,\n",
        "                                 random_state=0) # 하이퍼파라미터 탐색 범위"
      ],
      "metadata": {
        "id": "aHKb49RSGpqA"
      },
      "execution_count": 5,
      "outputs": []
    },
    {
      "cell_type": "markdown",
      "source": [
        "## 4) 최적화 수행\n",
        " - 파라미터 init_points : 랜덤 탐색을 수행할 스텝 횟수\n",
        " - 파라미터 n_iter : 베이지안 최적화를 수행할 스텝 횟수\n",
        "\n",
        " - 총 스텝 횟수는 init_points + n_iter"
      ],
      "metadata": {
        "id": "buhOAdVZIARB"
      }
    },
    {
      "cell_type": "code",
      "source": [
        "# 베이지안 최적화 수행\n",
        "optimizer.maximize(init_points=2, n_iter=10)"
      ],
      "metadata": {
        "id": "f9W2IixXHx4g",
        "outputId": "faaebc66-b45a-4f9b-afac-8fd36db43adf",
        "colab": {
          "base_uri": "https://localhost:8080/"
        }
      },
      "execution_count": 6,
      "outputs": [
        {
          "output_type": "stream",
          "name": "stdout",
          "text": [
            "|   iter    |  target   |     x     |     y     |\n",
            "-------------------------------------------------\n",
            "| \u001b[0m 1       \u001b[0m | \u001b[0m 4.002   \u001b[0m | \u001b[0m 2.293   \u001b[0m | \u001b[0m 2.861   \u001b[0m |\n",
            "| \u001b[0m 2       \u001b[0m | \u001b[0m 3.121   \u001b[0m | \u001b[0m 2.617   \u001b[0m | \u001b[0m 2.18    \u001b[0m |\n",
            "| \u001b[0m 3       \u001b[0m | \u001b[0m 3.832   \u001b[0m | \u001b[0m 2.327   \u001b[0m | \u001b[0m 2.869   \u001b[0m |\n",
            "| \u001b[95m 4       \u001b[0m | \u001b[95m 4.596   \u001b[0m | \u001b[95m 2.171   \u001b[0m | \u001b[95m 2.832   \u001b[0m |\n",
            "| \u001b[0m 5       \u001b[0m | \u001b[0m-6.227   \u001b[0m | \u001b[0m 3.989   \u001b[0m | \u001b[0m 2.559   \u001b[0m |\n",
            "| \u001b[95m 6       \u001b[0m | \u001b[95m 9.467   \u001b[0m | \u001b[95m 0.3522  \u001b[0m | \u001b[95m 1.361   \u001b[0m |\n",
            "| \u001b[0m 7       \u001b[0m | \u001b[0m 7.39    \u001b[0m | \u001b[0m-1.0     \u001b[0m | \u001b[0m 3.269   \u001b[0m |\n",
            "| \u001b[0m 8       \u001b[0m | \u001b[0m 5.0     \u001b[0m | \u001b[0m-1.0     \u001b[0m | \u001b[0m 0.0     \u001b[0m |\n",
            "| \u001b[0m 9       \u001b[0m | \u001b[0m 3.841   \u001b[0m | \u001b[0m 1.469   \u001b[0m | \u001b[0m 0.0     \u001b[0m |\n",
            "| \u001b[0m 10      \u001b[0m | \u001b[0m 8.966   \u001b[0m | \u001b[0m-1.0     \u001b[0m | \u001b[0m 1.817   \u001b[0m |\n",
            "| \u001b[95m 11      \u001b[0m | \u001b[95m 9.737   \u001b[0m | \u001b[95m 0.1806  \u001b[0m | \u001b[95m 2.48    \u001b[0m |\n",
            "| \u001b[0m 12      \u001b[0m | \u001b[0m 5.785   \u001b[0m | \u001b[0m 0.4638  \u001b[0m | \u001b[0m 4.0     \u001b[0m |\n",
            "=================================================\n"
          ]
        }
      ]
    },
    {
      "cell_type": "markdown",
      "source": [
        " - 빨간색 출력 : 평가 함수 점수가 기존 최댓값 갱신\n",
        " - 마지막 빨간색 출력 : 평가 함수 점수가 전체에서 최댓값\n",
        "\n",
        "  > 베이지안 최적화 객체의 max 속성에 저장됨"
      ],
      "metadata": {
        "id": "u3LFgaLZImFZ"
      }
    },
    {
      "cell_type": "code",
      "source": [
        "# 평가점수가 최대일 때 값(target), x, y값 출력\n",
        "optimizer.max"
      ],
      "metadata": {
        "id": "2BpzKz-FIc8I",
        "outputId": "8a8f7b45-dab9-45fa-b2a1-668fd4470614",
        "colab": {
          "base_uri": "https://localhost:8080/"
        }
      },
      "execution_count": 8,
      "outputs": [
        {
          "output_type": "execute_result",
          "data": {
            "text/plain": [
              "{'params': {'x': 0.18063750530344547, 'y': 2.479878502917653},\n",
              " 'target': 9.737086714115259}"
            ]
          },
          "metadata": {},
          "execution_count": 8
        }
      ]
    },
    {
      "cell_type": "code",
      "source": [
        ""
      ],
      "metadata": {
        "id": "rYlftGo5JW3S"
      },
      "execution_count": null,
      "outputs": []
    }
  ],
  "metadata": {
    "colab": {
      "collapsed_sections": [],
      "name": "Colaboratory에 오신 것을 환영합니다",
      "provenance": [],
      "include_colab_link": true
    },
    "kernelspec": {
      "display_name": "Python 3",
      "name": "python3"
    }
  },
  "nbformat": 4,
  "nbformat_minor": 0
}