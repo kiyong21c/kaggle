{
 "cells": [
  {
   "cell_type": "markdown",
   "id": "e5f40430",
   "metadata": {
    "id": "LgPw8VXFaXAz",
    "papermill": {
     "duration": 0.021198,
     "end_time": "2022-08-02T04:39:41.949260",
     "exception": false,
     "start_time": "2022-08-02T04:39:41.928062",
     "status": "completed"
    },
    "tags": []
   },
   "source": [
    "# 13.3 흉부 엑스선 기반 폐렴 진단 베이스라인 모델\n",
    "[흉부 엑스선 기반 폐렴 진단 데이터 세트 링크](https://www.kaggle.com/paultimothymooney/chest-xray-pneumonia)"
   ]
  },
  {
   "cell_type": "markdown",
   "id": "5b418252",
   "metadata": {
    "papermill": {
     "duration": 0.021187,
     "end_time": "2022-08-02T04:39:41.991749",
     "exception": false,
     "start_time": "2022-08-02T04:39:41.970562",
     "status": "completed"
    },
    "tags": []
   },
   "source": [
    "## 13.3.1 시드 값 고정 및 GPU 장비 설정"
   ]
  },
  {
   "cell_type": "markdown",
   "id": "17038c5e",
   "metadata": {
    "papermill": {
     "duration": 0.019407,
     "end_time": "2022-08-02T04:39:42.030867",
     "exception": false,
     "start_time": "2022-08-02T04:39:42.011460",
     "status": "completed"
    },
    "tags": []
   },
   "source": [
    "### 시드값 고정"
   ]
  },
  {
   "cell_type": "code",
   "execution_count": 1,
   "id": "0e46c0b1",
   "metadata": {
    "execution": {
     "iopub.execute_input": "2022-08-02T04:39:42.153454Z",
     "iopub.status.busy": "2022-08-02T04:39:42.152717Z",
     "iopub.status.idle": "2022-08-02T04:39:46.719541Z",
     "shell.execute_reply": "2022-08-02T04:39:46.718903Z",
     "shell.execute_reply.started": "2022-07-29T06:12:04.145873Z"
    },
    "papermill": {
     "duration": 4.669179,
     "end_time": "2022-08-02T04:39:46.719709",
     "exception": false,
     "start_time": "2022-08-02T04:39:42.050530",
     "status": "completed"
    },
    "tags": []
   },
   "outputs": [],
   "source": [
    "import torch # 파이토치 \n",
    "import random\n",
    "import numpy as np\n",
    "import os\n",
    "\n",
    "# 시드값 고정\n",
    "seed = 50\n",
    "os.environ['PYTHONHASHSEED'] = str(seed)\n",
    "random.seed(seed)\n",
    "np.random.seed(seed)\n",
    "torch.manual_seed(seed)\n",
    "torch.cuda.manual_seed(seed)\n",
    "torch.cuda.manual_seed_all(seed)\n",
    "torch.backends.cudnn.deterministic = True\n",
    "torch.backends.cudnn.benchmark = False\n",
    "torch.backends.cudnn.enabled = False"
   ]
  },
  {
   "cell_type": "markdown",
   "id": "105e80ef",
   "metadata": {
    "papermill": {
     "duration": 0.020073,
     "end_time": "2022-08-02T04:39:46.759880",
     "exception": false,
     "start_time": "2022-08-02T04:39:46.739807",
     "status": "completed"
    },
    "tags": []
   },
   "source": [
    "### GPU 장비 설정"
   ]
  },
  {
   "cell_type": "code",
   "execution_count": 2,
   "id": "626c8ae8",
   "metadata": {
    "execution": {
     "iopub.execute_input": "2022-08-02T04:39:46.863244Z",
     "iopub.status.busy": "2022-08-02T04:39:46.862388Z",
     "iopub.status.idle": "2022-08-02T04:39:46.864978Z",
     "shell.execute_reply": "2022-08-02T04:39:46.864564Z",
     "shell.execute_reply.started": "2022-07-29T06:12:13.211979Z"
    },
    "id": "awnsaF1oX31Q",
    "papermill": {
     "duration": 0.085733,
     "end_time": "2022-08-02T04:39:46.865107",
     "exception": false,
     "start_time": "2022-08-02T04:39:46.779374",
     "status": "completed"
    },
    "tags": []
   },
   "outputs": [],
   "source": [
    "device = torch.device('cuda' if torch.cuda.is_available() else 'cpu')"
   ]
  },
  {
   "cell_type": "markdown",
   "id": "fa5e59a6",
   "metadata": {
    "papermill": {
     "duration": 0.019583,
     "end_time": "2022-08-02T04:39:46.904316",
     "exception": false,
     "start_time": "2022-08-02T04:39:46.884733",
     "status": "completed"
    },
    "tags": []
   },
   "source": [
    "## 13.3.2 데이터 준비"
   ]
  },
  {
   "cell_type": "code",
   "execution_count": 3,
   "id": "73d8e47e",
   "metadata": {
    "execution": {
     "iopub.execute_input": "2022-08-02T04:39:46.985679Z",
     "iopub.status.busy": "2022-08-02T04:39:46.984711Z",
     "iopub.status.idle": "2022-08-02T04:39:46.986713Z",
     "shell.execute_reply": "2022-08-02T04:39:46.987561Z",
     "shell.execute_reply.started": "2022-07-29T06:12:16.382348Z"
    },
    "id": "X7_nIWRQeNJl",
    "outputId": "8e55199d-0a5c-4d9c-c0aa-7223177d814c",
    "papermill": {
     "duration": 0.047748,
     "end_time": "2022-08-02T04:39:46.987785",
     "exception": false,
     "start_time": "2022-08-02T04:39:46.940037",
     "status": "completed"
    },
    "tags": []
   },
   "outputs": [],
   "source": [
    "# 데이터 경로\n",
    "data_path = '/kaggle/input/chest-xray-pneumonia/chest_xray/'\n",
    "\n",
    "# 훈련, 검증, 테스트 데이터 경로 설정\n",
    "train_path = data_path + 'train/'\n",
    "valid_path = data_path + 'val/'\n",
    "test_path = data_path + 'test/'"
   ]
  },
  {
   "cell_type": "markdown",
   "id": "4a7125a4",
   "metadata": {
    "papermill": {
     "duration": 0.041697,
     "end_time": "2022-08-02T04:39:47.070145",
     "exception": false,
     "start_time": "2022-08-02T04:39:47.028448",
     "status": "completed"
    },
    "tags": []
   },
   "source": [
    "### 데이터 증강을 위한 이미지 변환기 정의"
   ]
  },
  {
   "cell_type": "code",
   "execution_count": 4,
   "id": "ace4acd0",
   "metadata": {
    "execution": {
     "iopub.execute_input": "2022-08-02T04:39:47.148611Z",
     "iopub.status.busy": "2022-08-02T04:39:47.147737Z",
     "iopub.status.idle": "2022-08-02T04:39:47.318853Z",
     "shell.execute_reply": "2022-08-02T04:39:47.319895Z",
     "shell.execute_reply.started": "2022-07-29T06:17:33.680990Z"
    },
    "id": "44_8AKyqasl9",
    "papermill": {
     "duration": 0.220319,
     "end_time": "2022-08-02T04:39:47.320109",
     "exception": false,
     "start_time": "2022-08-02T04:39:47.099790",
     "status": "completed"
    },
    "tags": []
   },
   "outputs": [],
   "source": [
    "from torchvision import transforms\n",
    "\n",
    "# 훈련 데이터용 변환기\n",
    "transform_train = transforms.Compose([\n",
    "                          transforms.Resize((250, 250)),      # 이미지 크기 조정 \n",
    "                          transforms.CenterCrop(180),         # 중앙 이미지 확대\n",
    "                          transforms.RandomHorizontalFlip(0.5), # 좌우 대칭\n",
    "                          transforms.RandomVerticalFlip(0.2), # 상하 대칭\n",
    "                          transforms.RandomRotation(20),      # 이미지 회전\n",
    "                          transforms.ToTensor(),              # 텐서 객체로 변환\n",
    "                          transforms.Normalize((0.485, 0.456, 0.406), \n",
    "                                               (0.229, 0.224, 0.225))]) # 정규화\n",
    "\n",
    "# 테스트 데이터용 변환기\n",
    "transform_test = transforms.Compose([\n",
    "                          transforms.Resize((250, 250)),\n",
    "                          transforms.CenterCrop(180),\n",
    "                          transforms.ToTensor(),\n",
    "                          transforms.Normalize((0.485, 0.456, 0.406), \n",
    "                                               (0.229, 0.224, 0.225))])"
   ]
  },
  {
   "cell_type": "markdown",
   "id": "c499ff6f",
   "metadata": {
    "papermill": {
     "duration": 0.032434,
     "end_time": "2022-08-02T04:39:47.385244",
     "exception": false,
     "start_time": "2022-08-02T04:39:47.352810",
     "status": "completed"
    },
    "tags": []
   },
   "source": [
    "### 데이터셋 및 데이터 로더 생성\n",
    " - 데이터셋 클래스를 직접 정의(오버라이딩)할 필요 없음\n",
    " - **ImageFolder라는 데이터셋 생성기를 사용**하기 때문\n",
    " \n",
    "  > 타깃값이 같은 이미지끼리 디렉토리로 구분되어 있는경우 활용\n",
    "   - 정상데이터의 디렉토리(NORMAL)에 담긴 이미지 -> 타깃값 0으로 간주\n",
    "   - 폐렴데이터의 디렉토리(PNEUMONIA)에 담긴 이미지 -> 타깃값 1로 간주\n",
    "   \n",
    "  > ImageFolder 라이브러리는 torchvision.transforms로 만든 변환기만 받도록 설계됨"
   ]
  },
  {
   "cell_type": "code",
   "execution_count": 5,
   "id": "176d56cc",
   "metadata": {
    "execution": {
     "iopub.execute_input": "2022-08-02T04:39:47.451353Z",
     "iopub.status.busy": "2022-08-02T04:39:47.449434Z",
     "iopub.status.idle": "2022-08-02T04:39:48.932672Z",
     "shell.execute_reply": "2022-08-02T04:39:48.932100Z",
     "shell.execute_reply.started": "2022-07-29T06:24:21.629132Z"
    },
    "id": "p_OqCRWUasi7",
    "papermill": {
     "duration": 1.516375,
     "end_time": "2022-08-02T04:39:48.932823",
     "exception": false,
     "start_time": "2022-08-02T04:39:47.416448",
     "status": "completed"
    },
    "tags": []
   },
   "outputs": [],
   "source": [
    "from torchvision.datasets import ImageFolder\n",
    "\n",
    "# 훈련 데이터셋\n",
    "datasets_train = ImageFolder(root=train_path, transform=transform_train)\n",
    "# 검증 데이터셋\n",
    "datasets_valid = ImageFolder(root=valid_path, transform=transform_test) "
   ]
  },
  {
   "cell_type": "code",
   "execution_count": 6,
   "id": "3fb866ee",
   "metadata": {
    "execution": {
     "iopub.execute_input": "2022-08-02T04:39:48.977588Z",
     "iopub.status.busy": "2022-08-02T04:39:48.977006Z",
     "iopub.status.idle": "2022-08-02T04:39:49.133089Z",
     "shell.execute_reply": "2022-08-02T04:39:49.133557Z",
     "shell.execute_reply.started": "2022-07-29T06:25:17.440706Z"
    },
    "papermill": {
     "duration": 0.180275,
     "end_time": "2022-08-02T04:39:49.133713",
     "exception": false,
     "start_time": "2022-08-02T04:39:48.953438",
     "status": "completed"
    },
    "tags": []
   },
   "outputs": [
    {
     "name": "stdout",
     "output_type": "stream",
     "text": [
      "torch.Size([3, 180, 180])\n",
      "0\n"
     ]
    }
   ],
   "source": [
    "for image, target in datasets_train: # 훈련 데이터셋은 image, target을 return\n",
    "    print(image.shape)\n",
    "    print(target)\n",
    "    break"
   ]
  },
  {
   "cell_type": "code",
   "execution_count": 7,
   "id": "b4482224",
   "metadata": {
    "execution": {
     "iopub.execute_input": "2022-08-02T04:39:49.182379Z",
     "iopub.status.busy": "2022-08-02T04:39:49.181474Z",
     "iopub.status.idle": "2022-08-02T04:39:49.184976Z",
     "shell.execute_reply": "2022-08-02T04:39:49.185413Z",
     "shell.execute_reply.started": "2022-07-29T06:29:58.690791Z"
    },
    "papermill": {
     "duration": 0.030842,
     "end_time": "2022-08-02T04:39:49.185556",
     "exception": false,
     "start_time": "2022-08-02T04:39:49.154714",
     "status": "completed"
    },
    "tags": []
   },
   "outputs": [
    {
     "data": {
      "text/plain": [
       "<torch._C.Generator at 0x7f086b6b3370>"
      ]
     },
     "execution_count": 7,
     "metadata": {},
     "output_type": "execute_result"
    }
   ],
   "source": [
    "def seed_worker(worker_id):\n",
    "    worker_seed = torch.initial_seed() % 2**32\n",
    "    np.random.seed(worker_seed)\n",
    "    random.seed(worker_seed)\n",
    "\n",
    "# 제너레이터 시드값 고정\n",
    "g = torch.Generator()\n",
    "g.manual_seed(0)"
   ]
  },
  {
   "cell_type": "code",
   "execution_count": 8,
   "id": "faebaf30",
   "metadata": {
    "execution": {
     "iopub.execute_input": "2022-08-02T04:39:49.232867Z",
     "iopub.status.busy": "2022-08-02T04:39:49.232095Z",
     "iopub.status.idle": "2022-08-02T04:39:49.234560Z",
     "shell.execute_reply": "2022-08-02T04:39:49.234108Z",
     "shell.execute_reply.started": "2022-07-29T06:30:14.346874Z"
    },
    "id": "ayOpa8ntasfx",
    "papermill": {
     "duration": 0.027706,
     "end_time": "2022-08-02T04:39:49.234677",
     "exception": false,
     "start_time": "2022-08-02T04:39:49.206971",
     "status": "completed"
    },
    "tags": []
   },
   "outputs": [],
   "source": [
    "from torch.utils.data import DataLoader\n",
    "\n",
    "batch_size = 8\n",
    "\n",
    "loader_train = DataLoader(dataset=datasets_train, batch_size=batch_size, \n",
    "                          shuffle=True, worker_init_fn=seed_worker,\n",
    "                          generator=g, num_workers=2)\n",
    "loader_valid = DataLoader(dataset=datasets_valid, batch_size=batch_size, \n",
    "                          shuffle=False, worker_init_fn=seed_worker,\n",
    "                          generator=g, num_workers=2)"
   ]
  },
  {
   "cell_type": "markdown",
   "id": "d2fc2179",
   "metadata": {
    "papermill": {
     "duration": 0.020096,
     "end_time": "2022-08-02T04:39:49.275367",
     "exception": false,
     "start_time": "2022-08-02T04:39:49.255271",
     "status": "completed"
    },
    "tags": []
   },
   "source": [
    "## 13.3.3 모델 생성\n",
    " - 이미 만들어져 있는 성능좋은 (훈련된)모델을 가져옴"
   ]
  },
  {
   "cell_type": "code",
   "execution_count": 9,
   "id": "f6f8357c",
   "metadata": {
    "execution": {
     "iopub.execute_input": "2022-08-02T04:39:49.320971Z",
     "iopub.status.busy": "2022-08-02T04:39:49.320358Z",
     "iopub.status.idle": "2022-08-02T04:40:00.451907Z",
     "shell.execute_reply": "2022-08-02T04:40:00.451267Z",
     "shell.execute_reply.started": "2022-07-29T06:30:21.973265Z"
    },
    "id": "6U2VyXs62YYI",
    "outputId": "e1f4233c-8f73-49cb-bee1-7336e8367420",
    "papermill": {
     "duration": 11.156187,
     "end_time": "2022-08-02T04:40:00.452047",
     "exception": false,
     "start_time": "2022-08-02T04:39:49.295860",
     "status": "completed"
    },
    "tags": []
   },
   "outputs": [
    {
     "name": "stdout",
     "output_type": "stream",
     "text": [
      "Collecting efficientnet-pytorch==0.7.1\r\n",
      "  Downloading efficientnet_pytorch-0.7.1.tar.gz (21 kB)\r\n",
      "Requirement already satisfied: torch in /opt/conda/lib/python3.7/site-packages (from efficientnet-pytorch==0.7.1) (1.7.1+cu110)\r\n",
      "Requirement already satisfied: numpy in /opt/conda/lib/python3.7/site-packages (from torch->efficientnet-pytorch==0.7.1) (1.19.5)\r\n",
      "Requirement already satisfied: typing-extensions in /opt/conda/lib/python3.7/site-packages (from torch->efficientnet-pytorch==0.7.1) (3.7.4.3)\r\n",
      "Building wheels for collected packages: efficientnet-pytorch\r\n",
      "  Building wheel for efficientnet-pytorch (setup.py) ... \u001b[?25l-\b \b\\\b \bdone\r\n",
      "\u001b[?25h  Created wheel for efficientnet-pytorch: filename=efficientnet_pytorch-0.7.1-py3-none-any.whl size=16446 sha256=a0676f75296361b8f77a1d45af2afe77449da7512a2de60c0fb08716a656216c\r\n",
      "  Stored in directory: /root/.cache/pip/wheels/0e/cc/b2/49e74588263573ff778da58cc99b9c6349b496636a7e165be6\r\n",
      "Successfully built efficientnet-pytorch\r\n",
      "Installing collected packages: efficientnet-pytorch\r\n",
      "Successfully installed efficientnet-pytorch-0.7.1\r\n",
      "\u001b[33mWARNING: Running pip as the 'root' user can result in broken permissions and conflicting behaviour with the system package manager. It is recommended to use a virtual environment instead: https://pip.pypa.io/warnings/venv\u001b[0m\r\n"
     ]
    }
   ],
   "source": [
    "!pip install efficientnet-pytorch==0.7.1"
   ]
  },
  {
   "cell_type": "code",
   "execution_count": 10,
   "id": "882adf5c",
   "metadata": {
    "execution": {
     "iopub.execute_input": "2022-08-02T04:40:00.519046Z",
     "iopub.status.busy": "2022-08-02T04:40:00.518083Z",
     "iopub.status.idle": "2022-08-02T04:40:10.009534Z",
     "shell.execute_reply": "2022-08-02T04:40:10.009019Z",
     "shell.execute_reply.started": "2022-07-29T06:49:23.320151Z"
    },
    "id": "TIo26t7vs_Sy",
    "outputId": "8a9e6a19-33d9-46bc-ce9e-c73e59ea8c21",
    "papermill": {
     "duration": 9.530906,
     "end_time": "2022-08-02T04:40:10.009679",
     "exception": false,
     "start_time": "2022-08-02T04:40:00.478773",
     "status": "completed"
    },
    "tags": []
   },
   "outputs": [
    {
     "name": "stderr",
     "output_type": "stream",
     "text": [
      "Downloading: \"https://github.com/lukemelas/EfficientNet-PyTorch/releases/download/1.0/efficientnet-b0-355c32eb.pth\" to /root/.cache/torch/hub/checkpoints/efficientnet-b0-355c32eb.pth\n"
     ]
    },
    {
     "data": {
      "application/vnd.jupyter.widget-view+json": {
       "model_id": "02eacba6217644cf9484f2adf501cd18",
       "version_major": 2,
       "version_minor": 0
      },
      "text/plain": [
       "  0%|          | 0.00/20.4M [00:00<?, ?B/s]"
      ]
     },
     "metadata": {},
     "output_type": "display_data"
    },
    {
     "name": "stdout",
     "output_type": "stream",
     "text": [
      "Loaded pretrained weights for efficientnet-b0\n"
     ]
    }
   ],
   "source": [
    "from efficientnet_pytorch import EfficientNet\n",
    "# 모델 생성\n",
    "model = EfficientNet.from_pretrained('efficientnet-b0', num_classes=2) # num_classes=2 : 이진분류\n",
    "# 장비 할당\n",
    "model = model.to(device)"
   ]
  },
  {
   "cell_type": "code",
   "execution_count": 11,
   "id": "7a896592",
   "metadata": {
    "execution": {
     "iopub.execute_input": "2022-08-02T04:40:10.063470Z",
     "iopub.status.busy": "2022-08-02T04:40:10.062797Z",
     "iopub.status.idle": "2022-08-02T04:40:10.065477Z",
     "shell.execute_reply": "2022-08-02T04:40:10.065901Z",
     "shell.execute_reply.started": "2022-07-29T06:57:30.739805Z"
    },
    "papermill": {
     "duration": 0.032335,
     "end_time": "2022-08-02T04:40:10.066032",
     "exception": false,
     "start_time": "2022-08-02T04:40:10.033697",
     "status": "completed"
    },
    "tags": []
   },
   "outputs": [
    {
     "data": {
      "text/plain": [
       "213"
      ]
     },
     "execution_count": 11,
     "metadata": {},
     "output_type": "execute_result"
    }
   ],
   "source": [
    "len(list(model.parameters())) # model의 weights,bias는 213개 있음"
   ]
  },
  {
   "cell_type": "code",
   "execution_count": 12,
   "id": "8fc8beef",
   "metadata": {
    "execution": {
     "iopub.execute_input": "2022-08-02T04:40:10.117690Z",
     "iopub.status.busy": "2022-08-02T04:40:10.116927Z",
     "iopub.status.idle": "2022-08-02T04:40:10.119702Z",
     "shell.execute_reply": "2022-08-02T04:40:10.120338Z",
     "shell.execute_reply.started": "2022-07-29T06:53:48.093655Z"
    },
    "papermill": {
     "duration": 0.031253,
     "end_time": "2022-08-02T04:40:10.120537",
     "exception": false,
     "start_time": "2022-08-02T04:40:10.089284",
     "status": "completed"
    },
    "tags": []
   },
   "outputs": [
    {
     "name": "stdout",
     "output_type": "stream",
     "text": [
      "torch.Size([32, 3, 3, 3])\n",
      "864\n"
     ]
    }
   ],
   "source": [
    "for param in model.parameters():\n",
    "    print(param.shape) # 213개의 weights,bias 중 하나의 shape은 [32, 3, 3, 3]\n",
    "    print(param.numel()) # numel() : 텐서 객체가 갖는 구성요소의 총 개수 즉, 32*3*3*3\n",
    "    break"
   ]
  },
  {
   "cell_type": "code",
   "execution_count": 13,
   "id": "3809f99d",
   "metadata": {
    "execution": {
     "iopub.execute_input": "2022-08-02T04:40:10.177799Z",
     "iopub.status.busy": "2022-08-02T04:40:10.177115Z",
     "iopub.status.idle": "2022-08-02T04:40:10.179839Z",
     "shell.execute_reply": "2022-08-02T04:40:10.180295Z",
     "shell.execute_reply.started": "2022-07-29T07:00:02.933810Z"
    },
    "papermill": {
     "duration": 0.035129,
     "end_time": "2022-08-02T04:40:10.180415",
     "exception": false,
     "start_time": "2022-08-02T04:40:10.145286",
     "status": "completed"
    },
    "tags": []
   },
   "outputs": [
    {
     "data": {
      "text/plain": [
       "[864,\n",
       " 32,\n",
       " 32,\n",
       " 288,\n",
       " 32,\n",
       " 32,\n",
       " 256,\n",
       " 8,\n",
       " 256,\n",
       " 32,\n",
       " 512,\n",
       " 16,\n",
       " 16,\n",
       " 1536,\n",
       " 96,\n",
       " 96,\n",
       " 864,\n",
       " 96,\n",
       " 96,\n",
       " 384,\n",
       " 4,\n",
       " 384,\n",
       " 96,\n",
       " 2304,\n",
       " 24,\n",
       " 24,\n",
       " 3456,\n",
       " 144,\n",
       " 144,\n",
       " 1296,\n",
       " 144,\n",
       " 144,\n",
       " 864,\n",
       " 6,\n",
       " 864,\n",
       " 144,\n",
       " 3456,\n",
       " 24,\n",
       " 24,\n",
       " 3456,\n",
       " 144,\n",
       " 144,\n",
       " 3600,\n",
       " 144,\n",
       " 144,\n",
       " 864,\n",
       " 6,\n",
       " 864,\n",
       " 144,\n",
       " 5760,\n",
       " 40,\n",
       " 40,\n",
       " 9600,\n",
       " 240,\n",
       " 240,\n",
       " 6000,\n",
       " 240,\n",
       " 240,\n",
       " 2400,\n",
       " 10,\n",
       " 2400,\n",
       " 240,\n",
       " 9600,\n",
       " 40,\n",
       " 40,\n",
       " 9600,\n",
       " 240,\n",
       " 240,\n",
       " 2160,\n",
       " 240,\n",
       " 240,\n",
       " 2400,\n",
       " 10,\n",
       " 2400,\n",
       " 240,\n",
       " 19200,\n",
       " 80,\n",
       " 80,\n",
       " 38400,\n",
       " 480,\n",
       " 480,\n",
       " 4320,\n",
       " 480,\n",
       " 480,\n",
       " 9600,\n",
       " 20,\n",
       " 9600,\n",
       " 480,\n",
       " 38400,\n",
       " 80,\n",
       " 80,\n",
       " 38400,\n",
       " 480,\n",
       " 480,\n",
       " 4320,\n",
       " 480,\n",
       " 480,\n",
       " 9600,\n",
       " 20,\n",
       " 9600,\n",
       " 480,\n",
       " 38400,\n",
       " 80,\n",
       " 80,\n",
       " 38400,\n",
       " 480,\n",
       " 480,\n",
       " 12000,\n",
       " 480,\n",
       " 480,\n",
       " 9600,\n",
       " 20,\n",
       " 9600,\n",
       " 480,\n",
       " 53760,\n",
       " 112,\n",
       " 112,\n",
       " 75264,\n",
       " 672,\n",
       " 672,\n",
       " 16800,\n",
       " 672,\n",
       " 672,\n",
       " 18816,\n",
       " 28,\n",
       " 18816,\n",
       " 672,\n",
       " 75264,\n",
       " 112,\n",
       " 112,\n",
       " 75264,\n",
       " 672,\n",
       " 672,\n",
       " 16800,\n",
       " 672,\n",
       " 672,\n",
       " 18816,\n",
       " 28,\n",
       " 18816,\n",
       " 672,\n",
       " 75264,\n",
       " 112,\n",
       " 112,\n",
       " 75264,\n",
       " 672,\n",
       " 672,\n",
       " 16800,\n",
       " 672,\n",
       " 672,\n",
       " 18816,\n",
       " 28,\n",
       " 18816,\n",
       " 672,\n",
       " 129024,\n",
       " 192,\n",
       " 192,\n",
       " 221184,\n",
       " 1152,\n",
       " 1152,\n",
       " 28800,\n",
       " 1152,\n",
       " 1152,\n",
       " 55296,\n",
       " 48,\n",
       " 55296,\n",
       " 1152,\n",
       " 221184,\n",
       " 192,\n",
       " 192,\n",
       " 221184,\n",
       " 1152,\n",
       " 1152,\n",
       " 28800,\n",
       " 1152,\n",
       " 1152,\n",
       " 55296,\n",
       " 48,\n",
       " 55296,\n",
       " 1152,\n",
       " 221184,\n",
       " 192,\n",
       " 192,\n",
       " 221184,\n",
       " 1152,\n",
       " 1152,\n",
       " 28800,\n",
       " 1152,\n",
       " 1152,\n",
       " 55296,\n",
       " 48,\n",
       " 55296,\n",
       " 1152,\n",
       " 221184,\n",
       " 192,\n",
       " 192,\n",
       " 221184,\n",
       " 1152,\n",
       " 1152,\n",
       " 10368,\n",
       " 1152,\n",
       " 1152,\n",
       " 55296,\n",
       " 48,\n",
       " 55296,\n",
       " 1152,\n",
       " 368640,\n",
       " 320,\n",
       " 320,\n",
       " 409600,\n",
       " 1280,\n",
       " 1280,\n",
       " 2560,\n",
       " 2]"
      ]
     },
     "execution_count": 13,
     "metadata": {},
     "output_type": "execute_result"
    }
   ],
   "source": [
    "[param.numel() for param in model.parameters()]"
   ]
  },
  {
   "cell_type": "code",
   "execution_count": 14,
   "id": "68e48545",
   "metadata": {
    "execution": {
     "iopub.execute_input": "2022-08-02T04:40:10.234679Z",
     "iopub.status.busy": "2022-08-02T04:40:10.234041Z",
     "iopub.status.idle": "2022-08-02T04:40:10.236995Z",
     "shell.execute_reply": "2022-08-02T04:40:10.237579Z",
     "shell.execute_reply.started": "2022-07-29T07:00:56.991316Z"
    },
    "id": "3x6zjb-z2iRg",
    "outputId": "641172f9-ee0f-4409-d39d-7964eed1d8c1",
    "papermill": {
     "duration": 0.03325,
     "end_time": "2022-08-02T04:40:10.237760",
     "exception": false,
     "start_time": "2022-08-02T04:40:10.204510",
     "status": "completed"
    },
    "tags": []
   },
   "outputs": [
    {
     "name": "stdout",
     "output_type": "stream",
     "text": [
      "모델 파라미터 개수 : 4010110\n"
     ]
    }
   ],
   "source": [
    "print('모델 파라미터 개수 :', sum(param.numel() for param in model.parameters()))"
   ]
  },
  {
   "cell_type": "markdown",
   "id": "5139d42b",
   "metadata": {
    "papermill": {
     "duration": 0.023768,
     "end_time": "2022-08-02T04:40:10.286557",
     "exception": false,
     "start_time": "2022-08-02T04:40:10.262789",
     "status": "completed"
    },
    "tags": []
   },
   "source": [
    " - 단순 선형 회귀 식 y=ax+b 에서 파라미터는 a, b 두 개\n",
    " - efficientnet-b0 모델은 파라미터가 4백만 개 : 딥러닝 모델 훈련시간 오래걸리는 이유"
   ]
  },
  {
   "cell_type": "markdown",
   "id": "90c9cf3c",
   "metadata": {
    "papermill": {
     "duration": 0.024048,
     "end_time": "2022-08-02T04:40:10.334523",
     "exception": false,
     "start_time": "2022-08-02T04:40:10.310475",
     "status": "completed"
    },
    "tags": []
   },
   "source": [
    "## 13.3.4 모델 훈련 및 성능 검증"
   ]
  },
  {
   "cell_type": "markdown",
   "id": "6ac0e254",
   "metadata": {
    "papermill": {
     "duration": 0.024571,
     "end_time": "2022-08-02T04:40:10.383978",
     "exception": false,
     "start_time": "2022-08-02T04:40:10.359407",
     "status": "completed"
    },
    "tags": []
   },
   "source": [
    "### 손실 함수와 옵티마이저 설정"
   ]
  },
  {
   "cell_type": "code",
   "execution_count": 15,
   "id": "f557e4e4",
   "metadata": {
    "execution": {
     "iopub.execute_input": "2022-08-02T04:40:10.437611Z",
     "iopub.status.busy": "2022-08-02T04:40:10.436803Z",
     "iopub.status.idle": "2022-08-02T04:40:10.439257Z",
     "shell.execute_reply": "2022-08-02T04:40:10.438829Z",
     "shell.execute_reply.started": "2022-07-29T07:04:00.325781Z"
    },
    "papermill": {
     "duration": 0.031049,
     "end_time": "2022-08-02T04:40:10.439373",
     "exception": false,
     "start_time": "2022-08-02T04:40:10.408324",
     "status": "completed"
    },
    "tags": []
   },
   "outputs": [],
   "source": [
    "import torch.nn as nn\n",
    "\n",
    "criterion = nn.CrossEntropyLoss() # 분류문제"
   ]
  },
  {
   "cell_type": "code",
   "execution_count": 16,
   "id": "125590d1",
   "metadata": {
    "execution": {
     "iopub.execute_input": "2022-08-02T04:40:10.493409Z",
     "iopub.status.busy": "2022-08-02T04:40:10.492826Z",
     "iopub.status.idle": "2022-08-02T04:40:10.495950Z",
     "shell.execute_reply": "2022-08-02T04:40:10.496368Z",
     "shell.execute_reply.started": "2022-07-29T07:04:00.487417Z"
    },
    "papermill": {
     "duration": 0.033338,
     "end_time": "2022-08-02T04:40:10.496497",
     "exception": false,
     "start_time": "2022-08-02T04:40:10.463159",
     "status": "completed"
    },
    "tags": []
   },
   "outputs": [],
   "source": [
    "optimizer = torch.optim.Adam(model.parameters(), lr=0.01)"
   ]
  },
  {
   "cell_type": "markdown",
   "id": "72935d05",
   "metadata": {
    "papermill": {
     "duration": 0.023829,
     "end_time": "2022-08-02T04:40:10.544464",
     "exception": false,
     "start_time": "2022-08-02T04:40:10.520635",
     "status": "completed"
    },
    "tags": []
   },
   "source": [
    "### 훈련 함수 작성"
   ]
  },
  {
   "cell_type": "code",
   "execution_count": 17,
   "id": "656af06f",
   "metadata": {
    "execution": {
     "iopub.execute_input": "2022-08-02T04:40:10.603849Z",
     "iopub.status.busy": "2022-08-02T04:40:10.603132Z",
     "iopub.status.idle": "2022-08-02T04:40:11.391979Z",
     "shell.execute_reply": "2022-08-02T04:40:11.391507Z",
     "shell.execute_reply.started": "2022-07-29T07:35:15.645236Z"
    },
    "papermill": {
     "duration": 0.823774,
     "end_time": "2022-08-02T04:40:11.392128",
     "exception": false,
     "start_time": "2022-08-02T04:40:10.568354",
     "status": "completed"
    },
    "tags": []
   },
   "outputs": [],
   "source": [
    "from sklearn.metrics import accuracy_score # 정확도 계산 함수\n",
    "from sklearn.metrics import recall_score   # 재현율 계산 함수\n",
    "from sklearn.metrics import f1_score       # F1 점수 계산 함수\n",
    "from tqdm.notebook import tqdm             # 진행률 표시 막대\n",
    "\n",
    "def train(model, loader_train, loader_valid, criterion, optimizer, \n",
    "          scheduler=None, epochs=2, save_file='model_state_dict.pth'):\n",
    "    \n",
    "    valid_loss_min = np.inf # 초기 손실값 초기화(무한대) (검증 데이터용) \n",
    "\n",
    "    # 총 에폭만큼 반복\n",
    "    for epoch in range(epochs):\n",
    "        print(f'에폭 [{epoch+1}/{epochs}] \\n-----------------------------')\n",
    "        \n",
    "        # == [ 훈련 ] ==============================================\n",
    "        model.train()        # 모델을 훈련 상태로 설정\n",
    "        epoch_train_loss = 0 # 에폭별 손실값 초기화 (훈련 데이터용)\n",
    "        # '반복 횟수'만큼 반복 \n",
    "        for images, labels in tqdm(loader_train):\n",
    "            # 이미지, 레이블(타깃값) 데이터 미니배치를 장비에 할당 \n",
    "            images = images.to(device)\n",
    "            labels = labels.to(device)\n",
    "            \n",
    "            # 옵티마이저 내 기울기 초기화\n",
    "            optimizer.zero_grad()\n",
    "            # 순전파 : 이미지 데이터를 신경망 모델의 입력값으로 사용해 출력값 계산\n",
    "            outputs = model(images)\n",
    "            # 손실 함수를 활용해 outputs와 labels의 손실값 계산\n",
    "            loss = criterion(outputs, labels)\n",
    "            # 현재 배치에서의 손실 추가 (훈련 데이터용)\n",
    "            epoch_train_loss += loss.item() \n",
    "            loss.backward()       # 역전파 수행\n",
    "            optimizer.step()      # 가중치 갱신\n",
    "            if scheduler != None: # 스케줄러 학습률 갱신 \n",
    "                scheduler.step() \n",
    "\n",
    "        # 훈련 데이터 손실값 출력\n",
    "        print(f'\\t훈련 데이터 손실값 : {epoch_train_loss/len(loader_train):.4f}')\n",
    "        \n",
    "        # == [ 검증 ] ==============================================\n",
    "        model.eval()         # 모델을 평가 상태로 설정 \n",
    "        epoch_valid_loss = 0 # 에폭별 손실값 초기화 (검증 데이터용)\n",
    "        preds_list = []      # 예측값 저장용 리스트 초기화\n",
    "        true_list = []       # 실젯값 저장용 리스트 초기화\n",
    "        \n",
    "        with torch.no_grad(): # 기울기 계산 비활성화\n",
    "            for images, labels in loader_valid:\n",
    "                images = images.to(device)\n",
    "                labels = labels.to(device)\n",
    "                \n",
    "                outputs = model(images)\n",
    "                loss = criterion(outputs, labels)\n",
    "                epoch_valid_loss += loss.item()\n",
    "                \n",
    "                # 예측값 및 실제값 \n",
    "                preds = torch.max(outputs.cpu(), dim=1)[1].numpy() # torch.max(outputs, dim=1) : 최대값텐서, 최대값의인덱스텐서 return\n",
    "                true = labels.cpu().numpy() \n",
    "    \n",
    "                preds_list.extend(preds)\n",
    "                true_list.extend(true)\n",
    "                \n",
    "        # 정확도, 재현율, F1 점수 계산\n",
    "        val_accuracy = accuracy_score(true_list, preds_list)\n",
    "        val_recall = recall_score(true_list, preds_list)\n",
    "        val_f1_score = f1_score(true_list, preds_list)\n",
    "\n",
    "        # 검증 데이터 손실값 및 정확도, 재현율, F1점수 출력\n",
    "        print(f'\\t검증 데이터 손실값 : {epoch_valid_loss/len(loader_valid):.4f}')\n",
    "        print(f'\\t정확도 : {val_accuracy:.4f} / 재현율 : {val_recall:.4f} / F1 점수 : {val_f1_score:.4f}')\n",
    "        # == [ 최적 모델 가중치 찾기 ] ==============================\n",
    "        # 현 에폭에서의 손실값이 최소 손실값 이하면 모델 가중치 저장 \n",
    "        if epoch_valid_loss <= valid_loss_min: \n",
    "            print(f'\\t### 검증 데이터 손실값 감소 ({valid_loss_min:.4f} --> {epoch_valid_loss:.4f}). 모델 저장')\n",
    "            # 모델 가중치를 파일로 저장 \n",
    "            torch.save(model.state_dict(), save_file) \n",
    "            valid_loss_min = epoch_valid_loss # 최소 손실값 갱신 \n",
    "    return torch.load(save_file) # 저장한 모델 가중치를 불러와 반환"
   ]
  },
  {
   "cell_type": "markdown",
   "id": "4be9dccf",
   "metadata": {
    "papermill": {
     "duration": 0.023973,
     "end_time": "2022-08-02T04:40:11.441059",
     "exception": false,
     "start_time": "2022-08-02T04:40:11.417086",
     "status": "completed"
    },
    "tags": []
   },
   "source": [
    "### 훈련 및 성능 검증"
   ]
  },
  {
   "cell_type": "code",
   "execution_count": 18,
   "id": "4463bead",
   "metadata": {
    "execution": {
     "iopub.execute_input": "2022-08-02T04:40:11.498123Z",
     "iopub.status.busy": "2022-08-02T04:40:11.497358Z",
     "iopub.status.idle": "2022-08-02T04:43:53.399663Z",
     "shell.execute_reply": "2022-08-02T04:43:53.400253Z",
     "shell.execute_reply.started": "2022-07-29T07:54:13.152299Z"
    },
    "id": "VAcOrdRLWQcm",
    "outputId": "a5ad7a7e-8b4d-4fc7-9567-426417174248",
    "papermill": {
     "duration": 221.935299,
     "end_time": "2022-08-02T04:43:53.400491",
     "exception": false,
     "start_time": "2022-08-02T04:40:11.465192",
     "status": "completed"
    },
    "tags": []
   },
   "outputs": [
    {
     "name": "stdout",
     "output_type": "stream",
     "text": [
      "에폭 [1/2] \n",
      "-----------------------------\n"
     ]
    },
    {
     "data": {
      "application/vnd.jupyter.widget-view+json": {
       "model_id": "a78ec048b2f84423a7f0cdd7d8eb57de",
       "version_major": 2,
       "version_minor": 0
      },
      "text/plain": [
       "  0%|          | 0/652 [00:00<?, ?it/s]"
      ]
     },
     "metadata": {},
     "output_type": "display_data"
    },
    {
     "name": "stdout",
     "output_type": "stream",
     "text": [
      "\t훈련 데이터 손실값 : 0.4597\n",
      "\t검증 데이터 손실값 : 2.7992\n",
      "\t정확도 : 0.5000 / 재현율 : 1.0000 / F1 점수 : 0.6667\n",
      "\t### 검증 데이터 손실값 감소 (inf --> 5.5984). 모델 저장\n",
      "에폭 [2/2] \n",
      "-----------------------------\n"
     ]
    },
    {
     "data": {
      "application/vnd.jupyter.widget-view+json": {
       "model_id": "47406a35be194a0495e16b03219428ab",
       "version_major": 2,
       "version_minor": 0
      },
      "text/plain": [
       "  0%|          | 0/652 [00:00<?, ?it/s]"
      ]
     },
     "metadata": {},
     "output_type": "display_data"
    },
    {
     "name": "stdout",
     "output_type": "stream",
     "text": [
      "\t훈련 데이터 손실값 : 0.2535\n",
      "\t검증 데이터 손실값 : 2.4548\n",
      "\t정확도 : 0.5625 / 재현율 : 1.0000 / F1 점수 : 0.6957\n",
      "\t### 검증 데이터 손실값 감소 (5.5984 --> 4.9096). 모델 저장\n"
     ]
    }
   ],
   "source": [
    "# 모델 훈련\n",
    "model_state_dict = train(model=model,\n",
    "                         loader_train=loader_train, \n",
    "                         loader_valid=loader_valid,\n",
    "                         criterion=criterion, \n",
    "                         optimizer=optimizer)"
   ]
  },
  {
   "cell_type": "code",
   "execution_count": 19,
   "id": "81d82bbd",
   "metadata": {
    "execution": {
     "iopub.execute_input": "2022-08-02T04:43:53.459918Z",
     "iopub.status.busy": "2022-08-02T04:43:53.459142Z",
     "iopub.status.idle": "2022-08-02T04:43:53.484153Z",
     "shell.execute_reply": "2022-08-02T04:43:53.483740Z"
    },
    "papermill": {
     "duration": 0.056403,
     "end_time": "2022-08-02T04:43:53.484296",
     "exception": false,
     "start_time": "2022-08-02T04:43:53.427893",
     "status": "completed"
    },
    "tags": []
   },
   "outputs": [
    {
     "data": {
      "text/plain": [
       "<All keys matched successfully>"
      ]
     },
     "execution_count": 19,
     "metadata": {},
     "output_type": "execute_result"
    }
   ],
   "source": [
    "# 최적 가중치 불러오기\n",
    "model.load_state_dict(model_state_dict)"
   ]
  },
  {
   "cell_type": "markdown",
   "id": "176125d5",
   "metadata": {
    "papermill": {
     "duration": 0.026046,
     "end_time": "2022-08-02T04:43:53.536715",
     "exception": false,
     "start_time": "2022-08-02T04:43:53.510669",
     "status": "completed"
    },
    "tags": []
   },
   "source": [
    "## 13.3.5 예측 및 평가 결과"
   ]
  },
  {
   "cell_type": "code",
   "execution_count": 20,
   "id": "2f0fdece",
   "metadata": {
    "execution": {
     "iopub.execute_input": "2022-08-02T04:43:53.593603Z",
     "iopub.status.busy": "2022-08-02T04:43:53.592872Z",
     "iopub.status.idle": "2022-08-02T04:43:53.651777Z",
     "shell.execute_reply": "2022-08-02T04:43:53.652317Z"
    },
    "id": "-M7jC7VDWps5",
    "papermill": {
     "duration": 0.089517,
     "end_time": "2022-08-02T04:43:53.652449",
     "exception": false,
     "start_time": "2022-08-02T04:43:53.562932",
     "status": "completed"
    },
    "tags": []
   },
   "outputs": [],
   "source": [
    "datasets_test = ImageFolder(root=test_path, transform=transform_test)\n",
    "\n",
    "loader_test = DataLoader(dataset=datasets_test, batch_size=batch_size, \n",
    "                         shuffle=False, worker_init_fn=seed_worker,\n",
    "                         generator=g, num_workers=2)"
   ]
  },
  {
   "cell_type": "markdown",
   "id": "80890ca4",
   "metadata": {
    "papermill": {
     "duration": 0.026132,
     "end_time": "2022-08-02T04:43:53.705733",
     "exception": false,
     "start_time": "2022-08-02T04:43:53.679601",
     "status": "completed"
    },
    "tags": []
   },
   "source": [
    "### 예측"
   ]
  },
  {
   "cell_type": "code",
   "execution_count": 21,
   "id": "f857cbc6",
   "metadata": {
    "execution": {
     "iopub.execute_input": "2022-08-02T04:43:53.764490Z",
     "iopub.status.busy": "2022-08-02T04:43:53.763863Z",
     "iopub.status.idle": "2022-08-02T04:43:53.766655Z",
     "shell.execute_reply": "2022-08-02T04:43:53.766213Z"
    },
    "id": "wlXs1BTQWQ4B",
    "papermill": {
     "duration": 0.034567,
     "end_time": "2022-08-02T04:43:53.766765",
     "exception": false,
     "start_time": "2022-08-02T04:43:53.732198",
     "status": "completed"
    },
    "tags": []
   },
   "outputs": [],
   "source": [
    "def predict(model, loader_test, return_true=False):\n",
    "    model.eval()    # 모델을 평가 상태로 설정\n",
    "    preds_list = [] # 예측값 저장용 리스트 초기화\n",
    "    true_list = []  # 실제값 저장용 리스트 초기화\n",
    "\n",
    "    with torch.no_grad(): # 기울기 계산 비활성\n",
    "        for images, labels in loader_test:\n",
    "            images = images.to(device)\n",
    "            labels = labels.to(device)\n",
    "            \n",
    "            outputs = model(images)\n",
    "            \n",
    "            preds = torch.max(outputs.cpu(), dim=1)[1].numpy() # 예측값\n",
    "            true = labels.cpu().numpy() # 실제값 \n",
    "\n",
    "            preds_list.extend(preds)\n",
    "            true_list.extend(true)\n",
    "\n",
    "    if return_true:\n",
    "        return true_list, preds_list\n",
    "    else:\n",
    "        return preds_list"
   ]
  },
  {
   "cell_type": "code",
   "execution_count": 22,
   "id": "50b9ccb2",
   "metadata": {
    "execution": {
     "iopub.execute_input": "2022-08-02T04:43:53.825266Z",
     "iopub.status.busy": "2022-08-02T04:43:53.824034Z",
     "iopub.status.idle": "2022-08-02T04:44:04.001033Z",
     "shell.execute_reply": "2022-08-02T04:44:04.000497Z"
    },
    "id": "LK7en69lbfFa",
    "papermill": {
     "duration": 10.208142,
     "end_time": "2022-08-02T04:44:04.001163",
     "exception": false,
     "start_time": "2022-08-02T04:43:53.793021",
     "status": "completed"
    },
    "tags": []
   },
   "outputs": [],
   "source": [
    "true_list, preds_list = predict(model=model, \n",
    "                                loader_test=loader_test, \n",
    "                                return_true=True)"
   ]
  },
  {
   "cell_type": "markdown",
   "id": "d4efaace",
   "metadata": {
    "papermill": {
     "duration": 0.027276,
     "end_time": "2022-08-02T04:44:04.056165",
     "exception": false,
     "start_time": "2022-08-02T04:44:04.028889",
     "status": "completed"
    },
    "tags": []
   },
   "source": [
    "### 평가 결과"
   ]
  },
  {
   "cell_type": "code",
   "execution_count": 23,
   "id": "049c6f4a",
   "metadata": {
    "execution": {
     "iopub.execute_input": "2022-08-02T04:44:04.115666Z",
     "iopub.status.busy": "2022-08-02T04:44:04.111939Z",
     "iopub.status.idle": "2022-08-02T04:44:04.124589Z",
     "shell.execute_reply": "2022-08-02T04:44:04.125154Z"
    },
    "papermill": {
     "duration": 0.042076,
     "end_time": "2022-08-02T04:44:04.125337",
     "exception": false,
     "start_time": "2022-08-02T04:44:04.083261",
     "status": "completed"
    },
    "tags": []
   },
   "outputs": [
    {
     "name": "stdout",
     "output_type": "stream",
     "text": [
      "##### 최종 예측 결과 평가 점수 #####\n",
      "정확도 : 0.6426\n",
      "재현율 : 0.9949\n",
      "F1 점수 : 0.7768\n"
     ]
    }
   ],
   "source": [
    "print('#'*5, '최종 예측 결과 평가 점수', '#'*5)\n",
    "print(f'정확도 : {accuracy_score(true_list, preds_list):.4f}')\n",
    "print(f'재현율 : {recall_score(true_list, preds_list):.4f}')\n",
    "print(f'F1 점수 : {f1_score(true_list, preds_list):.4f}')"
   ]
  }
 ],
 "metadata": {
  "kernelspec": {
   "display_name": "Python 3",
   "language": "python",
   "name": "python3"
  },
  "language_info": {
   "codemirror_mode": {
    "name": "ipython",
    "version": 3
   },
   "file_extension": ".py",
   "mimetype": "text/x-python",
   "name": "python",
   "nbconvert_exporter": "python",
   "pygments_lexer": "ipython3",
   "version": "3.7.10"
  },
  "papermill": {
   "default_parameters": {},
   "duration": 269.779831,
   "end_time": "2022-08-02T04:44:05.454714",
   "environment_variables": {},
   "exception": null,
   "input_path": "__notebook__.ipynb",
   "output_path": "__notebook__.ipynb",
   "parameters": {},
   "start_time": "2022-08-02T04:39:35.674883",
   "version": "2.3.3"
  },
  "widgets": {
   "application/vnd.jupyter.widget-state+json": {
    "state": {
     "02eacba6217644cf9484f2adf501cd18": {
      "model_module": "@jupyter-widgets/controls",
      "model_module_version": "1.5.0",
      "model_name": "HBoxModel",
      "state": {
       "_dom_classes": [],
       "_model_module": "@jupyter-widgets/controls",
       "_model_module_version": "1.5.0",
       "_model_name": "HBoxModel",
       "_view_count": null,
       "_view_module": "@jupyter-widgets/controls",
       "_view_module_version": "1.5.0",
       "_view_name": "HBoxView",
       "box_style": "",
       "children": [
        "IPY_MODEL_d0174ee397754eaeb7802caa5bfc8f7e",
        "IPY_MODEL_b77f94aa4d4144e2a5d048e9cdb59c4e",
        "IPY_MODEL_df1acff3a73f48ca835a8a202f2610b9"
       ],
       "layout": "IPY_MODEL_3c1c802e32464058b29f4f5a6c117614"
      }
     },
     "090d94c5453c47658365524172089068": {
      "model_module": "@jupyter-widgets/base",
      "model_module_version": "1.2.0",
      "model_name": "LayoutModel",
      "state": {
       "_model_module": "@jupyter-widgets/base",
       "_model_module_version": "1.2.0",
       "_model_name": "LayoutModel",
       "_view_count": null,
       "_view_module": "@jupyter-widgets/base",
       "_view_module_version": "1.2.0",
       "_view_name": "LayoutView",
       "align_content": null,
       "align_items": null,
       "align_self": null,
       "border": null,
       "bottom": null,
       "display": null,
       "flex": null,
       "flex_flow": null,
       "grid_area": null,
       "grid_auto_columns": null,
       "grid_auto_flow": null,
       "grid_auto_rows": null,
       "grid_column": null,
       "grid_gap": null,
       "grid_row": null,
       "grid_template_areas": null,
       "grid_template_columns": null,
       "grid_template_rows": null,
       "height": null,
       "justify_content": null,
       "justify_items": null,
       "left": null,
       "margin": null,
       "max_height": null,
       "max_width": null,
       "min_height": null,
       "min_width": null,
       "object_fit": null,
       "object_position": null,
       "order": null,
       "overflow": null,
       "overflow_x": null,
       "overflow_y": null,
       "padding": null,
       "right": null,
       "top": null,
       "visibility": null,
       "width": null
      }
     },
     "14cf99527dd14cbb90db627aa0a0f061": {
      "model_module": "@jupyter-widgets/controls",
      "model_module_version": "1.5.0",
      "model_name": "DescriptionStyleModel",
      "state": {
       "_model_module": "@jupyter-widgets/controls",
       "_model_module_version": "1.5.0",
       "_model_name": "DescriptionStyleModel",
       "_view_count": null,
       "_view_module": "@jupyter-widgets/base",
       "_view_module_version": "1.2.0",
       "_view_name": "StyleView",
       "description_width": ""
      }
     },
     "1c9c16142e5a4daeb6da5d6e4c7fbaff": {
      "model_module": "@jupyter-widgets/base",
      "model_module_version": "1.2.0",
      "model_name": "LayoutModel",
      "state": {
       "_model_module": "@jupyter-widgets/base",
       "_model_module_version": "1.2.0",
       "_model_name": "LayoutModel",
       "_view_count": null,
       "_view_module": "@jupyter-widgets/base",
       "_view_module_version": "1.2.0",
       "_view_name": "LayoutView",
       "align_content": null,
       "align_items": null,
       "align_self": null,
       "border": null,
       "bottom": null,
       "display": null,
       "flex": null,
       "flex_flow": null,
       "grid_area": null,
       "grid_auto_columns": null,
       "grid_auto_flow": null,
       "grid_auto_rows": null,
       "grid_column": null,
       "grid_gap": null,
       "grid_row": null,
       "grid_template_areas": null,
       "grid_template_columns": null,
       "grid_template_rows": null,
       "height": null,
       "justify_content": null,
       "justify_items": null,
       "left": null,
       "margin": null,
       "max_height": null,
       "max_width": null,
       "min_height": null,
       "min_width": null,
       "object_fit": null,
       "object_position": null,
       "order": null,
       "overflow": null,
       "overflow_x": null,
       "overflow_y": null,
       "padding": null,
       "right": null,
       "top": null,
       "visibility": null,
       "width": null
      }
     },
     "1f33613ae8b84be386b20a4572690306": {
      "model_module": "@jupyter-widgets/controls",
      "model_module_version": "1.5.0",
      "model_name": "DescriptionStyleModel",
      "state": {
       "_model_module": "@jupyter-widgets/controls",
       "_model_module_version": "1.5.0",
       "_model_name": "DescriptionStyleModel",
       "_view_count": null,
       "_view_module": "@jupyter-widgets/base",
       "_view_module_version": "1.2.0",
       "_view_name": "StyleView",
       "description_width": ""
      }
     },
     "298ca34024124026b298e86bb1eca278": {
      "model_module": "@jupyter-widgets/controls",
      "model_module_version": "1.5.0",
      "model_name": "DescriptionStyleModel",
      "state": {
       "_model_module": "@jupyter-widgets/controls",
       "_model_module_version": "1.5.0",
       "_model_name": "DescriptionStyleModel",
       "_view_count": null,
       "_view_module": "@jupyter-widgets/base",
       "_view_module_version": "1.2.0",
       "_view_name": "StyleView",
       "description_width": ""
      }
     },
     "31b918090ffd4343ae6df3b1d20b0d9b": {
      "model_module": "@jupyter-widgets/base",
      "model_module_version": "1.2.0",
      "model_name": "LayoutModel",
      "state": {
       "_model_module": "@jupyter-widgets/base",
       "_model_module_version": "1.2.0",
       "_model_name": "LayoutModel",
       "_view_count": null,
       "_view_module": "@jupyter-widgets/base",
       "_view_module_version": "1.2.0",
       "_view_name": "LayoutView",
       "align_content": null,
       "align_items": null,
       "align_self": null,
       "border": null,
       "bottom": null,
       "display": null,
       "flex": null,
       "flex_flow": null,
       "grid_area": null,
       "grid_auto_columns": null,
       "grid_auto_flow": null,
       "grid_auto_rows": null,
       "grid_column": null,
       "grid_gap": null,
       "grid_row": null,
       "grid_template_areas": null,
       "grid_template_columns": null,
       "grid_template_rows": null,
       "height": null,
       "justify_content": null,
       "justify_items": null,
       "left": null,
       "margin": null,
       "max_height": null,
       "max_width": null,
       "min_height": null,
       "min_width": null,
       "object_fit": null,
       "object_position": null,
       "order": null,
       "overflow": null,
       "overflow_x": null,
       "overflow_y": null,
       "padding": null,
       "right": null,
       "top": null,
       "visibility": null,
       "width": null
      }
     },
     "3c1c802e32464058b29f4f5a6c117614": {
      "model_module": "@jupyter-widgets/base",
      "model_module_version": "1.2.0",
      "model_name": "LayoutModel",
      "state": {
       "_model_module": "@jupyter-widgets/base",
       "_model_module_version": "1.2.0",
       "_model_name": "LayoutModel",
       "_view_count": null,
       "_view_module": "@jupyter-widgets/base",
       "_view_module_version": "1.2.0",
       "_view_name": "LayoutView",
       "align_content": null,
       "align_items": null,
       "align_self": null,
       "border": null,
       "bottom": null,
       "display": null,
       "flex": null,
       "flex_flow": null,
       "grid_area": null,
       "grid_auto_columns": null,
       "grid_auto_flow": null,
       "grid_auto_rows": null,
       "grid_column": null,
       "grid_gap": null,
       "grid_row": null,
       "grid_template_areas": null,
       "grid_template_columns": null,
       "grid_template_rows": null,
       "height": null,
       "justify_content": null,
       "justify_items": null,
       "left": null,
       "margin": null,
       "max_height": null,
       "max_width": null,
       "min_height": null,
       "min_width": null,
       "object_fit": null,
       "object_position": null,
       "order": null,
       "overflow": null,
       "overflow_x": null,
       "overflow_y": null,
       "padding": null,
       "right": null,
       "top": null,
       "visibility": null,
       "width": null
      }
     },
     "408d8604f5ee4172bfd0f2cc429a7b33": {
      "model_module": "@jupyter-widgets/base",
      "model_module_version": "1.2.0",
      "model_name": "LayoutModel",
      "state": {
       "_model_module": "@jupyter-widgets/base",
       "_model_module_version": "1.2.0",
       "_model_name": "LayoutModel",
       "_view_count": null,
       "_view_module": "@jupyter-widgets/base",
       "_view_module_version": "1.2.0",
       "_view_name": "LayoutView",
       "align_content": null,
       "align_items": null,
       "align_self": null,
       "border": null,
       "bottom": null,
       "display": null,
       "flex": null,
       "flex_flow": null,
       "grid_area": null,
       "grid_auto_columns": null,
       "grid_auto_flow": null,
       "grid_auto_rows": null,
       "grid_column": null,
       "grid_gap": null,
       "grid_row": null,
       "grid_template_areas": null,
       "grid_template_columns": null,
       "grid_template_rows": null,
       "height": null,
       "justify_content": null,
       "justify_items": null,
       "left": null,
       "margin": null,
       "max_height": null,
       "max_width": null,
       "min_height": null,
       "min_width": null,
       "object_fit": null,
       "object_position": null,
       "order": null,
       "overflow": null,
       "overflow_x": null,
       "overflow_y": null,
       "padding": null,
       "right": null,
       "top": null,
       "visibility": null,
       "width": null
      }
     },
     "47406a35be194a0495e16b03219428ab": {
      "model_module": "@jupyter-widgets/controls",
      "model_module_version": "1.5.0",
      "model_name": "HBoxModel",
      "state": {
       "_dom_classes": [],
       "_model_module": "@jupyter-widgets/controls",
       "_model_module_version": "1.5.0",
       "_model_name": "HBoxModel",
       "_view_count": null,
       "_view_module": "@jupyter-widgets/controls",
       "_view_module_version": "1.5.0",
       "_view_name": "HBoxView",
       "box_style": "",
       "children": [
        "IPY_MODEL_e41baf0dcbb84d5898a407cb788cdab1",
        "IPY_MODEL_9eb8eef69f6a40ce806cf09d635c27b1",
        "IPY_MODEL_62bfbd55fbc642d7891b42cb3aea1d23"
       ],
       "layout": "IPY_MODEL_a8325e737d304b57964b72dad10a37d3"
      }
     },
     "4ab12ce4abd54e1d8643632769da721e": {
      "model_module": "@jupyter-widgets/base",
      "model_module_version": "1.2.0",
      "model_name": "LayoutModel",
      "state": {
       "_model_module": "@jupyter-widgets/base",
       "_model_module_version": "1.2.0",
       "_model_name": "LayoutModel",
       "_view_count": null,
       "_view_module": "@jupyter-widgets/base",
       "_view_module_version": "1.2.0",
       "_view_name": "LayoutView",
       "align_content": null,
       "align_items": null,
       "align_self": null,
       "border": null,
       "bottom": null,
       "display": null,
       "flex": null,
       "flex_flow": null,
       "grid_area": null,
       "grid_auto_columns": null,
       "grid_auto_flow": null,
       "grid_auto_rows": null,
       "grid_column": null,
       "grid_gap": null,
       "grid_row": null,
       "grid_template_areas": null,
       "grid_template_columns": null,
       "grid_template_rows": null,
       "height": null,
       "justify_content": null,
       "justify_items": null,
       "left": null,
       "margin": null,
       "max_height": null,
       "max_width": null,
       "min_height": null,
       "min_width": null,
       "object_fit": null,
       "object_position": null,
       "order": null,
       "overflow": null,
       "overflow_x": null,
       "overflow_y": null,
       "padding": null,
       "right": null,
       "top": null,
       "visibility": null,
       "width": null
      }
     },
     "53357541231c47969f4cfb0e3b909cc5": {
      "model_module": "@jupyter-widgets/controls",
      "model_module_version": "1.5.0",
      "model_name": "ProgressStyleModel",
      "state": {
       "_model_module": "@jupyter-widgets/controls",
       "_model_module_version": "1.5.0",
       "_model_name": "ProgressStyleModel",
       "_view_count": null,
       "_view_module": "@jupyter-widgets/base",
       "_view_module_version": "1.2.0",
       "_view_name": "StyleView",
       "bar_color": null,
       "description_width": ""
      }
     },
     "62bfbd55fbc642d7891b42cb3aea1d23": {
      "model_module": "@jupyter-widgets/controls",
      "model_module_version": "1.5.0",
      "model_name": "HTMLModel",
      "state": {
       "_dom_classes": [],
       "_model_module": "@jupyter-widgets/controls",
       "_model_module_version": "1.5.0",
       "_model_name": "HTMLModel",
       "_view_count": null,
       "_view_module": "@jupyter-widgets/controls",
       "_view_module_version": "1.5.0",
       "_view_name": "HTMLView",
       "description": "",
       "description_tooltip": null,
       "layout": "IPY_MODEL_4ab12ce4abd54e1d8643632769da721e",
       "placeholder": "​",
       "style": "IPY_MODEL_14cf99527dd14cbb90db627aa0a0f061",
       "value": " 652/652 [01:47&lt;00:00,  8.73it/s]"
      }
     },
     "723f26f58b564f7194d02c9ad8e6c997": {
      "model_module": "@jupyter-widgets/base",
      "model_module_version": "1.2.0",
      "model_name": "LayoutModel",
      "state": {
       "_model_module": "@jupyter-widgets/base",
       "_model_module_version": "1.2.0",
       "_model_name": "LayoutModel",
       "_view_count": null,
       "_view_module": "@jupyter-widgets/base",
       "_view_module_version": "1.2.0",
       "_view_name": "LayoutView",
       "align_content": null,
       "align_items": null,
       "align_self": null,
       "border": null,
       "bottom": null,
       "display": null,
       "flex": null,
       "flex_flow": null,
       "grid_area": null,
       "grid_auto_columns": null,
       "grid_auto_flow": null,
       "grid_auto_rows": null,
       "grid_column": null,
       "grid_gap": null,
       "grid_row": null,
       "grid_template_areas": null,
       "grid_template_columns": null,
       "grid_template_rows": null,
       "height": null,
       "justify_content": null,
       "justify_items": null,
       "left": null,
       "margin": null,
       "max_height": null,
       "max_width": null,
       "min_height": null,
       "min_width": null,
       "object_fit": null,
       "object_position": null,
       "order": null,
       "overflow": null,
       "overflow_x": null,
       "overflow_y": null,
       "padding": null,
       "right": null,
       "top": null,
       "visibility": null,
       "width": null
      }
     },
     "7aa712a8293542be8c701aa0971356c7": {
      "model_module": "@jupyter-widgets/controls",
      "model_module_version": "1.5.0",
      "model_name": "ProgressStyleModel",
      "state": {
       "_model_module": "@jupyter-widgets/controls",
       "_model_module_version": "1.5.0",
       "_model_name": "ProgressStyleModel",
       "_view_count": null,
       "_view_module": "@jupyter-widgets/base",
       "_view_module_version": "1.2.0",
       "_view_name": "StyleView",
       "bar_color": null,
       "description_width": ""
      }
     },
     "7fb771356e104f1595a552c14e96c3d0": {
      "model_module": "@jupyter-widgets/controls",
      "model_module_version": "1.5.0",
      "model_name": "DescriptionStyleModel",
      "state": {
       "_model_module": "@jupyter-widgets/controls",
       "_model_module_version": "1.5.0",
       "_model_name": "DescriptionStyleModel",
       "_view_count": null,
       "_view_module": "@jupyter-widgets/base",
       "_view_module_version": "1.2.0",
       "_view_name": "StyleView",
       "description_width": ""
      }
     },
     "876123d0fd2c427f8b4d506cae3159b4": {
      "model_module": "@jupyter-widgets/base",
      "model_module_version": "1.2.0",
      "model_name": "LayoutModel",
      "state": {
       "_model_module": "@jupyter-widgets/base",
       "_model_module_version": "1.2.0",
       "_model_name": "LayoutModel",
       "_view_count": null,
       "_view_module": "@jupyter-widgets/base",
       "_view_module_version": "1.2.0",
       "_view_name": "LayoutView",
       "align_content": null,
       "align_items": null,
       "align_self": null,
       "border": null,
       "bottom": null,
       "display": null,
       "flex": null,
       "flex_flow": null,
       "grid_area": null,
       "grid_auto_columns": null,
       "grid_auto_flow": null,
       "grid_auto_rows": null,
       "grid_column": null,
       "grid_gap": null,
       "grid_row": null,
       "grid_template_areas": null,
       "grid_template_columns": null,
       "grid_template_rows": null,
       "height": null,
       "justify_content": null,
       "justify_items": null,
       "left": null,
       "margin": null,
       "max_height": null,
       "max_width": null,
       "min_height": null,
       "min_width": null,
       "object_fit": null,
       "object_position": null,
       "order": null,
       "overflow": null,
       "overflow_x": null,
       "overflow_y": null,
       "padding": null,
       "right": null,
       "top": null,
       "visibility": null,
       "width": null
      }
     },
     "8ab15d726cf045c3b63f78755ea4d88e": {
      "model_module": "@jupyter-widgets/base",
      "model_module_version": "1.2.0",
      "model_name": "LayoutModel",
      "state": {
       "_model_module": "@jupyter-widgets/base",
       "_model_module_version": "1.2.0",
       "_model_name": "LayoutModel",
       "_view_count": null,
       "_view_module": "@jupyter-widgets/base",
       "_view_module_version": "1.2.0",
       "_view_name": "LayoutView",
       "align_content": null,
       "align_items": null,
       "align_self": null,
       "border": null,
       "bottom": null,
       "display": null,
       "flex": null,
       "flex_flow": null,
       "grid_area": null,
       "grid_auto_columns": null,
       "grid_auto_flow": null,
       "grid_auto_rows": null,
       "grid_column": null,
       "grid_gap": null,
       "grid_row": null,
       "grid_template_areas": null,
       "grid_template_columns": null,
       "grid_template_rows": null,
       "height": null,
       "justify_content": null,
       "justify_items": null,
       "left": null,
       "margin": null,
       "max_height": null,
       "max_width": null,
       "min_height": null,
       "min_width": null,
       "object_fit": null,
       "object_position": null,
       "order": null,
       "overflow": null,
       "overflow_x": null,
       "overflow_y": null,
       "padding": null,
       "right": null,
       "top": null,
       "visibility": null,
       "width": null
      }
     },
     "9eb8eef69f6a40ce806cf09d635c27b1": {
      "model_module": "@jupyter-widgets/controls",
      "model_module_version": "1.5.0",
      "model_name": "FloatProgressModel",
      "state": {
       "_dom_classes": [],
       "_model_module": "@jupyter-widgets/controls",
       "_model_module_version": "1.5.0",
       "_model_name": "FloatProgressModel",
       "_view_count": null,
       "_view_module": "@jupyter-widgets/controls",
       "_view_module_version": "1.5.0",
       "_view_name": "ProgressView",
       "bar_style": "success",
       "description": "",
       "description_tooltip": null,
       "layout": "IPY_MODEL_090d94c5453c47658365524172089068",
       "max": 652.0,
       "min": 0.0,
       "orientation": "horizontal",
       "style": "IPY_MODEL_f931d2b9e4284652a5475554c032ab6f",
       "value": 652.0
      }
     },
     "a7628c040d8442dc90a79803ad181047": {
      "model_module": "@jupyter-widgets/controls",
      "model_module_version": "1.5.0",
      "model_name": "HTMLModel",
      "state": {
       "_dom_classes": [],
       "_model_module": "@jupyter-widgets/controls",
       "_model_module_version": "1.5.0",
       "_model_name": "HTMLModel",
       "_view_count": null,
       "_view_module": "@jupyter-widgets/controls",
       "_view_module_version": "1.5.0",
       "_view_name": "HTMLView",
       "description": "",
       "description_tooltip": null,
       "layout": "IPY_MODEL_1c9c16142e5a4daeb6da5d6e4c7fbaff",
       "placeholder": "​",
       "style": "IPY_MODEL_298ca34024124026b298e86bb1eca278",
       "value": " 652/652 [01:53&lt;00:00,  6.32it/s]"
      }
     },
     "a78ec048b2f84423a7f0cdd7d8eb57de": {
      "model_module": "@jupyter-widgets/controls",
      "model_module_version": "1.5.0",
      "model_name": "HBoxModel",
      "state": {
       "_dom_classes": [],
       "_model_module": "@jupyter-widgets/controls",
       "_model_module_version": "1.5.0",
       "_model_name": "HBoxModel",
       "_view_count": null,
       "_view_module": "@jupyter-widgets/controls",
       "_view_module_version": "1.5.0",
       "_view_name": "HBoxView",
       "box_style": "",
       "children": [
        "IPY_MODEL_c14bd3bb0e44456b82bab76bd390bad5",
        "IPY_MODEL_c5369d3651e047b7b4de5805060ba26c",
        "IPY_MODEL_a7628c040d8442dc90a79803ad181047"
       ],
       "layout": "IPY_MODEL_cf3ef247a9d249f49d011a3f9230944d"
      }
     },
     "a8325e737d304b57964b72dad10a37d3": {
      "model_module": "@jupyter-widgets/base",
      "model_module_version": "1.2.0",
      "model_name": "LayoutModel",
      "state": {
       "_model_module": "@jupyter-widgets/base",
       "_model_module_version": "1.2.0",
       "_model_name": "LayoutModel",
       "_view_count": null,
       "_view_module": "@jupyter-widgets/base",
       "_view_module_version": "1.2.0",
       "_view_name": "LayoutView",
       "align_content": null,
       "align_items": null,
       "align_self": null,
       "border": null,
       "bottom": null,
       "display": null,
       "flex": null,
       "flex_flow": null,
       "grid_area": null,
       "grid_auto_columns": null,
       "grid_auto_flow": null,
       "grid_auto_rows": null,
       "grid_column": null,
       "grid_gap": null,
       "grid_row": null,
       "grid_template_areas": null,
       "grid_template_columns": null,
       "grid_template_rows": null,
       "height": null,
       "justify_content": null,
       "justify_items": null,
       "left": null,
       "margin": null,
       "max_height": null,
       "max_width": null,
       "min_height": null,
       "min_width": null,
       "object_fit": null,
       "object_position": null,
       "order": null,
       "overflow": null,
       "overflow_x": null,
       "overflow_y": null,
       "padding": null,
       "right": null,
       "top": null,
       "visibility": null,
       "width": null
      }
     },
     "ab5e32eb0e964449b6b5b5f0bf1c8c78": {
      "model_module": "@jupyter-widgets/controls",
      "model_module_version": "1.5.0",
      "model_name": "DescriptionStyleModel",
      "state": {
       "_model_module": "@jupyter-widgets/controls",
       "_model_module_version": "1.5.0",
       "_model_name": "DescriptionStyleModel",
       "_view_count": null,
       "_view_module": "@jupyter-widgets/base",
       "_view_module_version": "1.2.0",
       "_view_name": "StyleView",
       "description_width": ""
      }
     },
     "b77f94aa4d4144e2a5d048e9cdb59c4e": {
      "model_module": "@jupyter-widgets/controls",
      "model_module_version": "1.5.0",
      "model_name": "FloatProgressModel",
      "state": {
       "_dom_classes": [],
       "_model_module": "@jupyter-widgets/controls",
       "_model_module_version": "1.5.0",
       "_model_name": "FloatProgressModel",
       "_view_count": null,
       "_view_module": "@jupyter-widgets/controls",
       "_view_module_version": "1.5.0",
       "_view_name": "ProgressView",
       "bar_style": "success",
       "description": "",
       "description_tooltip": null,
       "layout": "IPY_MODEL_876123d0fd2c427f8b4d506cae3159b4",
       "max": 21388428.0,
       "min": 0.0,
       "orientation": "horizontal",
       "style": "IPY_MODEL_7aa712a8293542be8c701aa0971356c7",
       "value": 21388428.0
      }
     },
     "c14bd3bb0e44456b82bab76bd390bad5": {
      "model_module": "@jupyter-widgets/controls",
      "model_module_version": "1.5.0",
      "model_name": "HTMLModel",
      "state": {
       "_dom_classes": [],
       "_model_module": "@jupyter-widgets/controls",
       "_model_module_version": "1.5.0",
       "_model_name": "HTMLModel",
       "_view_count": null,
       "_view_module": "@jupyter-widgets/controls",
       "_view_module_version": "1.5.0",
       "_view_name": "HTMLView",
       "description": "",
       "description_tooltip": null,
       "layout": "IPY_MODEL_723f26f58b564f7194d02c9ad8e6c997",
       "placeholder": "​",
       "style": "IPY_MODEL_7fb771356e104f1595a552c14e96c3d0",
       "value": "100%"
      }
     },
     "c4a6a5820c7d4541b1d0beb42fffc9b7": {
      "model_module": "@jupyter-widgets/base",
      "model_module_version": "1.2.0",
      "model_name": "LayoutModel",
      "state": {
       "_model_module": "@jupyter-widgets/base",
       "_model_module_version": "1.2.0",
       "_model_name": "LayoutModel",
       "_view_count": null,
       "_view_module": "@jupyter-widgets/base",
       "_view_module_version": "1.2.0",
       "_view_name": "LayoutView",
       "align_content": null,
       "align_items": null,
       "align_self": null,
       "border": null,
       "bottom": null,
       "display": null,
       "flex": null,
       "flex_flow": null,
       "grid_area": null,
       "grid_auto_columns": null,
       "grid_auto_flow": null,
       "grid_auto_rows": null,
       "grid_column": null,
       "grid_gap": null,
       "grid_row": null,
       "grid_template_areas": null,
       "grid_template_columns": null,
       "grid_template_rows": null,
       "height": null,
       "justify_content": null,
       "justify_items": null,
       "left": null,
       "margin": null,
       "max_height": null,
       "max_width": null,
       "min_height": null,
       "min_width": null,
       "object_fit": null,
       "object_position": null,
       "order": null,
       "overflow": null,
       "overflow_x": null,
       "overflow_y": null,
       "padding": null,
       "right": null,
       "top": null,
       "visibility": null,
       "width": null
      }
     },
     "c5369d3651e047b7b4de5805060ba26c": {
      "model_module": "@jupyter-widgets/controls",
      "model_module_version": "1.5.0",
      "model_name": "FloatProgressModel",
      "state": {
       "_dom_classes": [],
       "_model_module": "@jupyter-widgets/controls",
       "_model_module_version": "1.5.0",
       "_model_name": "FloatProgressModel",
       "_view_count": null,
       "_view_module": "@jupyter-widgets/controls",
       "_view_module_version": "1.5.0",
       "_view_name": "ProgressView",
       "bar_style": "success",
       "description": "",
       "description_tooltip": null,
       "layout": "IPY_MODEL_8ab15d726cf045c3b63f78755ea4d88e",
       "max": 652.0,
       "min": 0.0,
       "orientation": "horizontal",
       "style": "IPY_MODEL_53357541231c47969f4cfb0e3b909cc5",
       "value": 652.0
      }
     },
     "c78d5554cad8474494926d075763d31d": {
      "model_module": "@jupyter-widgets/controls",
      "model_module_version": "1.5.0",
      "model_name": "DescriptionStyleModel",
      "state": {
       "_model_module": "@jupyter-widgets/controls",
       "_model_module_version": "1.5.0",
       "_model_name": "DescriptionStyleModel",
       "_view_count": null,
       "_view_module": "@jupyter-widgets/base",
       "_view_module_version": "1.2.0",
       "_view_name": "StyleView",
       "description_width": ""
      }
     },
     "cf3ef247a9d249f49d011a3f9230944d": {
      "model_module": "@jupyter-widgets/base",
      "model_module_version": "1.2.0",
      "model_name": "LayoutModel",
      "state": {
       "_model_module": "@jupyter-widgets/base",
       "_model_module_version": "1.2.0",
       "_model_name": "LayoutModel",
       "_view_count": null,
       "_view_module": "@jupyter-widgets/base",
       "_view_module_version": "1.2.0",
       "_view_name": "LayoutView",
       "align_content": null,
       "align_items": null,
       "align_self": null,
       "border": null,
       "bottom": null,
       "display": null,
       "flex": null,
       "flex_flow": null,
       "grid_area": null,
       "grid_auto_columns": null,
       "grid_auto_flow": null,
       "grid_auto_rows": null,
       "grid_column": null,
       "grid_gap": null,
       "grid_row": null,
       "grid_template_areas": null,
       "grid_template_columns": null,
       "grid_template_rows": null,
       "height": null,
       "justify_content": null,
       "justify_items": null,
       "left": null,
       "margin": null,
       "max_height": null,
       "max_width": null,
       "min_height": null,
       "min_width": null,
       "object_fit": null,
       "object_position": null,
       "order": null,
       "overflow": null,
       "overflow_x": null,
       "overflow_y": null,
       "padding": null,
       "right": null,
       "top": null,
       "visibility": null,
       "width": null
      }
     },
     "d0174ee397754eaeb7802caa5bfc8f7e": {
      "model_module": "@jupyter-widgets/controls",
      "model_module_version": "1.5.0",
      "model_name": "HTMLModel",
      "state": {
       "_dom_classes": [],
       "_model_module": "@jupyter-widgets/controls",
       "_model_module_version": "1.5.0",
       "_model_name": "HTMLModel",
       "_view_count": null,
       "_view_module": "@jupyter-widgets/controls",
       "_view_module_version": "1.5.0",
       "_view_name": "HTMLView",
       "description": "",
       "description_tooltip": null,
       "layout": "IPY_MODEL_31b918090ffd4343ae6df3b1d20b0d9b",
       "placeholder": "​",
       "style": "IPY_MODEL_1f33613ae8b84be386b20a4572690306",
       "value": "100%"
      }
     },
     "df1acff3a73f48ca835a8a202f2610b9": {
      "model_module": "@jupyter-widgets/controls",
      "model_module_version": "1.5.0",
      "model_name": "HTMLModel",
      "state": {
       "_dom_classes": [],
       "_model_module": "@jupyter-widgets/controls",
       "_model_module_version": "1.5.0",
       "_model_name": "HTMLModel",
       "_view_count": null,
       "_view_module": "@jupyter-widgets/controls",
       "_view_module_version": "1.5.0",
       "_view_name": "HTMLView",
       "description": "",
       "description_tooltip": null,
       "layout": "IPY_MODEL_408d8604f5ee4172bfd0f2cc429a7b33",
       "placeholder": "​",
       "style": "IPY_MODEL_c78d5554cad8474494926d075763d31d",
       "value": " 20.4M/20.4M [00:02&lt;00:00, 9.49MB/s]"
      }
     },
     "e41baf0dcbb84d5898a407cb788cdab1": {
      "model_module": "@jupyter-widgets/controls",
      "model_module_version": "1.5.0",
      "model_name": "HTMLModel",
      "state": {
       "_dom_classes": [],
       "_model_module": "@jupyter-widgets/controls",
       "_model_module_version": "1.5.0",
       "_model_name": "HTMLModel",
       "_view_count": null,
       "_view_module": "@jupyter-widgets/controls",
       "_view_module_version": "1.5.0",
       "_view_name": "HTMLView",
       "description": "",
       "description_tooltip": null,
       "layout": "IPY_MODEL_c4a6a5820c7d4541b1d0beb42fffc9b7",
       "placeholder": "​",
       "style": "IPY_MODEL_ab5e32eb0e964449b6b5b5f0bf1c8c78",
       "value": "100%"
      }
     },
     "f931d2b9e4284652a5475554c032ab6f": {
      "model_module": "@jupyter-widgets/controls",
      "model_module_version": "1.5.0",
      "model_name": "ProgressStyleModel",
      "state": {
       "_model_module": "@jupyter-widgets/controls",
       "_model_module_version": "1.5.0",
       "_model_name": "ProgressStyleModel",
       "_view_count": null,
       "_view_module": "@jupyter-widgets/base",
       "_view_module_version": "1.2.0",
       "_view_name": "StyleView",
       "bar_color": null,
       "description_width": ""
      }
     }
    },
    "version_major": 2,
    "version_minor": 0
   }
  }
 },
 "nbformat": 4,
 "nbformat_minor": 5
}
