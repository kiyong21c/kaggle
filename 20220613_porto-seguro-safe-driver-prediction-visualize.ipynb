{
  "cells": [
    {
      "cell_type": "markdown",
      "metadata": {
        "id": "view-in-github",
        "colab_type": "text"
      },
      "source": [
        "<a href=\"https://colab.research.google.com/github/kiyong21c/kaggle/blob/main/20220613_porto-seguro-safe-driver-prediction-visualize.ipynb\" target=\"_parent\"><img src=\"https://colab.research.google.com/assets/colab-badge.svg\" alt=\"Open In Colab\"/></a>"
      ]
    },
    {
      "cell_type": "code",
      "source": [
        "from google.colab import drive\n",
        "drive.mount('/content/drive')"
      ],
      "metadata": {
        "id": "g8C4TYr9sKTr",
        "outputId": "1cbc0aa3-4fd9-499c-a134-12d93a2d411b",
        "colab": {
          "base_uri": "https://localhost:8080/"
        }
      },
      "execution_count": 1,
      "outputs": [
        {
          "output_type": "stream",
          "name": "stdout",
          "text": [
            "Mounted at /content/drive\n"
          ]
        }
      ]
    },
    {
      "cell_type": "markdown",
      "source": [
        "# 안전 운전자 예측\n",
        " - 실제 보험사에서 제공한 고객 데이터 활용하여 운전자가 보험을 청구할 확률 예측\n",
        " - 문제유형 : 이진분류\n",
        " - 평가지표 : 정규화된 지니계수\n",
        " - 사용모델 : LightGBM, XGBoost의 앙상블"
      ],
      "metadata": {
        "id": "mXn6wsujp20_"
      }
    },
    {
      "cell_type": "markdown",
      "source": [
        " - 결측값이(-1로 표기) 많음\n",
        " - 0:보험금 미청구, 1:보험금 청구"
      ],
      "metadata": {
        "id": "KKoJ3tSdrFBZ"
      }
    },
    {
      "cell_type": "markdown",
      "source": [
        " - 학습 순서\n",
        "  > 1.탐색적 데이터 분석\n",
        "\n",
        "  > 2.베이스라인 모델(LightGBM)\n",
        "\n",
        "  > 3.성능개선 1(LightGBM + 피처엔지니어링 강화, 하이퍼파라미터 최적화)\n",
        "\n",
        "  > 4.성능개선 2(XGBoost)\n",
        "\n",
        "  > 5.성능개선 3(앙상블)"
      ],
      "metadata": {
        "id": "zUwl4M--woJv"
      }
    },
    {
      "cell_type": "markdown",
      "source": [
        "### 데이터 둘러보기"
      ],
      "metadata": {
        "id": "Bhvc3REyw_F9"
      }
    },
    {
      "cell_type": "code",
      "source": [
        "import pandas as pd\n",
        "\n",
        "data_path = '/content/drive/MyDrive/Colab Notebooks/kaggle/input/porto-seguro-safe-driver-prediction/'\n",
        "\n",
        "train = pd.read_csv(data_path + 'train.csv', index_col='id')\n",
        "test = pd.read_csv(data_path + 'test.csv', index_col='id')\n",
        "submission = pd.read_csv(data_path + 'sample_submission.csv', index_col='id')"
      ],
      "metadata": {
        "id": "JewBdwo9qx-8"
      },
      "execution_count": 2,
      "outputs": []
    },
    {
      "cell_type": "code",
      "source": [
        "train.shape, test.shape"
      ],
      "metadata": {
        "id": "wycQVwHzxVEJ",
        "outputId": "9641e81b-5ecb-4239-bc79-c70b85e22e35",
        "colab": {
          "base_uri": "https://localhost:8080/"
        }
      },
      "execution_count": 3,
      "outputs": [
        {
          "output_type": "execute_result",
          "data": {
            "text/plain": [
              "((595212, 58), (892816, 57))"
            ]
          },
          "metadata": {},
          "execution_count": 3
        }
      ]
    },
    {
      "cell_type": "markdown",
      "source": [
        " - 훈련데이터보다 테스트데이터가 많음\n",
        " - 타깃값을 제외하면 피처는 총 57개"
      ],
      "metadata": {
        "id": "7mJySkgbxbTO"
      }
    },
    {
      "cell_type": "code",
      "source": [
        "train.head()"
      ],
      "metadata": {
        "id": "Jrbcw2puxZUC",
        "outputId": "ed97ee1d-11fc-4dd1-be4b-24bb79d9a042",
        "colab": {
          "base_uri": "https://localhost:8080/",
          "height": 328
        }
      },
      "execution_count": 4,
      "outputs": [
        {
          "output_type": "execute_result",
          "data": {
            "text/plain": [
              "    target  ps_ind_01  ps_ind_02_cat  ps_ind_03  ps_ind_04_cat  ps_ind_05_cat  \\\n",
              "id                                                                              \n",
              "7        0          2              2          5              1              0   \n",
              "9        0          1              1          7              0              0   \n",
              "13       0          5              4          9              1              0   \n",
              "16       0          0              1          2              0              0   \n",
              "17       0          0              2          0              1              0   \n",
              "\n",
              "    ps_ind_06_bin  ps_ind_07_bin  ps_ind_08_bin  ps_ind_09_bin  ...  \\\n",
              "id                                                              ...   \n",
              "7               0              1              0              0  ...   \n",
              "9               0              0              1              0  ...   \n",
              "13              0              0              1              0  ...   \n",
              "16              1              0              0              0  ...   \n",
              "17              1              0              0              0  ...   \n",
              "\n",
              "    ps_calc_11  ps_calc_12  ps_calc_13  ps_calc_14  ps_calc_15_bin  \\\n",
              "id                                                                   \n",
              "7            9           1           5           8               0   \n",
              "9            3           1           1           9               0   \n",
              "13           4           2           7           7               0   \n",
              "16           2           2           4           9               0   \n",
              "17           3           1           1           3               0   \n",
              "\n",
              "    ps_calc_16_bin  ps_calc_17_bin  ps_calc_18_bin  ps_calc_19_bin  \\\n",
              "id                                                                   \n",
              "7                1               1               0               0   \n",
              "9                1               1               0               1   \n",
              "13               1               1               0               1   \n",
              "16               0               0               0               0   \n",
              "17               0               0               1               1   \n",
              "\n",
              "    ps_calc_20_bin  \n",
              "id                  \n",
              "7                1  \n",
              "9                0  \n",
              "13               0  \n",
              "16               0  \n",
              "17               0  \n",
              "\n",
              "[5 rows x 58 columns]"
            ],
            "text/html": [
              "\n",
              "  <div id=\"df-824be890-1dff-450d-a0ca-cef1feabba32\">\n",
              "    <div class=\"colab-df-container\">\n",
              "      <div>\n",
              "<style scoped>\n",
              "    .dataframe tbody tr th:only-of-type {\n",
              "        vertical-align: middle;\n",
              "    }\n",
              "\n",
              "    .dataframe tbody tr th {\n",
              "        vertical-align: top;\n",
              "    }\n",
              "\n",
              "    .dataframe thead th {\n",
              "        text-align: right;\n",
              "    }\n",
              "</style>\n",
              "<table border=\"1\" class=\"dataframe\">\n",
              "  <thead>\n",
              "    <tr style=\"text-align: right;\">\n",
              "      <th></th>\n",
              "      <th>target</th>\n",
              "      <th>ps_ind_01</th>\n",
              "      <th>ps_ind_02_cat</th>\n",
              "      <th>ps_ind_03</th>\n",
              "      <th>ps_ind_04_cat</th>\n",
              "      <th>ps_ind_05_cat</th>\n",
              "      <th>ps_ind_06_bin</th>\n",
              "      <th>ps_ind_07_bin</th>\n",
              "      <th>ps_ind_08_bin</th>\n",
              "      <th>ps_ind_09_bin</th>\n",
              "      <th>...</th>\n",
              "      <th>ps_calc_11</th>\n",
              "      <th>ps_calc_12</th>\n",
              "      <th>ps_calc_13</th>\n",
              "      <th>ps_calc_14</th>\n",
              "      <th>ps_calc_15_bin</th>\n",
              "      <th>ps_calc_16_bin</th>\n",
              "      <th>ps_calc_17_bin</th>\n",
              "      <th>ps_calc_18_bin</th>\n",
              "      <th>ps_calc_19_bin</th>\n",
              "      <th>ps_calc_20_bin</th>\n",
              "    </tr>\n",
              "    <tr>\n",
              "      <th>id</th>\n",
              "      <th></th>\n",
              "      <th></th>\n",
              "      <th></th>\n",
              "      <th></th>\n",
              "      <th></th>\n",
              "      <th></th>\n",
              "      <th></th>\n",
              "      <th></th>\n",
              "      <th></th>\n",
              "      <th></th>\n",
              "      <th></th>\n",
              "      <th></th>\n",
              "      <th></th>\n",
              "      <th></th>\n",
              "      <th></th>\n",
              "      <th></th>\n",
              "      <th></th>\n",
              "      <th></th>\n",
              "      <th></th>\n",
              "      <th></th>\n",
              "      <th></th>\n",
              "    </tr>\n",
              "  </thead>\n",
              "  <tbody>\n",
              "    <tr>\n",
              "      <th>7</th>\n",
              "      <td>0</td>\n",
              "      <td>2</td>\n",
              "      <td>2</td>\n",
              "      <td>5</td>\n",
              "      <td>1</td>\n",
              "      <td>0</td>\n",
              "      <td>0</td>\n",
              "      <td>1</td>\n",
              "      <td>0</td>\n",
              "      <td>0</td>\n",
              "      <td>...</td>\n",
              "      <td>9</td>\n",
              "      <td>1</td>\n",
              "      <td>5</td>\n",
              "      <td>8</td>\n",
              "      <td>0</td>\n",
              "      <td>1</td>\n",
              "      <td>1</td>\n",
              "      <td>0</td>\n",
              "      <td>0</td>\n",
              "      <td>1</td>\n",
              "    </tr>\n",
              "    <tr>\n",
              "      <th>9</th>\n",
              "      <td>0</td>\n",
              "      <td>1</td>\n",
              "      <td>1</td>\n",
              "      <td>7</td>\n",
              "      <td>0</td>\n",
              "      <td>0</td>\n",
              "      <td>0</td>\n",
              "      <td>0</td>\n",
              "      <td>1</td>\n",
              "      <td>0</td>\n",
              "      <td>...</td>\n",
              "      <td>3</td>\n",
              "      <td>1</td>\n",
              "      <td>1</td>\n",
              "      <td>9</td>\n",
              "      <td>0</td>\n",
              "      <td>1</td>\n",
              "      <td>1</td>\n",
              "      <td>0</td>\n",
              "      <td>1</td>\n",
              "      <td>0</td>\n",
              "    </tr>\n",
              "    <tr>\n",
              "      <th>13</th>\n",
              "      <td>0</td>\n",
              "      <td>5</td>\n",
              "      <td>4</td>\n",
              "      <td>9</td>\n",
              "      <td>1</td>\n",
              "      <td>0</td>\n",
              "      <td>0</td>\n",
              "      <td>0</td>\n",
              "      <td>1</td>\n",
              "      <td>0</td>\n",
              "      <td>...</td>\n",
              "      <td>4</td>\n",
              "      <td>2</td>\n",
              "      <td>7</td>\n",
              "      <td>7</td>\n",
              "      <td>0</td>\n",
              "      <td>1</td>\n",
              "      <td>1</td>\n",
              "      <td>0</td>\n",
              "      <td>1</td>\n",
              "      <td>0</td>\n",
              "    </tr>\n",
              "    <tr>\n",
              "      <th>16</th>\n",
              "      <td>0</td>\n",
              "      <td>0</td>\n",
              "      <td>1</td>\n",
              "      <td>2</td>\n",
              "      <td>0</td>\n",
              "      <td>0</td>\n",
              "      <td>1</td>\n",
              "      <td>0</td>\n",
              "      <td>0</td>\n",
              "      <td>0</td>\n",
              "      <td>...</td>\n",
              "      <td>2</td>\n",
              "      <td>2</td>\n",
              "      <td>4</td>\n",
              "      <td>9</td>\n",
              "      <td>0</td>\n",
              "      <td>0</td>\n",
              "      <td>0</td>\n",
              "      <td>0</td>\n",
              "      <td>0</td>\n",
              "      <td>0</td>\n",
              "    </tr>\n",
              "    <tr>\n",
              "      <th>17</th>\n",
              "      <td>0</td>\n",
              "      <td>0</td>\n",
              "      <td>2</td>\n",
              "      <td>0</td>\n",
              "      <td>1</td>\n",
              "      <td>0</td>\n",
              "      <td>1</td>\n",
              "      <td>0</td>\n",
              "      <td>0</td>\n",
              "      <td>0</td>\n",
              "      <td>...</td>\n",
              "      <td>3</td>\n",
              "      <td>1</td>\n",
              "      <td>1</td>\n",
              "      <td>3</td>\n",
              "      <td>0</td>\n",
              "      <td>0</td>\n",
              "      <td>0</td>\n",
              "      <td>1</td>\n",
              "      <td>1</td>\n",
              "      <td>0</td>\n",
              "    </tr>\n",
              "  </tbody>\n",
              "</table>\n",
              "<p>5 rows × 58 columns</p>\n",
              "</div>\n",
              "      <button class=\"colab-df-convert\" onclick=\"convertToInteractive('df-824be890-1dff-450d-a0ca-cef1feabba32')\"\n",
              "              title=\"Convert this dataframe to an interactive table.\"\n",
              "              style=\"display:none;\">\n",
              "        \n",
              "  <svg xmlns=\"http://www.w3.org/2000/svg\" height=\"24px\"viewBox=\"0 0 24 24\"\n",
              "       width=\"24px\">\n",
              "    <path d=\"M0 0h24v24H0V0z\" fill=\"none\"/>\n",
              "    <path d=\"M18.56 5.44l.94 2.06.94-2.06 2.06-.94-2.06-.94-.94-2.06-.94 2.06-2.06.94zm-11 1L8.5 8.5l.94-2.06 2.06-.94-2.06-.94L8.5 2.5l-.94 2.06-2.06.94zm10 10l.94 2.06.94-2.06 2.06-.94-2.06-.94-.94-2.06-.94 2.06-2.06.94z\"/><path d=\"M17.41 7.96l-1.37-1.37c-.4-.4-.92-.59-1.43-.59-.52 0-1.04.2-1.43.59L10.3 9.45l-7.72 7.72c-.78.78-.78 2.05 0 2.83L4 21.41c.39.39.9.59 1.41.59.51 0 1.02-.2 1.41-.59l7.78-7.78 2.81-2.81c.8-.78.8-2.07 0-2.86zM5.41 20L4 18.59l7.72-7.72 1.47 1.35L5.41 20z\"/>\n",
              "  </svg>\n",
              "      </button>\n",
              "      \n",
              "  <style>\n",
              "    .colab-df-container {\n",
              "      display:flex;\n",
              "      flex-wrap:wrap;\n",
              "      gap: 12px;\n",
              "    }\n",
              "\n",
              "    .colab-df-convert {\n",
              "      background-color: #E8F0FE;\n",
              "      border: none;\n",
              "      border-radius: 50%;\n",
              "      cursor: pointer;\n",
              "      display: none;\n",
              "      fill: #1967D2;\n",
              "      height: 32px;\n",
              "      padding: 0 0 0 0;\n",
              "      width: 32px;\n",
              "    }\n",
              "\n",
              "    .colab-df-convert:hover {\n",
              "      background-color: #E2EBFA;\n",
              "      box-shadow: 0px 1px 2px rgba(60, 64, 67, 0.3), 0px 1px 3px 1px rgba(60, 64, 67, 0.15);\n",
              "      fill: #174EA6;\n",
              "    }\n",
              "\n",
              "    [theme=dark] .colab-df-convert {\n",
              "      background-color: #3B4455;\n",
              "      fill: #D2E3FC;\n",
              "    }\n",
              "\n",
              "    [theme=dark] .colab-df-convert:hover {\n",
              "      background-color: #434B5C;\n",
              "      box-shadow: 0px 1px 3px 1px rgba(0, 0, 0, 0.15);\n",
              "      filter: drop-shadow(0px 1px 2px rgba(0, 0, 0, 0.3));\n",
              "      fill: #FFFFFF;\n",
              "    }\n",
              "  </style>\n",
              "\n",
              "      <script>\n",
              "        const buttonEl =\n",
              "          document.querySelector('#df-824be890-1dff-450d-a0ca-cef1feabba32 button.colab-df-convert');\n",
              "        buttonEl.style.display =\n",
              "          google.colab.kernel.accessAllowed ? 'block' : 'none';\n",
              "\n",
              "        async function convertToInteractive(key) {\n",
              "          const element = document.querySelector('#df-824be890-1dff-450d-a0ca-cef1feabba32');\n",
              "          const dataTable =\n",
              "            await google.colab.kernel.invokeFunction('convertToInteractive',\n",
              "                                                     [key], {});\n",
              "          if (!dataTable) return;\n",
              "\n",
              "          const docLinkHtml = 'Like what you see? Visit the ' +\n",
              "            '<a target=\"_blank\" href=https://colab.research.google.com/notebooks/data_table.ipynb>data table notebook</a>'\n",
              "            + ' to learn more about interactive tables.';\n",
              "          element.innerHTML = '';\n",
              "          dataTable['output_type'] = 'display_data';\n",
              "          await google.colab.output.renderOutput(dataTable, element);\n",
              "          const docLink = document.createElement('div');\n",
              "          docLink.innerHTML = docLinkHtml;\n",
              "          element.appendChild(docLink);\n",
              "        }\n",
              "      </script>\n",
              "    </div>\n",
              "  </div>\n",
              "  "
            ]
          },
          "metadata": {},
          "execution_count": 4
        }
      ]
    },
    {
      "cell_type": "code",
      "source": [
        "submission.head()"
      ],
      "metadata": {
        "id": "UoOXvO-WxlAq",
        "outputId": "8fec96d5-25eb-4e36-ba75-5edec20a209f",
        "colab": {
          "base_uri": "https://localhost:8080/",
          "height": 235
        }
      },
      "execution_count": 5,
      "outputs": [
        {
          "output_type": "execute_result",
          "data": {
            "text/plain": [
              "    target\n",
              "id        \n",
              "0   0.0364\n",
              "1   0.0364\n",
              "2   0.0364\n",
              "3   0.0364\n",
              "4   0.0364"
            ],
            "text/html": [
              "\n",
              "  <div id=\"df-7c61c4fa-08fa-4244-b5fc-2ff41f385d30\">\n",
              "    <div class=\"colab-df-container\">\n",
              "      <div>\n",
              "<style scoped>\n",
              "    .dataframe tbody tr th:only-of-type {\n",
              "        vertical-align: middle;\n",
              "    }\n",
              "\n",
              "    .dataframe tbody tr th {\n",
              "        vertical-align: top;\n",
              "    }\n",
              "\n",
              "    .dataframe thead th {\n",
              "        text-align: right;\n",
              "    }\n",
              "</style>\n",
              "<table border=\"1\" class=\"dataframe\">\n",
              "  <thead>\n",
              "    <tr style=\"text-align: right;\">\n",
              "      <th></th>\n",
              "      <th>target</th>\n",
              "    </tr>\n",
              "    <tr>\n",
              "      <th>id</th>\n",
              "      <th></th>\n",
              "    </tr>\n",
              "  </thead>\n",
              "  <tbody>\n",
              "    <tr>\n",
              "      <th>0</th>\n",
              "      <td>0.0364</td>\n",
              "    </tr>\n",
              "    <tr>\n",
              "      <th>1</th>\n",
              "      <td>0.0364</td>\n",
              "    </tr>\n",
              "    <tr>\n",
              "      <th>2</th>\n",
              "      <td>0.0364</td>\n",
              "    </tr>\n",
              "    <tr>\n",
              "      <th>3</th>\n",
              "      <td>0.0364</td>\n",
              "    </tr>\n",
              "    <tr>\n",
              "      <th>4</th>\n",
              "      <td>0.0364</td>\n",
              "    </tr>\n",
              "  </tbody>\n",
              "</table>\n",
              "</div>\n",
              "      <button class=\"colab-df-convert\" onclick=\"convertToInteractive('df-7c61c4fa-08fa-4244-b5fc-2ff41f385d30')\"\n",
              "              title=\"Convert this dataframe to an interactive table.\"\n",
              "              style=\"display:none;\">\n",
              "        \n",
              "  <svg xmlns=\"http://www.w3.org/2000/svg\" height=\"24px\"viewBox=\"0 0 24 24\"\n",
              "       width=\"24px\">\n",
              "    <path d=\"M0 0h24v24H0V0z\" fill=\"none\"/>\n",
              "    <path d=\"M18.56 5.44l.94 2.06.94-2.06 2.06-.94-2.06-.94-.94-2.06-.94 2.06-2.06.94zm-11 1L8.5 8.5l.94-2.06 2.06-.94-2.06-.94L8.5 2.5l-.94 2.06-2.06.94zm10 10l.94 2.06.94-2.06 2.06-.94-2.06-.94-.94-2.06-.94 2.06-2.06.94z\"/><path d=\"M17.41 7.96l-1.37-1.37c-.4-.4-.92-.59-1.43-.59-.52 0-1.04.2-1.43.59L10.3 9.45l-7.72 7.72c-.78.78-.78 2.05 0 2.83L4 21.41c.39.39.9.59 1.41.59.51 0 1.02-.2 1.41-.59l7.78-7.78 2.81-2.81c.8-.78.8-2.07 0-2.86zM5.41 20L4 18.59l7.72-7.72 1.47 1.35L5.41 20z\"/>\n",
              "  </svg>\n",
              "      </button>\n",
              "      \n",
              "  <style>\n",
              "    .colab-df-container {\n",
              "      display:flex;\n",
              "      flex-wrap:wrap;\n",
              "      gap: 12px;\n",
              "    }\n",
              "\n",
              "    .colab-df-convert {\n",
              "      background-color: #E8F0FE;\n",
              "      border: none;\n",
              "      border-radius: 50%;\n",
              "      cursor: pointer;\n",
              "      display: none;\n",
              "      fill: #1967D2;\n",
              "      height: 32px;\n",
              "      padding: 0 0 0 0;\n",
              "      width: 32px;\n",
              "    }\n",
              "\n",
              "    .colab-df-convert:hover {\n",
              "      background-color: #E2EBFA;\n",
              "      box-shadow: 0px 1px 2px rgba(60, 64, 67, 0.3), 0px 1px 3px 1px rgba(60, 64, 67, 0.15);\n",
              "      fill: #174EA6;\n",
              "    }\n",
              "\n",
              "    [theme=dark] .colab-df-convert {\n",
              "      background-color: #3B4455;\n",
              "      fill: #D2E3FC;\n",
              "    }\n",
              "\n",
              "    [theme=dark] .colab-df-convert:hover {\n",
              "      background-color: #434B5C;\n",
              "      box-shadow: 0px 1px 3px 1px rgba(0, 0, 0, 0.15);\n",
              "      filter: drop-shadow(0px 1px 2px rgba(0, 0, 0, 0.3));\n",
              "      fill: #FFFFFF;\n",
              "    }\n",
              "  </style>\n",
              "\n",
              "      <script>\n",
              "        const buttonEl =\n",
              "          document.querySelector('#df-7c61c4fa-08fa-4244-b5fc-2ff41f385d30 button.colab-df-convert');\n",
              "        buttonEl.style.display =\n",
              "          google.colab.kernel.accessAllowed ? 'block' : 'none';\n",
              "\n",
              "        async function convertToInteractive(key) {\n",
              "          const element = document.querySelector('#df-7c61c4fa-08fa-4244-b5fc-2ff41f385d30');\n",
              "          const dataTable =\n",
              "            await google.colab.kernel.invokeFunction('convertToInteractive',\n",
              "                                                     [key], {});\n",
              "          if (!dataTable) return;\n",
              "\n",
              "          const docLinkHtml = 'Like what you see? Visit the ' +\n",
              "            '<a target=\"_blank\" href=https://colab.research.google.com/notebooks/data_table.ipynb>data table notebook</a>'\n",
              "            + ' to learn more about interactive tables.';\n",
              "          element.innerHTML = '';\n",
              "          dataTable['output_type'] = 'display_data';\n",
              "          await google.colab.output.renderOutput(dataTable, element);\n",
              "          const docLink = document.createElement('div');\n",
              "          docLink.innerHTML = docLinkHtml;\n",
              "          element.appendChild(docLink);\n",
              "        }\n",
              "      </script>\n",
              "    </div>\n",
              "  </div>\n",
              "  "
            ]
          },
          "metadata": {},
          "execution_count": 5
        }
      ]
    },
    {
      "cell_type": "markdown",
      "source": [
        " - 타깃값이 1일 확률(보험금을 청구할 확률)"
      ],
      "metadata": {
        "id": "2NtW1TGFyP2Z"
      }
    },
    {
      "cell_type": "code",
      "source": [
        "train.info()"
      ],
      "metadata": {
        "id": "S_BLTKYextxF",
        "outputId": "66b96d7b-ffdb-49d8-9802-d82dac49c34f",
        "colab": {
          "base_uri": "https://localhost:8080/"
        }
      },
      "execution_count": 6,
      "outputs": [
        {
          "output_type": "stream",
          "name": "stdout",
          "text": [
            "<class 'pandas.core.frame.DataFrame'>\n",
            "Int64Index: 595212 entries, 7 to 1488027\n",
            "Data columns (total 58 columns):\n",
            " #   Column          Non-Null Count   Dtype  \n",
            "---  ------          --------------   -----  \n",
            " 0   target          595212 non-null  int64  \n",
            " 1   ps_ind_01       595212 non-null  int64  \n",
            " 2   ps_ind_02_cat   595212 non-null  int64  \n",
            " 3   ps_ind_03       595212 non-null  int64  \n",
            " 4   ps_ind_04_cat   595212 non-null  int64  \n",
            " 5   ps_ind_05_cat   595212 non-null  int64  \n",
            " 6   ps_ind_06_bin   595212 non-null  int64  \n",
            " 7   ps_ind_07_bin   595212 non-null  int64  \n",
            " 8   ps_ind_08_bin   595212 non-null  int64  \n",
            " 9   ps_ind_09_bin   595212 non-null  int64  \n",
            " 10  ps_ind_10_bin   595212 non-null  int64  \n",
            " 11  ps_ind_11_bin   595212 non-null  int64  \n",
            " 12  ps_ind_12_bin   595212 non-null  int64  \n",
            " 13  ps_ind_13_bin   595212 non-null  int64  \n",
            " 14  ps_ind_14       595212 non-null  int64  \n",
            " 15  ps_ind_15       595212 non-null  int64  \n",
            " 16  ps_ind_16_bin   595212 non-null  int64  \n",
            " 17  ps_ind_17_bin   595212 non-null  int64  \n",
            " 18  ps_ind_18_bin   595212 non-null  int64  \n",
            " 19  ps_reg_01       595212 non-null  float64\n",
            " 20  ps_reg_02       595212 non-null  float64\n",
            " 21  ps_reg_03       595212 non-null  float64\n",
            " 22  ps_car_01_cat   595212 non-null  int64  \n",
            " 23  ps_car_02_cat   595212 non-null  int64  \n",
            " 24  ps_car_03_cat   595212 non-null  int64  \n",
            " 25  ps_car_04_cat   595212 non-null  int64  \n",
            " 26  ps_car_05_cat   595212 non-null  int64  \n",
            " 27  ps_car_06_cat   595212 non-null  int64  \n",
            " 28  ps_car_07_cat   595212 non-null  int64  \n",
            " 29  ps_car_08_cat   595212 non-null  int64  \n",
            " 30  ps_car_09_cat   595212 non-null  int64  \n",
            " 31  ps_car_10_cat   595212 non-null  int64  \n",
            " 32  ps_car_11_cat   595212 non-null  int64  \n",
            " 33  ps_car_11       595212 non-null  int64  \n",
            " 34  ps_car_12       595212 non-null  float64\n",
            " 35  ps_car_13       595212 non-null  float64\n",
            " 36  ps_car_14       595212 non-null  float64\n",
            " 37  ps_car_15       595212 non-null  float64\n",
            " 38  ps_calc_01      595212 non-null  float64\n",
            " 39  ps_calc_02      595212 non-null  float64\n",
            " 40  ps_calc_03      595212 non-null  float64\n",
            " 41  ps_calc_04      595212 non-null  int64  \n",
            " 42  ps_calc_05      595212 non-null  int64  \n",
            " 43  ps_calc_06      595212 non-null  int64  \n",
            " 44  ps_calc_07      595212 non-null  int64  \n",
            " 45  ps_calc_08      595212 non-null  int64  \n",
            " 46  ps_calc_09      595212 non-null  int64  \n",
            " 47  ps_calc_10      595212 non-null  int64  \n",
            " 48  ps_calc_11      595212 non-null  int64  \n",
            " 49  ps_calc_12      595212 non-null  int64  \n",
            " 50  ps_calc_13      595212 non-null  int64  \n",
            " 51  ps_calc_14      595212 non-null  int64  \n",
            " 52  ps_calc_15_bin  595212 non-null  int64  \n",
            " 53  ps_calc_16_bin  595212 non-null  int64  \n",
            " 54  ps_calc_17_bin  595212 non-null  int64  \n",
            " 55  ps_calc_18_bin  595212 non-null  int64  \n",
            " 56  ps_calc_19_bin  595212 non-null  int64  \n",
            " 57  ps_calc_20_bin  595212 non-null  int64  \n",
            "dtypes: float64(10), int64(48)\n",
            "memory usage: 267.9 MB\n"
          ]
        }
      ]
    },
    {
      "cell_type": "markdown",
      "source": [
        " - 고객정보보호를 위해 피처는 비식별화 되어있음\n",
        " - bin이면 이진 피처\n",
        " - cat이면 명목형 피처\n",
        " - 데이터 종류가 생략돼 있으면 순서형 또는 연속형 피처"
      ],
      "metadata": {
        "id": "eLKxhs4SyxMP"
      }
    },
    {
      "cell_type": "markdown",
      "source": [
        " - 모든 피처에 non-null로 결측값이 없다고 나오지만, 실제로는 아님\n",
        " - **값이 누락된 곳에 -1이 입력되어 결측값이 없다고 판단한 것**\n",
        "  > -1 → np.NaN 변환 후 개수 파악\n",
        "  \n",
        "  > 피처가 많아 결측값 시각화 해서 한눈에 파악 : missingno 패키지 이용"
      ],
      "metadata": {
        "id": "2e6uaUuRzHLG"
      }
    },
    {
      "cell_type": "code",
      "source": [
        "import numpy as np\n",
        "import missingno as msno\n",
        "\n",
        "# 훈련 데이터 복사본에서 -1을 np.NaN으로 변환\n",
        "train_copy = train.copy().replace(-1, np.NaN)\n",
        "\n",
        "# 결측값 시각화(피처 57개중 앞 28개 먼저)\n",
        "msno.bar(df=train_copy.iloc[:, 1:28], figsize=(13, 6)) # missingno패키지의 bar()함수 : 결측값 막대그래프 시각화"
      ],
      "metadata": {
        "id": "ASPRJgNAyWw-",
        "outputId": "aa5fdca2-1046-4823-ed7d-3fcaa32ca347",
        "colab": {
          "base_uri": "https://localhost:8080/",
          "height": 406
        }
      },
      "execution_count": 7,
      "outputs": [
        {
          "output_type": "execute_result",
          "data": {
            "text/plain": [
              "<matplotlib.axes._subplots.AxesSubplot at 0x7efd1f7fc0d0>"
            ]
          },
          "metadata": {},
          "execution_count": 7
        },
        {
          "output_type": "display_data",
          "data": {
            "text/plain": [
              "<Figure size 936x432 with 3 Axes>"
            ],
            "image/png": "[encoded data removed]"
          },
          "metadata": {
            "needs_background": "light"
          }
        }
      ]
    },
    {
      "cell_type": "markdown",
      "source": [
        " - 막대 그래프가 낲을수록 결측값이 많음\n",
        " - 그래프 상단에 정상값의 개수 표시"
      ],
      "metadata": {
        "id": "Ixzu6OT_0jJS"
      }
    },
    {
      "cell_type": "code",
      "source": [
        "msno.bar(df=train_copy.iloc[:, 29:], figsize=(13, 6))"
      ],
      "metadata": {
        "id": "3vSDWUJx0TTj",
        "outputId": "77b8617a-e25c-49cf-9482-48b5a924385d",
        "colab": {
          "base_uri": "https://localhost:8080/",
          "height": 398
        }
      },
      "execution_count": 8,
      "outputs": [
        {
          "output_type": "execute_result",
          "data": {
            "text/plain": [
              "<matplotlib.axes._subplots.AxesSubplot at 0x7efd10aee190>"
            ]
          },
          "metadata": {},
          "execution_count": 8
        },
        {
          "output_type": "display_data",
          "data": {
            "text/plain": [
              "<Figure size 936x432 with 3 Axes>"
            ],
            "image/png": "[encoded data removed]"
          },
          "metadata": {
            "needs_background": "light"
          }
        }
      ]
    },
    {
      "cell_type": "markdown",
      "source": [
        " - 결측값 매트릭스 형태로 시각화하기\n",
        "  > bar() 대신 matrix() 함수 사용"
      ],
      "metadata": {
        "id": "zQQMyY2c02v3"
      }
    },
    {
      "cell_type": "code",
      "source": [
        "msno.matrix(df=train_copy.iloc[:, 1:29], figsize=(13, 6))"
      ],
      "metadata": {
        "id": "odR3CGm90wrp",
        "outputId": "efc18d4a-e05c-4008-a1ca-dc4df6293257",
        "colab": {
          "base_uri": "https://localhost:8080/",
          "height": 377
        }
      },
      "execution_count": 9,
      "outputs": [
        {
          "output_type": "execute_result",
          "data": {
            "text/plain": [
              "<matplotlib.axes._subplots.AxesSubplot at 0x7efd0dbe79d0>"
            ]
          },
          "metadata": {},
          "execution_count": 9
        },
        {
          "output_type": "display_data",
          "data": {
            "text/plain": [
              "<Figure size 936x432 with 2 Axes>"
            ],
            "image/png": "[encoded data removed]"
          },
          "metadata": {
            "needs_background": "light"
          }
        }
      ]
    },
    {
      "cell_type": "markdown",
      "source": [
        " - 22는 결측값이 없는 열 개수\n",
        " - 28은 전체 열 개수"
      ],
      "metadata": {
        "id": "wFDVu5G2YhOM"
      }
    },
    {
      "cell_type": "markdown",
      "source": [
        "#### 피처 요약표\n",
        " - 피처 종류가 다양해 한눈에 파악하기 위해 피처 요약표 만들자\n",
        " - 데이터 관리 및 그래프 그릴때 활용"
      ],
      "metadata": {
        "id": "2-RZyANgYoOL"
      }
    },
    {
      "cell_type": "code",
      "source": [
        "def resumetable(df):\n",
        "    print('데이터 형상 : {}'.format(df.shape))\n",
        "    summary = pd.DataFrame(df.dtypes, columns=['데이터 타입'])\n",
        "    summary['결측값 개수'] = (df== -1).sum().values # sum() : 데이터 프레임의 True만 '열'단위로 합산\n",
        "    summary['고윳값 개수'] = df.nunique().values # nunique() : 데이터 프레임의 unique한 요소의 개수를 '열'단위로 합산\n",
        "    summary['데이터 종류'] = None\n",
        "    for col in df.columns:\n",
        "        if 'bin' in col or col =='target':\n",
        "            summary.loc[col, '데이터 종류'] = '이진형'\n",
        "        elif 'cat' in col:\n",
        "            summary.loc[col, '데이터 종류'] = '명목형'\n",
        "        elif df[col].dtype == float: # 이진형/명목형도 아닌 데이터가 실수라면 연속형 데이터\n",
        "            summary.loc[col, '데이터 종류'] = '연속형'\n",
        "        elif df[col].dtype == int: # 이진형/명목형도 아닌 데이터가 정수라면 순서형 데이터\n",
        "            summary.loc[col, '데이터 종류'] = '순서형'\n",
        "\n",
        "    return summary"
      ],
      "metadata": {
        "id": "3Ufp2ktB1B4u"
      },
      "execution_count": 3,
      "outputs": []
    },
    {
      "cell_type": "code",
      "source": [
        "summary = resumetable(train) # 리턴되는 summary를 편하게 활용하기위해 변수에 넣음\n",
        "summary"
      ],
      "metadata": {
        "id": "hf1tDx2RZKGV",
        "outputId": "d5dbe65a-5439-4078-8e36-3861c5b4c8bc",
        "colab": {
          "base_uri": "https://localhost:8080/",
          "height": 1000
        }
      },
      "execution_count": 11,
      "outputs": [
        {
          "output_type": "stream",
          "name": "stdout",
          "text": [
            "데이터 형상 : (595212, 58)\n"
          ]
        },
        {
          "output_type": "execute_result",
          "data": {
            "text/plain": [
              "                 데이터 타입  결측값 개수  고윳값 개수 데이터 종류\n",
              "target            int64       0       2    이진형\n",
              "ps_ind_01         int64       0       8    순서형\n",
              "ps_ind_02_cat     int64     216       5    명목형\n",
              "ps_ind_03         int64       0      12    순서형\n",
              "ps_ind_04_cat     int64      83       3    명목형\n",
              "ps_ind_05_cat     int64    5809       8    명목형\n",
              "ps_ind_06_bin     int64       0       2    이진형\n",
              "ps_ind_07_bin     int64       0       2    이진형\n",
              "ps_ind_08_bin     int64       0       2    이진형\n",
              "ps_ind_09_bin     int64       0       2    이진형\n",
              "ps_ind_10_bin     int64       0       2    이진형\n",
              "ps_ind_11_bin     int64       0       2    이진형\n",
              "ps_ind_12_bin     int64       0       2    이진형\n",
              "ps_ind_13_bin     int64       0       2    이진형\n",
              "ps_ind_14         int64       0       5    순서형\n",
              "ps_ind_15         int64       0      14    순서형\n",
              "ps_ind_16_bin     int64       0       2    이진형\n",
              "ps_ind_17_bin     int64       0       2    이진형\n",
              "ps_ind_18_bin     int64       0       2    이진형\n",
              "ps_reg_01       float64       0      10    연속형\n",
              "ps_reg_02       float64       0      19    연속형\n",
              "ps_reg_03       float64  107772    5013    연속형\n",
              "ps_car_01_cat     int64     107      13    명목형\n",
              "ps_car_02_cat     int64       5       3    명목형\n",
              "ps_car_03_cat     int64  411231       3    명목형\n",
              "ps_car_04_cat     int64       0      10    명목형\n",
              "ps_car_05_cat     int64  266551       3    명목형\n",
              "ps_car_06_cat     int64       0      18    명목형\n",
              "ps_car_07_cat     int64   11489       3    명목형\n",
              "ps_car_08_cat     int64       0       2    명목형\n",
              "ps_car_09_cat     int64     569       6    명목형\n",
              "ps_car_10_cat     int64       0       3    명목형\n",
              "ps_car_11_cat     int64       0     104    명목형\n",
              "ps_car_11         int64       5       5    순서형\n",
              "ps_car_12       float64       1     184    연속형\n",
              "ps_car_13       float64       0   70482    연속형\n",
              "ps_car_14       float64   42620     850    연속형\n",
              "ps_car_15       float64       0      15    연속형\n",
              "ps_calc_01      float64       0      10    연속형\n",
              "ps_calc_02      float64       0      10    연속형\n",
              "ps_calc_03      float64       0      10    연속형\n",
              "ps_calc_04        int64       0       6    순서형\n",
              "ps_calc_05        int64       0       7    순서형\n",
              "ps_calc_06        int64       0      11    순서형\n",
              "ps_calc_07        int64       0      10    순서형\n",
              "ps_calc_08        int64       0      11    순서형\n",
              "ps_calc_09        int64       0       8    순서형\n",
              "ps_calc_10        int64       0      26    순서형\n",
              "ps_calc_11        int64       0      20    순서형\n",
              "ps_calc_12        int64       0      11    순서형\n",
              "ps_calc_13        int64       0      14    순서형\n",
              "ps_calc_14        int64       0      24    순서형\n",
              "ps_calc_15_bin    int64       0       2    이진형\n",
              "ps_calc_16_bin    int64       0       2    이진형\n",
              "ps_calc_17_bin    int64       0       2    이진형\n",
              "ps_calc_18_bin    int64       0       2    이진형\n",
              "ps_calc_19_bin    int64       0       2    이진형\n",
              "ps_calc_20_bin    int64       0       2    이진형"
            ],
            "text/html": [
              "\n",
              "  <div id=\"df-28ccfa4d-f2a2-4ce0-aa09-3a0d93a3474a\">\n",
              "    <div class=\"colab-df-container\">\n",
              "      <div>\n",
              "<style scoped>\n",
              "    .dataframe tbody tr th:only-of-type {\n",
              "        vertical-align: middle;\n",
              "    }\n",
              "\n",
              "    .dataframe tbody tr th {\n",
              "        vertical-align: top;\n",
              "    }\n",
              "\n",
              "    .dataframe thead th {\n",
              "        text-align: right;\n",
              "    }\n",
              "</style>\n",
              "<table border=\"1\" class=\"dataframe\">\n",
              "  <thead>\n",
              "    <tr style=\"text-align: right;\">\n",
              "      <th></th>\n",
              "      <th>데이터 타입</th>\n",
              "      <th>결측값 개수</th>\n",
              "      <th>고윳값 개수</th>\n",
              "      <th>데이터 종류</th>\n",
              "    </tr>\n",
              "  </thead>\n",
              "  <tbody>\n",
              "    <tr>\n",
              "      <th>target</th>\n",
              "      <td>int64</td>\n",
              "      <td>0</td>\n",
              "      <td>2</td>\n",
              "      <td>이진형</td>\n",
              "    </tr>\n",
              "    <tr>\n",
              "      <th>ps_ind_01</th>\n",
              "      <td>int64</td>\n",
              "      <td>0</td>\n",
              "      <td>8</td>\n",
              "      <td>순서형</td>\n",
              "    </tr>\n",
              "    <tr>\n",
              "      <th>ps_ind_02_cat</th>\n",
              "      <td>int64</td>\n",
              "      <td>216</td>\n",
              "      <td>5</td>\n",
              "      <td>명목형</td>\n",
              "    </tr>\n",
              "    <tr>\n",
              "      <th>ps_ind_03</th>\n",
              "      <td>int64</td>\n",
              "      <td>0</td>\n",
              "      <td>12</td>\n",
              "      <td>순서형</td>\n",
              "    </tr>\n",
              "    <tr>\n",
              "      <th>ps_ind_04_cat</th>\n",
              "      <td>int64</td>\n",
              "      <td>83</td>\n",
              "      <td>3</td>\n",
              "      <td>명목형</td>\n",
              "    </tr>\n",
              "    <tr>\n",
              "      <th>ps_ind_05_cat</th>\n",
              "      <td>int64</td>\n",
              "      <td>5809</td>\n",
              "      <td>8</td>\n",
              "      <td>명목형</td>\n",
              "    </tr>\n",
              "    <tr>\n",
              "      <th>ps_ind_06_bin</th>\n",
              "      <td>int64</td>\n",
              "      <td>0</td>\n",
              "      <td>2</td>\n",
              "      <td>이진형</td>\n",
              "    </tr>\n",
              "    <tr>\n",
              "      <th>ps_ind_07_bin</th>\n",
              "      <td>int64</td>\n",
              "      <td>0</td>\n",
              "      <td>2</td>\n",
              "      <td>이진형</td>\n",
              "    </tr>\n",
              "    <tr>\n",
              "      <th>ps_ind_08_bin</th>\n",
              "      <td>int64</td>\n",
              "      <td>0</td>\n",
              "      <td>2</td>\n",
              "      <td>이진형</td>\n",
              "    </tr>\n",
              "    <tr>\n",
              "      <th>ps_ind_09_bin</th>\n",
              "      <td>int64</td>\n",
              "      <td>0</td>\n",
              "      <td>2</td>\n",
              "      <td>이진형</td>\n",
              "    </tr>\n",
              "    <tr>\n",
              "      <th>ps_ind_10_bin</th>\n",
              "      <td>int64</td>\n",
              "      <td>0</td>\n",
              "      <td>2</td>\n",
              "      <td>이진형</td>\n",
              "    </tr>\n",
              "    <tr>\n",
              "      <th>ps_ind_11_bin</th>\n",
              "      <td>int64</td>\n",
              "      <td>0</td>\n",
              "      <td>2</td>\n",
              "      <td>이진형</td>\n",
              "    </tr>\n",
              "    <tr>\n",
              "      <th>ps_ind_12_bin</th>\n",
              "      <td>int64</td>\n",
              "      <td>0</td>\n",
              "      <td>2</td>\n",
              "      <td>이진형</td>\n",
              "    </tr>\n",
              "    <tr>\n",
              "      <th>ps_ind_13_bin</th>\n",
              "      <td>int64</td>\n",
              "      <td>0</td>\n",
              "      <td>2</td>\n",
              "      <td>이진형</td>\n",
              "    </tr>\n",
              "    <tr>\n",
              "      <th>ps_ind_14</th>\n",
              "      <td>int64</td>\n",
              "      <td>0</td>\n",
              "      <td>5</td>\n",
              "      <td>순서형</td>\n",
              "    </tr>\n",
              "    <tr>\n",
              "      <th>ps_ind_15</th>\n",
              "      <td>int64</td>\n",
              "      <td>0</td>\n",
              "      <td>14</td>\n",
              "      <td>순서형</td>\n",
              "    </tr>\n",
              "    <tr>\n",
              "      <th>ps_ind_16_bin</th>\n",
              "      <td>int64</td>\n",
              "      <td>0</td>\n",
              "      <td>2</td>\n",
              "      <td>이진형</td>\n",
              "    </tr>\n",
              "    <tr>\n",
              "      <th>ps_ind_17_bin</th>\n",
              "      <td>int64</td>\n",
              "      <td>0</td>\n",
              "      <td>2</td>\n",
              "      <td>이진형</td>\n",
              "    </tr>\n",
              "    <tr>\n",
              "      <th>ps_ind_18_bin</th>\n",
              "      <td>int64</td>\n",
              "      <td>0</td>\n",
              "      <td>2</td>\n",
              "      <td>이진형</td>\n",
              "    </tr>\n",
              "    <tr>\n",
              "      <th>ps_reg_01</th>\n",
              "      <td>float64</td>\n",
              "      <td>0</td>\n",
              "      <td>10</td>\n",
              "      <td>연속형</td>\n",
              "    </tr>\n",
              "    <tr>\n",
              "      <th>ps_reg_02</th>\n",
              "      <td>float64</td>\n",
              "      <td>0</td>\n",
              "      <td>19</td>\n",
              "      <td>연속형</td>\n",
              "    </tr>\n",
              "    <tr>\n",
              "      <th>ps_reg_03</th>\n",
              "      <td>float64</td>\n",
              "      <td>107772</td>\n",
              "      <td>5013</td>\n",
              "      <td>연속형</td>\n",
              "    </tr>\n",
              "    <tr>\n",
              "      <th>ps_car_01_cat</th>\n",
              "      <td>int64</td>\n",
              "      <td>107</td>\n",
              "      <td>13</td>\n",
              "      <td>명목형</td>\n",
              "    </tr>\n",
              "    <tr>\n",
              "      <th>ps_car_02_cat</th>\n",
              "      <td>int64</td>\n",
              "      <td>5</td>\n",
              "      <td>3</td>\n",
              "      <td>명목형</td>\n",
              "    </tr>\n",
              "    <tr>\n",
              "      <th>ps_car_03_cat</th>\n",
              "      <td>int64</td>\n",
              "      <td>411231</td>\n",
              "      <td>3</td>\n",
              "      <td>명목형</td>\n",
              "    </tr>\n",
              "    <tr>\n",
              "      <th>ps_car_04_cat</th>\n",
              "      <td>int64</td>\n",
              "      <td>0</td>\n",
              "      <td>10</td>\n",
              "      <td>명목형</td>\n",
              "    </tr>\n",
              "    <tr>\n",
              "      <th>ps_car_05_cat</th>\n",
              "      <td>int64</td>\n",
              "      <td>266551</td>\n",
              "      <td>3</td>\n",
              "      <td>명목형</td>\n",
              "    </tr>\n",
              "    <tr>\n",
              "      <th>ps_car_06_cat</th>\n",
              "      <td>int64</td>\n",
              "      <td>0</td>\n",
              "      <td>18</td>\n",
              "      <td>명목형</td>\n",
              "    </tr>\n",
              "    <tr>\n",
              "      <th>ps_car_07_cat</th>\n",
              "      <td>int64</td>\n",
              "      <td>11489</td>\n",
              "      <td>3</td>\n",
              "      <td>명목형</td>\n",
              "    </tr>\n",
              "    <tr>\n",
              "      <th>ps_car_08_cat</th>\n",
              "      <td>int64</td>\n",
              "      <td>0</td>\n",
              "      <td>2</td>\n",
              "      <td>명목형</td>\n",
              "    </tr>\n",
              "    <tr>\n",
              "      <th>ps_car_09_cat</th>\n",
              "      <td>int64</td>\n",
              "      <td>569</td>\n",
              "      <td>6</td>\n",
              "      <td>명목형</td>\n",
              "    </tr>\n",
              "    <tr>\n",
              "      <th>ps_car_10_cat</th>\n",
              "      <td>int64</td>\n",
              "      <td>0</td>\n",
              "      <td>3</td>\n",
              "      <td>명목형</td>\n",
              "    </tr>\n",
              "    <tr>\n",
              "      <th>ps_car_11_cat</th>\n",
              "      <td>int64</td>\n",
              "      <td>0</td>\n",
              "      <td>104</td>\n",
              "      <td>명목형</td>\n",
              "    </tr>\n",
              "    <tr>\n",
              "      <th>ps_car_11</th>\n",
              "      <td>int64</td>\n",
              "      <td>5</td>\n",
              "      <td>5</td>\n",
              "      <td>순서형</td>\n",
              "    </tr>\n",
              "    <tr>\n",
              "      <th>ps_car_12</th>\n",
              "      <td>float64</td>\n",
              "      <td>1</td>\n",
              "      <td>184</td>\n",
              "      <td>연속형</td>\n",
              "    </tr>\n",
              "    <tr>\n",
              "      <th>ps_car_13</th>\n",
              "      <td>float64</td>\n",
              "      <td>0</td>\n",
              "      <td>70482</td>\n",
              "      <td>연속형</td>\n",
              "    </tr>\n",
              "    <tr>\n",
              "      <th>ps_car_14</th>\n",
              "      <td>float64</td>\n",
              "      <td>42620</td>\n",
              "      <td>850</td>\n",
              "      <td>연속형</td>\n",
              "    </tr>\n",
              "    <tr>\n",
              "      <th>ps_car_15</th>\n",
              "      <td>float64</td>\n",
              "      <td>0</td>\n",
              "      <td>15</td>\n",
              "      <td>연속형</td>\n",
              "    </tr>\n",
              "    <tr>\n",
              "      <th>ps_calc_01</th>\n",
              "      <td>float64</td>\n",
              "      <td>0</td>\n",
              "      <td>10</td>\n",
              "      <td>연속형</td>\n",
              "    </tr>\n",
              "    <tr>\n",
              "      <th>ps_calc_02</th>\n",
              "      <td>float64</td>\n",
              "      <td>0</td>\n",
              "      <td>10</td>\n",
              "      <td>연속형</td>\n",
              "    </tr>\n",
              "    <tr>\n",
              "      <th>ps_calc_03</th>\n",
              "      <td>float64</td>\n",
              "      <td>0</td>\n",
              "      <td>10</td>\n",
              "      <td>연속형</td>\n",
              "    </tr>\n",
              "    <tr>\n",
              "      <th>ps_calc_04</th>\n",
              "      <td>int64</td>\n",
              "      <td>0</td>\n",
              "      <td>6</td>\n",
              "      <td>순서형</td>\n",
              "    </tr>\n",
              "    <tr>\n",
              "      <th>ps_calc_05</th>\n",
              "      <td>int64</td>\n",
              "      <td>0</td>\n",
              "      <td>7</td>\n",
              "      <td>순서형</td>\n",
              "    </tr>\n",
              "    <tr>\n",
              "      <th>ps_calc_06</th>\n",
              "      <td>int64</td>\n",
              "      <td>0</td>\n",
              "      <td>11</td>\n",
              "      <td>순서형</td>\n",
              "    </tr>\n",
              "    <tr>\n",
              "      <th>ps_calc_07</th>\n",
              "      <td>int64</td>\n",
              "      <td>0</td>\n",
              "      <td>10</td>\n",
              "      <td>순서형</td>\n",
              "    </tr>\n",
              "    <tr>\n",
              "      <th>ps_calc_08</th>\n",
              "      <td>int64</td>\n",
              "      <td>0</td>\n",
              "      <td>11</td>\n",
              "      <td>순서형</td>\n",
              "    </tr>\n",
              "    <tr>\n",
              "      <th>ps_calc_09</th>\n",
              "      <td>int64</td>\n",
              "      <td>0</td>\n",
              "      <td>8</td>\n",
              "      <td>순서형</td>\n",
              "    </tr>\n",
              "    <tr>\n",
              "      <th>ps_calc_10</th>\n",
              "      <td>int64</td>\n",
              "      <td>0</td>\n",
              "      <td>26</td>\n",
              "      <td>순서형</td>\n",
              "    </tr>\n",
              "    <tr>\n",
              "      <th>ps_calc_11</th>\n",
              "      <td>int64</td>\n",
              "      <td>0</td>\n",
              "      <td>20</td>\n",
              "      <td>순서형</td>\n",
              "    </tr>\n",
              "    <tr>\n",
              "      <th>ps_calc_12</th>\n",
              "      <td>int64</td>\n",
              "      <td>0</td>\n",
              "      <td>11</td>\n",
              "      <td>순서형</td>\n",
              "    </tr>\n",
              "    <tr>\n",
              "      <th>ps_calc_13</th>\n",
              "      <td>int64</td>\n",
              "      <td>0</td>\n",
              "      <td>14</td>\n",
              "      <td>순서형</td>\n",
              "    </tr>\n",
              "    <tr>\n",
              "      <th>ps_calc_14</th>\n",
              "      <td>int64</td>\n",
              "      <td>0</td>\n",
              "      <td>24</td>\n",
              "      <td>순서형</td>\n",
              "    </tr>\n",
              "    <tr>\n",
              "      <th>ps_calc_15_bin</th>\n",
              "      <td>int64</td>\n",
              "      <td>0</td>\n",
              "      <td>2</td>\n",
              "      <td>이진형</td>\n",
              "    </tr>\n",
              "    <tr>\n",
              "      <th>ps_calc_16_bin</th>\n",
              "      <td>int64</td>\n",
              "      <td>0</td>\n",
              "      <td>2</td>\n",
              "      <td>이진형</td>\n",
              "    </tr>\n",
              "    <tr>\n",
              "      <th>ps_calc_17_bin</th>\n",
              "      <td>int64</td>\n",
              "      <td>0</td>\n",
              "      <td>2</td>\n",
              "      <td>이진형</td>\n",
              "    </tr>\n",
              "    <tr>\n",
              "      <th>ps_calc_18_bin</th>\n",
              "      <td>int64</td>\n",
              "      <td>0</td>\n",
              "      <td>2</td>\n",
              "      <td>이진형</td>\n",
              "    </tr>\n",
              "    <tr>\n",
              "      <th>ps_calc_19_bin</th>\n",
              "      <td>int64</td>\n",
              "      <td>0</td>\n",
              "      <td>2</td>\n",
              "      <td>이진형</td>\n",
              "    </tr>\n",
              "    <tr>\n",
              "      <th>ps_calc_20_bin</th>\n",
              "      <td>int64</td>\n",
              "      <td>0</td>\n",
              "      <td>2</td>\n",
              "      <td>이진형</td>\n",
              "    </tr>\n",
              "  </tbody>\n",
              "</table>\n",
              "</div>\n",
              "      <button class=\"colab-df-convert\" onclick=\"convertToInteractive('df-28ccfa4d-f2a2-4ce0-aa09-3a0d93a3474a')\"\n",
              "              title=\"Convert this dataframe to an interactive table.\"\n",
              "              style=\"display:none;\">\n",
              "        \n",
              "  <svg xmlns=\"http://www.w3.org/2000/svg\" height=\"24px\"viewBox=\"0 0 24 24\"\n",
              "       width=\"24px\">\n",
              "    <path d=\"M0 0h24v24H0V0z\" fill=\"none\"/>\n",
              "    <path d=\"M18.56 5.44l.94 2.06.94-2.06 2.06-.94-2.06-.94-.94-2.06-.94 2.06-2.06.94zm-11 1L8.5 8.5l.94-2.06 2.06-.94-2.06-.94L8.5 2.5l-.94 2.06-2.06.94zm10 10l.94 2.06.94-2.06 2.06-.94-2.06-.94-.94-2.06-.94 2.06-2.06.94z\"/><path d=\"M17.41 7.96l-1.37-1.37c-.4-.4-.92-.59-1.43-.59-.52 0-1.04.2-1.43.59L10.3 9.45l-7.72 7.72c-.78.78-.78 2.05 0 2.83L4 21.41c.39.39.9.59 1.41.59.51 0 1.02-.2 1.41-.59l7.78-7.78 2.81-2.81c.8-.78.8-2.07 0-2.86zM5.41 20L4 18.59l7.72-7.72 1.47 1.35L5.41 20z\"/>\n",
              "  </svg>\n",
              "      </button>\n",
              "      \n",
              "  <style>\n",
              "    .colab-df-container {\n",
              "      display:flex;\n",
              "      flex-wrap:wrap;\n",
              "      gap: 12px;\n",
              "    }\n",
              "\n",
              "    .colab-df-convert {\n",
              "      background-color: #E8F0FE;\n",
              "      border: none;\n",
              "      border-radius: 50%;\n",
              "      cursor: pointer;\n",
              "      display: none;\n",
              "      fill: #1967D2;\n",
              "      height: 32px;\n",
              "      padding: 0 0 0 0;\n",
              "      width: 32px;\n",
              "    }\n",
              "\n",
              "    .colab-df-convert:hover {\n",
              "      background-color: #E2EBFA;\n",
              "      box-shadow: 0px 1px 2px rgba(60, 64, 67, 0.3), 0px 1px 3px 1px rgba(60, 64, 67, 0.15);\n",
              "      fill: #174EA6;\n",
              "    }\n",
              "\n",
              "    [theme=dark] .colab-df-convert {\n",
              "      background-color: #3B4455;\n",
              "      fill: #D2E3FC;\n",
              "    }\n",
              "\n",
              "    [theme=dark] .colab-df-convert:hover {\n",
              "      background-color: #434B5C;\n",
              "      box-shadow: 0px 1px 3px 1px rgba(0, 0, 0, 0.15);\n",
              "      filter: drop-shadow(0px 1px 2px rgba(0, 0, 0, 0.3));\n",
              "      fill: #FFFFFF;\n",
              "    }\n",
              "  </style>\n",
              "\n",
              "      <script>\n",
              "        const buttonEl =\n",
              "          document.querySelector('#df-28ccfa4d-f2a2-4ce0-aa09-3a0d93a3474a button.colab-df-convert');\n",
              "        buttonEl.style.display =\n",
              "          google.colab.kernel.accessAllowed ? 'block' : 'none';\n",
              "\n",
              "        async function convertToInteractive(key) {\n",
              "          const element = document.querySelector('#df-28ccfa4d-f2a2-4ce0-aa09-3a0d93a3474a');\n",
              "          const dataTable =\n",
              "            await google.colab.kernel.invokeFunction('convertToInteractive',\n",
              "                                                     [key], {});\n",
              "          if (!dataTable) return;\n",
              "\n",
              "          const docLinkHtml = 'Like what you see? Visit the ' +\n",
              "            '<a target=\"_blank\" href=https://colab.research.google.com/notebooks/data_table.ipynb>data table notebook</a>'\n",
              "            + ' to learn more about interactive tables.';\n",
              "          element.innerHTML = '';\n",
              "          dataTable['output_type'] = 'display_data';\n",
              "          await google.colab.output.renderOutput(dataTable, element);\n",
              "          const docLink = document.createElement('div');\n",
              "          docLink.innerHTML = docLinkHtml;\n",
              "          element.appendChild(docLink);\n",
              "        }\n",
              "      </script>\n",
              "    </div>\n",
              "  </div>\n",
              "  "
            ]
          },
          "metadata": {},
          "execution_count": 11
        }
      ]
    },
    {
      "cell_type": "code",
      "source": [
        "summary[summary['데이터 종류'] == '명목형']"
      ],
      "metadata": {
        "id": "aY7v0Gm_ZK9o",
        "outputId": "89543b5d-3b39-4160-e50e-5f7c3b4264a5",
        "colab": {
          "base_uri": "https://localhost:8080/",
          "height": 483
        }
      },
      "execution_count": 12,
      "outputs": [
        {
          "output_type": "execute_result",
          "data": {
            "text/plain": [
              "              데이터 타입  결측값 개수  고윳값 개수 데이터 종류\n",
              "ps_ind_02_cat  int64     216       5    명목형\n",
              "ps_ind_04_cat  int64      83       3    명목형\n",
              "ps_ind_05_cat  int64    5809       8    명목형\n",
              "ps_car_01_cat  int64     107      13    명목형\n",
              "ps_car_02_cat  int64       5       3    명목형\n",
              "ps_car_03_cat  int64  411231       3    명목형\n",
              "ps_car_04_cat  int64       0      10    명목형\n",
              "ps_car_05_cat  int64  266551       3    명목형\n",
              "ps_car_06_cat  int64       0      18    명목형\n",
              "ps_car_07_cat  int64   11489       3    명목형\n",
              "ps_car_08_cat  int64       0       2    명목형\n",
              "ps_car_09_cat  int64     569       6    명목형\n",
              "ps_car_10_cat  int64       0       3    명목형\n",
              "ps_car_11_cat  int64       0     104    명목형"
            ],
            "text/html": [
              "\n",
              "  <div id=\"df-3c25fb86-897b-4d1a-bd18-e73103ecd318\">\n",
              "    <div class=\"colab-df-container\">\n",
              "      <div>\n",
              "<style scoped>\n",
              "    .dataframe tbody tr th:only-of-type {\n",
              "        vertical-align: middle;\n",
              "    }\n",
              "\n",
              "    .dataframe tbody tr th {\n",
              "        vertical-align: top;\n",
              "    }\n",
              "\n",
              "    .dataframe thead th {\n",
              "        text-align: right;\n",
              "    }\n",
              "</style>\n",
              "<table border=\"1\" class=\"dataframe\">\n",
              "  <thead>\n",
              "    <tr style=\"text-align: right;\">\n",
              "      <th></th>\n",
              "      <th>데이터 타입</th>\n",
              "      <th>결측값 개수</th>\n",
              "      <th>고윳값 개수</th>\n",
              "      <th>데이터 종류</th>\n",
              "    </tr>\n",
              "  </thead>\n",
              "  <tbody>\n",
              "    <tr>\n",
              "      <th>ps_ind_02_cat</th>\n",
              "      <td>int64</td>\n",
              "      <td>216</td>\n",
              "      <td>5</td>\n",
              "      <td>명목형</td>\n",
              "    </tr>\n",
              "    <tr>\n",
              "      <th>ps_ind_04_cat</th>\n",
              "      <td>int64</td>\n",
              "      <td>83</td>\n",
              "      <td>3</td>\n",
              "      <td>명목형</td>\n",
              "    </tr>\n",
              "    <tr>\n",
              "      <th>ps_ind_05_cat</th>\n",
              "      <td>int64</td>\n",
              "      <td>5809</td>\n",
              "      <td>8</td>\n",
              "      <td>명목형</td>\n",
              "    </tr>\n",
              "    <tr>\n",
              "      <th>ps_car_01_cat</th>\n",
              "      <td>int64</td>\n",
              "      <td>107</td>\n",
              "      <td>13</td>\n",
              "      <td>명목형</td>\n",
              "    </tr>\n",
              "    <tr>\n",
              "      <th>ps_car_02_cat</th>\n",
              "      <td>int64</td>\n",
              "      <td>5</td>\n",
              "      <td>3</td>\n",
              "      <td>명목형</td>\n",
              "    </tr>\n",
              "    <tr>\n",
              "      <th>ps_car_03_cat</th>\n",
              "      <td>int64</td>\n",
              "      <td>411231</td>\n",
              "      <td>3</td>\n",
              "      <td>명목형</td>\n",
              "    </tr>\n",
              "    <tr>\n",
              "      <th>ps_car_04_cat</th>\n",
              "      <td>int64</td>\n",
              "      <td>0</td>\n",
              "      <td>10</td>\n",
              "      <td>명목형</td>\n",
              "    </tr>\n",
              "    <tr>\n",
              "      <th>ps_car_05_cat</th>\n",
              "      <td>int64</td>\n",
              "      <td>266551</td>\n",
              "      <td>3</td>\n",
              "      <td>명목형</td>\n",
              "    </tr>\n",
              "    <tr>\n",
              "      <th>ps_car_06_cat</th>\n",
              "      <td>int64</td>\n",
              "      <td>0</td>\n",
              "      <td>18</td>\n",
              "      <td>명목형</td>\n",
              "    </tr>\n",
              "    <tr>\n",
              "      <th>ps_car_07_cat</th>\n",
              "      <td>int64</td>\n",
              "      <td>11489</td>\n",
              "      <td>3</td>\n",
              "      <td>명목형</td>\n",
              "    </tr>\n",
              "    <tr>\n",
              "      <th>ps_car_08_cat</th>\n",
              "      <td>int64</td>\n",
              "      <td>0</td>\n",
              "      <td>2</td>\n",
              "      <td>명목형</td>\n",
              "    </tr>\n",
              "    <tr>\n",
              "      <th>ps_car_09_cat</th>\n",
              "      <td>int64</td>\n",
              "      <td>569</td>\n",
              "      <td>6</td>\n",
              "      <td>명목형</td>\n",
              "    </tr>\n",
              "    <tr>\n",
              "      <th>ps_car_10_cat</th>\n",
              "      <td>int64</td>\n",
              "      <td>0</td>\n",
              "      <td>3</td>\n",
              "      <td>명목형</td>\n",
              "    </tr>\n",
              "    <tr>\n",
              "      <th>ps_car_11_cat</th>\n",
              "      <td>int64</td>\n",
              "      <td>0</td>\n",
              "      <td>104</td>\n",
              "      <td>명목형</td>\n",
              "    </tr>\n",
              "  </tbody>\n",
              "</table>\n",
              "</div>\n",
              "      <button class=\"colab-df-convert\" onclick=\"convertToInteractive('df-3c25fb86-897b-4d1a-bd18-e73103ecd318')\"\n",
              "              title=\"Convert this dataframe to an interactive table.\"\n",
              "              style=\"display:none;\">\n",
              "        \n",
              "  <svg xmlns=\"http://www.w3.org/2000/svg\" height=\"24px\"viewBox=\"0 0 24 24\"\n",
              "       width=\"24px\">\n",
              "    <path d=\"M0 0h24v24H0V0z\" fill=\"none\"/>\n",
              "    <path d=\"M18.56 5.44l.94 2.06.94-2.06 2.06-.94-2.06-.94-.94-2.06-.94 2.06-2.06.94zm-11 1L8.5 8.5l.94-2.06 2.06-.94-2.06-.94L8.5 2.5l-.94 2.06-2.06.94zm10 10l.94 2.06.94-2.06 2.06-.94-2.06-.94-.94-2.06-.94 2.06-2.06.94z\"/><path d=\"M17.41 7.96l-1.37-1.37c-.4-.4-.92-.59-1.43-.59-.52 0-1.04.2-1.43.59L10.3 9.45l-7.72 7.72c-.78.78-.78 2.05 0 2.83L4 21.41c.39.39.9.59 1.41.59.51 0 1.02-.2 1.41-.59l7.78-7.78 2.81-2.81c.8-.78.8-2.07 0-2.86zM5.41 20L4 18.59l7.72-7.72 1.47 1.35L5.41 20z\"/>\n",
              "  </svg>\n",
              "      </button>\n",
              "      \n",
              "  <style>\n",
              "    .colab-df-container {\n",
              "      display:flex;\n",
              "      flex-wrap:wrap;\n",
              "      gap: 12px;\n",
              "    }\n",
              "\n",
              "    .colab-df-convert {\n",
              "      background-color: #E8F0FE;\n",
              "      border: none;\n",
              "      border-radius: 50%;\n",
              "      cursor: pointer;\n",
              "      display: none;\n",
              "      fill: #1967D2;\n",
              "      height: 32px;\n",
              "      padding: 0 0 0 0;\n",
              "      width: 32px;\n",
              "    }\n",
              "\n",
              "    .colab-df-convert:hover {\n",
              "      background-color: #E2EBFA;\n",
              "      box-shadow: 0px 1px 2px rgba(60, 64, 67, 0.3), 0px 1px 3px 1px rgba(60, 64, 67, 0.15);\n",
              "      fill: #174EA6;\n",
              "    }\n",
              "\n",
              "    [theme=dark] .colab-df-convert {\n",
              "      background-color: #3B4455;\n",
              "      fill: #D2E3FC;\n",
              "    }\n",
              "\n",
              "    [theme=dark] .colab-df-convert:hover {\n",
              "      background-color: #434B5C;\n",
              "      box-shadow: 0px 1px 3px 1px rgba(0, 0, 0, 0.15);\n",
              "      filter: drop-shadow(0px 1px 2px rgba(0, 0, 0, 0.3));\n",
              "      fill: #FFFFFF;\n",
              "    }\n",
              "  </style>\n",
              "\n",
              "      <script>\n",
              "        const buttonEl =\n",
              "          document.querySelector('#df-3c25fb86-897b-4d1a-bd18-e73103ecd318 button.colab-df-convert');\n",
              "        buttonEl.style.display =\n",
              "          google.colab.kernel.accessAllowed ? 'block' : 'none';\n",
              "\n",
              "        async function convertToInteractive(key) {\n",
              "          const element = document.querySelector('#df-3c25fb86-897b-4d1a-bd18-e73103ecd318');\n",
              "          const dataTable =\n",
              "            await google.colab.kernel.invokeFunction('convertToInteractive',\n",
              "                                                     [key], {});\n",
              "          if (!dataTable) return;\n",
              "\n",
              "          const docLinkHtml = 'Like what you see? Visit the ' +\n",
              "            '<a target=\"_blank\" href=https://colab.research.google.com/notebooks/data_table.ipynb>data table notebook</a>'\n",
              "            + ' to learn more about interactive tables.';\n",
              "          element.innerHTML = '';\n",
              "          dataTable['output_type'] = 'display_data';\n",
              "          await google.colab.output.renderOutput(dataTable, element);\n",
              "          const docLink = document.createElement('div');\n",
              "          docLink.innerHTML = docLinkHtml;\n",
              "          element.appendChild(docLink);\n",
              "        }\n",
              "      </script>\n",
              "    </div>\n",
              "  </div>\n",
              "  "
            ]
          },
          "metadata": {},
          "execution_count": 12
        }
      ]
    },
    {
      "cell_type": "code",
      "source": [
        "summary[summary['데이터 종류'] == '명목형'].index"
      ],
      "metadata": {
        "id": "IicZtEQZcAXo",
        "outputId": "8ff57a7a-14d3-4751-85fe-7e1d21fa747a",
        "colab": {
          "base_uri": "https://localhost:8080/"
        }
      },
      "execution_count": 13,
      "outputs": [
        {
          "output_type": "execute_result",
          "data": {
            "text/plain": [
              "Index(['ps_ind_02_cat', 'ps_ind_04_cat', 'ps_ind_05_cat', 'ps_car_01_cat',\n",
              "       'ps_car_02_cat', 'ps_car_03_cat', 'ps_car_04_cat', 'ps_car_05_cat',\n",
              "       'ps_car_06_cat', 'ps_car_07_cat', 'ps_car_08_cat', 'ps_car_09_cat',\n",
              "       'ps_car_10_cat', 'ps_car_11_cat'],\n",
              "      dtype='object')"
            ]
          },
          "metadata": {},
          "execution_count": 13
        }
      ]
    },
    {
      "cell_type": "markdown",
      "source": [
        " - 피처 요약표를 통해 원하는 데이터 타입의 피처를 편하게 추출할 수 있다"
      ],
      "metadata": {
        "id": "kUJHJhC2cahz"
      }
    },
    {
      "cell_type": "markdown",
      "source": [
        "### 데이터 시각화\n",
        " - 필요한 피처와 필요없는 피처 선별\n",
        " - 타깃값 분포를 활용해 타깃값이 얼마나 불균형 한지\n",
        " - 피처의 고윳값별 타깃값 비율을 알아보자\n",
        "  > 모델링 시 어떤 피처를 제거해야할지 확인"
      ],
      "metadata": {
        "id": "-zBCJp7pciAU"
      }
    },
    {
      "cell_type": "markdown",
      "source": [
        "#### 타깃값 분포"
      ],
      "metadata": {
        "id": "3l43qiZ9dFcd"
      }
    },
    {
      "cell_type": "code",
      "source": [
        "import seaborn as sns\n",
        "import matplotlib as mpl\n",
        "import matplotlib.pyplot as plt"
      ],
      "metadata": {
        "id": "31fl-QxGcWPv"
      },
      "execution_count": 4,
      "outputs": []
    },
    {
      "cell_type": "code",
      "source": [
        "def write_percent(ax):\n",
        "    total_size = 0\n",
        "    for patch in ax.patches:\n",
        "        total_size += patch.get_height()\n",
        "    for patch in ax.patches:\n",
        "        height = patch.get_height()\n",
        "        width = patch.get_width()\n",
        "        left_coord = patch.get_x()\n",
        "        percent = height/total_size*100\n",
        "\n",
        "        ax.text(x=left_coord + width/2.0,\n",
        "                y=height + total_size*0.001,\n",
        "                s=f'{percent:1.1f}%', # 입력 텍스트\n",
        "                ha='center') # 가운데 정렬\n",
        "\n",
        "plt.figure(figsize=(7,6))\n",
        "\n",
        "ax = sns.countplot(x='target', data=train)\n",
        "write_percent(ax)\n",
        "ax.set_title('Target Distribution')"
      ],
      "metadata": {
        "id": "nuX-FoB8ex8_",
        "outputId": "eaddf9e9-c505-4f3a-80a0-50c227c42e84",
        "colab": {
          "base_uri": "https://localhost:8080/",
          "height": 421
        }
      },
      "execution_count": 5,
      "outputs": [
        {
          "output_type": "execute_result",
          "data": {
            "text/plain": [
              "Text(0.5, 1.0, 'Target Distribution')"
            ]
          },
          "metadata": {},
          "execution_count": 5
        },
        {
          "output_type": "display_data",
          "data": {
            "text/plain": [
              "<Figure size 504x432 with 1 Axes>"
            ],
            "image/png": "[encoded data removed]"
          },
          "metadata": {
            "needs_background": "light"
          }
        }
      ]
    },
    {
      "cell_type": "markdown",
      "source": [
        " - 타깃값 0은 96.4%, 1은 3.6% 차지\n",
        " - 전체 운전자 중 3.6.%만 보험금 청구 → 타깃값 불균형"
      ],
      "metadata": {
        "id": "YSLTFHtQg-gv"
      }
    },
    {
      "cell_type": "markdown",
      "source": [
        " - 각 피처의 고윳값 별 타깃값 1의 비율\n",
        " - 해당 피처가 모델링에 필요한 피처인지 확인\n",
        "  > A피처의 고윳값 a,b가 있다\n",
        "\n",
        "  > a,b 각각 타깃값 1의 비율의 차이가 없다면,\n",
        "\n",
        "  > A피처로는 무언가를 분별할 수 없다\n",
        "\n",
        "  > 고윳값에 따라 타깃값 비율이 달라야 그피처가 타깃값 예측에 도움을 준다 \n",
        "\n",
        "  > 통계적 유효성이 떨어져 신뢰구간이 넓다면,\n",
        "\n",
        "  > ex) 그는 키가 150 ~200cm 이다.\n",
        "\n",
        "  > 예측에 도움이 안된다."
      ],
      "metadata": {
        "id": "1a53njEzT8rz"
      }
    },
    {
      "cell_type": "markdown",
      "source": [
        "![피처의 고윳값 비율 및 신뢰도.PNG](data:image/png;base64,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)"
      ],
      "metadata": {
        "id": "IDG--WkAV6Oi"
      }
    },
    {
      "cell_type": "markdown",
      "source": [
        "#### 이진 피처\n",
        " - 이진 피처의 고윳값별 타깃값 비율을 막대그래프로"
      ],
      "metadata": {
        "id": "h16gExgtWDiz"
      }
    },
    {
      "cell_type": "code",
      "source": [
        "import matplotlib.gridspec as gridspec\n",
        "\n",
        "def plot_target_ratio_by_features(df, features, num_rows, num_cols,\n",
        "                                  size=(12, 18)):\n",
        "    plt.figure(figsize=size) # 전체 Figure 크기 설정\n",
        "    grid = gridspec.GridSpec(num_rows, num_cols) # 서브플롯 배치 설정을 위한 객체\n",
        "    plt.subplots_adjust(wspace=0.3, hspace=0.3) # 서브플롯 좌우/상하 여백 설정\n",
        "\n",
        "    for idx, feature in enumerate(features):\n",
        "        ax = plt.subplot(grid[idx]) # 축을 할당(서브플롯 배치를 기준으로)\n",
        "        sns.barplot(x=feature, y='target', data=df, palette='Set2', ax=ax) # 할당된 축에 막대그래프 그리기\n"
      ],
      "metadata": {
        "id": "cNIHOgEogHYJ"
      },
      "execution_count": 6,
      "outputs": []
    },
    {
      "cell_type": "markdown",
      "source": [
        " - 주어진 데이터 중 이진 피처는 총 18개\n",
        " - 서브플롯 3열로 배치"
      ],
      "metadata": {
        "id": "dncecjcgYgw_"
      }
    },
    {
      "cell_type": "code",
      "source": [
        "bin_features = summary[summary['데이터 종류']=='이진형'].index # 이진피처 이름만 뽑아냄\n",
        "\n",
        "plot_target_ratio_by_features(train, bin_features, 6, 3)"
      ],
      "metadata": {
        "colab": {
          "base_uri": "https://localhost:8080/",
          "height": 922
        },
        "id": "6SDsKUjFYZmb",
        "outputId": "936226be-08ab-45e9-8fbf-6f117fa9fefa"
      },
      "execution_count": 17,
      "outputs": [
        {
          "output_type": "display_data",
          "data": {
            "text/plain": [
              "<Figure size 864x1296 with 18 Axes>"
            ],
            "image/png": "[encoded data removed]"
          },
          "metadata": {
            "needs_background": "light"
          }
        }
      ]
    },
    {
      "cell_type": "markdown",
      "source": [
        " - 1번 그래프 : 타깃값 그래프 → 무시\n",
        " - 분석결과\n",
        "  > 그래프6번~9번 : 신뢰구간이 넓어 통계적 유효성 떨어짐\n",
        "\n",
        "  > 그래프13번~18번 : 고윳값별 타깃값 비율 차이 없어 예측력이 없음"
      ],
      "metadata": {
        "id": "pdvhM55eamI3"
      }
    },
    {
      "cell_type": "markdown",
      "source": [
        "#### 명목형 피처"
      ],
      "metadata": {
        "id": "EeqdZ1NXbDQU"
      }
    },
    {
      "cell_type": "code",
      "source": [
        "nom_features = summary[summary['데이터 종류'] == '명목형'].index\n",
        "\n",
        "plot_target_ratio_by_features(train, nom_features, 7, 2) # 고유한 타깃값이 많으므로 가로로 길게\n"
      ],
      "metadata": {
        "colab": {
          "base_uri": "https://localhost:8080/",
          "height": 910
        },
        "id": "xKJfz6C2aGbh",
        "outputId": "a3e7a708-e00e-4f18-83ee-acb8e0c5b40d"
      },
      "execution_count": 20,
      "outputs": [
        {
          "output_type": "display_data",
          "data": {
            "text/plain": [
              "<Figure size 864x1296 with 14 Axes>"
            ],
            "image/png": "[encoded data removed]"
          },
          "metadata": {
            "needs_background": "light"
          }
        }
      ]
    },
    {
      "cell_type": "markdown",
      "source": [
        " - -1은 결측값 \n",
        "  > 결측값이 적다면 다른값으로 대체\n",
        "\n",
        "  > 결측값이 많다면 해당 피처 제거\n",
        "\n",
        " - 결측값 자체에 타깃값 예측력이 있다면 고윳값으로 간주(결측값 처리 불필요)"
      ],
      "metadata": {
        "id": "qv4ZVuwVxTHH"
      }
    },
    {
      "cell_type": "markdown",
      "source": [
        "![신뢰구간과 피처 제거.PNG](data:image/png;base64,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)"
      ],
      "metadata": {
        "id": "X2ui4YeoyGum"
      }
    },
    {
      "cell_type": "markdown",
      "source": [
        " - ps_car_10_cat의 경우 고윳값 2의 신뢰구간이 넓다\n",
        "  > 해당 피처를 제거한 경우와 그렇지 않은 경우 비교해볼 필요 있음"
      ],
      "metadata": {
        "id": "ndJwe6CfysX6"
      }
    },
    {
      "cell_type": "markdown",
      "source": [
        "#### 순서형 피처"
      ],
      "metadata": {
        "id": "B0xeJmMxy0j3"
      }
    },
    {
      "cell_type": "code",
      "source": [
        "ord_features = summary[summary['데이터 종류'] == '순서형'].index\n",
        "\n",
        "plot_target_ratio_by_features(train, ord_features, 8, 2, (12, 10)) #"
      ],
      "metadata": {
        "colab": {
          "base_uri": "https://localhost:8080/",
          "height": 531
        },
        "id": "hGVJGT2tbY5C",
        "outputId": "700c8ae8-927a-451f-dbb6-319be712f998"
      },
      "execution_count": 21,
      "outputs": [
        {
          "output_type": "display_data",
          "data": {
            "text/plain": [
              "<Figure size 864x720 with 16 Axes>"
            ],
            "image/png": "[encoded data removed]"
          },
          "metadata": {
            "needs_background": "light"
          }
        }
      ]
    },
    {
      "cell_type": "markdown",
      "source": [
        " - ps_ind_14 : 타깃값 비율의 신뢰구간 넓어 통계적 유효성 떨어짐\n",
        " - ps_ind_04 ~ ps_cal_14 : 고윳값별 타깃값 비율 차이 없음"
      ],
      "metadata": {
        "id": "eubyoJcO3URY"
      }
    },
    {
      "cell_type": "markdown",
      "source": [
        "#### 연속형 피처\n",
        " - 연속형 피처는 고윳값이 굉장히 많음\n",
        " - 몇개의 구간으로 나눠 구간별 비율을 알아보자\n",
        " - 판다스의 cut() 함수"
      ],
      "metadata": {
        "id": "88DhJXu63iHW"
      }
    },
    {
      "cell_type": "code",
      "source": [
        "pd.cut([1.0, 1.5, 2.1, 2.7, 3.5, 4.0], 3)"
      ],
      "metadata": {
        "colab": {
          "base_uri": "https://localhost:8080/"
        },
        "id": "U1Y6-Q1I1-_R",
        "outputId": "a73beee3-3d94-4eb2-fcb5-7873017f12b1"
      },
      "execution_count": 22,
      "outputs": [
        {
          "output_type": "execute_result",
          "data": {
            "text/plain": [
              "[(0.997, 2.0], (0.997, 2.0], (2.0, 3.0], (2.0, 3.0], (3.0, 4.0], (3.0, 4.0]]\n",
              "Categories (3, interval[float64, right]): [(0.997, 2.0] < (2.0, 3.0] < (3.0, 4.0]]"
            ]
          },
          "metadata": {},
          "execution_count": 22
        }
      ]
    },
    {
      "cell_type": "markdown",
      "source": [
        " - 연속형 데이터를 범주형 데이터로 바꾸는 효과\n",
        " - float타입 → category타입\n",
        " - \"(\"는 초과, \"]\"는 이하"
      ],
      "metadata": {
        "id": "_1dWm5LF4HVT"
      }
    },
    {
      "cell_type": "code",
      "source": [
        "cont_features = summary[summary['데이터 종류'] == '연속형'].index \n",
        "\n",
        "plt.figure(figsize=(12, 16))\n",
        "grid = gridspec.GridSpec(5, 2)\n",
        "plt.subplots_adjust(wspace=0.2, hspace=0.4)\n",
        "\n",
        "for idx, cont_feature in enumerate(cont_features):\n",
        "    # 값을 5개 구간으로 나누기\n",
        "    train[cont_feature] = pd.cut(train[cont_feature], 5)\n",
        "\n",
        "    ax = plt.subplot(grid[idx]) # 축을 먼저 그림\n",
        "    sns.barplot(x=cont_feature, y='target',data=train, palette='Set2', ax=ax)\n",
        "    ax.tick_params(axis='x', labelrotation=10)"
      ],
      "metadata": {
        "id": "pYNqYT5s5Sjd"
      },
      "execution_count": null,
      "outputs": []
    },
    {
      "cell_type": "markdown",
      "source": [
        "##### grid를 활용한 그래프 배치 및 그리기\n",
        " - GriSpec()를 활용하여 for문 이용시 용이함"
      ],
      "metadata": {
        "id": "J7Y4nchKq7en"
      }
    },
    {
      "cell_type": "code",
      "source": [
        "plt.figure(figsize=(12, 16))\n",
        "grid = gridspec.GridSpec(5, 2)\n",
        "\n",
        "\n",
        "ax = plt.subplot(grid[0]) # 변수에 할당만해도 그려짐\n",
        "ax = plt.subplot(grid[1]) \n",
        "plt.subplot(grid[3]) # 변수에 할당없이도 그려짐"
      ],
      "metadata": {
        "colab": {
          "base_uri": "https://localhost:8080/",
          "height": 362
        },
        "id": "h0uyoN96qpIL",
        "outputId": "b8164612-0539-4d8e-8f69-e1b43f4eebbb"
      },
      "execution_count": 10,
      "outputs": [
        {
          "output_type": "execute_result",
          "data": {
            "text/plain": [
              "<matplotlib.axes._subplots.AxesSubplot at 0x7fc43513bfd0>"
            ]
          },
          "metadata": {},
          "execution_count": 10
        },
        {
          "output_type": "display_data",
          "data": {
            "text/plain": [
              "<Figure size 864x1152 with 3 Axes>"
            ],
            "image/png": "[encoded data removed]"
          },
          "metadata": {
            "needs_background": "light"
          }
        }
      ]
    },
    {
      "cell_type": "code",
      "source": [
        ""
      ],
      "metadata": {
        "id": "7uzwIMMdqr4m"
      },
      "execution_count": null,
      "outputs": []
    }
  ],
  "metadata": {
    "colab": {
      "collapsed_sections": [],
      "name": "Colaboratory에 오신 것을 환영합니다",
      "provenance": [],
      "include_colab_link": true
    },
    "kernelspec": {
      "display_name": "Python 3",
      "name": "python3"
    }
  },
  "nbformat": 4,
  "nbformat_minor": 0
}