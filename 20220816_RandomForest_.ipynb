{
  "cells": [
    {
      "cell_type": "markdown",
      "metadata": {
        "id": "view-in-github",
        "colab_type": "text"
      },
      "source": [
        "<a href=\"https://colab.research.google.com/github/kiyong21c/kaggle/blob/main/20220816_RandomForest_.ipynb\" target=\"_parent\"><img src=\"https://colab.research.google.com/assets/colab-badge.svg\" alt=\"Open In Colab\"/></a>"
      ]
    },
    {
      "cell_type": "markdown",
      "source": [
        "# 랜덤 포레스트\n",
        " - 결정 트리의 단점인 오버피팅 문제를 완화\n",
        " - 랜덤으로 생성된 많은 트리를 이용한 앙상블 기법\n",
        " - 앙상블 기법을 사용한 트리 기반 모델 중 가장 보편적\n",
        " - 부스팅 모델에 비하면 예측력/속도에서 떨어짐"
      ],
      "metadata": {
        "id": "htoz7eSiIHSw"
      }
    },
    {
      "cell_type": "markdown",
      "source": [
        "# 중고차 판매 이력 데이터셋을 이용해 중고차 가격 예측\n",
        " - 알고리즘 : 랜덤 포레스트\n",
        " - 문제유형 : 회귀\n",
        " - 평가지표 : RMSE\n",
        " - 사용모델 : RandomForestRegressor"
      ],
      "metadata": {
        "id": "kfZEfQ6GIryp"
      }
    },
    {
      "cell_type": "code",
      "source": [
        "import pandas as pd\n",
        "import numpy as np\n",
        "import matplotlib.pyplot as plt\n",
        "import seaborn as sns\n",
        "\n",
        "file_url = 'http://media.githubusercontent.com/media/musthave-ML10/data_source/main/car.csv'\n",
        "data = pd.read_csv(file_url)"
      ],
      "metadata": {
        "id": "yQ1lzWNeIrg5"
      },
      "execution_count": 1,
      "outputs": []
    },
    {
      "cell_type": "code",
      "source": [
        "data.head()"
      ],
      "metadata": {
        "id": "t3_ybrXlIC_J",
        "outputId": "671aa8aa-2e41-4f6e-c62a-01117e8f1aa5",
        "colab": {
          "base_uri": "https://localhost:8080/",
          "height": 206
        }
      },
      "execution_count": 2,
      "outputs": [
        {
          "output_type": "execute_result",
          "data": {
            "text/plain": [
              "                           name  year  selling_price  km_driven    fuel  \\\n",
              "0        Maruti Swift Dzire VDI  2014         450000     145500  Diesel   \n",
              "1  Skoda Rapid 1.5 TDI Ambition  2014         370000     120000  Diesel   \n",
              "2      Honda City 2017-2020 EXi  2006         158000     140000  Petrol   \n",
              "3     Hyundai i20 Sportz Diesel  2010         225000     127000  Diesel   \n",
              "4        Maruti Swift VXI BSIII  2007         130000     120000  Petrol   \n",
              "\n",
              "  seller_type transmission         owner     mileage   engine   max_power  \\\n",
              "0  Individual       Manual   First Owner   23.4 kmpl  1248 CC      74 bhp   \n",
              "1  Individual       Manual  Second Owner  21.14 kmpl  1498 CC  103.52 bhp   \n",
              "2  Individual       Manual   Third Owner   17.7 kmpl  1497 CC      78 bhp   \n",
              "3  Individual       Manual   First Owner   23.0 kmpl  1396 CC      90 bhp   \n",
              "4  Individual       Manual   First Owner   16.1 kmpl  1298 CC    88.2 bhp   \n",
              "\n",
              "                     torque  seats  \n",
              "0            190Nm@ 2000rpm    5.0  \n",
              "1       250Nm@ 1500-2500rpm    5.0  \n",
              "2     12.7@ 2,700(kgm@ rpm)    5.0  \n",
              "3  22.4 kgm at 1750-2750rpm    5.0  \n",
              "4     11.5@ 4,500(kgm@ rpm)    5.0  "
            ],
            "text/html": [
              "\n",
              "  <div id=\"df-db5ec234-d568-4ae8-9239-987c60cd426f\">\n",
              "    <div class=\"colab-df-container\">\n",
              "      <div>\n",
              "<style scoped>\n",
              "    .dataframe tbody tr th:only-of-type {\n",
              "        vertical-align: middle;\n",
              "    }\n",
              "\n",
              "    .dataframe tbody tr th {\n",
              "        vertical-align: top;\n",
              "    }\n",
              "\n",
              "    .dataframe thead th {\n",
              "        text-align: right;\n",
              "    }\n",
              "</style>\n",
              "<table border=\"1\" class=\"dataframe\">\n",
              "  <thead>\n",
              "    <tr style=\"text-align: right;\">\n",
              "      <th></th>\n",
              "      <th>name</th>\n",
              "      <th>year</th>\n",
              "      <th>selling_price</th>\n",
              "      <th>km_driven</th>\n",
              "      <th>fuel</th>\n",
              "      <th>seller_type</th>\n",
              "      <th>transmission</th>\n",
              "      <th>owner</th>\n",
              "      <th>mileage</th>\n",
              "      <th>engine</th>\n",
              "      <th>max_power</th>\n",
              "      <th>torque</th>\n",
              "      <th>seats</th>\n",
              "    </tr>\n",
              "  </thead>\n",
              "  <tbody>\n",
              "    <tr>\n",
              "      <th>0</th>\n",
              "      <td>Maruti Swift Dzire VDI</td>\n",
              "      <td>2014</td>\n",
              "      <td>450000</td>\n",
              "      <td>145500</td>\n",
              "      <td>Diesel</td>\n",
              "      <td>Individual</td>\n",
              "      <td>Manual</td>\n",
              "      <td>First Owner</td>\n",
              "      <td>23.4 kmpl</td>\n",
              "      <td>1248 CC</td>\n",
              "      <td>74 bhp</td>\n",
              "      <td>190Nm@ 2000rpm</td>\n",
              "      <td>5.0</td>\n",
              "    </tr>\n",
              "    <tr>\n",
              "      <th>1</th>\n",
              "      <td>Skoda Rapid 1.5 TDI Ambition</td>\n",
              "      <td>2014</td>\n",
              "      <td>370000</td>\n",
              "      <td>120000</td>\n",
              "      <td>Diesel</td>\n",
              "      <td>Individual</td>\n",
              "      <td>Manual</td>\n",
              "      <td>Second Owner</td>\n",
              "      <td>21.14 kmpl</td>\n",
              "      <td>1498 CC</td>\n",
              "      <td>103.52 bhp</td>\n",
              "      <td>250Nm@ 1500-2500rpm</td>\n",
              "      <td>5.0</td>\n",
              "    </tr>\n",
              "    <tr>\n",
              "      <th>2</th>\n",
              "      <td>Honda City 2017-2020 EXi</td>\n",
              "      <td>2006</td>\n",
              "      <td>158000</td>\n",
              "      <td>140000</td>\n",
              "      <td>Petrol</td>\n",
              "      <td>Individual</td>\n",
              "      <td>Manual</td>\n",
              "      <td>Third Owner</td>\n",
              "      <td>17.7 kmpl</td>\n",
              "      <td>1497 CC</td>\n",
              "      <td>78 bhp</td>\n",
              "      <td>12.7@ 2,700(kgm@ rpm)</td>\n",
              "      <td>5.0</td>\n",
              "    </tr>\n",
              "    <tr>\n",
              "      <th>3</th>\n",
              "      <td>Hyundai i20 Sportz Diesel</td>\n",
              "      <td>2010</td>\n",
              "      <td>225000</td>\n",
              "      <td>127000</td>\n",
              "      <td>Diesel</td>\n",
              "      <td>Individual</td>\n",
              "      <td>Manual</td>\n",
              "      <td>First Owner</td>\n",
              "      <td>23.0 kmpl</td>\n",
              "      <td>1396 CC</td>\n",
              "      <td>90 bhp</td>\n",
              "      <td>22.4 kgm at 1750-2750rpm</td>\n",
              "      <td>5.0</td>\n",
              "    </tr>\n",
              "    <tr>\n",
              "      <th>4</th>\n",
              "      <td>Maruti Swift VXI BSIII</td>\n",
              "      <td>2007</td>\n",
              "      <td>130000</td>\n",
              "      <td>120000</td>\n",
              "      <td>Petrol</td>\n",
              "      <td>Individual</td>\n",
              "      <td>Manual</td>\n",
              "      <td>First Owner</td>\n",
              "      <td>16.1 kmpl</td>\n",
              "      <td>1298 CC</td>\n",
              "      <td>88.2 bhp</td>\n",
              "      <td>11.5@ 4,500(kgm@ rpm)</td>\n",
              "      <td>5.0</td>\n",
              "    </tr>\n",
              "  </tbody>\n",
              "</table>\n",
              "</div>\n",
              "      <button class=\"colab-df-convert\" onclick=\"convertToInteractive('df-db5ec234-d568-4ae8-9239-987c60cd426f')\"\n",
              "              title=\"Convert this dataframe to an interactive table.\"\n",
              "              style=\"display:none;\">\n",
              "        \n",
              "  <svg xmlns=\"http://www.w3.org/2000/svg\" height=\"24px\"viewBox=\"0 0 24 24\"\n",
              "       width=\"24px\">\n",
              "    <path d=\"M0 0h24v24H0V0z\" fill=\"none\"/>\n",
              "    <path d=\"M18.56 5.44l.94 2.06.94-2.06 2.06-.94-2.06-.94-.94-2.06-.94 2.06-2.06.94zm-11 1L8.5 8.5l.94-2.06 2.06-.94-2.06-.94L8.5 2.5l-.94 2.06-2.06.94zm10 10l.94 2.06.94-2.06 2.06-.94-2.06-.94-.94-2.06-.94 2.06-2.06.94z\"/><path d=\"M17.41 7.96l-1.37-1.37c-.4-.4-.92-.59-1.43-.59-.52 0-1.04.2-1.43.59L10.3 9.45l-7.72 7.72c-.78.78-.78 2.05 0 2.83L4 21.41c.39.39.9.59 1.41.59.51 0 1.02-.2 1.41-.59l7.78-7.78 2.81-2.81c.8-.78.8-2.07 0-2.86zM5.41 20L4 18.59l7.72-7.72 1.47 1.35L5.41 20z\"/>\n",
              "  </svg>\n",
              "      </button>\n",
              "      \n",
              "  <style>\n",
              "    .colab-df-container {\n",
              "      display:flex;\n",
              "      flex-wrap:wrap;\n",
              "      gap: 12px;\n",
              "    }\n",
              "\n",
              "    .colab-df-convert {\n",
              "      background-color: #E8F0FE;\n",
              "      border: none;\n",
              "      border-radius: 50%;\n",
              "      cursor: pointer;\n",
              "      display: none;\n",
              "      fill: #1967D2;\n",
              "      height: 32px;\n",
              "      padding: 0 0 0 0;\n",
              "      width: 32px;\n",
              "    }\n",
              "\n",
              "    .colab-df-convert:hover {\n",
              "      background-color: #E2EBFA;\n",
              "      box-shadow: 0px 1px 2px rgba(60, 64, 67, 0.3), 0px 1px 3px 1px rgba(60, 64, 67, 0.15);\n",
              "      fill: #174EA6;\n",
              "    }\n",
              "\n",
              "    [theme=dark] .colab-df-convert {\n",
              "      background-color: #3B4455;\n",
              "      fill: #D2E3FC;\n",
              "    }\n",
              "\n",
              "    [theme=dark] .colab-df-convert:hover {\n",
              "      background-color: #434B5C;\n",
              "      box-shadow: 0px 1px 3px 1px rgba(0, 0, 0, 0.15);\n",
              "      filter: drop-shadow(0px 1px 2px rgba(0, 0, 0, 0.3));\n",
              "      fill: #FFFFFF;\n",
              "    }\n",
              "  </style>\n",
              "\n",
              "      <script>\n",
              "        const buttonEl =\n",
              "          document.querySelector('#df-db5ec234-d568-4ae8-9239-987c60cd426f button.colab-df-convert');\n",
              "        buttonEl.style.display =\n",
              "          google.colab.kernel.accessAllowed ? 'block' : 'none';\n",
              "\n",
              "        async function convertToInteractive(key) {\n",
              "          const element = document.querySelector('#df-db5ec234-d568-4ae8-9239-987c60cd426f');\n",
              "          const dataTable =\n",
              "            await google.colab.kernel.invokeFunction('convertToInteractive',\n",
              "                                                     [key], {});\n",
              "          if (!dataTable) return;\n",
              "\n",
              "          const docLinkHtml = 'Like what you see? Visit the ' +\n",
              "            '<a target=\"_blank\" href=https://colab.research.google.com/notebooks/data_table.ipynb>data table notebook</a>'\n",
              "            + ' to learn more about interactive tables.';\n",
              "          element.innerHTML = '';\n",
              "          dataTable['output_type'] = 'display_data';\n",
              "          await google.colab.output.renderOutput(dataTable, element);\n",
              "          const docLink = document.createElement('div');\n",
              "          docLink.innerHTML = docLinkHtml;\n",
              "          element.appendChild(docLink);\n",
              "        }\n",
              "      </script>\n",
              "    </div>\n",
              "  </div>\n",
              "  "
            ]
          },
          "metadata": {},
          "execution_count": 2
        }
      ]
    },
    {
      "cell_type": "code",
      "source": [
        "data.info()"
      ],
      "metadata": {
        "id": "2s_3CZxtJM_R",
        "outputId": "ccbf7010-545a-4d79-b306-d4f6d7473a00",
        "colab": {
          "base_uri": "https://localhost:8080/"
        }
      },
      "execution_count": 3,
      "outputs": [
        {
          "output_type": "stream",
          "name": "stdout",
          "text": [
            "<class 'pandas.core.frame.DataFrame'>\n",
            "RangeIndex: 8128 entries, 0 to 8127\n",
            "Data columns (total 13 columns):\n",
            " #   Column         Non-Null Count  Dtype  \n",
            "---  ------         --------------  -----  \n",
            " 0   name           8128 non-null   object \n",
            " 1   year           8128 non-null   int64  \n",
            " 2   selling_price  8128 non-null   int64  \n",
            " 3   km_driven      8128 non-null   int64  \n",
            " 4   fuel           8128 non-null   object \n",
            " 5   seller_type    8128 non-null   object \n",
            " 6   transmission   8128 non-null   object \n",
            " 7   owner          8128 non-null   object \n",
            " 8   mileage        7907 non-null   object \n",
            " 9   engine         7907 non-null   object \n",
            " 10  max_power      7913 non-null   object \n",
            " 11  torque         7906 non-null   object \n",
            " 12  seats          7907 non-null   float64\n",
            "dtypes: float64(1), int64(3), object(9)\n",
            "memory usage: 825.6+ KB\n"
          ]
        }
      ]
    },
    {
      "cell_type": "markdown",
      "source": [
        " - 결측치가 있는 변수들이 있음\n",
        " - engine 변수는 숫자형 데이터여야 하는데 'cc'가 뒤에 붙어 문자형 데이터로 인식됨\n",
        " "
      ],
      "metadata": {
        "id": "VTZIrQbcJafc"
      }
    },
    {
      "cell_type": "code",
      "source": [
        "round(data.describe(), 2)"
      ],
      "metadata": {
        "id": "_Gk2lAz7JZgU",
        "outputId": "a2168a7d-cbbf-467b-ac0d-c0faa92a5bf3",
        "colab": {
          "base_uri": "https://localhost:8080/",
          "height": 300
        }
      },
      "execution_count": 4,
      "outputs": [
        {
          "output_type": "execute_result",
          "data": {
            "text/plain": [
              "          year  selling_price   km_driven    seats\n",
              "count  8128.00        8128.00     8128.00  7907.00\n",
              "mean   2013.80      638271.81    69819.51     5.42\n",
              "std       4.04      806253.40    56550.55     0.96\n",
              "min    1983.00       29999.00        1.00     2.00\n",
              "25%    2011.00      254999.00    35000.00     5.00\n",
              "50%    2015.00      450000.00    60000.00     5.00\n",
              "75%    2017.00      675000.00    98000.00     5.00\n",
              "max    2020.00    10000000.00  2360457.00    14.00"
            ],
            "text/html": [
              "\n",
              "  <div id=\"df-2e6bc66f-be82-4a82-b5c4-854894a6ea84\">\n",
              "    <div class=\"colab-df-container\">\n",
              "      <div>\n",
              "<style scoped>\n",
              "    .dataframe tbody tr th:only-of-type {\n",
              "        vertical-align: middle;\n",
              "    }\n",
              "\n",
              "    .dataframe tbody tr th {\n",
              "        vertical-align: top;\n",
              "    }\n",
              "\n",
              "    .dataframe thead th {\n",
              "        text-align: right;\n",
              "    }\n",
              "</style>\n",
              "<table border=\"1\" class=\"dataframe\">\n",
              "  <thead>\n",
              "    <tr style=\"text-align: right;\">\n",
              "      <th></th>\n",
              "      <th>year</th>\n",
              "      <th>selling_price</th>\n",
              "      <th>km_driven</th>\n",
              "      <th>seats</th>\n",
              "    </tr>\n",
              "  </thead>\n",
              "  <tbody>\n",
              "    <tr>\n",
              "      <th>count</th>\n",
              "      <td>8128.00</td>\n",
              "      <td>8128.00</td>\n",
              "      <td>8128.00</td>\n",
              "      <td>7907.00</td>\n",
              "    </tr>\n",
              "    <tr>\n",
              "      <th>mean</th>\n",
              "      <td>2013.80</td>\n",
              "      <td>638271.81</td>\n",
              "      <td>69819.51</td>\n",
              "      <td>5.42</td>\n",
              "    </tr>\n",
              "    <tr>\n",
              "      <th>std</th>\n",
              "      <td>4.04</td>\n",
              "      <td>806253.40</td>\n",
              "      <td>56550.55</td>\n",
              "      <td>0.96</td>\n",
              "    </tr>\n",
              "    <tr>\n",
              "      <th>min</th>\n",
              "      <td>1983.00</td>\n",
              "      <td>29999.00</td>\n",
              "      <td>1.00</td>\n",
              "      <td>2.00</td>\n",
              "    </tr>\n",
              "    <tr>\n",
              "      <th>25%</th>\n",
              "      <td>2011.00</td>\n",
              "      <td>254999.00</td>\n",
              "      <td>35000.00</td>\n",
              "      <td>5.00</td>\n",
              "    </tr>\n",
              "    <tr>\n",
              "      <th>50%</th>\n",
              "      <td>2015.00</td>\n",
              "      <td>450000.00</td>\n",
              "      <td>60000.00</td>\n",
              "      <td>5.00</td>\n",
              "    </tr>\n",
              "    <tr>\n",
              "      <th>75%</th>\n",
              "      <td>2017.00</td>\n",
              "      <td>675000.00</td>\n",
              "      <td>98000.00</td>\n",
              "      <td>5.00</td>\n",
              "    </tr>\n",
              "    <tr>\n",
              "      <th>max</th>\n",
              "      <td>2020.00</td>\n",
              "      <td>10000000.00</td>\n",
              "      <td>2360457.00</td>\n",
              "      <td>14.00</td>\n",
              "    </tr>\n",
              "  </tbody>\n",
              "</table>\n",
              "</div>\n",
              "      <button class=\"colab-df-convert\" onclick=\"convertToInteractive('df-2e6bc66f-be82-4a82-b5c4-854894a6ea84')\"\n",
              "              title=\"Convert this dataframe to an interactive table.\"\n",
              "              style=\"display:none;\">\n",
              "        \n",
              "  <svg xmlns=\"http://www.w3.org/2000/svg\" height=\"24px\"viewBox=\"0 0 24 24\"\n",
              "       width=\"24px\">\n",
              "    <path d=\"M0 0h24v24H0V0z\" fill=\"none\"/>\n",
              "    <path d=\"M18.56 5.44l.94 2.06.94-2.06 2.06-.94-2.06-.94-.94-2.06-.94 2.06-2.06.94zm-11 1L8.5 8.5l.94-2.06 2.06-.94-2.06-.94L8.5 2.5l-.94 2.06-2.06.94zm10 10l.94 2.06.94-2.06 2.06-.94-2.06-.94-.94-2.06-.94 2.06-2.06.94z\"/><path d=\"M17.41 7.96l-1.37-1.37c-.4-.4-.92-.59-1.43-.59-.52 0-1.04.2-1.43.59L10.3 9.45l-7.72 7.72c-.78.78-.78 2.05 0 2.83L4 21.41c.39.39.9.59 1.41.59.51 0 1.02-.2 1.41-.59l7.78-7.78 2.81-2.81c.8-.78.8-2.07 0-2.86zM5.41 20L4 18.59l7.72-7.72 1.47 1.35L5.41 20z\"/>\n",
              "  </svg>\n",
              "      </button>\n",
              "      \n",
              "  <style>\n",
              "    .colab-df-container {\n",
              "      display:flex;\n",
              "      flex-wrap:wrap;\n",
              "      gap: 12px;\n",
              "    }\n",
              "\n",
              "    .colab-df-convert {\n",
              "      background-color: #E8F0FE;\n",
              "      border: none;\n",
              "      border-radius: 50%;\n",
              "      cursor: pointer;\n",
              "      display: none;\n",
              "      fill: #1967D2;\n",
              "      height: 32px;\n",
              "      padding: 0 0 0 0;\n",
              "      width: 32px;\n",
              "    }\n",
              "\n",
              "    .colab-df-convert:hover {\n",
              "      background-color: #E2EBFA;\n",
              "      box-shadow: 0px 1px 2px rgba(60, 64, 67, 0.3), 0px 1px 3px 1px rgba(60, 64, 67, 0.15);\n",
              "      fill: #174EA6;\n",
              "    }\n",
              "\n",
              "    [theme=dark] .colab-df-convert {\n",
              "      background-color: #3B4455;\n",
              "      fill: #D2E3FC;\n",
              "    }\n",
              "\n",
              "    [theme=dark] .colab-df-convert:hover {\n",
              "      background-color: #434B5C;\n",
              "      box-shadow: 0px 1px 3px 1px rgba(0, 0, 0, 0.15);\n",
              "      filter: drop-shadow(0px 1px 2px rgba(0, 0, 0, 0.3));\n",
              "      fill: #FFFFFF;\n",
              "    }\n",
              "  </style>\n",
              "\n",
              "      <script>\n",
              "        const buttonEl =\n",
              "          document.querySelector('#df-2e6bc66f-be82-4a82-b5c4-854894a6ea84 button.colab-df-convert');\n",
              "        buttonEl.style.display =\n",
              "          google.colab.kernel.accessAllowed ? 'block' : 'none';\n",
              "\n",
              "        async function convertToInteractive(key) {\n",
              "          const element = document.querySelector('#df-2e6bc66f-be82-4a82-b5c4-854894a6ea84');\n",
              "          const dataTable =\n",
              "            await google.colab.kernel.invokeFunction('convertToInteractive',\n",
              "                                                     [key], {});\n",
              "          if (!dataTable) return;\n",
              "\n",
              "          const docLinkHtml = 'Like what you see? Visit the ' +\n",
              "            '<a target=\"_blank\" href=https://colab.research.google.com/notebooks/data_table.ipynb>data table notebook</a>'\n",
              "            + ' to learn more about interactive tables.';\n",
              "          element.innerHTML = '';\n",
              "          dataTable['output_type'] = 'display_data';\n",
              "          await google.colab.output.renderOutput(dataTable, element);\n",
              "          const docLink = document.createElement('div');\n",
              "          docLink.innerHTML = docLinkHtml;\n",
              "          element.appendChild(docLink);\n",
              "        }\n",
              "      </script>\n",
              "    </div>\n",
              "  </div>\n",
              "  "
            ]
          },
          "metadata": {},
          "execution_count": 4
        }
      ]
    },
    {
      "cell_type": "markdown",
      "source": [
        " - seling_price에서 max값이 유독 높음 → 아웃라이어\n",
        " - km_driven은 min, max 모두 아웃라이어\n",
        " - 선형 모델과 달리 트리모델은 아웃라이어에 대한 별도 처리가 필요하지 않다"
      ],
      "metadata": {
        "id": "b6iYgDxLJscm"
      }
    },
    {
      "cell_type": "markdown",
      "source": [
        "## 전처리 : 텍스트 데이터\n",
        " - 문자형 데이터를 분리 : 판다스 시리즈에서 제공하는 str.split() 함수"
      ],
      "metadata": {
        "id": "8gHSW2JGO7JD"
      }
    },
    {
      "cell_type": "code",
      "source": [
        "data['engine']"
      ],
      "metadata": {
        "id": "ZmhG1jViJpgf",
        "outputId": "7c0116a8-8c27-48d5-cffe-976b87abf43d",
        "colab": {
          "base_uri": "https://localhost:8080/"
        }
      },
      "execution_count": 5,
      "outputs": [
        {
          "output_type": "execute_result",
          "data": {
            "text/plain": [
              "0       1248 CC\n",
              "1       1498 CC\n",
              "2       1497 CC\n",
              "3       1396 CC\n",
              "4       1298 CC\n",
              "         ...   \n",
              "8123    1197 CC\n",
              "8124    1493 CC\n",
              "8125    1248 CC\n",
              "8126    1396 CC\n",
              "8127    1396 CC\n",
              "Name: engine, Length: 8128, dtype: object"
            ]
          },
          "metadata": {},
          "execution_count": 5
        }
      ]
    },
    {
      "cell_type": "code",
      "source": [
        "data['engine'].str.split() # 판다스의 시리즈에서 사용가능한 str.split() "
      ],
      "metadata": {
        "id": "V9xT5y2BPfBY",
        "outputId": "f5337536-267a-419d-dc14-c40a9203844b",
        "colab": {
          "base_uri": "https://localhost:8080/"
        }
      },
      "execution_count": 6,
      "outputs": [
        {
          "output_type": "execute_result",
          "data": {
            "text/plain": [
              "0       [1248, CC]\n",
              "1       [1498, CC]\n",
              "2       [1497, CC]\n",
              "3       [1396, CC]\n",
              "4       [1298, CC]\n",
              "           ...    \n",
              "8123    [1197, CC]\n",
              "8124    [1493, CC]\n",
              "8125    [1248, CC]\n",
              "8126    [1396, CC]\n",
              "8127    [1396, CC]\n",
              "Name: engine, Length: 8128, dtype: object"
            ]
          },
          "metadata": {},
          "execution_count": 6
        }
      ]
    },
    {
      "cell_type": "code",
      "source": [
        "data['engine'].str.split(expand=True) # expand=True : 분리한 문자열을 별도의 컬럼에 배치(DataFrame형태)"
      ],
      "metadata": {
        "id": "YJVDCUGIPsNC",
        "outputId": "e3741fbb-a4cc-4b71-f092-89b1023bc4d8",
        "colab": {
          "base_uri": "https://localhost:8080/",
          "height": 424
        }
      },
      "execution_count": 7,
      "outputs": [
        {
          "output_type": "execute_result",
          "data": {
            "text/plain": [
              "         0   1\n",
              "0     1248  CC\n",
              "1     1498  CC\n",
              "2     1497  CC\n",
              "3     1396  CC\n",
              "4     1298  CC\n",
              "...    ...  ..\n",
              "8123  1197  CC\n",
              "8124  1493  CC\n",
              "8125  1248  CC\n",
              "8126  1396  CC\n",
              "8127  1396  CC\n",
              "\n",
              "[8128 rows x 2 columns]"
            ],
            "text/html": [
              "\n",
              "  <div id=\"df-82554e4d-299a-4874-8867-e460d6ab629b\">\n",
              "    <div class=\"colab-df-container\">\n",
              "      <div>\n",
              "<style scoped>\n",
              "    .dataframe tbody tr th:only-of-type {\n",
              "        vertical-align: middle;\n",
              "    }\n",
              "\n",
              "    .dataframe tbody tr th {\n",
              "        vertical-align: top;\n",
              "    }\n",
              "\n",
              "    .dataframe thead th {\n",
              "        text-align: right;\n",
              "    }\n",
              "</style>\n",
              "<table border=\"1\" class=\"dataframe\">\n",
              "  <thead>\n",
              "    <tr style=\"text-align: right;\">\n",
              "      <th></th>\n",
              "      <th>0</th>\n",
              "      <th>1</th>\n",
              "    </tr>\n",
              "  </thead>\n",
              "  <tbody>\n",
              "    <tr>\n",
              "      <th>0</th>\n",
              "      <td>1248</td>\n",
              "      <td>CC</td>\n",
              "    </tr>\n",
              "    <tr>\n",
              "      <th>1</th>\n",
              "      <td>1498</td>\n",
              "      <td>CC</td>\n",
              "    </tr>\n",
              "    <tr>\n",
              "      <th>2</th>\n",
              "      <td>1497</td>\n",
              "      <td>CC</td>\n",
              "    </tr>\n",
              "    <tr>\n",
              "      <th>3</th>\n",
              "      <td>1396</td>\n",
              "      <td>CC</td>\n",
              "    </tr>\n",
              "    <tr>\n",
              "      <th>4</th>\n",
              "      <td>1298</td>\n",
              "      <td>CC</td>\n",
              "    </tr>\n",
              "    <tr>\n",
              "      <th>...</th>\n",
              "      <td>...</td>\n",
              "      <td>...</td>\n",
              "    </tr>\n",
              "    <tr>\n",
              "      <th>8123</th>\n",
              "      <td>1197</td>\n",
              "      <td>CC</td>\n",
              "    </tr>\n",
              "    <tr>\n",
              "      <th>8124</th>\n",
              "      <td>1493</td>\n",
              "      <td>CC</td>\n",
              "    </tr>\n",
              "    <tr>\n",
              "      <th>8125</th>\n",
              "      <td>1248</td>\n",
              "      <td>CC</td>\n",
              "    </tr>\n",
              "    <tr>\n",
              "      <th>8126</th>\n",
              "      <td>1396</td>\n",
              "      <td>CC</td>\n",
              "    </tr>\n",
              "    <tr>\n",
              "      <th>8127</th>\n",
              "      <td>1396</td>\n",
              "      <td>CC</td>\n",
              "    </tr>\n",
              "  </tbody>\n",
              "</table>\n",
              "<p>8128 rows × 2 columns</p>\n",
              "</div>\n",
              "      <button class=\"colab-df-convert\" onclick=\"convertToInteractive('df-82554e4d-299a-4874-8867-e460d6ab629b')\"\n",
              "              title=\"Convert this dataframe to an interactive table.\"\n",
              "              style=\"display:none;\">\n",
              "        \n",
              "  <svg xmlns=\"http://www.w3.org/2000/svg\" height=\"24px\"viewBox=\"0 0 24 24\"\n",
              "       width=\"24px\">\n",
              "    <path d=\"M0 0h24v24H0V0z\" fill=\"none\"/>\n",
              "    <path d=\"M18.56 5.44l.94 2.06.94-2.06 2.06-.94-2.06-.94-.94-2.06-.94 2.06-2.06.94zm-11 1L8.5 8.5l.94-2.06 2.06-.94-2.06-.94L8.5 2.5l-.94 2.06-2.06.94zm10 10l.94 2.06.94-2.06 2.06-.94-2.06-.94-.94-2.06-.94 2.06-2.06.94z\"/><path d=\"M17.41 7.96l-1.37-1.37c-.4-.4-.92-.59-1.43-.59-.52 0-1.04.2-1.43.59L10.3 9.45l-7.72 7.72c-.78.78-.78 2.05 0 2.83L4 21.41c.39.39.9.59 1.41.59.51 0 1.02-.2 1.41-.59l7.78-7.78 2.81-2.81c.8-.78.8-2.07 0-2.86zM5.41 20L4 18.59l7.72-7.72 1.47 1.35L5.41 20z\"/>\n",
              "  </svg>\n",
              "      </button>\n",
              "      \n",
              "  <style>\n",
              "    .colab-df-container {\n",
              "      display:flex;\n",
              "      flex-wrap:wrap;\n",
              "      gap: 12px;\n",
              "    }\n",
              "\n",
              "    .colab-df-convert {\n",
              "      background-color: #E8F0FE;\n",
              "      border: none;\n",
              "      border-radius: 50%;\n",
              "      cursor: pointer;\n",
              "      display: none;\n",
              "      fill: #1967D2;\n",
              "      height: 32px;\n",
              "      padding: 0 0 0 0;\n",
              "      width: 32px;\n",
              "    }\n",
              "\n",
              "    .colab-df-convert:hover {\n",
              "      background-color: #E2EBFA;\n",
              "      box-shadow: 0px 1px 2px rgba(60, 64, 67, 0.3), 0px 1px 3px 1px rgba(60, 64, 67, 0.15);\n",
              "      fill: #174EA6;\n",
              "    }\n",
              "\n",
              "    [theme=dark] .colab-df-convert {\n",
              "      background-color: #3B4455;\n",
              "      fill: #D2E3FC;\n",
              "    }\n",
              "\n",
              "    [theme=dark] .colab-df-convert:hover {\n",
              "      background-color: #434B5C;\n",
              "      box-shadow: 0px 1px 3px 1px rgba(0, 0, 0, 0.15);\n",
              "      filter: drop-shadow(0px 1px 2px rgba(0, 0, 0, 0.3));\n",
              "      fill: #FFFFFF;\n",
              "    }\n",
              "  </style>\n",
              "\n",
              "      <script>\n",
              "        const buttonEl =\n",
              "          document.querySelector('#df-82554e4d-299a-4874-8867-e460d6ab629b button.colab-df-convert');\n",
              "        buttonEl.style.display =\n",
              "          google.colab.kernel.accessAllowed ? 'block' : 'none';\n",
              "\n",
              "        async function convertToInteractive(key) {\n",
              "          const element = document.querySelector('#df-82554e4d-299a-4874-8867-e460d6ab629b');\n",
              "          const dataTable =\n",
              "            await google.colab.kernel.invokeFunction('convertToInteractive',\n",
              "                                                     [key], {});\n",
              "          if (!dataTable) return;\n",
              "\n",
              "          const docLinkHtml = 'Like what you see? Visit the ' +\n",
              "            '<a target=\"_blank\" href=https://colab.research.google.com/notebooks/data_table.ipynb>data table notebook</a>'\n",
              "            + ' to learn more about interactive tables.';\n",
              "          element.innerHTML = '';\n",
              "          dataTable['output_type'] = 'display_data';\n",
              "          await google.colab.output.renderOutput(dataTable, element);\n",
              "          const docLink = document.createElement('div');\n",
              "          docLink.innerHTML = docLinkHtml;\n",
              "          element.appendChild(docLink);\n",
              "        }\n",
              "      </script>\n",
              "    </div>\n",
              "  </div>\n",
              "  "
            ]
          },
          "metadata": {},
          "execution_count": 7
        }
      ]
    },
    {
      "cell_type": "code",
      "source": [
        "data[['engine','engine_unit']] = data['engine'].str.split(expand=True) # 분할된 문자들을 새로운 변수들로 저장"
      ],
      "metadata": {
        "id": "cGpee14iPvDr"
      },
      "execution_count": 8,
      "outputs": []
    },
    {
      "cell_type": "code",
      "source": [
        "data['engine'].head()"
      ],
      "metadata": {
        "id": "FPmu_SAncS-1",
        "outputId": "6f1a1059-be35-48d5-b22f-9c0bc96360be",
        "colab": {
          "base_uri": "https://localhost:8080/"
        }
      },
      "execution_count": 9,
      "outputs": [
        {
          "output_type": "execute_result",
          "data": {
            "text/plain": [
              "0    1248\n",
              "1    1498\n",
              "2    1497\n",
              "3    1396\n",
              "4    1298\n",
              "Name: engine, dtype: object"
            ]
          },
          "metadata": {},
          "execution_count": 9
        }
      ]
    },
    {
      "cell_type": "markdown",
      "source": [
        " - 단위는 별도의 변수로 할당했으나, object타입(문자형)이므로 숫자형 데이터로 변환 : astype()"
      ],
      "metadata": {
        "id": "9mtYWy3LcXWH"
      }
    },
    {
      "cell_type": "code",
      "source": [
        "data['engine'] = data['engine'].astype('float32')"
      ],
      "metadata": {
        "id": "Xw-nNqCgcVn7"
      },
      "execution_count": 10,
      "outputs": []
    },
    {
      "cell_type": "code",
      "source": [
        "data['engine'].head()"
      ],
      "metadata": {
        "id": "spqavQcIctuO",
        "outputId": "36efaea2-39e0-4507-c6d5-53d8832f3e07",
        "colab": {
          "base_uri": "https://localhost:8080/"
        }
      },
      "execution_count": 11,
      "outputs": [
        {
          "output_type": "execute_result",
          "data": {
            "text/plain": [
              "0    1248.0\n",
              "1    1498.0\n",
              "2    1497.0\n",
              "3    1396.0\n",
              "4    1298.0\n",
              "Name: engine, dtype: float32"
            ]
          },
          "metadata": {},
          "execution_count": 11
        }
      ]
    },
    {
      "cell_type": "code",
      "source": [
        "data.drop('engine_unit', axis=1, inplace=True) # 단위 변수 제거"
      ],
      "metadata": {
        "id": "GPRgmhyCc2cW"
      },
      "execution_count": 12,
      "outputs": []
    },
    {
      "cell_type": "markdown",
      "source": [
        "### max_power 변수 전처리"
      ],
      "metadata": {
        "id": "v31Badn5dILb"
      }
    },
    {
      "cell_type": "code",
      "source": [
        "data[['max_power', 'max_power_unit']] = data['max_power'].str.split(expand=True)"
      ],
      "metadata": {
        "id": "1tEYk0qTdGuL"
      },
      "execution_count": 13,
      "outputs": []
    },
    {
      "cell_type": "code",
      "source": [
        "# data['max_power'] = data['max_power'].astype('float32')\n",
        "# ValueError: could not convert string to float: 'bhp' → float32로 변경할 수 없는 'bhp'라는 값이 있다"
      ],
      "metadata": {
        "id": "EDpndS0EdL5D"
      },
      "execution_count": 14,
      "outputs": []
    },
    {
      "cell_type": "code",
      "source": [
        "data[data['max_power'] == 'bhp']"
      ],
      "metadata": {
        "id": "2DSyGkLOp90l",
        "outputId": "8350e245-cad8-4f55-b341-3a0229a4dfae",
        "colab": {
          "base_uri": "https://localhost:8080/",
          "height": 81
        }
      },
      "execution_count": 15,
      "outputs": [
        {
          "output_type": "execute_result",
          "data": {
            "text/plain": [
              "                 name  year  selling_price  km_driven fuel seller_type  \\\n",
              "4933  Maruti Omni CNG  2000          80000     100000  CNG  Individual   \n",
              "\n",
              "     transmission         owner     mileage  engine max_power torque  seats  \\\n",
              "4933       Manual  Second Owner  10.9 km/kg   796.0       bhp    NaN    8.0   \n",
              "\n",
              "     max_power_unit  \n",
              "4933           None  "
            ],
            "text/html": [
              "\n",
              "  <div id=\"df-95dd8ae1-0b7b-4529-ad89-80a7265a4300\">\n",
              "    <div class=\"colab-df-container\">\n",
              "      <div>\n",
              "<style scoped>\n",
              "    .dataframe tbody tr th:only-of-type {\n",
              "        vertical-align: middle;\n",
              "    }\n",
              "\n",
              "    .dataframe tbody tr th {\n",
              "        vertical-align: top;\n",
              "    }\n",
              "\n",
              "    .dataframe thead th {\n",
              "        text-align: right;\n",
              "    }\n",
              "</style>\n",
              "<table border=\"1\" class=\"dataframe\">\n",
              "  <thead>\n",
              "    <tr style=\"text-align: right;\">\n",
              "      <th></th>\n",
              "      <th>name</th>\n",
              "      <th>year</th>\n",
              "      <th>selling_price</th>\n",
              "      <th>km_driven</th>\n",
              "      <th>fuel</th>\n",
              "      <th>seller_type</th>\n",
              "      <th>transmission</th>\n",
              "      <th>owner</th>\n",
              "      <th>mileage</th>\n",
              "      <th>engine</th>\n",
              "      <th>max_power</th>\n",
              "      <th>torque</th>\n",
              "      <th>seats</th>\n",
              "      <th>max_power_unit</th>\n",
              "    </tr>\n",
              "  </thead>\n",
              "  <tbody>\n",
              "    <tr>\n",
              "      <th>4933</th>\n",
              "      <td>Maruti Omni CNG</td>\n",
              "      <td>2000</td>\n",
              "      <td>80000</td>\n",
              "      <td>100000</td>\n",
              "      <td>CNG</td>\n",
              "      <td>Individual</td>\n",
              "      <td>Manual</td>\n",
              "      <td>Second Owner</td>\n",
              "      <td>10.9 km/kg</td>\n",
              "      <td>796.0</td>\n",
              "      <td>bhp</td>\n",
              "      <td>NaN</td>\n",
              "      <td>8.0</td>\n",
              "      <td>None</td>\n",
              "    </tr>\n",
              "  </tbody>\n",
              "</table>\n",
              "</div>\n",
              "      <button class=\"colab-df-convert\" onclick=\"convertToInteractive('df-95dd8ae1-0b7b-4529-ad89-80a7265a4300')\"\n",
              "              title=\"Convert this dataframe to an interactive table.\"\n",
              "              style=\"display:none;\">\n",
              "        \n",
              "  <svg xmlns=\"http://www.w3.org/2000/svg\" height=\"24px\"viewBox=\"0 0 24 24\"\n",
              "       width=\"24px\">\n",
              "    <path d=\"M0 0h24v24H0V0z\" fill=\"none\"/>\n",
              "    <path d=\"M18.56 5.44l.94 2.06.94-2.06 2.06-.94-2.06-.94-.94-2.06-.94 2.06-2.06.94zm-11 1L8.5 8.5l.94-2.06 2.06-.94-2.06-.94L8.5 2.5l-.94 2.06-2.06.94zm10 10l.94 2.06.94-2.06 2.06-.94-2.06-.94-.94-2.06-.94 2.06-2.06.94z\"/><path d=\"M17.41 7.96l-1.37-1.37c-.4-.4-.92-.59-1.43-.59-.52 0-1.04.2-1.43.59L10.3 9.45l-7.72 7.72c-.78.78-.78 2.05 0 2.83L4 21.41c.39.39.9.59 1.41.59.51 0 1.02-.2 1.41-.59l7.78-7.78 2.81-2.81c.8-.78.8-2.07 0-2.86zM5.41 20L4 18.59l7.72-7.72 1.47 1.35L5.41 20z\"/>\n",
              "  </svg>\n",
              "      </button>\n",
              "      \n",
              "  <style>\n",
              "    .colab-df-container {\n",
              "      display:flex;\n",
              "      flex-wrap:wrap;\n",
              "      gap: 12px;\n",
              "    }\n",
              "\n",
              "    .colab-df-convert {\n",
              "      background-color: #E8F0FE;\n",
              "      border: none;\n",
              "      border-radius: 50%;\n",
              "      cursor: pointer;\n",
              "      display: none;\n",
              "      fill: #1967D2;\n",
              "      height: 32px;\n",
              "      padding: 0 0 0 0;\n",
              "      width: 32px;\n",
              "    }\n",
              "\n",
              "    .colab-df-convert:hover {\n",
              "      background-color: #E2EBFA;\n",
              "      box-shadow: 0px 1px 2px rgba(60, 64, 67, 0.3), 0px 1px 3px 1px rgba(60, 64, 67, 0.15);\n",
              "      fill: #174EA6;\n",
              "    }\n",
              "\n",
              "    [theme=dark] .colab-df-convert {\n",
              "      background-color: #3B4455;\n",
              "      fill: #D2E3FC;\n",
              "    }\n",
              "\n",
              "    [theme=dark] .colab-df-convert:hover {\n",
              "      background-color: #434B5C;\n",
              "      box-shadow: 0px 1px 3px 1px rgba(0, 0, 0, 0.15);\n",
              "      filter: drop-shadow(0px 1px 2px rgba(0, 0, 0, 0.3));\n",
              "      fill: #FFFFFF;\n",
              "    }\n",
              "  </style>\n",
              "\n",
              "      <script>\n",
              "        const buttonEl =\n",
              "          document.querySelector('#df-95dd8ae1-0b7b-4529-ad89-80a7265a4300 button.colab-df-convert');\n",
              "        buttonEl.style.display =\n",
              "          google.colab.kernel.accessAllowed ? 'block' : 'none';\n",
              "\n",
              "        async function convertToInteractive(key) {\n",
              "          const element = document.querySelector('#df-95dd8ae1-0b7b-4529-ad89-80a7265a4300');\n",
              "          const dataTable =\n",
              "            await google.colab.kernel.invokeFunction('convertToInteractive',\n",
              "                                                     [key], {});\n",
              "          if (!dataTable) return;\n",
              "\n",
              "          const docLinkHtml = 'Like what you see? Visit the ' +\n",
              "            '<a target=\"_blank\" href=https://colab.research.google.com/notebooks/data_table.ipynb>data table notebook</a>'\n",
              "            + ' to learn more about interactive tables.';\n",
              "          element.innerHTML = '';\n",
              "          dataTable['output_type'] = 'display_data';\n",
              "          await google.colab.output.renderOutput(dataTable, element);\n",
              "          const docLink = document.createElement('div');\n",
              "          docLink.innerHTML = docLinkHtml;\n",
              "          element.appendChild(docLink);\n",
              "        }\n",
              "      </script>\n",
              "    </div>\n",
              "  </div>\n",
              "  "
            ]
          },
          "metadata": {},
          "execution_count": 15
        }
      ]
    },
    {
      "cell_type": "markdown",
      "source": [
        " - 데이터에 숫자없이 bhp만 있어서 str.split()에서 빈칸을 기준으로 분리할 때 분리되지 않은채로 남음\n",
        " - 단 한건의 데이터이기 때문에 간단히 Nan 처리할 수 있지만, 여러건일 경우를 대비해 Try and Except 적용"
      ],
      "metadata": {
        "id": "SHQz0nwoqibH"
      }
    },
    {
      "cell_type": "code",
      "source": [
        "def isFloat(value):\n",
        "    try:                    # 시도\n",
        "        num = float(value)\n",
        "        return num\n",
        "    except ValueError:      # 시도 중 에러가 난 경우\n",
        "        return np.NaN       "
      ],
      "metadata": {
        "id": "wkjubcibqXLM"
      },
      "execution_count": 16,
      "outputs": []
    },
    {
      "cell_type": "code",
      "source": [
        "# data['max_power'].apply(lambda x: np.NaN if (x=='bhp') else float(x))\n",
        "data['max_power'] = data['max_power'].apply(isFloat) # apply(함수명)"
      ],
      "metadata": {
        "id": "YlPPb3OYsqAn"
      },
      "execution_count": 17,
      "outputs": []
    },
    {
      "cell_type": "code",
      "source": [
        "data.drop('max_power_unit',axis=1, inplace=True)"
      ],
      "metadata": {
        "id": "6RkNG0U0u116"
      },
      "execution_count": 18,
      "outputs": []
    },
    {
      "cell_type": "markdown",
      "source": [
        "### mileage 변수 전처리"
      ],
      "metadata": {
        "id": "jsD0Xr2owgXW"
      }
    },
    {
      "cell_type": "code",
      "source": [
        "data[['mileage', 'mileage_unit']]=data['mileage'].str.split(expand=True)"
      ],
      "metadata": {
        "id": "qrTp-p2lwfUQ"
      },
      "execution_count": 19,
      "outputs": []
    },
    {
      "cell_type": "code",
      "source": [
        "data['mileage'] = data['mileage'].astype('float32')"
      ],
      "metadata": {
        "id": "gwMUKCsUwnvZ"
      },
      "execution_count": 20,
      "outputs": []
    },
    {
      "cell_type": "code",
      "source": [
        "data['mileage_unit'].unique() # 두가지 단위가 있었네"
      ],
      "metadata": {
        "id": "ocC6iSLzw4zn",
        "outputId": "0959ae8d-6f05-4a2a-f22a-28604e9baa5a",
        "colab": {
          "base_uri": "https://localhost:8080/"
        }
      },
      "execution_count": 21,
      "outputs": [
        {
          "output_type": "execute_result",
          "data": {
            "text/plain": [
              "array(['kmpl', 'km/kg', nan], dtype=object)"
            ]
          },
          "metadata": {},
          "execution_count": 21
        }
      ]
    },
    {
      "cell_type": "code",
      "source": [
        "data['fuel'].unique() # 연료마다 연비를 나타내는 방식이 다름"
      ],
      "metadata": {
        "id": "TDRwOI1WxEmb",
        "outputId": "05ec4bf5-f02d-4b6e-b13c-a6aa7f3e35d6",
        "colab": {
          "base_uri": "https://localhost:8080/"
        }
      },
      "execution_count": 22,
      "outputs": [
        {
          "output_type": "execute_result",
          "data": {
            "text/plain": [
              "array(['Diesel', 'Petrol', 'LPG', 'CNG'], dtype=object)"
            ]
          },
          "metadata": {},
          "execution_count": 22
        }
      ]
    },
    {
      "cell_type": "markdown",
      "source": [
        " - 다른 종류의 연료로 주행거리를 비교하려면 →같은 기준을 세워야 한다\n",
        " - 1달러당 주행거리로 하자\n",
        "\n",
        "  > Petrol : 리터당 $80.43\n",
        "\n",
        "  > Diesel : 리터당 $73.56\n",
        "\n",
        "  > LPG : 킬로그램당 $40.85\n",
        "\n",
        "  > CNG : 킬로그램당 $44.23"
      ],
      "metadata": {
        "id": "wm5OKq7xxVi2"
      }
    },
    {
      "cell_type": "code",
      "source": [
        "def mile(x): # 입력값 x는 data전체\n",
        "    if x['fuel'] == 'Petrol':\n",
        "        return x['mileage'] / 80.43\n",
        "    elif x['fuel'] == 'Diesel':\n",
        "        return x['mileage'] / 73.56\n",
        "    elif x['fuel'] == 'LPG':\n",
        "        return x['mileage'] / 40.85\n",
        "    else:\n",
        "        return x['mileage'] / 44.23"
      ],
      "metadata": {
        "id": "By9IADCzxLnr"
      },
      "execution_count": 23,
      "outputs": []
    },
    {
      "cell_type": "code",
      "source": [
        "data['mileage'] = data.apply(mile, axis=1) # DataFrame.appy(함수명, axis=1)\n",
        "# Series.apply(함수명)"
      ],
      "metadata": {
        "id": "VXc44m6uyyrK"
      },
      "execution_count": 24,
      "outputs": []
    },
    {
      "cell_type": "code",
      "source": [
        "data.drop('mileage_unit', axis=1, inplace=True)"
      ],
      "metadata": {
        "id": "e9dq-vKZDFqd"
      },
      "execution_count": 25,
      "outputs": []
    },
    {
      "cell_type": "markdown",
      "source": [
        "### torque 변수 전처리"
      ],
      "metadata": {
        "id": "yzA4ar1F1RnY"
      }
    },
    {
      "cell_type": "code",
      "source": [
        "data['torque'].head()"
      ],
      "metadata": {
        "id": "eRWoYNPW03Jh",
        "outputId": "9f2f6721-2142-41e4-f800-8e11efd1a258",
        "colab": {
          "base_uri": "https://localhost:8080/"
        }
      },
      "execution_count": 26,
      "outputs": [
        {
          "output_type": "execute_result",
          "data": {
            "text/plain": [
              "0              190Nm@ 2000rpm\n",
              "1         250Nm@ 1500-2500rpm\n",
              "2       12.7@ 2,700(kgm@ rpm)\n",
              "3    22.4 kgm at 1750-2750rpm\n",
              "4       11.5@ 4,500(kgm@ rpm)\n",
              "Name: torque, dtype: object"
            ]
          },
          "metadata": {},
          "execution_count": 26
        }
      ]
    },
    {
      "cell_type": "markdown",
      "source": [
        " - Nm, nm, Kgm, kgm 섞여 있으므로 전체를 대문자화 해서 Nm, kgm으로 변경하여 별도 변수화"
      ],
      "metadata": {
        "id": "C-ATgrtV4YFS"
      }
    },
    {
      "cell_type": "code",
      "source": [
        "data['torque'] = data['torque'].str.upper()"
      ],
      "metadata": {
        "id": "IeISp8182UBj"
      },
      "execution_count": 27,
      "outputs": []
    },
    {
      "cell_type": "code",
      "source": [
        "def torque_unit(x):\n",
        "    if 'NM' in str(x):\n",
        "        return 'Nm'\n",
        "    elif 'KGM' in str(x):\n",
        "        return 'kgm'"
      ],
      "metadata": {
        "id": "NPnvowaz35Rf"
      },
      "execution_count": 28,
      "outputs": []
    },
    {
      "cell_type": "code",
      "source": [
        "data['torque_unit'] = data['torque'].apply(torque_unit)"
      ],
      "metadata": {
        "id": "Eu1z_1UI4zLH"
      },
      "execution_count": 29,
      "outputs": []
    },
    {
      "cell_type": "code",
      "source": [
        "data['torque_unit'].unique() # 데이터가 없어서 None 인지 확인 필요"
      ],
      "metadata": {
        "id": "_Fl3evVX478Z",
        "outputId": "06b23df3-11f1-4fc0-e15c-0244cb61ca29",
        "colab": {
          "base_uri": "https://localhost:8080/"
        }
      },
      "execution_count": 30,
      "outputs": [
        {
          "output_type": "execute_result",
          "data": {
            "text/plain": [
              "array(['Nm', 'kgm', None], dtype=object)"
            ]
          },
          "metadata": {},
          "execution_count": 30
        }
      ]
    },
    {
      "cell_type": "code",
      "source": [
        "data[data['torque_unit'].isna()]['torque'].unique()"
      ],
      "metadata": {
        "id": "5paVX8BA5P3w",
        "outputId": "4780ded7-4e57-43a6-dc73-fe02be8c94f7",
        "colab": {
          "base_uri": "https://localhost:8080/"
        }
      },
      "execution_count": 31,
      "outputs": [
        {
          "output_type": "execute_result",
          "data": {
            "text/plain": [
              "array([nan, '250@ 1250-5000RPM', '510@ 1600-2400', '110(11.2)@ 4800',\n",
              "       '210 / 1900'], dtype=object)"
            ]
          },
          "metadata": {},
          "execution_count": 31
        }
      ]
    },
    {
      "cell_type": "markdown",
      "source": [
        " - Nm, kgm도 없는 데이터와, NAN으로 입력된 값이 있음\n",
        " - 단위를 보아 Nm에 가까우므로 빈값과 함께 모두 단위는 Nm으로 설정"
      ],
      "metadata": {
        "id": "Ws_oHFS06O5Y"
      }
    },
    {
      "cell_type": "code",
      "source": [
        "data['torque_unit'].fillna('Nm', inplace=True)"
      ],
      "metadata": {
        "id": "GOaBebEy5j8H"
      },
      "execution_count": 32,
      "outputs": []
    },
    {
      "cell_type": "code",
      "source": [
        "data['torque']"
      ],
      "metadata": {
        "id": "ooG7smf76r_M",
        "outputId": "22e6aaf7-13f1-4b0a-f5e7-cab1600f637f",
        "colab": {
          "base_uri": "https://localhost:8080/"
        }
      },
      "execution_count": 33,
      "outputs": [
        {
          "output_type": "execute_result",
          "data": {
            "text/plain": [
              "0                  190NM@ 2000RPM\n",
              "1             250NM@ 1500-2500RPM\n",
              "2           12.7@ 2,700(KGM@ RPM)\n",
              "3        22.4 KGM AT 1750-2750RPM\n",
              "4           11.5@ 4,500(KGM@ RPM)\n",
              "                  ...            \n",
              "8123             113.7NM@ 4000RPM\n",
              "8124    24@ 1,900-2,750(KGM@ RPM)\n",
              "8125               190NM@ 2000RPM\n",
              "8126          140NM@ 1800-3000RPM\n",
              "8127          140NM@ 1800-3000RPM\n",
              "Name: torque, Length: 8128, dtype: object"
            ]
          },
          "metadata": {},
          "execution_count": 33
        }
      ]
    },
    {
      "cell_type": "markdown",
      "source": [
        " - 앞의 숫자까지만 인덱싱하여 분리 하고 싶음"
      ],
      "metadata": {
        "id": "WvfzTL3w7NbC"
      }
    },
    {
      "cell_type": "code",
      "source": [
        "string_example = '250NM@ 1500-2500RPM'\n",
        "for i, j in enumerate(string_example):\n",
        "    if j not in '0123456789.':  # j가 숫자가아니라면\n",
        "        cut = i\n",
        "        break"
      ],
      "metadata": {
        "id": "v3DMrp197KIw"
      },
      "execution_count": 34,
      "outputs": []
    },
    {
      "cell_type": "code",
      "source": [
        "# 문자열내에서 숫자까지만 인덱싱하는 함수\n",
        "def split_num(x):\n",
        "    x = str(x) # 일단 문자형태로 바꿔서 iterable하게 만든다\n",
        "    for i, j in enumerate(x):\n",
        "        if j not in '0123456789.':\n",
        "            cut = i\n",
        "            break\n",
        "    return x[:cut] # cut 인덱스까지 인덱싱하여 리턴"
      ],
      "metadata": {
        "id": "AwlfUUKmBBX4"
      },
      "execution_count": 35,
      "outputs": []
    },
    {
      "cell_type": "code",
      "source": [
        "data['torque']"
      ],
      "metadata": {
        "id": "XIYY2PrEBdjn",
        "outputId": "bac449aa-d486-4021-ec58-e1bff3ba6edc",
        "colab": {
          "base_uri": "https://localhost:8080/"
        }
      },
      "execution_count": 36,
      "outputs": [
        {
          "output_type": "execute_result",
          "data": {
            "text/plain": [
              "0                  190NM@ 2000RPM\n",
              "1             250NM@ 1500-2500RPM\n",
              "2           12.7@ 2,700(KGM@ RPM)\n",
              "3        22.4 KGM AT 1750-2750RPM\n",
              "4           11.5@ 4,500(KGM@ RPM)\n",
              "                  ...            \n",
              "8123             113.7NM@ 4000RPM\n",
              "8124    24@ 1,900-2,750(KGM@ RPM)\n",
              "8125               190NM@ 2000RPM\n",
              "8126          140NM@ 1800-3000RPM\n",
              "8127          140NM@ 1800-3000RPM\n",
              "Name: torque, Length: 8128, dtype: object"
            ]
          },
          "metadata": {},
          "execution_count": 36
        }
      ]
    },
    {
      "cell_type": "code",
      "source": [
        "data['torque'] = data['torque'].apply(split_num)"
      ],
      "metadata": {
        "id": "5y6BTc_oBp9e"
      },
      "execution_count": 37,
      "outputs": []
    },
    {
      "cell_type": "code",
      "source": [
        "data['torque']"
      ],
      "metadata": {
        "id": "25QgCayCgWKi",
        "outputId": "7a855c93-5522-4e5f-c1ed-f94b292cdd29",
        "colab": {
          "base_uri": "https://localhost:8080/"
        }
      },
      "execution_count": 38,
      "outputs": [
        {
          "output_type": "execute_result",
          "data": {
            "text/plain": [
              "0         190\n",
              "1         250\n",
              "2        12.7\n",
              "3        22.4\n",
              "4        11.5\n",
              "        ...  \n",
              "8123    113.7\n",
              "8124       24\n",
              "8125      190\n",
              "8126      140\n",
              "8127      140\n",
              "Name: torque, Length: 8128, dtype: object"
            ]
          },
          "metadata": {},
          "execution_count": 38
        }
      ]
    },
    {
      "cell_type": "code",
      "source": [
        "# data['torque'] = data['torque'].astype('float64')\n",
        "# ValueError: could not convert string to float: "
      ],
      "metadata": {
        "id": "J_hiN6zIgg_Y"
      },
      "execution_count": 39,
      "outputs": []
    },
    {
      "cell_type": "code",
      "source": [
        "(data['torque']=='').sum() # ''공백을 갖는 데이터 개수 222개"
      ],
      "metadata": {
        "id": "ebcGiT6sglJA",
        "outputId": "3d72fe66-0405-4f2d-a9ab-5f20b83736a3",
        "colab": {
          "base_uri": "https://localhost:8080/"
        }
      },
      "execution_count": 40,
      "outputs": [
        {
          "output_type": "execute_result",
          "data": {
            "text/plain": [
              "222"
            ]
          },
          "metadata": {},
          "execution_count": 40
        }
      ]
    },
    {
      "cell_type": "code",
      "source": [
        "# try except 형식은 lambda 함수로 만들수 없음\n",
        "def isFloat(value):\n",
        "    try:\n",
        "        return float(value)\n",
        "    except ValueError:\n",
        "        return np.NaN"
      ],
      "metadata": {
        "id": "yhKb0fNWg_l-"
      },
      "execution_count": 41,
      "outputs": []
    },
    {
      "cell_type": "code",
      "source": [
        "data['torque'] = data['torque'].apply(isFloat)\n",
        "# data['torque'].replace('', np.NaN)"
      ],
      "metadata": {
        "id": "aj4uzzMPh9D3"
      },
      "execution_count": 42,
      "outputs": []
    },
    {
      "cell_type": "markdown",
      "source": [
        " - 단위에 따른 차이를 맞춰주는 변환\n",
        " - Nm과 kgm은 중력과 관련 : kgm X 9.8066 = Nm\n",
        "\n",
        "  > kgm이면 9.8066을 곱하여 → Nm반환\n",
        "  \n",
        "  > Nm이면 그대로 → Nm반환"
      ],
      "metadata": {
        "id": "LJkkMghAicJf"
      }
    },
    {
      "cell_type": "markdown",
      "source": [
        " - 함수 내에 두 변수가 사용되기 때문에 입력은 데이터 프레임 전체를 받는 x로 전제하고 만든다"
      ],
      "metadata": {
        "id": "1PiE43OFkTPA"
      }
    },
    {
      "cell_type": "code",
      "source": [
        "# DataFrame 전체를 파라미터로 받는 함수 : apply(함수명, axis=1)\n",
        "def torque_trans(x):\n",
        "    if x['torque_unit'] == 'kgm':\n",
        "        return x['torque'] * 9.8066\n",
        "    else:\n",
        "        return x['torque']"
      ],
      "metadata": {
        "id": "X75Ac8xziDgn"
      },
      "execution_count": 43,
      "outputs": []
    },
    {
      "cell_type": "code",
      "source": [
        "data['torque'] = data.apply(torque_trans, axis=1)"
      ],
      "metadata": {
        "id": "1tiFtNnLldDL"
      },
      "execution_count": 44,
      "outputs": []
    },
    {
      "cell_type": "code",
      "source": [
        "data.drop('torque_unit', axis=1, inplace=True)"
      ],
      "metadata": {
        "id": "gibqBdiqnDuQ"
      },
      "execution_count": 45,
      "outputs": []
    },
    {
      "cell_type": "code",
      "source": [
        "data.head()"
      ],
      "metadata": {
        "id": "XKDPGSQKnipZ",
        "outputId": "a84a98d7-1832-4046-eb83-2cf2378f9c7c",
        "colab": {
          "base_uri": "https://localhost:8080/",
          "height": 206
        }
      },
      "execution_count": 46,
      "outputs": [
        {
          "output_type": "execute_result",
          "data": {
            "text/plain": [
              "                           name  year  selling_price  km_driven    fuel  \\\n",
              "0        Maruti Swift Dzire VDI  2014         450000     145500  Diesel   \n",
              "1  Skoda Rapid 1.5 TDI Ambition  2014         370000     120000  Diesel   \n",
              "2      Honda City 2017-2020 EXi  2006         158000     140000  Petrol   \n",
              "3     Hyundai i20 Sportz Diesel  2010         225000     127000  Diesel   \n",
              "4        Maruti Swift VXI BSIII  2007         130000     120000  Petrol   \n",
              "\n",
              "  seller_type transmission         owner   mileage  engine  max_power  \\\n",
              "0  Individual       Manual   First Owner  0.318108  1248.0      74.00   \n",
              "1  Individual       Manual  Second Owner  0.287384  1498.0     103.52   \n",
              "2  Individual       Manual   Third Owner  0.220067  1497.0      78.00   \n",
              "3  Individual       Manual   First Owner  0.312670  1396.0      90.00   \n",
              "4  Individual       Manual   First Owner  0.200174  1298.0      88.20   \n",
              "\n",
              "      torque  seats  \n",
              "0  190.00000    5.0  \n",
              "1  250.00000    5.0  \n",
              "2  124.54382    5.0  \n",
              "3  219.66784    5.0  \n",
              "4  112.77590    5.0  "
            ],
            "text/html": [
              "\n",
              "  <div id=\"df-8053c7c5-a027-4808-a549-45da72bc2183\">\n",
              "    <div class=\"colab-df-container\">\n",
              "      <div>\n",
              "<style scoped>\n",
              "    .dataframe tbody tr th:only-of-type {\n",
              "        vertical-align: middle;\n",
              "    }\n",
              "\n",
              "    .dataframe tbody tr th {\n",
              "        vertical-align: top;\n",
              "    }\n",
              "\n",
              "    .dataframe thead th {\n",
              "        text-align: right;\n",
              "    }\n",
              "</style>\n",
              "<table border=\"1\" class=\"dataframe\">\n",
              "  <thead>\n",
              "    <tr style=\"text-align: right;\">\n",
              "      <th></th>\n",
              "      <th>name</th>\n",
              "      <th>year</th>\n",
              "      <th>selling_price</th>\n",
              "      <th>km_driven</th>\n",
              "      <th>fuel</th>\n",
              "      <th>seller_type</th>\n",
              "      <th>transmission</th>\n",
              "      <th>owner</th>\n",
              "      <th>mileage</th>\n",
              "      <th>engine</th>\n",
              "      <th>max_power</th>\n",
              "      <th>torque</th>\n",
              "      <th>seats</th>\n",
              "    </tr>\n",
              "  </thead>\n",
              "  <tbody>\n",
              "    <tr>\n",
              "      <th>0</th>\n",
              "      <td>Maruti Swift Dzire VDI</td>\n",
              "      <td>2014</td>\n",
              "      <td>450000</td>\n",
              "      <td>145500</td>\n",
              "      <td>Diesel</td>\n",
              "      <td>Individual</td>\n",
              "      <td>Manual</td>\n",
              "      <td>First Owner</td>\n",
              "      <td>0.318108</td>\n",
              "      <td>1248.0</td>\n",
              "      <td>74.00</td>\n",
              "      <td>190.00000</td>\n",
              "      <td>5.0</td>\n",
              "    </tr>\n",
              "    <tr>\n",
              "      <th>1</th>\n",
              "      <td>Skoda Rapid 1.5 TDI Ambition</td>\n",
              "      <td>2014</td>\n",
              "      <td>370000</td>\n",
              "      <td>120000</td>\n",
              "      <td>Diesel</td>\n",
              "      <td>Individual</td>\n",
              "      <td>Manual</td>\n",
              "      <td>Second Owner</td>\n",
              "      <td>0.287384</td>\n",
              "      <td>1498.0</td>\n",
              "      <td>103.52</td>\n",
              "      <td>250.00000</td>\n",
              "      <td>5.0</td>\n",
              "    </tr>\n",
              "    <tr>\n",
              "      <th>2</th>\n",
              "      <td>Honda City 2017-2020 EXi</td>\n",
              "      <td>2006</td>\n",
              "      <td>158000</td>\n",
              "      <td>140000</td>\n",
              "      <td>Petrol</td>\n",
              "      <td>Individual</td>\n",
              "      <td>Manual</td>\n",
              "      <td>Third Owner</td>\n",
              "      <td>0.220067</td>\n",
              "      <td>1497.0</td>\n",
              "      <td>78.00</td>\n",
              "      <td>124.54382</td>\n",
              "      <td>5.0</td>\n",
              "    </tr>\n",
              "    <tr>\n",
              "      <th>3</th>\n",
              "      <td>Hyundai i20 Sportz Diesel</td>\n",
              "      <td>2010</td>\n",
              "      <td>225000</td>\n",
              "      <td>127000</td>\n",
              "      <td>Diesel</td>\n",
              "      <td>Individual</td>\n",
              "      <td>Manual</td>\n",
              "      <td>First Owner</td>\n",
              "      <td>0.312670</td>\n",
              "      <td>1396.0</td>\n",
              "      <td>90.00</td>\n",
              "      <td>219.66784</td>\n",
              "      <td>5.0</td>\n",
              "    </tr>\n",
              "    <tr>\n",
              "      <th>4</th>\n",
              "      <td>Maruti Swift VXI BSIII</td>\n",
              "      <td>2007</td>\n",
              "      <td>130000</td>\n",
              "      <td>120000</td>\n",
              "      <td>Petrol</td>\n",
              "      <td>Individual</td>\n",
              "      <td>Manual</td>\n",
              "      <td>First Owner</td>\n",
              "      <td>0.200174</td>\n",
              "      <td>1298.0</td>\n",
              "      <td>88.20</td>\n",
              "      <td>112.77590</td>\n",
              "      <td>5.0</td>\n",
              "    </tr>\n",
              "  </tbody>\n",
              "</table>\n",
              "</div>\n",
              "      <button class=\"colab-df-convert\" onclick=\"convertToInteractive('df-8053c7c5-a027-4808-a549-45da72bc2183')\"\n",
              "              title=\"Convert this dataframe to an interactive table.\"\n",
              "              style=\"display:none;\">\n",
              "        \n",
              "  <svg xmlns=\"http://www.w3.org/2000/svg\" height=\"24px\"viewBox=\"0 0 24 24\"\n",
              "       width=\"24px\">\n",
              "    <path d=\"M0 0h24v24H0V0z\" fill=\"none\"/>\n",
              "    <path d=\"M18.56 5.44l.94 2.06.94-2.06 2.06-.94-2.06-.94-.94-2.06-.94 2.06-2.06.94zm-11 1L8.5 8.5l.94-2.06 2.06-.94-2.06-.94L8.5 2.5l-.94 2.06-2.06.94zm10 10l.94 2.06.94-2.06 2.06-.94-2.06-.94-.94-2.06-.94 2.06-2.06.94z\"/><path d=\"M17.41 7.96l-1.37-1.37c-.4-.4-.92-.59-1.43-.59-.52 0-1.04.2-1.43.59L10.3 9.45l-7.72 7.72c-.78.78-.78 2.05 0 2.83L4 21.41c.39.39.9.59 1.41.59.51 0 1.02-.2 1.41-.59l7.78-7.78 2.81-2.81c.8-.78.8-2.07 0-2.86zM5.41 20L4 18.59l7.72-7.72 1.47 1.35L5.41 20z\"/>\n",
              "  </svg>\n",
              "      </button>\n",
              "      \n",
              "  <style>\n",
              "    .colab-df-container {\n",
              "      display:flex;\n",
              "      flex-wrap:wrap;\n",
              "      gap: 12px;\n",
              "    }\n",
              "\n",
              "    .colab-df-convert {\n",
              "      background-color: #E8F0FE;\n",
              "      border: none;\n",
              "      border-radius: 50%;\n",
              "      cursor: pointer;\n",
              "      display: none;\n",
              "      fill: #1967D2;\n",
              "      height: 32px;\n",
              "      padding: 0 0 0 0;\n",
              "      width: 32px;\n",
              "    }\n",
              "\n",
              "    .colab-df-convert:hover {\n",
              "      background-color: #E2EBFA;\n",
              "      box-shadow: 0px 1px 2px rgba(60, 64, 67, 0.3), 0px 1px 3px 1px rgba(60, 64, 67, 0.15);\n",
              "      fill: #174EA6;\n",
              "    }\n",
              "\n",
              "    [theme=dark] .colab-df-convert {\n",
              "      background-color: #3B4455;\n",
              "      fill: #D2E3FC;\n",
              "    }\n",
              "\n",
              "    [theme=dark] .colab-df-convert:hover {\n",
              "      background-color: #434B5C;\n",
              "      box-shadow: 0px 1px 3px 1px rgba(0, 0, 0, 0.15);\n",
              "      filter: drop-shadow(0px 1px 2px rgba(0, 0, 0, 0.3));\n",
              "      fill: #FFFFFF;\n",
              "    }\n",
              "  </style>\n",
              "\n",
              "      <script>\n",
              "        const buttonEl =\n",
              "          document.querySelector('#df-8053c7c5-a027-4808-a549-45da72bc2183 button.colab-df-convert');\n",
              "        buttonEl.style.display =\n",
              "          google.colab.kernel.accessAllowed ? 'block' : 'none';\n",
              "\n",
              "        async function convertToInteractive(key) {\n",
              "          const element = document.querySelector('#df-8053c7c5-a027-4808-a549-45da72bc2183');\n",
              "          const dataTable =\n",
              "            await google.colab.kernel.invokeFunction('convertToInteractive',\n",
              "                                                     [key], {});\n",
              "          if (!dataTable) return;\n",
              "\n",
              "          const docLinkHtml = 'Like what you see? Visit the ' +\n",
              "            '<a target=\"_blank\" href=https://colab.research.google.com/notebooks/data_table.ipynb>data table notebook</a>'\n",
              "            + ' to learn more about interactive tables.';\n",
              "          element.innerHTML = '';\n",
              "          dataTable['output_type'] = 'display_data';\n",
              "          await google.colab.output.renderOutput(dataTable, element);\n",
              "          const docLink = document.createElement('div');\n",
              "          docLink.innerHTML = docLinkHtml;\n",
              "          element.appendChild(docLink);\n",
              "        }\n",
              "      </script>\n",
              "    </div>\n",
              "  </div>\n",
              "  "
            ]
          },
          "metadata": {},
          "execution_count": 46
        }
      ]
    },
    {
      "cell_type": "markdown",
      "source": [
        "### name 변수 처리하기"
      ],
      "metadata": {
        "id": "hUnpkydSopt8"
      }
    },
    {
      "cell_type": "code",
      "source": [
        "data['name'].value_counts()"
      ],
      "metadata": {
        "id": "igHMgGYnnjjQ",
        "outputId": "4b49e880-324d-4c80-a05a-4a3aadc4ba39",
        "colab": {
          "base_uri": "https://localhost:8080/"
        }
      },
      "execution_count": 47,
      "outputs": [
        {
          "output_type": "execute_result",
          "data": {
            "text/plain": [
              "Maruti Swift Dzire VDI                             129\n",
              "Maruti Alto 800 LXI                                 82\n",
              "Maruti Alto LXi                                     71\n",
              "BMW X4 M Sport X xDrive20d                          62\n",
              "Maruti Swift VDI                                    61\n",
              "                                                  ... \n",
              "Skoda Fabia 1.4 TDI Ambiente                         1\n",
              "Mahindra Scorpio VLX 2WD AT BSIII                    1\n",
              "Renault KWID Climber 1.0 AMT                         1\n",
              "Mahindra XUV300 W8 Option Dual Tone Diesel BSIV      1\n",
              "Toyota Innova 2.5 GX (Diesel) 8 Seater BS IV         1\n",
              "Name: name, Length: 2058, dtype: int64"
            ]
          },
          "metadata": {},
          "execution_count": 47
        }
      ]
    },
    {
      "cell_type": "markdown",
      "source": [
        " - 브랜드 + 모델명 + 엔진특성 조합으로 수많은 더미변수가 생길수 있음\n",
        " - 더미변수를 만들때 최대한 컬럼을 줄이기 위해 분류를 해보자\n",
        " \n",
        "  > 모델이름보다는 엔진특성이 중요\n",
        "\n",
        "  > 엔진특성 보다는 브랜드가 중요 → name변수에서 브랜드명만 사용"
      ],
      "metadata": {
        "id": "loW1Yj53pA7e"
      }
    },
    {
      "cell_type": "code",
      "source": [
        "data['name'].str.split(expand=True)"
      ],
      "metadata": {
        "id": "1GcBTe_io-Te",
        "outputId": "5827eba1-9388-417d-e331-b9b55d5d427a",
        "colab": {
          "base_uri": "https://localhost:8080/",
          "height": 424
        }
      },
      "execution_count": 48,
      "outputs": [
        {
          "output_type": "execute_result",
          "data": {
            "text/plain": [
              "            0       1          2       3         4     5     6     7     8  \\\n",
              "0      Maruti   Swift      Dzire     VDI      None  None  None  None  None   \n",
              "1       Skoda   Rapid        1.5     TDI  Ambition  None  None  None  None   \n",
              "2       Honda    City  2017-2020     EXi      None  None  None  None  None   \n",
              "3     Hyundai     i20     Sportz  Diesel      None  None  None  None  None   \n",
              "4      Maruti   Swift        VXI   BSIII      None  None  None  None  None   \n",
              "...       ...     ...        ...     ...       ...   ...   ...   ...   ...   \n",
              "8123  Hyundai     i20      Magna    None      None  None  None  None  None   \n",
              "8124  Hyundai   Verna       CRDi      SX      None  None  None  None  None   \n",
              "8125   Maruti   Swift      Dzire     ZDi      None  None  None  None  None   \n",
              "8126     Tata  Indigo        CR4    None      None  None  None  None  None   \n",
              "8127     Tata  Indigo        CR4    None      None  None  None  None  None   \n",
              "\n",
              "         9  \n",
              "0     None  \n",
              "1     None  \n",
              "2     None  \n",
              "3     None  \n",
              "4     None  \n",
              "...    ...  \n",
              "8123  None  \n",
              "8124  None  \n",
              "8125  None  \n",
              "8126  None  \n",
              "8127  None  \n",
              "\n",
              "[8128 rows x 10 columns]"
            ],
            "text/html": [
              "\n",
              "  <div id=\"df-02470e53-f6f6-48ff-8d1c-0faca80bbbc0\">\n",
              "    <div class=\"colab-df-container\">\n",
              "      <div>\n",
              "<style scoped>\n",
              "    .dataframe tbody tr th:only-of-type {\n",
              "        vertical-align: middle;\n",
              "    }\n",
              "\n",
              "    .dataframe tbody tr th {\n",
              "        vertical-align: top;\n",
              "    }\n",
              "\n",
              "    .dataframe thead th {\n",
              "        text-align: right;\n",
              "    }\n",
              "</style>\n",
              "<table border=\"1\" class=\"dataframe\">\n",
              "  <thead>\n",
              "    <tr style=\"text-align: right;\">\n",
              "      <th></th>\n",
              "      <th>0</th>\n",
              "      <th>1</th>\n",
              "      <th>2</th>\n",
              "      <th>3</th>\n",
              "      <th>4</th>\n",
              "      <th>5</th>\n",
              "      <th>6</th>\n",
              "      <th>7</th>\n",
              "      <th>8</th>\n",
              "      <th>9</th>\n",
              "    </tr>\n",
              "  </thead>\n",
              "  <tbody>\n",
              "    <tr>\n",
              "      <th>0</th>\n",
              "      <td>Maruti</td>\n",
              "      <td>Swift</td>\n",
              "      <td>Dzire</td>\n",
              "      <td>VDI</td>\n",
              "      <td>None</td>\n",
              "      <td>None</td>\n",
              "      <td>None</td>\n",
              "      <td>None</td>\n",
              "      <td>None</td>\n",
              "      <td>None</td>\n",
              "    </tr>\n",
              "    <tr>\n",
              "      <th>1</th>\n",
              "      <td>Skoda</td>\n",
              "      <td>Rapid</td>\n",
              "      <td>1.5</td>\n",
              "      <td>TDI</td>\n",
              "      <td>Ambition</td>\n",
              "      <td>None</td>\n",
              "      <td>None</td>\n",
              "      <td>None</td>\n",
              "      <td>None</td>\n",
              "      <td>None</td>\n",
              "    </tr>\n",
              "    <tr>\n",
              "      <th>2</th>\n",
              "      <td>Honda</td>\n",
              "      <td>City</td>\n",
              "      <td>2017-2020</td>\n",
              "      <td>EXi</td>\n",
              "      <td>None</td>\n",
              "      <td>None</td>\n",
              "      <td>None</td>\n",
              "      <td>None</td>\n",
              "      <td>None</td>\n",
              "      <td>None</td>\n",
              "    </tr>\n",
              "    <tr>\n",
              "      <th>3</th>\n",
              "      <td>Hyundai</td>\n",
              "      <td>i20</td>\n",
              "      <td>Sportz</td>\n",
              "      <td>Diesel</td>\n",
              "      <td>None</td>\n",
              "      <td>None</td>\n",
              "      <td>None</td>\n",
              "      <td>None</td>\n",
              "      <td>None</td>\n",
              "      <td>None</td>\n",
              "    </tr>\n",
              "    <tr>\n",
              "      <th>4</th>\n",
              "      <td>Maruti</td>\n",
              "      <td>Swift</td>\n",
              "      <td>VXI</td>\n",
              "      <td>BSIII</td>\n",
              "      <td>None</td>\n",
              "      <td>None</td>\n",
              "      <td>None</td>\n",
              "      <td>None</td>\n",
              "      <td>None</td>\n",
              "      <td>None</td>\n",
              "    </tr>\n",
              "    <tr>\n",
              "      <th>...</th>\n",
              "      <td>...</td>\n",
              "      <td>...</td>\n",
              "      <td>...</td>\n",
              "      <td>...</td>\n",
              "      <td>...</td>\n",
              "      <td>...</td>\n",
              "      <td>...</td>\n",
              "      <td>...</td>\n",
              "      <td>...</td>\n",
              "      <td>...</td>\n",
              "    </tr>\n",
              "    <tr>\n",
              "      <th>8123</th>\n",
              "      <td>Hyundai</td>\n",
              "      <td>i20</td>\n",
              "      <td>Magna</td>\n",
              "      <td>None</td>\n",
              "      <td>None</td>\n",
              "      <td>None</td>\n",
              "      <td>None</td>\n",
              "      <td>None</td>\n",
              "      <td>None</td>\n",
              "      <td>None</td>\n",
              "    </tr>\n",
              "    <tr>\n",
              "      <th>8124</th>\n",
              "      <td>Hyundai</td>\n",
              "      <td>Verna</td>\n",
              "      <td>CRDi</td>\n",
              "      <td>SX</td>\n",
              "      <td>None</td>\n",
              "      <td>None</td>\n",
              "      <td>None</td>\n",
              "      <td>None</td>\n",
              "      <td>None</td>\n",
              "      <td>None</td>\n",
              "    </tr>\n",
              "    <tr>\n",
              "      <th>8125</th>\n",
              "      <td>Maruti</td>\n",
              "      <td>Swift</td>\n",
              "      <td>Dzire</td>\n",
              "      <td>ZDi</td>\n",
              "      <td>None</td>\n",
              "      <td>None</td>\n",
              "      <td>None</td>\n",
              "      <td>None</td>\n",
              "      <td>None</td>\n",
              "      <td>None</td>\n",
              "    </tr>\n",
              "    <tr>\n",
              "      <th>8126</th>\n",
              "      <td>Tata</td>\n",
              "      <td>Indigo</td>\n",
              "      <td>CR4</td>\n",
              "      <td>None</td>\n",
              "      <td>None</td>\n",
              "      <td>None</td>\n",
              "      <td>None</td>\n",
              "      <td>None</td>\n",
              "      <td>None</td>\n",
              "      <td>None</td>\n",
              "    </tr>\n",
              "    <tr>\n",
              "      <th>8127</th>\n",
              "      <td>Tata</td>\n",
              "      <td>Indigo</td>\n",
              "      <td>CR4</td>\n",
              "      <td>None</td>\n",
              "      <td>None</td>\n",
              "      <td>None</td>\n",
              "      <td>None</td>\n",
              "      <td>None</td>\n",
              "      <td>None</td>\n",
              "      <td>None</td>\n",
              "    </tr>\n",
              "  </tbody>\n",
              "</table>\n",
              "<p>8128 rows × 10 columns</p>\n",
              "</div>\n",
              "      <button class=\"colab-df-convert\" onclick=\"convertToInteractive('df-02470e53-f6f6-48ff-8d1c-0faca80bbbc0')\"\n",
              "              title=\"Convert this dataframe to an interactive table.\"\n",
              "              style=\"display:none;\">\n",
              "        \n",
              "  <svg xmlns=\"http://www.w3.org/2000/svg\" height=\"24px\"viewBox=\"0 0 24 24\"\n",
              "       width=\"24px\">\n",
              "    <path d=\"M0 0h24v24H0V0z\" fill=\"none\"/>\n",
              "    <path d=\"M18.56 5.44l.94 2.06.94-2.06 2.06-.94-2.06-.94-.94-2.06-.94 2.06-2.06.94zm-11 1L8.5 8.5l.94-2.06 2.06-.94-2.06-.94L8.5 2.5l-.94 2.06-2.06.94zm10 10l.94 2.06.94-2.06 2.06-.94-2.06-.94-.94-2.06-.94 2.06-2.06.94z\"/><path d=\"M17.41 7.96l-1.37-1.37c-.4-.4-.92-.59-1.43-.59-.52 0-1.04.2-1.43.59L10.3 9.45l-7.72 7.72c-.78.78-.78 2.05 0 2.83L4 21.41c.39.39.9.59 1.41.59.51 0 1.02-.2 1.41-.59l7.78-7.78 2.81-2.81c.8-.78.8-2.07 0-2.86zM5.41 20L4 18.59l7.72-7.72 1.47 1.35L5.41 20z\"/>\n",
              "  </svg>\n",
              "      </button>\n",
              "      \n",
              "  <style>\n",
              "    .colab-df-container {\n",
              "      display:flex;\n",
              "      flex-wrap:wrap;\n",
              "      gap: 12px;\n",
              "    }\n",
              "\n",
              "    .colab-df-convert {\n",
              "      background-color: #E8F0FE;\n",
              "      border: none;\n",
              "      border-radius: 50%;\n",
              "      cursor: pointer;\n",
              "      display: none;\n",
              "      fill: #1967D2;\n",
              "      height: 32px;\n",
              "      padding: 0 0 0 0;\n",
              "      width: 32px;\n",
              "    }\n",
              "\n",
              "    .colab-df-convert:hover {\n",
              "      background-color: #E2EBFA;\n",
              "      box-shadow: 0px 1px 2px rgba(60, 64, 67, 0.3), 0px 1px 3px 1px rgba(60, 64, 67, 0.15);\n",
              "      fill: #174EA6;\n",
              "    }\n",
              "\n",
              "    [theme=dark] .colab-df-convert {\n",
              "      background-color: #3B4455;\n",
              "      fill: #D2E3FC;\n",
              "    }\n",
              "\n",
              "    [theme=dark] .colab-df-convert:hover {\n",
              "      background-color: #434B5C;\n",
              "      box-shadow: 0px 1px 3px 1px rgba(0, 0, 0, 0.15);\n",
              "      filter: drop-shadow(0px 1px 2px rgba(0, 0, 0, 0.3));\n",
              "      fill: #FFFFFF;\n",
              "    }\n",
              "  </style>\n",
              "\n",
              "      <script>\n",
              "        const buttonEl =\n",
              "          document.querySelector('#df-02470e53-f6f6-48ff-8d1c-0faca80bbbc0 button.colab-df-convert');\n",
              "        buttonEl.style.display =\n",
              "          google.colab.kernel.accessAllowed ? 'block' : 'none';\n",
              "\n",
              "        async function convertToInteractive(key) {\n",
              "          const element = document.querySelector('#df-02470e53-f6f6-48ff-8d1c-0faca80bbbc0');\n",
              "          const dataTable =\n",
              "            await google.colab.kernel.invokeFunction('convertToInteractive',\n",
              "                                                     [key], {});\n",
              "          if (!dataTable) return;\n",
              "\n",
              "          const docLinkHtml = 'Like what you see? Visit the ' +\n",
              "            '<a target=\"_blank\" href=https://colab.research.google.com/notebooks/data_table.ipynb>data table notebook</a>'\n",
              "            + ' to learn more about interactive tables.';\n",
              "          element.innerHTML = '';\n",
              "          dataTable['output_type'] = 'display_data';\n",
              "          await google.colab.output.renderOutput(dataTable, element);\n",
              "          const docLink = document.createElement('div');\n",
              "          docLink.innerHTML = docLinkHtml;\n",
              "          element.appendChild(docLink);\n",
              "        }\n",
              "      </script>\n",
              "    </div>\n",
              "  </div>\n",
              "  "
            ]
          },
          "metadata": {},
          "execution_count": 48
        }
      ]
    },
    {
      "cell_type": "code",
      "source": [
        "data['name'] = data['name'].str.split(expand=True)[0]"
      ],
      "metadata": {
        "id": "ZgpUu2xjpneJ"
      },
      "execution_count": 49,
      "outputs": []
    },
    {
      "cell_type": "code",
      "source": [
        "data['name'].unique()"
      ],
      "metadata": {
        "id": "5AEIHsRop5SL",
        "outputId": "eeebb74b-5203-47dd-a2ac-a8ae92766e61",
        "colab": {
          "base_uri": "https://localhost:8080/"
        }
      },
      "execution_count": 50,
      "outputs": [
        {
          "output_type": "execute_result",
          "data": {
            "text/plain": [
              "array(['Maruti', 'Skoda', 'Honda', 'Hyundai', 'Toyota', 'Ford', 'Renault',\n",
              "       'Mahindra', 'Tata', 'Chevrolet', 'Fiat', 'Datsun', 'Jeep',\n",
              "       'Mercedes-Benz', 'Mitsubishi', 'Audi', 'Volkswagen', 'BMW',\n",
              "       'Nissan', 'Lexus', 'Jaguar', 'Land', 'MG', 'Volvo', 'Daewoo',\n",
              "       'Kia', 'Force', 'Ambassador', 'Ashok', 'Isuzu', 'Opel', 'Peugeot'],\n",
              "      dtype=object)"
            ]
          },
          "metadata": {},
          "execution_count": 50
        }
      ]
    },
    {
      "cell_type": "markdown",
      "source": [
        " - 'Land' → Land Rover'"
      ],
      "metadata": {
        "id": "rF68GxwBqBJp"
      }
    },
    {
      "cell_type": "code",
      "source": [
        "data['name'] = data['name'].replace('Land', 'Land Rover')"
      ],
      "metadata": {
        "id": "cjnU8-hHp_xb"
      },
      "execution_count": 51,
      "outputs": []
    },
    {
      "cell_type": "markdown",
      "source": [
        "## 전처리 : 결측치 처리와 더미 변수 변환"
      ],
      "metadata": {
        "id": "mWrGCsecrIxS"
      }
    },
    {
      "cell_type": "code",
      "source": [
        "data.isna().mean() # DataFrame.mean() : col별 평균"
      ],
      "metadata": {
        "id": "psS8bONQqGnx",
        "outputId": "0d2c21f6-839d-4e57-9906-ec52e9819f2c",
        "colab": {
          "base_uri": "https://localhost:8080/"
        }
      },
      "execution_count": 52,
      "outputs": [
        {
          "output_type": "execute_result",
          "data": {
            "text/plain": [
              "name             0.000000\n",
              "year             0.000000\n",
              "selling_price    0.000000\n",
              "km_driven        0.000000\n",
              "fuel             0.000000\n",
              "seller_type      0.000000\n",
              "transmission     0.000000\n",
              "owner            0.000000\n",
              "mileage          0.027190\n",
              "engine           0.027190\n",
              "max_power        0.026575\n",
              "torque           0.027313\n",
              "seats            0.027190\n",
              "dtype: float64"
            ]
          },
          "metadata": {},
          "execution_count": 52
        }
      ]
    },
    {
      "cell_type": "markdown",
      "source": [
        " - 결측치가 2.6~2.7% 수준\n",
        " - 평균값으로 치환하면 오히려 노이즈 역할을 할수도 → 결치치 행 제거"
      ],
      "metadata": {
        "id": "nKMcK25Hrwb5"
      }
    },
    {
      "cell_type": "code",
      "source": [
        "print('결측치 제거 전',len(data))\n",
        "data.dropna(inplace=True)\n",
        "print('결측치 제거 후',len(data))"
      ],
      "metadata": {
        "id": "WtbwNs-2rmQf",
        "outputId": "338c3e82-ab0f-4f2e-ee13-ca526b5d9a2d",
        "colab": {
          "base_uri": "https://localhost:8080/"
        }
      },
      "execution_count": 53,
      "outputs": [
        {
          "output_type": "stream",
          "name": "stdout",
          "text": [
            "결측치 제거 전 8128\n",
            "결측치 제거 후 7906\n"
          ]
        }
      ]
    },
    {
      "cell_type": "markdown",
      "source": [
        " - dropna()\n",
        "```\n",
        "dropna(how='any')\n",
        " # 'any'(default) : 하나라도 NaN면 행제거\n",
        " # 'all' : 모두 NaN면 행제거\n",
        " dropna(axis=0)\n",
        " # axis=0(default) : 행제거\n",
        " # axis=1 : 열제거\n",
        "```\n",
        "\n"
      ],
      "metadata": {
        "id": "K1IEw5k4tX4S"
      }
    },
    {
      "cell_type": "code",
      "source": [
        "# 텍스트 컬럼을 더미 변수로 변환 : name, fuel, seller_type, transmission, owner\n",
        "data = pd.get_dummies(data, columns=['name', 'fuel','seller_type','transmission','owner'], drop_first=True)"
      ],
      "metadata": {
        "id": "zgEScwz3sRC0"
      },
      "execution_count": 54,
      "outputs": []
    },
    {
      "cell_type": "code",
      "source": [
        "data.head()"
      ],
      "metadata": {
        "id": "zjpq5UqCunqO",
        "outputId": "c3b307ea-861a-4224-ecda-1824b81e4567",
        "colab": {
          "base_uri": "https://localhost:8080/",
          "height": 334
        }
      },
      "execution_count": 55,
      "outputs": [
        {
          "output_type": "execute_result",
          "data": {
            "text/plain": [
              "   year  selling_price  km_driven   mileage  engine  max_power     torque  \\\n",
              "0  2014         450000     145500  0.318108  1248.0      74.00  190.00000   \n",
              "1  2014         370000     120000  0.287384  1498.0     103.52  250.00000   \n",
              "2  2006         158000     140000  0.220067  1497.0      78.00  124.54382   \n",
              "3  2010         225000     127000  0.312670  1396.0      90.00  219.66784   \n",
              "4  2007         130000     120000  0.200174  1298.0      88.20  112.77590   \n",
              "\n",
              "   seats  name_Ashok  name_Audi  ...  fuel_Diesel  fuel_LPG  fuel_Petrol  \\\n",
              "0    5.0           0          0  ...            1         0            0   \n",
              "1    5.0           0          0  ...            1         0            0   \n",
              "2    5.0           0          0  ...            0         0            1   \n",
              "3    5.0           0          0  ...            1         0            0   \n",
              "4    5.0           0          0  ...            0         0            1   \n",
              "\n",
              "   seller_type_Individual  seller_type_Trustmark Dealer  transmission_Manual  \\\n",
              "0                       1                             0                    1   \n",
              "1                       1                             0                    1   \n",
              "2                       1                             0                    1   \n",
              "3                       1                             0                    1   \n",
              "4                       1                             0                    1   \n",
              "\n",
              "   owner_Fourth & Above Owner  owner_Second Owner  owner_Test Drive Car  \\\n",
              "0                           0                   0                     0   \n",
              "1                           0                   1                     0   \n",
              "2                           0                   0                     0   \n",
              "3                           0                   0                     0   \n",
              "4                           0                   0                     0   \n",
              "\n",
              "   owner_Third Owner  \n",
              "0                  0  \n",
              "1                  0  \n",
              "2                  1  \n",
              "3                  0  \n",
              "4                  0  \n",
              "\n",
              "[5 rows x 48 columns]"
            ],
            "text/html": [
              "\n",
              "  <div id=\"df-640724f4-be31-4e63-baa2-5b78773e263a\">\n",
              "    <div class=\"colab-df-container\">\n",
              "      <div>\n",
              "<style scoped>\n",
              "    .dataframe tbody tr th:only-of-type {\n",
              "        vertical-align: middle;\n",
              "    }\n",
              "\n",
              "    .dataframe tbody tr th {\n",
              "        vertical-align: top;\n",
              "    }\n",
              "\n",
              "    .dataframe thead th {\n",
              "        text-align: right;\n",
              "    }\n",
              "</style>\n",
              "<table border=\"1\" class=\"dataframe\">\n",
              "  <thead>\n",
              "    <tr style=\"text-align: right;\">\n",
              "      <th></th>\n",
              "      <th>year</th>\n",
              "      <th>selling_price</th>\n",
              "      <th>km_driven</th>\n",
              "      <th>mileage</th>\n",
              "      <th>engine</th>\n",
              "      <th>max_power</th>\n",
              "      <th>torque</th>\n",
              "      <th>seats</th>\n",
              "      <th>name_Ashok</th>\n",
              "      <th>name_Audi</th>\n",
              "      <th>...</th>\n",
              "      <th>fuel_Diesel</th>\n",
              "      <th>fuel_LPG</th>\n",
              "      <th>fuel_Petrol</th>\n",
              "      <th>seller_type_Individual</th>\n",
              "      <th>seller_type_Trustmark Dealer</th>\n",
              "      <th>transmission_Manual</th>\n",
              "      <th>owner_Fourth &amp; Above Owner</th>\n",
              "      <th>owner_Second Owner</th>\n",
              "      <th>owner_Test Drive Car</th>\n",
              "      <th>owner_Third Owner</th>\n",
              "    </tr>\n",
              "  </thead>\n",
              "  <tbody>\n",
              "    <tr>\n",
              "      <th>0</th>\n",
              "      <td>2014</td>\n",
              "      <td>450000</td>\n",
              "      <td>145500</td>\n",
              "      <td>0.318108</td>\n",
              "      <td>1248.0</td>\n",
              "      <td>74.00</td>\n",
              "      <td>190.00000</td>\n",
              "      <td>5.0</td>\n",
              "      <td>0</td>\n",
              "      <td>0</td>\n",
              "      <td>...</td>\n",
              "      <td>1</td>\n",
              "      <td>0</td>\n",
              "      <td>0</td>\n",
              "      <td>1</td>\n",
              "      <td>0</td>\n",
              "      <td>1</td>\n",
              "      <td>0</td>\n",
              "      <td>0</td>\n",
              "      <td>0</td>\n",
              "      <td>0</td>\n",
              "    </tr>\n",
              "    <tr>\n",
              "      <th>1</th>\n",
              "      <td>2014</td>\n",
              "      <td>370000</td>\n",
              "      <td>120000</td>\n",
              "      <td>0.287384</td>\n",
              "      <td>1498.0</td>\n",
              "      <td>103.52</td>\n",
              "      <td>250.00000</td>\n",
              "      <td>5.0</td>\n",
              "      <td>0</td>\n",
              "      <td>0</td>\n",
              "      <td>...</td>\n",
              "      <td>1</td>\n",
              "      <td>0</td>\n",
              "      <td>0</td>\n",
              "      <td>1</td>\n",
              "      <td>0</td>\n",
              "      <td>1</td>\n",
              "      <td>0</td>\n",
              "      <td>1</td>\n",
              "      <td>0</td>\n",
              "      <td>0</td>\n",
              "    </tr>\n",
              "    <tr>\n",
              "      <th>2</th>\n",
              "      <td>2006</td>\n",
              "      <td>158000</td>\n",
              "      <td>140000</td>\n",
              "      <td>0.220067</td>\n",
              "      <td>1497.0</td>\n",
              "      <td>78.00</td>\n",
              "      <td>124.54382</td>\n",
              "      <td>5.0</td>\n",
              "      <td>0</td>\n",
              "      <td>0</td>\n",
              "      <td>...</td>\n",
              "      <td>0</td>\n",
              "      <td>0</td>\n",
              "      <td>1</td>\n",
              "      <td>1</td>\n",
              "      <td>0</td>\n",
              "      <td>1</td>\n",
              "      <td>0</td>\n",
              "      <td>0</td>\n",
              "      <td>0</td>\n",
              "      <td>1</td>\n",
              "    </tr>\n",
              "    <tr>\n",
              "      <th>3</th>\n",
              "      <td>2010</td>\n",
              "      <td>225000</td>\n",
              "      <td>127000</td>\n",
              "      <td>0.312670</td>\n",
              "      <td>1396.0</td>\n",
              "      <td>90.00</td>\n",
              "      <td>219.66784</td>\n",
              "      <td>5.0</td>\n",
              "      <td>0</td>\n",
              "      <td>0</td>\n",
              "      <td>...</td>\n",
              "      <td>1</td>\n",
              "      <td>0</td>\n",
              "      <td>0</td>\n",
              "      <td>1</td>\n",
              "      <td>0</td>\n",
              "      <td>1</td>\n",
              "      <td>0</td>\n",
              "      <td>0</td>\n",
              "      <td>0</td>\n",
              "      <td>0</td>\n",
              "    </tr>\n",
              "    <tr>\n",
              "      <th>4</th>\n",
              "      <td>2007</td>\n",
              "      <td>130000</td>\n",
              "      <td>120000</td>\n",
              "      <td>0.200174</td>\n",
              "      <td>1298.0</td>\n",
              "      <td>88.20</td>\n",
              "      <td>112.77590</td>\n",
              "      <td>5.0</td>\n",
              "      <td>0</td>\n",
              "      <td>0</td>\n",
              "      <td>...</td>\n",
              "      <td>0</td>\n",
              "      <td>0</td>\n",
              "      <td>1</td>\n",
              "      <td>1</td>\n",
              "      <td>0</td>\n",
              "      <td>1</td>\n",
              "      <td>0</td>\n",
              "      <td>0</td>\n",
              "      <td>0</td>\n",
              "      <td>0</td>\n",
              "    </tr>\n",
              "  </tbody>\n",
              "</table>\n",
              "<p>5 rows × 48 columns</p>\n",
              "</div>\n",
              "      <button class=\"colab-df-convert\" onclick=\"convertToInteractive('df-640724f4-be31-4e63-baa2-5b78773e263a')\"\n",
              "              title=\"Convert this dataframe to an interactive table.\"\n",
              "              style=\"display:none;\">\n",
              "        \n",
              "  <svg xmlns=\"http://www.w3.org/2000/svg\" height=\"24px\"viewBox=\"0 0 24 24\"\n",
              "       width=\"24px\">\n",
              "    <path d=\"M0 0h24v24H0V0z\" fill=\"none\"/>\n",
              "    <path d=\"M18.56 5.44l.94 2.06.94-2.06 2.06-.94-2.06-.94-.94-2.06-.94 2.06-2.06.94zm-11 1L8.5 8.5l.94-2.06 2.06-.94-2.06-.94L8.5 2.5l-.94 2.06-2.06.94zm10 10l.94 2.06.94-2.06 2.06-.94-2.06-.94-.94-2.06-.94 2.06-2.06.94z\"/><path d=\"M17.41 7.96l-1.37-1.37c-.4-.4-.92-.59-1.43-.59-.52 0-1.04.2-1.43.59L10.3 9.45l-7.72 7.72c-.78.78-.78 2.05 0 2.83L4 21.41c.39.39.9.59 1.41.59.51 0 1.02-.2 1.41-.59l7.78-7.78 2.81-2.81c.8-.78.8-2.07 0-2.86zM5.41 20L4 18.59l7.72-7.72 1.47 1.35L5.41 20z\"/>\n",
              "  </svg>\n",
              "      </button>\n",
              "      \n",
              "  <style>\n",
              "    .colab-df-container {\n",
              "      display:flex;\n",
              "      flex-wrap:wrap;\n",
              "      gap: 12px;\n",
              "    }\n",
              "\n",
              "    .colab-df-convert {\n",
              "      background-color: #E8F0FE;\n",
              "      border: none;\n",
              "      border-radius: 50%;\n",
              "      cursor: pointer;\n",
              "      display: none;\n",
              "      fill: #1967D2;\n",
              "      height: 32px;\n",
              "      padding: 0 0 0 0;\n",
              "      width: 32px;\n",
              "    }\n",
              "\n",
              "    .colab-df-convert:hover {\n",
              "      background-color: #E2EBFA;\n",
              "      box-shadow: 0px 1px 2px rgba(60, 64, 67, 0.3), 0px 1px 3px 1px rgba(60, 64, 67, 0.15);\n",
              "      fill: #174EA6;\n",
              "    }\n",
              "\n",
              "    [theme=dark] .colab-df-convert {\n",
              "      background-color: #3B4455;\n",
              "      fill: #D2E3FC;\n",
              "    }\n",
              "\n",
              "    [theme=dark] .colab-df-convert:hover {\n",
              "      background-color: #434B5C;\n",
              "      box-shadow: 0px 1px 3px 1px rgba(0, 0, 0, 0.15);\n",
              "      filter: drop-shadow(0px 1px 2px rgba(0, 0, 0, 0.3));\n",
              "      fill: #FFFFFF;\n",
              "    }\n",
              "  </style>\n",
              "\n",
              "      <script>\n",
              "        const buttonEl =\n",
              "          document.querySelector('#df-640724f4-be31-4e63-baa2-5b78773e263a button.colab-df-convert');\n",
              "        buttonEl.style.display =\n",
              "          google.colab.kernel.accessAllowed ? 'block' : 'none';\n",
              "\n",
              "        async function convertToInteractive(key) {\n",
              "          const element = document.querySelector('#df-640724f4-be31-4e63-baa2-5b78773e263a');\n",
              "          const dataTable =\n",
              "            await google.colab.kernel.invokeFunction('convertToInteractive',\n",
              "                                                     [key], {});\n",
              "          if (!dataTable) return;\n",
              "\n",
              "          const docLinkHtml = 'Like what you see? Visit the ' +\n",
              "            '<a target=\"_blank\" href=https://colab.research.google.com/notebooks/data_table.ipynb>data table notebook</a>'\n",
              "            + ' to learn more about interactive tables.';\n",
              "          element.innerHTML = '';\n",
              "          dataTable['output_type'] = 'display_data';\n",
              "          await google.colab.output.renderOutput(dataTable, element);\n",
              "          const docLink = document.createElement('div');\n",
              "          docLink.innerHTML = docLinkHtml;\n",
              "          element.appendChild(docLink);\n",
              "        }\n",
              "      </script>\n",
              "    </div>\n",
              "  </div>\n",
              "  "
            ]
          },
          "metadata": {},
          "execution_count": 55
        }
      ]
    },
    {
      "cell_type": "markdown",
      "source": [
        "## 모델링 및 평가하기"
      ],
      "metadata": {
        "id": "t_HpV4FkutpW"
      }
    },
    {
      "cell_type": "code",
      "source": [
        "from sklearn.model_selection import train_test_split\n",
        "X_train, X_test, y_train, y_test = train_test_split(data.drop('selling_price', axis=1),\n",
        "                                                    data['selling_price'],\n",
        "                                                    test_size=0.2, random_state=100)"
      ],
      "metadata": {
        "id": "D10aMKH4upA4"
      },
      "execution_count": 56,
      "outputs": []
    },
    {
      "cell_type": "markdown",
      "source": [
        " - 랜덤 포레스트 모델은 사이킷런에서 ensemble 패키지 안에 속해 있음\n",
        " - 결정 트리와 마찬가지로 RandomForestRegressor와, RandomForestClassifier를 제공\n",
        " - 연속형 변수(예상 가격)가 타깃이므로 RandomForestRegressor 사용"
      ],
      "metadata": {
        "id": "JnXnwOVtBXFk"
      }
    },
    {
      "cell_type": "code",
      "source": [
        "from sklearn.ensemble import RandomForestRegressor"
      ],
      "metadata": {
        "id": "VArFk_AaBISJ"
      },
      "execution_count": 57,
      "outputs": []
    },
    {
      "cell_type": "code",
      "source": [
        "model = RandomForestRegressor(random_state=100) # 랜덤 포레스트는 매번 다른 방식으로 나무들을 생성하므로 random_state를 지정하는 것이 좋다\n",
        "model.fit(X_train, y_train)\n",
        "# 훈련셋으로 학습후 → 훈련데이터와 시험데이터에 대한 예측값 모두 구해보자\n",
        "train_pred = model.predict(X_train) # 훈련데이터에대한 예측값이 y_train과 같지는 않다\n",
        "test_pred = model.predict(X_test)"
      ],
      "metadata": {
        "id": "DxTYI9WGB0oH"
      },
      "execution_count": 58,
      "outputs": []
    },
    {
      "cell_type": "markdown",
      "source": [
        " - 타깃값(종속변수)이 연속형 데이터이므로, 실제값과 예측값의 차이를 합하는 RMSE를 사용해 평가"
      ],
      "metadata": {
        "id": "uPhS9gwPDhPS"
      }
    },
    {
      "cell_type": "code",
      "source": [
        "from sklearn.metrics import mean_squared_error # MSE\n",
        "print('train_rmse:', mean_squared_error(y_train, train_pred) ** 0.5) # MSE ** 0.5 : RMSE\n",
        "print('test_rmse:', mean_squared_error(y_test, test_pred) ** 0.5)"
      ],
      "metadata": {
        "id": "cQ_arlqiDXeP",
        "outputId": "c35ca1dc-24ac-4d37-ec3f-9013814fc986",
        "colab": {
          "base_uri": "https://localhost:8080/"
        }
      },
      "execution_count": 59,
      "outputs": [
        {
          "output_type": "stream",
          "name": "stdout",
          "text": [
            "train_rmse: 53531.41548125947\n",
            "test_rmse: 131855.18391308116\n"
          ]
        }
      ]
    },
    {
      "cell_type": "markdown",
      "source": [
        " - 아무래도 훈련에 쓰인 데이터 이므로 평가점수가 좋게 나옴"
      ],
      "metadata": {
        "id": "r96yolYuEIUw"
      }
    },
    {
      "cell_type": "markdown",
      "source": [
        "## 이해하기 : K-폴드 교차검증"
      ],
      "metadata": {
        "id": "9echOZWWERLP"
      }
    },
    {
      "cell_type": "markdown",
      "source": [
        "![캡처.PNG](data:image/png;base64,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)"
      ],
      "metadata": {
        "id": "JZgP_lDvE09z"
      }
    },
    {
      "cell_type": "code",
      "source": [
        "from sklearn.model_selection import KFold"
      ],
      "metadata": {
        "id": "6E1UnzDNEBr8"
      },
      "execution_count": 60,
      "outputs": []
    },
    {
      "cell_type": "markdown",
      "source": [
        " - KFold는 인덱스 값을 이용하여 데이터를 분할하는데, 중간에 빈값이 존재하면 에러 발생\n",
        "  \n",
        "  > 전처리에서 dropna()로 약 2%정도 제거하였음\n",
        "\n",
        "  > 인덱스는 0-8127이지만 실제로는 7906줄 상태\n",
        "  \n",
        " - reset_index() 사용하여 인덱스 정리"
      ],
      "metadata": {
        "id": "G-9Uy3uMFDRg"
      }
    },
    {
      "cell_type": "code",
      "source": [
        "data"
      ],
      "metadata": {
        "id": "i0SZF2LIE598",
        "outputId": "8ddc80f7-92c2-42d2-dedc-7780a12ad32a",
        "colab": {
          "base_uri": "https://localhost:8080/",
          "height": 522
        }
      },
      "execution_count": 61,
      "outputs": [
        {
          "output_type": "execute_result",
          "data": {
            "text/plain": [
              "      year  selling_price  km_driven   mileage  engine  max_power     torque  \\\n",
              "0     2014         450000     145500  0.318108  1248.0      74.00  190.00000   \n",
              "1     2014         370000     120000  0.287384  1498.0     103.52  250.00000   \n",
              "2     2006         158000     140000  0.220067  1497.0      78.00  124.54382   \n",
              "3     2010         225000     127000  0.312670  1396.0      90.00  219.66784   \n",
              "4     2007         130000     120000  0.200174  1298.0      88.20  112.77590   \n",
              "...    ...            ...        ...       ...     ...        ...        ...   \n",
              "8123  2013         320000     110000  0.230014  1197.0      82.85  113.70000   \n",
              "8124  2007         135000     119000  0.228385  1493.0     110.00  235.35840   \n",
              "8125  2009         382000     120000  0.262371  1248.0      73.90  190.00000   \n",
              "8126  2013         290000      25000  0.320419  1396.0      70.00  140.00000   \n",
              "8127  2013         290000      25000  0.320419  1396.0      70.00  140.00000   \n",
              "\n",
              "      seats  name_Ashok  name_Audi  ...  fuel_Diesel  fuel_LPG  fuel_Petrol  \\\n",
              "0       5.0           0          0  ...            1         0            0   \n",
              "1       5.0           0          0  ...            1         0            0   \n",
              "2       5.0           0          0  ...            0         0            1   \n",
              "3       5.0           0          0  ...            1         0            0   \n",
              "4       5.0           0          0  ...            0         0            1   \n",
              "...     ...         ...        ...  ...          ...       ...          ...   \n",
              "8123    5.0           0          0  ...            0         0            1   \n",
              "8124    5.0           0          0  ...            1         0            0   \n",
              "8125    5.0           0          0  ...            1         0            0   \n",
              "8126    5.0           0          0  ...            1         0            0   \n",
              "8127    5.0           0          0  ...            1         0            0   \n",
              "\n",
              "      seller_type_Individual  seller_type_Trustmark Dealer  \\\n",
              "0                          1                             0   \n",
              "1                          1                             0   \n",
              "2                          1                             0   \n",
              "3                          1                             0   \n",
              "4                          1                             0   \n",
              "...                      ...                           ...   \n",
              "8123                       1                             0   \n",
              "8124                       1                             0   \n",
              "8125                       1                             0   \n",
              "8126                       1                             0   \n",
              "8127                       1                             0   \n",
              "\n",
              "      transmission_Manual  owner_Fourth & Above Owner  owner_Second Owner  \\\n",
              "0                       1                           0                   0   \n",
              "1                       1                           0                   1   \n",
              "2                       1                           0                   0   \n",
              "3                       1                           0                   0   \n",
              "4                       1                           0                   0   \n",
              "...                   ...                         ...                 ...   \n",
              "8123                    1                           0                   0   \n",
              "8124                    1                           1                   0   \n",
              "8125                    1                           0                   0   \n",
              "8126                    1                           0                   0   \n",
              "8127                    1                           0                   0   \n",
              "\n",
              "      owner_Test Drive Car  owner_Third Owner  \n",
              "0                        0                  0  \n",
              "1                        0                  0  \n",
              "2                        0                  1  \n",
              "3                        0                  0  \n",
              "4                        0                  0  \n",
              "...                    ...                ...  \n",
              "8123                     0                  0  \n",
              "8124                     0                  0  \n",
              "8125                     0                  0  \n",
              "8126                     0                  0  \n",
              "8127                     0                  0  \n",
              "\n",
              "[7906 rows x 48 columns]"
            ],
            "text/html": [
              "\n",
              "  <div id=\"df-fef42767-d59a-4120-af76-e955db71fa9e\">\n",
              "    <div class=\"colab-df-container\">\n",
              "      <div>\n",
              "<style scoped>\n",
              "    .dataframe tbody tr th:only-of-type {\n",
              "        vertical-align: middle;\n",
              "    }\n",
              "\n",
              "    .dataframe tbody tr th {\n",
              "        vertical-align: top;\n",
              "    }\n",
              "\n",
              "    .dataframe thead th {\n",
              "        text-align: right;\n",
              "    }\n",
              "</style>\n",
              "<table border=\"1\" class=\"dataframe\">\n",
              "  <thead>\n",
              "    <tr style=\"text-align: right;\">\n",
              "      <th></th>\n",
              "      <th>year</th>\n",
              "      <th>selling_price</th>\n",
              "      <th>km_driven</th>\n",
              "      <th>mileage</th>\n",
              "      <th>engine</th>\n",
              "      <th>max_power</th>\n",
              "      <th>torque</th>\n",
              "      <th>seats</th>\n",
              "      <th>name_Ashok</th>\n",
              "      <th>name_Audi</th>\n",
              "      <th>...</th>\n",
              "      <th>fuel_Diesel</th>\n",
              "      <th>fuel_LPG</th>\n",
              "      <th>fuel_Petrol</th>\n",
              "      <th>seller_type_Individual</th>\n",
              "      <th>seller_type_Trustmark Dealer</th>\n",
              "      <th>transmission_Manual</th>\n",
              "      <th>owner_Fourth &amp; Above Owner</th>\n",
              "      <th>owner_Second Owner</th>\n",
              "      <th>owner_Test Drive Car</th>\n",
              "      <th>owner_Third Owner</th>\n",
              "    </tr>\n",
              "  </thead>\n",
              "  <tbody>\n",
              "    <tr>\n",
              "      <th>0</th>\n",
              "      <td>2014</td>\n",
              "      <td>450000</td>\n",
              "      <td>145500</td>\n",
              "      <td>0.318108</td>\n",
              "      <td>1248.0</td>\n",
              "      <td>74.00</td>\n",
              "      <td>190.00000</td>\n",
              "      <td>5.0</td>\n",
              "      <td>0</td>\n",
              "      <td>0</td>\n",
              "      <td>...</td>\n",
              "      <td>1</td>\n",
              "      <td>0</td>\n",
              "      <td>0</td>\n",
              "      <td>1</td>\n",
              "      <td>0</td>\n",
              "      <td>1</td>\n",
              "      <td>0</td>\n",
              "      <td>0</td>\n",
              "      <td>0</td>\n",
              "      <td>0</td>\n",
              "    </tr>\n",
              "    <tr>\n",
              "      <th>1</th>\n",
              "      <td>2014</td>\n",
              "      <td>370000</td>\n",
              "      <td>120000</td>\n",
              "      <td>0.287384</td>\n",
              "      <td>1498.0</td>\n",
              "      <td>103.52</td>\n",
              "      <td>250.00000</td>\n",
              "      <td>5.0</td>\n",
              "      <td>0</td>\n",
              "      <td>0</td>\n",
              "      <td>...</td>\n",
              "      <td>1</td>\n",
              "      <td>0</td>\n",
              "      <td>0</td>\n",
              "      <td>1</td>\n",
              "      <td>0</td>\n",
              "      <td>1</td>\n",
              "      <td>0</td>\n",
              "      <td>1</td>\n",
              "      <td>0</td>\n",
              "      <td>0</td>\n",
              "    </tr>\n",
              "    <tr>\n",
              "      <th>2</th>\n",
              "      <td>2006</td>\n",
              "      <td>158000</td>\n",
              "      <td>140000</td>\n",
              "      <td>0.220067</td>\n",
              "      <td>1497.0</td>\n",
              "      <td>78.00</td>\n",
              "      <td>124.54382</td>\n",
              "      <td>5.0</td>\n",
              "      <td>0</td>\n",
              "      <td>0</td>\n",
              "      <td>...</td>\n",
              "      <td>0</td>\n",
              "      <td>0</td>\n",
              "      <td>1</td>\n",
              "      <td>1</td>\n",
              "      <td>0</td>\n",
              "      <td>1</td>\n",
              "      <td>0</td>\n",
              "      <td>0</td>\n",
              "      <td>0</td>\n",
              "      <td>1</td>\n",
              "    </tr>\n",
              "    <tr>\n",
              "      <th>3</th>\n",
              "      <td>2010</td>\n",
              "      <td>225000</td>\n",
              "      <td>127000</td>\n",
              "      <td>0.312670</td>\n",
              "      <td>1396.0</td>\n",
              "      <td>90.00</td>\n",
              "      <td>219.66784</td>\n",
              "      <td>5.0</td>\n",
              "      <td>0</td>\n",
              "      <td>0</td>\n",
              "      <td>...</td>\n",
              "      <td>1</td>\n",
              "      <td>0</td>\n",
              "      <td>0</td>\n",
              "      <td>1</td>\n",
              "      <td>0</td>\n",
              "      <td>1</td>\n",
              "      <td>0</td>\n",
              "      <td>0</td>\n",
              "      <td>0</td>\n",
              "      <td>0</td>\n",
              "    </tr>\n",
              "    <tr>\n",
              "      <th>4</th>\n",
              "      <td>2007</td>\n",
              "      <td>130000</td>\n",
              "      <td>120000</td>\n",
              "      <td>0.200174</td>\n",
              "      <td>1298.0</td>\n",
              "      <td>88.20</td>\n",
              "      <td>112.77590</td>\n",
              "      <td>5.0</td>\n",
              "      <td>0</td>\n",
              "      <td>0</td>\n",
              "      <td>...</td>\n",
              "      <td>0</td>\n",
              "      <td>0</td>\n",
              "      <td>1</td>\n",
              "      <td>1</td>\n",
              "      <td>0</td>\n",
              "      <td>1</td>\n",
              "      <td>0</td>\n",
              "      <td>0</td>\n",
              "      <td>0</td>\n",
              "      <td>0</td>\n",
              "    </tr>\n",
              "    <tr>\n",
              "      <th>...</th>\n",
              "      <td>...</td>\n",
              "      <td>...</td>\n",
              "      <td>...</td>\n",
              "      <td>...</td>\n",
              "      <td>...</td>\n",
              "      <td>...</td>\n",
              "      <td>...</td>\n",
              "      <td>...</td>\n",
              "      <td>...</td>\n",
              "      <td>...</td>\n",
              "      <td>...</td>\n",
              "      <td>...</td>\n",
              "      <td>...</td>\n",
              "      <td>...</td>\n",
              "      <td>...</td>\n",
              "      <td>...</td>\n",
              "      <td>...</td>\n",
              "      <td>...</td>\n",
              "      <td>...</td>\n",
              "      <td>...</td>\n",
              "      <td>...</td>\n",
              "    </tr>\n",
              "    <tr>\n",
              "      <th>8123</th>\n",
              "      <td>2013</td>\n",
              "      <td>320000</td>\n",
              "      <td>110000</td>\n",
              "      <td>0.230014</td>\n",
              "      <td>1197.0</td>\n",
              "      <td>82.85</td>\n",
              "      <td>113.70000</td>\n",
              "      <td>5.0</td>\n",
              "      <td>0</td>\n",
              "      <td>0</td>\n",
              "      <td>...</td>\n",
              "      <td>0</td>\n",
              "      <td>0</td>\n",
              "      <td>1</td>\n",
              "      <td>1</td>\n",
              "      <td>0</td>\n",
              "      <td>1</td>\n",
              "      <td>0</td>\n",
              "      <td>0</td>\n",
              "      <td>0</td>\n",
              "      <td>0</td>\n",
              "    </tr>\n",
              "    <tr>\n",
              "      <th>8124</th>\n",
              "      <td>2007</td>\n",
              "      <td>135000</td>\n",
              "      <td>119000</td>\n",
              "      <td>0.228385</td>\n",
              "      <td>1493.0</td>\n",
              "      <td>110.00</td>\n",
              "      <td>235.35840</td>\n",
              "      <td>5.0</td>\n",
              "      <td>0</td>\n",
              "      <td>0</td>\n",
              "      <td>...</td>\n",
              "      <td>1</td>\n",
              "      <td>0</td>\n",
              "      <td>0</td>\n",
              "      <td>1</td>\n",
              "      <td>0</td>\n",
              "      <td>1</td>\n",
              "      <td>1</td>\n",
              "      <td>0</td>\n",
              "      <td>0</td>\n",
              "      <td>0</td>\n",
              "    </tr>\n",
              "    <tr>\n",
              "      <th>8125</th>\n",
              "      <td>2009</td>\n",
              "      <td>382000</td>\n",
              "      <td>120000</td>\n",
              "      <td>0.262371</td>\n",
              "      <td>1248.0</td>\n",
              "      <td>73.90</td>\n",
              "      <td>190.00000</td>\n",
              "      <td>5.0</td>\n",
              "      <td>0</td>\n",
              "      <td>0</td>\n",
              "      <td>...</td>\n",
              "      <td>1</td>\n",
              "      <td>0</td>\n",
              "      <td>0</td>\n",
              "      <td>1</td>\n",
              "      <td>0</td>\n",
              "      <td>1</td>\n",
              "      <td>0</td>\n",
              "      <td>0</td>\n",
              "      <td>0</td>\n",
              "      <td>0</td>\n",
              "    </tr>\n",
              "    <tr>\n",
              "      <th>8126</th>\n",
              "      <td>2013</td>\n",
              "      <td>290000</td>\n",
              "      <td>25000</td>\n",
              "      <td>0.320419</td>\n",
              "      <td>1396.0</td>\n",
              "      <td>70.00</td>\n",
              "      <td>140.00000</td>\n",
              "      <td>5.0</td>\n",
              "      <td>0</td>\n",
              "      <td>0</td>\n",
              "      <td>...</td>\n",
              "      <td>1</td>\n",
              "      <td>0</td>\n",
              "      <td>0</td>\n",
              "      <td>1</td>\n",
              "      <td>0</td>\n",
              "      <td>1</td>\n",
              "      <td>0</td>\n",
              "      <td>0</td>\n",
              "      <td>0</td>\n",
              "      <td>0</td>\n",
              "    </tr>\n",
              "    <tr>\n",
              "      <th>8127</th>\n",
              "      <td>2013</td>\n",
              "      <td>290000</td>\n",
              "      <td>25000</td>\n",
              "      <td>0.320419</td>\n",
              "      <td>1396.0</td>\n",
              "      <td>70.00</td>\n",
              "      <td>140.00000</td>\n",
              "      <td>5.0</td>\n",
              "      <td>0</td>\n",
              "      <td>0</td>\n",
              "      <td>...</td>\n",
              "      <td>1</td>\n",
              "      <td>0</td>\n",
              "      <td>0</td>\n",
              "      <td>1</td>\n",
              "      <td>0</td>\n",
              "      <td>1</td>\n",
              "      <td>0</td>\n",
              "      <td>0</td>\n",
              "      <td>0</td>\n",
              "      <td>0</td>\n",
              "    </tr>\n",
              "  </tbody>\n",
              "</table>\n",
              "<p>7906 rows × 48 columns</p>\n",
              "</div>\n",
              "      <button class=\"colab-df-convert\" onclick=\"convertToInteractive('df-fef42767-d59a-4120-af76-e955db71fa9e')\"\n",
              "              title=\"Convert this dataframe to an interactive table.\"\n",
              "              style=\"display:none;\">\n",
              "        \n",
              "  <svg xmlns=\"http://www.w3.org/2000/svg\" height=\"24px\"viewBox=\"0 0 24 24\"\n",
              "       width=\"24px\">\n",
              "    <path d=\"M0 0h24v24H0V0z\" fill=\"none\"/>\n",
              "    <path d=\"M18.56 5.44l.94 2.06.94-2.06 2.06-.94-2.06-.94-.94-2.06-.94 2.06-2.06.94zm-11 1L8.5 8.5l.94-2.06 2.06-.94-2.06-.94L8.5 2.5l-.94 2.06-2.06.94zm10 10l.94 2.06.94-2.06 2.06-.94-2.06-.94-.94-2.06-.94 2.06-2.06.94z\"/><path d=\"M17.41 7.96l-1.37-1.37c-.4-.4-.92-.59-1.43-.59-.52 0-1.04.2-1.43.59L10.3 9.45l-7.72 7.72c-.78.78-.78 2.05 0 2.83L4 21.41c.39.39.9.59 1.41.59.51 0 1.02-.2 1.41-.59l7.78-7.78 2.81-2.81c.8-.78.8-2.07 0-2.86zM5.41 20L4 18.59l7.72-7.72 1.47 1.35L5.41 20z\"/>\n",
              "  </svg>\n",
              "      </button>\n",
              "      \n",
              "  <style>\n",
              "    .colab-df-container {\n",
              "      display:flex;\n",
              "      flex-wrap:wrap;\n",
              "      gap: 12px;\n",
              "    }\n",
              "\n",
              "    .colab-df-convert {\n",
              "      background-color: #E8F0FE;\n",
              "      border: none;\n",
              "      border-radius: 50%;\n",
              "      cursor: pointer;\n",
              "      display: none;\n",
              "      fill: #1967D2;\n",
              "      height: 32px;\n",
              "      padding: 0 0 0 0;\n",
              "      width: 32px;\n",
              "    }\n",
              "\n",
              "    .colab-df-convert:hover {\n",
              "      background-color: #E2EBFA;\n",
              "      box-shadow: 0px 1px 2px rgba(60, 64, 67, 0.3), 0px 1px 3px 1px rgba(60, 64, 67, 0.15);\n",
              "      fill: #174EA6;\n",
              "    }\n",
              "\n",
              "    [theme=dark] .colab-df-convert {\n",
              "      background-color: #3B4455;\n",
              "      fill: #D2E3FC;\n",
              "    }\n",
              "\n",
              "    [theme=dark] .colab-df-convert:hover {\n",
              "      background-color: #434B5C;\n",
              "      box-shadow: 0px 1px 3px 1px rgba(0, 0, 0, 0.15);\n",
              "      filter: drop-shadow(0px 1px 2px rgba(0, 0, 0, 0.3));\n",
              "      fill: #FFFFFF;\n",
              "    }\n",
              "  </style>\n",
              "\n",
              "      <script>\n",
              "        const buttonEl =\n",
              "          document.querySelector('#df-fef42767-d59a-4120-af76-e955db71fa9e button.colab-df-convert');\n",
              "        buttonEl.style.display =\n",
              "          google.colab.kernel.accessAllowed ? 'block' : 'none';\n",
              "\n",
              "        async function convertToInteractive(key) {\n",
              "          const element = document.querySelector('#df-fef42767-d59a-4120-af76-e955db71fa9e');\n",
              "          const dataTable =\n",
              "            await google.colab.kernel.invokeFunction('convertToInteractive',\n",
              "                                                     [key], {});\n",
              "          if (!dataTable) return;\n",
              "\n",
              "          const docLinkHtml = 'Like what you see? Visit the ' +\n",
              "            '<a target=\"_blank\" href=https://colab.research.google.com/notebooks/data_table.ipynb>data table notebook</a>'\n",
              "            + ' to learn more about interactive tables.';\n",
              "          element.innerHTML = '';\n",
              "          dataTable['output_type'] = 'display_data';\n",
              "          await google.colab.output.renderOutput(dataTable, element);\n",
              "          const docLink = document.createElement('div');\n",
              "          docLink.innerHTML = docLinkHtml;\n",
              "          element.appendChild(docLink);\n",
              "        }\n",
              "      </script>\n",
              "    </div>\n",
              "  </div>\n",
              "  "
            ]
          },
          "metadata": {},
          "execution_count": 61
        }
      ]
    },
    {
      "cell_type": "code",
      "source": [
        "data.reset_index(drop=True, inplace=True) # drop매개변수 : 기존인덱스를 컬럼으로 가져오지 않음"
      ],
      "metadata": {
        "id": "8UuEtvTrE930"
      },
      "execution_count": 62,
      "outputs": []
    },
    {
      "cell_type": "code",
      "source": [
        "data"
      ],
      "metadata": {
        "id": "LmxopFjhFmHJ",
        "outputId": "2a595233-f258-48bd-dc14-aa048216ea91",
        "colab": {
          "base_uri": "https://localhost:8080/",
          "height": 522
        }
      },
      "execution_count": 63,
      "outputs": [
        {
          "output_type": "execute_result",
          "data": {
            "text/plain": [
              "      year  selling_price  km_driven   mileage  engine  max_power     torque  \\\n",
              "0     2014         450000     145500  0.318108  1248.0      74.00  190.00000   \n",
              "1     2014         370000     120000  0.287384  1498.0     103.52  250.00000   \n",
              "2     2006         158000     140000  0.220067  1497.0      78.00  124.54382   \n",
              "3     2010         225000     127000  0.312670  1396.0      90.00  219.66784   \n",
              "4     2007         130000     120000  0.200174  1298.0      88.20  112.77590   \n",
              "...    ...            ...        ...       ...     ...        ...        ...   \n",
              "7901  2013         320000     110000  0.230014  1197.0      82.85  113.70000   \n",
              "7902  2007         135000     119000  0.228385  1493.0     110.00  235.35840   \n",
              "7903  2009         382000     120000  0.262371  1248.0      73.90  190.00000   \n",
              "7904  2013         290000      25000  0.320419  1396.0      70.00  140.00000   \n",
              "7905  2013         290000      25000  0.320419  1396.0      70.00  140.00000   \n",
              "\n",
              "      seats  name_Ashok  name_Audi  ...  fuel_Diesel  fuel_LPG  fuel_Petrol  \\\n",
              "0       5.0           0          0  ...            1         0            0   \n",
              "1       5.0           0          0  ...            1         0            0   \n",
              "2       5.0           0          0  ...            0         0            1   \n",
              "3       5.0           0          0  ...            1         0            0   \n",
              "4       5.0           0          0  ...            0         0            1   \n",
              "...     ...         ...        ...  ...          ...       ...          ...   \n",
              "7901    5.0           0          0  ...            0         0            1   \n",
              "7902    5.0           0          0  ...            1         0            0   \n",
              "7903    5.0           0          0  ...            1         0            0   \n",
              "7904    5.0           0          0  ...            1         0            0   \n",
              "7905    5.0           0          0  ...            1         0            0   \n",
              "\n",
              "      seller_type_Individual  seller_type_Trustmark Dealer  \\\n",
              "0                          1                             0   \n",
              "1                          1                             0   \n",
              "2                          1                             0   \n",
              "3                          1                             0   \n",
              "4                          1                             0   \n",
              "...                      ...                           ...   \n",
              "7901                       1                             0   \n",
              "7902                       1                             0   \n",
              "7903                       1                             0   \n",
              "7904                       1                             0   \n",
              "7905                       1                             0   \n",
              "\n",
              "      transmission_Manual  owner_Fourth & Above Owner  owner_Second Owner  \\\n",
              "0                       1                           0                   0   \n",
              "1                       1                           0                   1   \n",
              "2                       1                           0                   0   \n",
              "3                       1                           0                   0   \n",
              "4                       1                           0                   0   \n",
              "...                   ...                         ...                 ...   \n",
              "7901                    1                           0                   0   \n",
              "7902                    1                           1                   0   \n",
              "7903                    1                           0                   0   \n",
              "7904                    1                           0                   0   \n",
              "7905                    1                           0                   0   \n",
              "\n",
              "      owner_Test Drive Car  owner_Third Owner  \n",
              "0                        0                  0  \n",
              "1                        0                  0  \n",
              "2                        0                  1  \n",
              "3                        0                  0  \n",
              "4                        0                  0  \n",
              "...                    ...                ...  \n",
              "7901                     0                  0  \n",
              "7902                     0                  0  \n",
              "7903                     0                  0  \n",
              "7904                     0                  0  \n",
              "7905                     0                  0  \n",
              "\n",
              "[7906 rows x 48 columns]"
            ],
            "text/html": [
              "\n",
              "  <div id=\"df-80699b4a-5664-4a21-93c9-362b46fdb620\">\n",
              "    <div class=\"colab-df-container\">\n",
              "      <div>\n",
              "<style scoped>\n",
              "    .dataframe tbody tr th:only-of-type {\n",
              "        vertical-align: middle;\n",
              "    }\n",
              "\n",
              "    .dataframe tbody tr th {\n",
              "        vertical-align: top;\n",
              "    }\n",
              "\n",
              "    .dataframe thead th {\n",
              "        text-align: right;\n",
              "    }\n",
              "</style>\n",
              "<table border=\"1\" class=\"dataframe\">\n",
              "  <thead>\n",
              "    <tr style=\"text-align: right;\">\n",
              "      <th></th>\n",
              "      <th>year</th>\n",
              "      <th>selling_price</th>\n",
              "      <th>km_driven</th>\n",
              "      <th>mileage</th>\n",
              "      <th>engine</th>\n",
              "      <th>max_power</th>\n",
              "      <th>torque</th>\n",
              "      <th>seats</th>\n",
              "      <th>name_Ashok</th>\n",
              "      <th>name_Audi</th>\n",
              "      <th>...</th>\n",
              "      <th>fuel_Diesel</th>\n",
              "      <th>fuel_LPG</th>\n",
              "      <th>fuel_Petrol</th>\n",
              "      <th>seller_type_Individual</th>\n",
              "      <th>seller_type_Trustmark Dealer</th>\n",
              "      <th>transmission_Manual</th>\n",
              "      <th>owner_Fourth &amp; Above Owner</th>\n",
              "      <th>owner_Second Owner</th>\n",
              "      <th>owner_Test Drive Car</th>\n",
              "      <th>owner_Third Owner</th>\n",
              "    </tr>\n",
              "  </thead>\n",
              "  <tbody>\n",
              "    <tr>\n",
              "      <th>0</th>\n",
              "      <td>2014</td>\n",
              "      <td>450000</td>\n",
              "      <td>145500</td>\n",
              "      <td>0.318108</td>\n",
              "      <td>1248.0</td>\n",
              "      <td>74.00</td>\n",
              "      <td>190.00000</td>\n",
              "      <td>5.0</td>\n",
              "      <td>0</td>\n",
              "      <td>0</td>\n",
              "      <td>...</td>\n",
              "      <td>1</td>\n",
              "      <td>0</td>\n",
              "      <td>0</td>\n",
              "      <td>1</td>\n",
              "      <td>0</td>\n",
              "      <td>1</td>\n",
              "      <td>0</td>\n",
              "      <td>0</td>\n",
              "      <td>0</td>\n",
              "      <td>0</td>\n",
              "    </tr>\n",
              "    <tr>\n",
              "      <th>1</th>\n",
              "      <td>2014</td>\n",
              "      <td>370000</td>\n",
              "      <td>120000</td>\n",
              "      <td>0.287384</td>\n",
              "      <td>1498.0</td>\n",
              "      <td>103.52</td>\n",
              "      <td>250.00000</td>\n",
              "      <td>5.0</td>\n",
              "      <td>0</td>\n",
              "      <td>0</td>\n",
              "      <td>...</td>\n",
              "      <td>1</td>\n",
              "      <td>0</td>\n",
              "      <td>0</td>\n",
              "      <td>1</td>\n",
              "      <td>0</td>\n",
              "      <td>1</td>\n",
              "      <td>0</td>\n",
              "      <td>1</td>\n",
              "      <td>0</td>\n",
              "      <td>0</td>\n",
              "    </tr>\n",
              "    <tr>\n",
              "      <th>2</th>\n",
              "      <td>2006</td>\n",
              "      <td>158000</td>\n",
              "      <td>140000</td>\n",
              "      <td>0.220067</td>\n",
              "      <td>1497.0</td>\n",
              "      <td>78.00</td>\n",
              "      <td>124.54382</td>\n",
              "      <td>5.0</td>\n",
              "      <td>0</td>\n",
              "      <td>0</td>\n",
              "      <td>...</td>\n",
              "      <td>0</td>\n",
              "      <td>0</td>\n",
              "      <td>1</td>\n",
              "      <td>1</td>\n",
              "      <td>0</td>\n",
              "      <td>1</td>\n",
              "      <td>0</td>\n",
              "      <td>0</td>\n",
              "      <td>0</td>\n",
              "      <td>1</td>\n",
              "    </tr>\n",
              "    <tr>\n",
              "      <th>3</th>\n",
              "      <td>2010</td>\n",
              "      <td>225000</td>\n",
              "      <td>127000</td>\n",
              "      <td>0.312670</td>\n",
              "      <td>1396.0</td>\n",
              "      <td>90.00</td>\n",
              "      <td>219.66784</td>\n",
              "      <td>5.0</td>\n",
              "      <td>0</td>\n",
              "      <td>0</td>\n",
              "      <td>...</td>\n",
              "      <td>1</td>\n",
              "      <td>0</td>\n",
              "      <td>0</td>\n",
              "      <td>1</td>\n",
              "      <td>0</td>\n",
              "      <td>1</td>\n",
              "      <td>0</td>\n",
              "      <td>0</td>\n",
              "      <td>0</td>\n",
              "      <td>0</td>\n",
              "    </tr>\n",
              "    <tr>\n",
              "      <th>4</th>\n",
              "      <td>2007</td>\n",
              "      <td>130000</td>\n",
              "      <td>120000</td>\n",
              "      <td>0.200174</td>\n",
              "      <td>1298.0</td>\n",
              "      <td>88.20</td>\n",
              "      <td>112.77590</td>\n",
              "      <td>5.0</td>\n",
              "      <td>0</td>\n",
              "      <td>0</td>\n",
              "      <td>...</td>\n",
              "      <td>0</td>\n",
              "      <td>0</td>\n",
              "      <td>1</td>\n",
              "      <td>1</td>\n",
              "      <td>0</td>\n",
              "      <td>1</td>\n",
              "      <td>0</td>\n",
              "      <td>0</td>\n",
              "      <td>0</td>\n",
              "      <td>0</td>\n",
              "    </tr>\n",
              "    <tr>\n",
              "      <th>...</th>\n",
              "      <td>...</td>\n",
              "      <td>...</td>\n",
              "      <td>...</td>\n",
              "      <td>...</td>\n",
              "      <td>...</td>\n",
              "      <td>...</td>\n",
              "      <td>...</td>\n",
              "      <td>...</td>\n",
              "      <td>...</td>\n",
              "      <td>...</td>\n",
              "      <td>...</td>\n",
              "      <td>...</td>\n",
              "      <td>...</td>\n",
              "      <td>...</td>\n",
              "      <td>...</td>\n",
              "      <td>...</td>\n",
              "      <td>...</td>\n",
              "      <td>...</td>\n",
              "      <td>...</td>\n",
              "      <td>...</td>\n",
              "      <td>...</td>\n",
              "    </tr>\n",
              "    <tr>\n",
              "      <th>7901</th>\n",
              "      <td>2013</td>\n",
              "      <td>320000</td>\n",
              "      <td>110000</td>\n",
              "      <td>0.230014</td>\n",
              "      <td>1197.0</td>\n",
              "      <td>82.85</td>\n",
              "      <td>113.70000</td>\n",
              "      <td>5.0</td>\n",
              "      <td>0</td>\n",
              "      <td>0</td>\n",
              "      <td>...</td>\n",
              "      <td>0</td>\n",
              "      <td>0</td>\n",
              "      <td>1</td>\n",
              "      <td>1</td>\n",
              "      <td>0</td>\n",
              "      <td>1</td>\n",
              "      <td>0</td>\n",
              "      <td>0</td>\n",
              "      <td>0</td>\n",
              "      <td>0</td>\n",
              "    </tr>\n",
              "    <tr>\n",
              "      <th>7902</th>\n",
              "      <td>2007</td>\n",
              "      <td>135000</td>\n",
              "      <td>119000</td>\n",
              "      <td>0.228385</td>\n",
              "      <td>1493.0</td>\n",
              "      <td>110.00</td>\n",
              "      <td>235.35840</td>\n",
              "      <td>5.0</td>\n",
              "      <td>0</td>\n",
              "      <td>0</td>\n",
              "      <td>...</td>\n",
              "      <td>1</td>\n",
              "      <td>0</td>\n",
              "      <td>0</td>\n",
              "      <td>1</td>\n",
              "      <td>0</td>\n",
              "      <td>1</td>\n",
              "      <td>1</td>\n",
              "      <td>0</td>\n",
              "      <td>0</td>\n",
              "      <td>0</td>\n",
              "    </tr>\n",
              "    <tr>\n",
              "      <th>7903</th>\n",
              "      <td>2009</td>\n",
              "      <td>382000</td>\n",
              "      <td>120000</td>\n",
              "      <td>0.262371</td>\n",
              "      <td>1248.0</td>\n",
              "      <td>73.90</td>\n",
              "      <td>190.00000</td>\n",
              "      <td>5.0</td>\n",
              "      <td>0</td>\n",
              "      <td>0</td>\n",
              "      <td>...</td>\n",
              "      <td>1</td>\n",
              "      <td>0</td>\n",
              "      <td>0</td>\n",
              "      <td>1</td>\n",
              "      <td>0</td>\n",
              "      <td>1</td>\n",
              "      <td>0</td>\n",
              "      <td>0</td>\n",
              "      <td>0</td>\n",
              "      <td>0</td>\n",
              "    </tr>\n",
              "    <tr>\n",
              "      <th>7904</th>\n",
              "      <td>2013</td>\n",
              "      <td>290000</td>\n",
              "      <td>25000</td>\n",
              "      <td>0.320419</td>\n",
              "      <td>1396.0</td>\n",
              "      <td>70.00</td>\n",
              "      <td>140.00000</td>\n",
              "      <td>5.0</td>\n",
              "      <td>0</td>\n",
              "      <td>0</td>\n",
              "      <td>...</td>\n",
              "      <td>1</td>\n",
              "      <td>0</td>\n",
              "      <td>0</td>\n",
              "      <td>1</td>\n",
              "      <td>0</td>\n",
              "      <td>1</td>\n",
              "      <td>0</td>\n",
              "      <td>0</td>\n",
              "      <td>0</td>\n",
              "      <td>0</td>\n",
              "    </tr>\n",
              "    <tr>\n",
              "      <th>7905</th>\n",
              "      <td>2013</td>\n",
              "      <td>290000</td>\n",
              "      <td>25000</td>\n",
              "      <td>0.320419</td>\n",
              "      <td>1396.0</td>\n",
              "      <td>70.00</td>\n",
              "      <td>140.00000</td>\n",
              "      <td>5.0</td>\n",
              "      <td>0</td>\n",
              "      <td>0</td>\n",
              "      <td>...</td>\n",
              "      <td>1</td>\n",
              "      <td>0</td>\n",
              "      <td>0</td>\n",
              "      <td>1</td>\n",
              "      <td>0</td>\n",
              "      <td>1</td>\n",
              "      <td>0</td>\n",
              "      <td>0</td>\n",
              "      <td>0</td>\n",
              "      <td>0</td>\n",
              "    </tr>\n",
              "  </tbody>\n",
              "</table>\n",
              "<p>7906 rows × 48 columns</p>\n",
              "</div>\n",
              "      <button class=\"colab-df-convert\" onclick=\"convertToInteractive('df-80699b4a-5664-4a21-93c9-362b46fdb620')\"\n",
              "              title=\"Convert this dataframe to an interactive table.\"\n",
              "              style=\"display:none;\">\n",
              "        \n",
              "  <svg xmlns=\"http://www.w3.org/2000/svg\" height=\"24px\"viewBox=\"0 0 24 24\"\n",
              "       width=\"24px\">\n",
              "    <path d=\"M0 0h24v24H0V0z\" fill=\"none\"/>\n",
              "    <path d=\"M18.56 5.44l.94 2.06.94-2.06 2.06-.94-2.06-.94-.94-2.06-.94 2.06-2.06.94zm-11 1L8.5 8.5l.94-2.06 2.06-.94-2.06-.94L8.5 2.5l-.94 2.06-2.06.94zm10 10l.94 2.06.94-2.06 2.06-.94-2.06-.94-.94-2.06-.94 2.06-2.06.94z\"/><path d=\"M17.41 7.96l-1.37-1.37c-.4-.4-.92-.59-1.43-.59-.52 0-1.04.2-1.43.59L10.3 9.45l-7.72 7.72c-.78.78-.78 2.05 0 2.83L4 21.41c.39.39.9.59 1.41.59.51 0 1.02-.2 1.41-.59l7.78-7.78 2.81-2.81c.8-.78.8-2.07 0-2.86zM5.41 20L4 18.59l7.72-7.72 1.47 1.35L5.41 20z\"/>\n",
              "  </svg>\n",
              "      </button>\n",
              "      \n",
              "  <style>\n",
              "    .colab-df-container {\n",
              "      display:flex;\n",
              "      flex-wrap:wrap;\n",
              "      gap: 12px;\n",
              "    }\n",
              "\n",
              "    .colab-df-convert {\n",
              "      background-color: #E8F0FE;\n",
              "      border: none;\n",
              "      border-radius: 50%;\n",
              "      cursor: pointer;\n",
              "      display: none;\n",
              "      fill: #1967D2;\n",
              "      height: 32px;\n",
              "      padding: 0 0 0 0;\n",
              "      width: 32px;\n",
              "    }\n",
              "\n",
              "    .colab-df-convert:hover {\n",
              "      background-color: #E2EBFA;\n",
              "      box-shadow: 0px 1px 2px rgba(60, 64, 67, 0.3), 0px 1px 3px 1px rgba(60, 64, 67, 0.15);\n",
              "      fill: #174EA6;\n",
              "    }\n",
              "\n",
              "    [theme=dark] .colab-df-convert {\n",
              "      background-color: #3B4455;\n",
              "      fill: #D2E3FC;\n",
              "    }\n",
              "\n",
              "    [theme=dark] .colab-df-convert:hover {\n",
              "      background-color: #434B5C;\n",
              "      box-shadow: 0px 1px 3px 1px rgba(0, 0, 0, 0.15);\n",
              "      filter: drop-shadow(0px 1px 2px rgba(0, 0, 0, 0.3));\n",
              "      fill: #FFFFFF;\n",
              "    }\n",
              "  </style>\n",
              "\n",
              "      <script>\n",
              "        const buttonEl =\n",
              "          document.querySelector('#df-80699b4a-5664-4a21-93c9-362b46fdb620 button.colab-df-convert');\n",
              "        buttonEl.style.display =\n",
              "          google.colab.kernel.accessAllowed ? 'block' : 'none';\n",
              "\n",
              "        async function convertToInteractive(key) {\n",
              "          const element = document.querySelector('#df-80699b4a-5664-4a21-93c9-362b46fdb620');\n",
              "          const dataTable =\n",
              "            await google.colab.kernel.invokeFunction('convertToInteractive',\n",
              "                                                     [key], {});\n",
              "          if (!dataTable) return;\n",
              "\n",
              "          const docLinkHtml = 'Like what you see? Visit the ' +\n",
              "            '<a target=\"_blank\" href=https://colab.research.google.com/notebooks/data_table.ipynb>data table notebook</a>'\n",
              "            + ' to learn more about interactive tables.';\n",
              "          element.innerHTML = '';\n",
              "          dataTable['output_type'] = 'display_data';\n",
              "          await google.colab.output.renderOutput(dataTable, element);\n",
              "          const docLink = document.createElement('div');\n",
              "          docLink.innerHTML = docLinkHtml;\n",
              "          element.appendChild(docLink);\n",
              "        }\n",
              "      </script>\n",
              "    </div>\n",
              "  </div>\n",
              "  "
            ]
          },
          "metadata": {},
          "execution_count": 63
        }
      ]
    },
    {
      "cell_type": "code",
      "source": [
        "kf = KFold(n_splits=5) # 5개의 데이터로 분할"
      ],
      "metadata": {
        "id": "Iz1Qz5EfFmpI"
      },
      "execution_count": 64,
      "outputs": []
    },
    {
      "cell_type": "code",
      "source": [
        "X = data.drop('selling_price', axis=1)\n",
        "y = data['selling_price']"
      ],
      "metadata": {
        "id": "068qRRO5Ft67"
      },
      "execution_count": 65,
      "outputs": []
    },
    {
      "cell_type": "code",
      "source": [
        "# len(list(kf.split(X))) # 5 → 5번의 이터레이션을 의미(데이터도 5등분 됨)\n",
        "# len(list(kf.split(X))[0]) # 2 → 첫번째 이터레이션에는 [[훈련셋][시험셋]]으로 나뉨\n",
        "# len(list(kf.split(X))[0][0]) # 6324 → [훈련셋]\n",
        "len(list(kf.split(X))[0][1]) # 1582 → [시험셋]"
      ],
      "metadata": {
        "id": "TUk7LR5HGOvA",
        "outputId": "01b6cb01-f33a-4da9-bfa1-43485a600449",
        "colab": {
          "base_uri": "https://localhost:8080/"
        }
      },
      "execution_count": 66,
      "outputs": [
        {
          "output_type": "execute_result",
          "data": {
            "text/plain": [
              "1582"
            ]
          },
          "metadata": {},
          "execution_count": 66
        }
      ]
    },
    {
      "cell_type": "code",
      "source": [
        "# KFold 클래스의 함수인 split()으로 데이터 분할 → [train][train][train][train][test]\n",
        "for i, j in kf.split(X): # 5번의 이터레이션을 돌면서 각 이터레이션 별 훈련셋, 시험셋 반환\n",
        "    print(i, j)"
      ],
      "metadata": {
        "id": "fVUxZ9cSFzlx",
        "outputId": "7955869b-dda0-4aee-b89e-6f5d052b18df",
        "colab": {
          "base_uri": "https://localhost:8080/"
        }
      },
      "execution_count": 67,
      "outputs": [
        {
          "output_type": "stream",
          "name": "stdout",
          "text": [
            "[1582 1583 1584 ... 7903 7904 7905] [   0    1    2 ... 1579 1580 1581]\n",
            "[   0    1    2 ... 7903 7904 7905] [1582 1583 1584 ... 3160 3161 3162]\n",
            "[   0    1    2 ... 7903 7904 7905] [3163 3164 3165 ... 4741 4742 4743]\n",
            "[   0    1    2 ... 7903 7904 7905] [4744 4745 4746 ... 6322 6323 6324]\n",
            "[   0    1    2 ... 6322 6323 6324] [6325 6326 6327 ... 7903 7904 7905]\n"
          ]
        }
      ]
    },
    {
      "cell_type": "markdown",
      "source": [
        " - KFold를 통해 나오는 값들은 데이터들의 인덱스\n",
        "\n",
        "  > X는 DataFrame 형식이므로 X[리스트] 하면 행이 아닌 열을 \"우선\" 기준으로 인덱싱 하게 됨, 행을 인덱싱 하려면, X[정수:정수] 방식으로 슬라이싱을 사용해야함, 슬라이싱을 사용하면, X[슬라이싱(행), 열], X[행, 슬라이싱(열)]\n",
        "\n",
        "  > X.loc[리스트] : 행을 \"우선\" 기준으로 인덱싱\n",
        "\n",
        "  > Y는 Series 형식이므로 Y[리스트]"
      ],
      "metadata": {
        "id": "6-rwXgO0I-fU"
      }
    },
    {
      "cell_type": "code",
      "source": [
        "for train_index, test_index in kf.split(X):\n",
        "    X_train, X_test = X.loc[train_index], X.loc[test_index]\n",
        "    y_train, y_test = y[train_index], y[test_index]"
      ],
      "metadata": {
        "id": "fE-K0jOlI8BY"
      },
      "execution_count": 68,
      "outputs": []
    },
    {
      "cell_type": "markdown",
      "source": [
        " - 위와 같이 코드를 작성하면, 반복문이 순회할 때 마다 X_train, X_test, y_train, y_test값이 덧씌워짐"
      ],
      "metadata": {
        "id": "E-NnZ24mRtdZ"
      }
    },
    {
      "cell_type": "code",
      "source": [
        "# 5번의 이터레이션으로 만들어지는 train_rmse와 test_rmse 값들을 리스트형태로 저장\n",
        "train_rmse_total = [] \n",
        "test_rmse_total =[]"
      ],
      "metadata": {
        "id": "CZjEYy_zP-ZH"
      },
      "execution_count": 69,
      "outputs": []
    },
    {
      "cell_type": "code",
      "source": [
        "from tqdm import tqdm\n",
        "\n",
        "for train_index, test_index in tqdm(kf.split(X), desc=\"이터레이션\", mininterval=0.01):\n",
        "    X_train, X_test = X.loc[train_index], X.loc[test_index]\n",
        "    y_train, y_test = y[train_index], y[test_index]\n",
        "\n",
        "    # 각 이터레이션 마다 모델생성 → 훈련 → 예측 → rmse계산 → rmse리스트에 저장\n",
        "    model = RandomForestRegressor(random_state=100)\n",
        "    model.fit(X_train, y_train)\n",
        "    train_pred = model.predict(X_train) # 훈련데이터로 예측\n",
        "    test_pred = model.predict(X_test)   # 시험데이터로 예측\n",
        "\n",
        "    train_rmse = mean_squared_error(y_train, train_pred) ** 0.5 # 훈련데이터 예측값 rmse 계산\n",
        "    test_rmse = mean_squared_error(y_test, test_pred) ** 0.5   # 시험데이터 예측값 rmse 계산\n",
        "\n",
        "    train_rmse_total.append(train_rmse) # 리스트에 훈련데이터 예측값 rmse 추가\n",
        "    test_rmse_total.append(test_rmse)   # 리스트에 시험데이터 예측값 rmse 추가"
      ],
      "metadata": {
        "id": "8FlUfX1LSSp1",
        "outputId": "048de6c6-a344-4fe3-9713-ed97080f7762",
        "colab": {
          "base_uri": "https://localhost:8080/"
        }
      },
      "execution_count": 70,
      "outputs": [
        {
          "output_type": "stream",
          "name": "stderr",
          "text": [
            "이터레이션: 5it [00:26,  5.21s/it]\n"
          ]
        }
      ]
    },
    {
      "cell_type": "code",
      "source": [
        "train_rmse_total"
      ],
      "metadata": {
        "id": "AlNJt-vJZBEr",
        "outputId": "51b490c7-2c25-4b7c-e86f-cdd1ed319fa9",
        "colab": {
          "base_uri": "https://localhost:8080/"
        }
      },
      "execution_count": 71,
      "outputs": [
        {
          "output_type": "execute_result",
          "data": {
            "text/plain": [
              "[50825.5556350298,\n",
              " 58854.04054344074,\n",
              " 57904.19615940739,\n",
              " 56218.23740006373,\n",
              " 58967.150857632456]"
            ]
          },
          "metadata": {},
          "execution_count": 71
        }
      ]
    },
    {
      "cell_type": "markdown",
      "source": [
        " - 각 이터레이션 별 오차들 이므로 평균을 구해준다\n",
        " - 리스트에서는 mean() 함수가 없음"
      ],
      "metadata": {
        "id": "J-O67Sazamp0"
      }
    },
    {
      "cell_type": "code",
      "source": [
        "print('train_rmse :', sum(train_rmse_total)/len(train_rmse_total))"
      ],
      "metadata": {
        "id": "57jMxhFXaaw1",
        "outputId": "31445d88-c358-4629-b99d-74646878ce05",
        "colab": {
          "base_uri": "https://localhost:8080/"
        }
      },
      "execution_count": 72,
      "outputs": [
        {
          "output_type": "stream",
          "name": "stdout",
          "text": [
            "train_rmse : 56553.836119114814\n"
          ]
        }
      ]
    },
    {
      "cell_type": "code",
      "source": [
        "print('test_rmse :', sum(test_rmse_total)/len(test_rmse_total))"
      ],
      "metadata": {
        "id": "7xitUSI3a9az",
        "outputId": "9d568d57-82a4-4ece-cd9a-2be294bfffda",
        "colab": {
          "base_uri": "https://localhost:8080/"
        }
      },
      "execution_count": 73,
      "outputs": [
        {
          "output_type": "stream",
          "name": "stdout",
          "text": [
            "test_rmse : 142936.58918244042\n"
          ]
        }
      ]
    },
    {
      "cell_type": "markdown",
      "source": [
        "#### 이해하기 : 랜덤 포레스트\n",
        " - 결정 트리는 오버피팅 문제가 쉽게 발생\n",
        " - 랜덤 포레스트는 여러 트리를 활용하여 최종 모델 만듬"
      ],
      "metadata": {
        "id": "MgzFIxGt4b9H"
      }
    },
    {
      "cell_type": "code",
      "source": [
        "# 랜덤포레스트의 각 피처 중요도 시각화 : feature_importances_\n",
        "ftr_importances_values = model.feature_importances_ # feature별 중요도(0~1)(array형식 )\n",
        "ftr_importances = pd.Series(ftr_importances_values, index = X_train.columns) # Series형식, 인덱스와 크기 매칭\n",
        "ftr_top5 = ftr_importances.sort_values(ascending=False)[:5] # 내림차순 정렬\n",
        "\n",
        "plt.figure(figsize=(8,6))\n",
        "plt.title('Top 5 Feature Importances')\n",
        "sns.barplot(x=ftr_top5, y=ftr_top5.index)\n",
        "plt.show()"
      ],
      "metadata": {
        "id": "-ZeU5mN-bXzD",
        "outputId": "64ecf19d-add3-4477-e673-3e7a71f92b52",
        "colab": {
          "base_uri": "https://localhost:8080/",
          "height": 390
        }
      },
      "execution_count": 75,
      "outputs": [
        {
          "output_type": "display_data",
          "data": {
            "text/plain": [
              "<Figure size 576x432 with 1 Axes>"
            ],
            "image/png": "[encoded data removed]"
          },
          "metadata": {
            "needs_background": "light"
          }
        }
      ]
    }
  ],
  "metadata": {
    "colab": {
      "collapsed_sections": [],
      "name": "Colaboratory에 오신 것을 환영합니다",
      "provenance": [],
      "include_colab_link": true
    },
    "kernelspec": {
      "display_name": "Python 3",
      "name": "python3"
    }
  },
  "nbformat": 4,
  "nbformat_minor": 0
}