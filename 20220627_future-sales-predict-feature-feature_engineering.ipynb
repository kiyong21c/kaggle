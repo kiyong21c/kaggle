{
  "cells": [
    {
      "cell_type": "markdown",
      "metadata": {
        "id": "view-in-github",
        "colab_type": "text"
      },
      "source": [
        "<a href=\"https://colab.research.google.com/github/kiyong21c/kaggle/blob/main/20220627_future-sales-predict-feature-feature_engineering.ipynb\" target=\"_parent\"><img src=\"https://colab.research.google.com/assets/colab-badge.svg\" alt=\"Open In Colab\"/></a>"
      ]
    },
    {
      "cell_type": "code",
      "source": [
        "from google.colab import drive\n",
        "drive.mount('/content/drive')"
      ],
      "metadata": {
        "id": "g8C4TYr9sKTr",
        "outputId": "9bae1ebe-6b08-4a77-d79f-1433f940f5c5",
        "colab": {
          "base_uri": "https://localhost:8080/"
        }
      },
      "execution_count": 134,
      "outputs": [
        {
          "output_type": "stream",
          "name": "stdout",
          "text": [
            "Drive already mounted at /content/drive; to attempt to forcibly remount, call drive.mount(\"/content/drive\", force_remount=True).\n"
          ]
        }
      ]
    },
    {
      "cell_type": "markdown",
      "source": [
        "# 향후 판매량 예측\n",
        " - 과거 판매 데이터를 기반으로 향후 판매량 예측\n",
        " - 문제유형 : 회귀\n",
        " - 평가지표 : RMSE\n",
        " - 사용모델 : LightGBM\n",
        " - 훈련/테스트/샘플제출 데이터 이외 3가지 추가데이터\n",
        "\n",
        "  > shops : 상점에 관한 추가 정보\n",
        "\n",
        "  > items : 상품에 관한 추가 정보\n",
        "\n",
        "  > items_categories : 상품분류에 관한 추가 정보\n",
        "\n",
        " - 주의 사항 : 각 상점의 상품별 월간 판매량(타깃값)은 0개에서 20개 사이여야 한다"
      ],
      "metadata": {
        "id": "mXn6wsujp20_"
      }
    },
    {
      "cell_type": "markdown",
      "source": [
        "## 베이스라인 모델\n",
        " - 베이스라인 모델 : LightGBM\n",
        " - 평가지표 계산 함수 : RMSE(사이킷런 제공)"
      ],
      "metadata": {
        "id": "wMVgi_gq8zvw"
      }
    },
    {
      "cell_type": "code",
      "source": [
        "import pandas as pd\n",
        "\n",
        "data_path = '/content/drive/MyDrive/Colab Notebooks/kaggle/input/predict_future_sales/'\n",
        "\n",
        "sales_train = pd.read_csv(data_path + 'sales_train.csv')\n",
        "shops = pd.read_csv(data_path + 'shops.csv')\n",
        "items = pd.read_csv(data_path + 'items.csv')\n",
        "item_categories = pd.read_csv(data_path + 'item_categories.csv')\n",
        "test = pd.read_csv(data_path + 'test.csv')\n",
        "submission = pd.read_csv(data_path + 'sample_submission.csv')"
      ],
      "metadata": {
        "id": "B3p0Yhe57OJM"
      },
      "execution_count": 135,
      "outputs": []
    },
    {
      "cell_type": "code",
      "source": [
        "# LightGBM으로 범주형 데이터 모델링하면 불필요한 경고문구가 뜸\n",
        "import warnings\n",
        "warnings.filterwarnings(action='ignore') # 경고 문구 생략"
      ],
      "metadata": {
        "id": "mtCtGzir7vk-"
      },
      "execution_count": 136,
      "outputs": []
    },
    {
      "cell_type": "markdown",
      "source": [
        "### 피처 엔지니어링 1 : 피처명 한글화\n"
      ],
      "metadata": {
        "id": "VKE0ZlPxEiIM"
      }
    },
    {
      "cell_type": "code",
      "source": [
        "sales_train = sales_train.rename(columns={'date':'날짜',\n",
        "                                          'date_block_num':'월ID',\n",
        "                                          'shop_id':'상점ID',\n",
        "                                          'item_id':'상품ID',\n",
        "                                          'item_price':'판매가',\n",
        "                                          'item_cnt_day':'판매량'}) # rename()함수는 원본데이터 변화X\n",
        "sales_train.head()"
      ],
      "metadata": {
        "id": "Qm6ayMtBEhMS",
        "outputId": "09335804-0df0-4b7f-fe30-8f9c65a2c3dd",
        "colab": {
          "base_uri": "https://localhost:8080/",
          "height": 206
        }
      },
      "execution_count": 137,
      "outputs": [
        {
          "output_type": "execute_result",
          "data": {
            "text/plain": [
              "           날짜  월ID  상점ID   상품ID      판매가  판매량\n",
              "0  02.01.2013    0    59  22154   999.00  1.0\n",
              "1  03.01.2013    0    25   2552   899.00  1.0\n",
              "2  05.01.2013    0    25   2552   899.00 -1.0\n",
              "3  06.01.2013    0    25   2554  1709.05  1.0\n",
              "4  15.01.2013    0    25   2555  1099.00  1.0"
            ],
            "text/html": [
              "\n",
              "  <div id=\"df-fc342790-6483-4911-aa73-e8eb15943114\">\n",
              "    <div class=\"colab-df-container\">\n",
              "      <div>\n",
              "<style scoped>\n",
              "    .dataframe tbody tr th:only-of-type {\n",
              "        vertical-align: middle;\n",
              "    }\n",
              "\n",
              "    .dataframe tbody tr th {\n",
              "        vertical-align: top;\n",
              "    }\n",
              "\n",
              "    .dataframe thead th {\n",
              "        text-align: right;\n",
              "    }\n",
              "</style>\n",
              "<table border=\"1\" class=\"dataframe\">\n",
              "  <thead>\n",
              "    <tr style=\"text-align: right;\">\n",
              "      <th></th>\n",
              "      <th>날짜</th>\n",
              "      <th>월ID</th>\n",
              "      <th>상점ID</th>\n",
              "      <th>상품ID</th>\n",
              "      <th>판매가</th>\n",
              "      <th>판매량</th>\n",
              "    </tr>\n",
              "  </thead>\n",
              "  <tbody>\n",
              "    <tr>\n",
              "      <th>0</th>\n",
              "      <td>02.01.2013</td>\n",
              "      <td>0</td>\n",
              "      <td>59</td>\n",
              "      <td>22154</td>\n",
              "      <td>999.00</td>\n",
              "      <td>1.0</td>\n",
              "    </tr>\n",
              "    <tr>\n",
              "      <th>1</th>\n",
              "      <td>03.01.2013</td>\n",
              "      <td>0</td>\n",
              "      <td>25</td>\n",
              "      <td>2552</td>\n",
              "      <td>899.00</td>\n",
              "      <td>1.0</td>\n",
              "    </tr>\n",
              "    <tr>\n",
              "      <th>2</th>\n",
              "      <td>05.01.2013</td>\n",
              "      <td>0</td>\n",
              "      <td>25</td>\n",
              "      <td>2552</td>\n",
              "      <td>899.00</td>\n",
              "      <td>-1.0</td>\n",
              "    </tr>\n",
              "    <tr>\n",
              "      <th>3</th>\n",
              "      <td>06.01.2013</td>\n",
              "      <td>0</td>\n",
              "      <td>25</td>\n",
              "      <td>2554</td>\n",
              "      <td>1709.05</td>\n",
              "      <td>1.0</td>\n",
              "    </tr>\n",
              "    <tr>\n",
              "      <th>4</th>\n",
              "      <td>15.01.2013</td>\n",
              "      <td>0</td>\n",
              "      <td>25</td>\n",
              "      <td>2555</td>\n",
              "      <td>1099.00</td>\n",
              "      <td>1.0</td>\n",
              "    </tr>\n",
              "  </tbody>\n",
              "</table>\n",
              "</div>\n",
              "      <button class=\"colab-df-convert\" onclick=\"convertToInteractive('df-fc342790-6483-4911-aa73-e8eb15943114')\"\n",
              "              title=\"Convert this dataframe to an interactive table.\"\n",
              "              style=\"display:none;\">\n",
              "        \n",
              "  <svg xmlns=\"http://www.w3.org/2000/svg\" height=\"24px\"viewBox=\"0 0 24 24\"\n",
              "       width=\"24px\">\n",
              "    <path d=\"M0 0h24v24H0V0z\" fill=\"none\"/>\n",
              "    <path d=\"M18.56 5.44l.94 2.06.94-2.06 2.06-.94-2.06-.94-.94-2.06-.94 2.06-2.06.94zm-11 1L8.5 8.5l.94-2.06 2.06-.94-2.06-.94L8.5 2.5l-.94 2.06-2.06.94zm10 10l.94 2.06.94-2.06 2.06-.94-2.06-.94-.94-2.06-.94 2.06-2.06.94z\"/><path d=\"M17.41 7.96l-1.37-1.37c-.4-.4-.92-.59-1.43-.59-.52 0-1.04.2-1.43.59L10.3 9.45l-7.72 7.72c-.78.78-.78 2.05 0 2.83L4 21.41c.39.39.9.59 1.41.59.51 0 1.02-.2 1.41-.59l7.78-7.78 2.81-2.81c.8-.78.8-2.07 0-2.86zM5.41 20L4 18.59l7.72-7.72 1.47 1.35L5.41 20z\"/>\n",
              "  </svg>\n",
              "      </button>\n",
              "      \n",
              "  <style>\n",
              "    .colab-df-container {\n",
              "      display:flex;\n",
              "      flex-wrap:wrap;\n",
              "      gap: 12px;\n",
              "    }\n",
              "\n",
              "    .colab-df-convert {\n",
              "      background-color: #E8F0FE;\n",
              "      border: none;\n",
              "      border-radius: 50%;\n",
              "      cursor: pointer;\n",
              "      display: none;\n",
              "      fill: #1967D2;\n",
              "      height: 32px;\n",
              "      padding: 0 0 0 0;\n",
              "      width: 32px;\n",
              "    }\n",
              "\n",
              "    .colab-df-convert:hover {\n",
              "      background-color: #E2EBFA;\n",
              "      box-shadow: 0px 1px 2px rgba(60, 64, 67, 0.3), 0px 1px 3px 1px rgba(60, 64, 67, 0.15);\n",
              "      fill: #174EA6;\n",
              "    }\n",
              "\n",
              "    [theme=dark] .colab-df-convert {\n",
              "      background-color: #3B4455;\n",
              "      fill: #D2E3FC;\n",
              "    }\n",
              "\n",
              "    [theme=dark] .colab-df-convert:hover {\n",
              "      background-color: #434B5C;\n",
              "      box-shadow: 0px 1px 3px 1px rgba(0, 0, 0, 0.15);\n",
              "      filter: drop-shadow(0px 1px 2px rgba(0, 0, 0, 0.3));\n",
              "      fill: #FFFFFF;\n",
              "    }\n",
              "  </style>\n",
              "\n",
              "      <script>\n",
              "        const buttonEl =\n",
              "          document.querySelector('#df-fc342790-6483-4911-aa73-e8eb15943114 button.colab-df-convert');\n",
              "        buttonEl.style.display =\n",
              "          google.colab.kernel.accessAllowed ? 'block' : 'none';\n",
              "\n",
              "        async function convertToInteractive(key) {\n",
              "          const element = document.querySelector('#df-fc342790-6483-4911-aa73-e8eb15943114');\n",
              "          const dataTable =\n",
              "            await google.colab.kernel.invokeFunction('convertToInteractive',\n",
              "                                                     [key], {});\n",
              "          if (!dataTable) return;\n",
              "\n",
              "          const docLinkHtml = 'Like what you see? Visit the ' +\n",
              "            '<a target=\"_blank\" href=https://colab.research.google.com/notebooks/data_table.ipynb>data table notebook</a>'\n",
              "            + ' to learn more about interactive tables.';\n",
              "          element.innerHTML = '';\n",
              "          dataTable['output_type'] = 'display_data';\n",
              "          await google.colab.output.renderOutput(dataTable, element);\n",
              "          const docLink = document.createElement('div');\n",
              "          docLink.innerHTML = docLinkHtml;\n",
              "          element.appendChild(docLink);\n",
              "        }\n",
              "      </script>\n",
              "    </div>\n",
              "  </div>\n",
              "  "
            ]
          },
          "metadata": {},
          "execution_count": 137
        }
      ]
    },
    {
      "cell_type": "code",
      "source": [
        "shops = shops.rename(columns={'shop_name':'상점명',\n",
        "                              'shop_id':'상점ID'})\n",
        "shops.head()"
      ],
      "metadata": {
        "id": "vmY4OMIuFUQM",
        "outputId": "4baa346f-61f1-4e9d-ef4e-1b03ece18632",
        "colab": {
          "base_uri": "https://localhost:8080/",
          "height": 206
        }
      },
      "execution_count": 138,
      "outputs": [
        {
          "output_type": "execute_result",
          "data": {
            "text/plain": [
              "                              상점명  상점ID\n",
              "0   !Якутск Орджоникидзе, 56 фран     0\n",
              "1   !Якутск ТЦ \"Центральный\" фран     1\n",
              "2                Адыгея ТЦ \"Мега\"     2\n",
              "3  Балашиха ТРК \"Октябрь-Киномир\"     3\n",
              "4        Волжский ТЦ \"Волга Молл\"     4"
            ],
            "text/html": [
              "\n",
              "  <div id=\"df-c248703c-67da-43c4-91d4-d6c22e9b2742\">\n",
              "    <div class=\"colab-df-container\">\n",
              "      <div>\n",
              "<style scoped>\n",
              "    .dataframe tbody tr th:only-of-type {\n",
              "        vertical-align: middle;\n",
              "    }\n",
              "\n",
              "    .dataframe tbody tr th {\n",
              "        vertical-align: top;\n",
              "    }\n",
              "\n",
              "    .dataframe thead th {\n",
              "        text-align: right;\n",
              "    }\n",
              "</style>\n",
              "<table border=\"1\" class=\"dataframe\">\n",
              "  <thead>\n",
              "    <tr style=\"text-align: right;\">\n",
              "      <th></th>\n",
              "      <th>상점명</th>\n",
              "      <th>상점ID</th>\n",
              "    </tr>\n",
              "  </thead>\n",
              "  <tbody>\n",
              "    <tr>\n",
              "      <th>0</th>\n",
              "      <td>!Якутск Орджоникидзе, 56 фран</td>\n",
              "      <td>0</td>\n",
              "    </tr>\n",
              "    <tr>\n",
              "      <th>1</th>\n",
              "      <td>!Якутск ТЦ \"Центральный\" фран</td>\n",
              "      <td>1</td>\n",
              "    </tr>\n",
              "    <tr>\n",
              "      <th>2</th>\n",
              "      <td>Адыгея ТЦ \"Мега\"</td>\n",
              "      <td>2</td>\n",
              "    </tr>\n",
              "    <tr>\n",
              "      <th>3</th>\n",
              "      <td>Балашиха ТРК \"Октябрь-Киномир\"</td>\n",
              "      <td>3</td>\n",
              "    </tr>\n",
              "    <tr>\n",
              "      <th>4</th>\n",
              "      <td>Волжский ТЦ \"Волга Молл\"</td>\n",
              "      <td>4</td>\n",
              "    </tr>\n",
              "  </tbody>\n",
              "</table>\n",
              "</div>\n",
              "      <button class=\"colab-df-convert\" onclick=\"convertToInteractive('df-c248703c-67da-43c4-91d4-d6c22e9b2742')\"\n",
              "              title=\"Convert this dataframe to an interactive table.\"\n",
              "              style=\"display:none;\">\n",
              "        \n",
              "  <svg xmlns=\"http://www.w3.org/2000/svg\" height=\"24px\"viewBox=\"0 0 24 24\"\n",
              "       width=\"24px\">\n",
              "    <path d=\"M0 0h24v24H0V0z\" fill=\"none\"/>\n",
              "    <path d=\"M18.56 5.44l.94 2.06.94-2.06 2.06-.94-2.06-.94-.94-2.06-.94 2.06-2.06.94zm-11 1L8.5 8.5l.94-2.06 2.06-.94-2.06-.94L8.5 2.5l-.94 2.06-2.06.94zm10 10l.94 2.06.94-2.06 2.06-.94-2.06-.94-.94-2.06-.94 2.06-2.06.94z\"/><path d=\"M17.41 7.96l-1.37-1.37c-.4-.4-.92-.59-1.43-.59-.52 0-1.04.2-1.43.59L10.3 9.45l-7.72 7.72c-.78.78-.78 2.05 0 2.83L4 21.41c.39.39.9.59 1.41.59.51 0 1.02-.2 1.41-.59l7.78-7.78 2.81-2.81c.8-.78.8-2.07 0-2.86zM5.41 20L4 18.59l7.72-7.72 1.47 1.35L5.41 20z\"/>\n",
              "  </svg>\n",
              "      </button>\n",
              "      \n",
              "  <style>\n",
              "    .colab-df-container {\n",
              "      display:flex;\n",
              "      flex-wrap:wrap;\n",
              "      gap: 12px;\n",
              "    }\n",
              "\n",
              "    .colab-df-convert {\n",
              "      background-color: #E8F0FE;\n",
              "      border: none;\n",
              "      border-radius: 50%;\n",
              "      cursor: pointer;\n",
              "      display: none;\n",
              "      fill: #1967D2;\n",
              "      height: 32px;\n",
              "      padding: 0 0 0 0;\n",
              "      width: 32px;\n",
              "    }\n",
              "\n",
              "    .colab-df-convert:hover {\n",
              "      background-color: #E2EBFA;\n",
              "      box-shadow: 0px 1px 2px rgba(60, 64, 67, 0.3), 0px 1px 3px 1px rgba(60, 64, 67, 0.15);\n",
              "      fill: #174EA6;\n",
              "    }\n",
              "\n",
              "    [theme=dark] .colab-df-convert {\n",
              "      background-color: #3B4455;\n",
              "      fill: #D2E3FC;\n",
              "    }\n",
              "\n",
              "    [theme=dark] .colab-df-convert:hover {\n",
              "      background-color: #434B5C;\n",
              "      box-shadow: 0px 1px 3px 1px rgba(0, 0, 0, 0.15);\n",
              "      filter: drop-shadow(0px 1px 2px rgba(0, 0, 0, 0.3));\n",
              "      fill: #FFFFFF;\n",
              "    }\n",
              "  </style>\n",
              "\n",
              "      <script>\n",
              "        const buttonEl =\n",
              "          document.querySelector('#df-c248703c-67da-43c4-91d4-d6c22e9b2742 button.colab-df-convert');\n",
              "        buttonEl.style.display =\n",
              "          google.colab.kernel.accessAllowed ? 'block' : 'none';\n",
              "\n",
              "        async function convertToInteractive(key) {\n",
              "          const element = document.querySelector('#df-c248703c-67da-43c4-91d4-d6c22e9b2742');\n",
              "          const dataTable =\n",
              "            await google.colab.kernel.invokeFunction('convertToInteractive',\n",
              "                                                     [key], {});\n",
              "          if (!dataTable) return;\n",
              "\n",
              "          const docLinkHtml = 'Like what you see? Visit the ' +\n",
              "            '<a target=\"_blank\" href=https://colab.research.google.com/notebooks/data_table.ipynb>data table notebook</a>'\n",
              "            + ' to learn more about interactive tables.';\n",
              "          element.innerHTML = '';\n",
              "          dataTable['output_type'] = 'display_data';\n",
              "          await google.colab.output.renderOutput(dataTable, element);\n",
              "          const docLink = document.createElement('div');\n",
              "          docLink.innerHTML = docLinkHtml;\n",
              "          element.appendChild(docLink);\n",
              "        }\n",
              "      </script>\n",
              "    </div>\n",
              "  </div>\n",
              "  "
            ]
          },
          "metadata": {},
          "execution_count": 138
        }
      ]
    },
    {
      "cell_type": "code",
      "source": [
        "items = items.rename(columns={'item_name':'상품명',\n",
        "                              'item_id':'상품ID',\n",
        "                              'item_category_id':'상품분류ID'})\n",
        "items.head()"
      ],
      "metadata": {
        "id": "s7URtQEpFghK",
        "outputId": "0e60fff0-265d-49a5-ae2a-a53382c2a5fb",
        "colab": {
          "base_uri": "https://localhost:8080/",
          "height": 206
        }
      },
      "execution_count": 139,
      "outputs": [
        {
          "output_type": "execute_result",
          "data": {
            "text/plain": [
              "                                                 상품명  상품ID  상품분류ID\n",
              "0          ! ВО ВЛАСТИ НАВАЖДЕНИЯ (ПЛАСТ.)         D     0      40\n",
              "1  !ABBYY FineReader 12 Professional Edition Full...     1      76\n",
              "2      ***В ЛУЧАХ СЛАВЫ   (UNV)                    D     2      40\n",
              "3    ***ГОЛУБАЯ ВОЛНА  (Univ)                      D     3      40\n",
              "4        ***КОРОБКА (СТЕКЛО)                       D     4      40"
            ],
            "text/html": [
              "\n",
              "  <div id=\"df-d18a8073-207f-45fa-9e1f-cf9d52898313\">\n",
              "    <div class=\"colab-df-container\">\n",
              "      <div>\n",
              "<style scoped>\n",
              "    .dataframe tbody tr th:only-of-type {\n",
              "        vertical-align: middle;\n",
              "    }\n",
              "\n",
              "    .dataframe tbody tr th {\n",
              "        vertical-align: top;\n",
              "    }\n",
              "\n",
              "    .dataframe thead th {\n",
              "        text-align: right;\n",
              "    }\n",
              "</style>\n",
              "<table border=\"1\" class=\"dataframe\">\n",
              "  <thead>\n",
              "    <tr style=\"text-align: right;\">\n",
              "      <th></th>\n",
              "      <th>상품명</th>\n",
              "      <th>상품ID</th>\n",
              "      <th>상품분류ID</th>\n",
              "    </tr>\n",
              "  </thead>\n",
              "  <tbody>\n",
              "    <tr>\n",
              "      <th>0</th>\n",
              "      <td>! ВО ВЛАСТИ НАВАЖДЕНИЯ (ПЛАСТ.)         D</td>\n",
              "      <td>0</td>\n",
              "      <td>40</td>\n",
              "    </tr>\n",
              "    <tr>\n",
              "      <th>1</th>\n",
              "      <td>!ABBYY FineReader 12 Professional Edition Full...</td>\n",
              "      <td>1</td>\n",
              "      <td>76</td>\n",
              "    </tr>\n",
              "    <tr>\n",
              "      <th>2</th>\n",
              "      <td>***В ЛУЧАХ СЛАВЫ   (UNV)                    D</td>\n",
              "      <td>2</td>\n",
              "      <td>40</td>\n",
              "    </tr>\n",
              "    <tr>\n",
              "      <th>3</th>\n",
              "      <td>***ГОЛУБАЯ ВОЛНА  (Univ)                      D</td>\n",
              "      <td>3</td>\n",
              "      <td>40</td>\n",
              "    </tr>\n",
              "    <tr>\n",
              "      <th>4</th>\n",
              "      <td>***КОРОБКА (СТЕКЛО)                       D</td>\n",
              "      <td>4</td>\n",
              "      <td>40</td>\n",
              "    </tr>\n",
              "  </tbody>\n",
              "</table>\n",
              "</div>\n",
              "      <button class=\"colab-df-convert\" onclick=\"convertToInteractive('df-d18a8073-207f-45fa-9e1f-cf9d52898313')\"\n",
              "              title=\"Convert this dataframe to an interactive table.\"\n",
              "              style=\"display:none;\">\n",
              "        \n",
              "  <svg xmlns=\"http://www.w3.org/2000/svg\" height=\"24px\"viewBox=\"0 0 24 24\"\n",
              "       width=\"24px\">\n",
              "    <path d=\"M0 0h24v24H0V0z\" fill=\"none\"/>\n",
              "    <path d=\"M18.56 5.44l.94 2.06.94-2.06 2.06-.94-2.06-.94-.94-2.06-.94 2.06-2.06.94zm-11 1L8.5 8.5l.94-2.06 2.06-.94-2.06-.94L8.5 2.5l-.94 2.06-2.06.94zm10 10l.94 2.06.94-2.06 2.06-.94-2.06-.94-.94-2.06-.94 2.06-2.06.94z\"/><path d=\"M17.41 7.96l-1.37-1.37c-.4-.4-.92-.59-1.43-.59-.52 0-1.04.2-1.43.59L10.3 9.45l-7.72 7.72c-.78.78-.78 2.05 0 2.83L4 21.41c.39.39.9.59 1.41.59.51 0 1.02-.2 1.41-.59l7.78-7.78 2.81-2.81c.8-.78.8-2.07 0-2.86zM5.41 20L4 18.59l7.72-7.72 1.47 1.35L5.41 20z\"/>\n",
              "  </svg>\n",
              "      </button>\n",
              "      \n",
              "  <style>\n",
              "    .colab-df-container {\n",
              "      display:flex;\n",
              "      flex-wrap:wrap;\n",
              "      gap: 12px;\n",
              "    }\n",
              "\n",
              "    .colab-df-convert {\n",
              "      background-color: #E8F0FE;\n",
              "      border: none;\n",
              "      border-radius: 50%;\n",
              "      cursor: pointer;\n",
              "      display: none;\n",
              "      fill: #1967D2;\n",
              "      height: 32px;\n",
              "      padding: 0 0 0 0;\n",
              "      width: 32px;\n",
              "    }\n",
              "\n",
              "    .colab-df-convert:hover {\n",
              "      background-color: #E2EBFA;\n",
              "      box-shadow: 0px 1px 2px rgba(60, 64, 67, 0.3), 0px 1px 3px 1px rgba(60, 64, 67, 0.15);\n",
              "      fill: #174EA6;\n",
              "    }\n",
              "\n",
              "    [theme=dark] .colab-df-convert {\n",
              "      background-color: #3B4455;\n",
              "      fill: #D2E3FC;\n",
              "    }\n",
              "\n",
              "    [theme=dark] .colab-df-convert:hover {\n",
              "      background-color: #434B5C;\n",
              "      box-shadow: 0px 1px 3px 1px rgba(0, 0, 0, 0.15);\n",
              "      filter: drop-shadow(0px 1px 2px rgba(0, 0, 0, 0.3));\n",
              "      fill: #FFFFFF;\n",
              "    }\n",
              "  </style>\n",
              "\n",
              "      <script>\n",
              "        const buttonEl =\n",
              "          document.querySelector('#df-d18a8073-207f-45fa-9e1f-cf9d52898313 button.colab-df-convert');\n",
              "        buttonEl.style.display =\n",
              "          google.colab.kernel.accessAllowed ? 'block' : 'none';\n",
              "\n",
              "        async function convertToInteractive(key) {\n",
              "          const element = document.querySelector('#df-d18a8073-207f-45fa-9e1f-cf9d52898313');\n",
              "          const dataTable =\n",
              "            await google.colab.kernel.invokeFunction('convertToInteractive',\n",
              "                                                     [key], {});\n",
              "          if (!dataTable) return;\n",
              "\n",
              "          const docLinkHtml = 'Like what you see? Visit the ' +\n",
              "            '<a target=\"_blank\" href=https://colab.research.google.com/notebooks/data_table.ipynb>data table notebook</a>'\n",
              "            + ' to learn more about interactive tables.';\n",
              "          element.innerHTML = '';\n",
              "          dataTable['output_type'] = 'display_data';\n",
              "          await google.colab.output.renderOutput(dataTable, element);\n",
              "          const docLink = document.createElement('div');\n",
              "          docLink.innerHTML = docLinkHtml;\n",
              "          element.appendChild(docLink);\n",
              "        }\n",
              "      </script>\n",
              "    </div>\n",
              "  </div>\n",
              "  "
            ]
          },
          "metadata": {},
          "execution_count": 139
        }
      ]
    },
    {
      "cell_type": "code",
      "source": [
        "item_categories = item_categories.rename(columns={'item_category_name':'상품분류명',\n",
        "                                                  'item_category_id':'상품분류ID'})\n",
        "item_categories.head()"
      ],
      "metadata": {
        "id": "OTq4s6xmF2ty",
        "outputId": "47b2f710-606f-415d-cc89-43541ccfb8db",
        "colab": {
          "base_uri": "https://localhost:8080/",
          "height": 206
        }
      },
      "execution_count": 140,
      "outputs": [
        {
          "output_type": "execute_result",
          "data": {
            "text/plain": [
              "                     상품분류명  상품분류ID\n",
              "0  PC - Гарнитуры/Наушники       0\n",
              "1         Аксессуары - PS2       1\n",
              "2         Аксессуары - PS3       2\n",
              "3         Аксессуары - PS4       3\n",
              "4         Аксессуары - PSP       4"
            ],
            "text/html": [
              "\n",
              "  <div id=\"df-55f21ba7-f0d9-4b12-be66-2386d0d69707\">\n",
              "    <div class=\"colab-df-container\">\n",
              "      <div>\n",
              "<style scoped>\n",
              "    .dataframe tbody tr th:only-of-type {\n",
              "        vertical-align: middle;\n",
              "    }\n",
              "\n",
              "    .dataframe tbody tr th {\n",
              "        vertical-align: top;\n",
              "    }\n",
              "\n",
              "    .dataframe thead th {\n",
              "        text-align: right;\n",
              "    }\n",
              "</style>\n",
              "<table border=\"1\" class=\"dataframe\">\n",
              "  <thead>\n",
              "    <tr style=\"text-align: right;\">\n",
              "      <th></th>\n",
              "      <th>상품분류명</th>\n",
              "      <th>상품분류ID</th>\n",
              "    </tr>\n",
              "  </thead>\n",
              "  <tbody>\n",
              "    <tr>\n",
              "      <th>0</th>\n",
              "      <td>PC - Гарнитуры/Наушники</td>\n",
              "      <td>0</td>\n",
              "    </tr>\n",
              "    <tr>\n",
              "      <th>1</th>\n",
              "      <td>Аксессуары - PS2</td>\n",
              "      <td>1</td>\n",
              "    </tr>\n",
              "    <tr>\n",
              "      <th>2</th>\n",
              "      <td>Аксессуары - PS3</td>\n",
              "      <td>2</td>\n",
              "    </tr>\n",
              "    <tr>\n",
              "      <th>3</th>\n",
              "      <td>Аксессуары - PS4</td>\n",
              "      <td>3</td>\n",
              "    </tr>\n",
              "    <tr>\n",
              "      <th>4</th>\n",
              "      <td>Аксессуары - PSP</td>\n",
              "      <td>4</td>\n",
              "    </tr>\n",
              "  </tbody>\n",
              "</table>\n",
              "</div>\n",
              "      <button class=\"colab-df-convert\" onclick=\"convertToInteractive('df-55f21ba7-f0d9-4b12-be66-2386d0d69707')\"\n",
              "              title=\"Convert this dataframe to an interactive table.\"\n",
              "              style=\"display:none;\">\n",
              "        \n",
              "  <svg xmlns=\"http://www.w3.org/2000/svg\" height=\"24px\"viewBox=\"0 0 24 24\"\n",
              "       width=\"24px\">\n",
              "    <path d=\"M0 0h24v24H0V0z\" fill=\"none\"/>\n",
              "    <path d=\"M18.56 5.44l.94 2.06.94-2.06 2.06-.94-2.06-.94-.94-2.06-.94 2.06-2.06.94zm-11 1L8.5 8.5l.94-2.06 2.06-.94-2.06-.94L8.5 2.5l-.94 2.06-2.06.94zm10 10l.94 2.06.94-2.06 2.06-.94-2.06-.94-.94-2.06-.94 2.06-2.06.94z\"/><path d=\"M17.41 7.96l-1.37-1.37c-.4-.4-.92-.59-1.43-.59-.52 0-1.04.2-1.43.59L10.3 9.45l-7.72 7.72c-.78.78-.78 2.05 0 2.83L4 21.41c.39.39.9.59 1.41.59.51 0 1.02-.2 1.41-.59l7.78-7.78 2.81-2.81c.8-.78.8-2.07 0-2.86zM5.41 20L4 18.59l7.72-7.72 1.47 1.35L5.41 20z\"/>\n",
              "  </svg>\n",
              "      </button>\n",
              "      \n",
              "  <style>\n",
              "    .colab-df-container {\n",
              "      display:flex;\n",
              "      flex-wrap:wrap;\n",
              "      gap: 12px;\n",
              "    }\n",
              "\n",
              "    .colab-df-convert {\n",
              "      background-color: #E8F0FE;\n",
              "      border: none;\n",
              "      border-radius: 50%;\n",
              "      cursor: pointer;\n",
              "      display: none;\n",
              "      fill: #1967D2;\n",
              "      height: 32px;\n",
              "      padding: 0 0 0 0;\n",
              "      width: 32px;\n",
              "    }\n",
              "\n",
              "    .colab-df-convert:hover {\n",
              "      background-color: #E2EBFA;\n",
              "      box-shadow: 0px 1px 2px rgba(60, 64, 67, 0.3), 0px 1px 3px 1px rgba(60, 64, 67, 0.15);\n",
              "      fill: #174EA6;\n",
              "    }\n",
              "\n",
              "    [theme=dark] .colab-df-convert {\n",
              "      background-color: #3B4455;\n",
              "      fill: #D2E3FC;\n",
              "    }\n",
              "\n",
              "    [theme=dark] .colab-df-convert:hover {\n",
              "      background-color: #434B5C;\n",
              "      box-shadow: 0px 1px 3px 1px rgba(0, 0, 0, 0.15);\n",
              "      filter: drop-shadow(0px 1px 2px rgba(0, 0, 0, 0.3));\n",
              "      fill: #FFFFFF;\n",
              "    }\n",
              "  </style>\n",
              "\n",
              "      <script>\n",
              "        const buttonEl =\n",
              "          document.querySelector('#df-55f21ba7-f0d9-4b12-be66-2386d0d69707 button.colab-df-convert');\n",
              "        buttonEl.style.display =\n",
              "          google.colab.kernel.accessAllowed ? 'block' : 'none';\n",
              "\n",
              "        async function convertToInteractive(key) {\n",
              "          const element = document.querySelector('#df-55f21ba7-f0d9-4b12-be66-2386d0d69707');\n",
              "          const dataTable =\n",
              "            await google.colab.kernel.invokeFunction('convertToInteractive',\n",
              "                                                     [key], {});\n",
              "          if (!dataTable) return;\n",
              "\n",
              "          const docLinkHtml = 'Like what you see? Visit the ' +\n",
              "            '<a target=\"_blank\" href=https://colab.research.google.com/notebooks/data_table.ipynb>data table notebook</a>'\n",
              "            + ' to learn more about interactive tables.';\n",
              "          element.innerHTML = '';\n",
              "          dataTable['output_type'] = 'display_data';\n",
              "          await google.colab.output.renderOutput(dataTable, element);\n",
              "          const docLink = document.createElement('div');\n",
              "          docLink.innerHTML = docLinkHtml;\n",
              "          element.appendChild(docLink);\n",
              "        }\n",
              "      </script>\n",
              "    </div>\n",
              "  </div>\n",
              "  "
            ]
          },
          "metadata": {},
          "execution_count": 140
        }
      ]
    },
    {
      "cell_type": "code",
      "source": [
        "test = test.rename(columns={'shop_id':'상점ID',\n",
        "                            'item_id':'상품ID'})\n",
        "test.head()"
      ],
      "metadata": {
        "id": "QtIbg-a1GEIh",
        "outputId": "be895f7f-843e-4df2-cdbe-c34eca8e8d33",
        "colab": {
          "base_uri": "https://localhost:8080/",
          "height": 206
        }
      },
      "execution_count": 141,
      "outputs": [
        {
          "output_type": "execute_result",
          "data": {
            "text/plain": [
              "   ID  상점ID  상품ID\n",
              "0   0     5  5037\n",
              "1   1     5  5320\n",
              "2   2     5  5233\n",
              "3   3     5  5232\n",
              "4   4     5  5268"
            ],
            "text/html": [
              "\n",
              "  <div id=\"df-98bac17b-abc1-4a3a-8a22-df3e845f7560\">\n",
              "    <div class=\"colab-df-container\">\n",
              "      <div>\n",
              "<style scoped>\n",
              "    .dataframe tbody tr th:only-of-type {\n",
              "        vertical-align: middle;\n",
              "    }\n",
              "\n",
              "    .dataframe tbody tr th {\n",
              "        vertical-align: top;\n",
              "    }\n",
              "\n",
              "    .dataframe thead th {\n",
              "        text-align: right;\n",
              "    }\n",
              "</style>\n",
              "<table border=\"1\" class=\"dataframe\">\n",
              "  <thead>\n",
              "    <tr style=\"text-align: right;\">\n",
              "      <th></th>\n",
              "      <th>ID</th>\n",
              "      <th>상점ID</th>\n",
              "      <th>상품ID</th>\n",
              "    </tr>\n",
              "  </thead>\n",
              "  <tbody>\n",
              "    <tr>\n",
              "      <th>0</th>\n",
              "      <td>0</td>\n",
              "      <td>5</td>\n",
              "      <td>5037</td>\n",
              "    </tr>\n",
              "    <tr>\n",
              "      <th>1</th>\n",
              "      <td>1</td>\n",
              "      <td>5</td>\n",
              "      <td>5320</td>\n",
              "    </tr>\n",
              "    <tr>\n",
              "      <th>2</th>\n",
              "      <td>2</td>\n",
              "      <td>5</td>\n",
              "      <td>5233</td>\n",
              "    </tr>\n",
              "    <tr>\n",
              "      <th>3</th>\n",
              "      <td>3</td>\n",
              "      <td>5</td>\n",
              "      <td>5232</td>\n",
              "    </tr>\n",
              "    <tr>\n",
              "      <th>4</th>\n",
              "      <td>4</td>\n",
              "      <td>5</td>\n",
              "      <td>5268</td>\n",
              "    </tr>\n",
              "  </tbody>\n",
              "</table>\n",
              "</div>\n",
              "      <button class=\"colab-df-convert\" onclick=\"convertToInteractive('df-98bac17b-abc1-4a3a-8a22-df3e845f7560')\"\n",
              "              title=\"Convert this dataframe to an interactive table.\"\n",
              "              style=\"display:none;\">\n",
              "        \n",
              "  <svg xmlns=\"http://www.w3.org/2000/svg\" height=\"24px\"viewBox=\"0 0 24 24\"\n",
              "       width=\"24px\">\n",
              "    <path d=\"M0 0h24v24H0V0z\" fill=\"none\"/>\n",
              "    <path d=\"M18.56 5.44l.94 2.06.94-2.06 2.06-.94-2.06-.94-.94-2.06-.94 2.06-2.06.94zm-11 1L8.5 8.5l.94-2.06 2.06-.94-2.06-.94L8.5 2.5l-.94 2.06-2.06.94zm10 10l.94 2.06.94-2.06 2.06-.94-2.06-.94-.94-2.06-.94 2.06-2.06.94z\"/><path d=\"M17.41 7.96l-1.37-1.37c-.4-.4-.92-.59-1.43-.59-.52 0-1.04.2-1.43.59L10.3 9.45l-7.72 7.72c-.78.78-.78 2.05 0 2.83L4 21.41c.39.39.9.59 1.41.59.51 0 1.02-.2 1.41-.59l7.78-7.78 2.81-2.81c.8-.78.8-2.07 0-2.86zM5.41 20L4 18.59l7.72-7.72 1.47 1.35L5.41 20z\"/>\n",
              "  </svg>\n",
              "      </button>\n",
              "      \n",
              "  <style>\n",
              "    .colab-df-container {\n",
              "      display:flex;\n",
              "      flex-wrap:wrap;\n",
              "      gap: 12px;\n",
              "    }\n",
              "\n",
              "    .colab-df-convert {\n",
              "      background-color: #E8F0FE;\n",
              "      border: none;\n",
              "      border-radius: 50%;\n",
              "      cursor: pointer;\n",
              "      display: none;\n",
              "      fill: #1967D2;\n",
              "      height: 32px;\n",
              "      padding: 0 0 0 0;\n",
              "      width: 32px;\n",
              "    }\n",
              "\n",
              "    .colab-df-convert:hover {\n",
              "      background-color: #E2EBFA;\n",
              "      box-shadow: 0px 1px 2px rgba(60, 64, 67, 0.3), 0px 1px 3px 1px rgba(60, 64, 67, 0.15);\n",
              "      fill: #174EA6;\n",
              "    }\n",
              "\n",
              "    [theme=dark] .colab-df-convert {\n",
              "      background-color: #3B4455;\n",
              "      fill: #D2E3FC;\n",
              "    }\n",
              "\n",
              "    [theme=dark] .colab-df-convert:hover {\n",
              "      background-color: #434B5C;\n",
              "      box-shadow: 0px 1px 3px 1px rgba(0, 0, 0, 0.15);\n",
              "      filter: drop-shadow(0px 1px 2px rgba(0, 0, 0, 0.3));\n",
              "      fill: #FFFFFF;\n",
              "    }\n",
              "  </style>\n",
              "\n",
              "      <script>\n",
              "        const buttonEl =\n",
              "          document.querySelector('#df-98bac17b-abc1-4a3a-8a22-df3e845f7560 button.colab-df-convert');\n",
              "        buttonEl.style.display =\n",
              "          google.colab.kernel.accessAllowed ? 'block' : 'none';\n",
              "\n",
              "        async function convertToInteractive(key) {\n",
              "          const element = document.querySelector('#df-98bac17b-abc1-4a3a-8a22-df3e845f7560');\n",
              "          const dataTable =\n",
              "            await google.colab.kernel.invokeFunction('convertToInteractive',\n",
              "                                                     [key], {});\n",
              "          if (!dataTable) return;\n",
              "\n",
              "          const docLinkHtml = 'Like what you see? Visit the ' +\n",
              "            '<a target=\"_blank\" href=https://colab.research.google.com/notebooks/data_table.ipynb>data table notebook</a>'\n",
              "            + ' to learn more about interactive tables.';\n",
              "          element.innerHTML = '';\n",
              "          dataTable['output_type'] = 'display_data';\n",
              "          await google.colab.output.renderOutput(dataTable, element);\n",
              "          const docLink = document.createElement('div');\n",
              "          docLink.innerHTML = docLinkHtml;\n",
              "          element.appendChild(docLink);\n",
              "        }\n",
              "      </script>\n",
              "    </div>\n",
              "  </div>\n",
              "  "
            ]
          },
          "metadata": {},
          "execution_count": 141
        }
      ]
    },
    {
      "cell_type": "markdown",
      "source": [
        "### 피처 엔지니어링 2 : 데이터 다운캐스팅\n",
        " - 더 작은 데이터 타입으로 변환\n",
        " - 데이터가 작은데 큰데이터 타입 사용시 메모리 낭비\n",
        " - 주어진 데이터 크기에 딱 맞는 타입 사용 권장\n",
        " - 판다스로 데이터 불러오면(기본설정) : 정수형은 int64, 실수형은 float64\n",
        "  \n",
        "  > 각각 정수형, 실수형에서 가장 큰 타입"
      ],
      "metadata": {
        "id": "03HWgrBqGQp1"
      }
    },
    {
      "cell_type": "markdown",
      "source": [
        " - object 타입이면 그대로 둠\n",
        " - 불리언 타입이면 int8로 바꿈\n",
        " - 정수형 타입이거나 실수형 타입 중 1.0 10.0과 같은 경우 가장작은 정수형 타입으로 바꿈\n",
        " - 그외 실수형 타입은 가장작은 실수형 타입으로 바꿈"
      ],
      "metadata": {
        "id": "btCamFpgHccW"
      }
    },
    {
      "cell_type": "code",
      "source": [
        "def downcast(df, verbose=True):\n",
        "    start_mem = df.memory_usage().sum() / 1024**2 # memory_usage() : 피처별 용량(바이트)\n",
        "    for col in df.columns:\n",
        "        dtype_name = df[col].dtype.name\n",
        "        if dtype_name == 'object':\n",
        "            pass\n",
        "        elif dtype_name == 'bool':\n",
        "            df[col] = df[col].astype('int8') # astype() : Series에 적용할 수 있음\n",
        "        elif dtype_name.startswith('int') or (df[col].round() == df[col]).all(): # 피처가 .0으로 만 되어있다면\n",
        "            df[col] = pd.to_numeric(df[col], downcast='integer') # to_numeric() : 숫자형으로 변환, downcast='integer': 가장작은 정수타입으로\n",
        "        else:\n",
        "            df[col] = pd.to_numeric(df[col], downcast='float')\n",
        "    end_mem = df.memory_usage().sum() / 1024**2\n",
        "    if verbose:\n",
        "        print('{:.1f}% 압축됨'.format(100*(start_mem-end_mem) / start_mem))\n",
        "    \n",
        "    return df\n"
      ],
      "metadata": {
        "id": "eJJsYKF_LxlS"
      },
      "execution_count": 142,
      "outputs": []
    },
    {
      "cell_type": "code",
      "source": [
        "all_df = [sales_train, shops, items, item_categories, test]\n",
        "for df in all_df:\n",
        "    df = downcast(df)   # 실행되면서 같은 변수에 할당이 되어도 함수 내부의 코드가 유효함"
      ],
      "metadata": {
        "id": "AO4ZD7MzQj9b",
        "outputId": "8c3255f4-aa9c-499b-f344-dfdd6d05b9fc",
        "colab": {
          "base_uri": "https://localhost:8080/"
        }
      },
      "execution_count": 143,
      "outputs": [
        {
          "output_type": "stream",
          "name": "stdout",
          "text": [
            "62.5% 압축됨\n",
            "38.6% 압축됨\n",
            "54.2% 압축됨\n",
            "39.9% 압축됨\n",
            "70.8% 압축됨\n"
          ]
        }
      ]
    },
    {
      "cell_type": "markdown",
      "source": [
        "### 피처 엔지니어링 3 : 개별 데이터 피처 엔지니어링"
      ],
      "metadata": {
        "id": "NicVlvsgcf-Y"
      }
    },
    {
      "cell_type": "markdown",
      "source": [
        "#### sales_train 이상치 제거 및 전처리\n",
        " - 판매가, 판매량이 음수라면 환불/오류 : 이상치\n",
        " - 판매가가 50,000이상인 데이터 : 이상치\n",
        " - 판매량이 1,000이상인 데이터 : 이상치"
      ],
      "metadata": {
        "id": "0h5rtsMNbunD"
      }
    },
    {
      "cell_type": "code",
      "source": [
        "sales_train = sales_train[sales_train['판매가'] > 0]\n",
        "sales_train = sales_train[sales_train['판매가'] < 50000]\n",
        "\n",
        "sales_train = sales_train[sales_train['판매량'] > 0]\n",
        "sales_train = sales_train[sales_train['판매량'] < 1000]"
      ],
      "metadata": {
        "id": "umnxy5LYbmot"
      },
      "execution_count": 144,
      "outputs": []
    },
    {
      "cell_type": "markdown",
      "source": [
        " - 상점명을 조금 다르게 기입해서 같은 상점이지만 따로 기록돼 있는 상점 네쌍 : 참고한 코드에서 확인"
      ],
      "metadata": {
        "id": "kEH9wDUecYVA"
      }
    },
    {
      "cell_type": "code",
      "source": [
        "print(shops['상점명'][0], '//', shops['상점명'][57])\n",
        "print(shops['상점명'][1], '//', shops['상점명'][58])\n",
        "print(shops['상점명'][10], '//', shops['상점명'][11])\n",
        "print(shops['상점명'][39], '//', shops['상점명'][40])"
      ],
      "metadata": {
        "id": "BIv8I_29bnyE",
        "outputId": "cfe57212-e908-4605-b418-44bcf229bb67",
        "colab": {
          "base_uri": "https://localhost:8080/"
        }
      },
      "execution_count": 145,
      "outputs": [
        {
          "output_type": "stream",
          "name": "stdout",
          "text": [
            "!Якутск Орджоникидзе, 56 фран // Якутск Орджоникидзе, 56\n",
            "!Якутск ТЦ \"Центральный\" фран // Якутск ТЦ \"Центральный\"\n",
            "Жуковский ул. Чкалова 39м? // Жуковский ул. Чкалова 39м²\n",
            "РостовНаДону ТРК \"Мегацентр Горизонт\" // РостовНаДону ТРК \"Мегацентр Горизонт\" Островной\n"
          ]
        }
      ]
    },
    {
      "cell_type": "code",
      "source": [
        "# sales_train 데이터에서 상점ID 수정\n",
        "sales_train.loc[sales_train['상점ID'] == 0, '상점ID'] = 57\n",
        "sales_train.loc[sales_train['상점ID'] == 1, '상점ID'] = 58\n",
        "sales_train.loc[sales_train['상점ID'] == 10, '상점ID'] = 11\n",
        "sales_train.loc[sales_train['상점ID'] == 39, '상점ID'] = 40\n",
        "\n",
        "# test 데이터에서 상점ID 수정\n",
        "test.loc[test['상점ID'] == 0, '상점ID'] = 57\n",
        "test.loc[test['상점ID'] == 1, '상점ID'] = 58\n",
        "test.loc[test['상점ID'] == 10, '상점ID'] = 11\n",
        "test.loc[test['상점ID'] == 39, '상점ID'] = 40"
      ],
      "metadata": {
        "id": "Buq5_Yiicvc8"
      },
      "execution_count": 146,
      "outputs": []
    },
    {
      "cell_type": "markdown",
      "source": [
        "#### shops 파생 피처 생성 인코딩\n",
        " - 상점명의 첫 단어는 도시\n",
        " - 이를 활용해 파생피처 추가"
      ],
      "metadata": {
        "id": "14iJwWyjhmFq"
      }
    },
    {
      "cell_type": "code",
      "source": [
        "shops['도시'] = shops['상점명'].apply(lambda x: x.split()[0])\n",
        "# df.apply(함수) : df를 파라미터로 받는 함수 적용\n",
        "# 함수자리에 lambda 함수사용하여 간략화\n",
        "# lambda x :  x를 파라미터로 받는 함수"
      ],
      "metadata": {
        "id": "7GJIz4sqiDNE"
      },
      "execution_count": 147,
      "outputs": []
    },
    {
      "cell_type": "code",
      "source": [
        "shops['도시'].unique()"
      ],
      "metadata": {
        "id": "3xJFLb_8iNZz",
        "outputId": "d58fa871-d662-4d36-a917-e24a40b4190d",
        "colab": {
          "base_uri": "https://localhost:8080/"
        }
      },
      "execution_count": 148,
      "outputs": [
        {
          "output_type": "execute_result",
          "data": {
            "text/plain": [
              "array(['!Якутск', 'Адыгея', 'Балашиха', 'Волжский', 'Вологда', 'Воронеж',\n",
              "       'Выездная', 'Жуковский', 'Интернет-магазин', 'Казань', 'Калуга',\n",
              "       'Коломна', 'Красноярск', 'Курск', 'Москва', 'Мытищи', 'Н.Новгород',\n",
              "       'Новосибирск', 'Омск', 'РостовНаДону', 'СПб', 'Самара', 'Сергиев',\n",
              "       'Сургут', 'Томск', 'Тюмень', 'Уфа', 'Химки', 'Цифровой', 'Чехов',\n",
              "       'Якутск', 'Ярославль'], dtype=object)"
            ]
          },
          "metadata": {},
          "execution_count": 148
        }
      ]
    },
    {
      "cell_type": "markdown",
      "source": [
        "##### df.apply(lambda x:) 의미를 풀어보자"
      ],
      "metadata": {
        "id": "B_Uj-mk6jmIc"
      }
    },
    {
      "cell_type": "code",
      "source": [
        "def split_test(x):\n",
        "    return x.split()[0]"
      ],
      "metadata": {
        "id": "j3gELKNGiPSr"
      },
      "execution_count": 149,
      "outputs": []
    },
    {
      "cell_type": "code",
      "source": [
        "shops['상점명'].apply(split_test).unique()"
      ],
      "metadata": {
        "id": "lKeMazjLjC3Z",
        "outputId": "8e96bd54-fad2-496c-c55f-06b4735cb361",
        "colab": {
          "base_uri": "https://localhost:8080/"
        }
      },
      "execution_count": 150,
      "outputs": [
        {
          "output_type": "execute_result",
          "data": {
            "text/plain": [
              "array(['!Якутск', 'Адыгея', 'Балашиха', 'Волжский', 'Вологда', 'Воронеж',\n",
              "       'Выездная', 'Жуковский', 'Интернет-магазин', 'Казань', 'Калуга',\n",
              "       'Коломна', 'Красноярск', 'Курск', 'Москва', 'Мытищи', 'Н.Новгород',\n",
              "       'Новосибирск', 'Омск', 'РостовНаДону', 'СПб', 'Самара', 'Сергиев',\n",
              "       'Сургут', 'Томск', 'Тюмень', 'Уфа', 'Химки', 'Цифровой', 'Чехов',\n",
              "       'Якутск', 'Ярославль'], dtype=object)"
            ]
          },
          "metadata": {},
          "execution_count": 150
        }
      ]
    },
    {
      "cell_type": "markdown",
      "source": [
        " - 도시명 앞의 느낌표(!) 특수문자 오류 : 제거"
      ],
      "metadata": {
        "id": "urUa54-NlJ3G"
      }
    },
    {
      "cell_type": "code",
      "source": [
        "shops.loc[shops['도시'] == '!Якутск',  '도시'] = 'Якутск'\n",
        "# shops.loc[shops['도시'].str.startswith('!'), '도시'] = 'Якутск'"
      ],
      "metadata": {
        "id": "Hx4ZrzVUjYET"
      },
      "execution_count": 151,
      "outputs": []
    },
    {
      "cell_type": "code",
      "source": [
        "shops['도시'].unique()"
      ],
      "metadata": {
        "id": "Fzgcx3NAlcdW",
        "outputId": "f70f8f04-3e9c-4dac-b395-f8d5bd4799cf",
        "colab": {
          "base_uri": "https://localhost:8080/"
        }
      },
      "execution_count": 152,
      "outputs": [
        {
          "output_type": "execute_result",
          "data": {
            "text/plain": [
              "array(['Якутск', 'Адыгея', 'Балашиха', 'Волжский', 'Вологда', 'Воронеж',\n",
              "       'Выездная', 'Жуковский', 'Интернет-магазин', 'Казань', 'Калуга',\n",
              "       'Коломна', 'Красноярск', 'Курск', 'Москва', 'Мытищи', 'Н.Новгород',\n",
              "       'Новосибирск', 'Омск', 'РостовНаДону', 'СПб', 'Самара', 'Сергиев',\n",
              "       'Сургут', 'Томск', 'Тюмень', 'Уфа', 'Химки', 'Цифровой', 'Чехов',\n",
              "       'Ярославль'], dtype=object)"
            ]
          },
          "metadata": {},
          "execution_count": 152
        }
      ]
    },
    {
      "cell_type": "markdown",
      "source": [
        " - 도시명은 범주형 피처\n",
        " - 머신러닝 모델은 문자를 인식하지 못하므로 숫자로 인코딩 : 레이블 인코딩\n",
        "\n",
        "  > 레이블 인코딩 주의사항 : 서로 가까운 숫자를 비슷한 데이터로 판단하여 성능에 지장을 줄 수 있음\n",
        "\n",
        "  > 트리기반 모델 특성상 분기를 반복하여 피처 정보를 반영하므로 레이블 인코딩의 단점이 무마됨"
      ],
      "metadata": {
        "id": "bn0tH4S_mTpc"
      }
    },
    {
      "cell_type": "code",
      "source": [
        "from sklearn.preprocessing import LabelEncoder\n",
        "\n",
        "# 레이블 인코더 생성\n",
        "label_encoder = LabelEncoder()\n",
        "\n",
        "# 도시 피처 레이블 인코딩\n",
        "shops['도시'] = label_encoder.fit_transform(shops['도시'])"
      ],
      "metadata": {
        "id": "ZHHICKvAms7t"
      },
      "execution_count": 153,
      "outputs": []
    },
    {
      "cell_type": "code",
      "source": [
        "# 상점명 피처 제거\n",
        "shops = shops.drop('상점명', axis=1)\n",
        "\n",
        "shops.head()"
      ],
      "metadata": {
        "id": "1TCZtiUhl9I4",
        "outputId": "819232ae-df04-4e56-d542-ec2ca275f59d",
        "colab": {
          "base_uri": "https://localhost:8080/",
          "height": 206
        }
      },
      "execution_count": 154,
      "outputs": [
        {
          "output_type": "execute_result",
          "data": {
            "text/plain": [
              "   상점ID  도시\n",
              "0     0  29\n",
              "1     1  29\n",
              "2     2   0\n",
              "3     3   1\n",
              "4     4   2"
            ],
            "text/html": [
              "\n",
              "  <div id=\"df-0f335f97-8ab3-46b3-b152-0e881799c71b\">\n",
              "    <div class=\"colab-df-container\">\n",
              "      <div>\n",
              "<style scoped>\n",
              "    .dataframe tbody tr th:only-of-type {\n",
              "        vertical-align: middle;\n",
              "    }\n",
              "\n",
              "    .dataframe tbody tr th {\n",
              "        vertical-align: top;\n",
              "    }\n",
              "\n",
              "    .dataframe thead th {\n",
              "        text-align: right;\n",
              "    }\n",
              "</style>\n",
              "<table border=\"1\" class=\"dataframe\">\n",
              "  <thead>\n",
              "    <tr style=\"text-align: right;\">\n",
              "      <th></th>\n",
              "      <th>상점ID</th>\n",
              "      <th>도시</th>\n",
              "    </tr>\n",
              "  </thead>\n",
              "  <tbody>\n",
              "    <tr>\n",
              "      <th>0</th>\n",
              "      <td>0</td>\n",
              "      <td>29</td>\n",
              "    </tr>\n",
              "    <tr>\n",
              "      <th>1</th>\n",
              "      <td>1</td>\n",
              "      <td>29</td>\n",
              "    </tr>\n",
              "    <tr>\n",
              "      <th>2</th>\n",
              "      <td>2</td>\n",
              "      <td>0</td>\n",
              "    </tr>\n",
              "    <tr>\n",
              "      <th>3</th>\n",
              "      <td>3</td>\n",
              "      <td>1</td>\n",
              "    </tr>\n",
              "    <tr>\n",
              "      <th>4</th>\n",
              "      <td>4</td>\n",
              "      <td>2</td>\n",
              "    </tr>\n",
              "  </tbody>\n",
              "</table>\n",
              "</div>\n",
              "      <button class=\"colab-df-convert\" onclick=\"convertToInteractive('df-0f335f97-8ab3-46b3-b152-0e881799c71b')\"\n",
              "              title=\"Convert this dataframe to an interactive table.\"\n",
              "              style=\"display:none;\">\n",
              "        \n",
              "  <svg xmlns=\"http://www.w3.org/2000/svg\" height=\"24px\"viewBox=\"0 0 24 24\"\n",
              "       width=\"24px\">\n",
              "    <path d=\"M0 0h24v24H0V0z\" fill=\"none\"/>\n",
              "    <path d=\"M18.56 5.44l.94 2.06.94-2.06 2.06-.94-2.06-.94-.94-2.06-.94 2.06-2.06.94zm-11 1L8.5 8.5l.94-2.06 2.06-.94-2.06-.94L8.5 2.5l-.94 2.06-2.06.94zm10 10l.94 2.06.94-2.06 2.06-.94-2.06-.94-.94-2.06-.94 2.06-2.06.94z\"/><path d=\"M17.41 7.96l-1.37-1.37c-.4-.4-.92-.59-1.43-.59-.52 0-1.04.2-1.43.59L10.3 9.45l-7.72 7.72c-.78.78-.78 2.05 0 2.83L4 21.41c.39.39.9.59 1.41.59.51 0 1.02-.2 1.41-.59l7.78-7.78 2.81-2.81c.8-.78.8-2.07 0-2.86zM5.41 20L4 18.59l7.72-7.72 1.47 1.35L5.41 20z\"/>\n",
              "  </svg>\n",
              "      </button>\n",
              "      \n",
              "  <style>\n",
              "    .colab-df-container {\n",
              "      display:flex;\n",
              "      flex-wrap:wrap;\n",
              "      gap: 12px;\n",
              "    }\n",
              "\n",
              "    .colab-df-convert {\n",
              "      background-color: #E8F0FE;\n",
              "      border: none;\n",
              "      border-radius: 50%;\n",
              "      cursor: pointer;\n",
              "      display: none;\n",
              "      fill: #1967D2;\n",
              "      height: 32px;\n",
              "      padding: 0 0 0 0;\n",
              "      width: 32px;\n",
              "    }\n",
              "\n",
              "    .colab-df-convert:hover {\n",
              "      background-color: #E2EBFA;\n",
              "      box-shadow: 0px 1px 2px rgba(60, 64, 67, 0.3), 0px 1px 3px 1px rgba(60, 64, 67, 0.15);\n",
              "      fill: #174EA6;\n",
              "    }\n",
              "\n",
              "    [theme=dark] .colab-df-convert {\n",
              "      background-color: #3B4455;\n",
              "      fill: #D2E3FC;\n",
              "    }\n",
              "\n",
              "    [theme=dark] .colab-df-convert:hover {\n",
              "      background-color: #434B5C;\n",
              "      box-shadow: 0px 1px 3px 1px rgba(0, 0, 0, 0.15);\n",
              "      filter: drop-shadow(0px 1px 2px rgba(0, 0, 0, 0.3));\n",
              "      fill: #FFFFFF;\n",
              "    }\n",
              "  </style>\n",
              "\n",
              "      <script>\n",
              "        const buttonEl =\n",
              "          document.querySelector('#df-0f335f97-8ab3-46b3-b152-0e881799c71b button.colab-df-convert');\n",
              "        buttonEl.style.display =\n",
              "          google.colab.kernel.accessAllowed ? 'block' : 'none';\n",
              "\n",
              "        async function convertToInteractive(key) {\n",
              "          const element = document.querySelector('#df-0f335f97-8ab3-46b3-b152-0e881799c71b');\n",
              "          const dataTable =\n",
              "            await google.colab.kernel.invokeFunction('convertToInteractive',\n",
              "                                                     [key], {});\n",
              "          if (!dataTable) return;\n",
              "\n",
              "          const docLinkHtml = 'Like what you see? Visit the ' +\n",
              "            '<a target=\"_blank\" href=https://colab.research.google.com/notebooks/data_table.ipynb>data table notebook</a>'\n",
              "            + ' to learn more about interactive tables.';\n",
              "          element.innerHTML = '';\n",
              "          dataTable['output_type'] = 'display_data';\n",
              "          await google.colab.output.renderOutput(dataTable, element);\n",
              "          const docLink = document.createElement('div');\n",
              "          docLink.innerHTML = docLinkHtml;\n",
              "          element.appendChild(docLink);\n",
              "        }\n",
              "      </script>\n",
              "    </div>\n",
              "  </div>\n",
              "  "
            ]
          },
          "metadata": {},
          "execution_count": 154
        }
      ]
    },
    {
      "cell_type": "markdown",
      "source": [
        "#### items 파생 피처 생성\n",
        " - '첫 판매월'  피처 생성\n",
        " - '상품ID'와 매칭되는 '상품명' 피처 제거"
      ],
      "metadata": {
        "id": "yBS5cgO62wIl"
      }
    },
    {
      "cell_type": "code",
      "source": [
        "# 상품명 피처 제거\n",
        "items = items.drop('상품명', axis=1)"
      ],
      "metadata": {
        "id": "9c6v4ABZ2nXj"
      },
      "execution_count": 155,
      "outputs": []
    },
    {
      "cell_type": "markdown",
      "source": [
        " - 상품이 맨 처음 팔린 월을 새로운 피처로 생성\n",
        " - sales_train 데이터 이용\n",
        "\n",
        "  > 상품ID 기준 그룹화 → 월ID 최솟값"
      ],
      "metadata": {
        "id": "5ehnUfdBWuuK"
      }
    },
    {
      "cell_type": "code",
      "source": [
        "# 상품이 맨 처음 팔린 날을 피처로 추가\n",
        "items['첫 판매월'] = sales_train.groupby('상품ID').agg({'월ID':min})['월ID']\n",
        "\n",
        "items.head()"
      ],
      "metadata": {
        "id": "12O1jagHWqIF",
        "outputId": "ea892c06-99fa-4213-98d3-b0997ee602b1",
        "colab": {
          "base_uri": "https://localhost:8080/",
          "height": 206
        }
      },
      "execution_count": 156,
      "outputs": [
        {
          "output_type": "execute_result",
          "data": {
            "text/plain": [
              "   상품ID  상품분류ID  첫 판매월\n",
              "0     0      40   20.0\n",
              "1     1      76   15.0\n",
              "2     2      40   19.0\n",
              "3     3      40   18.0\n",
              "4     4      40   20.0"
            ],
            "text/html": [
              "\n",
              "  <div id=\"df-9cb5578b-7672-4fc3-b5e2-f2bd7fa392bd\">\n",
              "    <div class=\"colab-df-container\">\n",
              "      <div>\n",
              "<style scoped>\n",
              "    .dataframe tbody tr th:only-of-type {\n",
              "        vertical-align: middle;\n",
              "    }\n",
              "\n",
              "    .dataframe tbody tr th {\n",
              "        vertical-align: top;\n",
              "    }\n",
              "\n",
              "    .dataframe thead th {\n",
              "        text-align: right;\n",
              "    }\n",
              "</style>\n",
              "<table border=\"1\" class=\"dataframe\">\n",
              "  <thead>\n",
              "    <tr style=\"text-align: right;\">\n",
              "      <th></th>\n",
              "      <th>상품ID</th>\n",
              "      <th>상품분류ID</th>\n",
              "      <th>첫 판매월</th>\n",
              "    </tr>\n",
              "  </thead>\n",
              "  <tbody>\n",
              "    <tr>\n",
              "      <th>0</th>\n",
              "      <td>0</td>\n",
              "      <td>40</td>\n",
              "      <td>20.0</td>\n",
              "    </tr>\n",
              "    <tr>\n",
              "      <th>1</th>\n",
              "      <td>1</td>\n",
              "      <td>76</td>\n",
              "      <td>15.0</td>\n",
              "    </tr>\n",
              "    <tr>\n",
              "      <th>2</th>\n",
              "      <td>2</td>\n",
              "      <td>40</td>\n",
              "      <td>19.0</td>\n",
              "    </tr>\n",
              "    <tr>\n",
              "      <th>3</th>\n",
              "      <td>3</td>\n",
              "      <td>40</td>\n",
              "      <td>18.0</td>\n",
              "    </tr>\n",
              "    <tr>\n",
              "      <th>4</th>\n",
              "      <td>4</td>\n",
              "      <td>40</td>\n",
              "      <td>20.0</td>\n",
              "    </tr>\n",
              "  </tbody>\n",
              "</table>\n",
              "</div>\n",
              "      <button class=\"colab-df-convert\" onclick=\"convertToInteractive('df-9cb5578b-7672-4fc3-b5e2-f2bd7fa392bd')\"\n",
              "              title=\"Convert this dataframe to an interactive table.\"\n",
              "              style=\"display:none;\">\n",
              "        \n",
              "  <svg xmlns=\"http://www.w3.org/2000/svg\" height=\"24px\"viewBox=\"0 0 24 24\"\n",
              "       width=\"24px\">\n",
              "    <path d=\"M0 0h24v24H0V0z\" fill=\"none\"/>\n",
              "    <path d=\"M18.56 5.44l.94 2.06.94-2.06 2.06-.94-2.06-.94-.94-2.06-.94 2.06-2.06.94zm-11 1L8.5 8.5l.94-2.06 2.06-.94-2.06-.94L8.5 2.5l-.94 2.06-2.06.94zm10 10l.94 2.06.94-2.06 2.06-.94-2.06-.94-.94-2.06-.94 2.06-2.06.94z\"/><path d=\"M17.41 7.96l-1.37-1.37c-.4-.4-.92-.59-1.43-.59-.52 0-1.04.2-1.43.59L10.3 9.45l-7.72 7.72c-.78.78-.78 2.05 0 2.83L4 21.41c.39.39.9.59 1.41.59.51 0 1.02-.2 1.41-.59l7.78-7.78 2.81-2.81c.8-.78.8-2.07 0-2.86zM5.41 20L4 18.59l7.72-7.72 1.47 1.35L5.41 20z\"/>\n",
              "  </svg>\n",
              "      </button>\n",
              "      \n",
              "  <style>\n",
              "    .colab-df-container {\n",
              "      display:flex;\n",
              "      flex-wrap:wrap;\n",
              "      gap: 12px;\n",
              "    }\n",
              "\n",
              "    .colab-df-convert {\n",
              "      background-color: #E8F0FE;\n",
              "      border: none;\n",
              "      border-radius: 50%;\n",
              "      cursor: pointer;\n",
              "      display: none;\n",
              "      fill: #1967D2;\n",
              "      height: 32px;\n",
              "      padding: 0 0 0 0;\n",
              "      width: 32px;\n",
              "    }\n",
              "\n",
              "    .colab-df-convert:hover {\n",
              "      background-color: #E2EBFA;\n",
              "      box-shadow: 0px 1px 2px rgba(60, 64, 67, 0.3), 0px 1px 3px 1px rgba(60, 64, 67, 0.15);\n",
              "      fill: #174EA6;\n",
              "    }\n",
              "\n",
              "    [theme=dark] .colab-df-convert {\n",
              "      background-color: #3B4455;\n",
              "      fill: #D2E3FC;\n",
              "    }\n",
              "\n",
              "    [theme=dark] .colab-df-convert:hover {\n",
              "      background-color: #434B5C;\n",
              "      box-shadow: 0px 1px 3px 1px rgba(0, 0, 0, 0.15);\n",
              "      filter: drop-shadow(0px 1px 2px rgba(0, 0, 0, 0.3));\n",
              "      fill: #FFFFFF;\n",
              "    }\n",
              "  </style>\n",
              "\n",
              "      <script>\n",
              "        const buttonEl =\n",
              "          document.querySelector('#df-9cb5578b-7672-4fc3-b5e2-f2bd7fa392bd button.colab-df-convert');\n",
              "        buttonEl.style.display =\n",
              "          google.colab.kernel.accessAllowed ? 'block' : 'none';\n",
              "\n",
              "        async function convertToInteractive(key) {\n",
              "          const element = document.querySelector('#df-9cb5578b-7672-4fc3-b5e2-f2bd7fa392bd');\n",
              "          const dataTable =\n",
              "            await google.colab.kernel.invokeFunction('convertToInteractive',\n",
              "                                                     [key], {});\n",
              "          if (!dataTable) return;\n",
              "\n",
              "          const docLinkHtml = 'Like what you see? Visit the ' +\n",
              "            '<a target=\"_blank\" href=https://colab.research.google.com/notebooks/data_table.ipynb>data table notebook</a>'\n",
              "            + ' to learn more about interactive tables.';\n",
              "          element.innerHTML = '';\n",
              "          dataTable['output_type'] = 'display_data';\n",
              "          await google.colab.output.renderOutput(dataTable, element);\n",
              "          const docLink = document.createElement('div');\n",
              "          docLink.innerHTML = docLinkHtml;\n",
              "          element.appendChild(docLink);\n",
              "        }\n",
              "      </script>\n",
              "    </div>\n",
              "  </div>\n",
              "  "
            ]
          },
          "metadata": {},
          "execution_count": 156
        }
      ]
    },
    {
      "cell_type": "markdown",
      "source": [
        " - 첫 판매월 피처에 결측값이 있음\n",
        " - 한번도 판매된 적이 없다는 뜻"
      ],
      "metadata": {
        "id": "nSgPcOCXZmFk"
      }
    },
    {
      "cell_type": "code",
      "source": [
        "items[items['첫 판매월'].isna()] # isna() : NaN이면 True"
      ],
      "metadata": {
        "id": "YjafNNo5YXxA",
        "outputId": "64f43f11-8026-4b70-833c-1d56d626bbc0",
        "colab": {
          "base_uri": "https://localhost:8080/",
          "height": 424
        }
      },
      "execution_count": 157,
      "outputs": [
        {
          "output_type": "execute_result",
          "data": {
            "text/plain": [
              "        상품ID  상품분류ID  첫 판매월\n",
              "83        83      40    NaN\n",
              "140      140      45    NaN\n",
              "168      168      44    NaN\n",
              "173      173      45    NaN\n",
              "204      204      44    NaN\n",
              "...      ...     ...    ...\n",
              "21974  21974      61    NaN\n",
              "21975  21975      61    NaN\n",
              "22022  22022      40    NaN\n",
              "22035  22035      40    NaN\n",
              "22137  22137      40    NaN\n",
              "\n",
              "[368 rows x 3 columns]"
            ],
            "text/html": [
              "\n",
              "  <div id=\"df-57f9d41a-d2ff-48e1-a483-30f342caa6bd\">\n",
              "    <div class=\"colab-df-container\">\n",
              "      <div>\n",
              "<style scoped>\n",
              "    .dataframe tbody tr th:only-of-type {\n",
              "        vertical-align: middle;\n",
              "    }\n",
              "\n",
              "    .dataframe tbody tr th {\n",
              "        vertical-align: top;\n",
              "    }\n",
              "\n",
              "    .dataframe thead th {\n",
              "        text-align: right;\n",
              "    }\n",
              "</style>\n",
              "<table border=\"1\" class=\"dataframe\">\n",
              "  <thead>\n",
              "    <tr style=\"text-align: right;\">\n",
              "      <th></th>\n",
              "      <th>상품ID</th>\n",
              "      <th>상품분류ID</th>\n",
              "      <th>첫 판매월</th>\n",
              "    </tr>\n",
              "  </thead>\n",
              "  <tbody>\n",
              "    <tr>\n",
              "      <th>83</th>\n",
              "      <td>83</td>\n",
              "      <td>40</td>\n",
              "      <td>NaN</td>\n",
              "    </tr>\n",
              "    <tr>\n",
              "      <th>140</th>\n",
              "      <td>140</td>\n",
              "      <td>45</td>\n",
              "      <td>NaN</td>\n",
              "    </tr>\n",
              "    <tr>\n",
              "      <th>168</th>\n",
              "      <td>168</td>\n",
              "      <td>44</td>\n",
              "      <td>NaN</td>\n",
              "    </tr>\n",
              "    <tr>\n",
              "      <th>173</th>\n",
              "      <td>173</td>\n",
              "      <td>45</td>\n",
              "      <td>NaN</td>\n",
              "    </tr>\n",
              "    <tr>\n",
              "      <th>204</th>\n",
              "      <td>204</td>\n",
              "      <td>44</td>\n",
              "      <td>NaN</td>\n",
              "    </tr>\n",
              "    <tr>\n",
              "      <th>...</th>\n",
              "      <td>...</td>\n",
              "      <td>...</td>\n",
              "      <td>...</td>\n",
              "    </tr>\n",
              "    <tr>\n",
              "      <th>21974</th>\n",
              "      <td>21974</td>\n",
              "      <td>61</td>\n",
              "      <td>NaN</td>\n",
              "    </tr>\n",
              "    <tr>\n",
              "      <th>21975</th>\n",
              "      <td>21975</td>\n",
              "      <td>61</td>\n",
              "      <td>NaN</td>\n",
              "    </tr>\n",
              "    <tr>\n",
              "      <th>22022</th>\n",
              "      <td>22022</td>\n",
              "      <td>40</td>\n",
              "      <td>NaN</td>\n",
              "    </tr>\n",
              "    <tr>\n",
              "      <th>22035</th>\n",
              "      <td>22035</td>\n",
              "      <td>40</td>\n",
              "      <td>NaN</td>\n",
              "    </tr>\n",
              "    <tr>\n",
              "      <th>22137</th>\n",
              "      <td>22137</td>\n",
              "      <td>40</td>\n",
              "      <td>NaN</td>\n",
              "    </tr>\n",
              "  </tbody>\n",
              "</table>\n",
              "<p>368 rows × 3 columns</p>\n",
              "</div>\n",
              "      <button class=\"colab-df-convert\" onclick=\"convertToInteractive('df-57f9d41a-d2ff-48e1-a483-30f342caa6bd')\"\n",
              "              title=\"Convert this dataframe to an interactive table.\"\n",
              "              style=\"display:none;\">\n",
              "        \n",
              "  <svg xmlns=\"http://www.w3.org/2000/svg\" height=\"24px\"viewBox=\"0 0 24 24\"\n",
              "       width=\"24px\">\n",
              "    <path d=\"M0 0h24v24H0V0z\" fill=\"none\"/>\n",
              "    <path d=\"M18.56 5.44l.94 2.06.94-2.06 2.06-.94-2.06-.94-.94-2.06-.94 2.06-2.06.94zm-11 1L8.5 8.5l.94-2.06 2.06-.94-2.06-.94L8.5 2.5l-.94 2.06-2.06.94zm10 10l.94 2.06.94-2.06 2.06-.94-2.06-.94-.94-2.06-.94 2.06-2.06.94z\"/><path d=\"M17.41 7.96l-1.37-1.37c-.4-.4-.92-.59-1.43-.59-.52 0-1.04.2-1.43.59L10.3 9.45l-7.72 7.72c-.78.78-.78 2.05 0 2.83L4 21.41c.39.39.9.59 1.41.59.51 0 1.02-.2 1.41-.59l7.78-7.78 2.81-2.81c.8-.78.8-2.07 0-2.86zM5.41 20L4 18.59l7.72-7.72 1.47 1.35L5.41 20z\"/>\n",
              "  </svg>\n",
              "      </button>\n",
              "      \n",
              "  <style>\n",
              "    .colab-df-container {\n",
              "      display:flex;\n",
              "      flex-wrap:wrap;\n",
              "      gap: 12px;\n",
              "    }\n",
              "\n",
              "    .colab-df-convert {\n",
              "      background-color: #E8F0FE;\n",
              "      border: none;\n",
              "      border-radius: 50%;\n",
              "      cursor: pointer;\n",
              "      display: none;\n",
              "      fill: #1967D2;\n",
              "      height: 32px;\n",
              "      padding: 0 0 0 0;\n",
              "      width: 32px;\n",
              "    }\n",
              "\n",
              "    .colab-df-convert:hover {\n",
              "      background-color: #E2EBFA;\n",
              "      box-shadow: 0px 1px 2px rgba(60, 64, 67, 0.3), 0px 1px 3px 1px rgba(60, 64, 67, 0.15);\n",
              "      fill: #174EA6;\n",
              "    }\n",
              "\n",
              "    [theme=dark] .colab-df-convert {\n",
              "      background-color: #3B4455;\n",
              "      fill: #D2E3FC;\n",
              "    }\n",
              "\n",
              "    [theme=dark] .colab-df-convert:hover {\n",
              "      background-color: #434B5C;\n",
              "      box-shadow: 0px 1px 3px 1px rgba(0, 0, 0, 0.15);\n",
              "      filter: drop-shadow(0px 1px 2px rgba(0, 0, 0, 0.3));\n",
              "      fill: #FFFFFF;\n",
              "    }\n",
              "  </style>\n",
              "\n",
              "      <script>\n",
              "        const buttonEl =\n",
              "          document.querySelector('#df-57f9d41a-d2ff-48e1-a483-30f342caa6bd button.colab-df-convert');\n",
              "        buttonEl.style.display =\n",
              "          google.colab.kernel.accessAllowed ? 'block' : 'none';\n",
              "\n",
              "        async function convertToInteractive(key) {\n",
              "          const element = document.querySelector('#df-57f9d41a-d2ff-48e1-a483-30f342caa6bd');\n",
              "          const dataTable =\n",
              "            await google.colab.kernel.invokeFunction('convertToInteractive',\n",
              "                                                     [key], {});\n",
              "          if (!dataTable) return;\n",
              "\n",
              "          const docLinkHtml = 'Like what you see? Visit the ' +\n",
              "            '<a target=\"_blank\" href=https://colab.research.google.com/notebooks/data_table.ipynb>data table notebook</a>'\n",
              "            + ' to learn more about interactive tables.';\n",
              "          element.innerHTML = '';\n",
              "          dataTable['output_type'] = 'display_data';\n",
              "          await google.colab.output.renderOutput(dataTable, element);\n",
              "          const docLink = document.createElement('div');\n",
              "          docLink.innerHTML = docLinkHtml;\n",
              "          element.appendChild(docLink);\n",
              "        }\n",
              "      </script>\n",
              "    </div>\n",
              "  </div>\n",
              "  "
            ]
          },
          "metadata": {},
          "execution_count": 157
        }
      ]
    },
    {
      "cell_type": "markdown",
      "source": [
        " - 368개의 결측값 : 첫 판매월을 test데이터의 타깃값으로 넣어도 무방"
      ],
      "metadata": {
        "id": "Kik_PgOUaEER"
      }
    },
    {
      "cell_type": "code",
      "source": [
        "items['첫 판매월'] = items['첫 판매월'].fillna(34)"
      ],
      "metadata": {
        "id": "jxWcEWt9Zsl_"
      },
      "execution_count": 158,
      "outputs": []
    },
    {
      "cell_type": "markdown",
      "source": [
        "#### item_categories 파생 피처 생성 및 인코딩\n",
        " - '대분류'라는 파생피처 생성 -> 인코딩\n",
        " - 상품분류명의 첫 단어가 범주 대분류\n",
        " - 범주형 데이터가 지나치게 세밀하면(범주별 훈련 데이터 수가 작으면), 훈련이 제대로 되지 않는다.\n",
        " - 큰 범주로 묶으면, 범주별 훈련 데이터 수가 많아져서 대분류 수준에서는 예측 정확도가 높아진다."
      ],
      "metadata": {
        "id": "QLsmoXiea2uV"
      }
    },
    {
      "cell_type": "code",
      "source": [
        "item_categories['대분류'] = item_categories['상품분류명'].apply(lambda x: x.split()[0])"
      ],
      "metadata": {
        "id": "YBcUdquxa18z"
      },
      "execution_count": 159,
      "outputs": []
    },
    {
      "cell_type": "code",
      "source": [
        "item_categories['대분류'].value_counts()"
      ],
      "metadata": {
        "id": "rWIYfalMb8TO",
        "outputId": "e0ae0c65-7605-4d84-900a-ca2843c711e1",
        "colab": {
          "base_uri": "https://localhost:8080/"
        }
      },
      "execution_count": 160,
      "outputs": [
        {
          "output_type": "execute_result",
          "data": {
            "text/plain": [
              "Игры          14\n",
              "Книги         13\n",
              "Подарки       12\n",
              "Игровые        8\n",
              "Аксессуары     7\n",
              "Музыка         6\n",
              "Программы      6\n",
              "Карты          5\n",
              "Кино           5\n",
              "Служебные      2\n",
              "Чистые         2\n",
              "PC             1\n",
              "Билеты         1\n",
              "Доставка       1\n",
              "Элементы       1\n",
              "Name: 대분류, dtype: int64"
            ]
          },
          "metadata": {},
          "execution_count": 160
        }
      ]
    },
    {
      "cell_type": "markdown",
      "source": [
        " - 대분류 하나가 범주를 일정개수 이상 가져야 대분류의 의미가 있으며, 성능향상에 유리함\n",
        " - 고윳값이 5개 미만인 대분류는 모두 'etc'로 변경"
      ],
      "metadata": {
        "id": "8ziDdtBadhDS"
      }
    },
    {
      "cell_type": "code",
      "source": [
        "def make_etc(x):\n",
        "    if item_categories['대분류'].value_counts().to_dict()[x] >= 5:\n",
        "        # Series -> Dict 형변환 후 키 값으로 Series 데이터를 받음\n",
        "        return x\n",
        "    else:\n",
        "        return 'etc'\n",
        "\n",
        "# 대분류의 고윳값 개수가 5개 미만이면 etc로 바꾸기\n",
        "item_categories['대분류'] = item_categories['대분류'].apply(make_etc)"
      ],
      "metadata": {
        "id": "zB-ETLQsdaEH"
      },
      "execution_count": 161,
      "outputs": []
    },
    {
      "cell_type": "code",
      "source": [
        "item_categories.head()"
      ],
      "metadata": {
        "id": "tRt7xQYNgPth",
        "outputId": "965936b8-1a86-4825-aed6-2e920578427c",
        "colab": {
          "base_uri": "https://localhost:8080/",
          "height": 206
        }
      },
      "execution_count": 162,
      "outputs": [
        {
          "output_type": "execute_result",
          "data": {
            "text/plain": [
              "                     상품분류명  상품분류ID         대분류\n",
              "0  PC - Гарнитуры/Наушники       0         etc\n",
              "1         Аксессуары - PS2       1  Аксессуары\n",
              "2         Аксессуары - PS3       2  Аксессуары\n",
              "3         Аксессуары - PS4       3  Аксессуары\n",
              "4         Аксессуары - PSP       4  Аксессуары"
            ],
            "text/html": [
              "\n",
              "  <div id=\"df-c7af6df1-9534-468a-882c-4f7174379f8d\">\n",
              "    <div class=\"colab-df-container\">\n",
              "      <div>\n",
              "<style scoped>\n",
              "    .dataframe tbody tr th:only-of-type {\n",
              "        vertical-align: middle;\n",
              "    }\n",
              "\n",
              "    .dataframe tbody tr th {\n",
              "        vertical-align: top;\n",
              "    }\n",
              "\n",
              "    .dataframe thead th {\n",
              "        text-align: right;\n",
              "    }\n",
              "</style>\n",
              "<table border=\"1\" class=\"dataframe\">\n",
              "  <thead>\n",
              "    <tr style=\"text-align: right;\">\n",
              "      <th></th>\n",
              "      <th>상품분류명</th>\n",
              "      <th>상품분류ID</th>\n",
              "      <th>대분류</th>\n",
              "    </tr>\n",
              "  </thead>\n",
              "  <tbody>\n",
              "    <tr>\n",
              "      <th>0</th>\n",
              "      <td>PC - Гарнитуры/Наушники</td>\n",
              "      <td>0</td>\n",
              "      <td>etc</td>\n",
              "    </tr>\n",
              "    <tr>\n",
              "      <th>1</th>\n",
              "      <td>Аксессуары - PS2</td>\n",
              "      <td>1</td>\n",
              "      <td>Аксессуары</td>\n",
              "    </tr>\n",
              "    <tr>\n",
              "      <th>2</th>\n",
              "      <td>Аксессуары - PS3</td>\n",
              "      <td>2</td>\n",
              "      <td>Аксессуары</td>\n",
              "    </tr>\n",
              "    <tr>\n",
              "      <th>3</th>\n",
              "      <td>Аксессуары - PS4</td>\n",
              "      <td>3</td>\n",
              "      <td>Аксессуары</td>\n",
              "    </tr>\n",
              "    <tr>\n",
              "      <th>4</th>\n",
              "      <td>Аксессуары - PSP</td>\n",
              "      <td>4</td>\n",
              "      <td>Аксессуары</td>\n",
              "    </tr>\n",
              "  </tbody>\n",
              "</table>\n",
              "</div>\n",
              "      <button class=\"colab-df-convert\" onclick=\"convertToInteractive('df-c7af6df1-9534-468a-882c-4f7174379f8d')\"\n",
              "              title=\"Convert this dataframe to an interactive table.\"\n",
              "              style=\"display:none;\">\n",
              "        \n",
              "  <svg xmlns=\"http://www.w3.org/2000/svg\" height=\"24px\"viewBox=\"0 0 24 24\"\n",
              "       width=\"24px\">\n",
              "    <path d=\"M0 0h24v24H0V0z\" fill=\"none\"/>\n",
              "    <path d=\"M18.56 5.44l.94 2.06.94-2.06 2.06-.94-2.06-.94-.94-2.06-.94 2.06-2.06.94zm-11 1L8.5 8.5l.94-2.06 2.06-.94-2.06-.94L8.5 2.5l-.94 2.06-2.06.94zm10 10l.94 2.06.94-2.06 2.06-.94-2.06-.94-.94-2.06-.94 2.06-2.06.94z\"/><path d=\"M17.41 7.96l-1.37-1.37c-.4-.4-.92-.59-1.43-.59-.52 0-1.04.2-1.43.59L10.3 9.45l-7.72 7.72c-.78.78-.78 2.05 0 2.83L4 21.41c.39.39.9.59 1.41.59.51 0 1.02-.2 1.41-.59l7.78-7.78 2.81-2.81c.8-.78.8-2.07 0-2.86zM5.41 20L4 18.59l7.72-7.72 1.47 1.35L5.41 20z\"/>\n",
              "  </svg>\n",
              "      </button>\n",
              "      \n",
              "  <style>\n",
              "    .colab-df-container {\n",
              "      display:flex;\n",
              "      flex-wrap:wrap;\n",
              "      gap: 12px;\n",
              "    }\n",
              "\n",
              "    .colab-df-convert {\n",
              "      background-color: #E8F0FE;\n",
              "      border: none;\n",
              "      border-radius: 50%;\n",
              "      cursor: pointer;\n",
              "      display: none;\n",
              "      fill: #1967D2;\n",
              "      height: 32px;\n",
              "      padding: 0 0 0 0;\n",
              "      width: 32px;\n",
              "    }\n",
              "\n",
              "    .colab-df-convert:hover {\n",
              "      background-color: #E2EBFA;\n",
              "      box-shadow: 0px 1px 2px rgba(60, 64, 67, 0.3), 0px 1px 3px 1px rgba(60, 64, 67, 0.15);\n",
              "      fill: #174EA6;\n",
              "    }\n",
              "\n",
              "    [theme=dark] .colab-df-convert {\n",
              "      background-color: #3B4455;\n",
              "      fill: #D2E3FC;\n",
              "    }\n",
              "\n",
              "    [theme=dark] .colab-df-convert:hover {\n",
              "      background-color: #434B5C;\n",
              "      box-shadow: 0px 1px 3px 1px rgba(0, 0, 0, 0.15);\n",
              "      filter: drop-shadow(0px 1px 2px rgba(0, 0, 0, 0.3));\n",
              "      fill: #FFFFFF;\n",
              "    }\n",
              "  </style>\n",
              "\n",
              "      <script>\n",
              "        const buttonEl =\n",
              "          document.querySelector('#df-c7af6df1-9534-468a-882c-4f7174379f8d button.colab-df-convert');\n",
              "        buttonEl.style.display =\n",
              "          google.colab.kernel.accessAllowed ? 'block' : 'none';\n",
              "\n",
              "        async function convertToInteractive(key) {\n",
              "          const element = document.querySelector('#df-c7af6df1-9534-468a-882c-4f7174379f8d');\n",
              "          const dataTable =\n",
              "            await google.colab.kernel.invokeFunction('convertToInteractive',\n",
              "                                                     [key], {});\n",
              "          if (!dataTable) return;\n",
              "\n",
              "          const docLinkHtml = 'Like what you see? Visit the ' +\n",
              "            '<a target=\"_blank\" href=https://colab.research.google.com/notebooks/data_table.ipynb>data table notebook</a>'\n",
              "            + ' to learn more about interactive tables.';\n",
              "          element.innerHTML = '';\n",
              "          dataTable['output_type'] = 'display_data';\n",
              "          await google.colab.output.renderOutput(dataTable, element);\n",
              "          const docLink = document.createElement('div');\n",
              "          docLink.innerHTML = docLinkHtml;\n",
              "          element.appendChild(docLink);\n",
              "        }\n",
              "      </script>\n",
              "    </div>\n",
              "  </div>\n",
              "  "
            ]
          },
          "metadata": {},
          "execution_count": 162
        }
      ]
    },
    {
      "cell_type": "markdown",
      "source": [
        " - 범주형 피처인 대분류를 인코딩\n",
        " - 필요없는 상품분류명 피처는 제거"
      ],
      "metadata": {
        "id": "Q9EtiIGSgh_T"
      }
    },
    {
      "cell_type": "code",
      "source": [
        "label_encoder = LabelEncoder()\n",
        "\n",
        "item_categories['대분류'] = label_encoder.fit_transform(item_categories['대분류'])\n",
        "\n",
        "item_categories = item_categories.drop('상품분류명', axis=1)"
      ],
      "metadata": {
        "id": "X7Gd7yT2glqP"
      },
      "execution_count": 163,
      "outputs": []
    },
    {
      "cell_type": "markdown",
      "source": [
        "### 피처 엔지니어링 4 : 데이터 조합 및 파생 피처 생성\n",
        " - 베이스라인과 같은 방식으로 월ID, 상점ID, 상품ID 조합 생성"
      ],
      "metadata": {
        "id": "t8AR6DWviBel"
      }
    },
    {
      "cell_type": "code",
      "source": [
        "from itertools import product\n",
        "\n",
        "for i in sales_train['월ID'].unique():\n",
        "    all_shop = sales_train.loc[sales_train['월ID'] == i, '상점ID'].unique()\n",
        "    all_item = sales_train.loc[sales_train['월ID'] == i, '상품ID'].unique()\n",
        "\n",
        "a = list(product(sales_train['월ID'].unique(), all_shop, all_item))\n",
        "# [(1,2,3), (1,2,3), (1,2,3), ...] : tuple이 각 행으로 tuple의 각 요소가 각 컬럼으로\n",
        "'''\n",
        " 리스트안의 튜플\n",
        "   [(1,2,3,),\n",
        "    (1,2,3),\n",
        "    (1,2,3)] \n",
        "'''\n",
        "idx_features = ['월ID', '상점ID', '상품ID']\n",
        "train = pd.DataFrame(a, columns=idx_features)\n",
        "'''\n",
        "arrary 타입\n",
        "   [[1,2,3,],\n",
        "    [1,2,3],\n",
        "    [1,2,3]]\n",
        "'''"
      ],
      "metadata": {
        "id": "C_m4FctjiEfh",
        "outputId": "a301e304-9a67-4032-f001-0d3a8d333a6e",
        "colab": {
          "base_uri": "https://localhost:8080/",
          "height": 35
        }
      },
      "execution_count": 164,
      "outputs": [
        {
          "output_type": "execute_result",
          "data": {
            "text/plain": [
              "'\\narrary 타입\\n   [[1,2,3,],\\n    [1,2,3],\\n    [1,2,3]]\\n'"
            ],
            "application/vnd.google.colaboratory.intrinsic+json": {
              "type": "string"
            }
          },
          "metadata": {},
          "execution_count": 164
        }
      ]
    },
    {
      "cell_type": "code",
      "source": [
        "train.head()"
      ],
      "metadata": {
        "id": "u6f_Ir0Onh9M",
        "outputId": "23fe67a1-8de4-4ca1-eccc-46a64da641d6",
        "colab": {
          "base_uri": "https://localhost:8080/",
          "height": 206
        }
      },
      "execution_count": 165,
      "outputs": [
        {
          "output_type": "execute_result",
          "data": {
            "text/plain": [
              "   월ID  상점ID   상품ID\n",
              "0    0    45  13315\n",
              "1    0    45  13880\n",
              "2    0    45  13881\n",
              "3    0    45  13923\n",
              "4    0    45  14227"
            ],
            "text/html": [
              "\n",
              "  <div id=\"df-52578c8a-e0aa-4f70-a3aa-9d9f2b0fa406\">\n",
              "    <div class=\"colab-df-container\">\n",
              "      <div>\n",
              "<style scoped>\n",
              "    .dataframe tbody tr th:only-of-type {\n",
              "        vertical-align: middle;\n",
              "    }\n",
              "\n",
              "    .dataframe tbody tr th {\n",
              "        vertical-align: top;\n",
              "    }\n",
              "\n",
              "    .dataframe thead th {\n",
              "        text-align: right;\n",
              "    }\n",
              "</style>\n",
              "<table border=\"1\" class=\"dataframe\">\n",
              "  <thead>\n",
              "    <tr style=\"text-align: right;\">\n",
              "      <th></th>\n",
              "      <th>월ID</th>\n",
              "      <th>상점ID</th>\n",
              "      <th>상품ID</th>\n",
              "    </tr>\n",
              "  </thead>\n",
              "  <tbody>\n",
              "    <tr>\n",
              "      <th>0</th>\n",
              "      <td>0</td>\n",
              "      <td>45</td>\n",
              "      <td>13315</td>\n",
              "    </tr>\n",
              "    <tr>\n",
              "      <th>1</th>\n",
              "      <td>0</td>\n",
              "      <td>45</td>\n",
              "      <td>13880</td>\n",
              "    </tr>\n",
              "    <tr>\n",
              "      <th>2</th>\n",
              "      <td>0</td>\n",
              "      <td>45</td>\n",
              "      <td>13881</td>\n",
              "    </tr>\n",
              "    <tr>\n",
              "      <th>3</th>\n",
              "      <td>0</td>\n",
              "      <td>45</td>\n",
              "      <td>13923</td>\n",
              "    </tr>\n",
              "    <tr>\n",
              "      <th>4</th>\n",
              "      <td>0</td>\n",
              "      <td>45</td>\n",
              "      <td>14227</td>\n",
              "    </tr>\n",
              "  </tbody>\n",
              "</table>\n",
              "</div>\n",
              "      <button class=\"colab-df-convert\" onclick=\"convertToInteractive('df-52578c8a-e0aa-4f70-a3aa-9d9f2b0fa406')\"\n",
              "              title=\"Convert this dataframe to an interactive table.\"\n",
              "              style=\"display:none;\">\n",
              "        \n",
              "  <svg xmlns=\"http://www.w3.org/2000/svg\" height=\"24px\"viewBox=\"0 0 24 24\"\n",
              "       width=\"24px\">\n",
              "    <path d=\"M0 0h24v24H0V0z\" fill=\"none\"/>\n",
              "    <path d=\"M18.56 5.44l.94 2.06.94-2.06 2.06-.94-2.06-.94-.94-2.06-.94 2.06-2.06.94zm-11 1L8.5 8.5l.94-2.06 2.06-.94-2.06-.94L8.5 2.5l-.94 2.06-2.06.94zm10 10l.94 2.06.94-2.06 2.06-.94-2.06-.94-.94-2.06-.94 2.06-2.06.94z\"/><path d=\"M17.41 7.96l-1.37-1.37c-.4-.4-.92-.59-1.43-.59-.52 0-1.04.2-1.43.59L10.3 9.45l-7.72 7.72c-.78.78-.78 2.05 0 2.83L4 21.41c.39.39.9.59 1.41.59.51 0 1.02-.2 1.41-.59l7.78-7.78 2.81-2.81c.8-.78.8-2.07 0-2.86zM5.41 20L4 18.59l7.72-7.72 1.47 1.35L5.41 20z\"/>\n",
              "  </svg>\n",
              "      </button>\n",
              "      \n",
              "  <style>\n",
              "    .colab-df-container {\n",
              "      display:flex;\n",
              "      flex-wrap:wrap;\n",
              "      gap: 12px;\n",
              "    }\n",
              "\n",
              "    .colab-df-convert {\n",
              "      background-color: #E8F0FE;\n",
              "      border: none;\n",
              "      border-radius: 50%;\n",
              "      cursor: pointer;\n",
              "      display: none;\n",
              "      fill: #1967D2;\n",
              "      height: 32px;\n",
              "      padding: 0 0 0 0;\n",
              "      width: 32px;\n",
              "    }\n",
              "\n",
              "    .colab-df-convert:hover {\n",
              "      background-color: #E2EBFA;\n",
              "      box-shadow: 0px 1px 2px rgba(60, 64, 67, 0.3), 0px 1px 3px 1px rgba(60, 64, 67, 0.15);\n",
              "      fill: #174EA6;\n",
              "    }\n",
              "\n",
              "    [theme=dark] .colab-df-convert {\n",
              "      background-color: #3B4455;\n",
              "      fill: #D2E3FC;\n",
              "    }\n",
              "\n",
              "    [theme=dark] .colab-df-convert:hover {\n",
              "      background-color: #434B5C;\n",
              "      box-shadow: 0px 1px 3px 1px rgba(0, 0, 0, 0.15);\n",
              "      filter: drop-shadow(0px 1px 2px rgba(0, 0, 0, 0.3));\n",
              "      fill: #FFFFFF;\n",
              "    }\n",
              "  </style>\n",
              "\n",
              "      <script>\n",
              "        const buttonEl =\n",
              "          document.querySelector('#df-52578c8a-e0aa-4f70-a3aa-9d9f2b0fa406 button.colab-df-convert');\n",
              "        buttonEl.style.display =\n",
              "          google.colab.kernel.accessAllowed ? 'block' : 'none';\n",
              "\n",
              "        async function convertToInteractive(key) {\n",
              "          const element = document.querySelector('#df-52578c8a-e0aa-4f70-a3aa-9d9f2b0fa406');\n",
              "          const dataTable =\n",
              "            await google.colab.kernel.invokeFunction('convertToInteractive',\n",
              "                                                     [key], {});\n",
              "          if (!dataTable) return;\n",
              "\n",
              "          const docLinkHtml = 'Like what you see? Visit the ' +\n",
              "            '<a target=\"_blank\" href=https://colab.research.google.com/notebooks/data_table.ipynb>data table notebook</a>'\n",
              "            + ' to learn more about interactive tables.';\n",
              "          element.innerHTML = '';\n",
              "          dataTable['output_type'] = 'display_data';\n",
              "          await google.colab.output.renderOutput(dataTable, element);\n",
              "          const docLink = document.createElement('div');\n",
              "          docLink.innerHTML = docLinkHtml;\n",
              "          element.appendChild(docLink);\n",
              "        }\n",
              "      </script>\n",
              "    </div>\n",
              "  </div>\n",
              "  "
            ]
          },
          "metadata": {},
          "execution_count": 165
        }
      ]
    },
    {
      "cell_type": "markdown",
      "source": [
        "#### 다양한 파생 피처 생성\n",
        " - 월ID, 상점ID, 상품ID 별 '월간 판매량', '평균 판매가' 생성"
      ],
      "metadata": {
        "id": "YVyXzOhqwsAA"
      }
    },
    {
      "cell_type": "code",
      "source": [
        "group = sales_train.groupby(idx_features).agg({'판매량':'sum', '판매가':'mean'})\n",
        "\n",
        "group = group.reset_index()\n",
        "group = group.rename(columns={'판매량':'월간 판매량', '판매가':'평균 판매가'})\n",
        "\n",
        "train = train.merge(group, on=idx_features, how='left')\n",
        "\n",
        "train.head()"
      ],
      "metadata": {
        "id": "HskrBuCixOYa",
        "outputId": "4c4796c8-8e12-4c4e-968b-2ecb10da6ceb",
        "colab": {
          "base_uri": "https://localhost:8080/",
          "height": 206
        }
      },
      "execution_count": 166,
      "outputs": [
        {
          "output_type": "execute_result",
          "data": {
            "text/plain": [
              "   월ID  상점ID   상품ID  월간 판매량  평균 판매가\n",
              "0    0    45  13315     NaN     NaN\n",
              "1    0    45  13880     NaN     NaN\n",
              "2    0    45  13881     2.0   549.0\n",
              "3    0    45  13923     NaN     NaN\n",
              "4    0    45  14227     NaN     NaN"
            ],
            "text/html": [
              "\n",
              "  <div id=\"df-79618a49-048a-41d0-903c-c6e5661a2a22\">\n",
              "    <div class=\"colab-df-container\">\n",
              "      <div>\n",
              "<style scoped>\n",
              "    .dataframe tbody tr th:only-of-type {\n",
              "        vertical-align: middle;\n",
              "    }\n",
              "\n",
              "    .dataframe tbody tr th {\n",
              "        vertical-align: top;\n",
              "    }\n",
              "\n",
              "    .dataframe thead th {\n",
              "        text-align: right;\n",
              "    }\n",
              "</style>\n",
              "<table border=\"1\" class=\"dataframe\">\n",
              "  <thead>\n",
              "    <tr style=\"text-align: right;\">\n",
              "      <th></th>\n",
              "      <th>월ID</th>\n",
              "      <th>상점ID</th>\n",
              "      <th>상품ID</th>\n",
              "      <th>월간 판매량</th>\n",
              "      <th>평균 판매가</th>\n",
              "    </tr>\n",
              "  </thead>\n",
              "  <tbody>\n",
              "    <tr>\n",
              "      <th>0</th>\n",
              "      <td>0</td>\n",
              "      <td>45</td>\n",
              "      <td>13315</td>\n",
              "      <td>NaN</td>\n",
              "      <td>NaN</td>\n",
              "    </tr>\n",
              "    <tr>\n",
              "      <th>1</th>\n",
              "      <td>0</td>\n",
              "      <td>45</td>\n",
              "      <td>13880</td>\n",
              "      <td>NaN</td>\n",
              "      <td>NaN</td>\n",
              "    </tr>\n",
              "    <tr>\n",
              "      <th>2</th>\n",
              "      <td>0</td>\n",
              "      <td>45</td>\n",
              "      <td>13881</td>\n",
              "      <td>2.0</td>\n",
              "      <td>549.0</td>\n",
              "    </tr>\n",
              "    <tr>\n",
              "      <th>3</th>\n",
              "      <td>0</td>\n",
              "      <td>45</td>\n",
              "      <td>13923</td>\n",
              "      <td>NaN</td>\n",
              "      <td>NaN</td>\n",
              "    </tr>\n",
              "    <tr>\n",
              "      <th>4</th>\n",
              "      <td>0</td>\n",
              "      <td>45</td>\n",
              "      <td>14227</td>\n",
              "      <td>NaN</td>\n",
              "      <td>NaN</td>\n",
              "    </tr>\n",
              "  </tbody>\n",
              "</table>\n",
              "</div>\n",
              "      <button class=\"colab-df-convert\" onclick=\"convertToInteractive('df-79618a49-048a-41d0-903c-c6e5661a2a22')\"\n",
              "              title=\"Convert this dataframe to an interactive table.\"\n",
              "              style=\"display:none;\">\n",
              "        \n",
              "  <svg xmlns=\"http://www.w3.org/2000/svg\" height=\"24px\"viewBox=\"0 0 24 24\"\n",
              "       width=\"24px\">\n",
              "    <path d=\"M0 0h24v24H0V0z\" fill=\"none\"/>\n",
              "    <path d=\"M18.56 5.44l.94 2.06.94-2.06 2.06-.94-2.06-.94-.94-2.06-.94 2.06-2.06.94zm-11 1L8.5 8.5l.94-2.06 2.06-.94-2.06-.94L8.5 2.5l-.94 2.06-2.06.94zm10 10l.94 2.06.94-2.06 2.06-.94-2.06-.94-.94-2.06-.94 2.06-2.06.94z\"/><path d=\"M17.41 7.96l-1.37-1.37c-.4-.4-.92-.59-1.43-.59-.52 0-1.04.2-1.43.59L10.3 9.45l-7.72 7.72c-.78.78-.78 2.05 0 2.83L4 21.41c.39.39.9.59 1.41.59.51 0 1.02-.2 1.41-.59l7.78-7.78 2.81-2.81c.8-.78.8-2.07 0-2.86zM5.41 20L4 18.59l7.72-7.72 1.47 1.35L5.41 20z\"/>\n",
              "  </svg>\n",
              "      </button>\n",
              "      \n",
              "  <style>\n",
              "    .colab-df-container {\n",
              "      display:flex;\n",
              "      flex-wrap:wrap;\n",
              "      gap: 12px;\n",
              "    }\n",
              "\n",
              "    .colab-df-convert {\n",
              "      background-color: #E8F0FE;\n",
              "      border: none;\n",
              "      border-radius: 50%;\n",
              "      cursor: pointer;\n",
              "      display: none;\n",
              "      fill: #1967D2;\n",
              "      height: 32px;\n",
              "      padding: 0 0 0 0;\n",
              "      width: 32px;\n",
              "    }\n",
              "\n",
              "    .colab-df-convert:hover {\n",
              "      background-color: #E2EBFA;\n",
              "      box-shadow: 0px 1px 2px rgba(60, 64, 67, 0.3), 0px 1px 3px 1px rgba(60, 64, 67, 0.15);\n",
              "      fill: #174EA6;\n",
              "    }\n",
              "\n",
              "    [theme=dark] .colab-df-convert {\n",
              "      background-color: #3B4455;\n",
              "      fill: #D2E3FC;\n",
              "    }\n",
              "\n",
              "    [theme=dark] .colab-df-convert:hover {\n",
              "      background-color: #434B5C;\n",
              "      box-shadow: 0px 1px 3px 1px rgba(0, 0, 0, 0.15);\n",
              "      filter: drop-shadow(0px 1px 2px rgba(0, 0, 0, 0.3));\n",
              "      fill: #FFFFFF;\n",
              "    }\n",
              "  </style>\n",
              "\n",
              "      <script>\n",
              "        const buttonEl =\n",
              "          document.querySelector('#df-79618a49-048a-41d0-903c-c6e5661a2a22 button.colab-df-convert');\n",
              "        buttonEl.style.display =\n",
              "          google.colab.kernel.accessAllowed ? 'block' : 'none';\n",
              "\n",
              "        async function convertToInteractive(key) {\n",
              "          const element = document.querySelector('#df-79618a49-048a-41d0-903c-c6e5661a2a22');\n",
              "          const dataTable =\n",
              "            await google.colab.kernel.invokeFunction('convertToInteractive',\n",
              "                                                     [key], {});\n",
              "          if (!dataTable) return;\n",
              "\n",
              "          const docLinkHtml = 'Like what you see? Visit the ' +\n",
              "            '<a target=\"_blank\" href=https://colab.research.google.com/notebooks/data_table.ipynb>data table notebook</a>'\n",
              "            + ' to learn more about interactive tables.';\n",
              "          element.innerHTML = '';\n",
              "          dataTable['output_type'] = 'display_data';\n",
              "          await google.colab.output.renderOutput(dataTable, element);\n",
              "          const docLink = document.createElement('div');\n",
              "          docLink.innerHTML = docLinkHtml;\n",
              "          element.appendChild(docLink);\n",
              "        }\n",
              "      </script>\n",
              "    </div>\n",
              "  </div>\n",
              "  "
            ]
          },
          "metadata": {},
          "execution_count": 166
        }
      ]
    },
    {
      "cell_type": "markdown",
      "source": [
        " - 결측값은 판매량과 판매가가 0이라는 뜻 : 0으로 대체"
      ],
      "metadata": {
        "id": "NWDj9KV-yxBl"
      }
    },
    {
      "cell_type": "markdown",
      "source": [
        " - '기준 피처별 상품 판매건수' : 당일에 한번이라도 팔았다면 1건, 못팔면 0건"
      ],
      "metadata": {
        "id": "YJuzWbx3zD1W"
      }
    },
    {
      "cell_type": "code",
      "source": [
        "# 상품 판매건수 피처 추가\n",
        "group = sales_train.groupby(idx_features).agg({'판매량':'count'})\n",
        "group = group.reset_index()\n",
        "group = group.rename(columns={'판매량':'판매건수'})\n",
        "\n",
        "train = train.merge(group, on=idx_features, how='left')\n",
        "\n",
        "train.head()"
      ],
      "metadata": {
        "id": "EbNFCdOsxuCI",
        "outputId": "c931bc45-6a4d-42e7-a0d5-e6e6676909a8",
        "colab": {
          "base_uri": "https://localhost:8080/",
          "height": 206
        }
      },
      "execution_count": 167,
      "outputs": [
        {
          "output_type": "execute_result",
          "data": {
            "text/plain": [
              "   월ID  상점ID   상품ID  월간 판매량  평균 판매가  판매건수\n",
              "0    0    45  13315     NaN     NaN   NaN\n",
              "1    0    45  13880     NaN     NaN   NaN\n",
              "2    0    45  13881     2.0   549.0   2.0\n",
              "3    0    45  13923     NaN     NaN   NaN\n",
              "4    0    45  14227     NaN     NaN   NaN"
            ],
            "text/html": [
              "\n",
              "  <div id=\"df-b64d8e4a-0760-474c-aced-86581d950722\">\n",
              "    <div class=\"colab-df-container\">\n",
              "      <div>\n",
              "<style scoped>\n",
              "    .dataframe tbody tr th:only-of-type {\n",
              "        vertical-align: middle;\n",
              "    }\n",
              "\n",
              "    .dataframe tbody tr th {\n",
              "        vertical-align: top;\n",
              "    }\n",
              "\n",
              "    .dataframe thead th {\n",
              "        text-align: right;\n",
              "    }\n",
              "</style>\n",
              "<table border=\"1\" class=\"dataframe\">\n",
              "  <thead>\n",
              "    <tr style=\"text-align: right;\">\n",
              "      <th></th>\n",
              "      <th>월ID</th>\n",
              "      <th>상점ID</th>\n",
              "      <th>상품ID</th>\n",
              "      <th>월간 판매량</th>\n",
              "      <th>평균 판매가</th>\n",
              "      <th>판매건수</th>\n",
              "    </tr>\n",
              "  </thead>\n",
              "  <tbody>\n",
              "    <tr>\n",
              "      <th>0</th>\n",
              "      <td>0</td>\n",
              "      <td>45</td>\n",
              "      <td>13315</td>\n",
              "      <td>NaN</td>\n",
              "      <td>NaN</td>\n",
              "      <td>NaN</td>\n",
              "    </tr>\n",
              "    <tr>\n",
              "      <th>1</th>\n",
              "      <td>0</td>\n",
              "      <td>45</td>\n",
              "      <td>13880</td>\n",
              "      <td>NaN</td>\n",
              "      <td>NaN</td>\n",
              "      <td>NaN</td>\n",
              "    </tr>\n",
              "    <tr>\n",
              "      <th>2</th>\n",
              "      <td>0</td>\n",
              "      <td>45</td>\n",
              "      <td>13881</td>\n",
              "      <td>2.0</td>\n",
              "      <td>549.0</td>\n",
              "      <td>2.0</td>\n",
              "    </tr>\n",
              "    <tr>\n",
              "      <th>3</th>\n",
              "      <td>0</td>\n",
              "      <td>45</td>\n",
              "      <td>13923</td>\n",
              "      <td>NaN</td>\n",
              "      <td>NaN</td>\n",
              "      <td>NaN</td>\n",
              "    </tr>\n",
              "    <tr>\n",
              "      <th>4</th>\n",
              "      <td>0</td>\n",
              "      <td>45</td>\n",
              "      <td>14227</td>\n",
              "      <td>NaN</td>\n",
              "      <td>NaN</td>\n",
              "      <td>NaN</td>\n",
              "    </tr>\n",
              "  </tbody>\n",
              "</table>\n",
              "</div>\n",
              "      <button class=\"colab-df-convert\" onclick=\"convertToInteractive('df-b64d8e4a-0760-474c-aced-86581d950722')\"\n",
              "              title=\"Convert this dataframe to an interactive table.\"\n",
              "              style=\"display:none;\">\n",
              "        \n",
              "  <svg xmlns=\"http://www.w3.org/2000/svg\" height=\"24px\"viewBox=\"0 0 24 24\"\n",
              "       width=\"24px\">\n",
              "    <path d=\"M0 0h24v24H0V0z\" fill=\"none\"/>\n",
              "    <path d=\"M18.56 5.44l.94 2.06.94-2.06 2.06-.94-2.06-.94-.94-2.06-.94 2.06-2.06.94zm-11 1L8.5 8.5l.94-2.06 2.06-.94-2.06-.94L8.5 2.5l-.94 2.06-2.06.94zm10 10l.94 2.06.94-2.06 2.06-.94-2.06-.94-.94-2.06-.94 2.06-2.06.94z\"/><path d=\"M17.41 7.96l-1.37-1.37c-.4-.4-.92-.59-1.43-.59-.52 0-1.04.2-1.43.59L10.3 9.45l-7.72 7.72c-.78.78-.78 2.05 0 2.83L4 21.41c.39.39.9.59 1.41.59.51 0 1.02-.2 1.41-.59l7.78-7.78 2.81-2.81c.8-.78.8-2.07 0-2.86zM5.41 20L4 18.59l7.72-7.72 1.47 1.35L5.41 20z\"/>\n",
              "  </svg>\n",
              "      </button>\n",
              "      \n",
              "  <style>\n",
              "    .colab-df-container {\n",
              "      display:flex;\n",
              "      flex-wrap:wrap;\n",
              "      gap: 12px;\n",
              "    }\n",
              "\n",
              "    .colab-df-convert {\n",
              "      background-color: #E8F0FE;\n",
              "      border: none;\n",
              "      border-radius: 50%;\n",
              "      cursor: pointer;\n",
              "      display: none;\n",
              "      fill: #1967D2;\n",
              "      height: 32px;\n",
              "      padding: 0 0 0 0;\n",
              "      width: 32px;\n",
              "    }\n",
              "\n",
              "    .colab-df-convert:hover {\n",
              "      background-color: #E2EBFA;\n",
              "      box-shadow: 0px 1px 2px rgba(60, 64, 67, 0.3), 0px 1px 3px 1px rgba(60, 64, 67, 0.15);\n",
              "      fill: #174EA6;\n",
              "    }\n",
              "\n",
              "    [theme=dark] .colab-df-convert {\n",
              "      background-color: #3B4455;\n",
              "      fill: #D2E3FC;\n",
              "    }\n",
              "\n",
              "    [theme=dark] .colab-df-convert:hover {\n",
              "      background-color: #434B5C;\n",
              "      box-shadow: 0px 1px 3px 1px rgba(0, 0, 0, 0.15);\n",
              "      filter: drop-shadow(0px 1px 2px rgba(0, 0, 0, 0.3));\n",
              "      fill: #FFFFFF;\n",
              "    }\n",
              "  </style>\n",
              "\n",
              "      <script>\n",
              "        const buttonEl =\n",
              "          document.querySelector('#df-b64d8e4a-0760-474c-aced-86581d950722 button.colab-df-convert');\n",
              "        buttonEl.style.display =\n",
              "          google.colab.kernel.accessAllowed ? 'block' : 'none';\n",
              "\n",
              "        async function convertToInteractive(key) {\n",
              "          const element = document.querySelector('#df-b64d8e4a-0760-474c-aced-86581d950722');\n",
              "          const dataTable =\n",
              "            await google.colab.kernel.invokeFunction('convertToInteractive',\n",
              "                                                     [key], {});\n",
              "          if (!dataTable) return;\n",
              "\n",
              "          const docLinkHtml = 'Like what you see? Visit the ' +\n",
              "            '<a target=\"_blank\" href=https://colab.research.google.com/notebooks/data_table.ipynb>data table notebook</a>'\n",
              "            + ' to learn more about interactive tables.';\n",
              "          element.innerHTML = '';\n",
              "          dataTable['output_type'] = 'display_data';\n",
              "          await google.colab.output.renderOutput(dataTable, element);\n",
              "          const docLink = document.createElement('div');\n",
              "          docLink.innerHTML = docLinkHtml;\n",
              "          element.appendChild(docLink);\n",
              "        }\n",
              "      </script>\n",
              "    </div>\n",
              "  </div>\n",
              "  "
            ]
          },
          "metadata": {},
          "execution_count": 167
        }
      ]
    },
    {
      "cell_type": "markdown",
      "source": [
        "###  피처 엔지니어링 5 : 데이터 합치기\n"
      ],
      "metadata": {
        "id": "CL5b2OAb0Bk9"
      }
    },
    {
      "cell_type": "markdown",
      "source": [
        "#### 테스트 데이터 붙이기"
      ],
      "metadata": {
        "id": "aibGYVzX0LOh"
      }
    },
    {
      "cell_type": "code",
      "source": [
        "test = test.rename(columns={'ID':'월ID'})"
      ],
      "metadata": {
        "id": "bbjRG9SM0x6f"
      },
      "execution_count": 168,
      "outputs": []
    },
    {
      "cell_type": "code",
      "source": [
        "# 테스트 데이터 월ID를 34로 설정\n",
        "test['월ID'] = 34\n",
        "# train과 test 이어 붙이기\n",
        "all_data = pd.concat([train, test.drop('월ID', axis=1)],\n",
        "                            ignore_index=True,\n",
        "                            keys=idx_features)\n",
        "\n",
        "# 결측값을 0으로 대체\n",
        "all_data = all_data.fillna(0)\n",
        "\n",
        "all_data.head()"
      ],
      "metadata": {
        "id": "TzvroSc6zWfs",
        "outputId": "827cc434-b7a0-4c7c-b252-2868ae0cd68a",
        "colab": {
          "base_uri": "https://localhost:8080/",
          "height": 206
        }
      },
      "execution_count": 169,
      "outputs": [
        {
          "output_type": "execute_result",
          "data": {
            "text/plain": [
              "   월ID  상점ID   상품ID  월간 판매량  평균 판매가  판매건수\n",
              "0  0.0    45  13315     0.0     0.0   0.0\n",
              "1  0.0    45  13880     0.0     0.0   0.0\n",
              "2  0.0    45  13881     2.0   549.0   2.0\n",
              "3  0.0    45  13923     0.0     0.0   0.0\n",
              "4  0.0    45  14227     0.0     0.0   0.0"
            ],
            "text/html": [
              "\n",
              "  <div id=\"df-b1381ee7-011e-44ce-8e7f-e8be7e193b77\">\n",
              "    <div class=\"colab-df-container\">\n",
              "      <div>\n",
              "<style scoped>\n",
              "    .dataframe tbody tr th:only-of-type {\n",
              "        vertical-align: middle;\n",
              "    }\n",
              "\n",
              "    .dataframe tbody tr th {\n",
              "        vertical-align: top;\n",
              "    }\n",
              "\n",
              "    .dataframe thead th {\n",
              "        text-align: right;\n",
              "    }\n",
              "</style>\n",
              "<table border=\"1\" class=\"dataframe\">\n",
              "  <thead>\n",
              "    <tr style=\"text-align: right;\">\n",
              "      <th></th>\n",
              "      <th>월ID</th>\n",
              "      <th>상점ID</th>\n",
              "      <th>상품ID</th>\n",
              "      <th>월간 판매량</th>\n",
              "      <th>평균 판매가</th>\n",
              "      <th>판매건수</th>\n",
              "    </tr>\n",
              "  </thead>\n",
              "  <tbody>\n",
              "    <tr>\n",
              "      <th>0</th>\n",
              "      <td>0.0</td>\n",
              "      <td>45</td>\n",
              "      <td>13315</td>\n",
              "      <td>0.0</td>\n",
              "      <td>0.0</td>\n",
              "      <td>0.0</td>\n",
              "    </tr>\n",
              "    <tr>\n",
              "      <th>1</th>\n",
              "      <td>0.0</td>\n",
              "      <td>45</td>\n",
              "      <td>13880</td>\n",
              "      <td>0.0</td>\n",
              "      <td>0.0</td>\n",
              "      <td>0.0</td>\n",
              "    </tr>\n",
              "    <tr>\n",
              "      <th>2</th>\n",
              "      <td>0.0</td>\n",
              "      <td>45</td>\n",
              "      <td>13881</td>\n",
              "      <td>2.0</td>\n",
              "      <td>549.0</td>\n",
              "      <td>2.0</td>\n",
              "    </tr>\n",
              "    <tr>\n",
              "      <th>3</th>\n",
              "      <td>0.0</td>\n",
              "      <td>45</td>\n",
              "      <td>13923</td>\n",
              "      <td>0.0</td>\n",
              "      <td>0.0</td>\n",
              "      <td>0.0</td>\n",
              "    </tr>\n",
              "    <tr>\n",
              "      <th>4</th>\n",
              "      <td>0.0</td>\n",
              "      <td>45</td>\n",
              "      <td>14227</td>\n",
              "      <td>0.0</td>\n",
              "      <td>0.0</td>\n",
              "      <td>0.0</td>\n",
              "    </tr>\n",
              "  </tbody>\n",
              "</table>\n",
              "</div>\n",
              "      <button class=\"colab-df-convert\" onclick=\"convertToInteractive('df-b1381ee7-011e-44ce-8e7f-e8be7e193b77')\"\n",
              "              title=\"Convert this dataframe to an interactive table.\"\n",
              "              style=\"display:none;\">\n",
              "        \n",
              "  <svg xmlns=\"http://www.w3.org/2000/svg\" height=\"24px\"viewBox=\"0 0 24 24\"\n",
              "       width=\"24px\">\n",
              "    <path d=\"M0 0h24v24H0V0z\" fill=\"none\"/>\n",
              "    <path d=\"M18.56 5.44l.94 2.06.94-2.06 2.06-.94-2.06-.94-.94-2.06-.94 2.06-2.06.94zm-11 1L8.5 8.5l.94-2.06 2.06-.94-2.06-.94L8.5 2.5l-.94 2.06-2.06.94zm10 10l.94 2.06.94-2.06 2.06-.94-2.06-.94-.94-2.06-.94 2.06-2.06.94z\"/><path d=\"M17.41 7.96l-1.37-1.37c-.4-.4-.92-.59-1.43-.59-.52 0-1.04.2-1.43.59L10.3 9.45l-7.72 7.72c-.78.78-.78 2.05 0 2.83L4 21.41c.39.39.9.59 1.41.59.51 0 1.02-.2 1.41-.59l7.78-7.78 2.81-2.81c.8-.78.8-2.07 0-2.86zM5.41 20L4 18.59l7.72-7.72 1.47 1.35L5.41 20z\"/>\n",
              "  </svg>\n",
              "      </button>\n",
              "      \n",
              "  <style>\n",
              "    .colab-df-container {\n",
              "      display:flex;\n",
              "      flex-wrap:wrap;\n",
              "      gap: 12px;\n",
              "    }\n",
              "\n",
              "    .colab-df-convert {\n",
              "      background-color: #E8F0FE;\n",
              "      border: none;\n",
              "      border-radius: 50%;\n",
              "      cursor: pointer;\n",
              "      display: none;\n",
              "      fill: #1967D2;\n",
              "      height: 32px;\n",
              "      padding: 0 0 0 0;\n",
              "      width: 32px;\n",
              "    }\n",
              "\n",
              "    .colab-df-convert:hover {\n",
              "      background-color: #E2EBFA;\n",
              "      box-shadow: 0px 1px 2px rgba(60, 64, 67, 0.3), 0px 1px 3px 1px rgba(60, 64, 67, 0.15);\n",
              "      fill: #174EA6;\n",
              "    }\n",
              "\n",
              "    [theme=dark] .colab-df-convert {\n",
              "      background-color: #3B4455;\n",
              "      fill: #D2E3FC;\n",
              "    }\n",
              "\n",
              "    [theme=dark] .colab-df-convert:hover {\n",
              "      background-color: #434B5C;\n",
              "      box-shadow: 0px 1px 3px 1px rgba(0, 0, 0, 0.15);\n",
              "      filter: drop-shadow(0px 1px 2px rgba(0, 0, 0, 0.3));\n",
              "      fill: #FFFFFF;\n",
              "    }\n",
              "  </style>\n",
              "\n",
              "      <script>\n",
              "        const buttonEl =\n",
              "          document.querySelector('#df-b1381ee7-011e-44ce-8e7f-e8be7e193b77 button.colab-df-convert');\n",
              "        buttonEl.style.display =\n",
              "          google.colab.kernel.accessAllowed ? 'block' : 'none';\n",
              "\n",
              "        async function convertToInteractive(key) {\n",
              "          const element = document.querySelector('#df-b1381ee7-011e-44ce-8e7f-e8be7e193b77');\n",
              "          const dataTable =\n",
              "            await google.colab.kernel.invokeFunction('convertToInteractive',\n",
              "                                                     [key], {});\n",
              "          if (!dataTable) return;\n",
              "\n",
              "          const docLinkHtml = 'Like what you see? Visit the ' +\n",
              "            '<a target=\"_blank\" href=https://colab.research.google.com/notebooks/data_table.ipynb>data table notebook</a>'\n",
              "            + ' to learn more about interactive tables.';\n",
              "          element.innerHTML = '';\n",
              "          dataTable['output_type'] = 'display_data';\n",
              "          await google.colab.output.renderOutput(dataTable, element);\n",
              "          const docLink = document.createElement('div');\n",
              "          docLink.innerHTML = docLinkHtml;\n",
              "          element.appendChild(docLink);\n",
              "        }\n",
              "      </script>\n",
              "    </div>\n",
              "  </div>\n",
              "  "
            ]
          },
          "metadata": {},
          "execution_count": 169
        }
      ]
    },
    {
      "cell_type": "markdown",
      "source": [
        "all_data = train에 test데이터를 이어붙임"
      ],
      "metadata": {
        "id": "mRN9wXpt8q75"
      }
    },
    {
      "cell_type": "markdown",
      "source": [
        "#### 모든 데이터 병합 및 다운캐스팅"
      ],
      "metadata": {
        "id": "hNSdtBTu8vK9"
      }
    },
    {
      "cell_type": "code",
      "source": [
        "# 나머지 데이터 병합\n",
        "all_data = all_data.merge(shops, on='상점ID', how='left')\n",
        "all_data = all_data.merge(items, on='상품ID', how='left')\n",
        "all_data = all_data.merge(item_categories, on='상품분류ID', how='left')\n",
        "\n",
        "# 데이터 다운캐스팅\n",
        "all_data = downcast(all_data)"
      ],
      "metadata": {
        "id": "3lbWAim81fGh",
        "outputId": "fbad56a1-7e88-4242-be3d-2b73635d2c49",
        "colab": {
          "base_uri": "https://localhost:8080/"
        }
      },
      "execution_count": 170,
      "outputs": [
        {
          "output_type": "stream",
          "name": "stdout",
          "text": [
            "64.1% 압축됨\n"
          ]
        }
      ]
    },
    {
      "cell_type": "markdown",
      "source": [
        "### 피처 엔지니어링 6 : 시차 피처 생성\n",
        " - 시차 피처는 시계열 문제의 성능향상에 도움\n",
        " - 기준으로 삼을 피처 : 경진대회 타깃값인 '월간 평균 판매량'"
      ],
      "metadata": {
        "id": "3bzaiGjI_H0e"
      }
    },
    {
      "cell_type": "markdown",
      "source": [
        "#### 기준 피처별 월간 평균 판매량 파생 피처 생성\n",
        " - 1.상점별 월간 평균 판매량\n",
        " - 2.상품별 월간 평균 판매량\n",
        " - 3.상점별 상품별 월간 평균 판매량\n",
        "\n",
        "\n",
        " - 기준 피처로 그룹화해 월간 평균 판매량을 구해주는 함수\n",
        "```\n",
        "df : 작업할 전체 데이터(DataFrame)\n",
        "mean_features : 새로 만든 월간 평균 판매량 파생 피처명을 저장하는 리스트\n",
        "idx_features : 기준 피처\n",
        "```\n",
        "\n"
      ],
      "metadata": {
        "id": "hnUHtY7f_iof"
      }
    },
    {
      "cell_type": "code",
      "source": [
        "def add_mean_features(df, mean_features, idx_features):\n",
        "    # 기준 피처 확인\n",
        "    assert (idx_features[0] == '월ID') and len(idx_features) in [2, 3]\n",
        "    # assert : 가정설정문(if문, except문을 사용해도 됨), assert이후가 참이여야 진행(False면 에러)\n",
        "\n",
        "    # 파생 피처명 설정\n",
        "    if len(idx_features) == 2:\n",
        "        feature_name = idx_features[1] + '별 평균 판매량'\n",
        "    else:\n",
        "        feature_name = idx_features[1] + ' ' + idx_features[2] + '별 평균 판매량'\n",
        "    \n",
        "    # 기준 피처를 토대로 그룹화해 월간 평균 판매량 구하기\n",
        "    group = df.groupby(idx_features).agg({'월간 판매량' : 'mean'})\n",
        "    group = group.reset_index()\n",
        "    group = group.rename(columns={'월간 판매량' : feature_name})\n",
        "\n",
        "    # df와 group병합\n",
        "    df = df.merge(group, on=idx_features, how='left')\n",
        "    # 데이터 다운캐스팅\n",
        "    df = downcast(df, verbose=False)\n",
        "\n",
        "    # 새로 만든 feature_name 피처명을 mean_features 리스트에 추가\n",
        "    mean_features.append(feature_name)\n",
        "\n",
        "    return df, mean_features    # 함수를 실행하면서 변수 두개에 나눠 담을 예정"
      ],
      "metadata": {
        "id": "jQc3yqDS_Euq"
      },
      "execution_count": 171,
      "outputs": []
    },
    {
      "cell_type": "markdown",
      "source": [
        " - ['월ID', '상품ID'] 로 그룹화한 월간 평균판매량\n",
        " - ['월ID', '상품ID', '도시'] 로 그룹화한 월간 평균판매량"
      ],
      "metadata": {
        "id": "nurKkx6XD1DT"
      }
    },
    {
      "cell_type": "code",
      "source": [
        "# '상품ID'가 포함된 파생 피처명을 담을 리스트\n",
        "item_mean_features = []\n",
        "\n",
        "#  ['월ID', '상품ID'] 로 그룹화한 월간 평균판매량 파생 피처\n",
        "all_data, item_mean_features = add_mean_features(df=all_data,\n",
        "                                                 mean_features=item_mean_features,\n",
        "                                                 idx_features=['월ID', '상품ID'])\n",
        "\n",
        "#  ['월ID', '상품ID', '도시'] 로 그룹화한 월간 평균판매량 파생 피처\n",
        "all_data, item_mean_features = add_mean_features(df=all_data,\n",
        "                                                 mean_features=item_mean_features,\n",
        "                                                 idx_features=['월ID', '상품ID', '도시'])"
      ],
      "metadata": {
        "id": "8vT3EfgJ_AVE"
      },
      "execution_count": 172,
      "outputs": []
    },
    {
      "cell_type": "code",
      "source": [
        "item_mean_features"
      ],
      "metadata": {
        "id": "4Xjk9BgMEpXp",
        "outputId": "2aed4db1-300d-4942-bd29-9841d8cc5c28",
        "colab": {
          "base_uri": "https://localhost:8080/"
        }
      },
      "execution_count": 173,
      "outputs": [
        {
          "output_type": "execute_result",
          "data": {
            "text/plain": [
              "['상품ID별 평균 판매량', '상품ID 도시별 평균 판매량']"
            ]
          },
          "metadata": {},
          "execution_count": 173
        }
      ]
    },
    {
      "cell_type": "markdown",
      "source": [
        " - 추후 이 리스트에 저장된 파생 피처를 활용해 추가적인 피처 엔지니어링 적용 : 시차 피처 생성"
      ],
      "metadata": {
        "id": "e8Q5XPA1GfDg"
      }
    },
    {
      "cell_type": "markdown",
      "source": [
        " - ['월ID', '상점ID', '상품분류ID']로 그룹화한 월간 평균판매량"
      ],
      "metadata": {
        "id": "_dDxGte_GNam"
      }
    },
    {
      "cell_type": "code",
      "source": [
        "# '상점ID'가 포함된 파생 피처명을 담을 리스트\n",
        "shop_mean_features = []\n",
        "\n",
        "# ['월ID', '상점ID', '상품분류ID']로 그룹화한 월간 평균판매량 파생 피처\n",
        "all_data, shop_mean_features = add_mean_features(df=all_data,\n",
        "                                                 mean_features=shop_mean_features,\n",
        "                                                 idx_features=['월ID', '상점ID', '상품분류ID'])"
      ],
      "metadata": {
        "id": "WvI0whlGF9eV"
      },
      "execution_count": 174,
      "outputs": []
    },
    {
      "cell_type": "code",
      "source": [
        "shop_mean_features"
      ],
      "metadata": {
        "id": "5fiupb_SHCky",
        "outputId": "f57bb94e-86aa-42d3-ee62-098fcc984c7c",
        "colab": {
          "base_uri": "https://localhost:8080/"
        }
      },
      "execution_count": 175,
      "outputs": [
        {
          "output_type": "execute_result",
          "data": {
            "text/plain": [
              "['상점ID 상품분류ID별 평균 판매량']"
            ]
          },
          "metadata": {},
          "execution_count": 175
        }
      ]
    },
    {
      "cell_type": "markdown",
      "source": [
        "#### 시차 피처 생성 원리 및 함수 구현\n",
        " - 지금까지 만든 기준 피처별 월간 평균 판매량 피처\n",
        "  \n",
        "  > 1.상품ID별 평균 판매량\n",
        "\n",
        "  > 2.상품ID + 도시별 평균 판매량\n",
        "\n",
        "  > 3.상품ID + 상품범주별 평균 판매량\n",
        "\n",
        " - 현시점 데이터에 과거 시점 데이터를 추가하는 개념\n",
        " - 시점이 너무 과거인 경우 예측력이 오히려 떨어짐"
      ],
      "metadata": {
        "id": "xxtXVBwQHtZ1"
      }
    },
    {
      "cell_type": "markdown",
      "source": [
        "![시차피처.PNG](data:image/png;base64,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)"
      ],
      "metadata": {
        "id": "M0OHQf8PIRKk"
      }
    },
    {
      "cell_type": "markdown",
      "source": [
        " - add_lag_features() : 시차 피처를 추가하는 함수\n",
        " - 파라미터\n",
        "\n",
        "  > df : 원본데이터\n",
        "\n",
        "  > lag_features_to_clip : '값의 범위를 0~20사이로 제한할 피처'를 담을 리스트\n",
        "\n",
        "  > idx_features : 기준 피처\n",
        "\n",
        "  > lag_feature : 시차를 만들 피처\n",
        "\n",
        "  > nlags : 시차\n",
        "   - 1 = 한 달 전 시차 피처만 생성\n",
        "   - 2 = 한 달 전, 두 달 전 시차 피처 생성\n",
        "   - 3 = 한 달 전, 두 달 전, 세 달 전 시차 피처 생성\n",
        "  \n",
        "  > clip : 새로 만들 시차 피처를 lag_features_to_clip 리스트에 저장할 지 여부(True/False)"
      ],
      "metadata": {
        "id": "xqKke32Sc5k8"
      }
    },
    {
      "cell_type": "code",
      "source": [
        "def add_lag_features(df, lag_features_to_clip, idx_features,\n",
        "                     lag_feature, nlags=3, clip=False):\n",
        "    # 시차 피처 생성에 필요한 DatfaFrame 부분만 복사\n",
        "    df_temp = df[idx_features + [lag_feature]].copy()\n",
        "    # 리스트와 문자열은 바로 합칠 수 없다 → 리스트 + [문자열]\n",
        "\n",
        "    # 시차 피처 생성\n",
        "    for i in range(1, nlags+1):\n",
        "        # 시차 피처명\n",
        "        lag_feature_name = lag_feature + '_시차' + str(i)\n",
        "        # df_temp 열 이름 설정\n",
        "        df_temp.columns = idx_features + [lag_feature_name]\n",
        "        # df_temp의 date_block_num 피처에 i 더하기\n",
        "        df_temp['월ID'] += i\n",
        "        # idx_feature를 기준으로 df와 df_temp 병합하기\n",
        "        df = df.merge(df_temp.drop_duplicates(),\n",
        "                      on=idx_features,\n",
        "                      how='left')\n",
        "        # 결측값 0으로 대체\n",
        "        df[lag_feature_name] = df[lag_feature_name].fillna(0)\n",
        "        # 0~20 사이로 세한할 시차 피처명을 lag_features_to_clip에 추가\n",
        "        if clip:\n",
        "            lag_features_to_clip.append(lag_feature_name)\n",
        "\n",
        "    # 데이터 다운캐스팅\n",
        "    df = downcast(df, False)\n",
        "\n",
        "    return df, lag_features_to_clip"
      ],
      "metadata": {
        "id": "2QqaQSltHELN"
      },
      "execution_count": 176,
      "outputs": []
    },
    {
      "cell_type": "markdown",
      "source": [
        "#### 시차 피처 생성 1 : 월간 판매량\n",
        " - 기준피처 : '월ID', '상점ID', '상품ID'\n",
        " - 월간 판매량의 세달치 파생 피처 생성"
      ],
      "metadata": {
        "id": "oZI7uy_5fDGf"
      }
    },
    {
      "cell_type": "code",
      "source": [
        "lag_features_to_clip = [] # 0~20 사이로 제한할 시차 피처명을 담을 리스트\n",
        "idx_features = ['월ID', '상점ID', '상품ID']\n",
        "\n",
        "# idx_features를 기준으로 월간 판매량의 세달치 시차 피처 생성\n",
        "all_data, lag_features_to_clip = add_lag_features(df=all_data,\n",
        "                                                  lag_features_to_clip=lag_features_to_clip,\n",
        "                                                  idx_features=idx_features,\n",
        "                                                  lag_feature='월간 판매량',\n",
        "                                                  nlags=3,\n",
        "                                                  clip=True)    # 값을 0~20 사이로 제한"
      ],
      "metadata": {
        "id": "NbAAfZCMe9dk"
      },
      "execution_count": 177,
      "outputs": []
    },
    {
      "cell_type": "code",
      "source": [
        "all_data.head()"
      ],
      "metadata": {
        "id": "mBjPQNB4gr3v",
        "outputId": "5364928a-67ea-4d4f-a946-19af1c40c3a1",
        "colab": {
          "base_uri": "https://localhost:8080/",
          "height": 424
        }
      },
      "execution_count": 178,
      "outputs": [
        {
          "output_type": "execute_result",
          "data": {
            "text/plain": [
              "   월ID  상점ID   상품ID  월간 판매량  평균 판매가  판매건수  도시  상품분류ID  첫 판매월  대분류  \\\n",
              "0    0    45  13315       0     0.0     0  20      47     31    6   \n",
              "1    0    45  13880       0     0.0     0  20      55     21    7   \n",
              "2    0    45  13881       2   549.0     2  20      55      0    7   \n",
              "3    0    45  13923       0     0.0     0  20      40      0    5   \n",
              "4    0    45  14227       0     0.0     0  20      30     10    3   \n",
              "\n",
              "   상품ID별 평균 판매량  상품ID 도시별 평균 판매량  상점ID 상품분류ID별 평균 판매량  월간 판매량_시차1  월간 판매량_시차2  \\\n",
              "0      0.000000             0.00             0.000000           0           0   \n",
              "1      0.000000             0.00             0.060358           0           0   \n",
              "2      1.360465             0.50             0.060358           0           0   \n",
              "3      0.500000             0.25             0.034018           0           0   \n",
              "4      0.000000             0.00             0.411150           0           0   \n",
              "\n",
              "   월간 판매량_시차3  \n",
              "0           0  \n",
              "1           0  \n",
              "2           0  \n",
              "3           0  \n",
              "4           0  "
            ],
            "text/html": [
              "\n",
              "  <div id=\"df-cf188a57-0198-4434-ba86-ab2df9f0e76d\">\n",
              "    <div class=\"colab-df-container\">\n",
              "      <div>\n",
              "<style scoped>\n",
              "    .dataframe tbody tr th:only-of-type {\n",
              "        vertical-align: middle;\n",
              "    }\n",
              "\n",
              "    .dataframe tbody tr th {\n",
              "        vertical-align: top;\n",
              "    }\n",
              "\n",
              "    .dataframe thead th {\n",
              "        text-align: right;\n",
              "    }\n",
              "</style>\n",
              "<table border=\"1\" class=\"dataframe\">\n",
              "  <thead>\n",
              "    <tr style=\"text-align: right;\">\n",
              "      <th></th>\n",
              "      <th>월ID</th>\n",
              "      <th>상점ID</th>\n",
              "      <th>상품ID</th>\n",
              "      <th>월간 판매량</th>\n",
              "      <th>평균 판매가</th>\n",
              "      <th>판매건수</th>\n",
              "      <th>도시</th>\n",
              "      <th>상품분류ID</th>\n",
              "      <th>첫 판매월</th>\n",
              "      <th>대분류</th>\n",
              "      <th>상품ID별 평균 판매량</th>\n",
              "      <th>상품ID 도시별 평균 판매량</th>\n",
              "      <th>상점ID 상품분류ID별 평균 판매량</th>\n",
              "      <th>월간 판매량_시차1</th>\n",
              "      <th>월간 판매량_시차2</th>\n",
              "      <th>월간 판매량_시차3</th>\n",
              "    </tr>\n",
              "  </thead>\n",
              "  <tbody>\n",
              "    <tr>\n",
              "      <th>0</th>\n",
              "      <td>0</td>\n",
              "      <td>45</td>\n",
              "      <td>13315</td>\n",
              "      <td>0</td>\n",
              "      <td>0.0</td>\n",
              "      <td>0</td>\n",
              "      <td>20</td>\n",
              "      <td>47</td>\n",
              "      <td>31</td>\n",
              "      <td>6</td>\n",
              "      <td>0.000000</td>\n",
              "      <td>0.00</td>\n",
              "      <td>0.000000</td>\n",
              "      <td>0</td>\n",
              "      <td>0</td>\n",
              "      <td>0</td>\n",
              "    </tr>\n",
              "    <tr>\n",
              "      <th>1</th>\n",
              "      <td>0</td>\n",
              "      <td>45</td>\n",
              "      <td>13880</td>\n",
              "      <td>0</td>\n",
              "      <td>0.0</td>\n",
              "      <td>0</td>\n",
              "      <td>20</td>\n",
              "      <td>55</td>\n",
              "      <td>21</td>\n",
              "      <td>7</td>\n",
              "      <td>0.000000</td>\n",
              "      <td>0.00</td>\n",
              "      <td>0.060358</td>\n",
              "      <td>0</td>\n",
              "      <td>0</td>\n",
              "      <td>0</td>\n",
              "    </tr>\n",
              "    <tr>\n",
              "      <th>2</th>\n",
              "      <td>0</td>\n",
              "      <td>45</td>\n",
              "      <td>13881</td>\n",
              "      <td>2</td>\n",
              "      <td>549.0</td>\n",
              "      <td>2</td>\n",
              "      <td>20</td>\n",
              "      <td>55</td>\n",
              "      <td>0</td>\n",
              "      <td>7</td>\n",
              "      <td>1.360465</td>\n",
              "      <td>0.50</td>\n",
              "      <td>0.060358</td>\n",
              "      <td>0</td>\n",
              "      <td>0</td>\n",
              "      <td>0</td>\n",
              "    </tr>\n",
              "    <tr>\n",
              "      <th>3</th>\n",
              "      <td>0</td>\n",
              "      <td>45</td>\n",
              "      <td>13923</td>\n",
              "      <td>0</td>\n",
              "      <td>0.0</td>\n",
              "      <td>0</td>\n",
              "      <td>20</td>\n",
              "      <td>40</td>\n",
              "      <td>0</td>\n",
              "      <td>5</td>\n",
              "      <td>0.500000</td>\n",
              "      <td>0.25</td>\n",
              "      <td>0.034018</td>\n",
              "      <td>0</td>\n",
              "      <td>0</td>\n",
              "      <td>0</td>\n",
              "    </tr>\n",
              "    <tr>\n",
              "      <th>4</th>\n",
              "      <td>0</td>\n",
              "      <td>45</td>\n",
              "      <td>14227</td>\n",
              "      <td>0</td>\n",
              "      <td>0.0</td>\n",
              "      <td>0</td>\n",
              "      <td>20</td>\n",
              "      <td>30</td>\n",
              "      <td>10</td>\n",
              "      <td>3</td>\n",
              "      <td>0.000000</td>\n",
              "      <td>0.00</td>\n",
              "      <td>0.411150</td>\n",
              "      <td>0</td>\n",
              "      <td>0</td>\n",
              "      <td>0</td>\n",
              "    </tr>\n",
              "  </tbody>\n",
              "</table>\n",
              "</div>\n",
              "      <button class=\"colab-df-convert\" onclick=\"convertToInteractive('df-cf188a57-0198-4434-ba86-ab2df9f0e76d')\"\n",
              "              title=\"Convert this dataframe to an interactive table.\"\n",
              "              style=\"display:none;\">\n",
              "        \n",
              "  <svg xmlns=\"http://www.w3.org/2000/svg\" height=\"24px\"viewBox=\"0 0 24 24\"\n",
              "       width=\"24px\">\n",
              "    <path d=\"M0 0h24v24H0V0z\" fill=\"none\"/>\n",
              "    <path d=\"M18.56 5.44l.94 2.06.94-2.06 2.06-.94-2.06-.94-.94-2.06-.94 2.06-2.06.94zm-11 1L8.5 8.5l.94-2.06 2.06-.94-2.06-.94L8.5 2.5l-.94 2.06-2.06.94zm10 10l.94 2.06.94-2.06 2.06-.94-2.06-.94-.94-2.06-.94 2.06-2.06.94z\"/><path d=\"M17.41 7.96l-1.37-1.37c-.4-.4-.92-.59-1.43-.59-.52 0-1.04.2-1.43.59L10.3 9.45l-7.72 7.72c-.78.78-.78 2.05 0 2.83L4 21.41c.39.39.9.59 1.41.59.51 0 1.02-.2 1.41-.59l7.78-7.78 2.81-2.81c.8-.78.8-2.07 0-2.86zM5.41 20L4 18.59l7.72-7.72 1.47 1.35L5.41 20z\"/>\n",
              "  </svg>\n",
              "      </button>\n",
              "      \n",
              "  <style>\n",
              "    .colab-df-container {\n",
              "      display:flex;\n",
              "      flex-wrap:wrap;\n",
              "      gap: 12px;\n",
              "    }\n",
              "\n",
              "    .colab-df-convert {\n",
              "      background-color: #E8F0FE;\n",
              "      border: none;\n",
              "      border-radius: 50%;\n",
              "      cursor: pointer;\n",
              "      display: none;\n",
              "      fill: #1967D2;\n",
              "      height: 32px;\n",
              "      padding: 0 0 0 0;\n",
              "      width: 32px;\n",
              "    }\n",
              "\n",
              "    .colab-df-convert:hover {\n",
              "      background-color: #E2EBFA;\n",
              "      box-shadow: 0px 1px 2px rgba(60, 64, 67, 0.3), 0px 1px 3px 1px rgba(60, 64, 67, 0.15);\n",
              "      fill: #174EA6;\n",
              "    }\n",
              "\n",
              "    [theme=dark] .colab-df-convert {\n",
              "      background-color: #3B4455;\n",
              "      fill: #D2E3FC;\n",
              "    }\n",
              "\n",
              "    [theme=dark] .colab-df-convert:hover {\n",
              "      background-color: #434B5C;\n",
              "      box-shadow: 0px 1px 3px 1px rgba(0, 0, 0, 0.15);\n",
              "      filter: drop-shadow(0px 1px 2px rgba(0, 0, 0, 0.3));\n",
              "      fill: #FFFFFF;\n",
              "    }\n",
              "  </style>\n",
              "\n",
              "      <script>\n",
              "        const buttonEl =\n",
              "          document.querySelector('#df-cf188a57-0198-4434-ba86-ab2df9f0e76d button.colab-df-convert');\n",
              "        buttonEl.style.display =\n",
              "          google.colab.kernel.accessAllowed ? 'block' : 'none';\n",
              "\n",
              "        async function convertToInteractive(key) {\n",
              "          const element = document.querySelector('#df-cf188a57-0198-4434-ba86-ab2df9f0e76d');\n",
              "          const dataTable =\n",
              "            await google.colab.kernel.invokeFunction('convertToInteractive',\n",
              "                                                     [key], {});\n",
              "          if (!dataTable) return;\n",
              "\n",
              "          const docLinkHtml = 'Like what you see? Visit the ' +\n",
              "            '<a target=\"_blank\" href=https://colab.research.google.com/notebooks/data_table.ipynb>data table notebook</a>'\n",
              "            + ' to learn more about interactive tables.';\n",
              "          element.innerHTML = '';\n",
              "          dataTable['output_type'] = 'display_data';\n",
              "          await google.colab.output.renderOutput(dataTable, element);\n",
              "          const docLink = document.createElement('div');\n",
              "          docLink.innerHTML = docLinkHtml;\n",
              "          element.appendChild(docLink);\n",
              "        }\n",
              "      </script>\n",
              "    </div>\n",
              "  </div>\n",
              "  "
            ]
          },
          "metadata": {},
          "execution_count": 178
        }
      ]
    },
    {
      "cell_type": "code",
      "source": [
        "lag_features_to_clip"
      ],
      "metadata": {
        "id": "I5Nni-2whCR_",
        "outputId": "2ceef262-33e3-4cc7-f715-eca72a307be7",
        "colab": {
          "base_uri": "https://localhost:8080/"
        }
      },
      "execution_count": 179,
      "outputs": [
        {
          "output_type": "execute_result",
          "data": {
            "text/plain": [
              "['월간 판매량_시차1', '월간 판매량_시차2', '월간 판매량_시차3']"
            ]
          },
          "metadata": {},
          "execution_count": 179
        }
      ]
    },
    {
      "cell_type": "markdown",
      "source": [
        " - 새로 만든 세 피처의 이름은 lag_features_to_clip에 저장됨"
      ],
      "metadata": {
        "id": "QKdsOY0lhPg6"
      }
    },
    {
      "cell_type": "markdown",
      "source": [
        "#### 시차 피처 생성 2 : 판매 건수, 평균 판매가\n",
        " - 타깃값이 아니기때문에 0~20사이로 제한할 필요X"
      ],
      "metadata": {
        "id": "r2HFmC5ohTmq"
      }
    },
    {
      "cell_type": "code",
      "source": [
        "# idx_features를 기준으로 판매 건수의 세달치 시차 피처 생성\n",
        "all_data, lag_features_to_clip = add_lag_features(df=all_data,\n",
        "                                                  lag_features_to_clip=lag_features_to_clip,\n",
        "                                                  idx_features=idx_features,\n",
        "                                                  lag_feature='판매건수',\n",
        "                                                  nlags=3,\n",
        "                                                  clip=False)    # 값을 0~20 사이로 제한\n",
        "                                                \n",
        "# idx_features를 기준으로 평균 판매가 피처의 세달치 시차 피처 생성\n",
        "all_data, lag_features_to_clip = add_lag_features(df=all_data,\n",
        "                                                  lag_features_to_clip=lag_features_to_clip,\n",
        "                                                  idx_features=idx_features,\n",
        "                                                  lag_feature='평균 판매가',\n",
        "                                                  nlags=3,\n",
        "                                                  clip=False)    # 값을 0~20 사이로 제한"
      ],
      "metadata": {
        "id": "8vTrTwdfhOV_"
      },
      "execution_count": 180,
      "outputs": []
    },
    {
      "cell_type": "markdown",
      "source": [
        "### 시차 피처 생성 3 : 평균 판매량"
      ],
      "metadata": {
        "id": "HS2Tv8E_h_oE"
      }
    },
    {
      "cell_type": "markdown",
      "source": [
        " - item_mean_features에 저장된 ['상품ID별 평균 판매량', '상품ID 도시별 평균 판매량']\n",
        " - 두 피처 값에 대해 시차 피처생성"
      ],
      "metadata": {
        "id": "KBa01JoGiaOL"
      }
    },
    {
      "cell_type": "code",
      "source": [
        "# idx_features를 기준으로 item_mean_features 요소별 시차 피처 생성\n",
        "for item_mean_feature in item_mean_features:\n",
        "    all_data, lag_features_to_clip = add_lag_features(df=all_data,\n",
        "                                                    lag_features_to_clip=lag_features_to_clip,\n",
        "                                                    idx_features=idx_features,\n",
        "                                                    lag_feature=item_mean_feature,\n",
        "                                                    nlags=3,\n",
        "                                                    clip=True)    # 값을 0~20 사이로 제한"
      ],
      "metadata": {
        "id": "Nr0UsYKCinI_"
      },
      "execution_count": 181,
      "outputs": []
    },
    {
      "cell_type": "code",
      "source": [
        "# 시차 피처 만든 후 all_data에서 item_mean_features에 저장된 피처 제거\n",
        "# 이 피처들은 시차 피처를 만드는데 필요할 뿐 모델링에 사용하지 않음\n",
        "all_data = all_data.drop(item_mean_features, axis=1)\n",
        "all_data.head()"
      ],
      "metadata": {
        "id": "9ypN8ViIjUIF",
        "outputId": "34226469-68ea-4ec9-f715-6e75b7ae314a",
        "colab": {
          "base_uri": "https://localhost:8080/",
          "height": 543
        }
      },
      "execution_count": 182,
      "outputs": [
        {
          "output_type": "execute_result",
          "data": {
            "text/plain": [
              "   월ID  상점ID   상품ID  월간 판매량  평균 판매가  판매건수  도시  상품분류ID  첫 판매월  대분류  ...  \\\n",
              "0    0    45  13315       0     0.0     0  20      47     31    6  ...   \n",
              "1    0    45  13880       0     0.0     0  20      55     21    7  ...   \n",
              "2    0    45  13881       2   549.0     2  20      55      0    7  ...   \n",
              "3    0    45  13923       0     0.0     0  20      40      0    5  ...   \n",
              "4    0    45  14227       0     0.0     0  20      30     10    3  ...   \n",
              "\n",
              "   판매건수_시차3  평균 판매가_시차1  평균 판매가_시차2  평균 판매가_시차3  상품ID별 평균 판매량_시차1  \\\n",
              "0         0         0.0         0.0         0.0               0.0   \n",
              "1         0         0.0         0.0         0.0               0.0   \n",
              "2         0         0.0         0.0         0.0               0.0   \n",
              "3         0         0.0         0.0         0.0               0.0   \n",
              "4         0         0.0         0.0         0.0               0.0   \n",
              "\n",
              "   상품ID별 평균 판매량_시차2  상품ID별 평균 판매량_시차3  상품ID 도시별 평균 판매량_시차1  \\\n",
              "0               0.0               0.0                  0.0   \n",
              "1               0.0               0.0                  0.0   \n",
              "2               0.0               0.0                  0.0   \n",
              "3               0.0               0.0                  0.0   \n",
              "4               0.0               0.0                  0.0   \n",
              "\n",
              "   상품ID 도시별 평균 판매량_시차2  상품ID 도시별 평균 판매량_시차3  \n",
              "0                  0.0                  0.0  \n",
              "1                  0.0                  0.0  \n",
              "2                  0.0                  0.0  \n",
              "3                  0.0                  0.0  \n",
              "4                  0.0                  0.0  \n",
              "\n",
              "[5 rows x 26 columns]"
            ],
            "text/html": [
              "\n",
              "  <div id=\"df-65301ec6-d1f2-4e6c-a9e0-a6faca6d92d1\">\n",
              "    <div class=\"colab-df-container\">\n",
              "      <div>\n",
              "<style scoped>\n",
              "    .dataframe tbody tr th:only-of-type {\n",
              "        vertical-align: middle;\n",
              "    }\n",
              "\n",
              "    .dataframe tbody tr th {\n",
              "        vertical-align: top;\n",
              "    }\n",
              "\n",
              "    .dataframe thead th {\n",
              "        text-align: right;\n",
              "    }\n",
              "</style>\n",
              "<table border=\"1\" class=\"dataframe\">\n",
              "  <thead>\n",
              "    <tr style=\"text-align: right;\">\n",
              "      <th></th>\n",
              "      <th>월ID</th>\n",
              "      <th>상점ID</th>\n",
              "      <th>상품ID</th>\n",
              "      <th>월간 판매량</th>\n",
              "      <th>평균 판매가</th>\n",
              "      <th>판매건수</th>\n",
              "      <th>도시</th>\n",
              "      <th>상품분류ID</th>\n",
              "      <th>첫 판매월</th>\n",
              "      <th>대분류</th>\n",
              "      <th>...</th>\n",
              "      <th>판매건수_시차3</th>\n",
              "      <th>평균 판매가_시차1</th>\n",
              "      <th>평균 판매가_시차2</th>\n",
              "      <th>평균 판매가_시차3</th>\n",
              "      <th>상품ID별 평균 판매량_시차1</th>\n",
              "      <th>상품ID별 평균 판매량_시차2</th>\n",
              "      <th>상품ID별 평균 판매량_시차3</th>\n",
              "      <th>상품ID 도시별 평균 판매량_시차1</th>\n",
              "      <th>상품ID 도시별 평균 판매량_시차2</th>\n",
              "      <th>상품ID 도시별 평균 판매량_시차3</th>\n",
              "    </tr>\n",
              "  </thead>\n",
              "  <tbody>\n",
              "    <tr>\n",
              "      <th>0</th>\n",
              "      <td>0</td>\n",
              "      <td>45</td>\n",
              "      <td>13315</td>\n",
              "      <td>0</td>\n",
              "      <td>0.0</td>\n",
              "      <td>0</td>\n",
              "      <td>20</td>\n",
              "      <td>47</td>\n",
              "      <td>31</td>\n",
              "      <td>6</td>\n",
              "      <td>...</td>\n",
              "      <td>0</td>\n",
              "      <td>0.0</td>\n",
              "      <td>0.0</td>\n",
              "      <td>0.0</td>\n",
              "      <td>0.0</td>\n",
              "      <td>0.0</td>\n",
              "      <td>0.0</td>\n",
              "      <td>0.0</td>\n",
              "      <td>0.0</td>\n",
              "      <td>0.0</td>\n",
              "    </tr>\n",
              "    <tr>\n",
              "      <th>1</th>\n",
              "      <td>0</td>\n",
              "      <td>45</td>\n",
              "      <td>13880</td>\n",
              "      <td>0</td>\n",
              "      <td>0.0</td>\n",
              "      <td>0</td>\n",
              "      <td>20</td>\n",
              "      <td>55</td>\n",
              "      <td>21</td>\n",
              "      <td>7</td>\n",
              "      <td>...</td>\n",
              "      <td>0</td>\n",
              "      <td>0.0</td>\n",
              "      <td>0.0</td>\n",
              "      <td>0.0</td>\n",
              "      <td>0.0</td>\n",
              "      <td>0.0</td>\n",
              "      <td>0.0</td>\n",
              "      <td>0.0</td>\n",
              "      <td>0.0</td>\n",
              "      <td>0.0</td>\n",
              "    </tr>\n",
              "    <tr>\n",
              "      <th>2</th>\n",
              "      <td>0</td>\n",
              "      <td>45</td>\n",
              "      <td>13881</td>\n",
              "      <td>2</td>\n",
              "      <td>549.0</td>\n",
              "      <td>2</td>\n",
              "      <td>20</td>\n",
              "      <td>55</td>\n",
              "      <td>0</td>\n",
              "      <td>7</td>\n",
              "      <td>...</td>\n",
              "      <td>0</td>\n",
              "      <td>0.0</td>\n",
              "      <td>0.0</td>\n",
              "      <td>0.0</td>\n",
              "      <td>0.0</td>\n",
              "      <td>0.0</td>\n",
              "      <td>0.0</td>\n",
              "      <td>0.0</td>\n",
              "      <td>0.0</td>\n",
              "      <td>0.0</td>\n",
              "    </tr>\n",
              "    <tr>\n",
              "      <th>3</th>\n",
              "      <td>0</td>\n",
              "      <td>45</td>\n",
              "      <td>13923</td>\n",
              "      <td>0</td>\n",
              "      <td>0.0</td>\n",
              "      <td>0</td>\n",
              "      <td>20</td>\n",
              "      <td>40</td>\n",
              "      <td>0</td>\n",
              "      <td>5</td>\n",
              "      <td>...</td>\n",
              "      <td>0</td>\n",
              "      <td>0.0</td>\n",
              "      <td>0.0</td>\n",
              "      <td>0.0</td>\n",
              "      <td>0.0</td>\n",
              "      <td>0.0</td>\n",
              "      <td>0.0</td>\n",
              "      <td>0.0</td>\n",
              "      <td>0.0</td>\n",
              "      <td>0.0</td>\n",
              "    </tr>\n",
              "    <tr>\n",
              "      <th>4</th>\n",
              "      <td>0</td>\n",
              "      <td>45</td>\n",
              "      <td>14227</td>\n",
              "      <td>0</td>\n",
              "      <td>0.0</td>\n",
              "      <td>0</td>\n",
              "      <td>20</td>\n",
              "      <td>30</td>\n",
              "      <td>10</td>\n",
              "      <td>3</td>\n",
              "      <td>...</td>\n",
              "      <td>0</td>\n",
              "      <td>0.0</td>\n",
              "      <td>0.0</td>\n",
              "      <td>0.0</td>\n",
              "      <td>0.0</td>\n",
              "      <td>0.0</td>\n",
              "      <td>0.0</td>\n",
              "      <td>0.0</td>\n",
              "      <td>0.0</td>\n",
              "      <td>0.0</td>\n",
              "    </tr>\n",
              "  </tbody>\n",
              "</table>\n",
              "<p>5 rows × 26 columns</p>\n",
              "</div>\n",
              "      <button class=\"colab-df-convert\" onclick=\"convertToInteractive('df-65301ec6-d1f2-4e6c-a9e0-a6faca6d92d1')\"\n",
              "              title=\"Convert this dataframe to an interactive table.\"\n",
              "              style=\"display:none;\">\n",
              "        \n",
              "  <svg xmlns=\"http://www.w3.org/2000/svg\" height=\"24px\"viewBox=\"0 0 24 24\"\n",
              "       width=\"24px\">\n",
              "    <path d=\"M0 0h24v24H0V0z\" fill=\"none\"/>\n",
              "    <path d=\"M18.56 5.44l.94 2.06.94-2.06 2.06-.94-2.06-.94-.94-2.06-.94 2.06-2.06.94zm-11 1L8.5 8.5l.94-2.06 2.06-.94-2.06-.94L8.5 2.5l-.94 2.06-2.06.94zm10 10l.94 2.06.94-2.06 2.06-.94-2.06-.94-.94-2.06-.94 2.06-2.06.94z\"/><path d=\"M17.41 7.96l-1.37-1.37c-.4-.4-.92-.59-1.43-.59-.52 0-1.04.2-1.43.59L10.3 9.45l-7.72 7.72c-.78.78-.78 2.05 0 2.83L4 21.41c.39.39.9.59 1.41.59.51 0 1.02-.2 1.41-.59l7.78-7.78 2.81-2.81c.8-.78.8-2.07 0-2.86zM5.41 20L4 18.59l7.72-7.72 1.47 1.35L5.41 20z\"/>\n",
              "  </svg>\n",
              "      </button>\n",
              "      \n",
              "  <style>\n",
              "    .colab-df-container {\n",
              "      display:flex;\n",
              "      flex-wrap:wrap;\n",
              "      gap: 12px;\n",
              "    }\n",
              "\n",
              "    .colab-df-convert {\n",
              "      background-color: #E8F0FE;\n",
              "      border: none;\n",
              "      border-radius: 50%;\n",
              "      cursor: pointer;\n",
              "      display: none;\n",
              "      fill: #1967D2;\n",
              "      height: 32px;\n",
              "      padding: 0 0 0 0;\n",
              "      width: 32px;\n",
              "    }\n",
              "\n",
              "    .colab-df-convert:hover {\n",
              "      background-color: #E2EBFA;\n",
              "      box-shadow: 0px 1px 2px rgba(60, 64, 67, 0.3), 0px 1px 3px 1px rgba(60, 64, 67, 0.15);\n",
              "      fill: #174EA6;\n",
              "    }\n",
              "\n",
              "    [theme=dark] .colab-df-convert {\n",
              "      background-color: #3B4455;\n",
              "      fill: #D2E3FC;\n",
              "    }\n",
              "\n",
              "    [theme=dark] .colab-df-convert:hover {\n",
              "      background-color: #434B5C;\n",
              "      box-shadow: 0px 1px 3px 1px rgba(0, 0, 0, 0.15);\n",
              "      filter: drop-shadow(0px 1px 2px rgba(0, 0, 0, 0.3));\n",
              "      fill: #FFFFFF;\n",
              "    }\n",
              "  </style>\n",
              "\n",
              "      <script>\n",
              "        const buttonEl =\n",
              "          document.querySelector('#df-65301ec6-d1f2-4e6c-a9e0-a6faca6d92d1 button.colab-df-convert');\n",
              "        buttonEl.style.display =\n",
              "          google.colab.kernel.accessAllowed ? 'block' : 'none';\n",
              "\n",
              "        async function convertToInteractive(key) {\n",
              "          const element = document.querySelector('#df-65301ec6-d1f2-4e6c-a9e0-a6faca6d92d1');\n",
              "          const dataTable =\n",
              "            await google.colab.kernel.invokeFunction('convertToInteractive',\n",
              "                                                     [key], {});\n",
              "          if (!dataTable) return;\n",
              "\n",
              "          const docLinkHtml = 'Like what you see? Visit the ' +\n",
              "            '<a target=\"_blank\" href=https://colab.research.google.com/notebooks/data_table.ipynb>data table notebook</a>'\n",
              "            + ' to learn more about interactive tables.';\n",
              "          element.innerHTML = '';\n",
              "          dataTable['output_type'] = 'display_data';\n",
              "          await google.colab.output.renderOutput(dataTable, element);\n",
              "          const docLink = document.createElement('div');\n",
              "          docLink.innerHTML = docLinkHtml;\n",
              "          element.appendChild(docLink);\n",
              "        }\n",
              "      </script>\n",
              "    </div>\n",
              "  </div>\n",
              "  "
            ]
          },
          "metadata": {},
          "execution_count": 182
        }
      ]
    },
    {
      "cell_type": "markdown",
      "source": [
        " - shop_mean_features에 저장된 ['상점ID 상품분류ID별 평균 판매량']"
      ],
      "metadata": {
        "id": "GJ-gPKlm2W2n"
      }
    },
    {
      "cell_type": "code",
      "source": [
        "# ['월ID', '상점ID', '상품분류ID']를 기준으로\n",
        "# shop_mean_features 요소별 시차 피처 생성\n",
        "for shop_mean_feature in shop_mean_features:\n",
        "    all_data, lag_features_to_clip = add_lag_features(df=all_data,\n",
        "                                                    lag_features_to_clip=lag_features_to_clip,\n",
        "                                                    idx_features=['월ID', '상점ID', '상품분류ID'],\n",
        "                                                    lag_feature=shop_mean_feature,\n",
        "                                                    nlags=3,\n",
        "                                                    clip=True)    # 값을 0~20 사이로 제한\n",
        "# shop_mean_features 피처 제거\n",
        "all_data = all_data.drop(shop_mean_features, axis=1)"
      ],
      "metadata": {
        "id": "sr-DC5_a2WRD"
      },
      "execution_count": 183,
      "outputs": []
    },
    {
      "cell_type": "markdown",
      "source": [
        "#### 시차 피처 생성 마무리 : 결측값 처리\n"
      ],
      "metadata": {
        "id": "VVBd28FT3I__"
      }
    },
    {
      "cell_type": "markdown",
      "source": [
        "![Nan.PNG](data:image/png;base64,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)"
      ],
      "metadata": {
        "id": "-sC65Gjn4n4d"
      }
    },
    {
      "cell_type": "markdown",
      "source": [
        " - 결측값을 없대려면 월ID가 3미만인 데이터 제거"
      ],
      "metadata": {
        "id": "pg6kSbB64q9h"
      }
    },
    {
      "cell_type": "code",
      "source": [
        "# df.drop() 사용방법\n",
        "# column 제거\n",
        "# df.drop(columns=[컬럼명], axis=1)\n",
        "# row 제거\n",
        "# df.drop(df[조건].index)\n",
        "\n",
        "# df의 조건으로 필터링\n",
        "# df[조건]\n",
        "# df.loc[조건, '컬럼명'] : 조건에 맞는 해당 컬럼만 가져옴"
      ],
      "metadata": {
        "id": "oRTrq8pr5sfG"
      },
      "execution_count": 184,
      "outputs": []
    },
    {
      "cell_type": "code",
      "source": [
        "all_data[all_data['월ID'] < 3].index"
      ],
      "metadata": {
        "id": "nEiC_McI5qQu",
        "outputId": "1f23fae3-499d-49d7-abd8-044a355fb708",
        "colab": {
          "base_uri": "https://localhost:8080/"
        }
      },
      "execution_count": 185,
      "outputs": [
        {
          "output_type": "execute_result",
          "data": {
            "text/plain": [
              "Int64Index([      0,       1,       2,       3,       4,       5,       6,\n",
              "                  7,       8,       9,\n",
              "            ...\n",
              "            8460435, 8460436, 8460437, 8460438, 8460439, 8460440, 8460441,\n",
              "            8460442, 8460443, 8460444],\n",
              "           dtype='int64', length=978915)"
            ]
          },
          "metadata": {},
          "execution_count": 185
        }
      ]
    },
    {
      "cell_type": "code",
      "source": [
        "all_data = all_data.drop(all_data[all_data['월ID'] < 3].index) # df[조건].index : 조건에 맞는 인덱스"
      ],
      "metadata": {
        "id": "BJ11WWu9jEcR"
      },
      "execution_count": 186,
      "outputs": []
    },
    {
      "cell_type": "markdown",
      "source": [
        "### 피처 엔지니어링 7 : 기타 피처 엔지니어링"
      ],
      "metadata": {
        "id": "PmlyUSy87BXp"
      }
    },
    {
      "cell_type": "markdown",
      "source": [
        "#### 기타 피처 추가\n",
        " - 1. 월간 판매량 시차 피처들의 평균"
      ],
      "metadata": {
        "id": "Z2aDcZL28UVQ"
      }
    },
    {
      "cell_type": "code",
      "source": [
        "all_data[['월간 판매량_시차1', '월간 판매량_시차2', '월간 판매량_시차3']]"
      ],
      "metadata": {
        "id": "xvilhZd-7A81",
        "outputId": "7162f934-df9f-47d9-e32d-d9768008561a",
        "colab": {
          "base_uri": "https://localhost:8080/",
          "height": 424
        }
      },
      "execution_count": 187,
      "outputs": [
        {
          "output_type": "execute_result",
          "data": {
            "text/plain": [
              "         월간 판매량_시차1  월간 판매량_시차2  월간 판매량_시차3\n",
              "764715            0           0           0\n",
              "764716            0           0           0\n",
              "764717            1           2           0\n",
              "764718            1           2           0\n",
              "764719            1           2           0\n",
              "...             ...         ...         ...\n",
              "8246240           0           0           0\n",
              "8246241           0           0           0\n",
              "8246242           0           0           0\n",
              "8246243           0           0           0\n",
              "8246244           0           0           0\n",
              "\n",
              "[7481530 rows x 3 columns]"
            ],
            "text/html": [
              "\n",
              "  <div id=\"df-c362ade7-a5da-4c7b-902d-ecc213d6a4ae\">\n",
              "    <div class=\"colab-df-container\">\n",
              "      <div>\n",
              "<style scoped>\n",
              "    .dataframe tbody tr th:only-of-type {\n",
              "        vertical-align: middle;\n",
              "    }\n",
              "\n",
              "    .dataframe tbody tr th {\n",
              "        vertical-align: top;\n",
              "    }\n",
              "\n",
              "    .dataframe thead th {\n",
              "        text-align: right;\n",
              "    }\n",
              "</style>\n",
              "<table border=\"1\" class=\"dataframe\">\n",
              "  <thead>\n",
              "    <tr style=\"text-align: right;\">\n",
              "      <th></th>\n",
              "      <th>월간 판매량_시차1</th>\n",
              "      <th>월간 판매량_시차2</th>\n",
              "      <th>월간 판매량_시차3</th>\n",
              "    </tr>\n",
              "  </thead>\n",
              "  <tbody>\n",
              "    <tr>\n",
              "      <th>764715</th>\n",
              "      <td>0</td>\n",
              "      <td>0</td>\n",
              "      <td>0</td>\n",
              "    </tr>\n",
              "    <tr>\n",
              "      <th>764716</th>\n",
              "      <td>0</td>\n",
              "      <td>0</td>\n",
              "      <td>0</td>\n",
              "    </tr>\n",
              "    <tr>\n",
              "      <th>764717</th>\n",
              "      <td>1</td>\n",
              "      <td>2</td>\n",
              "      <td>0</td>\n",
              "    </tr>\n",
              "    <tr>\n",
              "      <th>764718</th>\n",
              "      <td>1</td>\n",
              "      <td>2</td>\n",
              "      <td>0</td>\n",
              "    </tr>\n",
              "    <tr>\n",
              "      <th>764719</th>\n",
              "      <td>1</td>\n",
              "      <td>2</td>\n",
              "      <td>0</td>\n",
              "    </tr>\n",
              "    <tr>\n",
              "      <th>...</th>\n",
              "      <td>...</td>\n",
              "      <td>...</td>\n",
              "      <td>...</td>\n",
              "    </tr>\n",
              "    <tr>\n",
              "      <th>8246240</th>\n",
              "      <td>0</td>\n",
              "      <td>0</td>\n",
              "      <td>0</td>\n",
              "    </tr>\n",
              "    <tr>\n",
              "      <th>8246241</th>\n",
              "      <td>0</td>\n",
              "      <td>0</td>\n",
              "      <td>0</td>\n",
              "    </tr>\n",
              "    <tr>\n",
              "      <th>8246242</th>\n",
              "      <td>0</td>\n",
              "      <td>0</td>\n",
              "      <td>0</td>\n",
              "    </tr>\n",
              "    <tr>\n",
              "      <th>8246243</th>\n",
              "      <td>0</td>\n",
              "      <td>0</td>\n",
              "      <td>0</td>\n",
              "    </tr>\n",
              "    <tr>\n",
              "      <th>8246244</th>\n",
              "      <td>0</td>\n",
              "      <td>0</td>\n",
              "      <td>0</td>\n",
              "    </tr>\n",
              "  </tbody>\n",
              "</table>\n",
              "<p>7481530 rows × 3 columns</p>\n",
              "</div>\n",
              "      <button class=\"colab-df-convert\" onclick=\"convertToInteractive('df-c362ade7-a5da-4c7b-902d-ecc213d6a4ae')\"\n",
              "              title=\"Convert this dataframe to an interactive table.\"\n",
              "              style=\"display:none;\">\n",
              "        \n",
              "  <svg xmlns=\"http://www.w3.org/2000/svg\" height=\"24px\"viewBox=\"0 0 24 24\"\n",
              "       width=\"24px\">\n",
              "    <path d=\"M0 0h24v24H0V0z\" fill=\"none\"/>\n",
              "    <path d=\"M18.56 5.44l.94 2.06.94-2.06 2.06-.94-2.06-.94-.94-2.06-.94 2.06-2.06.94zm-11 1L8.5 8.5l.94-2.06 2.06-.94-2.06-.94L8.5 2.5l-.94 2.06-2.06.94zm10 10l.94 2.06.94-2.06 2.06-.94-2.06-.94-.94-2.06-.94 2.06-2.06.94z\"/><path d=\"M17.41 7.96l-1.37-1.37c-.4-.4-.92-.59-1.43-.59-.52 0-1.04.2-1.43.59L10.3 9.45l-7.72 7.72c-.78.78-.78 2.05 0 2.83L4 21.41c.39.39.9.59 1.41.59.51 0 1.02-.2 1.41-.59l7.78-7.78 2.81-2.81c.8-.78.8-2.07 0-2.86zM5.41 20L4 18.59l7.72-7.72 1.47 1.35L5.41 20z\"/>\n",
              "  </svg>\n",
              "      </button>\n",
              "      \n",
              "  <style>\n",
              "    .colab-df-container {\n",
              "      display:flex;\n",
              "      flex-wrap:wrap;\n",
              "      gap: 12px;\n",
              "    }\n",
              "\n",
              "    .colab-df-convert {\n",
              "      background-color: #E8F0FE;\n",
              "      border: none;\n",
              "      border-radius: 50%;\n",
              "      cursor: pointer;\n",
              "      display: none;\n",
              "      fill: #1967D2;\n",
              "      height: 32px;\n",
              "      padding: 0 0 0 0;\n",
              "      width: 32px;\n",
              "    }\n",
              "\n",
              "    .colab-df-convert:hover {\n",
              "      background-color: #E2EBFA;\n",
              "      box-shadow: 0px 1px 2px rgba(60, 64, 67, 0.3), 0px 1px 3px 1px rgba(60, 64, 67, 0.15);\n",
              "      fill: #174EA6;\n",
              "    }\n",
              "\n",
              "    [theme=dark] .colab-df-convert {\n",
              "      background-color: #3B4455;\n",
              "      fill: #D2E3FC;\n",
              "    }\n",
              "\n",
              "    [theme=dark] .colab-df-convert:hover {\n",
              "      background-color: #434B5C;\n",
              "      box-shadow: 0px 1px 3px 1px rgba(0, 0, 0, 0.15);\n",
              "      filter: drop-shadow(0px 1px 2px rgba(0, 0, 0, 0.3));\n",
              "      fill: #FFFFFF;\n",
              "    }\n",
              "  </style>\n",
              "\n",
              "      <script>\n",
              "        const buttonEl =\n",
              "          document.querySelector('#df-c362ade7-a5da-4c7b-902d-ecc213d6a4ae button.colab-df-convert');\n",
              "        buttonEl.style.display =\n",
              "          google.colab.kernel.accessAllowed ? 'block' : 'none';\n",
              "\n",
              "        async function convertToInteractive(key) {\n",
              "          const element = document.querySelector('#df-c362ade7-a5da-4c7b-902d-ecc213d6a4ae');\n",
              "          const dataTable =\n",
              "            await google.colab.kernel.invokeFunction('convertToInteractive',\n",
              "                                                     [key], {});\n",
              "          if (!dataTable) return;\n",
              "\n",
              "          const docLinkHtml = 'Like what you see? Visit the ' +\n",
              "            '<a target=\"_blank\" href=https://colab.research.google.com/notebooks/data_table.ipynb>data table notebook</a>'\n",
              "            + ' to learn more about interactive tables.';\n",
              "          element.innerHTML = '';\n",
              "          dataTable['output_type'] = 'display_data';\n",
              "          await google.colab.output.renderOutput(dataTable, element);\n",
              "          const docLink = document.createElement('div');\n",
              "          docLink.innerHTML = docLinkHtml;\n",
              "          element.appendChild(docLink);\n",
              "        }\n",
              "      </script>\n",
              "    </div>\n",
              "  </div>\n",
              "  "
            ]
          },
          "metadata": {},
          "execution_count": 187
        }
      ]
    },
    {
      "cell_type": "code",
      "source": [
        "all_data[['월간 판매량_시차1', '월간 판매량_시차2', '월간 판매량_시차3']].mean()"
      ],
      "metadata": {
        "id": "Gb4_AT1F8mUy",
        "outputId": "d958648b-35b3-4d73-a71c-a9938ba732b1",
        "colab": {
          "base_uri": "https://localhost:8080/"
        }
      },
      "execution_count": 188,
      "outputs": [
        {
          "output_type": "execute_result",
          "data": {
            "text/plain": [
              "월간 판매량_시차1    0.241759\n",
              "월간 판매량_시차2    0.225869\n",
              "월간 판매량_시차3    0.194608\n",
              "dtype: float64"
            ]
          },
          "metadata": {},
          "execution_count": 188
        }
      ]
    },
    {
      "cell_type": "code",
      "source": [
        "all_data[['월간 판매량_시차1', '월간 판매량_시차2', '월간 판매량_시차3']].mean(axis=1)"
      ],
      "metadata": {
        "id": "csn3yfihAQ4W",
        "outputId": "4c11bd66-1d42-4bee-ba44-65fcd6a609ae",
        "colab": {
          "base_uri": "https://localhost:8080/"
        }
      },
      "execution_count": 189,
      "outputs": [
        {
          "output_type": "execute_result",
          "data": {
            "text/plain": [
              "764715     0.0\n",
              "764716     0.0\n",
              "764717     1.0\n",
              "764718     1.0\n",
              "764719     1.0\n",
              "          ... \n",
              "8246240    0.0\n",
              "8246241    0.0\n",
              "8246242    0.0\n",
              "8246243    0.0\n",
              "8246244    0.0\n",
              "Length: 7481530, dtype: float64"
            ]
          },
          "metadata": {},
          "execution_count": 189
        }
      ]
    },
    {
      "cell_type": "code",
      "source": [
        "all_data['월간 판매량 시차평균'] = all_data[['월간 판매량_시차1',\n",
        "                                             '월간 판매량_시차2',\n",
        "                                             '월간 판매량_시차3']].mean(axis=1)"
      ],
      "metadata": {
        "id": "zw9AnbySAVjO"
      },
      "execution_count": 190,
      "outputs": []
    },
    {
      "cell_type": "markdown",
      "source": [
        " - 이 피처도 판매량과 관련되어 있으므로 0~20 사이로 조정"
      ],
      "metadata": {
        "id": "4_E5vIS-6HcS"
      }
    },
    {
      "cell_type": "code",
      "source": [
        "lag_features_to_clip + ['월간 판매량', '월간 판매량 시차평균']"
      ],
      "metadata": {
        "id": "2atChqTj9YNy",
        "outputId": "ed172015-af9c-43d6-fc97-6f19d9a9e81e",
        "colab": {
          "base_uri": "https://localhost:8080/"
        }
      },
      "execution_count": 191,
      "outputs": [
        {
          "output_type": "execute_result",
          "data": {
            "text/plain": [
              "['월간 판매량_시차1',\n",
              " '월간 판매량_시차2',\n",
              " '월간 판매량_시차3',\n",
              " '상품ID별 평균 판매량_시차1',\n",
              " '상품ID별 평균 판매량_시차2',\n",
              " '상품ID별 평균 판매량_시차3',\n",
              " '상품ID 도시별 평균 판매량_시차1',\n",
              " '상품ID 도시별 평균 판매량_시차2',\n",
              " '상품ID 도시별 평균 판매량_시차3',\n",
              " '상점ID 상품분류ID별 평균 판매량_시차1',\n",
              " '상점ID 상품분류ID별 평균 판매량_시차2',\n",
              " '상점ID 상품분류ID별 평균 판매량_시차3',\n",
              " '월간 판매량',\n",
              " '월간 판매량 시차평균']"
            ]
          },
          "metadata": {},
          "execution_count": 191
        }
      ]
    },
    {
      "cell_type": "code",
      "source": [
        "# 0~20 사이로 값 제한\n",
        "all_data[lag_features_to_clip + ['월간 판매량', '월간 판매량 시차평균']] = \\\n",
        "all_data[lag_features_to_clip + ['월간 판매량', '월간 판매량 시차평균']].clip(0,20)"
      ],
      "metadata": {
        "id": "xg8k92jvDXpC"
      },
      "execution_count": 192,
      "outputs": []
    },
    {
      "cell_type": "markdown",
      "source": [
        " - 2. 시차 변화량\n",
        "\n",
        "  > 시차변화량1 = 월간 판매량_시차1 / 월간 판매량_시차2\n",
        "\n",
        "  > 시차변화량2 = 월간 판매량_시차2 / 월간 판매량_시차3"
      ],
      "metadata": {
        "id": "-uJJi-d89gsC"
      }
    },
    {
      "cell_type": "code",
      "source": [
        "import numpy as np\n",
        "all_data['시차변화량1'] = all_data['월간 판매량_시차1'] / all_data['월간 판매량_시차2']\n",
        "# 나누기를 하다보면 무한대, -무한대 값이 생기게 되므로 np.nan으로 대체후 0을 fill\n",
        "all_data['시차변화량1'] = all_data['시차변화량1'].replace([np.inf, -np.inf], np.nan).fillna(0)\n",
        "\n",
        "all_data['시차변화량2'] = all_data['월간 판매량_시차2'] / all_data['월간 판매량_시차3']\n",
        "all_data['시차변화량2'] = all_data['시차변화량2'].replace([np.inf, -np.inf], np.nan).fillna(0)\n"
      ],
      "metadata": {
        "id": "rKrllGe59A7p"
      },
      "execution_count": 193,
      "outputs": []
    },
    {
      "cell_type": "markdown",
      "source": [
        " - 3. 신상 여부 : 첫 판매월이 현재 월과 같다면 신상품"
      ],
      "metadata": {
        "id": "_WU2NTAc-9F1"
      }
    },
    {
      "cell_type": "code",
      "source": [
        "all_data['신상여부'] = all_data['첫 판매월'] == all_data['월ID'] # True / False"
      ],
      "metadata": {
        "id": "HDCMKA6x-A2Y"
      },
      "execution_count": 194,
      "outputs": []
    },
    {
      "cell_type": "code",
      "source": [
        "all_data['신상여부']"
      ],
      "metadata": {
        "id": "izLhKtLK_TBO",
        "outputId": "1d163b7f-0db0-4b0e-88e2-b2b3303960bd",
        "colab": {
          "base_uri": "https://localhost:8080/"
        }
      },
      "execution_count": 195,
      "outputs": [
        {
          "output_type": "execute_result",
          "data": {
            "text/plain": [
              "764715     False\n",
              "764716     False\n",
              "764717     False\n",
              "764718     False\n",
              "764719     False\n",
              "           ...  \n",
              "8246240     True\n",
              "8246241    False\n",
              "8246242     True\n",
              "8246243    False\n",
              "8246244    False\n",
              "Name: 신상여부, Length: 7481530, dtype: bool"
            ]
          },
          "metadata": {},
          "execution_count": 195
        }
      ]
    },
    {
      "cell_type": "markdown",
      "source": [
        " - 4. 첫 판매 후 경과 기간"
      ],
      "metadata": {
        "id": "_pGSIPCk_byp"
      }
    },
    {
      "cell_type": "code",
      "source": [
        "all_data['첫 펀매 후 기간'] = all_data['월ID'] - all_data['첫 판매월']"
      ],
      "metadata": {
        "id": "52ekgTKk_USs"
      },
      "execution_count": 196,
      "outputs": []
    },
    {
      "cell_type": "markdown",
      "source": [
        " - 5. 월(month)"
      ],
      "metadata": {
        "id": "DUyeNokn_xC6"
      }
    },
    {
      "cell_type": "code",
      "source": [
        "all_data['월'] = all_data['월ID'] % 12 # 12로 나눈 나머지가 월"
      ],
      "metadata": {
        "id": "AF5yDqjs_oYg"
      },
      "execution_count": 197,
      "outputs": []
    },
    {
      "cell_type": "markdown",
      "source": [
        "#### 필요 없는 피처 제거"
      ],
      "metadata": {
        "id": "jtRVcsMuN5Ec"
      }
    },
    {
      "cell_type": "code",
      "source": [
        "# 첫 판매월, 평균 판매가, 판매건수 피처 제거\n",
        "all_data = all_data.drop(columns=['첫 판매월', '평균 판매가', '판매건수'], axis=1)"
      ],
      "metadata": {
        "id": "nQslAcD4N3Xr"
      },
      "execution_count": 198,
      "outputs": []
    },
    {
      "cell_type": "code",
      "source": [
        "all_data = downcast(all_data, False)"
      ],
      "metadata": {
        "id": "03r3t8DwOJ78"
      },
      "execution_count": 199,
      "outputs": []
    },
    {
      "cell_type": "markdown",
      "source": [
        "### 피처 엔지니어링 7 : 마무리"
      ],
      "metadata": {
        "id": "mBFMJ0I1ORLj"
      }
    },
    {
      "cell_type": "code",
      "source": [
        "all_data.info()"
      ],
      "metadata": {
        "id": "xlDekBX3ON39",
        "outputId": "b00e5ea4-ff0d-436c-8cf9-1e901ede6dec",
        "colab": {
          "base_uri": "https://localhost:8080/"
        }
      },
      "execution_count": 200,
      "outputs": [
        {
          "output_type": "stream",
          "name": "stdout",
          "text": [
            "<class 'pandas.core.frame.DataFrame'>\n",
            "Int64Index: 7481530 entries, 764715 to 8246244\n",
            "Data columns (total 31 columns):\n",
            " #   Column                   Dtype  \n",
            "---  ------                   -----  \n",
            " 0   월ID                      int8   \n",
            " 1   상점ID                     int8   \n",
            " 2   상품ID                     int16  \n",
            " 3   월간 판매량                   int8   \n",
            " 4   도시                       int8   \n",
            " 5   상품분류ID                   int8   \n",
            " 6   대분류                      int8   \n",
            " 7   월간 판매량_시차1               int8   \n",
            " 8   월간 판매량_시차2               int8   \n",
            " 9   월간 판매량_시차3               int8   \n",
            " 10  판매건수_시차1                 int8   \n",
            " 11  판매건수_시차2                 int8   \n",
            " 12  판매건수_시차3                 int8   \n",
            " 13  평균 판매가_시차1               float32\n",
            " 14  평균 판매가_시차2               float32\n",
            " 15  평균 판매가_시차3               float32\n",
            " 16  상품ID별 평균 판매량_시차1         float32\n",
            " 17  상품ID별 평균 판매량_시차2         float32\n",
            " 18  상품ID별 평균 판매량_시차3         float32\n",
            " 19  상품ID 도시별 평균 판매량_시차1      float32\n",
            " 20  상품ID 도시별 평균 판매량_시차2      float32\n",
            " 21  상품ID 도시별 평균 판매량_시차3      float32\n",
            " 22  상점ID 상품분류ID별 평균 판매량_시차1  float32\n",
            " 23  상점ID 상품분류ID별 평균 판매량_시차2  float32\n",
            " 24  상점ID 상품분류ID별 평균 판매량_시차3  float32\n",
            " 25  월간 판매량 시차평균              float32\n",
            " 26  시차변화량1                   float32\n",
            " 27  시차변화량2                   float32\n",
            " 28  신상여부                     int8   \n",
            " 29  첫 펀매 후 기간                int8   \n",
            " 30  월                        int8   \n",
            "dtypes: float32(15), int16(1), int8(15)\n",
            "memory usage: 606.5 MB\n"
          ]
        }
      ]
    },
    {
      "cell_type": "markdown",
      "source": [
        ""
      ],
      "metadata": {
        "id": "0E2jdFn2OoFP"
      }
    },
    {
      "cell_type": "code",
      "source": [
        ""
      ],
      "metadata": {
        "id": "kD9PpI5QOUg6"
      },
      "execution_count": 200,
      "outputs": []
    }
  ],
  "metadata": {
    "colab": {
      "collapsed_sections": [],
      "name": "Colaboratory에 오신 것을 환영합니다",
      "provenance": [],
      "include_colab_link": true
    },
    "kernelspec": {
      "display_name": "Python 3",
      "name": "python3"
    }
  },
  "nbformat": 4,
  "nbformat_minor": 0
}