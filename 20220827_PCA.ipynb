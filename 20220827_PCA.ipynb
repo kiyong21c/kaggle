{
  "nbformat": 4,
  "nbformat_minor": 0,
  "metadata": {
    "colab": {
      "name": "Untitled1.ipynb",
      "provenance": [],
      "authorship_tag": "ABX9TyPllXyobYiWQAIBZSPM447N",
      "include_colab_link": true
    },
    "kernelspec": {
      "name": "python3",
      "display_name": "Python 3"
    },
    "language_info": {
      "name": "python"
    }
  },
  "cells": [
    {
      "cell_type": "markdown",
      "metadata": {
        "id": "view-in-github",
        "colab_type": "text"
      },
      "source": [
        "<a href=\"https://colab.research.google.com/github/kiyong21c/kaggle/blob/main/20220827_PCA.ipynb\" target=\"_parent\"><img src=\"https://colab.research.google.com/assets/colab-badge.svg\" alt=\"Open In Colab\"/></a>"
      ]
    },
    {
      "cell_type": "markdown",
      "source": [
        "# 주성분 분석(PCA, principal Component Analysis)\n",
        " - 비지도 학습\n",
        " - 예측 X, 분류 X\n",
        " - 변수의 개수를 줄이되 가능한 그 특성을 보존하는 기법\n",
        " - 기존 변수들의 정보를 모두 반영하는 새로운 변수들을 만드는 방식의 차원 축소\n",
        " - 장점 : 시각화에 유용, 변수간의 높은 상관관계 문제 해결\n",
        " - 단점 : 새로운 변수를 사용하므로 해석에 어려움, 차원축소에 따른 불가피한 정보손실"
      ],
      "metadata": {
        "id": "XGfTdszfDFPR"
      }
    },
    {
      "cell_type": "markdown",
      "source": [
        "# 데이터의 차원을 축소하여 이해하기 쉽게 시각화\n",
        " - 알고리즘 : 주성분 분석(PCA)\n",
        " - 문제유형 : 비지도 학습\n",
        " - 평가지표 : 기존 분산 반영 비율\n",
        " - 사용모델 : KMeans"
      ],
      "metadata": {
        "id": "uALUWGg1YMHu"
      }
    },
    {
      "cell_type": "markdown",
      "source": [
        "## 라이브러리 및 데이터 불러오기"
      ],
      "metadata": {
        "id": "Eq4l2ZUpYcpd"
      }
    },
    {
      "cell_type": "code",
      "source": [
        "import pandas as pd\n",
        "import numpy as np\n",
        "import matplotlib.pyplot as plt\n",
        "import seaborn as sns\n",
        "\n",
        "file_url = 'http://raw.githubusercontent.com/musthave-ML10/data_source/main/customer_pca.csv'\n",
        "customer = pd.read_csv(file_url)"
      ],
      "metadata": {
        "id": "jpx60yC4DC_1"
      },
      "execution_count": 63,
      "outputs": []
    },
    {
      "cell_type": "code",
      "source": [
        "customer.head()"
      ],
      "metadata": {
        "colab": {
          "base_uri": "https://localhost:8080/",
          "height": 270
        },
        "id": "lM6qhbZFR4TN",
        "outputId": "c4e2526e-965e-4d9c-f71b-3682a8edb959"
      },
      "execution_count": 64,
      "outputs": [
        {
          "output_type": "execute_result",
          "data": {
            "text/plain": [
              "        amt  category_entertainment  category_food_dining  \\\n",
              "0 -1.402327               -1.135617             -0.971069   \n",
              "1  1.079407                0.414075              0.168880   \n",
              "2  1.200151                0.747127              1.622968   \n",
              "3 -1.474915               -1.129427             -1.539741   \n",
              "4  0.901491                0.257905             -0.320220   \n",
              "\n",
              "   category_gas_transport  category_grocery  category_health_fitness  \\\n",
              "0               -1.000180         -1.118217                -1.561756   \n",
              "1                2.090013          0.767268                 1.040236   \n",
              "2               -0.606627          0.439476                 1.376630   \n",
              "3               -0.930355         -1.079803                -1.222903   \n",
              "4                2.083588          0.540547                 0.705908   \n",
              "\n",
              "   category_home  category_kids_pets  category_misc  category_personal_care  \\\n",
              "0      -1.145051           -1.276913      -1.124693               -1.070260   \n",
              "1       0.844969            1.127922       1.210503                1.807350   \n",
              "2       2.126364            0.378610      -0.196523                0.127825   \n",
              "3      -1.572733           -1.516610      -1.274986               -1.185705   \n",
              "4       1.097814            0.955178       1.198524                1.640103   \n",
              "\n",
              "   category_shopping  category_travel  label  \n",
              "0          -1.141424        -0.619930      0  \n",
              "1           0.659967        -0.222587      3  \n",
              "2           1.299938         2.766891      1  \n",
              "3          -1.166127        -0.601675      0  \n",
              "4           0.578781        -0.484796      3  "
            ],
            "text/html": [
              "\n",
              "  <div id=\"df-3b338747-5903-489a-bd37-32c12c6dd7d1\">\n",
              "    <div class=\"colab-df-container\">\n",
              "      <div>\n",
              "<style scoped>\n",
              "    .dataframe tbody tr th:only-of-type {\n",
              "        vertical-align: middle;\n",
              "    }\n",
              "\n",
              "    .dataframe tbody tr th {\n",
              "        vertical-align: top;\n",
              "    }\n",
              "\n",
              "    .dataframe thead th {\n",
              "        text-align: right;\n",
              "    }\n",
              "</style>\n",
              "<table border=\"1\" class=\"dataframe\">\n",
              "  <thead>\n",
              "    <tr style=\"text-align: right;\">\n",
              "      <th></th>\n",
              "      <th>amt</th>\n",
              "      <th>category_entertainment</th>\n",
              "      <th>category_food_dining</th>\n",
              "      <th>category_gas_transport</th>\n",
              "      <th>category_grocery</th>\n",
              "      <th>category_health_fitness</th>\n",
              "      <th>category_home</th>\n",
              "      <th>category_kids_pets</th>\n",
              "      <th>category_misc</th>\n",
              "      <th>category_personal_care</th>\n",
              "      <th>category_shopping</th>\n",
              "      <th>category_travel</th>\n",
              "      <th>label</th>\n",
              "    </tr>\n",
              "  </thead>\n",
              "  <tbody>\n",
              "    <tr>\n",
              "      <th>0</th>\n",
              "      <td>-1.402327</td>\n",
              "      <td>-1.135617</td>\n",
              "      <td>-0.971069</td>\n",
              "      <td>-1.000180</td>\n",
              "      <td>-1.118217</td>\n",
              "      <td>-1.561756</td>\n",
              "      <td>-1.145051</td>\n",
              "      <td>-1.276913</td>\n",
              "      <td>-1.124693</td>\n",
              "      <td>-1.070260</td>\n",
              "      <td>-1.141424</td>\n",
              "      <td>-0.619930</td>\n",
              "      <td>0</td>\n",
              "    </tr>\n",
              "    <tr>\n",
              "      <th>1</th>\n",
              "      <td>1.079407</td>\n",
              "      <td>0.414075</td>\n",
              "      <td>0.168880</td>\n",
              "      <td>2.090013</td>\n",
              "      <td>0.767268</td>\n",
              "      <td>1.040236</td>\n",
              "      <td>0.844969</td>\n",
              "      <td>1.127922</td>\n",
              "      <td>1.210503</td>\n",
              "      <td>1.807350</td>\n",
              "      <td>0.659967</td>\n",
              "      <td>-0.222587</td>\n",
              "      <td>3</td>\n",
              "    </tr>\n",
              "    <tr>\n",
              "      <th>2</th>\n",
              "      <td>1.200151</td>\n",
              "      <td>0.747127</td>\n",
              "      <td>1.622968</td>\n",
              "      <td>-0.606627</td>\n",
              "      <td>0.439476</td>\n",
              "      <td>1.376630</td>\n",
              "      <td>2.126364</td>\n",
              "      <td>0.378610</td>\n",
              "      <td>-0.196523</td>\n",
              "      <td>0.127825</td>\n",
              "      <td>1.299938</td>\n",
              "      <td>2.766891</td>\n",
              "      <td>1</td>\n",
              "    </tr>\n",
              "    <tr>\n",
              "      <th>3</th>\n",
              "      <td>-1.474915</td>\n",
              "      <td>-1.129427</td>\n",
              "      <td>-1.539741</td>\n",
              "      <td>-0.930355</td>\n",
              "      <td>-1.079803</td>\n",
              "      <td>-1.222903</td>\n",
              "      <td>-1.572733</td>\n",
              "      <td>-1.516610</td>\n",
              "      <td>-1.274986</td>\n",
              "      <td>-1.185705</td>\n",
              "      <td>-1.166127</td>\n",
              "      <td>-0.601675</td>\n",
              "      <td>0</td>\n",
              "    </tr>\n",
              "    <tr>\n",
              "      <th>4</th>\n",
              "      <td>0.901491</td>\n",
              "      <td>0.257905</td>\n",
              "      <td>-0.320220</td>\n",
              "      <td>2.083588</td>\n",
              "      <td>0.540547</td>\n",
              "      <td>0.705908</td>\n",
              "      <td>1.097814</td>\n",
              "      <td>0.955178</td>\n",
              "      <td>1.198524</td>\n",
              "      <td>1.640103</td>\n",
              "      <td>0.578781</td>\n",
              "      <td>-0.484796</td>\n",
              "      <td>3</td>\n",
              "    </tr>\n",
              "  </tbody>\n",
              "</table>\n",
              "</div>\n",
              "      <button class=\"colab-df-convert\" onclick=\"convertToInteractive('df-3b338747-5903-489a-bd37-32c12c6dd7d1')\"\n",
              "              title=\"Convert this dataframe to an interactive table.\"\n",
              "              style=\"display:none;\">\n",
              "        \n",
              "  <svg xmlns=\"http://www.w3.org/2000/svg\" height=\"24px\"viewBox=\"0 0 24 24\"\n",
              "       width=\"24px\">\n",
              "    <path d=\"M0 0h24v24H0V0z\" fill=\"none\"/>\n",
              "    <path d=\"M18.56 5.44l.94 2.06.94-2.06 2.06-.94-2.06-.94-.94-2.06-.94 2.06-2.06.94zm-11 1L8.5 8.5l.94-2.06 2.06-.94-2.06-.94L8.5 2.5l-.94 2.06-2.06.94zm10 10l.94 2.06.94-2.06 2.06-.94-2.06-.94-.94-2.06-.94 2.06-2.06.94z\"/><path d=\"M17.41 7.96l-1.37-1.37c-.4-.4-.92-.59-1.43-.59-.52 0-1.04.2-1.43.59L10.3 9.45l-7.72 7.72c-.78.78-.78 2.05 0 2.83L4 21.41c.39.39.9.59 1.41.59.51 0 1.02-.2 1.41-.59l7.78-7.78 2.81-2.81c.8-.78.8-2.07 0-2.86zM5.41 20L4 18.59l7.72-7.72 1.47 1.35L5.41 20z\"/>\n",
              "  </svg>\n",
              "      </button>\n",
              "      \n",
              "  <style>\n",
              "    .colab-df-container {\n",
              "      display:flex;\n",
              "      flex-wrap:wrap;\n",
              "      gap: 12px;\n",
              "    }\n",
              "\n",
              "    .colab-df-convert {\n",
              "      background-color: #E8F0FE;\n",
              "      border: none;\n",
              "      border-radius: 50%;\n",
              "      cursor: pointer;\n",
              "      display: none;\n",
              "      fill: #1967D2;\n",
              "      height: 32px;\n",
              "      padding: 0 0 0 0;\n",
              "      width: 32px;\n",
              "    }\n",
              "\n",
              "    .colab-df-convert:hover {\n",
              "      background-color: #E2EBFA;\n",
              "      box-shadow: 0px 1px 2px rgba(60, 64, 67, 0.3), 0px 1px 3px 1px rgba(60, 64, 67, 0.15);\n",
              "      fill: #174EA6;\n",
              "    }\n",
              "\n",
              "    [theme=dark] .colab-df-convert {\n",
              "      background-color: #3B4455;\n",
              "      fill: #D2E3FC;\n",
              "    }\n",
              "\n",
              "    [theme=dark] .colab-df-convert:hover {\n",
              "      background-color: #434B5C;\n",
              "      box-shadow: 0px 1px 3px 1px rgba(0, 0, 0, 0.15);\n",
              "      filter: drop-shadow(0px 1px 2px rgba(0, 0, 0, 0.3));\n",
              "      fill: #FFFFFF;\n",
              "    }\n",
              "  </style>\n",
              "\n",
              "      <script>\n",
              "        const buttonEl =\n",
              "          document.querySelector('#df-3b338747-5903-489a-bd37-32c12c6dd7d1 button.colab-df-convert');\n",
              "        buttonEl.style.display =\n",
              "          google.colab.kernel.accessAllowed ? 'block' : 'none';\n",
              "\n",
              "        async function convertToInteractive(key) {\n",
              "          const element = document.querySelector('#df-3b338747-5903-489a-bd37-32c12c6dd7d1');\n",
              "          const dataTable =\n",
              "            await google.colab.kernel.invokeFunction('convertToInteractive',\n",
              "                                                     [key], {});\n",
              "          if (!dataTable) return;\n",
              "\n",
              "          const docLinkHtml = 'Like what you see? Visit the ' +\n",
              "            '<a target=\"_blank\" href=https://colab.research.google.com/notebooks/data_table.ipynb>data table notebook</a>'\n",
              "            + ' to learn more about interactive tables.';\n",
              "          element.innerHTML = '';\n",
              "          dataTable['output_type'] = 'display_data';\n",
              "          await google.colab.output.renderOutput(dataTable, element);\n",
              "          const docLink = document.createElement('div');\n",
              "          docLink.innerHTML = docLinkHtml;\n",
              "          element.appendChild(docLink);\n",
              "        }\n",
              "      </script>\n",
              "    </div>\n",
              "  </div>\n",
              "  "
            ]
          },
          "metadata": {},
          "execution_count": 64
        }
      ]
    },
    {
      "cell_type": "markdown",
      "source": [
        " - 변수가 2개인 경우 x, y축에 지정하여 쉽게 그래프를 그릴수 있다\n",
        " - PCA를 사용하여 이 많은 변수들을 2개로 축소한 뒤 산점도 그래프로 클러스터 확인해 보자"
      ],
      "metadata": {
        "id": "39IHj1oUSEKi"
      }
    },
    {
      "cell_type": "code",
      "source": [
        "# PCA 훈련시 종속변수(label)은 제외 시켜야 하므로\n",
        "customer_X = customer.drop('label', axis=1) # 독립변수 지정\n",
        "customer_y = customer['label'] # 종속변수 지정"
      ],
      "metadata": {
        "id": "AuW_L_EjR7xe"
      },
      "execution_count": 65,
      "outputs": []
    },
    {
      "cell_type": "markdown",
      "source": [
        "### 그래프 표현을 위한 차원 축소"
      ],
      "metadata": {
        "id": "ycG74s2-ScQh"
      }
    },
    {
      "cell_type": "code",
      "source": [
        "from sklearn.decomposition import PCA"
      ],
      "metadata": {
        "id": "FP-DF7Y5SfcJ"
      },
      "execution_count": 66,
      "outputs": []
    },
    {
      "cell_type": "code",
      "source": [
        "pca = PCA(n_components=2) # 2차원 평면에 그래프를 그리는 것이 목적"
      ],
      "metadata": {
        "id": "4P1CPenxSjF_"
      },
      "execution_count": 67,
      "outputs": []
    },
    {
      "cell_type": "code",
      "source": [
        "customer_pca = pca.fit_transform(customer_X) # 학습"
      ],
      "metadata": {
        "id": "_wqfw2j7TC23"
      },
      "execution_count": 68,
      "outputs": []
    },
    {
      "cell_type": "code",
      "source": [
        "customer_pca"
      ],
      "metadata": {
        "colab": {
          "base_uri": "https://localhost:8080/"
        },
        "id": "s_54GIFQTMNv",
        "outputId": "8690ce52-727f-4b8d-dfd2-0ad0698e938d"
      },
      "execution_count": 69,
      "outputs": [
        {
          "output_type": "execute_result",
          "data": {
            "text/plain": [
              "array([[-3.92906072e+00,  1.02604491e-01],\n",
              "       [ 3.10758276e+00, -1.74887930e+00],\n",
              "       [ 3.02379272e+00,  3.21221215e+00],\n",
              "       [-4.28241767e+00,  1.13781030e-02],\n",
              "       [ 2.59065802e+00, -1.90612064e+00],\n",
              "       [ 8.70343520e-01, -1.79154348e-02],\n",
              "       [-1.16508938e+00,  2.00387900e+00],\n",
              "       [ 1.41163657e+00, -1.21220170e+00],\n",
              "       [ 1.79302072e-01, -1.15337545e+00],\n",
              "       [-2.74166293e+00, -3.48112299e-02],\n",
              "       [ 4.03108363e-01, -2.56426911e-01],\n",
              "       [-4.32816586e+00,  1.09280479e-01],\n",
              "       [-1.06779010e+00, -4.71336448e-01],\n",
              "       [-3.54208654e+00,  2.09373453e-01],\n",
              "       [ 3.00321739e+00,  6.85140300e-02],\n",
              "       [ 5.08464052e+00, -1.92234923e+00],\n",
              "       [-1.39044460e+00,  3.22162225e-01],\n",
              "       [-2.64318989e+00, -4.59744830e-01],\n",
              "       [-7.37714393e-01, -9.30393910e-01],\n",
              "       [-3.93420145e+00,  1.62749639e-01],\n",
              "       [ 3.16675507e-01, -4.22288613e-01],\n",
              "       [ 7.31864853e+00,  5.17885391e-02],\n",
              "       [ 6.60448573e-01, -1.13828656e+00],\n",
              "       [-3.96099431e+00, -5.54999191e-02],\n",
              "       [ 2.88515690e+00, -1.50950875e+00],\n",
              "       [-9.13413956e-01, -2.84250823e-01],\n",
              "       [ 7.47738674e+00,  4.13602819e-01],\n",
              "       [ 8.51161986e-01,  2.66450095e+00],\n",
              "       [ 3.11683289e+00,  3.55512199e+00],\n",
              "       [-2.61734209e+00, -2.27449931e-03],\n",
              "       [-1.22771428e-01, -3.31216229e-01],\n",
              "       [ 9.13108512e-01,  3.00138893e+00],\n",
              "       [-9.55686582e-02, -2.02640440e-01],\n",
              "       [ 2.51249575e+00, -6.33108713e-01],\n",
              "       [ 3.12230426e+00,  3.70599880e+00],\n",
              "       [ 3.14778237e+00,  4.33267256e+00],\n",
              "       [ 6.06549063e-01, -9.86110799e-01],\n",
              "       [-3.46744343e+00,  1.08940594e+00],\n",
              "       [ 6.18615770e-02, -1.27174586e+00],\n",
              "       [ 2.87266476e-01, -1.05338012e+00],\n",
              "       [ 5.08834370e-01, -2.02343984e-01],\n",
              "       [-9.01515768e-01, -2.68070767e-01],\n",
              "       [-8.05819264e-02, -6.27176745e-01],\n",
              "       [-2.57697663e+00, -1.32747276e-01],\n",
              "       [ 2.92716445e+00,  4.17160726e-01],\n",
              "       [ 7.53139122e+00,  8.91638114e-01],\n",
              "       [ 2.37952005e+00, -1.70940926e+00],\n",
              "       [-1.24997746e+00,  2.93538981e-01],\n",
              "       [ 5.08939438e-01,  5.05213153e-01],\n",
              "       [ 2.00027356e+00, -5.82652255e-01],\n",
              "       [-4.11163191e+00,  1.20451458e-02],\n",
              "       [ 7.19921286e-01, -1.02373898e+00],\n",
              "       [ 5.13207228e+00, -3.55005462e-02],\n",
              "       [-1.30152112e+00, -2.92916652e-01],\n",
              "       [-1.26229904e+00,  1.99571763e+00],\n",
              "       [-3.92072783e+00,  4.19591569e-01],\n",
              "       [-3.92335605e+00,  2.90238232e-01],\n",
              "       [-1.07974232e+00, -7.56236332e-01],\n",
              "       [ 2.29847276e+00, -1.71731618e+00],\n",
              "       [-2.41712125e+00, -1.65314491e-01],\n",
              "       [-1.94038751e+00,  8.65325435e-02],\n",
              "       [ 9.61908159e-01,  3.07626115e+00],\n",
              "       [ 3.07761364e+00,  6.23734925e-01],\n",
              "       [ 6.98825143e-02, -1.26850385e+00],\n",
              "       [-3.83324310e+00,  1.04062564e-01],\n",
              "       [ 5.07062308e+00,  3.66619197e-01],\n",
              "       [ 3.03194691e+00,  3.70983803e+00],\n",
              "       [-3.79352069e+00,  2.43265665e-01],\n",
              "       [ 8.44571030e-01, -9.03608885e-01],\n",
              "       [ 1.10497065e+00, -5.69239958e-01],\n",
              "       [-1.20868859e+00, -5.47974662e-01],\n",
              "       [-3.74634015e+00,  6.45711112e-01],\n",
              "       [ 6.55382011e-01, -6.80909837e-01],\n",
              "       [ 3.18270985e+00, -1.60458982e+00],\n",
              "       [-6.86581666e-01,  4.12809181e-02],\n",
              "       [-1.14472565e+00, -5.80928792e-01],\n",
              "       [ 2.25158156e+00, -1.86551742e+00],\n",
              "       [-4.11846276e+00,  2.43692755e-01],\n",
              "       [-3.61019796e+00,  3.80018798e-01],\n",
              "       [-2.39950827e+00, -2.99975577e-01],\n",
              "       [-1.38050726e+00,  2.37925206e-01],\n",
              "       [ 5.69227545e-01, -9.45067658e-01],\n",
              "       [-7.54661391e-01, -5.46883930e-02],\n",
              "       [-2.06403817e+00, -2.02782822e-01],\n",
              "       [-1.25451597e+00, -5.30717565e-02],\n",
              "       [ 5.47010496e-01, -1.18056800e+00],\n",
              "       [ 7.28182232e+00,  3.68954923e-01],\n",
              "       [ 1.51779943e-01, -2.94127566e-01],\n",
              "       [-1.06550470e+00, -6.32866500e-01],\n",
              "       [ 2.20734751e+00, -1.60190057e+00],\n",
              "       [ 5.58915914e-01,  2.22725170e-01],\n",
              "       [-4.39374365e+00,  1.84102321e-02],\n",
              "       [-2.09512738e+00, -2.05503210e-01],\n",
              "       [-1.93572397e+00, -1.86190550e-01],\n",
              "       [ 1.57812958e-01, -5.61152392e-01],\n",
              "       [ 3.05786793e+00, -2.07006100e+00],\n",
              "       [-1.98087248e+00, -1.85123765e-01],\n",
              "       [-3.46538499e+00,  1.02229842e+00],\n",
              "       [-3.27716415e+00,  1.39247995e+00],\n",
              "       [ 2.17218468e+00, -6.13946378e-01]])"
            ]
          },
          "metadata": {},
          "execution_count": 69
        }
      ]
    },
    {
      "cell_type": "code",
      "source": [
        "customer_pca = pd.DataFrame(customer_pca, columns=['PC1','PC2'])"
      ],
      "metadata": {
        "id": "qVrmmk_ETNMY"
      },
      "execution_count": 70,
      "outputs": []
    },
    {
      "cell_type": "code",
      "source": [
        "coustomer_pca = customer_pca.join(customer_y)"
      ],
      "metadata": {
        "id": "czu0xB7oTkLm"
      },
      "execution_count": 72,
      "outputs": []
    },
    {
      "cell_type": "code",
      "source": [
        "coustomer_pca.head()"
      ],
      "metadata": {
        "colab": {
          "base_uri": "https://localhost:8080/",
          "height": 206
        },
        "id": "WOjaKwcqTwlP",
        "outputId": "98e6022f-2cd8-45af-f1bf-d55efa4ebba7"
      },
      "execution_count": 73,
      "outputs": [
        {
          "output_type": "execute_result",
          "data": {
            "text/plain": [
              "        PC1       PC2  label\n",
              "0 -3.929061  0.102604      0\n",
              "1  3.107583 -1.748879      3\n",
              "2  3.023793  3.212212      1\n",
              "3 -4.282418  0.011378      0\n",
              "4  2.590658 -1.906121      3"
            ],
            "text/html": [
              "\n",
              "  <div id=\"df-bb8aeddc-d29f-4b2e-84c9-f06f102998e3\">\n",
              "    <div class=\"colab-df-container\">\n",
              "      <div>\n",
              "<style scoped>\n",
              "    .dataframe tbody tr th:only-of-type {\n",
              "        vertical-align: middle;\n",
              "    }\n",
              "\n",
              "    .dataframe tbody tr th {\n",
              "        vertical-align: top;\n",
              "    }\n",
              "\n",
              "    .dataframe thead th {\n",
              "        text-align: right;\n",
              "    }\n",
              "</style>\n",
              "<table border=\"1\" class=\"dataframe\">\n",
              "  <thead>\n",
              "    <tr style=\"text-align: right;\">\n",
              "      <th></th>\n",
              "      <th>PC1</th>\n",
              "      <th>PC2</th>\n",
              "      <th>label</th>\n",
              "    </tr>\n",
              "  </thead>\n",
              "  <tbody>\n",
              "    <tr>\n",
              "      <th>0</th>\n",
              "      <td>-3.929061</td>\n",
              "      <td>0.102604</td>\n",
              "      <td>0</td>\n",
              "    </tr>\n",
              "    <tr>\n",
              "      <th>1</th>\n",
              "      <td>3.107583</td>\n",
              "      <td>-1.748879</td>\n",
              "      <td>3</td>\n",
              "    </tr>\n",
              "    <tr>\n",
              "      <th>2</th>\n",
              "      <td>3.023793</td>\n",
              "      <td>3.212212</td>\n",
              "      <td>1</td>\n",
              "    </tr>\n",
              "    <tr>\n",
              "      <th>3</th>\n",
              "      <td>-4.282418</td>\n",
              "      <td>0.011378</td>\n",
              "      <td>0</td>\n",
              "    </tr>\n",
              "    <tr>\n",
              "      <th>4</th>\n",
              "      <td>2.590658</td>\n",
              "      <td>-1.906121</td>\n",
              "      <td>3</td>\n",
              "    </tr>\n",
              "  </tbody>\n",
              "</table>\n",
              "</div>\n",
              "      <button class=\"colab-df-convert\" onclick=\"convertToInteractive('df-bb8aeddc-d29f-4b2e-84c9-f06f102998e3')\"\n",
              "              title=\"Convert this dataframe to an interactive table.\"\n",
              "              style=\"display:none;\">\n",
              "        \n",
              "  <svg xmlns=\"http://www.w3.org/2000/svg\" height=\"24px\"viewBox=\"0 0 24 24\"\n",
              "       width=\"24px\">\n",
              "    <path d=\"M0 0h24v24H0V0z\" fill=\"none\"/>\n",
              "    <path d=\"M18.56 5.44l.94 2.06.94-2.06 2.06-.94-2.06-.94-.94-2.06-.94 2.06-2.06.94zm-11 1L8.5 8.5l.94-2.06 2.06-.94-2.06-.94L8.5 2.5l-.94 2.06-2.06.94zm10 10l.94 2.06.94-2.06 2.06-.94-2.06-.94-.94-2.06-.94 2.06-2.06.94z\"/><path d=\"M17.41 7.96l-1.37-1.37c-.4-.4-.92-.59-1.43-.59-.52 0-1.04.2-1.43.59L10.3 9.45l-7.72 7.72c-.78.78-.78 2.05 0 2.83L4 21.41c.39.39.9.59 1.41.59.51 0 1.02-.2 1.41-.59l7.78-7.78 2.81-2.81c.8-.78.8-2.07 0-2.86zM5.41 20L4 18.59l7.72-7.72 1.47 1.35L5.41 20z\"/>\n",
              "  </svg>\n",
              "      </button>\n",
              "      \n",
              "  <style>\n",
              "    .colab-df-container {\n",
              "      display:flex;\n",
              "      flex-wrap:wrap;\n",
              "      gap: 12px;\n",
              "    }\n",
              "\n",
              "    .colab-df-convert {\n",
              "      background-color: #E8F0FE;\n",
              "      border: none;\n",
              "      border-radius: 50%;\n",
              "      cursor: pointer;\n",
              "      display: none;\n",
              "      fill: #1967D2;\n",
              "      height: 32px;\n",
              "      padding: 0 0 0 0;\n",
              "      width: 32px;\n",
              "    }\n",
              "\n",
              "    .colab-df-convert:hover {\n",
              "      background-color: #E2EBFA;\n",
              "      box-shadow: 0px 1px 2px rgba(60, 64, 67, 0.3), 0px 1px 3px 1px rgba(60, 64, 67, 0.15);\n",
              "      fill: #174EA6;\n",
              "    }\n",
              "\n",
              "    [theme=dark] .colab-df-convert {\n",
              "      background-color: #3B4455;\n",
              "      fill: #D2E3FC;\n",
              "    }\n",
              "\n",
              "    [theme=dark] .colab-df-convert:hover {\n",
              "      background-color: #434B5C;\n",
              "      box-shadow: 0px 1px 3px 1px rgba(0, 0, 0, 0.15);\n",
              "      filter: drop-shadow(0px 1px 2px rgba(0, 0, 0, 0.3));\n",
              "      fill: #FFFFFF;\n",
              "    }\n",
              "  </style>\n",
              "\n",
              "      <script>\n",
              "        const buttonEl =\n",
              "          document.querySelector('#df-bb8aeddc-d29f-4b2e-84c9-f06f102998e3 button.colab-df-convert');\n",
              "        buttonEl.style.display =\n",
              "          google.colab.kernel.accessAllowed ? 'block' : 'none';\n",
              "\n",
              "        async function convertToInteractive(key) {\n",
              "          const element = document.querySelector('#df-bb8aeddc-d29f-4b2e-84c9-f06f102998e3');\n",
              "          const dataTable =\n",
              "            await google.colab.kernel.invokeFunction('convertToInteractive',\n",
              "                                                     [key], {});\n",
              "          if (!dataTable) return;\n",
              "\n",
              "          const docLinkHtml = 'Like what you see? Visit the ' +\n",
              "            '<a target=\"_blank\" href=https://colab.research.google.com/notebooks/data_table.ipynb>data table notebook</a>'\n",
              "            + ' to learn more about interactive tables.';\n",
              "          element.innerHTML = '';\n",
              "          dataTable['output_type'] = 'display_data';\n",
              "          await google.colab.output.renderOutput(dataTable, element);\n",
              "          const docLink = document.createElement('div');\n",
              "          docLink.innerHTML = docLinkHtml;\n",
              "          element.appendChild(docLink);\n",
              "        }\n",
              "      </script>\n",
              "    </div>\n",
              "  </div>\n",
              "  "
            ]
          },
          "metadata": {},
          "execution_count": 73
        }
      ]
    },
    {
      "cell_type": "code",
      "source": [
        "sns.scatterplot(x='PC1', y='PC2', data=coustomer_pca, hue='label')"
      ],
      "metadata": {
        "colab": {
          "base_uri": "https://localhost:8080/",
          "height": 297
        },
        "id": "wKXvf1mqT0S2",
        "outputId": "4551aea4-3c31-4569-a076-0538ab9d60d1"
      },
      "execution_count": 74,
      "outputs": [
        {
          "output_type": "execute_result",
          "data": {
            "text/plain": [
              "<matplotlib.axes._subplots.AxesSubplot at 0x7fca2f3fed10>"
            ]
          },
          "metadata": {},
          "execution_count": 74
        },
        {
          "output_type": "display_data",
          "data": {
            "text/plain": [
              "<Figure size 432x288 with 1 Axes>"
            ],
            "image/png": "[encoded data removed]"
          },
          "metadata": {
            "needs_background": "light"
          }
        }
      ]
    },
    {
      "cell_type": "markdown",
      "source": [],
      "metadata": {
        "id": "dtxvP3txUQP8"
      }
    },
    {
      "cell_type": "markdown",
      "source": [
        " - PCA를 통해 얻어낸 변수 PC1과 PC2는 기존의 모든 변수를 복합적으로 반영하여 만들어짐\n",
        " - 명료하게 이 새로운 변수들을 해석하기 쉽지 않음"
      ],
      "metadata": {
        "id": "gGG4jGzDUD9I"
      }
    },
    {
      "cell_type": "markdown",
      "source": [
        " - 학습에 사용한 모델 pca 뒤에 components_를 붙여 각 주성분과 기존 변수와의 상관관계 확인 가능"
      ],
      "metadata": {
        "id": "Q5eo8qj7UZ7Y"
      }
    },
    {
      "cell_type": "code",
      "source": [
        "pca.components_"
      ],
      "metadata": {
        "colab": {
          "base_uri": "https://localhost:8080/"
        },
        "id": "xGtys_LDT9N0",
        "outputId": "40a0b4bf-2af8-4d68-c789-5d16c9c0a0e4"
      },
      "execution_count": 75,
      "outputs": [
        {
          "output_type": "execute_result",
          "data": {
            "text/plain": [
              "array([[ 0.3484681 ,  0.32447242,  0.30303652,  0.14186907,  0.30618347,\n",
              "         0.31297263,  0.29718852,  0.3045823 ,  0.29341337,  0.30287672,\n",
              "         0.32053447,  0.08927503],\n",
              "       [ 0.05827591,  0.06034266,  0.15264674, -0.54435586,  0.03109502,\n",
              "         0.03790586,  0.23809571, -0.2315275 , -0.2471928 , -0.20898284,\n",
              "         0.14479001,  0.65946781]])"
            ]
          },
          "metadata": {},
          "execution_count": 75
        }
      ]
    },
    {
      "cell_type": "code",
      "source": [
        "df_comp = pd.DataFrame(pca.components_, columns=customer_X.columns)\n",
        "df_comp"
      ],
      "metadata": {
        "colab": {
          "base_uri": "https://localhost:8080/",
          "height": 176
        },
        "id": "Bg-AMl6gUnfs",
        "outputId": "a49d3108-4977-438b-aec8-60299ae6ed81"
      },
      "execution_count": 77,
      "outputs": [
        {
          "output_type": "execute_result",
          "data": {
            "text/plain": [
              "        amt  category_entertainment  category_food_dining  \\\n",
              "0  0.348468                0.324472              0.303037   \n",
              "1  0.058276                0.060343              0.152647   \n",
              "\n",
              "   category_gas_transport  category_grocery  category_health_fitness  \\\n",
              "0                0.141869          0.306183                 0.312973   \n",
              "1               -0.544356          0.031095                 0.037906   \n",
              "\n",
              "   category_home  category_kids_pets  category_misc  category_personal_care  \\\n",
              "0       0.297189            0.304582       0.293413                0.302877   \n",
              "1       0.238096           -0.231528      -0.247193               -0.208983   \n",
              "\n",
              "   category_shopping  category_travel  \n",
              "0           0.320534         0.089275  \n",
              "1           0.144790         0.659468  "
            ],
            "text/html": [
              "\n",
              "  <div id=\"df-3aa20e55-1d24-47bc-8715-6da938c9e72a\">\n",
              "    <div class=\"colab-df-container\">\n",
              "      <div>\n",
              "<style scoped>\n",
              "    .dataframe tbody tr th:only-of-type {\n",
              "        vertical-align: middle;\n",
              "    }\n",
              "\n",
              "    .dataframe tbody tr th {\n",
              "        vertical-align: top;\n",
              "    }\n",
              "\n",
              "    .dataframe thead th {\n",
              "        text-align: right;\n",
              "    }\n",
              "</style>\n",
              "<table border=\"1\" class=\"dataframe\">\n",
              "  <thead>\n",
              "    <tr style=\"text-align: right;\">\n",
              "      <th></th>\n",
              "      <th>amt</th>\n",
              "      <th>category_entertainment</th>\n",
              "      <th>category_food_dining</th>\n",
              "      <th>category_gas_transport</th>\n",
              "      <th>category_grocery</th>\n",
              "      <th>category_health_fitness</th>\n",
              "      <th>category_home</th>\n",
              "      <th>category_kids_pets</th>\n",
              "      <th>category_misc</th>\n",
              "      <th>category_personal_care</th>\n",
              "      <th>category_shopping</th>\n",
              "      <th>category_travel</th>\n",
              "    </tr>\n",
              "  </thead>\n",
              "  <tbody>\n",
              "    <tr>\n",
              "      <th>0</th>\n",
              "      <td>0.348468</td>\n",
              "      <td>0.324472</td>\n",
              "      <td>0.303037</td>\n",
              "      <td>0.141869</td>\n",
              "      <td>0.306183</td>\n",
              "      <td>0.312973</td>\n",
              "      <td>0.297189</td>\n",
              "      <td>0.304582</td>\n",
              "      <td>0.293413</td>\n",
              "      <td>0.302877</td>\n",
              "      <td>0.320534</td>\n",
              "      <td>0.089275</td>\n",
              "    </tr>\n",
              "    <tr>\n",
              "      <th>1</th>\n",
              "      <td>0.058276</td>\n",
              "      <td>0.060343</td>\n",
              "      <td>0.152647</td>\n",
              "      <td>-0.544356</td>\n",
              "      <td>0.031095</td>\n",
              "      <td>0.037906</td>\n",
              "      <td>0.238096</td>\n",
              "      <td>-0.231528</td>\n",
              "      <td>-0.247193</td>\n",
              "      <td>-0.208983</td>\n",
              "      <td>0.144790</td>\n",
              "      <td>0.659468</td>\n",
              "    </tr>\n",
              "  </tbody>\n",
              "</table>\n",
              "</div>\n",
              "      <button class=\"colab-df-convert\" onclick=\"convertToInteractive('df-3aa20e55-1d24-47bc-8715-6da938c9e72a')\"\n",
              "              title=\"Convert this dataframe to an interactive table.\"\n",
              "              style=\"display:none;\">\n",
              "        \n",
              "  <svg xmlns=\"http://www.w3.org/2000/svg\" height=\"24px\"viewBox=\"0 0 24 24\"\n",
              "       width=\"24px\">\n",
              "    <path d=\"M0 0h24v24H0V0z\" fill=\"none\"/>\n",
              "    <path d=\"M18.56 5.44l.94 2.06.94-2.06 2.06-.94-2.06-.94-.94-2.06-.94 2.06-2.06.94zm-11 1L8.5 8.5l.94-2.06 2.06-.94-2.06-.94L8.5 2.5l-.94 2.06-2.06.94zm10 10l.94 2.06.94-2.06 2.06-.94-2.06-.94-.94-2.06-.94 2.06-2.06.94z\"/><path d=\"M17.41 7.96l-1.37-1.37c-.4-.4-.92-.59-1.43-.59-.52 0-1.04.2-1.43.59L10.3 9.45l-7.72 7.72c-.78.78-.78 2.05 0 2.83L4 21.41c.39.39.9.59 1.41.59.51 0 1.02-.2 1.41-.59l7.78-7.78 2.81-2.81c.8-.78.8-2.07 0-2.86zM5.41 20L4 18.59l7.72-7.72 1.47 1.35L5.41 20z\"/>\n",
              "  </svg>\n",
              "      </button>\n",
              "      \n",
              "  <style>\n",
              "    .colab-df-container {\n",
              "      display:flex;\n",
              "      flex-wrap:wrap;\n",
              "      gap: 12px;\n",
              "    }\n",
              "\n",
              "    .colab-df-convert {\n",
              "      background-color: #E8F0FE;\n",
              "      border: none;\n",
              "      border-radius: 50%;\n",
              "      cursor: pointer;\n",
              "      display: none;\n",
              "      fill: #1967D2;\n",
              "      height: 32px;\n",
              "      padding: 0 0 0 0;\n",
              "      width: 32px;\n",
              "    }\n",
              "\n",
              "    .colab-df-convert:hover {\n",
              "      background-color: #E2EBFA;\n",
              "      box-shadow: 0px 1px 2px rgba(60, 64, 67, 0.3), 0px 1px 3px 1px rgba(60, 64, 67, 0.15);\n",
              "      fill: #174EA6;\n",
              "    }\n",
              "\n",
              "    [theme=dark] .colab-df-convert {\n",
              "      background-color: #3B4455;\n",
              "      fill: #D2E3FC;\n",
              "    }\n",
              "\n",
              "    [theme=dark] .colab-df-convert:hover {\n",
              "      background-color: #434B5C;\n",
              "      box-shadow: 0px 1px 3px 1px rgba(0, 0, 0, 0.15);\n",
              "      filter: drop-shadow(0px 1px 2px rgba(0, 0, 0, 0.3));\n",
              "      fill: #FFFFFF;\n",
              "    }\n",
              "  </style>\n",
              "\n",
              "      <script>\n",
              "        const buttonEl =\n",
              "          document.querySelector('#df-3aa20e55-1d24-47bc-8715-6da938c9e72a button.colab-df-convert');\n",
              "        buttonEl.style.display =\n",
              "          google.colab.kernel.accessAllowed ? 'block' : 'none';\n",
              "\n",
              "        async function convertToInteractive(key) {\n",
              "          const element = document.querySelector('#df-3aa20e55-1d24-47bc-8715-6da938c9e72a');\n",
              "          const dataTable =\n",
              "            await google.colab.kernel.invokeFunction('convertToInteractive',\n",
              "                                                     [key], {});\n",
              "          if (!dataTable) return;\n",
              "\n",
              "          const docLinkHtml = 'Like what you see? Visit the ' +\n",
              "            '<a target=\"_blank\" href=https://colab.research.google.com/notebooks/data_table.ipynb>data table notebook</a>'\n",
              "            + ' to learn more about interactive tables.';\n",
              "          element.innerHTML = '';\n",
              "          dataTable['output_type'] = 'display_data';\n",
              "          await google.colab.output.renderOutput(dataTable, element);\n",
              "          const docLink = document.createElement('div');\n",
              "          docLink.innerHTML = docLinkHtml;\n",
              "          element.appendChild(docLink);\n",
              "        }\n",
              "      </script>\n",
              "    </div>\n",
              "  </div>\n",
              "  "
            ]
          },
          "metadata": {},
          "execution_count": 77
        }
      ]
    },
    {
      "cell_type": "markdown",
      "source": [
        " - 인덱스 0과 1은 각각 주성분 PC1과 PC2를 의미"
      ],
      "metadata": {
        "id": "Xb7a5CtjU6mh"
      }
    },
    {
      "cell_type": "code",
      "source": [
        "# sns.heatmap(pca.components_) # 가능하지만 변수명이 없어 해석에 어려움\n",
        "sns.heatmap(df_comp) # 데이터프레임을 활용하므로 변수명까지 포함시킬 수 있음"
      ],
      "metadata": {
        "colab": {
          "base_uri": "https://localhost:8080/",
          "height": 394
        },
        "id": "5JiXMk8lU2mW",
        "outputId": "03ccfdd4-3697-47fc-f15e-e41fdac86a29"
      },
      "execution_count": 81,
      "outputs": [
        {
          "output_type": "execute_result",
          "data": {
            "text/plain": [
              "<matplotlib.axes._subplots.AxesSubplot at 0x7fca2f6608d0>"
            ]
          },
          "metadata": {},
          "execution_count": 81
        },
        {
          "output_type": "display_data",
          "data": {
            "text/plain": [
              "<Figure size 432x288 with 2 Axes>"
            ],
            "image/png": "[encoded data removed]"
          },
          "metadata": {
            "needs_background": "light"
          }
        }
      ]
    },
    {
      "cell_type": "markdown",
      "source": [
        "# 데이터의 차원을 축소해 학습 시간을 줄이고 성능을 향상시키자\n",
        " - 알고리즘 : 주성분 분석(PCA)\n",
        " - 문제유형 : 비지도 학습\n",
        " - 평가지표 : AUC\n",
        " - 사용모델 : PCA"
      ],
      "metadata": {
        "id": "8oiF1j0KVaBt"
      }
    },
    {
      "cell_type": "markdown",
      "source": [
        "### 다차원 데이터 불러오기\n"
      ],
      "metadata": {
        "id": "Qc-I1v-aVq9T"
      }
    },
    {
      "cell_type": "code",
      "source": [
        "file_url = 'https://media.githubusercontent.com/media/musthave-ML10/data_source/main/anonymous.csv'\n",
        "anonymous = pd.read_csv(file_url)"
      ],
      "metadata": {
        "id": "3hI5wkqKV08X"
      },
      "execution_count": 83,
      "outputs": []
    },
    {
      "cell_type": "code",
      "source": [
        "anonymous.shape # 독립변수 4296개, 20000개의 데이터"
      ],
      "metadata": {
        "colab": {
          "base_uri": "https://localhost:8080/"
        },
        "id": "iLlpq4QpV8Dg",
        "outputId": "4b0e2a1b-50e2-45ae-bf9a-0ed7b07d4dba"
      },
      "execution_count": 88,
      "outputs": [
        {
          "output_type": "execute_result",
          "data": {
            "text/plain": [
              "(20000, 4297)"
            ]
          },
          "metadata": {},
          "execution_count": 88
        }
      ]
    },
    {
      "cell_type": "code",
      "source": [
        "anonymous.columns[0] # 종속변수명"
      ],
      "metadata": {
        "colab": {
          "base_uri": "https://localhost:8080/",
          "height": 36
        },
        "id": "v7DRWNOhWLCZ",
        "outputId": "f68f3e09-11de-4a71-888e-2a8103ea51c9"
      },
      "execution_count": 90,
      "outputs": [
        {
          "output_type": "execute_result",
          "data": {
            "text/plain": [
              "'class'"
            ],
            "application/vnd.google.colaboratory.intrinsic+json": {
              "type": "string"
            }
          },
          "metadata": {},
          "execution_count": 90
        }
      ]
    },
    {
      "cell_type": "markdown",
      "source": [
        " - 결측치 확인"
      ],
      "metadata": {
        "id": "qc_2YzTCWuF6"
      }
    },
    {
      "cell_type": "code",
      "source": [
        "# anonymous.isna() # 결측치 → True\n",
        "# anonymous.isna().sum() # 변수별 (True의)합계 → Series\n",
        "anonymous.isna().sum().sum() # Series 값의 합계(즉, DataFrame의 결측치 전체합계)"
      ],
      "metadata": {
        "colab": {
          "base_uri": "https://localhost:8080/"
        },
        "id": "IlKzP3nBWc07",
        "outputId": "feea4990-f3b9-47f8-ac1e-15fb7391398c"
      },
      "execution_count": 91,
      "outputs": [
        {
          "output_type": "execute_result",
          "data": {
            "text/plain": [
              "0"
            ]
          },
          "metadata": {},
          "execution_count": 91
        }
      ]
    },
    {
      "cell_type": "markdown",
      "source": [
        "### PCA에 따른 모델링 성능/결과 비교하기\n"
      ],
      "metadata": {
        "id": "wzGyLyrJXObq"
      }
    },
    {
      "cell_type": "code",
      "source": [
        "from sklearn.model_selection import train_test_split\n",
        "X_train, X_test, y_train, y_test = train_test_split(anonymous.drop('class', axis=1), anonymous['class'],\n",
        "                                                    test_size=0.2, random_state=100) # stratify=anonymous['class'] : class의 비율을 train, test에 동일하게 나눠줌\n",
        "                                                    "
      ],
      "metadata": {
        "id": "vRUDaQcGXMkT"
      },
      "execution_count": 92,
      "outputs": []
    },
    {
      "cell_type": "markdown",
      "source": [
        " - PCA에서도 변수 간의 스케일을 일정하게 맞춰주는 것이 중요 → StandardScaler()"
      ],
      "metadata": {
        "id": "IrLRJA1_YFiw"
      }
    },
    {
      "cell_type": "code",
      "source": [
        "from sklearn.preprocessing import StandardScaler\n",
        "\n",
        "scaler = StandardScaler()\n",
        "scaler"
      ],
      "metadata": {
        "id": "rNs1fAizXovf"
      },
      "execution_count": null,
      "outputs": []
    }
  ]
}