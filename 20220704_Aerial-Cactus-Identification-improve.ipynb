{
  "cells": [
    {
      "cell_type": "markdown",
      "metadata": {
        "id": "view-in-github",
        "colab_type": "text"
      },
      "source": [
        "<a href=\"https://colab.research.google.com/github/kiyong21c/kaggle/blob/main/20220704_Aerial-Cactus-Identification-improve.ipynb\" target=\"_parent\"><img src=\"https://colab.research.google.com/assets/colab-badge.svg\" alt=\"Open In Colab\"/></a>"
      ]
    },
    {
      "cell_type": "code",
      "source": [
        "from google.colab import drive\n",
        "drive.mount('/content/drive')"
      ],
      "metadata": {
        "id": "g8C4TYr9sKTr",
        "outputId": "a8c71804-87e0-42ca-caae-a7f56e88538c",
        "colab": {
          "base_uri": "https://localhost:8080/"
        }
      },
      "execution_count": 1,
      "outputs": [
        {
          "output_type": "stream",
          "name": "stdout",
          "text": [
            "Mounted at /content/drive\n"
          ]
        }
      ]
    },
    {
      "cell_type": "markdown",
      "source": [
        "# 항공 사진 내 선인장 식별\n",
        " - 항공 사진 내 선인장이 있을 확률 예측\n",
        " - 문제유형 : 이진분류\n",
        " - 평가지표 : ROC AUC(1: 완벽히 예측)\n",
        " - 사용모델 : 기본 CNN\n",
        " - 훈련/테스트/샘플제출 데이터 이외 이미지 데이터(훈련/테스트)"
      ],
      "metadata": {
        "id": "mXn6wsujp20_"
      }
    },
    {
      "cell_type": "markdown",
      "source": [
        "## 성능개선\n",
        "   - 1.다양한 이미지 변환\n",
        "   - 2.더 깊은 신경망 : 합성곱(x5), 배치 정규화, 풀링, 평탄화, 전결합(x2)\n",
        "   - 3.더 뛰어난 옵티마이저 : Adamax\n",
        "   - 4.훈련 에폭 수 증가"
      ],
      "metadata": {
        "id": "Y0TNS2qbG6zB"
      }
    },
    {
      "cell_type": "markdown",
      "source": [
        "### 데이터 준비"
      ],
      "metadata": {
        "id": "BCXRCfCfHg2E"
      }
    },
    {
      "cell_type": "markdown",
      "source": [
        "#### 시드값 고정\n",
        " - 다시 실행해도 같은 결과를 얻기 위함\n",
        " - 머신러닝의 random_state 파라미터 역할\n",
        " - **파이토치로 딥러닝 모델링시 모델 훈련시가 아니라 맨처음에 시드값 고정**"
      ],
      "metadata": {
        "id": "SiLx0pIaIhQF"
      }
    },
    {
      "cell_type": "code",
      "source": [
        "import torch\n",
        "import random\n",
        "import numpy as np\n",
        "import os\n",
        "\n",
        "# 시드값 고정\n",
        "## 이 모든 시드값 고정 코드가 반드시 필요한건 아니다(다른 환경에 다양하게 적용되도록 많은 시드 고정)\n",
        "## 파이토치는 시드값 고정하더라도 해시값들에 의해 결과달라질수 있음\n",
        "## 시드값 고정시 속도 저하 및 예측 성능 저하될 수 있음(결과를 재현할 필요 있을시에만 시드고정)\n",
        "seed = 50\n",
        "os.environ['PYTHONHASHSEED'] = str(seed)\n",
        "random.seed(seed)               # 파이썬 난수 생성기 시드 고정\n",
        "np.random.seed(seed)            # 넘파이 난수 생성기 시드 고정\n",
        "torch.manual_seed(seed)         # 파이토치 난수 생성기 시드 고정(CPU 사용시)\n",
        "torch.cuda.manual_seed(seed)     # 파이토치 난수 생성기 시드 고정(GPU 사용시)\n",
        "torch.cuda.manual_seed_all(seed) # 파이토치 난수 생성기 시드 고정(멀티GPU 사용시)\n",
        "torch.backends.cudnn.deterministic= True    # 확정적 연산 사용\n",
        "torch.backends.cudnn.benchmark= False       # 벤치마크 기능 해제\n",
        "torch.backends.cudnn.enabled= False         # cudnn 사용 해제"
      ],
      "metadata": {
        "id": "issgJPNdI3zW"
      },
      "execution_count": 2,
      "outputs": []
    },
    {
      "cell_type": "markdown",
      "source": [
        "#### GPU 장비 설정\n",
        " - 정형 데이터(csv파일 등)를 다루는 머신러닝 경진대회\n",
        " - 비정형 데이터(이미지, 음성, 텍스트)를 다루는 딥러닝 경진대회\n",
        "  \n",
        "  > 비정형 데이터 : 연산량이 많다 → GPU 사용(수만개의 단순연산을 병렬로 처리)"
      ],
      "metadata": {
        "id": "b2aO9s7CKVRQ"
      }
    },
    {
      "cell_type": "code",
      "source": [
        "if torch.cuda.is_available():\n",
        "    device = torch.device('cuda')\n",
        "else:    device = torch.device('cpu')"
      ],
      "metadata": {
        "id": "pGWWsp7fK_Fv"
      },
      "execution_count": 3,
      "outputs": []
    },
    {
      "cell_type": "markdown",
      "source": [
        "\n",
        "장비 설정 코드는 아래와 같이 한줄로도 표현 가능\n",
        "```\n",
        "device = torch.device('cuda' if torch.cuda.is_available() else 'cpu')\n",
        "```\n",
        "\n"
      ],
      "metadata": {
        "id": "sX3CbEzXLW9b"
      }
    },
    {
      "cell_type": "markdown",
      "source": [
        " - CUDA : 엔비디아 개발한 병렬처리 플랫폼"
      ],
      "metadata": {
        "id": "Sc9pi9tMLLQM"
      }
    },
    {
      "cell_type": "code",
      "source": [
        "device"
      ],
      "metadata": {
        "id": "QpiMddM9Lopa",
        "outputId": "0bdea481-ce77-4b59-d13e-15f94adcc818",
        "colab": {
          "base_uri": "https://localhost:8080/"
        }
      },
      "execution_count": 4,
      "outputs": [
        {
          "output_type": "execute_result",
          "data": {
            "text/plain": [
              "device(type='cuda')"
            ]
          },
          "metadata": {},
          "execution_count": 4
        }
      ]
    },
    {
      "cell_type": "markdown",
      "source": [
        " - 아무 설정 하지 않으면 **CPU**\n",
        " - 런타임 유형 GPU변경시 **cuda**"
      ],
      "metadata": {
        "id": "6foUjA3tLqgT"
      }
    },
    {
      "cell_type": "markdown",
      "source": [
        " - device 변수에 CUDA가 할당됨\n",
        " - 여기에 모델과 데이터를 추후 할당 예정"
      ],
      "metadata": {
        "id": "AEglz6TIMMYD"
      }
    },
    {
      "cell_type": "markdown",
      "source": [
        "### 데이터 준비\n",
        " - 훈련/검증 데이터 분리\n",
        " - 데이터셋 클래스 정의(변환기)\n",
        "\n",
        "  > 변환기가 원본 데이터를 다양한 형태로 변환\n",
        "\n",
        "  > 모델 훈련에 필요한 데이터를 미니배치 단위로 공급\n",
        " - 데이터셋 생성\n",
        " - 데이터 로더 생성"
      ],
      "metadata": {
        "id": "IZY50vKSNpfh"
      }
    },
    {
      "cell_type": "markdown",
      "source": [
        " - Tip : 폴더 삭제 방법\n",
        "```\n",
        "import shutil\n",
        "shutil.rmtree('/content/drive/MyDrive/Colab Notebooks/kaggle/input/Aerial-Cactus-Identification/test', ignore_errors=True)\n",
        "shutil.rmtree('/content/drive/MyDrive/Colab Notebooks/kaggle/input/Aerial-Cactus-Identification/train', ignore_errors=True)\n",
        "```\n",
        "\n"
      ],
      "metadata": {
        "id": "9W_OtYkrTHsR"
      }
    },
    {
      "cell_type": "code",
      "source": [
        "import pandas as pd\n",
        "\n",
        "data_path = '/content/drive/MyDrive/Colab Notebooks/kaggle/input/Aerial-Cactus-Identification/'\n",
        "\n",
        "labels = pd.read_csv(data_path + 'train.csv')\n",
        "submission = pd.read_csv(data_path + 'sample_submission.csv')"
      ],
      "metadata": {
        "id": "B3p0Yhe57OJM"
      },
      "execution_count": 5,
      "outputs": []
    },
    {
      "cell_type": "code",
      "source": [
        "from zipfile import ZipFile\n",
        "\n",
        "# 훈련 이미지 데이터 압축 풀기\n",
        "with ZipFile(data_path + 'train.zip') as zipper:\n",
        "    zipper.extractall() # zip파일이 있던 경로가 아닌 'content/train'에 압축이 해제됨\n",
        "\n",
        "# 테스트 이미지 데이터 압축 풀기\n",
        "with ZipFile(data_path + 'test.zip') as zipper:\n",
        "    zipper.extractall() # zip파일이 있던 경로가 아닌 'content/test'에 압축이 해제됨"
      ],
      "metadata": {
        "id": "q1MplrYISdYf"
      },
      "execution_count": 6,
      "outputs": []
    },
    {
      "cell_type": "markdown",
      "source": [
        "#### 훈련 데이터, 검증 데이터 분리\n",
        " - 현재의 labels에는 train.csv가 담겨있음\n",
        " - 이 데이터를 훈련/검증 데이터로 나눔"
      ],
      "metadata": {
        "id": "F0aHUwuiTi4I"
      }
    },
    {
      "cell_type": "code",
      "source": [
        "from sklearn.model_selection import train_test_split\n",
        "\n",
        "train, valid = train_test_split(labels,     # data, target 두가지를 전달하여 X_train, X_valid, y_train, y_valid 나눌수도 있음\n",
        "                                test_size=0.1,\n",
        "                                stratify=labels['has_cactus'], # 타깃값의 열이름 전달해서 타깃값 비율을 맞춰서 split\n",
        "                                random_state=50)"
      ],
      "metadata": {
        "id": "Y5e_Ous3S-Qu"
      },
      "execution_count": 7,
      "outputs": []
    },
    {
      "cell_type": "code",
      "source": [
        "print('훈련 데이터 개수 :', len(train))\n",
        "print('검증 데이터 개수 :', len(valid))"
      ],
      "metadata": {
        "id": "y8JcpenqUq98",
        "outputId": "b7860bf3-d6ad-4f02-c0a6-ceb7882a9d87",
        "colab": {
          "base_uri": "https://localhost:8080/"
        }
      },
      "execution_count": 8,
      "outputs": [
        {
          "output_type": "stream",
          "name": "stdout",
          "text": [
            "훈련 데이터 개수 : 15750\n",
            "검증 데이터 개수 : 1750\n"
          ]
        }
      ]
    },
    {
      "cell_type": "code",
      "source": [
        "import matplotlib.pyplot as plt\n",
        "\n",
        "plt.figure(figsize=(5, 10))\n",
        "fig, axes = plt.subplots(1, 2)\n",
        "\n",
        "\n",
        "axes[0].pie(train['has_cactus'].value_counts(), labels=['Has cactus', 'Hasnt cactus'], autopct='%0.1f%%');\n",
        "axes[0].set_title('train_target_ratio')\n",
        "axes[1].pie(valid['has_cactus'].value_counts(), labels=['Has cactus', 'Hasnt cactus'], autopct='%0.1f%%');\n",
        "axes[1].set_title('valid_target_ratio')\n"
      ],
      "metadata": {
        "id": "fDhKrleiU4kh",
        "outputId": "2d5ef165-fbae-4758-c8d7-474bdcca2f2c",
        "colab": {
          "base_uri": "https://localhost:8080/",
          "height": 235
        }
      },
      "execution_count": 9,
      "outputs": [
        {
          "output_type": "execute_result",
          "data": {
            "text/plain": [
              "Text(0.5, 1.0, 'valid_target_ratio')"
            ]
          },
          "metadata": {},
          "execution_count": 9
        },
        {
          "output_type": "display_data",
          "data": {
            "text/plain": [
              "<Figure size 360x720 with 0 Axes>"
            ]
          },
          "metadata": {}
        },
        {
          "output_type": "display_data",
          "data": {
            "text/plain": [
              "<Figure size 432x288 with 2 Axes>"
            ],
            "image/png": "[encoded data removed]"
          },
          "metadata": {}
        }
      ]
    },
    {
      "cell_type": "markdown",
      "source": [
        " - train, valid의 각각 target 비율 동일"
      ],
      "metadata": {
        "id": "Op9yOAcYa_4Y"
      }
    },
    {
      "cell_type": "markdown",
      "source": [
        "#### 데이터셋 클래스 정의\n",
        " - 파이토치로 신경망 모델 구축하려면 데이터셋도 일정한 형식에 맞게 정의"
      ],
      "metadata": {
        "id": "7rMZRkuMbOPP"
      }
    },
    {
      "cell_type": "code",
      "source": [
        "import cv2\n",
        "from torch.utils.data import Dataset # 데이터 생성을 위한 클래스"
      ],
      "metadata": {
        "id": "dfu0mEWtVOW9"
      },
      "execution_count": 10,
      "outputs": []
    },
    {
      "cell_type": "markdown",
      "source": [
        " - Dataset은 추상 클래스 : 객체를 곧바로 생성할 수 없고, 상속만 할 수 있는 클래스\n",
        " - 추상 클래스 사용 이유\n",
        "\n",
        "  > 상속받는 클래스들의 메서드를 규격하 하기 위함\n",
        "  \n",
        "  > 상속을 강제해 메서드 시그니처 일치시킴\n",
        "\n",
        " - Dataset을 상속받은 다음 특수 메서드인 \\_\\_len__()과 \\_\\_getitem__()을 재정의(오버라이딩)\n",
        "\n",
        "  > \\_\\_len__() : 데이터셋 크기를 반환\n",
        "\n",
        "  > \\_\\_getitem__() : 인덱스를 전달받아 인덱스에 해당하는 데이터 반환"
      ],
      "metadata": {
        "id": "o1OtqFcUbdrW"
      }
    },
    {
      "cell_type": "code",
      "source": [
        "class ImageDataset(Dataset):\n",
        "    # 초기화 메서드(생성자)\n",
        "    def __init__(self, df, img_dir='./', transform=None):\n",
        "        super().__init__()  # 상속받은 Dataset의 생성자 호출\n",
        "        # 전달받은 인수들 저장\n",
        "        self.df = df\n",
        "        self.img_dir = img_dir\n",
        "        self.transform = transform\n",
        "\n",
        "    # 데이터셋 크기 반환 메서드\n",
        "    def __len__(self):\n",
        "        return len(self.df)\n",
        "    \n",
        "    # 인덱스(idx)에 해당하는 데이터 반환 메서드\n",
        "    def __getitem__(self, idx):\n",
        "        img_id = self.df.iloc[idx, 0]       # 이미지 ID\n",
        "        img_path = self.img_dir + img_id    # 이미지 파일 경로\n",
        "        image = cv2.imread(img_path)\n",
        "        image = cv2.cvtColor(image, cv2.COLOR_BGR2RGB)\n",
        "        label = self.df.iloc[idx, 1]        # 이미지 레이블(타깃값)\n",
        "    \n",
        "        if self.transform is not None:\n",
        "            image = self.transform(image)\n",
        "        return image, label"
      ],
      "metadata": {
        "id": "rURN4crebdQy"
      },
      "execution_count": 11,
      "outputs": []
    },
    {
      "cell_type": "markdown",
      "source": [
        "![overwriting.PNG](data:image/png;base64,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)"
      ],
      "metadata": {
        "id": "8DXStxxCezIq"
      }
    },
    {
      "cell_type": "markdown",
      "source": [
        " -  클래스 상속 예재"
      ],
      "metadata": {
        "id": "LpqlZjI_nxzJ"
      }
    },
    {
      "cell_type": "code",
      "source": [
        "class Person:\n",
        "    def __init__(self, name, age):\n",
        "        self.name = name\n",
        "        self.age = age\n",
        "\n",
        "    def get_name(self):\n",
        "        print(f'제 이름은 {self.name}입니다.')\n",
        "    \n",
        "    def get_age(self):\n",
        "        print(f'제 나이는 {self.age}세 입니다.')"
      ],
      "metadata": {
        "id": "Dc2D5FO4ez84"
      },
      "execution_count": 12,
      "outputs": []
    },
    {
      "cell_type": "code",
      "source": [
        "class Student(Person):\n",
        "    def __init__(self, name, age, GPA):\n",
        "        super().__init__(name, age)\n",
        "        self.GPA = GPA\n",
        "\n",
        "    def get_GPA(self):\n",
        "        print(f'제 학점은 {self.GPA}입니다.')"
      ],
      "metadata": {
        "id": "K4AxnuRzmwvo"
      },
      "execution_count": 13,
      "outputs": []
    },
    {
      "cell_type": "code",
      "source": [
        "student_a = Student('김OO', 27, 3.4)\n",
        "student_a.get_name()"
      ],
      "metadata": {
        "id": "Pmu64ACBm7ma",
        "outputId": "39623c81-66e8-42fe-921c-89389f040eee",
        "colab": {
          "base_uri": "https://localhost:8080/"
        }
      },
      "execution_count": 14,
      "outputs": [
        {
          "output_type": "stream",
          "name": "stdout",
          "text": [
            "제 이름은 김OO입니다.\n"
          ]
        }
      ]
    },
    {
      "cell_type": "markdown",
      "source": [
        " - 파이토치 모델로 이미지를 다루려면, 이미지 데이터 → 텐서 타입"
      ],
      "metadata": {
        "id": "IJTPgJGIn763"
      }
    },
    {
      "cell_type": "markdown",
      "source": [
        "#### 이미지 변환과 데이터 증강"
      ],
      "metadata": {
        "id": "cnd8i0L1NV_u"
      }
    },
    {
      "cell_type": "markdown",
      "source": [
        " - torchvision : 파이토치용 컴퓨터 비전 라이브러리\n",
        " - transforms : 다양한 이미지 변환기 제공하는 모듈\n",
        " - ToTensor() 메서드 : PIL이미지/ndarray → 텐서\n",
        "\n",
        "  > (채널 수, 가로 픽셀 수, 세로 픽셀 수)\n",
        "\n",
        "  > (배치 크기, 채널 수, 가로 픽셀 수, 세로 픽셀 수)\n",
        "\n",
        " - Pad() : 이미지 주변에 패딩 추가\n",
        " - RandomHorizontalFlip() : 이미지를 무작위로 좌우 대칭 변환\n",
        " - RandomVertivalFlip() : 이미지를 무작위로 상하 대칭 변환\n",
        " - RandomRotation() : 이미지를 무작위로 회전\n",
        " - Normalize() : 텐서 형태의 이미지 데이터를 정규화\n",
        "\n",
        " 위와 같은 다양한 변환기들을 Compose()로 묶어 하나의 변환기처럼 사용"
      ],
      "metadata": {
        "id": "z0iA2818n1Ww"
      }
    },
    {
      "cell_type": "markdown",
      "source": [
        "#### 이미지 변환기 정의\n",
        " - 훈련 시에는 모델을 다양한 상황에 적응시키는 것이 좋으나,\n",
        " - 평가 및 테스트 시에는 원본 이미지와 너무 달라지지 않게 적용해야함"
      ],
      "metadata": {
        "id": "SAZYC87SU_-C"
      }
    },
    {
      "cell_type": "code",
      "source": [
        "from torchvision import transforms # 이미지 변환을 위한 모듈\n",
        "\n",
        "# 훈련 데이터용 변환기\n",
        "transform_train = transforms.Compose([transforms.ToTensor(),                        # 이미지를 텐서객체로 만듦 : 이어서 수행되는 다른변환기들이 텐서 객체를 입력받기 때문에 가장 앞단에 추가\n",
        "                                      transforms.Pad(32, padding_mode='symmetric'), # 원본32크기의 이미지 주변에 32두께의 패딩 : 가로 세로크기가 각각 세배가 됨(상하좌우 대칭되게)\n",
        "                                      transforms.RandomHorizontalFlip(),            # 전체 이미지 중 50%(기본값)를 무작위로 뽑아 수평 대칭\n",
        "                                      transforms.RandomVerticalFlip(),\n",
        "                                      transforms.RandomRotation(10),                # -10~10도 사이의 값만큼 무작위로 회전\n",
        "                                      transforms.Normalize((0.485, 0.456, 0.406),\n",
        "                                                           (0.229, 0.224, 0.225))])\n",
        "                                               # Normalize((meanR, meanG, meanB), (stdR, stdG, stdB))\n",
        "                                               # 3채널 각각의 (X-mean)/std로 계산하는 정규화\n",
        "\n",
        "# 검증 및 테스트 데이터용 변환기\n",
        "transform_test = transforms.Compose([transforms.ToTensor(),\n",
        "                                     transforms.Pad(32, padding_mode='symmetric'),\n",
        "                                     transforms.Normalize((0.485, 0.456, 0.406),\n",
        "                                                           (0.229, 0.224, 0.225))])\n"
      ],
      "metadata": {
        "id": "9IQBejvTnCnL"
      },
      "execution_count": 16,
      "outputs": []
    },
    {
      "cell_type": "markdown",
      "source": [
        " - 훈련 데이터셋과 검증 데이터셋 생성 : ImageDataset() 이용"
      ],
      "metadata": {
        "id": "GrJvguomoyUV"
      }
    },
    {
      "cell_type": "code",
      "source": [
        "dataset_train = ImageDataset(df=train, img_dir='train/', transform=transform_train)\n",
        "dataset_valid = ImageDataset(df=valid, img_dir='train/', transform=transform_test)"
      ],
      "metadata": {
        "id": "EpqbVroHoXKy"
      },
      "execution_count": 17,
      "outputs": []
    },
    {
      "cell_type": "markdown",
      "source": [
        "#### 데이터 로더 생성\n",
        " - 데이터 로더 : 지정한 배치 크기만큼씩 데이터를 불러오는 객체\n",
        " - 배치(묶음) 단위로 데이터를 자겨와 훈련 하면 빠르다"
      ],
      "metadata": {
        "id": "2GQbktoFpaL0"
      }
    },
    {
      "cell_type": "code",
      "source": [
        "from torch.utils.data import DataLoader # 데이터 로더 클래스\n",
        "\n",
        "loader_train = DataLoader(dataset=dataset_train, batch_size=32, shuffle=True)\n",
        "loader_valid = DataLoader(dataset=dataset_valid, batch_size=32, shuffle=False)"
      ],
      "metadata": {
        "id": "FU1kF1CHpWQR"
      },
      "execution_count": 18,
      "outputs": []
    },
    {
      "cell_type": "markdown",
      "source": [
        " - 배치 크기가 작으면\n",
        "\n",
        "  > 규제효과 → 일반화 성능 향상\n",
        "\n",
        "  > 이터레이션 많아짐 → 훈련 시간 길어짐\n",
        "\n",
        "  > 배치 크기가 작을수록 학습률도 작게 설정 → 훈련 시간 길어짐"
      ],
      "metadata": {
        "id": "Gk9YlaYEp_4j"
      }
    },
    {
      "cell_type": "markdown",
      "source": [
        "### 합성공 신경망 모델 생성\n",
        " - 신경망 계층이 깊어지면 대체로 예측력 상승\n",
        " - 지나치게 깊으면 과대적합 우려\n",
        " - 배치정규화 및 활성화 함수 Leaky ReLU 적용\n"
      ],
      "metadata": {
        "id": "lFN9Eymuqt-z"
      }
    },
    {
      "cell_type": "code",
      "source": [
        "import torch.nn as nn # 신경망 모듈\n",
        "import torch.nn.functional as F # 신경망 모듈에서 자주 사용되는 함수를 모아둔 모듈"
      ],
      "metadata": {
        "id": "I_SOlLEtp_eX"
      },
      "execution_count": 19,
      "outputs": []
    },
    {
      "cell_type": "code",
      "source": [
        "# 기존 신경망 모델링 방식\n",
        "\n",
        "class Model(nn.Module):     # nn.Module : 모든 신경망 모듈의 기반 클래스\n",
        "    # 신경망 계층 정의\n",
        "    def __init__(self):\n",
        "        super().__init__()  # 상속받은 nn.Module의 __init__()메서드 호출\n",
        "\n",
        "        # 첫 번째 합성곱 계층\n",
        "        self.conv1 = nn.Conv2d(in_channels=3, out_channels=32,\n",
        "                               kernel_size=3, padding=2)\n",
        "        # 두 번째 합성곱 계층\n",
        "        self.conv2 = nn.Conv2d(in_channels=32, out_channels=64,\n",
        "                               kernel_size=3, padding=2)\n",
        "        # 최대 풀링 계층\n",
        "        self.max_pool = nn.MaxPool2d(kernel_size=2)\n",
        "        # 평균 풀링 계층\n",
        "        self.avg_pool = nn.AvgPool2d(kernel_size=2)\n",
        "        # 전결합 계층\n",
        "        self.fc = nn.Linear(in_features=64 * 4 * 4, out_features=2) # 최종 출력값 개수 : 0,1 이므로 개수는 2\n",
        "    # 순전파 출력 정의\n",
        "    def forward(self, x):\n",
        "        x = self.max_pool(F.relu(self.conv1(x))) # 첫 번째 합성곱 연산 → ReLU → 최대 풀링\n",
        "        x = self.max_pool(F.relu(self.conv2(x))) # 두 번째 합성곱 연산 → ReLU → 최대 풀링\n",
        "        x = self.avg_pool(x) # 평균 풀링\n",
        "        x = x.view(-1, 64 * 4 * 4) # 평탄화 : 판다스의 reshape() 함수와 비슷\n",
        "        x = self.fc(x)\n",
        "        return x"
      ],
      "metadata": {
        "id": "ayLHXA3SrHjf"
      },
      "execution_count": null,
      "outputs": []
    },
    {
      "cell_type": "code",
      "source": [
        "# nn.Sequential()을 활용한 신경망(more deeper) 모델링\n",
        "\n",
        "import torch.nn as nn # 신경망 모듈\n",
        "import torch.nn.functional as F # 신경망 모듈에서 자주 사용되는 함수\n",
        "\n",
        "class Model(nn.Module):\n",
        "    # 신경망 계층 정의\n",
        "    def __init__(self):\n",
        "        super().__init__() # 상속받은 nn.Module의 __init__()메서드 호출\n",
        "        # 1~5번째 (합성곱, 배치 정규화, 최대 풀링) 계층\n",
        "        # 초기 이미지 (32, 3, 96, 96) : 배치사이즈32, 채널3, 32패딩하여96x96\n",
        "        self.layer1 = nn.Sequential(nn.Conv2d(in_channels=3, out_channels=32, kernel_size=3, padding=2),\n",
        "                                    nn.BatchNorm2d(32), # Conv2d를 거쳐 채널수가 32가 됨\n",
        "                                    nn.LeakyReLU(),   # ReLU보다 나은 성능\n",
        "                                    nn.MaxPool2d(kernel_size=2))\n",
        "        # 첫번째 합성곱 → 최대풀링 → (32, 32, 49, 49)\n",
        "        self.layer2 = nn.Sequential(nn.Conv2d(in_channels=32, out_channels=64, kernel_size=3, padding=2),\n",
        "                                    nn.BatchNorm2d(64), # Conv2d를 거쳐 채널수가 64가 됨\n",
        "                                    nn.LeakyReLU(),   # ReLU보다 나은 성능\n",
        "                                    nn.MaxPool2d(kernel_size=2))\n",
        "        # 두번째 합성곱 → 최대풀링 → (32, 64, 25, 25)\n",
        "        self.layer3 = nn.Sequential(nn.Conv2d(in_channels=64, out_channels=128, kernel_size=3, padding=2),\n",
        "                                    nn.BatchNorm2d(128), # Conv2d를 거쳐 채널수가 128가 됨\n",
        "                                    nn.LeakyReLU(),   # ReLU보다 나은 성능\n",
        "                                    nn.MaxPool2d(kernel_size=2))\n",
        "        # 세번째 합성곱 → 최대풀링 → (32, 128, 13, 13)\n",
        "        self.layer4 = nn.Sequential(nn.Conv2d(in_channels=128, out_channels=256, kernel_size=3, padding=2),\n",
        "                                    nn.BatchNorm2d(256), # Conv2d를 거쳐 채널수가 256가 됨\n",
        "                                    nn.LeakyReLU(),   # ReLU보다 나은 성능\n",
        "                                    nn.MaxPool2d(kernel_size=2))\n",
        "        # 네번째 합성곱 → 최대풀링 → (32, 256, 7, 7)\n",
        "        self.layer5 = nn.Sequential(nn.Conv2d(in_channels=256, out_channels=512, kernel_size=3, padding=2),\n",
        "                                    nn.BatchNorm2d(512), # Conv2d를 거쳐 채널수가 512가 됨\n",
        "                                    nn.LeakyReLU(),   # ReLU보다 나은 성능\n",
        "                                    nn.MaxPool2d(kernel_size=2))\n",
        "        # 다섯번째 합성곱 → 최대풀링 → (32, 512, 4, 4)\n",
        "        # 평균 풀링 계층\n",
        "        self.avg_pool = nn.AvgPool2d(kernel_size=4)\n",
        "        # 평균 풀링 → (32, 512, 1, 1)\n",
        "        # 전 결합 계층\n",
        "        self.fc1 = nn.Linear(in_features=512*1*1, out_features=64)\n",
        "        self.fc2 = nn.Linear(in_features=64, out_features=2)\n",
        "\n",
        "    # 순전파 출력 정의\n",
        "    def forward(self, x):\n",
        "        x = self.layer1(x)\n",
        "        x = self.layer2(x)\n",
        "        x = self.layer3(x)\n",
        "        x = self.layer4(x)\n",
        "        x = self.layer5(x)\n",
        "        x = self.avg_pool(x)\n",
        "        x = x.view(-1, 512*1*1) # 평탄화 → (배치32, 512)\n",
        "        x = self.fc1(x)\n",
        "        x = self.fc2(x)\n",
        "        return x"
      ],
      "metadata": {
        "id": "lRpI8xaQQ7z2"
      },
      "execution_count": 24,
      "outputs": []
    },
    {
      "cell_type": "markdown",
      "source": [
        " - 이렇게 정의한 Model 클래스로 CNN모델을 생성하여 device 장비에 할당"
      ],
      "metadata": {
        "id": "vNwSUP6Zvpuu"
      }
    },
    {
      "cell_type": "code",
      "source": [
        "model = Model().to(device) # nn.Module이 갖고 있는 to() 메서드"
      ],
      "metadata": {
        "id": "xRyXK4hlvpDy"
      },
      "execution_count": 25,
      "outputs": []
    },
    {
      "cell_type": "markdown",
      "source": [
        " - GPU에 할당한 모델을 model 변수에 저장"
      ],
      "metadata": {
        "id": "G_9it3UYv9OB"
      }
    },
    {
      "cell_type": "code",
      "source": [
        "model"
      ],
      "metadata": {
        "id": "eUJBmRMfv0vy",
        "outputId": "953d79d8-98a8-47b7-c823-16e36cdf796f",
        "colab": {
          "base_uri": "https://localhost:8080/"
        }
      },
      "execution_count": 28,
      "outputs": [
        {
          "output_type": "execute_result",
          "data": {
            "text/plain": [
              "Model(\n",
              "  (layer1): Sequential(\n",
              "    (0): Conv2d(3, 32, kernel_size=(3, 3), stride=(1, 1), padding=(2, 2))\n",
              "    (1): BatchNorm2d(32, eps=1e-05, momentum=0.1, affine=True, track_running_stats=True)\n",
              "    (2): LeakyReLU(negative_slope=0.01)\n",
              "    (3): MaxPool2d(kernel_size=2, stride=2, padding=0, dilation=1, ceil_mode=False)\n",
              "  )\n",
              "  (layer2): Sequential(\n",
              "    (0): Conv2d(32, 64, kernel_size=(3, 3), stride=(1, 1), padding=(2, 2))\n",
              "    (1): BatchNorm2d(64, eps=1e-05, momentum=0.1, affine=True, track_running_stats=True)\n",
              "    (2): LeakyReLU(negative_slope=0.01)\n",
              "    (3): MaxPool2d(kernel_size=2, stride=2, padding=0, dilation=1, ceil_mode=False)\n",
              "  )\n",
              "  (layer3): Sequential(\n",
              "    (0): Conv2d(64, 128, kernel_size=(3, 3), stride=(1, 1), padding=(2, 2))\n",
              "    (1): BatchNorm2d(128, eps=1e-05, momentum=0.1, affine=True, track_running_stats=True)\n",
              "    (2): LeakyReLU(negative_slope=0.01)\n",
              "    (3): MaxPool2d(kernel_size=2, stride=2, padding=0, dilation=1, ceil_mode=False)\n",
              "  )\n",
              "  (layer4): Sequential(\n",
              "    (0): Conv2d(128, 256, kernel_size=(3, 3), stride=(1, 1), padding=(2, 2))\n",
              "    (1): BatchNorm2d(256, eps=1e-05, momentum=0.1, affine=True, track_running_stats=True)\n",
              "    (2): LeakyReLU(negative_slope=0.01)\n",
              "    (3): MaxPool2d(kernel_size=2, stride=2, padding=0, dilation=1, ceil_mode=False)\n",
              "  )\n",
              "  (layer5): Sequential(\n",
              "    (0): Conv2d(256, 512, kernel_size=(3, 3), stride=(1, 1), padding=(2, 2))\n",
              "    (1): BatchNorm2d(512, eps=1e-05, momentum=0.1, affine=True, track_running_stats=True)\n",
              "    (2): LeakyReLU(negative_slope=0.01)\n",
              "    (3): MaxPool2d(kernel_size=2, stride=2, padding=0, dilation=1, ceil_mode=False)\n",
              "  )\n",
              "  (avg_pool): AvgPool2d(kernel_size=4, stride=4, padding=0)\n",
              "  (fc1): Linear(in_features=512, out_features=64, bias=True)\n",
              "  (fc2): Linear(in_features=64, out_features=2, bias=True)\n",
              ")"
            ]
          },
          "metadata": {},
          "execution_count": 28
        }
      ]
    },
    {
      "cell_type": "markdown",
      "source": [
        "### 모델 훈련\n",
        " - 훈련에 앞서, 손실 함수와 옵티마이저 정의"
      ],
      "metadata": {
        "id": "pKv1ajMow8BG"
      }
    },
    {
      "cell_type": "markdown",
      "source": [
        "#### 손실 함수 설정\n",
        " - 신경망 모델 훈련은 가중치를 갱신하는 작업\n",
        " - 가중치 갱신 : 예측값과 실제값의 손실이 작아지는 방향\n",
        " - 이때 손실값을 구하는 함수가 손실함수"
      ],
      "metadata": {
        "id": "Qh-OGAk_xCvQ"
      }
    },
    {
      "cell_type": "code",
      "source": [
        "# 손실 함수\n",
        "criterion = nn.CrossEntropyLoss() # 교차 엔트로피 손실함수"
      ],
      "metadata": {
        "id": "4ak-U4ZTwCfp"
      },
      "execution_count": 31,
      "outputs": []
    },
    {
      "cell_type": "markdown",
      "source": [
        "#### 옵티마이저 설정\n",
        " - 최적 가중치를 찾아주는 알고리즘\n",
        " - 기본 옵티마이저 : SGD(확률적 경사 하강법 이용)\n",
        " - Adamax : Adam의 개선버전(항상 나은 성능을 보장하지는 않음)"
      ],
      "metadata": {
        "id": "Jl3DVOBSxbGz"
      }
    },
    {
      "cell_type": "code",
      "source": [
        "# 옵티마이저\n",
        "optimizer = torch.optim.Adamax(model.parameters(), lr=0.00006)\n",
        "# 모델이 가진 파라미터들을 전달, lr은 학습률"
      ],
      "metadata": {
        "id": "ShKvIAfPxYOp"
      },
      "execution_count": 33,
      "outputs": []
    },
    {
      "cell_type": "markdown",
      "source": [
        "#### 모델 훈련(이미지용 딥러닝 모델)\n",
        "\n",
        " - 1.데이터 로더에서 배치 크기만큼 데이터 불러옴\n",
        " - 2.불러온 이미지 데이터와 타깃값 데이터를 device에 할당\n",
        " - 3.옵티마이저 내 기울기 초기화\n",
        " - 4.신경망 모델에 입력 데이터(이미지) 전달, 순전파하여 출력값(예측값) 구함\n",
        " - 5.예측값과 실제 타깃값을 비교해 손실 계산\n",
        " - 6.손실을 기반으로 역전파 수행\n",
        " - 7.역전파로 구한 기울기 활용해 가중치 갱신\n",
        " - 8.[1~7] 절차를 반복 횟수만큼 되풀이\n",
        " - 9.[1~8] 절차를 에폭만큼 되풀이\n"
      ],
      "metadata": {
        "id": "yKlUO59ix7vg"
      }
    },
    {
      "cell_type": "markdown",
      "source": [
        "![epoch_batch_iteration_1.PNG](data:image/png;base64,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)"
      ],
      "metadata": {
        "id": "EkKV9SiBzLKC"
      }
    },
    {
      "cell_type": "markdown",
      "source": [
        "![epoch_batch_iteration_2.PNG](data:image/png;base64,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)"
      ],
      "metadata": {
        "id": "cZneWztPzMxe"
      }
    },
    {
      "cell_type": "code",
      "source": [
        "epochs = 20 # 총 에폭 : 이전번의 epoch를 통해 train데이터로 \"학습된 model로 다시 학습\"하는 것\n",
        "\n",
        "# 총 에폭만큼 반복\n",
        "for epoch in range(epochs):\n",
        "    epoch_loss = 0  # 에폭별 손실값 초기화\n",
        "\n",
        "    # '반복 횟수(Iterations)'만큼 반복 : 이전번의 batch를 통해 학습된 model의 가중치를 갱신하는 것\n",
        "    for images, labels in loader_train: # 데이터 로더는 하나의 배치를 한 묶음으로 처리\n",
        "    # 이미지, 레이블 데이터 미니배치를 장비에 할당\n",
        "        images = images.to(device)\n",
        "        labels = labels.to(device)\n",
        "\n",
        "        # 옵티마이저 내 기울기(dloss/dx) 초기화(매 배치 마다)\n",
        "        optimizer.zero_grad()\n",
        "        # 순전파 : 이미지 데이터를 신경망 모델의 입력값으로 사용해 출력값 계산\n",
        "        outputs = model(images)\n",
        "        # 손실 함수를 활용해 outputs(예측값)와 labels(실제값)의 손실값 계산\n",
        "        loss = criterion(outputs, labels)\n",
        "        # 현재 배치(해당 Iteration)에서 손실 추가\n",
        "        epoch_loss += loss.item()\n",
        "        loss.backward() # 역전파 수행 : 기울기(.grad 속성)을 계산 후 저장\n",
        "        # 가중치 갱신\n",
        "        optimizer.step() # 새로운 가중치 = 기존 가중치 - (학습률 X 기울기)\n",
        "        \n",
        "\n",
        "    # 훈련 데이터 손실값 출력() : 하나의 에폭이 끝날때 마다\n",
        "    print(f'에폭[{epoch+1}/{epochs}] - 손실값: {epoch_loss/len(loader_train):.4f}')"
      ],
      "metadata": {
        "id": "KkqtXqcZxrWO",
        "outputId": "de0959dc-090a-4b60-b987-64472b6b023b",
        "colab": {
          "base_uri": "https://localhost:8080/"
        }
      },
      "execution_count": 34,
      "outputs": [
        {
          "output_type": "stream",
          "name": "stdout",
          "text": [
            "에폭[1/20] - 손실값: 0.1323\n",
            "에폭[2/20] - 손실값: 0.0720\n",
            "에폭[3/20] - 손실값: 0.0557\n",
            "에폭[4/20] - 손실값: 0.0462\n",
            "에폭[5/20] - 손실값: 0.0406\n",
            "에폭[6/20] - 손실값: 0.0361\n",
            "에폭[7/20] - 손실값: 0.0313\n",
            "에폭[8/20] - 손실값: 0.0291\n",
            "에폭[9/20] - 손실값: 0.0286\n",
            "에폭[10/20] - 손실값: 0.0272\n",
            "에폭[11/20] - 손실값: 0.0254\n",
            "에폭[12/20] - 손실값: 0.0246\n",
            "에폭[13/20] - 손실값: 0.0228\n",
            "에폭[14/20] - 손실값: 0.0216\n",
            "에폭[15/20] - 손실값: 0.0208\n",
            "에폭[16/20] - 손실값: 0.0202\n",
            "에폭[17/20] - 손실값: 0.0188\n",
            "에폭[18/20] - 손실값: 0.0170\n",
            "에폭[19/20] - 손실값: 0.0173\n",
            "에폭[20/20] - 손실값: 0.0165\n"
          ]
        }
      ]
    },
    {
      "cell_type": "markdown",
      "source": [
        " - backward() 메소드\n",
        "\n",
        "  > Require_grad=True로 설정된 모든 텐서들에 대해 gradient를 계산\n",
        "\n",
        "  > backpropagation에서 gradient를 계산하는 첫 starting point가 되는 값이 loss 값\n",
        "\n",
        "  > 이 loss값을 모든 가중치들(parameters; weight and bias)에 대해서 미분을 계산\n",
        "\n",
        "  > gradient 계산이 시작되는 지점인 loss 변수에 적용 : loss.backward()\n",
        "\n",
        "  > backward() 메소드는 gradient를 구하려고 하는 변수들 (requires_grad = True로 인자를 전달한 변수들)에 대해 DCG에 차곡 차곡 neural net의 계산 흐름을 쌓게 된다.\n",
        "\n",
        "  > 여기서, x_train, y_train은 DCG에 포함 되지 않는다는 것을 명심하자. 우리는 requires_grad=False로 설정한다.\n",
        "\n",
        "  [링크 텍스트](https://velog.io/@jkl133/pytorch%EC%9D%98-autograd%EC%97%90-%EB%8C%80%ED%95%B4-%EC%95%8C%EC%95%84%EB%B3%B4%EC%9E%90)"
      ],
      "metadata": {
        "id": "8Witpz96eo9I"
      }
    },
    {
      "cell_type": "markdown",
      "source": [
        " - .grad 어트리뷰트\n",
        "\n",
        "  > 가중치(w, b).grad : gradient 실제값 확인\n",
        "\n",
        "  > gradient들은 축적 됨(+= 연산)\n",
        "\n",
        "  > 문제점 : 현재의 loss값에 해당하는 gradient를 사용해서 parameter들을 업데이트 해야하는데, gradient들이 축적되어 버리면(default로 구현되있음)?\n",
        "   - 컴퓨터 메모리 자원을 고려한 알고리즘"
      ],
      "metadata": {
        "id": "R5fWuLMBgkbz"
      }
    },
    {
      "cell_type": "markdown",
      "source": [
        " - zero_() 메소드\n",
        "\n",
        "  >gradient는 축적되기 때문에, gradient를 통해 가중치를 업데이트한 후 다음으로 넘어가기 전에 zero_() 메소드를 통해 0으로 만들어 줘야함 : w.grad.zero_()\n",
        "   - pytorch에서 메소드 이름뒤에 _가 들어가면 in_place 의미 : 메소드를 적용한 결과값으로 곧바로 해당 변수를 바꾼다"
      ],
      "metadata": {
        "id": "tBnESUuHhvYw"
      }
    },
    {
      "cell_type": "markdown",
      "source": [
        " - no_grad() 메소드\n",
        "\n",
        "  > 모델이 validation하는 동안 gradient를 계산하지 않도록 함\n",
        "  "
      ],
      "metadata": {
        "id": "CD7OMnm4imQI"
      }
    },
    {
      "cell_type": "markdown",
      "source": [
        "### 성능 검증\n",
        " - 검증 데이터를 이용해 평가지표인 ROC AUC 값 확인"
      ],
      "metadata": {
        "id": "aFfL6_QAj-VU"
      }
    },
    {
      "cell_type": "code",
      "source": [
        "from sklearn.metrics import roc_auc_score\n",
        "\n",
        "# 실제'값'과 예측'확률'을 담을 리스트 초기화\n",
        "true_list = []\n",
        "preds_list = []"
      ],
      "metadata": {
        "id": "0bc5kTVDz-oX"
      },
      "execution_count": 36,
      "outputs": []
    },
    {
      "cell_type": "code",
      "source": [
        "model.eval() # (훈련된)모델을 평가 상태로 설정\n",
        "\n",
        "with torch.no_grad(): # 기울기 계산 비활성화\n",
        "    for images, labels in loader_valid: # 전체데이터에서 10%가 검증데이터\n",
        "\n",
        "    # 이미지, 레이블 데이터 미니배치를 장비에 할당\n",
        "        images = images.to(device)\n",
        "        labels = labels.to(device)\n",
        "\n",
        "        # 순전파 : 이미지 데이터(검증)를 신경망 모델(훈련된)의 입력값으로 사용해 출력값 계산(예측값)\n",
        "        outputs = model(images)  # shape -> (32, 2) : 배치크기:32, 타깃값:2\n",
        "        preds = torch.softmax(outputs.cpu(), dim=1)[:, 1] # 타깃값이 1일 확률\n",
        "        true = labels.cpu()\n",
        "        # torch.softmax() : 타깃값 0, 1 각각의 순전파 출력값을 각각의 확률로 변환\n",
        "        # ouputs.cpu() : roc_auc_score()는 파이토치가 아닌 사이킷런 함수(GPU사용 불가), ouputs,labels 데이터를 CPU로 이동\n",
        "        # dim=1 : 열들(dim=1)의 합이 1이 되도록\n",
        "        # [:, 1] : 타깃값 1일 확률, 즉 이미지가 선인장을 포함할 확률에 해당하는 열\n",
        "\n",
        "        # 예측 확률과 실제 값을 리스트에 추가\n",
        "        preds_list.extend(preds)\n",
        "        true_list.extend(true)\n",
        "\n",
        "# 검증 데이터 ROC AUC 점수 계산\n",
        "print(f'검증 데이터 ROC AUC : {roc_auc_score(true_list, preds_list):.4f}')"
      ],
      "metadata": {
        "id": "sgp3IXsvdvvA",
        "outputId": "18b43add-38a0-4a4a-8b2c-a83e7a9a30c6",
        "colab": {
          "base_uri": "https://localhost:8080/"
        }
      },
      "execution_count": 37,
      "outputs": [
        {
          "output_type": "stream",
          "name": "stdout",
          "text": [
            "검증 데이터 ROC AUC : 0.9996\n"
          ]
        }
      ]
    },
    {
      "cell_type": "markdown",
      "source": [
        " - 베이스라인의 ROC_AUC는 0.9900\n",
        " - 성능개선 이후 0.9996(거의 1에 근접)"
      ],
      "metadata": {
        "id": "mj4ahumrcki_"
      }
    },
    {
      "cell_type": "markdown",
      "source": [
        "![list_append.PNG](data:image/png;base64,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)"
      ],
      "metadata": {
        "id": "lUeGcsi5oVbr"
      }
    },
    {
      "cell_type": "markdown",
      "source": [
        "### 예측 및 결과 제출\n",
        " - 테스트 데이터를 담은 데이터셋과 데이터로더 준비"
      ],
      "metadata": {
        "id": "E7zRc1Tu9cp5"
      }
    },
    {
      "cell_type": "code",
      "source": [
        "dataset_test = ImageDataset(df=submission, img_dir='test/', transform=transform_test)\n",
        "loader_test = DataLoader(dataset=dataset_test, batch_size=32, shuffle=False)"
      ],
      "metadata": {
        "id": "F5EqnaV59jeD"
      },
      "execution_count": 38,
      "outputs": []
    },
    {
      "cell_type": "markdown",
      "source": [
        "#### 예측\n",
        " - 테스트 데이터에서 타깃값이 1일 확률 예측"
      ],
      "metadata": {
        "id": "seqG8JD0-ItB"
      }
    },
    {
      "cell_type": "code",
      "source": [
        "model.eval() # 모델을 평가/예측 상태로 설정\n",
        "\n",
        "preds = []  # 타깃 예측값 저장용 리스트 초기화\n",
        "\n",
        "with torch.no_grad():   # 기울기 계산 비활성화\n",
        "    for images, _ in loader_test:   # 테스트 데이터에는 타깃값이 없어서 할당X\n",
        "        # 이미지 데이터 미니배치를 장비에 할당\n",
        "        images = images.to(device)\n",
        "        # 순전파 : 이미지 데이터를 신경망 모델의 입력값으로 사용해 출력값 계산\n",
        "        outputs = model(images)\n",
        "        # 타깃값이 1일 확률\n",
        "        preds_part = torch.softmax(outputs.cpu(), dim=1)[:, 1].tolist() # kaggle 제출용은 tensor타입 불가\n",
        "        preds.extend(preds_part)\n"
      ],
      "metadata": {
        "id": "cvjukDny-Qoa"
      },
      "execution_count": 39,
      "outputs": []
    },
    {
      "cell_type": "code",
      "source": [
        "submission['has_cactus'] = preds\n",
        "submission['has_cactus']"
      ],
      "metadata": {
        "id": "D16EnwyO_9Kp",
        "outputId": "73911ebd-1d91-4288-be95-4bd3f4a6fb07",
        "colab": {
          "base_uri": "https://localhost:8080/"
        }
      },
      "execution_count": 40,
      "outputs": [
        {
          "output_type": "execute_result",
          "data": {
            "text/plain": [
              "0       0.999969\n",
              "1       1.000000\n",
              "2       0.001541\n",
              "3       0.008245\n",
              "4       0.425724\n",
              "          ...   \n",
              "3995    0.999838\n",
              "3996    1.000000\n",
              "3997    0.999994\n",
              "3998    0.999999\n",
              "3999    0.999929\n",
              "Name: has_cactus, Length: 4000, dtype: float64"
            ]
          },
          "metadata": {},
          "execution_count": 40
        }
      ]
    },
    {
      "cell_type": "markdown",
      "source": [
        " - tensor타입 제출 불가 : tolist()"
      ],
      "metadata": {
        "id": "C-AwOcWBAT19"
      }
    },
    {
      "cell_type": "code",
      "source": [
        "submission['has_cactus'] = preds\n",
        "submission.to_csv('submission.csv', index=False)"
      ],
      "metadata": {
        "id": "94Jc3FwAAQ1W"
      },
      "execution_count": 41,
      "outputs": []
    },
    {
      "cell_type": "markdown",
      "source": [
        "#### 한 걸음 더\n",
        " - 제공된 훈련데이터를 9:1로 나눠 9만큼만으로 모델 훈련 했음\n",
        " - 1에 해당하는 데이터를 검증용으로만 사용 했음\n",
        " - **훈련 데이터 전체를 훈련하면 성능 향상**"
      ],
      "metadata": {
        "id": "CArt1PvJddVp"
      }
    }
  ],
  "metadata": {
    "colab": {
      "collapsed_sections": [],
      "name": "Colaboratory에 오신 것을 환영합니다",
      "provenance": [],
      "include_colab_link": true
    },
    "kernelspec": {
      "display_name": "Python 3",
      "name": "python3"
    },
    "gpuClass": "standard",
    "accelerator": "GPU"
  },
  "nbformat": 4,
  "nbformat_minor": 0
}